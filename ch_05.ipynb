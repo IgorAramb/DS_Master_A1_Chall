{
 "cells": [
  {
   "cell_type": "markdown",
   "metadata": {
    "collapsed": true
   },
   "source": [
    "## Write a Web Service\n",
    "\n",
    "Wrap the output of the second exercise in a web service that returns the data in JSON format (instead of printing to the standard output).\n",
    "\n",
    "The web service should accept a parameter n>0. For the top 10 airports, n is 10. For the X top airports, n is X \n"
   ]
  },
  {
   "cell_type": "code",
   "execution_count": 1,
   "metadata": {
    "collapsed": true
   },
   "outputs": [
    {
     "name": "stdout",
     "output_type": "stream",
     "text": [
      "0\n",
      "1\n",
      "2\n",
      "3\n",
      "4\n",
      "5\n",
      "6\n",
      "7\n",
      "8\n",
      "9\n",
      "10\n",
      "CPU times: user 3min 33s, sys: 1.21 s, total: 3min 34s\n",
      "Wall time: 3min 35s\n"
     ]
    }
   ],
   "source": [
    "%%time\n",
    "import pandas as pd\n",
    "path='/home/dsc/Data/challenge'\n",
    "file_name='bookings.csv.bz2'\n",
    "#file_name='bookings.csv.bz2'\n",
    "\n",
    "sum_chunks=pd.DataFrame()\n",
    "\n",
    "bc = pd.read_csv(path+'/'+file_name,sep='^',usecols=['arr_port','pax','year'], chunksize=1000000)\n",
    "bc = pd.read_csv(path+'/'+file_name,sep='^',usecols=['arr_port','pax','year'], chunksize=3000) #for sample file\n",
    "for i,chunk in enumerate(bc):\n",
    "    print i\n",
    "    chunk_airports=chunk[chunk['year'] == 2013][['arr_port','pax']].dropna().groupby(['arr_port']).sum().reset_index()\n",
    "    sum_chunks=sum_chunks.append(chunk_airports)\n",
    "    \n",
    "#topairports=sum_chunks.groupby('arr_port').pax.sum().sort_values(ascending=False).reset_index().head(10) \n",
    "\n",
    "#we are going to need this for the web service so we'll put it without top10\n",
    "topairports=sum_chunks.groupby('arr_port').pax.sum().sort_values(ascending=False).reset_index() \n",
    "\n",
    "from GeoBases import GeoBase\n",
    "geoDict = GeoBase(data='ori_por', verbose=False)\n",
    "\n",
    "allairports['arr_port']=allairports.arr_port.map(lambda x: x.strip())\n",
    "allairports['Airport Name']=allairports.arr_port.map(lambda x: geoDict.get(x)['name'])\n",
    "allairports.to_csv('allairports.csv',sep='^', index=False)\n",
    "\n",
    "topairports=allairports.head(10)"
   ]
  },
  {
   "cell_type": "markdown",
   "metadata": {},
   "source": [
    "## Web Service"
   ]
  },
  {
   "cell_type": "raw",
   "metadata": {},
   "source": [
    "http://flask.pocoo.org/docs/0.10/quickstart/"
   ]
  },
  {
   "cell_type": "code",
   "execution_count": 1,
   "metadata": {
    "collapsed": false
   },
   "outputs": [],
   "source": [
    "from flask import Flask"
   ]
  },
  {
   "cell_type": "code",
   "execution_count": 2,
   "metadata": {
    "collapsed": true
   },
   "outputs": [],
   "source": [
    "app = Flask(\"My first web service\")\n",
    "@app.route('/hello', methods=['GET'])\n",
    "def get_hello():\n",
    "    return \"Hello DS from the service!\""
   ]
  },
  {
   "cell_type": "code",
   "execution_count": 3,
   "metadata": {
    "collapsed": false
   },
   "outputs": [],
   "source": [
    "app.run()"
   ]
  },
  {
   "cell_type": "code",
   "execution_count": 4,
   "metadata": {
    "collapsed": true
   },
   "outputs": [],
   "source": [
    "del app"
   ]
  },
  {
   "cell_type": "raw",
   "metadata": {},
   "source": [
    "http://127.0.0.1:5000/hello"
   ]
  },
  {
   "cell_type": "raw",
   "metadata": {},
   "source": [
    "HTTP (the protocol web applications are speaking) knows different methods for accessing URLs. By default, a route only answers to GET requests, but that can be changed by providing the methods argument to the route() decorator. "
   ]
  },
  {
   "cell_type": "raw",
   "metadata": {},
   "source": [
    "The HTTP method (also often called “the verb”) tells the server what the clients wants to do with the requested page."
   ]
  },
  {
   "cell_type": "raw",
   "metadata": {},
   "source": [
    "GET\n",
    "    The browser tells the server to just get the information stored on that page and send it. This is probably the most common method.\n",
    "\n",
    "HEAD\n",
    "    The browser tells the server to get the information, but it is only interested in the headers, not the content of the page. An application is supposed to handle that as if a GET request was received but to not deliver the actual content.\n",
    "    \n",
    "POST\n",
    "    The browser tells the server that it wants to post some new information to that URL and that the server must ensure the data is stored and only stored once. This is how HTML forms usually transmit data to the server.\n",
    "\n",
    "PUT\n",
    "    Similar to POST but the server might trigger the store procedure multiple times by overwriting the old values more than once. Now you might be asking why this is useful, but there are some good reasons to do it this way. Consider that the connection is lost during transmission: in this situation a system between the browser and the server might receive the request safely a second time without breaking things. With POST that would not be possible because it must only be triggered once.\n",
    "\n",
    "DELETE\n",
    "    Remove the information at the given location.\n",
    "\n",
    "OPTIONS\n",
    "    Provides a quick way for a client to figure out which methods are supported by this URL. Starting with Flask 0.6, this is implemented for you automatically. "
   ]
  },
  {
   "cell_type": "code",
   "execution_count": 6,
   "metadata": {
    "collapsed": true
   },
   "outputs": [
    {
     "name": "stdout",
     "output_type": "stream",
     "text": [
      "total 91732\r\n",
      "-rw-rw-r--. 1 dsc dsc    73326 May  7 07:11 all_airports.csv\r\n",
      "drwxrwxr-x. 2 dsc dsc     4096 May  6 17:01 \u001b[0m\u001b[01;34mbackup\u001b[0m/\r\n",
      "-rw-rw-r--. 1 dsc dsc 75836317 May  6 07:08 \u001b[01;31mbookings_wn_dup.csv.bz2\u001b[0m\r\n",
      "-rw-rw-r--. 1 dsc dsc    12386 May  6 18:04 ch_01-Empty.ipynb\r\n",
      "-rw-rw-r--. 1 dsc dsc    14580 May  5 11:57 ch_01.ipynb\r\n",
      "-rw-rw-r--. 1 dsc dsc    74467 May  7 07:16 ch_02-Empty.ipynb\r\n",
      "-rw-rw-r--. 1 dsc dsc   242078 May  6 14:13 ch_02.ipynb\r\n",
      "-rw-rw-r--. 1 dsc dsc    10832 May  5 23:58 ch_03-Empty.ipynb\r\n",
      "-rw-rw-r--. 1 dsc dsc   332172 May  6 12:27 ch_03.ipynb\r\n",
      "-rw-rw-r--. 1 dsc dsc     8019 May  6 12:19 ch_04-Empty.ipynb\r\n",
      "-rw-rw-r--. 1 dsc dsc   119881 May  6 12:36 ch_04.ipynb\r\n",
      "-rw-rw-r--. 1 dsc dsc     7194 May  5 11:57 ch_05_b.ipynb\r\n",
      "-rw-rw-r--. 1 dsc dsc    12100 May  7 07:18 ch_05.ipynb\r\n",
      "drwxrwxr-x. 2 dsc dsc     4096 May  5 11:57 \u001b[01;34mDaniPythonClass\u001b[0m/\r\n",
      "drwxrwxr-x. 3 dsc dsc     4096 May  5 11:57 \u001b[01;34mDaniPythonClassWorking\u001b[0m/\r\n",
      "drwxrwxr-x. 2 dsc dsc     4096 May  5 11:57 \u001b[01;34mIsraChall\u001b[0m/\r\n",
      "-rw-rw-r--. 1 dsc dsc    19978 May  6 11:45 playground.ipynb\r\n",
      "-rw-rw-r--. 1 dsc dsc       20 May  5 11:57 README.md\r\n",
      "-rw-rw-r--. 1 dsc dsc     7129 May  5 11:57 salabahter.txt\r\n",
      "-rw-rw-r--. 1 dsc dsc 17112287 May  6 07:40 \u001b[01;31msearches_wn_dup.csv.bz2\u001b[0m\r\n"
     ]
    }
   ],
   "source": [
    "ls -l"
   ]
  },
  {
   "cell_type": "code",
   "execution_count": 7,
   "metadata": {
    "collapsed": false
   },
   "outputs": [
    {
     "data": {
      "text/html": [
       "<div>\n",
       "<table border=\"1\" class=\"dataframe\">\n",
       "  <thead>\n",
       "    <tr style=\"text-align: right;\">\n",
       "      <th></th>\n",
       "      <th>arr_port</th>\n",
       "      <th>pax</th>\n",
       "      <th>Airport Name</th>\n",
       "    </tr>\n",
       "  </thead>\n",
       "  <tbody>\n",
       "    <tr>\n",
       "      <th>0</th>\n",
       "      <td>LHR</td>\n",
       "      <td>88809</td>\n",
       "      <td>London Heathrow Airport</td>\n",
       "    </tr>\n",
       "    <tr>\n",
       "      <th>1</th>\n",
       "      <td>MCO</td>\n",
       "      <td>70930</td>\n",
       "      <td>Orlando International Airport</td>\n",
       "    </tr>\n",
       "    <tr>\n",
       "      <th>2</th>\n",
       "      <td>LAX</td>\n",
       "      <td>70530</td>\n",
       "      <td>Los Angeles International Airport</td>\n",
       "    </tr>\n",
       "    <tr>\n",
       "      <th>3</th>\n",
       "      <td>LAS</td>\n",
       "      <td>69630</td>\n",
       "      <td>Mc Carran International Airport</td>\n",
       "    </tr>\n",
       "    <tr>\n",
       "      <th>4</th>\n",
       "      <td>JFK</td>\n",
       "      <td>66270</td>\n",
       "      <td>John F Kennedy International Airport</td>\n",
       "    </tr>\n",
       "  </tbody>\n",
       "</table>\n",
       "</div>"
      ],
      "text/plain": [
       "  arr_port    pax                          Airport Name\n",
       "0      LHR  88809               London Heathrow Airport\n",
       "1      MCO  70930         Orlando International Airport\n",
       "2      LAX  70530     Los Angeles International Airport\n",
       "3      LAS  69630       Mc Carran International Airport\n",
       "4      JFK  66270  John F Kennedy International Airport"
      ]
     },
     "execution_count": 7,
     "metadata": {},
     "output_type": "execute_result"
    }
   ],
   "source": [
    "import pandas as pd\n",
    "top=pd.read_csv('all_airports.csv',sep='^')\n",
    "top.head()"
   ]
  },
  {
   "cell_type": "code",
   "execution_count": 31,
   "metadata": {
    "collapsed": false
   },
   "outputs": [
    {
     "data": {
      "text/plain": [
       "'{\"arr_port\":{\"0\":\"LHR\",\"1\":\"MCO\",\"2\":\"LAX\",\"3\":\"LAS\",\"4\":\"JFK\",\"5\":\"CDG\",\"6\":\"BKK\",\"7\":\"MIA\",\"8\":\"SFO\",\"9\":\"DXB\",\"10\":\"ORD\",\"11\":\"FCO\",\"12\":\"IST\",\"13\":\"DFW\",\"14\":\"CUN\"},\"pax\":{\"0\":88809.0,\"1\":70930.0,\"2\":70530.0,\"3\":69630.0,\"4\":66270.0,\"5\":64490.0,\"6\":59460.0,\"7\":58150.0,\"8\":58000.0,\"9\":55590.0,\"10\":53200.0,\"11\":45120.0,\"12\":43850.0,\"13\":42420.0,\"14\":42000.0},\"Airport Name\":{\"0\":\"London Heathrow Airport\",\"1\":\"Orlando International Airport\",\"2\":\"Los Angeles International Airport\",\"3\":\"Mc Carran International Airport\",\"4\":\"John F Kennedy International Airport\",\"5\":\"Paris - Charles-de-Gaulle\",\"6\":\"Suvarnabhumi\",\"7\":\"Miami International Airport\",\"8\":\"San Francisco International Airport\",\"9\":\"Dubai International Airport\",\"10\":\"Chicago O\\'Hare International Airport\",\"11\":\"Leonardo da Vinci\\\\u2013Fiumicino Airport\",\"12\":\"Istanbul \\\\/ Ataturk\",\"13\":\"Dallas\\\\/Fort Worth International Airport\",\"14\":\"Canc\\\\u00fan International Airport\"}}'"
      ]
     },
     "execution_count": 31,
     "metadata": {},
     "output_type": "execute_result"
    }
   ],
   "source": [
    "top.head(15).to_json()"
   ]
  },
  {
   "cell_type": "raw",
   "metadata": {},
   "source": [
    "http://jsonprettyprint.com/\n",
    "https://jsonformatter.curiousconcept.com/"
   ]
  },
  {
   "cell_type": "code",
   "execution_count": 29,
   "metadata": {
    "collapsed": true
   },
   "outputs": [],
   "source": [
    "app2 = Flask(\"Top Airports\")\n",
    "@app2.route('/top/<int:n>',methods=['GET'])\n",
    "\n",
    "def get_top(n):\n",
    "    d = top.head(n)\n",
    "    return d.to_json()"
   ]
  },
  {
   "cell_type": "code",
   "execution_count": 30,
   "metadata": {
    "collapsed": false
   },
   "outputs": [],
   "source": [
    "app2.run()"
   ]
  },
  {
   "cell_type": "code",
   "execution_count": 9,
   "metadata": {
    "collapsed": true
   },
   "outputs": [],
   "source": [
    "del app2"
   ]
  },
  {
   "cell_type": "code",
   "execution_count": 10,
   "metadata": {
    "collapsed": false
   },
   "outputs": [],
   "source": [
    "app2 = Flask(\"Top Airports\")\n",
    "\n",
    "@app2.route('/top<int:n>',methods=['GET'])\n",
    "def get_top(n):\n",
    "    d = top.head(n)\n",
    "    return d.to_json()\n",
    "\n",
    "@app2.route('/', methods=['GET'])\n",
    "def get_hello():\n",
    "    return \"Hello from my second web service!\""
   ]
  },
  {
   "cell_type": "code",
   "execution_count": 12,
   "metadata": {
    "collapsed": false
   },
   "outputs": [],
   "source": [
    "app2.run()"
   ]
  },
  {
   "cell_type": "raw",
   "metadata": {
    "collapsed": false
   },
   "source": [
    "from werkzeug.serving import run_simple\n",
    "run_simple('localhost', 5000, app2)"
   ]
  },
  {
   "cell_type": "code",
   "execution_count": null,
   "metadata": {
    "collapsed": true
   },
   "outputs": [],
   "source": []
  },
  {
   "cell_type": "code",
   "execution_count": null,
   "metadata": {
    "collapsed": true
   },
   "outputs": [],
   "source": []
  },
  {
   "cell_type": "code",
   "execution_count": null,
   "metadata": {
    "collapsed": true
   },
   "outputs": [],
   "source": []
  },
  {
   "cell_type": "code",
   "execution_count": null,
   "metadata": {
    "collapsed": true
   },
   "outputs": [],
   "source": []
  },
  {
   "cell_type": "markdown",
   "metadata": {},
   "source": [
    "# Ostaci"
   ]
  },
  {
   "cell_type": "code",
   "execution_count": 2,
   "metadata": {
    "collapsed": false
   },
   "outputs": [
    {
     "data": {
      "text/plain": [
       "0    LHR     \n",
       "1    MCO     \n",
       "2    LAX     \n",
       "3    LAS     \n",
       "4    JFK     \n",
       "Name: arr_port, dtype: object"
      ]
     },
     "execution_count": 2,
     "metadata": {},
     "output_type": "execute_result"
    }
   ],
   "source": [
    "topairports.arr_port.head()"
   ]
  },
  {
   "cell_type": "code",
   "execution_count": 3,
   "metadata": {
    "collapsed": true
   },
   "outputs": [],
   "source": [
    "topairports2=topairports.copy()"
   ]
  },
  {
   "cell_type": "code",
   "execution_count": 5,
   "metadata": {
    "collapsed": false
   },
   "outputs": [
    {
     "data": {
      "text/plain": [
       "['LHR     ', 'MCO     ', 'LAX     ', 'LAS     ', 'JFK     ']"
      ]
     },
     "execution_count": 5,
     "metadata": {},
     "output_type": "execute_result"
    }
   ],
   "source": [
    "list(topairports2.arr_port.head())"
   ]
  },
  {
   "cell_type": "markdown",
   "metadata": {},
   "source": [
    "map= works element wise on series\n",
    "\n",
    "apply= works on row/columns of DF (def=columns; axis=1 => rows); works on DF of group by\n",
    "\n",
    "applymap = works element wise on DF"
   ]
  },
  {
   "cell_type": "code",
   "execution_count": 13,
   "metadata": {
    "collapsed": false
   },
   "outputs": [],
   "source": [
    "topairports2.arr_port=topairports2.arr_port.map(str.strip)"
   ]
  },
  {
   "cell_type": "code",
   "execution_count": 14,
   "metadata": {
    "collapsed": false
   },
   "outputs": [
    {
     "data": {
      "text/plain": [
       "['LHR', 'MCO', 'LAX', 'LAS', 'JFK']"
      ]
     },
     "execution_count": 14,
     "metadata": {},
     "output_type": "execute_result"
    }
   ],
   "source": [
    "list(topairports2.arr_port.head())"
   ]
  },
  {
   "cell_type": "code",
   "execution_count": 22,
   "metadata": {
    "collapsed": false
   },
   "outputs": [],
   "source": [
    "#topairports.pax=pd.to_numeric(topairports.pax)"
   ]
  },
  {
   "cell_type": "code",
   "execution_count": 28,
   "metadata": {
    "collapsed": false
   },
   "outputs": [],
   "source": [
    "topairports2.pax=topairports2.pax.map(lambda x:int(x))"
   ]
  },
  {
   "cell_type": "code",
   "execution_count": 48,
   "metadata": {
    "collapsed": true
   },
   "outputs": [],
   "source": [
    "topairports2.to_csv('top_airports.csv',sep='^', index=False)"
   ]
  },
  {
   "cell_type": "code",
   "execution_count": 14,
   "metadata": {
    "collapsed": true
   },
   "outputs": [],
   "source": [
    "def plus_one(x):\n",
    "    return x+1\n",
    "def sum_serie(x):\n",
    "    return sum(x)"
   ]
  },
  {
   "cell_type": "code",
   "execution_count": 10,
   "metadata": {
    "collapsed": true
   },
   "outputs": [],
   "source": [
    "a=pd.DataFrame({\"one\":[1,2,3,4],\n",
    "               \"two\":[2, 3, 4, 5]}, index=[5, 6, 7, 8])"
   ]
  },
  {
   "cell_type": "code",
   "execution_count": 11,
   "metadata": {
    "collapsed": false
   },
   "outputs": [
    {
     "data": {
      "text/html": [
       "<div>\n",
       "<table border=\"1\" class=\"dataframe\">\n",
       "  <thead>\n",
       "    <tr style=\"text-align: right;\">\n",
       "      <th></th>\n",
       "      <th>one</th>\n",
       "      <th>two</th>\n",
       "    </tr>\n",
       "  </thead>\n",
       "  <tbody>\n",
       "    <tr>\n",
       "      <th>5</th>\n",
       "      <td>1</td>\n",
       "      <td>2</td>\n",
       "    </tr>\n",
       "    <tr>\n",
       "      <th>6</th>\n",
       "      <td>2</td>\n",
       "      <td>3</td>\n",
       "    </tr>\n",
       "    <tr>\n",
       "      <th>7</th>\n",
       "      <td>3</td>\n",
       "      <td>4</td>\n",
       "    </tr>\n",
       "    <tr>\n",
       "      <th>8</th>\n",
       "      <td>4</td>\n",
       "      <td>5</td>\n",
       "    </tr>\n",
       "  </tbody>\n",
       "</table>\n",
       "</div>"
      ],
      "text/plain": [
       "   one  two\n",
       "5    1    2\n",
       "6    2    3\n",
       "7    3    4\n",
       "8    4    5"
      ]
     },
     "execution_count": 11,
     "metadata": {},
     "output_type": "execute_result"
    }
   ],
   "source": [
    "a"
   ]
  },
  {
   "cell_type": "code",
   "execution_count": 13,
   "metadata": {
    "collapsed": false
   },
   "outputs": [
    {
     "data": {
      "text/html": [
       "<div>\n",
       "<table border=\"1\" class=\"dataframe\">\n",
       "  <thead>\n",
       "    <tr style=\"text-align: right;\">\n",
       "      <th></th>\n",
       "      <th>one</th>\n",
       "      <th>two</th>\n",
       "    </tr>\n",
       "  </thead>\n",
       "  <tbody>\n",
       "    <tr>\n",
       "      <th>5</th>\n",
       "      <td>2</td>\n",
       "      <td>3</td>\n",
       "    </tr>\n",
       "    <tr>\n",
       "      <th>6</th>\n",
       "      <td>3</td>\n",
       "      <td>4</td>\n",
       "    </tr>\n",
       "    <tr>\n",
       "      <th>7</th>\n",
       "      <td>4</td>\n",
       "      <td>5</td>\n",
       "    </tr>\n",
       "    <tr>\n",
       "      <th>8</th>\n",
       "      <td>5</td>\n",
       "      <td>6</td>\n",
       "    </tr>\n",
       "  </tbody>\n",
       "</table>\n",
       "</div>"
      ],
      "text/plain": [
       "   one  two\n",
       "5    2    3\n",
       "6    3    4\n",
       "7    4    5\n",
       "8    5    6"
      ]
     },
     "execution_count": 13,
     "metadata": {},
     "output_type": "execute_result"
    }
   ],
   "source": [
    "a.applymap(plus_one)"
   ]
  },
  {
   "cell_type": "code",
   "execution_count": 15,
   "metadata": {
    "collapsed": false
   },
   "outputs": [
    {
     "data": {
      "text/plain": [
       "6"
      ]
     },
     "execution_count": 15,
     "metadata": {},
     "output_type": "execute_result"
    }
   ],
   "source": [
    "sum_serie([1,2,3])"
   ]
  },
  {
   "cell_type": "code",
   "execution_count": 17,
   "metadata": {
    "collapsed": false
   },
   "outputs": [
    {
     "data": {
      "text/plain": [
       "10"
      ]
     },
     "execution_count": 17,
     "metadata": {},
     "output_type": "execute_result"
    }
   ],
   "source": [
    "sum_serie(a['one'])"
   ]
  },
  {
   "cell_type": "code",
   "execution_count": 24,
   "metadata": {
    "collapsed": false
   },
   "outputs": [
    {
     "data": {
      "text/html": [
       "<div>\n",
       "<table border=\"1\" class=\"dataframe\">\n",
       "  <thead>\n",
       "    <tr style=\"text-align: right;\">\n",
       "      <th></th>\n",
       "      <th>one</th>\n",
       "      <th>two</th>\n",
       "    </tr>\n",
       "  </thead>\n",
       "  <tbody>\n",
       "    <tr>\n",
       "      <th>5</th>\n",
       "      <td>2</td>\n",
       "      <td>3</td>\n",
       "    </tr>\n",
       "    <tr>\n",
       "      <th>6</th>\n",
       "      <td>3</td>\n",
       "      <td>4</td>\n",
       "    </tr>\n",
       "    <tr>\n",
       "      <th>7</th>\n",
       "      <td>4</td>\n",
       "      <td>5</td>\n",
       "    </tr>\n",
       "    <tr>\n",
       "      <th>8</th>\n",
       "      <td>5</td>\n",
       "      <td>6</td>\n",
       "    </tr>\n",
       "  </tbody>\n",
       "</table>\n",
       "</div>"
      ],
      "text/plain": [
       "   one  two\n",
       "5    2    3\n",
       "6    3    4\n",
       "7    4    5\n",
       "8    5    6"
      ]
     },
     "execution_count": 24,
     "metadata": {},
     "output_type": "execute_result"
    }
   ],
   "source": [
    "a.apply(plus_one)"
   ]
  },
  {
   "cell_type": "code",
   "execution_count": 25,
   "metadata": {
    "collapsed": false
   },
   "outputs": [
    {
     "ename": "AttributeError",
     "evalue": "'DataFrame' object has no attribute 'map'",
     "output_type": "error",
     "traceback": [
      "\u001b[1;31m---------------------------------------------------------------------------\u001b[0m",
      "\u001b[1;31mAttributeError\u001b[0m                            Traceback (most recent call last)",
      "\u001b[1;32m<ipython-input-25-9b463676f02e>\u001b[0m in \u001b[0;36m<module>\u001b[1;34m()\u001b[0m\n\u001b[1;32m----> 1\u001b[1;33m \u001b[0ma\u001b[0m\u001b[1;33m.\u001b[0m\u001b[0mmap\u001b[0m\u001b[1;33m(\u001b[0m\u001b[0mplus_one\u001b[0m\u001b[1;33m)\u001b[0m\u001b[1;33m\u001b[0m\u001b[0m\n\u001b[0m",
      "\u001b[1;32m/home/dsc/anaconda2/lib/python2.7/site-packages/pandas/core/generic.pyc\u001b[0m in \u001b[0;36m__getattr__\u001b[1;34m(self, name)\u001b[0m\n\u001b[0;32m   2358\u001b[0m                 \u001b[1;32mreturn\u001b[0m \u001b[0mself\u001b[0m\u001b[1;33m[\u001b[0m\u001b[0mname\u001b[0m\u001b[1;33m]\u001b[0m\u001b[1;33m\u001b[0m\u001b[0m\n\u001b[0;32m   2359\u001b[0m             raise AttributeError(\"'%s' object has no attribute '%s'\" %\n\u001b[1;32m-> 2360\u001b[1;33m                                  (type(self).__name__, name))\n\u001b[0m\u001b[0;32m   2361\u001b[0m \u001b[1;33m\u001b[0m\u001b[0m\n\u001b[0;32m   2362\u001b[0m     \u001b[1;32mdef\u001b[0m \u001b[0m__setattr__\u001b[0m\u001b[1;33m(\u001b[0m\u001b[0mself\u001b[0m\u001b[1;33m,\u001b[0m \u001b[0mname\u001b[0m\u001b[1;33m,\u001b[0m \u001b[0mvalue\u001b[0m\u001b[1;33m)\u001b[0m\u001b[1;33m:\u001b[0m\u001b[1;33m\u001b[0m\u001b[0m\n",
      "\u001b[1;31mAttributeError\u001b[0m: 'DataFrame' object has no attribute 'map'"
     ]
    }
   ],
   "source": [
    "a.map(plus_one)"
   ]
  },
  {
   "cell_type": "code",
   "execution_count": 26,
   "metadata": {
    "collapsed": false
   },
   "outputs": [
    {
     "data": {
      "text/plain": [
       "5    2\n",
       "6    3\n",
       "7    4\n",
       "8    5\n",
       "Name: one, dtype: int64"
      ]
     },
     "execution_count": 26,
     "metadata": {},
     "output_type": "execute_result"
    }
   ],
   "source": [
    "a.one.map(plus_one)"
   ]
  },
  {
   "cell_type": "code",
   "execution_count": 27,
   "metadata": {
    "collapsed": false
   },
   "outputs": [
    {
     "ename": "TypeError",
     "evalue": "'numpy.int64' object is not iterable",
     "output_type": "error",
     "traceback": [
      "\u001b[1;31m---------------------------------------------------------------------------\u001b[0m",
      "\u001b[1;31mTypeError\u001b[0m                                 Traceback (most recent call last)",
      "\u001b[1;32m<ipython-input-27-41cf78b21517>\u001b[0m in \u001b[0;36m<module>\u001b[1;34m()\u001b[0m\n\u001b[1;32m----> 1\u001b[1;33m \u001b[0ma\u001b[0m\u001b[1;33m.\u001b[0m\u001b[0mone\u001b[0m\u001b[1;33m.\u001b[0m\u001b[0mmap\u001b[0m\u001b[1;33m(\u001b[0m\u001b[0msum_serie\u001b[0m\u001b[1;33m)\u001b[0m\u001b[1;33m\u001b[0m\u001b[0m\n\u001b[0m",
      "\u001b[1;32m/home/dsc/anaconda2/lib/python2.7/site-packages/pandas/core/series.pyc\u001b[0m in \u001b[0;36mmap\u001b[1;34m(self, arg, na_action)\u001b[0m\n\u001b[0;32m   2052\u001b[0m                                      index=self.index).__finalize__(self)\n\u001b[0;32m   2053\u001b[0m         \u001b[1;32melse\u001b[0m\u001b[1;33m:\u001b[0m\u001b[1;33m\u001b[0m\u001b[0m\n\u001b[1;32m-> 2054\u001b[1;33m             \u001b[0mmapped\u001b[0m \u001b[1;33m=\u001b[0m \u001b[0mmap_f\u001b[0m\u001b[1;33m(\u001b[0m\u001b[0mvalues\u001b[0m\u001b[1;33m,\u001b[0m \u001b[0marg\u001b[0m\u001b[1;33m)\u001b[0m\u001b[1;33m\u001b[0m\u001b[0m\n\u001b[0m\u001b[0;32m   2055\u001b[0m             return self._constructor(mapped,\n\u001b[0;32m   2056\u001b[0m                                      index=self.index).__finalize__(self)\n",
      "\u001b[1;32mpandas/src/inference.pyx\u001b[0m in \u001b[0;36mpandas.lib.map_infer (pandas/lib.c:62578)\u001b[1;34m()\u001b[0m\n",
      "\u001b[1;32m<ipython-input-14-cdb98ec0e2f0>\u001b[0m in \u001b[0;36msum_serie\u001b[1;34m(x)\u001b[0m\n\u001b[0;32m      2\u001b[0m     \u001b[1;32mreturn\u001b[0m \u001b[0mx\u001b[0m\u001b[1;33m+\u001b[0m\u001b[1;36m1\u001b[0m\u001b[1;33m\u001b[0m\u001b[0m\n\u001b[0;32m      3\u001b[0m \u001b[1;32mdef\u001b[0m \u001b[0msum_serie\u001b[0m\u001b[1;33m(\u001b[0m\u001b[0mx\u001b[0m\u001b[1;33m)\u001b[0m\u001b[1;33m:\u001b[0m\u001b[1;33m\u001b[0m\u001b[0m\n\u001b[1;32m----> 4\u001b[1;33m     \u001b[1;32mreturn\u001b[0m \u001b[0msum\u001b[0m\u001b[1;33m(\u001b[0m\u001b[0mx\u001b[0m\u001b[1;33m)\u001b[0m\u001b[1;33m\u001b[0m\u001b[0m\n\u001b[0m",
      "\u001b[1;31mTypeError\u001b[0m: 'numpy.int64' object is not iterable"
     ]
    }
   ],
   "source": [
    "a.one.map(sum_serie)"
   ]
  },
  {
   "cell_type": "code",
   "execution_count": 28,
   "metadata": {
    "collapsed": false
   },
   "outputs": [
    {
     "data": {
      "text/plain": [
       "one    10\n",
       "two    14\n",
       "dtype: int64"
      ]
     },
     "execution_count": 28,
     "metadata": {},
     "output_type": "execute_result"
    }
   ],
   "source": [
    "a.apply(sum_serie)"
   ]
  },
  {
   "cell_type": "code",
   "execution_count": null,
   "metadata": {
    "collapsed": true
   },
   "outputs": [],
   "source": []
  }
 ],
 "metadata": {
  "kernelspec": {
   "display_name": "Python 2",
   "language": "python",
   "name": "python2"
  },
  "language_info": {
   "codemirror_mode": {
    "name": "ipython",
    "version": 2
   },
   "file_extension": ".py",
   "mimetype": "text/x-python",
   "name": "python",
   "nbconvert_exporter": "python",
   "pygments_lexer": "ipython2",
   "version": "2.7.11"
  }
 },
 "nbformat": 4,
 "nbformat_minor": 0
}
