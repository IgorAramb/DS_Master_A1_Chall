{
 "cells": [
  {
   "cell_type": "markdown",
   "metadata": {
    "collapsed": true,
    "deletable": true,
    "editable": true
   },
   "source": [
    "## Top 10 arrival airports in the world in 2013 (using the bookings file)\n",
    "\n",
    "Arrival airport is the column arr_port. It is the IATA code for the airport\n",
    "\n",
    "To get the total number of passengers for an airport, you can sum the column pax, grouping by arr_port.\n",
    "\n",
    "Note that there is negative pax. That corresponds to cancelations. So to get the total number of passengers that have actually booked, you should sum including the negatives (that will remove the canceled bookings).\n",
    "\n",
    "Print the top 10 arrival airports in the standard output, including the number of passengers.\n",
    "\n",
    "Bonus point: Get the name of the city or airport corresponding to that airport (programatically, we suggest to have a look at GeoBases in Github)\n",
    "\n",
    "Bonus point: Solve this problem using pandas (instead of any other approach)\n"
   ]
  },
  {
   "cell_type": "raw",
   "metadata": {
    "deletable": true,
    "editable": true
   },
   "source": [
    "Get familiar with data\n",
    "Select the columns of interest\n",
    "What to do with NaN?\n",
    "\n",
    "Make action plan\n",
    "Develop the code that works with a sample\n",
    "\n",
    "Adjust the code to work with Big data\n",
    "Test big data approach on a sample\n",
    "\n",
    "Run program with big data\n",
    "\n",
    "(Bonus Point)"
   ]
  },
  {
   "cell_type": "code",
   "execution_count": 1,
   "metadata": {
    "collapsed": false,
    "deletable": true,
    "editable": true
   },
   "outputs": [
    {
     "name": "stdout",
     "output_type": "stream",
     "text": [
      "/home/dsc/Python/DS_Master_A1_Chall/master4\r\n"
     ]
    }
   ],
   "source": [
    "!pwd"
   ]
  },
  {
   "cell_type": "code",
   "execution_count": 3,
   "metadata": {
    "collapsed": false,
    "deletable": true,
    "editable": true
   },
   "outputs": [
    {
     "name": "stdout",
     "output_type": "stream",
     "text": [
      "/home/dsc/Data/challenge\n"
     ]
    }
   ],
   "source": [
    "cd ~/Data/challenge/"
   ]
  },
  {
   "cell_type": "code",
   "execution_count": 4,
   "metadata": {
    "collapsed": false,
    "deletable": true,
    "editable": true
   },
   "outputs": [
    {
     "name": "stdout",
     "output_type": "stream",
     "text": [
      "total 1020532\r\n",
      "-rw-rw-r--. 1 dsc dsc 554970628 Jan  4  2016 bookings.csv.bz2\r\n",
      "-rw-rw-r--  1 dsc dsc    535893 May 19 17:15 bookings.sample.csv.bz2\r\n",
      "-rw-rw-r--  1 dsc dsc   4232732 May 19 17:39 bookings.sample.csv.csv\r\n",
      "-rw-rw-r--. 1 dsc dsc 483188920 Jan  4  2016 searches.csv.bz2\r\n",
      "-rw-rw-r--  1 dsc dsc    244720 May 19 17:20 searches.sample.csv.bz2\r\n",
      "-rw-rw-r--  1 dsc dsc   1824927 May 19 17:39 searches.sample.csv.csv\r\n"
     ]
    }
   ],
   "source": [
    "!ls -l"
   ]
  },
  {
   "cell_type": "markdown",
   "metadata": {
    "deletable": true,
    "editable": true
   },
   "source": [
    "## 1) Get familiar with data"
   ]
  },
  {
   "cell_type": "markdown",
   "metadata": {
    "deletable": true,
    "editable": true
   },
   "source": [
    "### What if we dont want to read the whole file?"
   ]
  },
  {
   "cell_type": "raw",
   "metadata": {
    "deletable": true,
    "editable": true
   },
   "source": [
    "Options:\n",
    "1) prepare the sample\n",
    "2) read_csv with nrows option"
   ]
  },
  {
   "cell_type": "code",
   "execution_count": 6,
   "metadata": {
    "collapsed": false,
    "deletable": true,
    "editable": true
   },
   "outputs": [],
   "source": [
    "import pandas as pd"
   ]
  },
  {
   "cell_type": "code",
   "execution_count": 22,
   "metadata": {
    "collapsed": false,
    "deletable": true,
    "editable": true
   },
   "outputs": [],
   "source": [
    "#DON'T DO THIS!!!\n",
    "b = pd.read_csv('bookings.csv.bz2',sep='^')"
   ]
  },
  {
   "cell_type": "code",
   "execution_count": null,
   "metadata": {
    "collapsed": true
   },
   "outputs": [],
   "source": [
    "b = pd.read_csv('bookings.csv.bz2',sep='^', nrows=1000)"
   ]
  },
  {
   "cell_type": "code",
   "execution_count": 7,
   "metadata": {
    "collapsed": false,
    "deletable": true,
    "editable": true
   },
   "outputs": [],
   "source": [
    "b = pd.read_csv('bookings.sample.csv.bz2',sep='^', nrows=1000)"
   ]
  },
  {
   "cell_type": "code",
   "execution_count": null,
   "metadata": {
    "collapsed": true,
    "deletable": true,
    "editable": true
   },
   "outputs": [],
   "source": []
  },
  {
   "cell_type": "code",
   "execution_count": null,
   "metadata": {
    "collapsed": true
   },
   "outputs": [],
   "source": []
  },
  {
   "cell_type": "markdown",
   "metadata": {
    "deletable": true,
    "editable": true
   },
   "source": [
    "## Commands for obtaining data info:\n",
    "   "
   ]
  },
  {
   "cell_type": "markdown",
   "metadata": {},
   "source": [
    "Commands for obtaining data info:\n",
    "    b.shape  - object \n",
    "    b.info()\n",
    "\n",
    "    b.columns\n",
    "    b.columns.to_list()\n",
    "    list(b.columns)\n",
    "    \n",
    "    b.head() -function\n",
    "    b.sample()\n",
    "    \n",
    "    #pd.set_option('display.max_columns', 100)\n",
    "    pd.set_option('display.max_columns', None)\n",
    "    \n",
    "    b.describe()\n",
    "    b.describe(include='all')\n",
    "    df.dtypes\n",
    "    \n",
    "    b.isnull().sum()\n",
    "    non_null_counts = b.count()\n",
    "    "
   ]
  },
  {
   "cell_type": "code",
   "execution_count": 9,
   "metadata": {
    "collapsed": false,
    "deletable": true,
    "editable": true
   },
   "outputs": [
    {
     "data": {
      "text/plain": [
       "(1000, 38)"
      ]
     },
     "execution_count": 9,
     "metadata": {},
     "output_type": "execute_result"
    }
   ],
   "source": [
    "b.shape"
   ]
  },
  {
   "cell_type": "code",
   "execution_count": 10,
   "metadata": {
    "collapsed": true,
    "deletable": true,
    "editable": true
   },
   "outputs": [
    {
     "data": {
      "text/plain": [
       "Index([u'act_date           ', u'source', u'pos_ctry', u'pos_iata',\n",
       "       u'pos_oid  ', u'rloc          ', u'cre_date           ', u'duration',\n",
       "       u'distance', u'dep_port', u'dep_city', u'dep_ctry', u'arr_port',\n",
       "       u'arr_city', u'arr_ctry', u'lst_port', u'lst_city', u'lst_ctry',\n",
       "       u'brd_port', u'brd_city', u'brd_ctry', u'off_port', u'off_city',\n",
       "       u'off_ctry', u'mkt_port', u'mkt_city', u'mkt_ctry', u'intl',\n",
       "       u'route          ', u'carrier', u'bkg_class', u'cab_class',\n",
       "       u'brd_time           ', u'off_time           ', u'pax', u'year',\n",
       "       u'month', u'oid      '],\n",
       "      dtype='object')"
      ]
     },
     "execution_count": 10,
     "metadata": {},
     "output_type": "execute_result"
    }
   ],
   "source": [
    "b.columns"
   ]
  },
  {
   "cell_type": "code",
   "execution_count": 15,
   "metadata": {
    "collapsed": true,
    "deletable": true,
    "editable": true
   },
   "outputs": [
    {
     "data": {
      "text/plain": [
       "['act_date           ',\n",
       " 'source',\n",
       " 'pos_ctry',\n",
       " 'pos_iata',\n",
       " 'pos_oid  ',\n",
       " 'rloc          ',\n",
       " 'cre_date           ',\n",
       " 'duration',\n",
       " 'distance',\n",
       " 'dep_port',\n",
       " 'dep_city',\n",
       " 'dep_ctry',\n",
       " 'arr_port',\n",
       " 'arr_city',\n",
       " 'arr_ctry',\n",
       " 'lst_port',\n",
       " 'lst_city',\n",
       " 'lst_ctry',\n",
       " 'brd_port',\n",
       " 'brd_city',\n",
       " 'brd_ctry',\n",
       " 'off_port',\n",
       " 'off_city',\n",
       " 'off_ctry',\n",
       " 'mkt_port',\n",
       " 'mkt_city',\n",
       " 'mkt_ctry',\n",
       " 'intl',\n",
       " 'route          ',\n",
       " 'carrier',\n",
       " 'bkg_class',\n",
       " 'cab_class',\n",
       " 'brd_time           ',\n",
       " 'off_time           ',\n",
       " 'pax',\n",
       " 'year',\n",
       " 'month',\n",
       " 'oid      ']"
      ]
     },
     "execution_count": 15,
     "metadata": {},
     "output_type": "execute_result"
    }
   ],
   "source": [
    "b.columns.tolist()"
   ]
  },
  {
   "cell_type": "code",
   "execution_count": 16,
   "metadata": {
    "collapsed": false,
    "deletable": true,
    "editable": true
   },
   "outputs": [
    {
     "data": {
      "text/html": [
       "<div>\n",
       "<table border=\"1\" class=\"dataframe\">\n",
       "  <thead>\n",
       "    <tr style=\"text-align: right;\">\n",
       "      <th></th>\n",
       "      <th>act_date</th>\n",
       "      <th>source</th>\n",
       "      <th>pos_ctry</th>\n",
       "      <th>pos_iata</th>\n",
       "      <th>pos_oid</th>\n",
       "      <th>rloc</th>\n",
       "      <th>cre_date</th>\n",
       "      <th>duration</th>\n",
       "      <th>distance</th>\n",
       "      <th>dep_port</th>\n",
       "      <th>...</th>\n",
       "      <th>route</th>\n",
       "      <th>carrier</th>\n",
       "      <th>bkg_class</th>\n",
       "      <th>cab_class</th>\n",
       "      <th>brd_time</th>\n",
       "      <th>off_time</th>\n",
       "      <th>pax</th>\n",
       "      <th>year</th>\n",
       "      <th>month</th>\n",
       "      <th>oid</th>\n",
       "    </tr>\n",
       "  </thead>\n",
       "  <tbody>\n",
       "    <tr>\n",
       "      <th>0</th>\n",
       "      <td>2013-03-05 00:00:00</td>\n",
       "      <td>1A</td>\n",
       "      <td>DE</td>\n",
       "      <td>a68dd7ae953c8acfb187a1af2dcbe123</td>\n",
       "      <td>1a11ae49fcbf545fd2afc1a24d88d2b7</td>\n",
       "      <td>ea65900e72d71f4626378e2ebd298267</td>\n",
       "      <td>2013-02-22 00:00:00</td>\n",
       "      <td>1708</td>\n",
       "      <td>0</td>\n",
       "      <td>ZRH</td>\n",
       "      <td>...</td>\n",
       "      <td>LHRZRH</td>\n",
       "      <td>VI</td>\n",
       "      <td>T</td>\n",
       "      <td>Y</td>\n",
       "      <td>2013-03-07 08:50:00</td>\n",
       "      <td>2013-03-07 11:33:37</td>\n",
       "      <td>-1</td>\n",
       "      <td>2013</td>\n",
       "      <td>3</td>\n",
       "      <td>NULL</td>\n",
       "    </tr>\n",
       "    <tr>\n",
       "      <th>1</th>\n",
       "      <td>2013-03-26 00:00:00</td>\n",
       "      <td>1A</td>\n",
       "      <td>US</td>\n",
       "      <td>e612b9eeeee6f17f42d9b0d3b79e75ca</td>\n",
       "      <td>7437560d8f276d6d05eeb806d9e7edee</td>\n",
       "      <td>737295a86982c941f1c2da9a46a14043</td>\n",
       "      <td>2013-03-26 00:00:00</td>\n",
       "      <td>135270</td>\n",
       "      <td>0</td>\n",
       "      <td>SAL</td>\n",
       "      <td>...</td>\n",
       "      <td>SALATLCLT</td>\n",
       "      <td>NV</td>\n",
       "      <td>L</td>\n",
       "      <td>Y</td>\n",
       "      <td>2013-04-12 13:04:00</td>\n",
       "      <td>2013-04-12 22:05:40</td>\n",
       "      <td>1</td>\n",
       "      <td>2013</td>\n",
       "      <td>3</td>\n",
       "      <td>NULL</td>\n",
       "    </tr>\n",
       "    <tr>\n",
       "      <th>2</th>\n",
       "      <td>2013-03-26 00:00:00</td>\n",
       "      <td>1A</td>\n",
       "      <td>US</td>\n",
       "      <td>e612b9eeeee6f17f42d9b0d3b79e75ca</td>\n",
       "      <td>7437560d8f276d6d05eeb806d9e7edee</td>\n",
       "      <td>737295a86982c941f1c2da9a46a14043</td>\n",
       "      <td>2013-03-26 00:00:00</td>\n",
       "      <td>135270</td>\n",
       "      <td>0</td>\n",
       "      <td>SAL</td>\n",
       "      <td>...</td>\n",
       "      <td>CLTATLSAL</td>\n",
       "      <td>NV</td>\n",
       "      <td>U</td>\n",
       "      <td>Y</td>\n",
       "      <td>2013-07-15 07:00:00</td>\n",
       "      <td>2013-07-15 11:34:51</td>\n",
       "      <td>1</td>\n",
       "      <td>2013</td>\n",
       "      <td>3</td>\n",
       "      <td>NULL</td>\n",
       "    </tr>\n",
       "    <tr>\n",
       "      <th>3</th>\n",
       "      <td>2013-03-26 00:00:00</td>\n",
       "      <td>1A</td>\n",
       "      <td>AU</td>\n",
       "      <td>0f984b3bb6bd06661c95529bbd6193bc</td>\n",
       "      <td>36472c6dbaf7afec9136ac40364e2794</td>\n",
       "      <td>5ecf00fdcbcec761c43dc7285253d0c1</td>\n",
       "      <td>2013-03-26 00:00:00</td>\n",
       "      <td>30885</td>\n",
       "      <td>0</td>\n",
       "      <td>AKL</td>\n",
       "      <td>...</td>\n",
       "      <td>AKLHKGSVO</td>\n",
       "      <td>XK</td>\n",
       "      <td>G</td>\n",
       "      <td>Y</td>\n",
       "      <td>2013-04-24 23:59:00</td>\n",
       "      <td>2013-04-25 16:06:31</td>\n",
       "      <td>1</td>\n",
       "      <td>2013</td>\n",
       "      <td>3</td>\n",
       "      <td>SYDA82546</td>\n",
       "    </tr>\n",
       "    <tr>\n",
       "      <th>4</th>\n",
       "      <td>2013-03-26 00:00:00</td>\n",
       "      <td>1A</td>\n",
       "      <td>AU</td>\n",
       "      <td>0f984b3bb6bd06661c95529bbd6193bc</td>\n",
       "      <td>36472c6dbaf7afec9136ac40364e2794</td>\n",
       "      <td>5ecf00fdcbcec761c43dc7285253d0c1</td>\n",
       "      <td>2013-03-26 00:00:00</td>\n",
       "      <td>30885</td>\n",
       "      <td>0</td>\n",
       "      <td>AKL</td>\n",
       "      <td>...</td>\n",
       "      <td>SVOHKGAKL</td>\n",
       "      <td>XK</td>\n",
       "      <td>G</td>\n",
       "      <td>Y</td>\n",
       "      <td>2013-05-14 20:15:00</td>\n",
       "      <td>2013-05-16 10:44:50</td>\n",
       "      <td>1</td>\n",
       "      <td>2013</td>\n",
       "      <td>3</td>\n",
       "      <td>SYDA82546</td>\n",
       "    </tr>\n",
       "  </tbody>\n",
       "</table>\n",
       "<p>5 rows × 38 columns</p>\n",
       "</div>"
      ],
      "text/plain": [
       "   act_date             source  pos_ctry                          pos_iata  \\\n",
       "0  2013-03-05 00:00:00  1A      DE        a68dd7ae953c8acfb187a1af2dcbe123   \n",
       "1  2013-03-26 00:00:00  1A      US        e612b9eeeee6f17f42d9b0d3b79e75ca   \n",
       "2  2013-03-26 00:00:00  1A      US        e612b9eeeee6f17f42d9b0d3b79e75ca   \n",
       "3  2013-03-26 00:00:00  1A      AU        0f984b3bb6bd06661c95529bbd6193bc   \n",
       "4  2013-03-26 00:00:00  1A      AU        0f984b3bb6bd06661c95529bbd6193bc   \n",
       "\n",
       "                          pos_oid                      rloc            \\\n",
       "0  1a11ae49fcbf545fd2afc1a24d88d2b7  ea65900e72d71f4626378e2ebd298267   \n",
       "1  7437560d8f276d6d05eeb806d9e7edee  737295a86982c941f1c2da9a46a14043   \n",
       "2  7437560d8f276d6d05eeb806d9e7edee  737295a86982c941f1c2da9a46a14043   \n",
       "3  36472c6dbaf7afec9136ac40364e2794  5ecf00fdcbcec761c43dc7285253d0c1   \n",
       "4  36472c6dbaf7afec9136ac40364e2794  5ecf00fdcbcec761c43dc7285253d0c1   \n",
       "\n",
       "   cre_date             duration  distance  dep_port    ...      \\\n",
       "0  2013-02-22 00:00:00      1708         0  ZRH         ...       \n",
       "1  2013-03-26 00:00:00    135270         0  SAL         ...       \n",
       "2  2013-03-26 00:00:00    135270         0  SAL         ...       \n",
       "3  2013-03-26 00:00:00     30885         0  AKL         ...       \n",
       "4  2013-03-26 00:00:00     30885         0  AKL         ...       \n",
       "\n",
       "   route           carrier  bkg_class  cab_class  brd_time             \\\n",
       "0  LHRZRH               VI  T          Y          2013-03-07 08:50:00   \n",
       "1  SALATLCLT            NV  L          Y          2013-04-12 13:04:00   \n",
       "2  CLTATLSAL            NV  U          Y          2013-07-15 07:00:00   \n",
       "3  AKLHKGSVO            XK  G          Y          2013-04-24 23:59:00   \n",
       "4  SVOHKGAKL            XK  G          Y          2013-05-14 20:15:00   \n",
       "\n",
       "   off_time            pax  year month  oid        \n",
       "0  2013-03-07 11:33:37  -1  2013     3  NULL       \n",
       "1  2013-04-12 22:05:40   1  2013     3  NULL       \n",
       "2  2013-07-15 11:34:51   1  2013     3  NULL       \n",
       "3  2013-04-25 16:06:31   1  2013     3  SYDA82546  \n",
       "4  2013-05-16 10:44:50   1  2013     3  SYDA82546  \n",
       "\n",
       "[5 rows x 38 columns]"
      ]
     },
     "execution_count": 16,
     "metadata": {},
     "output_type": "execute_result"
    }
   ],
   "source": [
    "b.head()"
   ]
  },
  {
   "cell_type": "code",
   "execution_count": 20,
   "metadata": {
    "collapsed": true,
    "deletable": true,
    "editable": true
   },
   "outputs": [],
   "source": [
    "#pd.set_option('display.max_columns',100)\n",
    "pd.set_option('display.max_columns',None)\n"
   ]
  },
  {
   "cell_type": "code",
   "execution_count": 21,
   "metadata": {
    "collapsed": false,
    "deletable": true,
    "editable": true
   },
   "outputs": [
    {
     "data": {
      "text/html": [
       "<div>\n",
       "<table border=\"1\" class=\"dataframe\">\n",
       "  <thead>\n",
       "    <tr style=\"text-align: right;\">\n",
       "      <th></th>\n",
       "      <th>act_date</th>\n",
       "      <th>source</th>\n",
       "      <th>pos_ctry</th>\n",
       "      <th>pos_iata</th>\n",
       "      <th>pos_oid</th>\n",
       "      <th>rloc</th>\n",
       "      <th>cre_date</th>\n",
       "      <th>duration</th>\n",
       "      <th>distance</th>\n",
       "      <th>dep_port</th>\n",
       "      <th>dep_city</th>\n",
       "      <th>dep_ctry</th>\n",
       "      <th>arr_port</th>\n",
       "      <th>arr_city</th>\n",
       "      <th>arr_ctry</th>\n",
       "      <th>lst_port</th>\n",
       "      <th>lst_city</th>\n",
       "      <th>lst_ctry</th>\n",
       "      <th>brd_port</th>\n",
       "      <th>brd_city</th>\n",
       "      <th>brd_ctry</th>\n",
       "      <th>off_port</th>\n",
       "      <th>off_city</th>\n",
       "      <th>off_ctry</th>\n",
       "      <th>mkt_port</th>\n",
       "      <th>mkt_city</th>\n",
       "      <th>mkt_ctry</th>\n",
       "      <th>intl</th>\n",
       "      <th>route</th>\n",
       "      <th>carrier</th>\n",
       "      <th>bkg_class</th>\n",
       "      <th>cab_class</th>\n",
       "      <th>brd_time</th>\n",
       "      <th>off_time</th>\n",
       "      <th>pax</th>\n",
       "      <th>year</th>\n",
       "      <th>month</th>\n",
       "      <th>oid</th>\n",
       "    </tr>\n",
       "  </thead>\n",
       "  <tbody>\n",
       "    <tr>\n",
       "      <th>0</th>\n",
       "      <td>2013-03-05 00:00:00</td>\n",
       "      <td>1A</td>\n",
       "      <td>DE</td>\n",
       "      <td>a68dd7ae953c8acfb187a1af2dcbe123</td>\n",
       "      <td>1a11ae49fcbf545fd2afc1a24d88d2b7</td>\n",
       "      <td>ea65900e72d71f4626378e2ebd298267</td>\n",
       "      <td>2013-02-22 00:00:00</td>\n",
       "      <td>1708</td>\n",
       "      <td>0</td>\n",
       "      <td>ZRH</td>\n",
       "      <td>ZRH</td>\n",
       "      <td>CH</td>\n",
       "      <td>LHR</td>\n",
       "      <td>LON</td>\n",
       "      <td>GB</td>\n",
       "      <td>ZRH</td>\n",
       "      <td>ZRH</td>\n",
       "      <td>CH</td>\n",
       "      <td>LHR</td>\n",
       "      <td>LON</td>\n",
       "      <td>GB</td>\n",
       "      <td>ZRH</td>\n",
       "      <td>ZRH</td>\n",
       "      <td>CH</td>\n",
       "      <td>LHRZRH</td>\n",
       "      <td>LONZRH</td>\n",
       "      <td>CHGB</td>\n",
       "      <td>1</td>\n",
       "      <td>LHRZRH</td>\n",
       "      <td>VI</td>\n",
       "      <td>T</td>\n",
       "      <td>Y</td>\n",
       "      <td>2013-03-07 08:50:00</td>\n",
       "      <td>2013-03-07 11:33:37</td>\n",
       "      <td>-1</td>\n",
       "      <td>2013</td>\n",
       "      <td>3</td>\n",
       "      <td>NULL</td>\n",
       "    </tr>\n",
       "    <tr>\n",
       "      <th>1</th>\n",
       "      <td>2013-03-26 00:00:00</td>\n",
       "      <td>1A</td>\n",
       "      <td>US</td>\n",
       "      <td>e612b9eeeee6f17f42d9b0d3b79e75ca</td>\n",
       "      <td>7437560d8f276d6d05eeb806d9e7edee</td>\n",
       "      <td>737295a86982c941f1c2da9a46a14043</td>\n",
       "      <td>2013-03-26 00:00:00</td>\n",
       "      <td>135270</td>\n",
       "      <td>0</td>\n",
       "      <td>SAL</td>\n",
       "      <td>SAL</td>\n",
       "      <td>SV</td>\n",
       "      <td>CLT</td>\n",
       "      <td>CLT</td>\n",
       "      <td>US</td>\n",
       "      <td>SAL</td>\n",
       "      <td>SAL</td>\n",
       "      <td>SV</td>\n",
       "      <td>SAL</td>\n",
       "      <td>SAL</td>\n",
       "      <td>SV</td>\n",
       "      <td>CLT</td>\n",
       "      <td>CLT</td>\n",
       "      <td>US</td>\n",
       "      <td>CLTSAL</td>\n",
       "      <td>CLTSAL</td>\n",
       "      <td>SVUS</td>\n",
       "      <td>1</td>\n",
       "      <td>SALATLCLT</td>\n",
       "      <td>NV</td>\n",
       "      <td>L</td>\n",
       "      <td>Y</td>\n",
       "      <td>2013-04-12 13:04:00</td>\n",
       "      <td>2013-04-12 22:05:40</td>\n",
       "      <td>1</td>\n",
       "      <td>2013</td>\n",
       "      <td>3</td>\n",
       "      <td>NULL</td>\n",
       "    </tr>\n",
       "    <tr>\n",
       "      <th>2</th>\n",
       "      <td>2013-03-26 00:00:00</td>\n",
       "      <td>1A</td>\n",
       "      <td>US</td>\n",
       "      <td>e612b9eeeee6f17f42d9b0d3b79e75ca</td>\n",
       "      <td>7437560d8f276d6d05eeb806d9e7edee</td>\n",
       "      <td>737295a86982c941f1c2da9a46a14043</td>\n",
       "      <td>2013-03-26 00:00:00</td>\n",
       "      <td>135270</td>\n",
       "      <td>0</td>\n",
       "      <td>SAL</td>\n",
       "      <td>SAL</td>\n",
       "      <td>SV</td>\n",
       "      <td>CLT</td>\n",
       "      <td>CLT</td>\n",
       "      <td>US</td>\n",
       "      <td>SAL</td>\n",
       "      <td>SAL</td>\n",
       "      <td>SV</td>\n",
       "      <td>CLT</td>\n",
       "      <td>CLT</td>\n",
       "      <td>US</td>\n",
       "      <td>SAL</td>\n",
       "      <td>SAL</td>\n",
       "      <td>SV</td>\n",
       "      <td>CLTSAL</td>\n",
       "      <td>CLTSAL</td>\n",
       "      <td>SVUS</td>\n",
       "      <td>1</td>\n",
       "      <td>CLTATLSAL</td>\n",
       "      <td>NV</td>\n",
       "      <td>U</td>\n",
       "      <td>Y</td>\n",
       "      <td>2013-07-15 07:00:00</td>\n",
       "      <td>2013-07-15 11:34:51</td>\n",
       "      <td>1</td>\n",
       "      <td>2013</td>\n",
       "      <td>3</td>\n",
       "      <td>NULL</td>\n",
       "    </tr>\n",
       "    <tr>\n",
       "      <th>3</th>\n",
       "      <td>2013-03-26 00:00:00</td>\n",
       "      <td>1A</td>\n",
       "      <td>AU</td>\n",
       "      <td>0f984b3bb6bd06661c95529bbd6193bc</td>\n",
       "      <td>36472c6dbaf7afec9136ac40364e2794</td>\n",
       "      <td>5ecf00fdcbcec761c43dc7285253d0c1</td>\n",
       "      <td>2013-03-26 00:00:00</td>\n",
       "      <td>30885</td>\n",
       "      <td>0</td>\n",
       "      <td>AKL</td>\n",
       "      <td>AKL</td>\n",
       "      <td>NZ</td>\n",
       "      <td>SVO</td>\n",
       "      <td>MOW</td>\n",
       "      <td>RU</td>\n",
       "      <td>AKL</td>\n",
       "      <td>AKL</td>\n",
       "      <td>NZ</td>\n",
       "      <td>AKL</td>\n",
       "      <td>AKL</td>\n",
       "      <td>NZ</td>\n",
       "      <td>SVO</td>\n",
       "      <td>MOW</td>\n",
       "      <td>RU</td>\n",
       "      <td>AKLSVO</td>\n",
       "      <td>AKLMOW</td>\n",
       "      <td>NZRU</td>\n",
       "      <td>1</td>\n",
       "      <td>AKLHKGSVO</td>\n",
       "      <td>XK</td>\n",
       "      <td>G</td>\n",
       "      <td>Y</td>\n",
       "      <td>2013-04-24 23:59:00</td>\n",
       "      <td>2013-04-25 16:06:31</td>\n",
       "      <td>1</td>\n",
       "      <td>2013</td>\n",
       "      <td>3</td>\n",
       "      <td>SYDA82546</td>\n",
       "    </tr>\n",
       "    <tr>\n",
       "      <th>4</th>\n",
       "      <td>2013-03-26 00:00:00</td>\n",
       "      <td>1A</td>\n",
       "      <td>AU</td>\n",
       "      <td>0f984b3bb6bd06661c95529bbd6193bc</td>\n",
       "      <td>36472c6dbaf7afec9136ac40364e2794</td>\n",
       "      <td>5ecf00fdcbcec761c43dc7285253d0c1</td>\n",
       "      <td>2013-03-26 00:00:00</td>\n",
       "      <td>30885</td>\n",
       "      <td>0</td>\n",
       "      <td>AKL</td>\n",
       "      <td>AKL</td>\n",
       "      <td>NZ</td>\n",
       "      <td>SVO</td>\n",
       "      <td>MOW</td>\n",
       "      <td>RU</td>\n",
       "      <td>AKL</td>\n",
       "      <td>AKL</td>\n",
       "      <td>NZ</td>\n",
       "      <td>SVO</td>\n",
       "      <td>MOW</td>\n",
       "      <td>RU</td>\n",
       "      <td>AKL</td>\n",
       "      <td>AKL</td>\n",
       "      <td>NZ</td>\n",
       "      <td>AKLSVO</td>\n",
       "      <td>AKLMOW</td>\n",
       "      <td>NZRU</td>\n",
       "      <td>1</td>\n",
       "      <td>SVOHKGAKL</td>\n",
       "      <td>XK</td>\n",
       "      <td>G</td>\n",
       "      <td>Y</td>\n",
       "      <td>2013-05-14 20:15:00</td>\n",
       "      <td>2013-05-16 10:44:50</td>\n",
       "      <td>1</td>\n",
       "      <td>2013</td>\n",
       "      <td>3</td>\n",
       "      <td>SYDA82546</td>\n",
       "    </tr>\n",
       "  </tbody>\n",
       "</table>\n",
       "</div>"
      ],
      "text/plain": [
       "   act_date             source  pos_ctry                          pos_iata  \\\n",
       "0  2013-03-05 00:00:00  1A      DE        a68dd7ae953c8acfb187a1af2dcbe123   \n",
       "1  2013-03-26 00:00:00  1A      US        e612b9eeeee6f17f42d9b0d3b79e75ca   \n",
       "2  2013-03-26 00:00:00  1A      US        e612b9eeeee6f17f42d9b0d3b79e75ca   \n",
       "3  2013-03-26 00:00:00  1A      AU        0f984b3bb6bd06661c95529bbd6193bc   \n",
       "4  2013-03-26 00:00:00  1A      AU        0f984b3bb6bd06661c95529bbd6193bc   \n",
       "\n",
       "                          pos_oid                      rloc            \\\n",
       "0  1a11ae49fcbf545fd2afc1a24d88d2b7  ea65900e72d71f4626378e2ebd298267   \n",
       "1  7437560d8f276d6d05eeb806d9e7edee  737295a86982c941f1c2da9a46a14043   \n",
       "2  7437560d8f276d6d05eeb806d9e7edee  737295a86982c941f1c2da9a46a14043   \n",
       "3  36472c6dbaf7afec9136ac40364e2794  5ecf00fdcbcec761c43dc7285253d0c1   \n",
       "4  36472c6dbaf7afec9136ac40364e2794  5ecf00fdcbcec761c43dc7285253d0c1   \n",
       "\n",
       "   cre_date             duration  distance  dep_port  dep_city  dep_ctry  \\\n",
       "0  2013-02-22 00:00:00      1708         0  ZRH       ZRH       CH         \n",
       "1  2013-03-26 00:00:00    135270         0  SAL       SAL       SV         \n",
       "2  2013-03-26 00:00:00    135270         0  SAL       SAL       SV         \n",
       "3  2013-03-26 00:00:00     30885         0  AKL       AKL       NZ         \n",
       "4  2013-03-26 00:00:00     30885         0  AKL       AKL       NZ         \n",
       "\n",
       "   arr_port  arr_city  arr_ctry  lst_port  lst_city  lst_ctry  brd_port  \\\n",
       "0  LHR       LON       GB        ZRH       ZRH       CH        LHR        \n",
       "1  CLT       CLT       US        SAL       SAL       SV        SAL        \n",
       "2  CLT       CLT       US        SAL       SAL       SV        CLT        \n",
       "3  SVO       MOW       RU        AKL       AKL       NZ        AKL        \n",
       "4  SVO       MOW       RU        AKL       AKL       NZ        SVO        \n",
       "\n",
       "   brd_city  brd_ctry  off_port  off_city  off_ctry  mkt_port  mkt_city  \\\n",
       "0  LON       GB        ZRH       ZRH       CH        LHRZRH    LONZRH     \n",
       "1  SAL       SV        CLT       CLT       US        CLTSAL    CLTSAL     \n",
       "2  CLT       US        SAL       SAL       SV        CLTSAL    CLTSAL     \n",
       "3  AKL       NZ        SVO       MOW       RU        AKLSVO    AKLMOW     \n",
       "4  MOW       RU        AKL       AKL       NZ        AKLSVO    AKLMOW     \n",
       "\n",
       "   mkt_ctry  intl  route           carrier  bkg_class  cab_class  \\\n",
       "0  CHGB         1  LHRZRH               VI  T          Y           \n",
       "1  SVUS         1  SALATLCLT            NV  L          Y           \n",
       "2  SVUS         1  CLTATLSAL            NV  U          Y           \n",
       "3  NZRU         1  AKLHKGSVO            XK  G          Y           \n",
       "4  NZRU         1  SVOHKGAKL            XK  G          Y           \n",
       "\n",
       "   brd_time             off_time             pax  year  month  oid        \n",
       "0  2013-03-07 08:50:00  2013-03-07 11:33:37   -1  2013      3  NULL       \n",
       "1  2013-04-12 13:04:00  2013-04-12 22:05:40    1  2013      3  NULL       \n",
       "2  2013-07-15 07:00:00  2013-07-15 11:34:51    1  2013      3  NULL       \n",
       "3  2013-04-24 23:59:00  2013-04-25 16:06:31    1  2013      3  SYDA82546  \n",
       "4  2013-05-14 20:15:00  2013-05-16 10:44:50    1  2013      3  SYDA82546  "
      ]
     },
     "execution_count": 21,
     "metadata": {},
     "output_type": "execute_result"
    }
   ],
   "source": [
    "b.head()"
   ]
  },
  {
   "cell_type": "code",
   "execution_count": 23,
   "metadata": {
    "collapsed": false,
    "deletable": true,
    "editable": true
   },
   "outputs": [
    {
     "data": {
      "text/plain": [
       "act_date               object\n",
       "source                 object\n",
       "pos_ctry               object\n",
       "pos_iata               object\n",
       "pos_oid                object\n",
       "rloc                   object\n",
       "cre_date               object\n",
       "duration                int64\n",
       "distance                int64\n",
       "dep_port               object\n",
       "dep_city               object\n",
       "dep_ctry               object\n",
       "arr_port               object\n",
       "arr_city               object\n",
       "arr_ctry               object\n",
       "lst_port               object\n",
       "lst_city               object\n",
       "lst_ctry               object\n",
       "brd_port               object\n",
       "brd_city               object\n",
       "brd_ctry               object\n",
       "off_port               object\n",
       "off_city               object\n",
       "off_ctry               object\n",
       "mkt_port               object\n",
       "mkt_city               object\n",
       "mkt_ctry               object\n",
       "intl                    int64\n",
       "route                  object\n",
       "carrier                object\n",
       "bkg_class              object\n",
       "cab_class              object\n",
       "brd_time               object\n",
       "off_time               object\n",
       "pax                     int64\n",
       "year                    int64\n",
       "month                   int64\n",
       "oid                    object\n",
       "dtype: object"
      ]
     },
     "execution_count": 23,
     "metadata": {},
     "output_type": "execute_result"
    }
   ],
   "source": [
    "b.dtypes"
   ]
  },
  {
   "cell_type": "code",
   "execution_count": 31,
   "metadata": {
    "collapsed": false,
    "deletable": true,
    "editable": true
   },
   "outputs": [
    {
     "data": {
      "text/plain": [
       "arr_port    0\n",
       "pax         0\n",
       "year        0\n",
       "dtype: int64"
      ]
     },
     "execution_count": 31,
     "metadata": {},
     "output_type": "execute_result"
    }
   ],
   "source": [
    "b.isnull().sum()"
   ]
  },
  {
   "cell_type": "code",
   "execution_count": 26,
   "metadata": {
    "collapsed": false,
    "deletable": true,
    "editable": true
   },
   "outputs": [
    {
     "data": {
      "text/html": [
       "<div>\n",
       "<table border=\"1\" class=\"dataframe\">\n",
       "  <thead>\n",
       "    <tr style=\"text-align: right;\">\n",
       "      <th></th>\n",
       "      <th>duration</th>\n",
       "      <th>distance</th>\n",
       "      <th>intl</th>\n",
       "      <th>pax</th>\n",
       "      <th>year</th>\n",
       "      <th>month</th>\n",
       "    </tr>\n",
       "  </thead>\n",
       "  <tbody>\n",
       "    <tr>\n",
       "      <th>count</th>\n",
       "      <td>1000.000000</td>\n",
       "      <td>1000.000000</td>\n",
       "      <td>1000.000000</td>\n",
       "      <td>1000.000000</td>\n",
       "      <td>1000.0</td>\n",
       "      <td>1000.0</td>\n",
       "    </tr>\n",
       "    <tr>\n",
       "      <th>mean</th>\n",
       "      <td>23935.433000</td>\n",
       "      <td>407.569000</td>\n",
       "      <td>0.643000</td>\n",
       "      <td>0.532000</td>\n",
       "      <td>2013.0</td>\n",
       "      <td>3.0</td>\n",
       "    </tr>\n",
       "    <tr>\n",
       "      <th>std</th>\n",
       "      <td>54459.101785</td>\n",
       "      <td>1490.087967</td>\n",
       "      <td>0.479355</td>\n",
       "      <td>1.976077</td>\n",
       "      <td>0.0</td>\n",
       "      <td>0.0</td>\n",
       "    </tr>\n",
       "    <tr>\n",
       "      <th>min</th>\n",
       "      <td>61.000000</td>\n",
       "      <td>0.000000</td>\n",
       "      <td>0.000000</td>\n",
       "      <td>-8.000000</td>\n",
       "      <td>2013.0</td>\n",
       "      <td>3.0</td>\n",
       "    </tr>\n",
       "    <tr>\n",
       "      <th>25%</th>\n",
       "      <td>3493.000000</td>\n",
       "      <td>0.000000</td>\n",
       "      <td>0.000000</td>\n",
       "      <td>-1.000000</td>\n",
       "      <td>2013.0</td>\n",
       "      <td>3.0</td>\n",
       "    </tr>\n",
       "    <tr>\n",
       "      <th>50%</th>\n",
       "      <td>6891.000000</td>\n",
       "      <td>0.000000</td>\n",
       "      <td>1.000000</td>\n",
       "      <td>1.000000</td>\n",
       "      <td>2013.0</td>\n",
       "      <td>3.0</td>\n",
       "    </tr>\n",
       "    <tr>\n",
       "      <th>75%</th>\n",
       "      <td>17940.000000</td>\n",
       "      <td>0.000000</td>\n",
       "      <td>1.000000</td>\n",
       "      <td>1.000000</td>\n",
       "      <td>2013.0</td>\n",
       "      <td>3.0</td>\n",
       "    </tr>\n",
       "    <tr>\n",
       "      <th>max</th>\n",
       "      <td>482174.000000</td>\n",
       "      <td>10995.000000</td>\n",
       "      <td>1.000000</td>\n",
       "      <td>21.000000</td>\n",
       "      <td>2013.0</td>\n",
       "      <td>3.0</td>\n",
       "    </tr>\n",
       "  </tbody>\n",
       "</table>\n",
       "</div>"
      ],
      "text/plain": [
       "            duration      distance         intl          pax    year   month\n",
       "count    1000.000000   1000.000000  1000.000000  1000.000000  1000.0  1000.0\n",
       "mean    23935.433000    407.569000     0.643000     0.532000  2013.0     3.0\n",
       "std     54459.101785   1490.087967     0.479355     1.976077     0.0     0.0\n",
       "min        61.000000      0.000000     0.000000    -8.000000  2013.0     3.0\n",
       "25%      3493.000000      0.000000     0.000000    -1.000000  2013.0     3.0\n",
       "50%      6891.000000      0.000000     1.000000     1.000000  2013.0     3.0\n",
       "75%     17940.000000      0.000000     1.000000     1.000000  2013.0     3.0\n",
       "max    482174.000000  10995.000000     1.000000    21.000000  2013.0     3.0"
      ]
     },
     "execution_count": 26,
     "metadata": {},
     "output_type": "execute_result"
    }
   ],
   "source": [
    "b.describe()"
   ]
  },
  {
   "cell_type": "markdown",
   "metadata": {
    "deletable": true,
    "editable": true
   },
   "source": [
    "## 2) Select the columns of interest "
   ]
  },
  {
   "cell_type": "code",
   "execution_count": 27,
   "metadata": {
    "collapsed": true,
    "deletable": true,
    "editable": true
   },
   "outputs": [],
   "source": [
    "b = pd.read_csv('bookings.sample.csv.bz2',sep='^', usecols=['arr_port','pax', 'year'], nrows=1000)"
   ]
  },
  {
   "cell_type": "code",
   "execution_count": 28,
   "metadata": {
    "collapsed": false,
    "deletable": true,
    "editable": true
   },
   "outputs": [
    {
     "data": {
      "text/html": [
       "<div>\n",
       "<table border=\"1\" class=\"dataframe\">\n",
       "  <thead>\n",
       "    <tr style=\"text-align: right;\">\n",
       "      <th></th>\n",
       "      <th>arr_port</th>\n",
       "      <th>pax</th>\n",
       "      <th>year</th>\n",
       "    </tr>\n",
       "  </thead>\n",
       "  <tbody>\n",
       "    <tr>\n",
       "      <th>0</th>\n",
       "      <td>LHR</td>\n",
       "      <td>-1</td>\n",
       "      <td>2013</td>\n",
       "    </tr>\n",
       "    <tr>\n",
       "      <th>1</th>\n",
       "      <td>CLT</td>\n",
       "      <td>1</td>\n",
       "      <td>2013</td>\n",
       "    </tr>\n",
       "    <tr>\n",
       "      <th>2</th>\n",
       "      <td>CLT</td>\n",
       "      <td>1</td>\n",
       "      <td>2013</td>\n",
       "    </tr>\n",
       "    <tr>\n",
       "      <th>3</th>\n",
       "      <td>SVO</td>\n",
       "      <td>1</td>\n",
       "      <td>2013</td>\n",
       "    </tr>\n",
       "    <tr>\n",
       "      <th>4</th>\n",
       "      <td>SVO</td>\n",
       "      <td>1</td>\n",
       "      <td>2013</td>\n",
       "    </tr>\n",
       "  </tbody>\n",
       "</table>\n",
       "</div>"
      ],
      "text/plain": [
       "   arr_port  pax  year\n",
       "0  LHR        -1  2013\n",
       "1  CLT         1  2013\n",
       "2  CLT         1  2013\n",
       "3  SVO         1  2013\n",
       "4  SVO         1  2013"
      ]
     },
     "execution_count": 28,
     "metadata": {},
     "output_type": "execute_result"
    }
   ],
   "source": [
    "b.head()"
   ]
  },
  {
   "cell_type": "code",
   "execution_count": null,
   "metadata": {
    "collapsed": true,
    "deletable": true,
    "editable": true
   },
   "outputs": [],
   "source": []
  },
  {
   "cell_type": "markdown",
   "metadata": {
    "deletable": true,
    "editable": true
   },
   "source": [
    "## 3) What to do with NaN?\n",
    "\n"
   ]
  },
  {
   "cell_type": "raw",
   "metadata": {
    "deletable": true,
    "editable": true
   },
   "source": [
    "in the sample everything might be ok, but we should prepare fot NaN case"
   ]
  },
  {
   "cell_type": "code",
   "execution_count": 29,
   "metadata": {
    "collapsed": true,
    "deletable": true,
    "editable": true
   },
   "outputs": [],
   "source": [
    "b=b.dropna()"
   ]
  },
  {
   "cell_type": "code",
   "execution_count": null,
   "metadata": {
    "collapsed": true,
    "deletable": true,
    "editable": true
   },
   "outputs": [],
   "source": []
  },
  {
   "cell_type": "markdown",
   "metadata": {
    "deletable": true,
    "editable": true
   },
   "source": [
    "## Ready to code"
   ]
  },
  {
   "cell_type": "markdown",
   "metadata": {
    "deletable": true,
    "editable": true
   },
   "source": [
    "What do we have so far?"
   ]
  },
  {
   "cell_type": "code",
   "execution_count": 37,
   "metadata": {
    "collapsed": true,
    "deletable": true,
    "editable": true
   },
   "outputs": [],
   "source": [
    "b = pd.read_csv('bookings.sample.csv.bz2',sep='^', usecols=['arr_port','pax', 'year'], nrows=1000)\n",
    "b=b.dropna()"
   ]
  },
  {
   "cell_type": "code",
   "execution_count": null,
   "metadata": {
    "collapsed": true,
    "deletable": true,
    "editable": true
   },
   "outputs": [],
   "source": []
  },
  {
   "cell_type": "markdown",
   "metadata": {
    "deletable": true,
    "editable": true
   },
   "source": [
    "## 4) make action plan\n"
   ]
  },
  {
   "cell_type": "raw",
   "metadata": {
    "collapsed": true,
    "deletable": true,
    "editable": true
   },
   "source": [
    "1) filter 2013 \n",
    "2) group by arr_port\n",
    "3) sum pax\n",
    "4) sort\n",
    "5) get top 10"
   ]
  },
  {
   "cell_type": "markdown",
   "metadata": {
    "deletable": true,
    "editable": true
   },
   "source": [
    "#### 4.1) Get only the booking from 2013"
   ]
  },
  {
   "cell_type": "code",
   "execution_count": 38,
   "metadata": {
    "collapsed": true,
    "deletable": true,
    "editable": true
   },
   "outputs": [],
   "source": [
    "b=b[b['year']==2013]"
   ]
  },
  {
   "cell_type": "code",
   "execution_count": 39,
   "metadata": {
    "collapsed": true,
    "deletable": true,
    "editable": true
   },
   "outputs": [],
   "source": [
    "b.drop('year',axis=1, inplace=True)"
   ]
  },
  {
   "cell_type": "code",
   "execution_count": 40,
   "metadata": {
    "collapsed": false,
    "deletable": true,
    "editable": true
   },
   "outputs": [
    {
     "data": {
      "text/html": [
       "<div>\n",
       "<table border=\"1\" class=\"dataframe\">\n",
       "  <thead>\n",
       "    <tr style=\"text-align: right;\">\n",
       "      <th></th>\n",
       "      <th>arr_port</th>\n",
       "      <th>pax</th>\n",
       "    </tr>\n",
       "  </thead>\n",
       "  <tbody>\n",
       "    <tr>\n",
       "      <th>0</th>\n",
       "      <td>LHR</td>\n",
       "      <td>-1</td>\n",
       "    </tr>\n",
       "    <tr>\n",
       "      <th>1</th>\n",
       "      <td>CLT</td>\n",
       "      <td>1</td>\n",
       "    </tr>\n",
       "    <tr>\n",
       "      <th>2</th>\n",
       "      <td>CLT</td>\n",
       "      <td>1</td>\n",
       "    </tr>\n",
       "    <tr>\n",
       "      <th>3</th>\n",
       "      <td>SVO</td>\n",
       "      <td>1</td>\n",
       "    </tr>\n",
       "    <tr>\n",
       "      <th>4</th>\n",
       "      <td>SVO</td>\n",
       "      <td>1</td>\n",
       "    </tr>\n",
       "  </tbody>\n",
       "</table>\n",
       "</div>"
      ],
      "text/plain": [
       "   arr_port  pax\n",
       "0  LHR        -1\n",
       "1  CLT         1\n",
       "2  CLT         1\n",
       "3  SVO         1\n",
       "4  SVO         1"
      ]
     },
     "execution_count": 40,
     "metadata": {},
     "output_type": "execute_result"
    }
   ],
   "source": [
    "b.head()"
   ]
  },
  {
   "cell_type": "markdown",
   "metadata": {
    "deletable": true,
    "editable": true
   },
   "source": [
    "#### 4.2) group by arr_port"
   ]
  },
  {
   "cell_type": "code",
   "execution_count": 41,
   "metadata": {
    "collapsed": true,
    "deletable": true,
    "editable": true
   },
   "outputs": [],
   "source": [
    "arr_ports=b.groupby('arr_port')"
   ]
  },
  {
   "cell_type": "code",
   "execution_count": 42,
   "metadata": {
    "collapsed": true,
    "deletable": true,
    "editable": true
   },
   "outputs": [
    {
     "data": {
      "text/plain": [
       "{'ACC     ': Int64Index([118, 119], dtype='int64'),\n",
       " 'ADD     ': Int64Index([207, 208, 301, 302], dtype='int64'),\n",
       " 'AGP     ': Int64Index([397, 398], dtype='int64'),\n",
       " 'ALA     ': Int64Index([76, 77], dtype='int64'),\n",
       " 'ALC     ': Int64Index([909, 910], dtype='int64'),\n",
       " 'ALG     ': Int64Index([34, 35, 36, 37, 558, 559], dtype='int64'),\n",
       " 'AMD     ': Int64Index([732], dtype='int64'),\n",
       " 'AMS     ': Int64Index([494, 888, 889, 890, 891], dtype='int64'),\n",
       " 'ANC     ': Int64Index([432, 433], dtype='int64'),\n",
       " 'ASU     ': Int64Index([548, 549, 550, 551, 724, 725], dtype='int64'),\n",
       " 'ATH     ': Int64Index([313, 314, 739, 748], dtype='int64'),\n",
       " 'ATL     ': Int64Index([147, 404, 908], dtype='int64'),\n",
       " 'ATQ     ': Int64Index([801, 802, 803], dtype='int64'),\n",
       " 'AUH     ': Int64Index([733, 734], dtype='int64'),\n",
       " 'AUS     ': Int64Index([380, 381], dtype='int64'),\n",
       " 'AYT     ': Int64Index([81, 82, 83, 500], dtype='int64'),\n",
       " 'BBI     ': Int64Index([151, 152], dtype='int64'),\n",
       " 'BCN     ': Int64Index([320, 321, 979], dtype='int64'),\n",
       " 'BEY     ': Int64Index([415, 416, 509, 510], dtype='int64'),\n",
       " 'BHM     ': Int64Index([497, 498, 499], dtype='int64'),\n",
       " 'BJV     ': Int64Index([695, 696], dtype='int64'),\n",
       " 'BJX     ': Int64Index([983, 984], dtype='int64'),\n",
       " 'BKK     ': Int64Index([100, 101], dtype='int64'),\n",
       " 'BLQ     ': Int64Index([718, 719], dtype='int64'),\n",
       " 'BLR     ': Int64Index([49, 50, 51, 308], dtype='int64'),\n",
       " 'BNA     ': Int64Index([372, 373, 374, 375, 376, 377, 774, 775, 776, 777], dtype='int64'),\n",
       " 'BNE     ': Int64Index([335, 336, 337, 338, 795, 796], dtype='int64'),\n",
       " 'BOG     ': Int64Index([602, 603, 604, 605, 606, 607, 608, 609], dtype='int64'),\n",
       " 'BOI     ': Int64Index([143, 144, 567], dtype='int64'),\n",
       " 'BOM     ': Int64Index([576, 577, 622, 623, 624], dtype='int64'),\n",
       " 'BOS     ': Int64Index([182, 183, 221, 222, 463, 586, 587, 588, 589], dtype='int64'),\n",
       " 'BRD     ': Int64Index([455, 456], dtype='int64'),\n",
       " 'BRU     ': Int64Index([262, 263, 264, 265, 735, 736], dtype='int64'),\n",
       " 'BUD     ': Int64Index([957, 958, 959, 960], dtype='int64'),\n",
       " 'BUF     ': Int64Index([358, 359], dtype='int64'),\n",
       " 'BWI     ': Int64Index([52, 53, 102, 103], dtype='int64'),\n",
       " 'CAG     ': Int64Index([164, 165, 166, 167], dtype='int64'),\n",
       " 'CAI     ': Int64Index([126, 127, 554, 555], dtype='int64'),\n",
       " 'CAN     ': Int64Index([728, 729, 730, 731], dtype='int64'),\n",
       " 'CBR     ': Int64Index([656, 657, 658, 659], dtype='int64'),\n",
       " 'CCJ     ': Int64Index([324, 325, 326, 327, 477, 478, 479, 480, 481, 482, 483], dtype='int64'),\n",
       " 'CCS     ': Int64Index([354, 355], dtype='int64'),\n",
       " 'CDG     ': Int64Index([ 93,  94, 124, 125, 244, 255, 758, 759, 760, 761, 762, 763, 764,\n",
       "             765, 766, 767, 808, 809, 810, 811],\n",
       "            dtype='int64'),\n",
       " 'CGK     ': Int64Index([328, 329, 330, 331, 360, 361, 362, 363], dtype='int64'),\n",
       " 'CHQ     ': Int64Index([594, 595], dtype='int64'),\n",
       " 'CLT     ': Int64Index([1, 2, 501, 502, 503, 504, 688, 689, 714, 715, 716, 717, 794], dtype='int64'),\n",
       " 'CMB     ': Int64Index([740, 741, 742, 743], dtype='int64'),\n",
       " 'COK     ': Int64Index([332, 552, 553], dtype='int64'),\n",
       " 'COS     ': Int64Index([170, 171], dtype='int64'),\n",
       " 'CTA     ': Int64Index([20, 21], dtype='int64'),\n",
       " 'CUN     ': Int64Index([570, 571, 631, 632, 633, 634], dtype='int64'),\n",
       " 'CUR     ': Int64Index([421, 422, 423, 424], dtype='int64'),\n",
       " 'CUZ     ': Int64Index([572, 573, 574, 575], dtype='int64'),\n",
       " 'CVG     ': Int64Index([85, 86, 87, 88, 89, 90, 662, 663, 664, 665], dtype='int64'),\n",
       " 'CZM     ': Int64Index([368, 369], dtype='int64'),\n",
       " 'DAB     ': Int64Index([797], dtype='int64'),\n",
       " 'DAC     ': Int64Index([652, 653], dtype='int64'),\n",
       " 'DAY     ': Int64Index([176, 177], dtype='int64'),\n",
       " 'DCA     ': Int64Index([168, 169, 223, 224, 399, 400, 772, 773, 790, 791, 792, 793], dtype='int64'),\n",
       " 'DEL     ': Int64Index([54, 55, 56, 57, 192, 282, 283, 284, 285, 846, 847, 864, 967, 968], dtype='int64'),\n",
       " 'DEN     ': Int64Index([434, 435, 580, 581, 786, 787], dtype='int64'),\n",
       " 'DFW     ': Int64Index([193, 194, 195, 196, 619, 620, 746, 747], dtype='int64'),\n",
       " 'DMM     ': Int64Index([38, 39, 40, 41, 42, 43], dtype='int64'),\n",
       " 'DOH     ': Int64Index([315, 737, 738], dtype='int64'),\n",
       " 'DTW     ': Int64Index([109, 110, 382, 971, 972, 973, 974], dtype='int64'),\n",
       " 'DXB     ': Int64Index([342, 343, 344, 345, 346, 347, 348, 349, 484, 485, 486, 487, 488,\n",
       "             489, 505, 506, 507, 508, 744, 745],\n",
       "            dtype='int64'),\n",
       " 'ELP     ': Int64Index([132, 133, 134, 135, 136, 137, 138, 139], dtype='int64'),\n",
       " 'EWR     ': Int64Index([106, 107, 225, 226, 616, 617], dtype='int64'),\n",
       " 'EZE     ': Int64Index([816, 817, 818, 819], dtype='int64'),\n",
       " 'FAI     ': Int64Index([274, 275], dtype='int64'),\n",
       " 'FAO     ': Int64Index([322, 323], dtype='int64'),\n",
       " 'FCO     ': Int64Index([78, 79, 80, 865, 866, 867, 868], dtype='int64'),\n",
       " 'FLL     ': Int64Index([691, 913, 914, 931, 932], dtype='int64'),\n",
       " 'FRA     ': Int64Index([162, 163, 297, 298], dtype='int64'),\n",
       " 'FUE     ': Int64Index([646, 647, 648, 649], dtype='int64'),\n",
       " 'GAU     ': Int64Index([271, 272, 273], dtype='int64'),\n",
       " 'GIZ     ': Int64Index([880, 881, 882, 883], dtype='int64'),\n",
       " 'GRU     ': Int64Index([565, 566, 933, 934, 935, 936, 937, 938], dtype='int64'),\n",
       " 'GUM     ': Int64Index([339, 692], dtype='int64'),\n",
       " 'HAV     ': Int64Index([95, 96, 97, 98], dtype='int64'),\n",
       " 'HER     ': Int64Index([900, 901], dtype='int64'),\n",
       " 'HKG     ': Int64Index([233, 234, 473, 474], dtype='int64'),\n",
       " 'HMO     ': Int64Index([140], dtype='int64'),\n",
       " 'HNL     ': Int64Index([441, 442, 443, 444], dtype='int64'),\n",
       " 'ICN     ': Int64Index([517, 518, 519, 520], dtype='int64'),\n",
       " 'IND     ': Int64Index([750, 751, 752], dtype='int64'),\n",
       " 'ISB     ': Int64Index([153, 154, 155, 156], dtype='int64'),\n",
       " 'IST     ': Int64Index([148, 235, 236, 650, 651, 955, 956], dtype='int64'),\n",
       " 'ISU     ': Int64Index([635, 636, 637, 638, 639, 640], dtype='int64'),\n",
       " 'IXE     ': Int64Index([256, 257, 258, 259, 260, 261], dtype='int64'),\n",
       " 'JAC     ': Int64Index([307, 395, 396, 436], dtype='int64'),\n",
       " 'JAX     ': Int64Index([975, 976, 977, 978], dtype='int64'),\n",
       " 'JED     ': Int64Index([268, 269, 309, 310, 311, 312, 707, 896, 897, 898, 899], dtype='int64'),\n",
       " 'JFK     ': Int64Index([597, 598, 712, 713, 871, 872, 873, 874, 875, 876, 877, 878, 911,\n",
       "             912, 919, 920],\n",
       "            dtype='int64'),\n",
       " 'JNB     ': Int64Index([965, 966], dtype='int64'),\n",
       " 'KHI     ': Int64Index([850, 851], dtype='int64'),\n",
       " 'KIV     ': Int64Index([364, 365, 366, 367], dtype='int64'),\n",
       " 'KUL     ': Int64Index([451, 452, 453, 454, 610, 611], dtype='int64'),\n",
       " 'LAO     ': Int64Index([641], dtype='int64'),\n",
       " 'LAS     ': Int64Index([141, 142, 445, 446, 590, 591, 768, 769, 806, 807, 991], dtype='int64'),\n",
       " 'LAX     ': Int64Index([197, 198, 199, 200, 201, 202, 203, 204, 205, 206, 291, 292, 293,\n",
       "             294, 511],\n",
       "            dtype='int64'),\n",
       " 'LCA     ': Int64Index([157], dtype='int64'),\n",
       " 'LCY     ': Int64Index([187, 188], dtype='int64'),\n",
       " 'LED     ': Int64Index([44, 316, 317, 318, 319], dtype='int64'),\n",
       " 'LGA     ': Int64Index([5, 6, 122, 123, 191, 431, 464, 465, 469, 470, 987, 988, 989, 990], dtype='int64'),\n",
       " 'LHR     ': Int64Index([0, 158, 159, 160, 161, 350, 351, 844, 845, 869, 870, 944, 945, 946,\n",
       "             947],\n",
       "            dtype='int64'),\n",
       " 'LIM     ': Int64Index([525, 526, 560, 561, 562, 563, 852, 853, 854, 855, 856, 857, 858,\n",
       "             859],\n",
       "            dtype='int64'),\n",
       " 'LIN     ': Int64Index([654, 655], dtype='int64'),\n",
       " 'LIR     ': Int64Index([211, 788, 789], dtype='int64'),\n",
       " 'LIS     ': Int64Index([45, 46, 47, 48, 270, 916, 917], dtype='int64'),\n",
       " 'LIT     ': Int64Index([295, 296], dtype='int64'),\n",
       " 'LOS     ': Int64Index([753, 754, 755], dtype='int64'),\n",
       " 'LYR     ': Int64Index([245, 246, 247, 248], dtype='int64'),\n",
       " 'MAA     ': Int64Index([703, 704, 705, 706], dtype='int64'),\n",
       " 'MAD     ': Int64Index([462], dtype='int64'),\n",
       " 'MAN     ': Int64Index([535, 536], dtype='int64'),\n",
       " 'MCI     ': Int64Index([215, 216, 834, 835], dtype='int64'),\n",
       " 'MCO     ': Int64Index([180, 181, 495, 496, 537, 538, 539, 540, 541, 542, 680, 681, 682,\n",
       "             683],\n",
       "            dtype='int64'),\n",
       " 'MCT     ': Int64Index([848, 849], dtype='int64'),\n",
       " 'MDZ     ': Int64Index([627, 820, 821, 822], dtype='int64'),\n",
       " 'MED     ': Int64Index([556, 557], dtype='int64'),\n",
       " 'MEL     ': Int64Index([492, 493, 592, 593], dtype='int64'),\n",
       " 'MEM     ': Int64Index([998, 999], dtype='int64'),\n",
       " 'MEX     ': Int64Index([104, 276, 277, 612, 613, 614, 615, 840, 841, 842, 843], dtype='int64'),\n",
       " 'MGW     ': Int64Index([823, 824, 825, 826, 827, 828], dtype='int64'),\n",
       " 'MIA     ': Int64Index([213, 214, 596, 673, 674, 812, 813, 814, 815, 830, 831, 832, 833,\n",
       "             904, 905, 906, 907, 941, 942],\n",
       "            dtype='int64'),\n",
       " 'MLX     ': Int64Index([628, 629, 630], dtype='int64'),\n",
       " 'MNL     ': Int64Index([ 59,  60,  61,  62,  63,  64, 642, 643, 701, 702, 921, 922, 923,\n",
       "             924, 925, 926, 927, 928, 929, 930],\n",
       "            dtype='int64'),\n",
       " 'MQN     ': Int64Index([266, 267], dtype='int64'),\n",
       " 'MRS     ': Int64Index([249, 250, 251, 252, 253, 254, 918, 939, 940], dtype='int64'),\n",
       " 'MSN     ': Int64Index([992, 993, 994, 995], dtype='int64'),\n",
       " 'MSO     ': Int64Index([578, 579], dtype='int64'),\n",
       " 'MSY     ': Int64Index([475, 476], dtype='int64'),\n",
       " 'MUC     ': Int64Index([290, 708, 709], dtype='int64'),\n",
       " 'MVD     ': Int64Index([84], dtype='int64'),\n",
       " 'NAS     ': Int64Index([466, 467, 660, 661, 710, 711, 860, 861, 862, 863], dtype='int64'),\n",
       " 'NBO     ': Int64Index([545, 546, 547], dtype='int64'),\n",
       " 'NRT     ': Int64Index([99, 953, 954], dtype='int64'),\n",
       " 'OAK     ': Int64Index([798, 799], dtype='int64'),\n",
       " 'OGG     ': Int64Index([231, 232, 693, 694], dtype='int64'),\n",
       " 'OMA     ': Int64Index([111, 112, 113, 114, 115], dtype='int64'),\n",
       " 'ORD     ': Int64Index([401, 402, 403, 471, 472, 532, 533, 534, 666, 667, 668, 690, 800], dtype='int64'),\n",
       " 'ORY     ': Int64Index([407, 408, 409, 410, 411, 412], dtype='int64'),\n",
       " 'OTP     ': Int64Index([91, 92, 149, 150, 490, 491, 902, 903], dtype='int64'),\n",
       " 'PBI     ': Int64Index([425, 426], dtype='int64'),\n",
       " 'PDX     ': Int64Index([299, 300, 669, 670, 915, 980], dtype='int64'),\n",
       " 'PHL     ': Int64Index([599, 600], dtype='int64'),\n",
       " 'PHX     ': Int64Index([209, 210, 227, 228, 229, 230, 671, 672, 684, 685, 686, 687], dtype='int64'),\n",
       " 'PVG     ': Int64Index([30, 31, 32, 172, 173, 174, 178, 179, 352, 353, 447, 448, 449, 450], dtype='int64'),\n",
       " 'PVR     ': Int64Index([981, 982], dtype='int64'),\n",
       " 'RAK     ': Int64Index([948, 949, 950, 951], dtype='int64'),\n",
       " 'REN     ': Int64Index([527, 528], dtype='int64'),\n",
       " 'RUH     ': Int64Index([356, 357], dtype='int64'),\n",
       " 'SAN     ': Int64Index([582, 583], dtype='int64'),\n",
       " 'SAT     ': Int64Index([625, 626], dtype='int64'),\n",
       " 'SAV     ': Int64Index([105], dtype='int64'),\n",
       " 'SDF     ': Int64Index([120, 121, 618], dtype='int64'),\n",
       " 'SDQ     ': Int64Index([943], dtype='int64'),\n",
       " 'SDU     ': Int64Index([427, 428, 429, 430], dtype='int64'),\n",
       " 'SFO     ': Int64Index([108, 370, 371, 584, 585, 601, 697, 698, 699, 700, 829, 996, 997], dtype='int64'),\n",
       " 'SGC     ': Int64Index([33], dtype='int64'),\n",
       " 'SGN     ': Int64Index([378, 379, 383, 384, 385, 386, 387, 388, 389, 390, 720, 721, 722,\n",
       "             723],\n",
       "            dtype='int64'),\n",
       " 'SHA     ': Int64Index([175], dtype='int64'),\n",
       " 'SHV     ': Int64Index([892, 893, 894, 895], dtype='int64'),\n",
       " 'SIN     ': Int64Index([7, 8, 9, 10, 11, 12, 13, 14, 15, 16, 17, 18, 340, 341], dtype='int64'),\n",
       " 'SJD     ': Int64Index([189, 190], dtype='int64'),\n",
       " 'SJO     ': Int64Index([985, 986], dtype='int64'),\n",
       " 'SJU     ': Int64Index([278, 279, 280, 281, 405, 406], dtype='int64'),\n",
       " 'SKG     ': Int64Index([186], dtype='int64'),\n",
       " 'SMI     ': Int64Index([749], dtype='int64'),\n",
       " 'SNA     ': Int64Index([413, 414, 568, 569], dtype='int64'),\n",
       " 'SOF     ': Int64Index([512, 513, 514, 515, 516, 770, 771, 778, 779, 780, 781, 782, 783,\n",
       "             784, 785],\n",
       "            dtype='int64'),\n",
       " 'SSA     ': Int64Index([644, 645], dtype='int64'),\n",
       " 'STL     ': Int64Index([219, 220], dtype='int64'),\n",
       " 'SVO     ': Int64Index([3, 4, 457, 458, 459, 460, 461, 969, 970], dtype='int64'),\n",
       " 'SVQ     ': Int64Index([529], dtype='int64'),\n",
       " 'SXM     ': Int64Index([303, 304, 305, 306], dtype='int64'),\n",
       " 'SYD     ': Int64Index([212, 530, 531, 756, 757], dtype='int64'),\n",
       " 'TIA     ': Int64Index([184, 185], dtype='int64'),\n",
       " 'TLS     ': Int64Index([543, 544, 836, 837, 838, 839], dtype='int64'),\n",
       " 'TLV     ': Int64Index([128, 129, 130, 131, 952], dtype='int64'),\n",
       " 'TPA     ': Int64Index([58], dtype='int64'),\n",
       " 'TUS     ': Int64Index([19, 468], dtype='int64'),\n",
       " 'TXL     ': Int64Index([237, 238, 239, 240], dtype='int64'),\n",
       " 'TYR     ': Int64Index([145, 146], dtype='int64'),\n",
       " 'ULN     ': Int64Index([65, 66], dtype='int64'),\n",
       " 'UVF     ': Int64Index([437, 438, 439, 440], dtype='int64'),\n",
       " 'VPS     ': Int64Index([417, 418, 419, 420], dtype='int64'),\n",
       " 'VVI     ': Int64Index([726, 727], dtype='int64'),\n",
       " 'WAW     ': Int64Index([241, 242, 243, 564], dtype='int64'),\n",
       " 'WDH     ': Int64Index([521, 522, 523, 524], dtype='int64'),\n",
       " 'WRO     ': Int64Index([879], dtype='int64'),\n",
       " 'YHZ     ': Int64Index([217, 218], dtype='int64'),\n",
       " 'YNB     ': Int64Index([884, 885, 886, 887], dtype='int64'),\n",
       " 'YUL     ': Int64Index([333, 334], dtype='int64'),\n",
       " 'YVR     ': Int64Index([116, 117, 675, 676, 677, 804, 805], dtype='int64'),\n",
       " 'YWG     ': Int64Index([22, 23, 24, 25, 26, 27, 28, 29, 391, 392, 393, 394], dtype='int64'),\n",
       " 'YXE     ': Int64Index([621], dtype='int64'),\n",
       " 'YYC     ': Int64Index([961, 962, 963, 964], dtype='int64'),\n",
       " 'YYZ     ': Int64Index([678, 679], dtype='int64'),\n",
       " 'ZRH     ': Int64Index([67, 68, 69, 70, 71, 72, 73, 74, 75, 286, 287, 288, 289], dtype='int64')}"
      ]
     },
     "execution_count": 42,
     "metadata": {},
     "output_type": "execute_result"
    }
   ],
   "source": [
    "arr_ports.groups"
   ]
  },
  {
   "cell_type": "code",
   "execution_count": 43,
   "metadata": {
    "collapsed": false,
    "deletable": true,
    "editable": true
   },
   "outputs": [
    {
     "data": {
      "text/html": [
       "<div>\n",
       "<table border=\"1\" class=\"dataframe\">\n",
       "  <thead>\n",
       "    <tr style=\"text-align: right;\">\n",
       "      <th></th>\n",
       "      <th>arr_port</th>\n",
       "      <th>pax</th>\n",
       "    </tr>\n",
       "  </thead>\n",
       "  <tbody>\n",
       "    <tr>\n",
       "      <th>118</th>\n",
       "      <td>ACC</td>\n",
       "      <td>3</td>\n",
       "    </tr>\n",
       "    <tr>\n",
       "      <th>119</th>\n",
       "      <td>ACC</td>\n",
       "      <td>3</td>\n",
       "    </tr>\n",
       "  </tbody>\n",
       "</table>\n",
       "</div>"
      ],
      "text/plain": [
       "     arr_port  pax\n",
       "118  ACC         3\n",
       "119  ACC         3"
      ]
     },
     "execution_count": 43,
     "metadata": {},
     "output_type": "execute_result"
    }
   ],
   "source": [
    "arr_ports.get_group('ACC     ')"
   ]
  },
  {
   "cell_type": "code",
   "execution_count": 46,
   "metadata": {
    "collapsed": false,
    "deletable": true,
    "editable": true
   },
   "outputs": [
    {
     "data": {
      "text/plain": [
       "pandas.core.groupby.DataFrameGroupBy"
      ]
     },
     "execution_count": 46,
     "metadata": {},
     "output_type": "execute_result"
    }
   ],
   "source": [
    "type(arr_ports)"
   ]
  },
  {
   "cell_type": "code",
   "execution_count": 45,
   "metadata": {
    "collapsed": true,
    "deletable": true,
    "editable": true
   },
   "outputs": [
    {
     "name": "stdout",
     "output_type": "stream",
     "text": [
      "ACC     \n",
      "6\n",
      "ADD     \n",
      "2\n",
      "AGP     \n",
      "6\n",
      "ALA     \n",
      "2\n",
      "ALC     \n",
      "4\n",
      "ALG     \n",
      "0\n",
      "AMD     \n",
      "1\n",
      "AMS     \n",
      "1\n",
      "ANC     \n",
      "0\n",
      "ASU     \n",
      "-10\n",
      "ATH     \n",
      "4\n",
      "ATL     \n",
      "3\n",
      "ATQ     \n",
      "1\n",
      "AUH     \n",
      "0\n",
      "AUS     \n",
      "2\n",
      "AYT     \n",
      "0\n",
      "BBI     \n",
      "0\n",
      "BCN     \n",
      "5\n",
      "BEY     \n",
      "4\n",
      "BHM     \n",
      "-1\n",
      "BJV     \n",
      "8\n",
      "BJX     \n",
      "2\n",
      "BKK     \n",
      "2\n",
      "BLQ     \n",
      "2\n",
      "BLR     \n",
      "0\n",
      "BNA     \n",
      "4\n",
      "BNE     \n",
      "6\n",
      "BOG     \n",
      "0\n",
      "BOI     \n",
      "3\n",
      "BOM     \n",
      "5\n",
      "BOS     \n",
      "11\n",
      "BRD     \n",
      "2\n",
      "BRU     \n",
      "2\n",
      "BUD     \n",
      "0\n",
      "BUF     \n",
      "2\n",
      "BWI     \n",
      "10\n",
      "CAG     \n",
      "0\n",
      "CAI     \n",
      "2\n",
      "CAN     \n",
      "0\n",
      "CBR     \n",
      "0\n",
      "CCJ     \n",
      "-3\n",
      "CCS     \n",
      "0\n",
      "CDG     \n",
      "4\n",
      "CGK     \n",
      "12\n",
      "CHQ     \n",
      "0\n",
      "CLT     \n",
      "5\n",
      "CMB     \n",
      "0\n",
      "COK     \n",
      "7\n",
      "COS     \n",
      "6\n",
      "CTA     \n",
      "0\n",
      "CUN     \n",
      "4\n",
      "CUR     \n",
      "0\n",
      "CUZ     \n",
      "0\n",
      "CVG     \n",
      "2\n",
      "CZM     \n",
      "4\n",
      "DAB     \n",
      "2\n",
      "DAC     \n",
      "4\n",
      "DAY     \n",
      "2\n",
      "DCA     \n",
      "50\n",
      "DEL     \n",
      "7\n",
      "DEN     \n",
      "6\n",
      "DFW     \n",
      "-2\n",
      "DMM     \n",
      "2\n",
      "DOH     \n",
      "3\n",
      "DTW     \n",
      "3\n",
      "DXB     \n",
      "0\n",
      "ELP     \n",
      "0\n",
      "EWR     \n",
      "8\n",
      "EZE     \n",
      "2\n",
      "FAI     \n",
      "4\n",
      "FAO     \n",
      "2\n",
      "FCO     \n",
      "3\n",
      "FLL     \n",
      "13\n",
      "FRA     \n",
      "4\n",
      "FUE     \n",
      "0\n",
      "GAU     \n",
      "-3\n",
      "GIZ     \n",
      "0\n",
      "GRU     \n",
      "0\n",
      "GUM     \n",
      "2\n",
      "HAV     \n",
      "0\n",
      "HER     \n",
      "4\n",
      "HKG     \n",
      "2\n",
      "HMO     \n",
      "1\n",
      "HNL     \n",
      "0\n",
      "ICN     \n",
      "0\n",
      "IND     \n",
      "3\n",
      "ISB     \n",
      "0\n",
      "IST     \n",
      "7\n",
      "ISU     \n",
      "0\n",
      "IXE     \n",
      "0\n",
      "JAC     \n",
      "0\n",
      "JAX     \n",
      "0\n",
      "JED     \n",
      "-1\n",
      "JFK     \n",
      "14\n",
      "JNB     \n",
      "2\n",
      "KHI     \n",
      "2\n",
      "KIV     \n",
      "0\n",
      "KUL     \n",
      "2\n",
      "LAO     \n",
      "-2\n",
      "LAS     \n",
      "11\n",
      "LAX     \n",
      "5\n",
      "LCA     \n",
      "1\n",
      "LCY     \n",
      "4\n",
      "LED     \n",
      "1\n",
      "LGA     \n",
      "12\n",
      "LHR     \n",
      "7\n",
      "LIM     \n",
      "4\n",
      "LIN     \n",
      "2\n",
      "LIR     \n",
      "6\n",
      "LIS     \n",
      "5\n",
      "LIT     \n",
      "2\n",
      "LOS     \n",
      "1\n",
      "LYR     \n",
      "0\n",
      "MAA     \n",
      "0\n",
      "MAD     \n",
      "1\n",
      "MAN     \n",
      "4\n",
      "MCI     \n",
      "4\n",
      "MCO     \n",
      "0\n",
      "MCT     \n",
      "0\n",
      "MDZ     \n",
      "0\n",
      "MED     \n",
      "0\n",
      "MEL     \n",
      "0\n",
      "MEM     \n",
      "0\n",
      "MEX     \n",
      "5\n",
      "MGW     \n",
      "2\n",
      "MIA     \n",
      "11\n",
      "MLX     \n",
      "-3\n",
      "MNL     \n",
      "2\n",
      "MQN     \n",
      "6\n",
      "MRS     \n",
      "3\n",
      "MSN     \n",
      "2\n",
      "MSO     \n",
      "2\n",
      "MSY     \n",
      "0\n",
      "MUC     \n",
      "3\n",
      "MVD     \n",
      "2\n",
      "NAS     \n",
      "-8\n",
      "NBO     \n",
      "3\n",
      "NRT     \n",
      "8\n",
      "OAK     \n",
      "2\n",
      "OGG     \n",
      "0\n",
      "OMA     \n",
      "1\n",
      "ORD     \n",
      "9\n",
      "ORY     \n",
      "2\n",
      "OTP     \n",
      "2\n",
      "PBI     \n",
      "2\n",
      "PDX     \n",
      "6\n",
      "PHL     \n",
      "2\n",
      "PHX     \n",
      "4\n",
      "PVG     \n",
      "13\n",
      "PVR     \n",
      "4\n",
      "RAK     \n",
      "0\n",
      "REN     \n",
      "2\n",
      "RUH     \n",
      "2\n",
      "SAN     \n",
      "0\n",
      "SAT     \n",
      "2\n",
      "SAV     \n",
      "6\n",
      "SDF     \n",
      "3\n",
      "SDQ     \n",
      "1\n",
      "SDU     \n",
      "2\n",
      "SFO     \n",
      "9\n",
      "SGC     \n",
      "1\n",
      "SGN     \n",
      "2\n",
      "SHA     \n",
      "1\n",
      "SHV     \n",
      "4\n",
      "SIN     \n",
      "2\n",
      "SJD     \n",
      "4\n",
      "SJO     \n",
      "0\n",
      "SJU     \n",
      "6\n",
      "SKG     \n",
      "1\n",
      "SMI     \n",
      "1\n",
      "SNA     \n",
      "4\n",
      "SOF     \n",
      "1\n",
      "SSA     \n",
      "2\n",
      "STL     \n",
      "2\n",
      "SVO     \n",
      "12\n",
      "SVQ     \n",
      "1\n",
      "SXM     \n",
      "0\n",
      "SYD     \n",
      "-1\n",
      "TIA     \n",
      "2\n",
      "TLS     \n",
      "0\n",
      "TLV     \n",
      "1\n",
      "TPA     \n",
      "2\n",
      "TUS     \n",
      "2\n",
      "TXL     \n",
      "0\n",
      "TYR     \n",
      "2\n",
      "ULN     \n",
      "2\n",
      "UVF     \n",
      "0\n",
      "VPS     \n",
      "2\n",
      "VVI     \n",
      "0\n",
      "WAW     \n",
      "0\n",
      "WDH     \n",
      "2\n",
      "WRO     \n",
      "1\n",
      "YHZ     \n",
      "2\n",
      "YNB     \n",
      "0\n",
      "YUL     \n",
      "0\n",
      "YVR     \n",
      "5\n",
      "YWG     \n",
      "4\n",
      "YXE     \n",
      "1\n",
      "YYC     \n",
      "0\n",
      "YYZ     \n",
      "2\n",
      "ZRH     \n",
      "-1\n"
     ]
    }
   ],
   "source": [
    "for airport, val in arr_ports:\n",
    "    print \"%s\" %(airport)\n",
    "    print val['pax'].sum()"
   ]
  },
  {
   "cell_type": "markdown",
   "metadata": {
    "deletable": true,
    "editable": true
   },
   "source": [
    "#### 4.3) Sum, sort and get top 10"
   ]
  },
  {
   "cell_type": "code",
   "execution_count": 47,
   "metadata": {
    "collapsed": false,
    "deletable": true,
    "editable": true
   },
   "outputs": [
    {
     "data": {
      "text/html": [
       "<div>\n",
       "<table border=\"1\" class=\"dataframe\">\n",
       "  <thead>\n",
       "    <tr style=\"text-align: right;\">\n",
       "      <th></th>\n",
       "      <th>pax</th>\n",
       "    </tr>\n",
       "    <tr>\n",
       "      <th>arr_port</th>\n",
       "      <th></th>\n",
       "    </tr>\n",
       "  </thead>\n",
       "  <tbody>\n",
       "    <tr>\n",
       "      <th>ACC</th>\n",
       "      <td>6</td>\n",
       "    </tr>\n",
       "    <tr>\n",
       "      <th>ADD</th>\n",
       "      <td>2</td>\n",
       "    </tr>\n",
       "    <tr>\n",
       "      <th>AGP</th>\n",
       "      <td>6</td>\n",
       "    </tr>\n",
       "    <tr>\n",
       "      <th>ALA</th>\n",
       "      <td>2</td>\n",
       "    </tr>\n",
       "    <tr>\n",
       "      <th>ALC</th>\n",
       "      <td>4</td>\n",
       "    </tr>\n",
       "    <tr>\n",
       "      <th>ALG</th>\n",
       "      <td>0</td>\n",
       "    </tr>\n",
       "    <tr>\n",
       "      <th>AMD</th>\n",
       "      <td>1</td>\n",
       "    </tr>\n",
       "    <tr>\n",
       "      <th>AMS</th>\n",
       "      <td>1</td>\n",
       "    </tr>\n",
       "    <tr>\n",
       "      <th>ANC</th>\n",
       "      <td>0</td>\n",
       "    </tr>\n",
       "    <tr>\n",
       "      <th>ASU</th>\n",
       "      <td>-10</td>\n",
       "    </tr>\n",
       "    <tr>\n",
       "      <th>ATH</th>\n",
       "      <td>4</td>\n",
       "    </tr>\n",
       "    <tr>\n",
       "      <th>ATL</th>\n",
       "      <td>3</td>\n",
       "    </tr>\n",
       "    <tr>\n",
       "      <th>ATQ</th>\n",
       "      <td>1</td>\n",
       "    </tr>\n",
       "    <tr>\n",
       "      <th>AUH</th>\n",
       "      <td>0</td>\n",
       "    </tr>\n",
       "    <tr>\n",
       "      <th>AUS</th>\n",
       "      <td>2</td>\n",
       "    </tr>\n",
       "    <tr>\n",
       "      <th>AYT</th>\n",
       "      <td>0</td>\n",
       "    </tr>\n",
       "    <tr>\n",
       "      <th>BBI</th>\n",
       "      <td>0</td>\n",
       "    </tr>\n",
       "    <tr>\n",
       "      <th>BCN</th>\n",
       "      <td>5</td>\n",
       "    </tr>\n",
       "    <tr>\n",
       "      <th>BEY</th>\n",
       "      <td>4</td>\n",
       "    </tr>\n",
       "    <tr>\n",
       "      <th>BHM</th>\n",
       "      <td>-1</td>\n",
       "    </tr>\n",
       "    <tr>\n",
       "      <th>BJV</th>\n",
       "      <td>8</td>\n",
       "    </tr>\n",
       "    <tr>\n",
       "      <th>BJX</th>\n",
       "      <td>2</td>\n",
       "    </tr>\n",
       "    <tr>\n",
       "      <th>BKK</th>\n",
       "      <td>2</td>\n",
       "    </tr>\n",
       "    <tr>\n",
       "      <th>BLQ</th>\n",
       "      <td>2</td>\n",
       "    </tr>\n",
       "    <tr>\n",
       "      <th>BLR</th>\n",
       "      <td>0</td>\n",
       "    </tr>\n",
       "    <tr>\n",
       "      <th>BNA</th>\n",
       "      <td>4</td>\n",
       "    </tr>\n",
       "    <tr>\n",
       "      <th>BNE</th>\n",
       "      <td>6</td>\n",
       "    </tr>\n",
       "    <tr>\n",
       "      <th>BOG</th>\n",
       "      <td>0</td>\n",
       "    </tr>\n",
       "    <tr>\n",
       "      <th>BOI</th>\n",
       "      <td>3</td>\n",
       "    </tr>\n",
       "    <tr>\n",
       "      <th>BOM</th>\n",
       "      <td>5</td>\n",
       "    </tr>\n",
       "    <tr>\n",
       "      <th>...</th>\n",
       "      <td>...</td>\n",
       "    </tr>\n",
       "    <tr>\n",
       "      <th>SOF</th>\n",
       "      <td>1</td>\n",
       "    </tr>\n",
       "    <tr>\n",
       "      <th>SSA</th>\n",
       "      <td>2</td>\n",
       "    </tr>\n",
       "    <tr>\n",
       "      <th>STL</th>\n",
       "      <td>2</td>\n",
       "    </tr>\n",
       "    <tr>\n",
       "      <th>SVO</th>\n",
       "      <td>12</td>\n",
       "    </tr>\n",
       "    <tr>\n",
       "      <th>SVQ</th>\n",
       "      <td>1</td>\n",
       "    </tr>\n",
       "    <tr>\n",
       "      <th>SXM</th>\n",
       "      <td>0</td>\n",
       "    </tr>\n",
       "    <tr>\n",
       "      <th>SYD</th>\n",
       "      <td>-1</td>\n",
       "    </tr>\n",
       "    <tr>\n",
       "      <th>TIA</th>\n",
       "      <td>2</td>\n",
       "    </tr>\n",
       "    <tr>\n",
       "      <th>TLS</th>\n",
       "      <td>0</td>\n",
       "    </tr>\n",
       "    <tr>\n",
       "      <th>TLV</th>\n",
       "      <td>1</td>\n",
       "    </tr>\n",
       "    <tr>\n",
       "      <th>TPA</th>\n",
       "      <td>2</td>\n",
       "    </tr>\n",
       "    <tr>\n",
       "      <th>TUS</th>\n",
       "      <td>2</td>\n",
       "    </tr>\n",
       "    <tr>\n",
       "      <th>TXL</th>\n",
       "      <td>0</td>\n",
       "    </tr>\n",
       "    <tr>\n",
       "      <th>TYR</th>\n",
       "      <td>2</td>\n",
       "    </tr>\n",
       "    <tr>\n",
       "      <th>ULN</th>\n",
       "      <td>2</td>\n",
       "    </tr>\n",
       "    <tr>\n",
       "      <th>UVF</th>\n",
       "      <td>0</td>\n",
       "    </tr>\n",
       "    <tr>\n",
       "      <th>VPS</th>\n",
       "      <td>2</td>\n",
       "    </tr>\n",
       "    <tr>\n",
       "      <th>VVI</th>\n",
       "      <td>0</td>\n",
       "    </tr>\n",
       "    <tr>\n",
       "      <th>WAW</th>\n",
       "      <td>0</td>\n",
       "    </tr>\n",
       "    <tr>\n",
       "      <th>WDH</th>\n",
       "      <td>2</td>\n",
       "    </tr>\n",
       "    <tr>\n",
       "      <th>WRO</th>\n",
       "      <td>1</td>\n",
       "    </tr>\n",
       "    <tr>\n",
       "      <th>YHZ</th>\n",
       "      <td>2</td>\n",
       "    </tr>\n",
       "    <tr>\n",
       "      <th>YNB</th>\n",
       "      <td>0</td>\n",
       "    </tr>\n",
       "    <tr>\n",
       "      <th>YUL</th>\n",
       "      <td>0</td>\n",
       "    </tr>\n",
       "    <tr>\n",
       "      <th>YVR</th>\n",
       "      <td>5</td>\n",
       "    </tr>\n",
       "    <tr>\n",
       "      <th>YWG</th>\n",
       "      <td>4</td>\n",
       "    </tr>\n",
       "    <tr>\n",
       "      <th>YXE</th>\n",
       "      <td>1</td>\n",
       "    </tr>\n",
       "    <tr>\n",
       "      <th>YYC</th>\n",
       "      <td>0</td>\n",
       "    </tr>\n",
       "    <tr>\n",
       "      <th>YYZ</th>\n",
       "      <td>2</td>\n",
       "    </tr>\n",
       "    <tr>\n",
       "      <th>ZRH</th>\n",
       "      <td>-1</td>\n",
       "    </tr>\n",
       "  </tbody>\n",
       "</table>\n",
       "<p>201 rows × 1 columns</p>\n",
       "</div>"
      ],
      "text/plain": [
       "          pax\n",
       "arr_port     \n",
       "ACC         6\n",
       "ADD         2\n",
       "AGP         6\n",
       "ALA         2\n",
       "ALC         4\n",
       "ALG         0\n",
       "AMD         1\n",
       "AMS         1\n",
       "ANC         0\n",
       "ASU       -10\n",
       "ATH         4\n",
       "ATL         3\n",
       "ATQ         1\n",
       "AUH         0\n",
       "AUS         2\n",
       "AYT         0\n",
       "BBI         0\n",
       "BCN         5\n",
       "BEY         4\n",
       "BHM        -1\n",
       "BJV         8\n",
       "BJX         2\n",
       "BKK         2\n",
       "BLQ         2\n",
       "BLR         0\n",
       "BNA         4\n",
       "BNE         6\n",
       "BOG         0\n",
       "BOI         3\n",
       "BOM         5\n",
       "...       ...\n",
       "SOF         1\n",
       "SSA         2\n",
       "STL         2\n",
       "SVO        12\n",
       "SVQ         1\n",
       "SXM         0\n",
       "SYD        -1\n",
       "TIA         2\n",
       "TLS         0\n",
       "TLV         1\n",
       "TPA         2\n",
       "TUS         2\n",
       "TXL         0\n",
       "TYR         2\n",
       "ULN         2\n",
       "UVF         0\n",
       "VPS         2\n",
       "VVI         0\n",
       "WAW         0\n",
       "WDH         2\n",
       "WRO         1\n",
       "YHZ         2\n",
       "YNB         0\n",
       "YUL         0\n",
       "YVR         5\n",
       "YWG         4\n",
       "YXE         1\n",
       "YYC         0\n",
       "YYZ         2\n",
       "ZRH        -1\n",
       "\n",
       "[201 rows x 1 columns]"
      ]
     },
     "execution_count": 47,
     "metadata": {},
     "output_type": "execute_result"
    }
   ],
   "source": [
    "arr_ports.sum()"
   ]
  },
  {
   "cell_type": "code",
   "execution_count": 48,
   "metadata": {
    "collapsed": false,
    "deletable": true,
    "editable": true
   },
   "outputs": [
    {
     "data": {
      "text/html": [
       "<div>\n",
       "<table border=\"1\" class=\"dataframe\">\n",
       "  <thead>\n",
       "    <tr style=\"text-align: right;\">\n",
       "      <th></th>\n",
       "      <th>pax</th>\n",
       "    </tr>\n",
       "    <tr>\n",
       "      <th>arr_port</th>\n",
       "      <th></th>\n",
       "    </tr>\n",
       "  </thead>\n",
       "  <tbody>\n",
       "    <tr>\n",
       "      <th>DCA</th>\n",
       "      <td>50</td>\n",
       "    </tr>\n",
       "    <tr>\n",
       "      <th>JFK</th>\n",
       "      <td>14</td>\n",
       "    </tr>\n",
       "    <tr>\n",
       "      <th>FLL</th>\n",
       "      <td>13</td>\n",
       "    </tr>\n",
       "    <tr>\n",
       "      <th>PVG</th>\n",
       "      <td>13</td>\n",
       "    </tr>\n",
       "    <tr>\n",
       "      <th>CGK</th>\n",
       "      <td>12</td>\n",
       "    </tr>\n",
       "    <tr>\n",
       "      <th>LGA</th>\n",
       "      <td>12</td>\n",
       "    </tr>\n",
       "    <tr>\n",
       "      <th>SVO</th>\n",
       "      <td>12</td>\n",
       "    </tr>\n",
       "    <tr>\n",
       "      <th>LAS</th>\n",
       "      <td>11</td>\n",
       "    </tr>\n",
       "    <tr>\n",
       "      <th>BOS</th>\n",
       "      <td>11</td>\n",
       "    </tr>\n",
       "    <tr>\n",
       "      <th>MIA</th>\n",
       "      <td>11</td>\n",
       "    </tr>\n",
       "  </tbody>\n",
       "</table>\n",
       "</div>"
      ],
      "text/plain": [
       "          pax\n",
       "arr_port     \n",
       "DCA        50\n",
       "JFK        14\n",
       "FLL        13\n",
       "PVG        13\n",
       "CGK        12\n",
       "LGA        12\n",
       "SVO        12\n",
       "LAS        11\n",
       "BOS        11\n",
       "MIA        11"
      ]
     },
     "execution_count": 48,
     "metadata": {},
     "output_type": "execute_result"
    }
   ],
   "source": [
    "arr_ports.sum().sort_values('pax',ascending=False).head(10)"
   ]
  },
  {
   "cell_type": "code",
   "execution_count": null,
   "metadata": {
    "collapsed": true,
    "deletable": true,
    "editable": true
   },
   "outputs": [],
   "source": []
  },
  {
   "cell_type": "markdown",
   "metadata": {
    "deletable": true,
    "editable": true
   },
   "source": [
    "## 5) Adjust the code to work with Big data"
   ]
  },
  {
   "cell_type": "raw",
   "metadata": {
    "deletable": true,
    "editable": true
   },
   "source": [
    "What do we have so far?"
   ]
  },
  {
   "cell_type": "code",
   "execution_count": 49,
   "metadata": {
    "collapsed": true,
    "deletable": true,
    "editable": true
   },
   "outputs": [
    {
     "data": {
      "text/html": [
       "<div>\n",
       "<table border=\"1\" class=\"dataframe\">\n",
       "  <thead>\n",
       "    <tr style=\"text-align: right;\">\n",
       "      <th></th>\n",
       "      <th>pax</th>\n",
       "    </tr>\n",
       "    <tr>\n",
       "      <th>arr_port</th>\n",
       "      <th></th>\n",
       "    </tr>\n",
       "  </thead>\n",
       "  <tbody>\n",
       "    <tr>\n",
       "      <th>DCA</th>\n",
       "      <td>50</td>\n",
       "    </tr>\n",
       "    <tr>\n",
       "      <th>JFK</th>\n",
       "      <td>14</td>\n",
       "    </tr>\n",
       "    <tr>\n",
       "      <th>FLL</th>\n",
       "      <td>13</td>\n",
       "    </tr>\n",
       "    <tr>\n",
       "      <th>PVG</th>\n",
       "      <td>13</td>\n",
       "    </tr>\n",
       "    <tr>\n",
       "      <th>CGK</th>\n",
       "      <td>12</td>\n",
       "    </tr>\n",
       "    <tr>\n",
       "      <th>LGA</th>\n",
       "      <td>12</td>\n",
       "    </tr>\n",
       "    <tr>\n",
       "      <th>SVO</th>\n",
       "      <td>12</td>\n",
       "    </tr>\n",
       "    <tr>\n",
       "      <th>LAS</th>\n",
       "      <td>11</td>\n",
       "    </tr>\n",
       "    <tr>\n",
       "      <th>BOS</th>\n",
       "      <td>11</td>\n",
       "    </tr>\n",
       "    <tr>\n",
       "      <th>MIA</th>\n",
       "      <td>11</td>\n",
       "    </tr>\n",
       "  </tbody>\n",
       "</table>\n",
       "</div>"
      ],
      "text/plain": [
       "          pax\n",
       "arr_port     \n",
       "DCA        50\n",
       "JFK        14\n",
       "FLL        13\n",
       "PVG        13\n",
       "CGK        12\n",
       "LGA        12\n",
       "SVO        12\n",
       "LAS        11\n",
       "BOS        11\n",
       "MIA        11"
      ]
     },
     "execution_count": 49,
     "metadata": {},
     "output_type": "execute_result"
    }
   ],
   "source": [
    "b = pd.read_csv('bookings.sample.csv.bz2',sep='^', usecols=['arr_port','pax', 'year'], nrows=1000)\n",
    "b=b.dropna()\n",
    "b=b[b['year']==2013]\n",
    "b.drop('year',axis=1, inplace=True)\n",
    "arr_ports=b.groupby('arr_port')\n",
    "arr_ports.sum().sort_values('pax',ascending=False).head(10)"
   ]
  },
  {
   "cell_type": "code",
   "execution_count": 62,
   "metadata": {
    "collapsed": true,
    "deletable": true,
    "editable": true
   },
   "outputs": [],
   "source": [
    "b = pd.read_csv('bookings.sample.csv.bz2',sep='^', usecols=['arr_port','pax', 'year']\\\n",
    "                , iterator=True)"
   ]
  },
  {
   "cell_type": "code",
   "execution_count": 51,
   "metadata": {
    "collapsed": false,
    "deletable": true,
    "editable": true
   },
   "outputs": [
    {
     "data": {
      "text/plain": [
       "pandas.io.parsers.TextFileReader"
      ]
     },
     "execution_count": 51,
     "metadata": {},
     "output_type": "execute_result"
    }
   ],
   "source": [
    "type(b)"
   ]
  },
  {
   "cell_type": "code",
   "execution_count": 52,
   "metadata": {
    "collapsed": false,
    "deletable": true,
    "editable": true
   },
   "outputs": [
    {
     "data": {
      "text/plain": [
       "pandas.core.frame.DataFrame"
      ]
     },
     "execution_count": 52,
     "metadata": {},
     "output_type": "execute_result"
    }
   ],
   "source": [
    "b2 = pd.read_csv('bookings.sample.csv.bz2',sep='^', usecols=['arr_port','pax', 'year'], nrows=1000)\n",
    "type(b2)"
   ]
  },
  {
   "cell_type": "code",
   "execution_count": 63,
   "metadata": {
    "collapsed": true,
    "deletable": true,
    "editable": true
   },
   "outputs": [],
   "source": [
    "b0=b.get_chunk(1000)"
   ]
  },
  {
   "cell_type": "code",
   "execution_count": 54,
   "metadata": {
    "collapsed": false,
    "deletable": true,
    "editable": true
   },
   "outputs": [
    {
     "data": {
      "text/plain": [
       "pandas.core.frame.DataFrame"
      ]
     },
     "execution_count": 54,
     "metadata": {},
     "output_type": "execute_result"
    }
   ],
   "source": [
    "type(b0)"
   ]
  },
  {
   "cell_type": "code",
   "execution_count": 64,
   "metadata": {
    "collapsed": true,
    "deletable": true,
    "editable": true
   },
   "outputs": [],
   "source": [
    "b1=b.get_chunk(8000)"
   ]
  },
  {
   "cell_type": "code",
   "execution_count": 65,
   "metadata": {
    "collapsed": false,
    "deletable": true,
    "editable": true
   },
   "outputs": [],
   "source": [
    "b2=b.get_chunk(3000)"
   ]
  },
  {
   "cell_type": "code",
   "execution_count": 66,
   "metadata": {
    "collapsed": false,
    "deletable": true,
    "editable": true
   },
   "outputs": [
    {
     "data": {
      "text/plain": [
       "999"
      ]
     },
     "execution_count": 66,
     "metadata": {},
     "output_type": "execute_result"
    }
   ],
   "source": [
    "len(b2)"
   ]
  },
  {
   "cell_type": "code",
   "execution_count": 73,
   "metadata": {
    "collapsed": true,
    "deletable": true,
    "editable": true
   },
   "outputs": [],
   "source": [
    "b = pd.read_csv('bookings.sample.csv.bz2',sep='^', usecols=['arr_port','pax', 'year']\\\n",
    "                , chunksize=4000)"
   ]
  },
  {
   "cell_type": "code",
   "execution_count": 68,
   "metadata": {
    "collapsed": false,
    "deletable": true,
    "editable": true
   },
   "outputs": [
    {
     "data": {
      "text/plain": [
       "pandas.io.parsers.TextFileReader"
      ]
     },
     "execution_count": 68,
     "metadata": {},
     "output_type": "execute_result"
    }
   ],
   "source": [
    "type(b)"
   ]
  },
  {
   "cell_type": "code",
   "execution_count": 74,
   "metadata": {
    "collapsed": true,
    "deletable": true,
    "editable": true
   },
   "outputs": [],
   "source": [
    "b0=b.next()"
   ]
  },
  {
   "cell_type": "code",
   "execution_count": 75,
   "metadata": {
    "collapsed": true,
    "deletable": true,
    "editable": true
   },
   "outputs": [],
   "source": [
    "b1=b.next()"
   ]
  },
  {
   "cell_type": "code",
   "execution_count": 76,
   "metadata": {
    "collapsed": true,
    "deletable": true,
    "editable": true
   },
   "outputs": [],
   "source": [
    "b2=b.get_chunk(4000)"
   ]
  },
  {
   "cell_type": "code",
   "execution_count": 77,
   "metadata": {
    "collapsed": false,
    "deletable": true,
    "editable": true
   },
   "outputs": [
    {
     "data": {
      "text/plain": [
       "1999"
      ]
     },
     "execution_count": 77,
     "metadata": {},
     "output_type": "execute_result"
    }
   ],
   "source": [
    "len(b2)"
   ]
  },
  {
   "cell_type": "code",
   "execution_count": 79,
   "metadata": {
    "collapsed": true,
    "deletable": true,
    "editable": true
   },
   "outputs": [
    {
     "name": "stdout",
     "output_type": "stream",
     "text": [
      "   arr_port  pax  year\n",
      "0  LHR        -1  2013\n",
      "1  CLT         1  2013\n",
      "2  CLT         1  2013\n",
      "3  SVO         1  2013\n",
      "4  SVO         1  2013\n",
      "      arr_port  pax  year\n",
      "4000  IST         1  2013\n",
      "4001  IST         1  2013\n",
      "4002  BWI        -1  2013\n",
      "4003  BWI         1  2013\n",
      "4004  BWI        -1  2013\n",
      "      arr_port  pax  year\n",
      "8000  LAX         2  2013\n",
      "8001  LAX        -2  2013\n",
      "8002  LAX        -2  2013\n",
      "8003  LAX         2  2013\n",
      "8004  LAX         2  2013\n"
     ]
    }
   ],
   "source": [
    "b = pd.read_csv('bookings.sample.csv.bz2',sep='^', usecols=['arr_port','pax', 'year']\\\n",
    "                , chunksize=4000)\n",
    "for i, chunk in enumerate(b):\n",
    "    print chunk.head()\n",
    "    if i==3:\n",
    "        break"
   ]
  },
  {
   "cell_type": "markdown",
   "metadata": {},
   "source": [
    "Here comes the code..."
   ]
  },
  {
   "cell_type": "code",
   "execution_count": 82,
   "metadata": {
    "collapsed": true,
    "deletable": true,
    "editable": true
   },
   "outputs": [
    {
     "name": "stdout",
     "output_type": "stream",
     "text": [
      "Chunk: 1, size of chunk 4000\n",
      "Chunk: 2, size of chunk 4000\n",
      "Chunk: 3, size of chunk 1999\n"
     ]
    },
    {
     "data": {
      "text/html": [
       "<div>\n",
       "<table border=\"1\" class=\"dataframe\">\n",
       "  <thead>\n",
       "    <tr style=\"text-align: right;\">\n",
       "      <th></th>\n",
       "      <th>pax</th>\n",
       "    </tr>\n",
       "    <tr>\n",
       "      <th>arr_port</th>\n",
       "      <th></th>\n",
       "    </tr>\n",
       "  </thead>\n",
       "  <tbody>\n",
       "    <tr>\n",
       "      <th>ABQ</th>\n",
       "      <td>4</td>\n",
       "    </tr>\n",
       "    <tr>\n",
       "      <th>ABV</th>\n",
       "      <td>0</td>\n",
       "    </tr>\n",
       "    <tr>\n",
       "      <th>ABZ</th>\n",
       "      <td>-2</td>\n",
       "    </tr>\n",
       "    <tr>\n",
       "      <th>ACC</th>\n",
       "      <td>0</td>\n",
       "    </tr>\n",
       "    <tr>\n",
       "      <th>ADD</th>\n",
       "      <td>4</td>\n",
       "    </tr>\n",
       "  </tbody>\n",
       "</table>\n",
       "</div>"
      ],
      "text/plain": [
       "          pax\n",
       "arr_port     \n",
       "ABQ         4\n",
       "ABV         0\n",
       "ABZ        -2\n",
       "ACC         0\n",
       "ADD         4"
      ]
     },
     "execution_count": 82,
     "metadata": {},
     "output_type": "execute_result"
    }
   ],
   "source": [
    "bc = pd.read_csv('bookings.sample.csv.bz2',sep='^', usecols=['arr_port','pax', 'year']\\\n",
    "                , chunksize=4000)\n",
    "sum_chunks=pd.DataFrame()\n",
    "\n",
    "for i, b in enumerate(bc):\n",
    "    print \"Chunk: %d, size of chunk %d\"%(i+1, len(b))\n",
    "    b=b.dropna()\n",
    "    b=b[b['year']==2013]\n",
    "    b.drop('year',axis=1, inplace=True)\n",
    "    arr_ports=b.groupby('arr_port')\n",
    "    chunk_result= arr_ports.sum()\n",
    "    sum_chunks=sum_chunks.append(chunk_result)\n",
    "    \n",
    "    #.sort_values('pax',ascending=False)\n",
    "    #.head(10)\n",
    "sum_chunks.head()    \n",
    "    \n",
    "    "
   ]
  },
  {
   "cell_type": "code",
   "execution_count": 83,
   "metadata": {
    "collapsed": false,
    "deletable": true,
    "editable": true
   },
   "outputs": [
    {
     "data": {
      "text/html": [
       "<div>\n",
       "<table border=\"1\" class=\"dataframe\">\n",
       "  <thead>\n",
       "    <tr style=\"text-align: right;\">\n",
       "      <th></th>\n",
       "      <th>pax</th>\n",
       "    </tr>\n",
       "    <tr>\n",
       "      <th>arr_port</th>\n",
       "      <th></th>\n",
       "    </tr>\n",
       "  </thead>\n",
       "  <tbody>\n",
       "    <tr>\n",
       "      <th>ABQ</th>\n",
       "      <td>4</td>\n",
       "    </tr>\n",
       "    <tr>\n",
       "      <th>ABV</th>\n",
       "      <td>0</td>\n",
       "    </tr>\n",
       "    <tr>\n",
       "      <th>ABZ</th>\n",
       "      <td>-2</td>\n",
       "    </tr>\n",
       "    <tr>\n",
       "      <th>ACC</th>\n",
       "      <td>0</td>\n",
       "    </tr>\n",
       "    <tr>\n",
       "      <th>ADD</th>\n",
       "      <td>4</td>\n",
       "    </tr>\n",
       "  </tbody>\n",
       "</table>\n",
       "</div>"
      ],
      "text/plain": [
       "          pax\n",
       "arr_port     \n",
       "ABQ         4\n",
       "ABV         0\n",
       "ABZ        -2\n",
       "ACC         0\n",
       "ADD         4"
      ]
     },
     "execution_count": 83,
     "metadata": {},
     "output_type": "execute_result"
    }
   ],
   "source": [
    "sum_chunks.head()\n",
    "\n"
   ]
  },
  {
   "cell_type": "markdown",
   "metadata": {},
   "source": [
    "We have to groupby, sum and sort all the results which correspond to the processing of a single chunk "
   ]
  },
  {
   "cell_type": "code",
   "execution_count": 88,
   "metadata": {
    "collapsed": false,
    "deletable": true,
    "editable": true
   },
   "outputs": [],
   "source": [
    "Top_airports=sum_chunks.groupby(sum_chunks.index)\\\n",
    "    .pax.sum().sort_values(ascending=False).reset_index()"
   ]
  },
  {
   "cell_type": "code",
   "execution_count": 89,
   "metadata": {
    "collapsed": false,
    "deletable": true,
    "editable": true
   },
   "outputs": [
    {
     "data": {
      "text/html": [
       "<div>\n",
       "<table border=\"1\" class=\"dataframe\">\n",
       "  <thead>\n",
       "    <tr style=\"text-align: right;\">\n",
       "      <th></th>\n",
       "      <th>arr_port</th>\n",
       "      <th>pax</th>\n",
       "    </tr>\n",
       "  </thead>\n",
       "  <tbody>\n",
       "    <tr>\n",
       "      <th>0</th>\n",
       "      <td>HKG</td>\n",
       "      <td>112</td>\n",
       "    </tr>\n",
       "    <tr>\n",
       "      <th>1</th>\n",
       "      <td>LGA</td>\n",
       "      <td>95</td>\n",
       "    </tr>\n",
       "    <tr>\n",
       "      <th>2</th>\n",
       "      <td>ORD</td>\n",
       "      <td>94</td>\n",
       "    </tr>\n",
       "    <tr>\n",
       "      <th>3</th>\n",
       "      <td>JFK</td>\n",
       "      <td>92</td>\n",
       "    </tr>\n",
       "    <tr>\n",
       "      <th>4</th>\n",
       "      <td>SFO</td>\n",
       "      <td>91</td>\n",
       "    </tr>\n",
       "  </tbody>\n",
       "</table>\n",
       "</div>"
      ],
      "text/plain": [
       "   arr_port  pax\n",
       "0  HKG       112\n",
       "1  LGA        95\n",
       "2  ORD        94\n",
       "3  JFK        92\n",
       "4  SFO        91"
      ]
     },
     "execution_count": 89,
     "metadata": {},
     "output_type": "execute_result"
    }
   ],
   "source": [
    "Top_airports.head()"
   ]
  },
  {
   "cell_type": "markdown",
   "metadata": {},
   "source": [
    "Compare the results to the simple approach without the chunks. This is to be sure that the concatenation of the chunk results is ok."
   ]
  },
  {
   "cell_type": "code",
   "execution_count": 91,
   "metadata": {
    "collapsed": false,
    "deletable": true,
    "editable": true
   },
   "outputs": [
    {
     "data": {
      "text/html": [
       "<div>\n",
       "<table border=\"1\" class=\"dataframe\">\n",
       "  <thead>\n",
       "    <tr style=\"text-align: right;\">\n",
       "      <th></th>\n",
       "      <th>pax</th>\n",
       "    </tr>\n",
       "    <tr>\n",
       "      <th>arr_port</th>\n",
       "      <th></th>\n",
       "    </tr>\n",
       "  </thead>\n",
       "  <tbody>\n",
       "    <tr>\n",
       "      <th>HKG</th>\n",
       "      <td>112</td>\n",
       "    </tr>\n",
       "    <tr>\n",
       "      <th>LGA</th>\n",
       "      <td>95</td>\n",
       "    </tr>\n",
       "    <tr>\n",
       "      <th>ORD</th>\n",
       "      <td>94</td>\n",
       "    </tr>\n",
       "    <tr>\n",
       "      <th>JFK</th>\n",
       "      <td>92</td>\n",
       "    </tr>\n",
       "    <tr>\n",
       "      <th>LAX</th>\n",
       "      <td>91</td>\n",
       "    </tr>\n",
       "  </tbody>\n",
       "</table>\n",
       "</div>"
      ],
      "text/plain": [
       "          pax\n",
       "arr_port     \n",
       "HKG       112\n",
       "LGA        95\n",
       "ORD        94\n",
       "JFK        92\n",
       "LAX        91"
      ]
     },
     "execution_count": 91,
     "metadata": {},
     "output_type": "execute_result"
    }
   ],
   "source": [
    "b = pd.read_csv('bookings.sample.csv.bz2',sep='^', usecols=['arr_port','pax', 'year'])\n",
    "b=b.dropna()\n",
    "b=b[b['year']==2013]\n",
    "b.drop('year',axis=1, inplace=True)\n",
    "arr_ports=b.groupby('arr_port')\n",
    "arr_ports.sum().sort_values('pax',ascending=False).head()"
   ]
  },
  {
   "cell_type": "markdown",
   "metadata": {
    "collapsed": true,
    "deletable": true,
    "editable": true
   },
   "source": [
    "Ready to process the BIG file!!!"
   ]
  },
  {
   "cell_type": "code",
   "execution_count": 93,
   "metadata": {
    "collapsed": false,
    "deletable": true,
    "editable": true
   },
   "outputs": [
    {
     "name": "stdout",
     "output_type": "stream",
     "text": [
      "Chunk: 1, size of chunk 1000000\n",
      "Chunk: 2, size of chunk 1000000\n",
      "Chunk: 3, size of chunk 1000000\n",
      "Chunk: 4, size of chunk 1000000\n",
      "Chunk: 5, size of chunk 1000000\n",
      "Chunk: 6, size of chunk 1000000\n",
      "Chunk: 7, size of chunk 1000000\n",
      "Chunk: 8, size of chunk 1000000\n",
      "Chunk: 9, size of chunk 1000000\n",
      "Chunk: 10, size of chunk 1000000\n",
      "Chunk: 11, size of chunk 10\n",
      "CPU times: user 4min 30s, sys: 1.11 s, total: 4min 31s\n",
      "Wall time: 4min 36s\n"
     ]
    }
   ],
   "source": [
    "%%time\n",
    "bc = pd.read_csv('bookings.csv.bz2',sep='^', usecols=['arr_port','pax', 'year']\\\n",
    "                , chunksize=1000000)\n",
    "sum_chunks=pd.DataFrame()\n",
    "\n",
    "for i, b in enumerate(bc):\n",
    "    print \"Chunk: %d, size of chunk %d\"%(i+1, len(b))\n",
    "    b=b.dropna()\n",
    "    b=b[b['year']==2013]\n",
    "    b.drop('year',axis=1, inplace=True)\n",
    "    arr_ports=b.groupby('arr_port')\n",
    "    chunk_result= arr_ports.sum()\n",
    "    sum_chunks=sum_chunks.append(chunk_result)\n",
    "\n",
    "Top_airports=sum_chunks.groupby(sum_chunks.index)\\\n",
    "    .pax.sum().sort_values(ascending=False).reset_index()    "
   ]
  },
  {
   "cell_type": "code",
   "execution_count": 94,
   "metadata": {
    "collapsed": false,
    "deletable": true,
    "editable": true
   },
   "outputs": [
    {
     "data": {
      "text/html": [
       "<div>\n",
       "<table border=\"1\" class=\"dataframe\">\n",
       "  <thead>\n",
       "    <tr style=\"text-align: right;\">\n",
       "      <th></th>\n",
       "      <th>arr_port</th>\n",
       "      <th>pax</th>\n",
       "    </tr>\n",
       "  </thead>\n",
       "  <tbody>\n",
       "    <tr>\n",
       "      <th>0</th>\n",
       "      <td>LHR</td>\n",
       "      <td>88809.0</td>\n",
       "    </tr>\n",
       "    <tr>\n",
       "      <th>1</th>\n",
       "      <td>MCO</td>\n",
       "      <td>70930.0</td>\n",
       "    </tr>\n",
       "    <tr>\n",
       "      <th>2</th>\n",
       "      <td>LAX</td>\n",
       "      <td>70530.0</td>\n",
       "    </tr>\n",
       "    <tr>\n",
       "      <th>3</th>\n",
       "      <td>LAS</td>\n",
       "      <td>69630.0</td>\n",
       "    </tr>\n",
       "    <tr>\n",
       "      <th>4</th>\n",
       "      <td>JFK</td>\n",
       "      <td>66270.0</td>\n",
       "    </tr>\n",
       "    <tr>\n",
       "      <th>5</th>\n",
       "      <td>CDG</td>\n",
       "      <td>64490.0</td>\n",
       "    </tr>\n",
       "    <tr>\n",
       "      <th>6</th>\n",
       "      <td>BKK</td>\n",
       "      <td>59460.0</td>\n",
       "    </tr>\n",
       "    <tr>\n",
       "      <th>7</th>\n",
       "      <td>MIA</td>\n",
       "      <td>58150.0</td>\n",
       "    </tr>\n",
       "    <tr>\n",
       "      <th>8</th>\n",
       "      <td>SFO</td>\n",
       "      <td>58000.0</td>\n",
       "    </tr>\n",
       "    <tr>\n",
       "      <th>9</th>\n",
       "      <td>DXB</td>\n",
       "      <td>55590.0</td>\n",
       "    </tr>\n",
       "  </tbody>\n",
       "</table>\n",
       "</div>"
      ],
      "text/plain": [
       "   arr_port      pax\n",
       "0  LHR       88809.0\n",
       "1  MCO       70930.0\n",
       "2  LAX       70530.0\n",
       "3  LAS       69630.0\n",
       "4  JFK       66270.0\n",
       "5  CDG       64490.0\n",
       "6  BKK       59460.0\n",
       "7  MIA       58150.0\n",
       "8  SFO       58000.0\n",
       "9  DXB       55590.0"
      ]
     },
     "execution_count": 94,
     "metadata": {},
     "output_type": "execute_result"
    }
   ],
   "source": [
    "Top_airports.head(10)"
   ]
  },
  {
   "cell_type": "code",
   "execution_count": 95,
   "metadata": {
    "collapsed": false,
    "deletable": true,
    "editable": true
   },
   "outputs": [
    {
     "data": {
      "text/plain": [
       "2274"
      ]
     },
     "execution_count": 95,
     "metadata": {},
     "output_type": "execute_result"
    }
   ],
   "source": [
    "len(Top_airports)"
   ]
  },
  {
   "cell_type": "raw",
   "metadata": {},
   "source": [
    "Bonus point"
   ]
  },
  {
   "cell_type": "code",
   "execution_count": null,
   "metadata": {
    "collapsed": true
   },
   "outputs": [],
   "source": [
    "#install it with: pip install GeoBases"
   ]
  },
  {
   "cell_type": "code",
   "execution_count": 96,
   "metadata": {
    "collapsed": true,
    "deletable": true,
    "editable": true
   },
   "outputs": [],
   "source": [
    "from GeoBases import GeoBase"
   ]
  },
  {
   "cell_type": "code",
   "execution_count": 99,
   "metadata": {
    "collapsed": false,
    "deletable": true,
    "editable": true
   },
   "outputs": [],
   "source": [
    "geoDict=GeoBase(data='ori_por',verbose=False)"
   ]
  },
  {
   "cell_type": "code",
   "execution_count": 101,
   "metadata": {
    "collapsed": false,
    "deletable": true,
    "editable": true
   },
   "outputs": [
    {
     "data": {
      "text/plain": [
       "['MLC',\n",
       " 'XMZ',\n",
       " 'XQP@1',\n",
       " 'JED@1',\n",
       " 'MFI@1',\n",
       " 'JGO@1',\n",
       " 'YAL@1',\n",
       " 'NDP',\n",
       " 'GEG@1',\n",
       " 'NDS']"
      ]
     },
     "execution_count": 101,
     "metadata": {},
     "output_type": "execute_result"
    }
   ],
   "source": [
    "geoDict.keys()[:10]"
   ]
  },
  {
   "cell_type": "code",
   "execution_count": 102,
   "metadata": {
    "collapsed": false,
    "deletable": true,
    "editable": true
   },
   "outputs": [
    {
     "data": {
      "text/plain": [
       "['__key__',\n",
       " '__dup__',\n",
       " '__par__',\n",
       " '__lno__',\n",
       " 'iata_code',\n",
       " 'icao_code',\n",
       " 'faa_code',\n",
       " 'is_geonames',\n",
       " 'geoname_id',\n",
       " 'valid_id',\n",
       " 'name',\n",
       " 'asciiname',\n",
       " 'lat',\n",
       " 'lng',\n",
       " 'fclass',\n",
       " 'fcode',\n",
       " 'page_rank',\n",
       " 'date_from',\n",
       " 'date_until',\n",
       " 'comment',\n",
       " 'country_code',\n",
       " 'cc2',\n",
       " 'country_name',\n",
       " 'continent_name',\n",
       " 'adm1_code',\n",
       " 'adm1_name_utf',\n",
       " 'adm1_name_ascii',\n",
       " 'adm2_code',\n",
       " 'adm2_name_utf',\n",
       " 'adm2_name_ascii',\n",
       " 'adm3_code',\n",
       " 'adm4_code',\n",
       " 'population',\n",
       " 'elevation',\n",
       " 'gtopo30',\n",
       " 'timezone',\n",
       " 'gmt_offset',\n",
       " 'dst_offset',\n",
       " 'raw_offset',\n",
       " 'moddate',\n",
       " 'city_code',\n",
       " 'city_name_utf',\n",
       " 'city_name_ascii',\n",
       " 'tvl_por_list@raw',\n",
       " 'tvl_por_list',\n",
       " 'state_code',\n",
       " 'location_type@raw',\n",
       " 'location_type',\n",
       " 'wiki_link',\n",
       " 'alt_name_section@raw',\n",
       " 'alt_name_section',\n",
       " '__gar__']"
      ]
     },
     "execution_count": 102,
     "metadata": {},
     "output_type": "execute_result"
    }
   ],
   "source": [
    "geoDict.fields"
   ]
  },
  {
   "cell_type": "code",
   "execution_count": 103,
   "metadata": {
    "collapsed": true,
    "deletable": true,
    "editable": true
   },
   "outputs": [],
   "source": [
    "geoDict.get?"
   ]
  },
  {
   "cell_type": "code",
   "execution_count": 104,
   "metadata": {
    "collapsed": false,
    "deletable": true,
    "editable": true
   },
   "outputs": [
    {
     "data": {
      "text/plain": [
       "'London'"
      ]
     },
     "execution_count": 104,
     "metadata": {},
     "output_type": "execute_result"
    }
   ],
   "source": [
    "geoDict.get('LHR', 'city_name_utf')"
   ]
  },
  {
   "cell_type": "code",
   "execution_count": 105,
   "metadata": {
    "collapsed": false,
    "deletable": true,
    "editable": true
   },
   "outputs": [
    {
     "data": {
      "text/plain": [
       "'London Heathrow Airport'"
      ]
     },
     "execution_count": 105,
     "metadata": {},
     "output_type": "execute_result"
    }
   ],
   "source": [
    "geoDict.get('LHR')['name']"
   ]
  },
  {
   "cell_type": "code",
   "execution_count": 107,
   "metadata": {
    "collapsed": false,
    "deletable": true,
    "editable": true
   },
   "outputs": [
    {
     "data": {
      "text/plain": [
       "'LHR     '"
      ]
     },
     "execution_count": 107,
     "metadata": {},
     "output_type": "execute_result"
    }
   ],
   "source": [
    "Top_airports['arr_port'][0]"
   ]
  },
  {
   "cell_type": "code",
   "execution_count": 108,
   "metadata": {
    "collapsed": false,
    "deletable": true,
    "editable": true
   },
   "outputs": [
    {
     "data": {
      "text/plain": [
       "'LHR'"
      ]
     },
     "execution_count": 108,
     "metadata": {},
     "output_type": "execute_result"
    }
   ],
   "source": [
    "Top_airports['arr_port'][0].strip()"
   ]
  },
  {
   "cell_type": "code",
   "execution_count": 109,
   "metadata": {
    "collapsed": false,
    "deletable": true,
    "editable": true
   },
   "outputs": [
    {
     "data": {
      "text/plain": [
       "'London Heathrow Airport'"
      ]
     },
     "execution_count": 109,
     "metadata": {},
     "output_type": "execute_result"
    }
   ],
   "source": [
    "geoDict.get(Top_airports['arr_port'][0].strip())['name']"
   ]
  },
  {
   "cell_type": "code",
   "execution_count": 113,
   "metadata": {
    "collapsed": false,
    "deletable": true,
    "editable": true
   },
   "outputs": [],
   "source": [
    "Top_airports['Airport Name']=Top_airports['arr_port'].\\\n",
    "map(lambda x: geoDict.get(x.strip())['name'])"
   ]
  },
  {
   "cell_type": "code",
   "execution_count": 114,
   "metadata": {
    "collapsed": false,
    "deletable": true,
    "editable": true
   },
   "outputs": [
    {
     "data": {
      "text/html": [
       "<div>\n",
       "<table border=\"1\" class=\"dataframe\">\n",
       "  <thead>\n",
       "    <tr style=\"text-align: right;\">\n",
       "      <th></th>\n",
       "      <th>arr_port</th>\n",
       "      <th>pax</th>\n",
       "      <th>Airport Name</th>\n",
       "    </tr>\n",
       "  </thead>\n",
       "  <tbody>\n",
       "    <tr>\n",
       "      <th>0</th>\n",
       "      <td>LHR</td>\n",
       "      <td>88809.0</td>\n",
       "      <td>London Heathrow Airport</td>\n",
       "    </tr>\n",
       "    <tr>\n",
       "      <th>1</th>\n",
       "      <td>MCO</td>\n",
       "      <td>70930.0</td>\n",
       "      <td>Orlando International Airport</td>\n",
       "    </tr>\n",
       "    <tr>\n",
       "      <th>2</th>\n",
       "      <td>LAX</td>\n",
       "      <td>70530.0</td>\n",
       "      <td>Los Angeles International Airport</td>\n",
       "    </tr>\n",
       "    <tr>\n",
       "      <th>3</th>\n",
       "      <td>LAS</td>\n",
       "      <td>69630.0</td>\n",
       "      <td>Mc Carran International Airport</td>\n",
       "    </tr>\n",
       "    <tr>\n",
       "      <th>4</th>\n",
       "      <td>JFK</td>\n",
       "      <td>66270.0</td>\n",
       "      <td>John F Kennedy International Airport</td>\n",
       "    </tr>\n",
       "  </tbody>\n",
       "</table>\n",
       "</div>"
      ],
      "text/plain": [
       "   arr_port      pax                          Airport Name\n",
       "0  LHR       88809.0               London Heathrow Airport\n",
       "1  MCO       70930.0         Orlando International Airport\n",
       "2  LAX       70530.0     Los Angeles International Airport\n",
       "3  LAS       69630.0       Mc Carran International Airport\n",
       "4  JFK       66270.0  John F Kennedy International Airport"
      ]
     },
     "execution_count": 114,
     "metadata": {},
     "output_type": "execute_result"
    }
   ],
   "source": [
    "Top_airports.head()"
   ]
  },
  {
   "cell_type": "markdown",
   "metadata": {},
   "source": [
    "Save to file so we can use it in exercise 5."
   ]
  },
  {
   "cell_type": "code",
   "execution_count": 115,
   "metadata": {
    "collapsed": true,
    "deletable": true,
    "editable": true
   },
   "outputs": [],
   "source": [
    "Top_airports.to_csv('top_airports.csv', sep='^', index=False)"
   ]
  },
  {
   "cell_type": "code",
   "execution_count": 116,
   "metadata": {
    "collapsed": false,
    "deletable": true,
    "editable": true
   },
   "outputs": [
    {
     "name": "stdout",
     "output_type": "stream",
     "text": [
      "total 1020616\r\n",
      "-rw-rw-r--. 1 dsc dsc 554970628 Jan  4  2016 bookings.csv.bz2\r\n",
      "-rw-rw-r--  1 dsc dsc    535893 May 19 17:15 bookings.sample.csv.bz2\r\n",
      "-rw-rw-r--  1 dsc dsc   4232732 May 19 17:39 bookings.sample.csv.csv\r\n",
      "-rw-rw-r--. 1 dsc dsc 483188920 Jan  4  2016 searches.csv.bz2\r\n",
      "-rw-rw-r--  1 dsc dsc    244720 May 19 17:20 searches.sample.csv.bz2\r\n",
      "-rw-rw-r--  1 dsc dsc   1824927 May 19 17:39 searches.sample.csv.csv\r\n",
      "-rw-rw-r--  1 dsc dsc     84696 May 19 20:55 top_airports.csv\r\n"
     ]
    }
   ],
   "source": [
    "!ls -l"
   ]
  },
  {
   "cell_type": "code",
   "execution_count": null,
   "metadata": {
    "collapsed": true,
    "deletable": true,
    "editable": true
   },
   "outputs": [],
   "source": []
  }
 ],
 "metadata": {
  "kernelspec": {
   "display_name": "Python 2",
   "language": "python",
   "name": "python2"
  },
  "language_info": {
   "codemirror_mode": {
    "name": "ipython",
    "version": 2
   },
   "file_extension": ".py",
   "mimetype": "text/x-python",
   "name": "python",
   "nbconvert_exporter": "python",
   "pygments_lexer": "ipython2",
   "version": "2.7.13"
  }
 },
 "nbformat": 4,
 "nbformat_minor": 0
}
