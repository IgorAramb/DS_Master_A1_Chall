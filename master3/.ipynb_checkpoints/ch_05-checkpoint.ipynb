{
 "cells": [
  {
   "cell_type": "code",
   "execution_count": 1,
   "metadata": {
    "collapsed": true,
    "deletable": true,
    "editable": true
   },
   "outputs": [],
   "source": [
    "from flask import Flask"
   ]
  },
  {
   "cell_type": "code",
   "execution_count": 2,
   "metadata": {
    "collapsed": true,
    "deletable": true,
    "editable": true
   },
   "outputs": [],
   "source": [
    "app = Flask (\"My first web service\")\n",
    "@app.route('/hello', methods=['GET'])\n",
    "def get_hello():\n",
    "    return \"Hello from Web Service!\""
   ]
  },
  {
   "cell_type": "code",
   "execution_count": 4,
   "metadata": {
    "collapsed": false,
    "deletable": true,
    "editable": true
   },
   "outputs": [
    {
     "name": "stderr",
     "output_type": "stream",
     "text": [
      " * Running on http://127.0.0.1:5000/ (Press CTRL+C to quit)\n"
     ]
    }
   ],
   "source": [
    "app.run()\n",
    "# go to http://127.0.0.1:5000/hello"
   ]
  },
  {
   "cell_type": "code",
   "execution_count": 6,
   "metadata": {
    "collapsed": false,
    "deletable": true,
    "editable": true
   },
   "outputs": [
    {
     "name": "stderr",
     "output_type": "stream",
     "text": [
      " * Running on http://127.0.0.1:5000/ (Press CTRL+C to quit)\n",
      "127.0.0.1 - - [09/May/2017 23:04:49] \"\u001b[37mGET /return_num/100 HTTP/1.1\u001b[0m\" 200 -\n",
      "127.0.0.1 - - [09/May/2017 23:04:52] \"\u001b[37mGET /return_num/10 HTTP/1.1\u001b[0m\" 200 -\n"
     ]
    },
    {
     "name": "stdout",
     "output_type": "stream",
     "text": [
      "----------------------------------------\n",
      "Exception happened during processing of request from ('127.0.0.1', 43270)\n",
      "----------------------------------------\n"
     ]
    },
    {
     "name": "stderr",
     "output_type": "stream",
     "text": [
      "Traceback (most recent call last):\n",
      "  File \"/home/dsc/anaconda2/lib/python2.7/SocketServer.py\", line 290, in _handle_request_noblock\n",
      "    self.process_request(request, client_address)\n",
      "  File \"/home/dsc/anaconda2/lib/python2.7/SocketServer.py\", line 318, in process_request\n",
      "    self.finish_request(request, client_address)\n",
      "  File \"/home/dsc/anaconda2/lib/python2.7/SocketServer.py\", line 331, in finish_request\n",
      "    self.RequestHandlerClass(request, client_address, self)\n",
      "  File \"/home/dsc/anaconda2/lib/python2.7/SocketServer.py\", line 652, in __init__\n",
      "    self.handle()\n",
      "  File \"/home/dsc/anaconda2/lib/python2.7/site-packages/werkzeug/serving.py\", line 232, in handle\n",
      "    rv = BaseHTTPRequestHandler.handle(self)\n",
      "  File \"/home/dsc/anaconda2/lib/python2.7/BaseHTTPServer.py\", line 340, in handle\n",
      "    self.handle_one_request()\n",
      "  File \"/home/dsc/anaconda2/lib/python2.7/site-packages/werkzeug/serving.py\", line 263, in handle_one_request\n",
      "    self.raw_requestline = self.rfile.readline()\n",
      "  File \"/home/dsc/anaconda2/lib/python2.7/socket.py\", line 451, in readline\n",
      "    data = self._sock.recv(self._rbufsize)\n",
      "KeyboardInterrupt\n"
     ]
    }
   ],
   "source": [
    "app = Flask (\"My second web service\")\n",
    "@app.route('/return_num/<int:n>', methods=['GET'])\n",
    "def get_hello(n):\n",
    "    return \"The number is:%d!!\" %n\n",
    "\n",
    "app.run()\n",
    "# go to http://127.0.0.1:5000/return_num/10\n",
    "# http://127.0.0.1:5000/return_num/100"
   ]
  },
  {
   "cell_type": "code",
   "execution_count": 13,
   "metadata": {
    "collapsed": true,
    "deletable": true,
    "editable": true
   },
   "outputs": [],
   "source": [
    "app = Flask (\"My third web service\")\n",
    "@app.route('/return_num/<n>', methods=['GET'])\n",
    "def get_hello(n):\n",
    "    number=int(n)\n",
    "    return \"The number is:%d!!\" %number\n",
    "app.run()"
   ]
  },
  {
   "cell_type": "code",
   "execution_count": 18,
   "metadata": {
    "collapsed": true,
    "deletable": true,
    "editable": true
   },
   "outputs": [
    {
     "data": {
      "text/plain": [
       "'{\"arr_port\":{\"0\":\"LHR     \",\"1\":\"MCO     \",\"2\":\"LAX     \",\"3\":\"LAS     \",\"4\":\"JFK     \",\"5\":\"CDG     \",\"6\":\"BKK     \",\"7\":\"MIA     \",\"8\":\"SFO     \",\"9\":\"DXB     \"},\"pax\":{\"0\":88809.0,\"1\":70930.0,\"2\":70530.0,\"3\":69630.0,\"4\":66270.0,\"5\":64490.0,\"6\":59460.0,\"7\":58150.0,\"8\":58000.0,\"9\":55590.0}}'"
      ]
     },
     "execution_count": 18,
     "metadata": {},
     "output_type": "execute_result"
    }
   ],
   "source": [
    "import pandas as pd\n",
    "top=pd.read_csv('top_airports.csv', sep='^')\n",
    "top.head(10).to_json()"
   ]
  },
  {
   "cell_type": "code",
   "execution_count": 21,
   "metadata": {
    "collapsed": false,
    "deletable": true,
    "editable": true
   },
   "outputs": [],
   "source": [
    "app = Flask (\"My third web service\")\n",
    "@app.route('/return_num/<n>', methods=['GET'])\n",
    "def get_hello(n):\n",
    "    try:\n",
    "        number=int(n)\n",
    "        if number>0:\n",
    "            topN=top.head(number)\n",
    "            return topN.to_json()\n",
    "        else:\n",
    "            return \"Cannot help you\"\n",
    "    except:\n",
    "        return \"Was that a number???\"\n",
    "    \n",
    "@app.route('/hello', methods=['GET'])\n",
    "def get_hello_a():\n",
    "    return \"Hello from Web Service!\"\n",
    "app.run()"
   ]
  },
  {
   "cell_type": "code",
   "execution_count": null,
   "metadata": {
    "collapsed": true,
    "deletable": true,
    "editable": true
   },
   "outputs": [],
   "source": []
  }
 ],
 "metadata": {
  "kernelspec": {
   "display_name": "Python 2",
   "language": "python",
   "name": "python2"
  },
  "language_info": {
   "codemirror_mode": {
    "name": "ipython",
    "version": 2
   },
   "file_extension": ".py",
   "mimetype": "text/x-python",
   "name": "python",
   "nbconvert_exporter": "python",
   "pygments_lexer": "ipython2",
   "version": "2.7.13"
  }
 },
 "nbformat": 4,
 "nbformat_minor": 0
}
