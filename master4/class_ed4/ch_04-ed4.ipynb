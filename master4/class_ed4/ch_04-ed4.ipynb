{
 "cells": [
  {
   "cell_type": "markdown",
   "metadata": {
    "deletable": true,
    "editable": true
   },
   "source": [
    "## Match searches with bookings\n",
    "\n",
    "- For every search in the searches file, find out whether the search ended up in a booking or not (using the info in the bookings file). For instance, search and booking origin and destination should match. \n",
    "\n",
    "- For the bookings file, origin and destination are the columns dep_port and arr_port, respectively. \n",
    "\n",
    "- Generate a CSV file with the search data, and an additional field, containing 1 if the search ended up in a booking, and 0 otherwise.\n",
    "\n"
   ]
  },
  {
   "cell_type": "raw",
   "metadata": {
    "deletable": true,
    "editable": true
   },
   "source": [
    "1) Get familiar with data\n",
    "2) Prepare the data for processing\n",
    "\n",
    "3) Make action plan\n",
    "4) Develop the code that works with a sample\n",
    "\n",
    "5) Adjust the code to work with Big data\n",
    "6) Test big data approach on a sample\n",
    "\n",
    "7) Run program with big data"
   ]
  },
  {
   "cell_type": "markdown",
   "metadata": {
    "deletable": true,
    "editable": true
   },
   "source": [
    "## 2) Prepare the data for processing"
   ]
  },
  {
   "cell_type": "markdown",
   "metadata": {
    "deletable": true,
    "editable": true
   },
   "source": [
    "### Booking"
   ]
  },
  {
   "cell_type": "markdown",
   "metadata": {
    "deletable": true,
    "editable": true
   },
   "source": [
    "#### We didnt check for duplicates so far... What if the file is has duplicated lines?"
   ]
  },
  {
   "cell_type": "raw",
   "metadata": {
    "deletable": true,
    "editable": true
   },
   "source": [
    "# pd.set_option('display.max_columns', None)"
   ]
  },
  {
   "cell_type": "code",
   "execution_count": 1,
   "metadata": {
    "collapsed": true,
    "deletable": true,
    "editable": true
   },
   "outputs": [],
   "source": [
    "import pandas as pd"
   ]
  },
  {
   "cell_type": "code",
   "execution_count": 2,
   "metadata": {
    "collapsed": false,
    "deletable": true,
    "editable": true
   },
   "outputs": [
    {
     "name": "stdout",
     "output_type": "stream",
     "text": [
      "/home/dsc/Data/challenge\n"
     ]
    }
   ],
   "source": [
    "cd ~/Data/challenge/\n"
   ]
  },
  {
   "cell_type": "code",
   "execution_count": 5,
   "metadata": {
    "collapsed": true,
    "deletable": true,
    "editable": true
   },
   "outputs": [],
   "source": [
    "bc = pd.read_csv('./bookings.csv.bz2', sep='^', chunksize=300000, low_memory = False)"
   ]
  },
  {
   "cell_type": "code",
   "execution_count": 7,
   "metadata": {
    "collapsed": false,
    "deletable": true,
    "editable": true
   },
   "outputs": [
    {
     "name": "stdout",
     "output_type": "stream",
     "text": [
      "Chunk 1, keeping 300000 lines\n",
      "Chunk 2, keeping 600000 lines\n",
      "Chunk 3, keeping 900000 lines\n",
      "Chunk 4, keeping 1000000 lines\n",
      "Chunk 5, keeping 1000000 lines\n",
      "Chunk 6, keeping 1000000 lines\n",
      "Chunk 7, keeping 1000000 lines\n",
      "Chunk 8, keeping 1000000 lines\n",
      "Chunk 9, keeping 1000000 lines\n",
      "Chunk 10, keeping 1000000 lines\n",
      "Chunk 11, keeping 1000000 lines\n",
      "Chunk 12, keeping 1000000 lines\n",
      "Chunk 13, keeping 1000000 lines\n",
      "Chunk 14, keeping 1000000 lines\n",
      "Chunk 15, keeping 1000000 lines\n",
      "Chunk 16, keeping 1000000 lines\n",
      "Chunk 17, keeping 1299993 lines\n",
      "Chunk 18, keeping 1299993 lines\n",
      "Chunk 19, keeping 1299993 lines\n",
      "Chunk 20, keeping 1299993 lines\n",
      "Chunk 21, keeping 1299993 lines\n",
      "Chunk 22, keeping 1299993 lines\n",
      "Chunk 23, keeping 1299993 lines\n",
      "Chunk 24, keeping 1299993 lines\n",
      "Chunk 25, keeping 1299993 lines\n",
      "Chunk 26, keeping 1299993 lines\n",
      "Chunk 27, keeping 1299993 lines\n",
      "Chunk 28, keeping 1299993 lines\n",
      "Chunk 29, keeping 1299993 lines\n",
      "Chunk 30, keeping 1299993 lines\n",
      "Chunk 31, keeping 1299993 lines\n",
      "Chunk 32, keeping 1299993 lines\n",
      "Chunk 33, keeping 1299993 lines\n",
      "Chunk 34, keeping 1299993 lines\n"
     ]
    }
   ],
   "source": [
    "bc = pd.read_csv('./bookings.csv.bz2', sep='^', chunksize=300000, low_memory = False)\n",
    "all_chunks=pd.DataFrame()\n",
    "for i, chunk in enumerate(bc):\n",
    "    all_chunks=all_chunks.append(chunk)\n",
    "    all_chunks=all_chunks.drop_duplicates()\n",
    "    print \"Chunk %d, keeping %d lines\" % (i+1, len(all_chunks))\n",
    "    "
   ]
  },
  {
   "cell_type": "code",
   "execution_count": 8,
   "metadata": {
    "collapsed": true,
    "deletable": true,
    "editable": true
   },
   "outputs": [],
   "source": [
    "all_chunks.to_csv('bookings.no_dup.csv', sep='^', index=False)\n",
    "!bzip2 -f bookings.no_dup.csv"
   ]
  },
  {
   "cell_type": "code",
   "execution_count": 9,
   "metadata": {
    "collapsed": false,
    "deletable": true,
    "editable": true
   },
   "outputs": [
    {
     "name": "stdout",
     "output_type": "stream",
     "text": [
      "total 1095840\r\n",
      "-rw-rw-r--. 1 dsc dsc 554970628 Jan  4  2016 bookings.csv.bz2\r\n",
      "-rw-rw-r--  1 dsc dsc  72211641 May 20 12:48 bookings.no_dup.csv.bz2\r\n",
      "-rw-rw-r--  1 dsc dsc    535893 May 19 17:15 bookings.sample.csv.bz2\r\n",
      "-rw-rw-r--  1 dsc dsc   4232732 May 19 17:39 bookings.sample.csv.csv\r\n",
      "-rw-rw-r--. 1 dsc dsc 483188920 Jan  4  2016 searches.csv.bz2\r\n",
      "-rw-rw-r--  1 dsc dsc   4811806 May 20 10:50 searches.sample2.csv.bz2\r\n",
      "-rw-rw-r--  1 dsc dsc    244720 May 19 17:20 searches.sample.csv.bz2\r\n",
      "-rw-rw-r--  1 dsc dsc   1824927 May 19 17:39 searches.sample.csv.csv\r\n",
      "-rw-rw-r--  1 dsc dsc     84696 May 19 20:55 top_airports.csv\r\n"
     ]
    }
   ],
   "source": [
    "!ls -l"
   ]
  },
  {
   "cell_type": "code",
   "execution_count": 10,
   "metadata": {
    "collapsed": false,
    "deletable": true,
    "editable": true
   },
   "outputs": [
    {
     "name": "stdout",
     "output_type": "stream",
     "text": [
      "Chunk 1, keeping 299999 lines\n",
      "Chunk 2, keeping 358999 lines\n",
      "Chunk 3, keeping 358999 lines\n",
      "Chunk 4, keeping 358999 lines\n",
      "Chunk 5, keeping 658992 lines\n",
      "Chunk 6, keeping 718002 lines\n",
      "Chunk 7, keeping 718002 lines\n",
      "Chunk 8, keeping 718002 lines\n",
      "Chunk 9, keeping 718002 lines\n",
      "Chunk 10, keeping 718002 lines\n",
      "Chunk 11, keeping 718002 lines\n",
      "Chunk 12, keeping 718002 lines\n",
      "Chunk 13, keeping 718002 lines\n",
      "Chunk 14, keeping 718002 lines\n",
      "Chunk 15, keeping 718002 lines\n",
      "Chunk 16, keeping 718002 lines\n",
      "Chunk 17, keeping 718002 lines\n",
      "Chunk 18, keeping 718002 lines\n",
      "Chunk 19, keeping 718002 lines\n",
      "Chunk 20, keeping 718002 lines\n",
      "Chunk 21, keeping 718002 lines\n",
      "Chunk 22, keeping 718002 lines\n",
      "Chunk 23, keeping 718002 lines\n",
      "Chunk 24, keeping 718002 lines\n",
      "Chunk 25, keeping 718002 lines\n",
      "Chunk 26, keeping 718002 lines\n",
      "Chunk 27, keeping 718002 lines\n",
      "Chunk 28, keeping 718002 lines\n",
      "Chunk 29, keeping 718002 lines\n",
      "Chunk 30, keeping 718002 lines\n",
      "Chunk 31, keeping 718002 lines\n",
      "Chunk 32, keeping 718002 lines\n",
      "Chunk 33, keeping 718002 lines\n",
      "Chunk 34, keeping 718002 lines\n",
      "Chunk 35, keeping 718002 lines\n",
      "Chunk 36, keeping 718002 lines\n",
      "Chunk 37, keeping 718002 lines\n",
      "Chunk 38, keeping 718002 lines\n",
      "Chunk 39, keeping 718002 lines\n",
      "Chunk 40, keeping 718002 lines\n",
      "Chunk 41, keeping 718002 lines\n",
      "Chunk 42, keeping 718002 lines\n",
      "Chunk 43, keeping 718002 lines\n",
      "Chunk 44, keeping 718002 lines\n",
      "Chunk 45, keeping 718002 lines\n",
      "Chunk 46, keeping 718002 lines\n",
      "Chunk 47, keeping 718002 lines\n",
      "Chunk 48, keeping 718002 lines\n",
      "Chunk 49, keeping 718002 lines\n",
      "Chunk 50, keeping 718002 lines\n",
      "Chunk 51, keeping 718002 lines\n",
      "Chunk 52, keeping 718002 lines\n",
      "Chunk 53, keeping 718002 lines\n",
      "Chunk 54, keeping 718002 lines\n",
      "Chunk 55, keeping 718002 lines\n",
      "Chunk 56, keeping 718002 lines\n",
      "Chunk 57, keeping 718002 lines\n",
      "Chunk 58, keeping 718002 lines\n",
      "Chunk 59, keeping 718002 lines\n",
      "Chunk 60, keeping 718002 lines\n",
      "Chunk 61, keeping 718002 lines\n",
      "Chunk 62, keeping 718002 lines\n",
      "Chunk 63, keeping 718002 lines\n",
      "Chunk 64, keeping 718002 lines\n",
      "Chunk 65, keeping 718002 lines\n",
      "Chunk 66, keeping 718002 lines\n",
      "Chunk 67, keeping 718002 lines\n",
      "Chunk 68, keeping 718003 lines\n"
     ]
    }
   ],
   "source": [
    "bc = pd.read_csv('./searches.csv.bz2', sep='^', chunksize=300000, low_memory = False)\n",
    "all_chunks=pd.DataFrame()\n",
    "for i, chunk in enumerate(bc):\n",
    "    all_chunks=all_chunks.append(chunk)\n",
    "    all_chunks=all_chunks.drop_duplicates()\n",
    "    print \"Chunk %d, keeping %d lines\" % (i+1, len(all_chunks))\n",
    "    "
   ]
  },
  {
   "cell_type": "code",
   "execution_count": 11,
   "metadata": {
    "collapsed": true,
    "deletable": true,
    "editable": true
   },
   "outputs": [],
   "source": [
    "all_chunks.to_csv('searches.no_dup.csv', sep='^', index=False)\n",
    "!bzip2 -f searches.no_dup.csv"
   ]
  },
  {
   "cell_type": "code",
   "execution_count": 12,
   "metadata": {
    "collapsed": false,
    "deletable": true,
    "editable": true
   },
   "outputs": [
    {
     "name": "stdout",
     "output_type": "stream",
     "text": [
      "total 1112552\r\n",
      "-rw-rw-r--. 1 dsc dsc 554970628 Jan  4  2016 bookings.csv.bz2\r\n",
      "-rw-rw-r--  1 dsc dsc  72211641 May 20 12:48 bookings.no_dup.csv.bz2\r\n",
      "-rw-rw-r--  1 dsc dsc    535893 May 19 17:15 bookings.sample.csv.bz2\r\n",
      "-rw-rw-r--  1 dsc dsc   4232732 May 19 17:39 bookings.sample.csv.csv\r\n",
      "-rw-rw-r--. 1 dsc dsc 483188920 Jan  4  2016 searches.csv.bz2\r\n",
      "-rw-rw-r--  1 dsc dsc  17112287 May 20 13:04 searches.no_dup.csv.bz2\r\n",
      "-rw-rw-r--  1 dsc dsc   4811806 May 20 10:50 searches.sample2.csv.bz2\r\n",
      "-rw-rw-r--  1 dsc dsc    244720 May 19 17:20 searches.sample.csv.bz2\r\n",
      "-rw-rw-r--  1 dsc dsc   1824927 May 19 17:39 searches.sample.csv.csv\r\n",
      "-rw-rw-r--  1 dsc dsc     84696 May 19 20:55 top_airports.csv\r\n"
     ]
    }
   ],
   "source": [
    "!ls -l"
   ]
  },
  {
   "cell_type": "markdown",
   "metadata": {
    "deletable": true,
    "editable": true
   },
   "source": [
    "#### Action plan"
   ]
  },
  {
   "cell_type": "code",
   "execution_count": null,
   "metadata": {
    "collapsed": true,
    "deletable": true,
    "editable": true
   },
   "outputs": [],
   "source": [
    "1) Bookings: [act_date, dep_port, arr_port]\n",
    "Searches: [search_date, origin, destination]\n",
    "\n",
    "2) dates de string a datetime object\n",
    "3) remove whitespaces (from columns names and content)\n",
    "4) remove NaN\n",
    "5) match Bookings & Searches -> put 1 if search_date, O&D == booking_date, O&D\n",
    "\n"
   ]
  },
  {
   "cell_type": "code",
   "execution_count": 13,
   "metadata": {
    "collapsed": false,
    "deletable": true,
    "editable": true
   },
   "outputs": [
    {
     "name": "stdout",
     "output_type": "stream",
     "text": [
      "Once deleted, variables cannot be recovered. Proceed (y/[n])? y\n"
     ]
    }
   ],
   "source": [
    "%reset"
   ]
  },
  {
   "cell_type": "code",
   "execution_count": 15,
   "metadata": {
    "collapsed": true,
    "deletable": true,
    "editable": true
   },
   "outputs": [],
   "source": [
    "import pandas as pd"
   ]
  },
  {
   "cell_type": "code",
   "execution_count": 17,
   "metadata": {
    "collapsed": false,
    "deletable": true,
    "editable": true
   },
   "outputs": [],
   "source": [
    "b = pd.read_csv('./bookings.no_dup.csv.bz2', sep='^',nrows=100)\n"
   ]
  },
  {
   "cell_type": "code",
   "execution_count": 18,
   "metadata": {
    "collapsed": false,
    "deletable": true,
    "editable": true
   },
   "outputs": [
    {
     "data": {
      "text/plain": [
       "['act_date           ',\n",
       " 'source',\n",
       " 'pos_ctry',\n",
       " 'pos_iata',\n",
       " 'pos_oid  ',\n",
       " 'rloc          ',\n",
       " 'cre_date           ',\n",
       " 'duration',\n",
       " 'distance',\n",
       " 'dep_port',\n",
       " 'dep_city',\n",
       " 'dep_ctry',\n",
       " 'arr_port',\n",
       " 'arr_city',\n",
       " 'arr_ctry',\n",
       " 'lst_port',\n",
       " 'lst_city',\n",
       " 'lst_ctry',\n",
       " 'brd_port',\n",
       " 'brd_city',\n",
       " 'brd_ctry',\n",
       " 'off_port',\n",
       " 'off_city',\n",
       " 'off_ctry',\n",
       " 'mkt_port',\n",
       " 'mkt_city',\n",
       " 'mkt_ctry',\n",
       " 'intl',\n",
       " 'route          ',\n",
       " 'carrier',\n",
       " 'bkg_class',\n",
       " 'cab_class',\n",
       " 'brd_time           ',\n",
       " 'off_time           ',\n",
       " 'pax',\n",
       " 'year',\n",
       " 'month',\n",
       " 'oid      ']"
      ]
     },
     "execution_count": 18,
     "metadata": {},
     "output_type": "execute_result"
    }
   ],
   "source": [
    "b.columns.tolist()"
   ]
  },
  {
   "cell_type": "code",
   "execution_count": 19,
   "metadata": {
    "collapsed": true,
    "deletable": true,
    "editable": true
   },
   "outputs": [],
   "source": [
    "b = pd.read_csv('./bookings.no_dup.csv.bz2', sep='^',\\\n",
    "                usecols=['act_date           ', 'arr_port', 'dep_port'])"
   ]
  },
  {
   "cell_type": "code",
   "execution_count": 20,
   "metadata": {
    "collapsed": true,
    "deletable": true,
    "editable": true
   },
   "outputs": [],
   "source": [
    "s = pd.read_csv('./searches.no_dup.csv.bz2', sep='^',\\\n",
    "                usecols=['Date', 'Origin', 'Destination'])"
   ]
  },
  {
   "cell_type": "code",
   "execution_count": 21,
   "metadata": {
    "collapsed": false,
    "deletable": true,
    "editable": true
   },
   "outputs": [
    {
     "data": {
      "text/plain": [
       "['2013-03-05 00:00:00', 'ZRH     ', 'LHR     ']"
      ]
     },
     "execution_count": 21,
     "metadata": {},
     "output_type": "execute_result"
    }
   ],
   "source": [
    "b.iloc[0].tolist()"
   ]
  },
  {
   "cell_type": "code",
   "execution_count": 22,
   "metadata": {
    "collapsed": false,
    "deletable": true,
    "editable": true
   },
   "outputs": [
    {
     "data": {
      "text/plain": [
       "['2013-01-01', 'TXL', 'AUH']"
      ]
     },
     "execution_count": 22,
     "metadata": {},
     "output_type": "execute_result"
    }
   ],
   "source": [
    "s.iloc[0].tolist()"
   ]
  },
  {
   "cell_type": "markdown",
   "metadata": {
    "deletable": true,
    "editable": true
   },
   "source": [
    "###  Search"
   ]
  },
  {
   "cell_type": "code",
   "execution_count": 24,
   "metadata": {
    "collapsed": false,
    "deletable": true,
    "editable": true
   },
   "outputs": [
    {
     "data": {
      "text/plain": [
       "'LHR'"
      ]
     },
     "execution_count": 24,
     "metadata": {},
     "output_type": "execute_result"
    }
   ],
   "source": [
    "b.iloc[0]['arr_port'].strip()"
   ]
  },
  {
   "cell_type": "code",
   "execution_count": 30,
   "metadata": {
    "collapsed": true,
    "deletable": true,
    "editable": true
   },
   "outputs": [],
   "source": [
    "b['arr_port']=b['arr_port'].str.strip()"
   ]
  },
  {
   "cell_type": "code",
   "execution_count": 28,
   "metadata": {
    "collapsed": true,
    "deletable": true,
    "editable": true
   },
   "outputs": [],
   "source": [
    "b['dep_port']=b['dep_port'].map(lambda x:str(x).strip())"
   ]
  },
  {
   "cell_type": "code",
   "execution_count": 29,
   "metadata": {
    "collapsed": false,
    "deletable": true,
    "editable": true
   },
   "outputs": [
    {
     "data": {
      "text/plain": [
       "['2013-03-05 00:00:00', 'ZRH', 'LHR']"
      ]
     },
     "execution_count": 29,
     "metadata": {},
     "output_type": "execute_result"
    }
   ],
   "source": [
    "b.iloc[0].tolist()"
   ]
  },
  {
   "cell_type": "code",
   "execution_count": 35,
   "metadata": {
    "collapsed": false,
    "deletable": true,
    "editable": true
   },
   "outputs": [],
   "source": [
    "b.columns=b.columns.str.strip()"
   ]
  },
  {
   "cell_type": "code",
   "execution_count": 36,
   "metadata": {
    "collapsed": false,
    "deletable": true,
    "editable": true
   },
   "outputs": [
    {
     "data": {
      "text/plain": [
       "['act_date', 'dep_port', 'arr_port']"
      ]
     },
     "execution_count": 36,
     "metadata": {},
     "output_type": "execute_result"
    }
   ],
   "source": [
    "b.columns.tolist()"
   ]
  },
  {
   "cell_type": "code",
   "execution_count": 39,
   "metadata": {
    "collapsed": false,
    "deletable": true,
    "editable": true
   },
   "outputs": [],
   "source": [
    "b['act_date']=b['act_date'].str[0:10]"
   ]
  },
  {
   "cell_type": "code",
   "execution_count": 40,
   "metadata": {
    "collapsed": false,
    "deletable": true,
    "editable": true
   },
   "outputs": [
    {
     "data": {
      "text/plain": [
       "['2013-03-05', 'ZRH', 'LHR']"
      ]
     },
     "execution_count": 40,
     "metadata": {},
     "output_type": "execute_result"
    }
   ],
   "source": [
    "b.iloc[0].tolist()"
   ]
  },
  {
   "cell_type": "code",
   "execution_count": 41,
   "metadata": {
    "collapsed": false,
    "deletable": true,
    "editable": true
   },
   "outputs": [
    {
     "data": {
      "text/plain": [
       "['2013-01-01', 'TXL', 'AUH']"
      ]
     },
     "execution_count": 41,
     "metadata": {},
     "output_type": "execute_result"
    }
   ],
   "source": [
    "s.iloc[0].tolist()"
   ]
  },
  {
   "cell_type": "code",
   "execution_count": null,
   "metadata": {
    "collapsed": true,
    "deletable": true,
    "editable": true
   },
   "outputs": [],
   "source": []
  },
  {
   "cell_type": "code",
   "execution_count": 42,
   "metadata": {
    "collapsed": false,
    "deletable": true,
    "editable": true
   },
   "outputs": [
    {
     "name": "stdout",
     "output_type": "stream",
     "text": [
      "before drop b=1299993, s=718003\n",
      "after drop b=1299993, s=718002\n"
     ]
    }
   ],
   "source": [
    "b = pd.read_csv('./bookings.no_dup.csv.bz2', sep='^',\\\n",
    "                usecols=['act_date           ', 'arr_port', 'dep_port'])\n",
    "s = pd.read_csv('./searches.no_dup.csv.bz2', sep='^',\\\n",
    "                usecols=['Date', 'Origin', 'Destination'])\n",
    "b['arr_port']=b['arr_port'].str.strip()\n",
    "b['dep_port']=b['dep_port'].map(lambda x:str(x).strip())\n",
    "b.columns=b.columns.str.strip()\n",
    "b['act_date']=b['act_date'].str[0:10]\n",
    "\n",
    "print \"before drop b=%d, s=%d\"%(len(b),len(s))\n",
    "b=b.dropna()\n",
    "s=s.dropna()\n",
    "print \"after drop b=%d, s=%d\"%(len(b),len(s))\n",
    "\n"
   ]
  },
  {
   "cell_type": "code",
   "execution_count": 51,
   "metadata": {
    "collapsed": false,
    "deletable": true,
    "editable": true
   },
   "outputs": [],
   "source": [
    "b_gr=b.reset_index().groupby(['dep_port', 'arr_port', 'act_date']).count().reset_index()"
   ]
  },
  {
   "cell_type": "code",
   "execution_count": 52,
   "metadata": {
    "collapsed": false,
    "deletable": true,
    "editable": true
   },
   "outputs": [
    {
     "data": {
      "text/html": [
       "<div>\n",
       "<table border=\"1\" class=\"dataframe\">\n",
       "  <thead>\n",
       "    <tr style=\"text-align: right;\">\n",
       "      <th></th>\n",
       "      <th>dep_port</th>\n",
       "      <th>arr_port</th>\n",
       "      <th>act_date</th>\n",
       "      <th>index</th>\n",
       "    </tr>\n",
       "  </thead>\n",
       "  <tbody>\n",
       "    <tr>\n",
       "      <th>0</th>\n",
       "      <td>AAB</td>\n",
       "      <td>ROV</td>\n",
       "      <td>2013-05-29</td>\n",
       "      <td>2</td>\n",
       "    </tr>\n",
       "    <tr>\n",
       "      <th>1</th>\n",
       "      <td>AAB</td>\n",
       "      <td>ROV</td>\n",
       "      <td>2013-08-24</td>\n",
       "      <td>2</td>\n",
       "    </tr>\n",
       "    <tr>\n",
       "      <th>2</th>\n",
       "      <td>AAE</td>\n",
       "      <td>ALG</td>\n",
       "      <td>2013-01-07</td>\n",
       "      <td>1</td>\n",
       "    </tr>\n",
       "    <tr>\n",
       "      <th>3</th>\n",
       "      <td>AAE</td>\n",
       "      <td>ALG</td>\n",
       "      <td>2013-01-08</td>\n",
       "      <td>2</td>\n",
       "    </tr>\n",
       "    <tr>\n",
       "      <th>4</th>\n",
       "      <td>AAE</td>\n",
       "      <td>ALG</td>\n",
       "      <td>2013-01-09</td>\n",
       "      <td>6</td>\n",
       "    </tr>\n",
       "  </tbody>\n",
       "</table>\n",
       "</div>"
      ],
      "text/plain": [
       "  dep_port arr_port    act_date  index\n",
       "0      AAB      ROV  2013-05-29      2\n",
       "1      AAB      ROV  2013-08-24      2\n",
       "2      AAE      ALG  2013-01-07      1\n",
       "3      AAE      ALG  2013-01-08      2\n",
       "4      AAE      ALG  2013-01-09      6"
      ]
     },
     "execution_count": 52,
     "metadata": {},
     "output_type": "execute_result"
    }
   ],
   "source": [
    "b_gr.head()"
   ]
  },
  {
   "cell_type": "markdown",
   "metadata": {},
   "source": [
    "We need to save the index for the final merge with raw data from the file without duplicates"
   ]
  },
  {
   "cell_type": "code",
   "execution_count": 53,
   "metadata": {
    "collapsed": true,
    "deletable": true,
    "editable": true
   },
   "outputs": [],
   "source": [
    "s_with_index=s.reset_index()"
   ]
  },
  {
   "cell_type": "code",
   "execution_count": 54,
   "metadata": {
    "collapsed": false,
    "deletable": true,
    "editable": true
   },
   "outputs": [
    {
     "data": {
      "text/html": [
       "<div>\n",
       "<table border=\"1\" class=\"dataframe\">\n",
       "  <thead>\n",
       "    <tr style=\"text-align: right;\">\n",
       "      <th></th>\n",
       "      <th>index</th>\n",
       "      <th>Date</th>\n",
       "      <th>Origin</th>\n",
       "      <th>Destination</th>\n",
       "    </tr>\n",
       "  </thead>\n",
       "  <tbody>\n",
       "    <tr>\n",
       "      <th>717997</th>\n",
       "      <td>717998</td>\n",
       "      <td>2013-05-03</td>\n",
       "      <td>CPH</td>\n",
       "      <td>AYT</td>\n",
       "    </tr>\n",
       "    <tr>\n",
       "      <th>717998</th>\n",
       "      <td>717999</td>\n",
       "      <td>2013-05-03</td>\n",
       "      <td>NYC</td>\n",
       "      <td>YTO</td>\n",
       "    </tr>\n",
       "    <tr>\n",
       "      <th>717999</th>\n",
       "      <td>718000</td>\n",
       "      <td>2013-05-03</td>\n",
       "      <td>TRF</td>\n",
       "      <td>TRD</td>\n",
       "    </tr>\n",
       "    <tr>\n",
       "      <th>718000</th>\n",
       "      <td>718001</td>\n",
       "      <td>2013-05-03</td>\n",
       "      <td>IAH</td>\n",
       "      <td>RDU</td>\n",
       "    </tr>\n",
       "    <tr>\n",
       "      <th>718001</th>\n",
       "      <td>718002</td>\n",
       "      <td>2013-10-13</td>\n",
       "      <td>VIE</td>\n",
       "      <td>HA</td>\n",
       "    </tr>\n",
       "  </tbody>\n",
       "</table>\n",
       "</div>"
      ],
      "text/plain": [
       "         index        Date Origin Destination\n",
       "717997  717998  2013-05-03    CPH         AYT\n",
       "717998  717999  2013-05-03    NYC         YTO\n",
       "717999  718000  2013-05-03    TRF         TRD\n",
       "718000  718001  2013-05-03    IAH         RDU\n",
       "718001  718002  2013-10-13    VIE          HA"
      ]
     },
     "execution_count": 54,
     "metadata": {},
     "output_type": "execute_result"
    }
   ],
   "source": [
    "s_with_index.tail()"
   ]
  },
  {
   "cell_type": "code",
   "execution_count": 56,
   "metadata": {
    "collapsed": false,
    "deletable": true,
    "editable": true
   },
   "outputs": [],
   "source": [
    "s_with_b=s_with_index.merge(b_gr, \n",
    "                           how='left',\n",
    "                           left_on=['Date', 'Origin', 'Destination'],\n",
    "                           right_on=['act_date', 'dep_port','arr_port'])"
   ]
  },
  {
   "cell_type": "code",
   "execution_count": 57,
   "metadata": {
    "collapsed": false,
    "deletable": true,
    "editable": true
   },
   "outputs": [
    {
     "data": {
      "text/plain": [
       "718002"
      ]
     },
     "execution_count": 57,
     "metadata": {},
     "output_type": "execute_result"
    }
   ],
   "source": [
    "len(s_with_index)"
   ]
  },
  {
   "cell_type": "code",
   "execution_count": 58,
   "metadata": {
    "collapsed": false,
    "deletable": true,
    "editable": true
   },
   "outputs": [
    {
     "data": {
      "text/plain": [
       "718002"
      ]
     },
     "execution_count": 58,
     "metadata": {},
     "output_type": "execute_result"
    }
   ],
   "source": [
    "len(s_with_b)"
   ]
  },
  {
   "cell_type": "code",
   "execution_count": 59,
   "metadata": {
    "collapsed": false,
    "deletable": true,
    "editable": true
   },
   "outputs": [
    {
     "data": {
      "text/html": [
       "<div>\n",
       "<table border=\"1\" class=\"dataframe\">\n",
       "  <thead>\n",
       "    <tr style=\"text-align: right;\">\n",
       "      <th></th>\n",
       "      <th>index_x</th>\n",
       "      <th>Date</th>\n",
       "      <th>Origin</th>\n",
       "      <th>Destination</th>\n",
       "      <th>dep_port</th>\n",
       "      <th>arr_port</th>\n",
       "      <th>act_date</th>\n",
       "      <th>index_y</th>\n",
       "    </tr>\n",
       "  </thead>\n",
       "  <tbody>\n",
       "    <tr>\n",
       "      <th>0</th>\n",
       "      <td>0</td>\n",
       "      <td>2013-01-01</td>\n",
       "      <td>TXL</td>\n",
       "      <td>AUH</td>\n",
       "      <td>NaN</td>\n",
       "      <td>NaN</td>\n",
       "      <td>NaN</td>\n",
       "      <td>NaN</td>\n",
       "    </tr>\n",
       "    <tr>\n",
       "      <th>1</th>\n",
       "      <td>1</td>\n",
       "      <td>2013-01-01</td>\n",
       "      <td>ATH</td>\n",
       "      <td>MIL</td>\n",
       "      <td>NaN</td>\n",
       "      <td>NaN</td>\n",
       "      <td>NaN</td>\n",
       "      <td>NaN</td>\n",
       "    </tr>\n",
       "    <tr>\n",
       "      <th>2</th>\n",
       "      <td>2</td>\n",
       "      <td>2013-01-01</td>\n",
       "      <td>ICT</td>\n",
       "      <td>SFO</td>\n",
       "      <td>NaN</td>\n",
       "      <td>NaN</td>\n",
       "      <td>NaN</td>\n",
       "      <td>NaN</td>\n",
       "    </tr>\n",
       "    <tr>\n",
       "      <th>3</th>\n",
       "      <td>3</td>\n",
       "      <td>2013-01-01</td>\n",
       "      <td>RNB</td>\n",
       "      <td>ARN</td>\n",
       "      <td>NaN</td>\n",
       "      <td>NaN</td>\n",
       "      <td>NaN</td>\n",
       "      <td>NaN</td>\n",
       "    </tr>\n",
       "    <tr>\n",
       "      <th>4</th>\n",
       "      <td>4</td>\n",
       "      <td>2013-01-01</td>\n",
       "      <td>OSL</td>\n",
       "      <td>MAD</td>\n",
       "      <td>NaN</td>\n",
       "      <td>NaN</td>\n",
       "      <td>NaN</td>\n",
       "      <td>NaN</td>\n",
       "    </tr>\n",
       "  </tbody>\n",
       "</table>\n",
       "</div>"
      ],
      "text/plain": [
       "   index_x        Date Origin Destination dep_port arr_port act_date  index_y\n",
       "0        0  2013-01-01    TXL         AUH      NaN      NaN      NaN      NaN\n",
       "1        1  2013-01-01    ATH         MIL      NaN      NaN      NaN      NaN\n",
       "2        2  2013-01-01    ICT         SFO      NaN      NaN      NaN      NaN\n",
       "3        3  2013-01-01    RNB         ARN      NaN      NaN      NaN      NaN\n",
       "4        4  2013-01-01    OSL         MAD      NaN      NaN      NaN      NaN"
      ]
     },
     "execution_count": 59,
     "metadata": {},
     "output_type": "execute_result"
    }
   ],
   "source": [
    "s_with_b.head()"
   ]
  },
  {
   "cell_type": "code",
   "execution_count": 60,
   "metadata": {
    "collapsed": false,
    "deletable": true,
    "editable": true
   },
   "outputs": [
    {
     "data": {
      "text/html": [
       "<div>\n",
       "<table border=\"1\" class=\"dataframe\">\n",
       "  <thead>\n",
       "    <tr style=\"text-align: right;\">\n",
       "      <th></th>\n",
       "      <th>index_x</th>\n",
       "      <th>Date</th>\n",
       "      <th>Origin</th>\n",
       "      <th>Destination</th>\n",
       "      <th>dep_port</th>\n",
       "      <th>arr_port</th>\n",
       "      <th>act_date</th>\n",
       "      <th>index_y</th>\n",
       "    </tr>\n",
       "  </thead>\n",
       "  <tbody>\n",
       "    <tr>\n",
       "      <th>23</th>\n",
       "      <td>23</td>\n",
       "      <td>2013-01-01</td>\n",
       "      <td>DUS</td>\n",
       "      <td>IST</td>\n",
       "      <td>DUS</td>\n",
       "      <td>IST</td>\n",
       "      <td>2013-01-01</td>\n",
       "      <td>1.0</td>\n",
       "    </tr>\n",
       "    <tr>\n",
       "      <th>27</th>\n",
       "      <td>27</td>\n",
       "      <td>2013-01-01</td>\n",
       "      <td>RUH</td>\n",
       "      <td>JED</td>\n",
       "      <td>RUH</td>\n",
       "      <td>JED</td>\n",
       "      <td>2013-01-01</td>\n",
       "      <td>17.0</td>\n",
       "    </tr>\n",
       "    <tr>\n",
       "      <th>40</th>\n",
       "      <td>40</td>\n",
       "      <td>2013-01-01</td>\n",
       "      <td>DMM</td>\n",
       "      <td>MNL</td>\n",
       "      <td>DMM</td>\n",
       "      <td>MNL</td>\n",
       "      <td>2013-01-01</td>\n",
       "      <td>1.0</td>\n",
       "    </tr>\n",
       "    <tr>\n",
       "      <th>59</th>\n",
       "      <td>59</td>\n",
       "      <td>2013-01-01</td>\n",
       "      <td>ATL</td>\n",
       "      <td>MIA</td>\n",
       "      <td>ATL</td>\n",
       "      <td>MIA</td>\n",
       "      <td>2013-01-01</td>\n",
       "      <td>4.0</td>\n",
       "    </tr>\n",
       "    <tr>\n",
       "      <th>94</th>\n",
       "      <td>94</td>\n",
       "      <td>2013-01-01</td>\n",
       "      <td>DXB</td>\n",
       "      <td>KUL</td>\n",
       "      <td>DXB</td>\n",
       "      <td>KUL</td>\n",
       "      <td>2013-01-01</td>\n",
       "      <td>1.0</td>\n",
       "    </tr>\n",
       "  </tbody>\n",
       "</table>\n",
       "</div>"
      ],
      "text/plain": [
       "    index_x        Date Origin Destination dep_port arr_port    act_date  \\\n",
       "23       23  2013-01-01    DUS         IST      DUS      IST  2013-01-01   \n",
       "27       27  2013-01-01    RUH         JED      RUH      JED  2013-01-01   \n",
       "40       40  2013-01-01    DMM         MNL      DMM      MNL  2013-01-01   \n",
       "59       59  2013-01-01    ATL         MIA      ATL      MIA  2013-01-01   \n",
       "94       94  2013-01-01    DXB         KUL      DXB      KUL  2013-01-01   \n",
       "\n",
       "    index_y  \n",
       "23      1.0  \n",
       "27     17.0  \n",
       "40      1.0  \n",
       "59      4.0  \n",
       "94      1.0  "
      ]
     },
     "execution_count": 60,
     "metadata": {},
     "output_type": "execute_result"
    }
   ],
   "source": [
    "s_with_b[s_with_b['index_y']>0].head()"
   ]
  },
  {
   "cell_type": "code",
   "execution_count": 62,
   "metadata": {
    "collapsed": false,
    "deletable": true,
    "editable": true
   },
   "outputs": [],
   "source": [
    "s_file = pd.read_csv('./searches.no_dup.csv.bz2', sep='^', low_memory=False)"
   ]
  },
  {
   "cell_type": "code",
   "execution_count": 63,
   "metadata": {
    "collapsed": true,
    "deletable": true,
    "editable": true
   },
   "outputs": [],
   "source": [
    "result=s_file.merge(s_with_b,\n",
    "                how='left',\n",
    "                left_index=True,\n",
    "                right_on='index_x')\n",
    "                    "
   ]
  },
  {
   "cell_type": "code",
   "execution_count": 64,
   "metadata": {
    "collapsed": false,
    "deletable": true,
    "editable": true
   },
   "outputs": [
    {
     "data": {
      "text/html": [
       "<div>\n",
       "<table border=\"1\" class=\"dataframe\">\n",
       "  <thead>\n",
       "    <tr style=\"text-align: right;\">\n",
       "      <th></th>\n",
       "      <th>Date_x</th>\n",
       "      <th>Time</th>\n",
       "      <th>TxnCode</th>\n",
       "      <th>OfficeID</th>\n",
       "      <th>Country</th>\n",
       "      <th>Origin_x</th>\n",
       "      <th>Destination_x</th>\n",
       "      <th>RoundTrip</th>\n",
       "      <th>NbSegments</th>\n",
       "      <th>Seg1Departure</th>\n",
       "      <th>...</th>\n",
       "      <th>TerminalID</th>\n",
       "      <th>InternetOffice</th>\n",
       "      <th>index_x</th>\n",
       "      <th>Date_y</th>\n",
       "      <th>Origin_y</th>\n",
       "      <th>Destination_y</th>\n",
       "      <th>dep_port</th>\n",
       "      <th>arr_port</th>\n",
       "      <th>act_date</th>\n",
       "      <th>index_y</th>\n",
       "    </tr>\n",
       "  </thead>\n",
       "  <tbody>\n",
       "    <tr>\n",
       "      <th>717997</th>\n",
       "      <td>2013-05-03</td>\n",
       "      <td>10:28:25</td>\n",
       "      <td>MPT</td>\n",
       "      <td>01a4373dc0878961ab038a4089f8d4a7</td>\n",
       "      <td>DK</td>\n",
       "      <td>CPH</td>\n",
       "      <td>AYT</td>\n",
       "      <td>1.0</td>\n",
       "      <td>2.0</td>\n",
       "      <td>CPH</td>\n",
       "      <td>...</td>\n",
       "      <td>d41d8cd98f00b204e9800998ecf8427e</td>\n",
       "      <td>CPH</td>\n",
       "      <td>717998</td>\n",
       "      <td>2013-05-03</td>\n",
       "      <td>CPH</td>\n",
       "      <td>AYT</td>\n",
       "      <td>NaN</td>\n",
       "      <td>NaN</td>\n",
       "      <td>NaN</td>\n",
       "      <td>NaN</td>\n",
       "    </tr>\n",
       "    <tr>\n",
       "      <th>717998</th>\n",
       "      <td>2013-05-03</td>\n",
       "      <td>15:00:52</td>\n",
       "      <td>MPT</td>\n",
       "      <td>4e93208c7efe7d16455c6a887367cdbd</td>\n",
       "      <td>US</td>\n",
       "      <td>NYC</td>\n",
       "      <td>YTO</td>\n",
       "      <td>0.0</td>\n",
       "      <td>1.0</td>\n",
       "      <td>NYC</td>\n",
       "      <td>...</td>\n",
       "      <td>d41d8cd98f00b204e9800998ecf8427e</td>\n",
       "      <td>DCA</td>\n",
       "      <td>717999</td>\n",
       "      <td>2013-05-03</td>\n",
       "      <td>NYC</td>\n",
       "      <td>YTO</td>\n",
       "      <td>NaN</td>\n",
       "      <td>NaN</td>\n",
       "      <td>NaN</td>\n",
       "      <td>NaN</td>\n",
       "    </tr>\n",
       "    <tr>\n",
       "      <th>717999</th>\n",
       "      <td>2013-05-03</td>\n",
       "      <td>00:40:36</td>\n",
       "      <td>FXP</td>\n",
       "      <td>439c0bb10ec8b58c68da567c40399a05</td>\n",
       "      <td>NO</td>\n",
       "      <td>TRF</td>\n",
       "      <td>TRD</td>\n",
       "      <td>0.0</td>\n",
       "      <td>1.0</td>\n",
       "      <td>TRF</td>\n",
       "      <td>...</td>\n",
       "      <td>d41d8cd98f00b204e9800998ecf8427e</td>\n",
       "      <td>OSL</td>\n",
       "      <td>718000</td>\n",
       "      <td>2013-05-03</td>\n",
       "      <td>TRF</td>\n",
       "      <td>TRD</td>\n",
       "      <td>NaN</td>\n",
       "      <td>NaN</td>\n",
       "      <td>NaN</td>\n",
       "      <td>NaN</td>\n",
       "    </tr>\n",
       "    <tr>\n",
       "      <th>718000</th>\n",
       "      <td>2013-05-03</td>\n",
       "      <td>21:10:30</td>\n",
       "      <td>MPT</td>\n",
       "      <td>3561a60621de06ab1badc8ca55699ef3</td>\n",
       "      <td>US</td>\n",
       "      <td>IAH</td>\n",
       "      <td>RDU</td>\n",
       "      <td>1.0</td>\n",
       "      <td>2.0</td>\n",
       "      <td>IAH</td>\n",
       "      <td>...</td>\n",
       "      <td>d41d8cd98f00b204e9800998ecf8427e</td>\n",
       "      <td>NYC</td>\n",
       "      <td>718001</td>\n",
       "      <td>2013-05-03</td>\n",
       "      <td>IAH</td>\n",
       "      <td>RDU</td>\n",
       "      <td>NaN</td>\n",
       "      <td>NaN</td>\n",
       "      <td>NaN</td>\n",
       "      <td>NaN</td>\n",
       "    </tr>\n",
       "    <tr>\n",
       "      <th>718001</th>\n",
       "      <td>2013-10-13</td>\n",
       "      <td>18:57:54</td>\n",
       "      <td>MTP</td>\n",
       "      <td>e41c9d833aa74600552f2ed688b67d81</td>\n",
       "      <td>AT</td>\n",
       "      <td>VIE</td>\n",
       "      <td>HA</td>\n",
       "      <td>NaN</td>\n",
       "      <td>NaN</td>\n",
       "      <td>NaN</td>\n",
       "      <td>...</td>\n",
       "      <td>NaN</td>\n",
       "      <td>NaN</td>\n",
       "      <td>718002</td>\n",
       "      <td>2013-10-13</td>\n",
       "      <td>VIE</td>\n",
       "      <td>HA</td>\n",
       "      <td>NaN</td>\n",
       "      <td>NaN</td>\n",
       "      <td>NaN</td>\n",
       "      <td>NaN</td>\n",
       "    </tr>\n",
       "  </tbody>\n",
       "</table>\n",
       "<p>5 rows × 53 columns</p>\n",
       "</div>"
      ],
      "text/plain": [
       "            Date_x      Time TxnCode                          OfficeID  \\\n",
       "717997  2013-05-03  10:28:25     MPT  01a4373dc0878961ab038a4089f8d4a7   \n",
       "717998  2013-05-03  15:00:52     MPT  4e93208c7efe7d16455c6a887367cdbd   \n",
       "717999  2013-05-03  00:40:36     FXP  439c0bb10ec8b58c68da567c40399a05   \n",
       "718000  2013-05-03  21:10:30     MPT  3561a60621de06ab1badc8ca55699ef3   \n",
       "718001  2013-10-13  18:57:54     MTP  e41c9d833aa74600552f2ed688b67d81   \n",
       "\n",
       "       Country Origin_x Destination_x  RoundTrip  NbSegments Seg1Departure  \\\n",
       "717997      DK      CPH           AYT        1.0         2.0           CPH   \n",
       "717998      US      NYC           YTO        0.0         1.0           NYC   \n",
       "717999      NO      TRF           TRD        0.0         1.0           TRF   \n",
       "718000      US      IAH           RDU        1.0         2.0           IAH   \n",
       "718001      AT      VIE            HA        NaN         NaN           NaN   \n",
       "\n",
       "         ...                          TerminalID InternetOffice index_x  \\\n",
       "717997   ...    d41d8cd98f00b204e9800998ecf8427e            CPH  717998   \n",
       "717998   ...    d41d8cd98f00b204e9800998ecf8427e            DCA  717999   \n",
       "717999   ...    d41d8cd98f00b204e9800998ecf8427e            OSL  718000   \n",
       "718000   ...    d41d8cd98f00b204e9800998ecf8427e            NYC  718001   \n",
       "718001   ...                                 NaN            NaN  718002   \n",
       "\n",
       "            Date_y Origin_y Destination_y dep_port arr_port act_date index_y  \n",
       "717997  2013-05-03      CPH           AYT      NaN      NaN      NaN     NaN  \n",
       "717998  2013-05-03      NYC           YTO      NaN      NaN      NaN     NaN  \n",
       "717999  2013-05-03      TRF           TRD      NaN      NaN      NaN     NaN  \n",
       "718000  2013-05-03      IAH           RDU      NaN      NaN      NaN     NaN  \n",
       "718001  2013-10-13      VIE            HA      NaN      NaN      NaN     NaN  \n",
       "\n",
       "[5 rows x 53 columns]"
      ]
     },
     "execution_count": 64,
     "metadata": {},
     "output_type": "execute_result"
    }
   ],
   "source": [
    "result.tail()"
   ]
  },
  {
   "cell_type": "markdown",
   "metadata": {
    "deletable": true,
    "editable": true
   },
   "source": [
    "#### If we dont want to drop the duplicates"
   ]
  },
  {
   "cell_type": "code",
   "execution_count": 65,
   "metadata": {
    "collapsed": true,
    "deletable": true,
    "editable": true
   },
   "outputs": [],
   "source": [
    "result['Booked']=result['index_y'].fillna(0).map(lambda x:1 if x>0 else 0)"
   ]
  },
  {
   "cell_type": "code",
   "execution_count": 68,
   "metadata": {
    "collapsed": false,
    "deletable": true,
    "editable": true
   },
   "outputs": [
    {
     "data": {
      "text/html": [
       "<div>\n",
       "<table border=\"1\" class=\"dataframe\">\n",
       "  <thead>\n",
       "    <tr style=\"text-align: right;\">\n",
       "      <th></th>\n",
       "      <th>Date_x</th>\n",
       "      <th>Time</th>\n",
       "      <th>TxnCode</th>\n",
       "      <th>OfficeID</th>\n",
       "      <th>Country</th>\n",
       "      <th>Origin_x</th>\n",
       "      <th>Destination_x</th>\n",
       "      <th>RoundTrip</th>\n",
       "      <th>NbSegments</th>\n",
       "      <th>Seg1Departure</th>\n",
       "      <th>...</th>\n",
       "      <th>InternetOffice</th>\n",
       "      <th>index_x</th>\n",
       "      <th>Date_y</th>\n",
       "      <th>Origin_y</th>\n",
       "      <th>Destination_y</th>\n",
       "      <th>dep_port</th>\n",
       "      <th>arr_port</th>\n",
       "      <th>act_date</th>\n",
       "      <th>index_y</th>\n",
       "      <th>Booked</th>\n",
       "    </tr>\n",
       "  </thead>\n",
       "  <tbody>\n",
       "    <tr>\n",
       "      <th>220235</th>\n",
       "      <td>2013-08-09</td>\n",
       "      <td>14:35:30</td>\n",
       "      <td>MPT</td>\n",
       "      <td>788e52ddaa551032c69ba37cc316233f</td>\n",
       "      <td>FR</td>\n",
       "      <td>ALG</td>\n",
       "      <td>MRS</td>\n",
       "      <td>0.0</td>\n",
       "      <td>1.0</td>\n",
       "      <td>ALG</td>\n",
       "      <td>...</td>\n",
       "      <td>0</td>\n",
       "      <td>220235</td>\n",
       "      <td>2013-08-09</td>\n",
       "      <td>ALG</td>\n",
       "      <td>MRS</td>\n",
       "      <td>NaN</td>\n",
       "      <td>NaN</td>\n",
       "      <td>NaN</td>\n",
       "      <td>NaN</td>\n",
       "      <td>0</td>\n",
       "    </tr>\n",
       "    <tr>\n",
       "      <th>667065</th>\n",
       "      <td>2013-03-14</td>\n",
       "      <td>16:05:30</td>\n",
       "      <td>FXP</td>\n",
       "      <td>a96c517d90528e68f926d2835f6d8251</td>\n",
       "      <td>FI</td>\n",
       "      <td>SVX</td>\n",
       "      <td>HEL</td>\n",
       "      <td>1.0</td>\n",
       "      <td>2.0</td>\n",
       "      <td>SVX</td>\n",
       "      <td>...</td>\n",
       "      <td>HEL</td>\n",
       "      <td>667066</td>\n",
       "      <td>2013-03-14</td>\n",
       "      <td>SVX</td>\n",
       "      <td>HEL</td>\n",
       "      <td>NaN</td>\n",
       "      <td>NaN</td>\n",
       "      <td>NaN</td>\n",
       "      <td>NaN</td>\n",
       "      <td>0</td>\n",
       "    </tr>\n",
       "    <tr>\n",
       "      <th>160705</th>\n",
       "      <td>2013-06-10</td>\n",
       "      <td>05:40:15</td>\n",
       "      <td>MPT</td>\n",
       "      <td>b2f919c3d6a9ba67140ad215791fb7a1</td>\n",
       "      <td>RU</td>\n",
       "      <td>MOW</td>\n",
       "      <td>BQS</td>\n",
       "      <td>0.0</td>\n",
       "      <td>1.0</td>\n",
       "      <td>MOW</td>\n",
       "      <td>...</td>\n",
       "      <td>MOW</td>\n",
       "      <td>160705</td>\n",
       "      <td>2013-06-10</td>\n",
       "      <td>MOW</td>\n",
       "      <td>BQS</td>\n",
       "      <td>NaN</td>\n",
       "      <td>NaN</td>\n",
       "      <td>NaN</td>\n",
       "      <td>NaN</td>\n",
       "      <td>0</td>\n",
       "    </tr>\n",
       "    <tr>\n",
       "      <th>302057</th>\n",
       "      <td>2013-10-30</td>\n",
       "      <td>22:46:06</td>\n",
       "      <td>MPT</td>\n",
       "      <td>d548d9da427441458ba614dc0be9fc6e</td>\n",
       "      <td>FR</td>\n",
       "      <td>PAR</td>\n",
       "      <td>PTP</td>\n",
       "      <td>1.0</td>\n",
       "      <td>2.0</td>\n",
       "      <td>PAR</td>\n",
       "      <td>...</td>\n",
       "      <td>0</td>\n",
       "      <td>302057</td>\n",
       "      <td>2013-10-30</td>\n",
       "      <td>PAR</td>\n",
       "      <td>PTP</td>\n",
       "      <td>NaN</td>\n",
       "      <td>NaN</td>\n",
       "      <td>NaN</td>\n",
       "      <td>NaN</td>\n",
       "      <td>0</td>\n",
       "    </tr>\n",
       "    <tr>\n",
       "      <th>309435</th>\n",
       "      <td>2013-11-06</td>\n",
       "      <td>03:39:48</td>\n",
       "      <td>MPT</td>\n",
       "      <td>54df8a79382127fbc8bb62d073774586</td>\n",
       "      <td>ES</td>\n",
       "      <td>LIR</td>\n",
       "      <td>SMF</td>\n",
       "      <td>1.0</td>\n",
       "      <td>2.0</td>\n",
       "      <td>LIR</td>\n",
       "      <td>...</td>\n",
       "      <td>0</td>\n",
       "      <td>309435</td>\n",
       "      <td>2013-11-06</td>\n",
       "      <td>LIR</td>\n",
       "      <td>SMF</td>\n",
       "      <td>NaN</td>\n",
       "      <td>NaN</td>\n",
       "      <td>NaN</td>\n",
       "      <td>NaN</td>\n",
       "      <td>0</td>\n",
       "    </tr>\n",
       "    <tr>\n",
       "      <th>573741</th>\n",
       "      <td>2013-12-04</td>\n",
       "      <td>20:29:41</td>\n",
       "      <td>MPT</td>\n",
       "      <td>7dd402d07bb4c7e00388fecc8182cd3b</td>\n",
       "      <td>US</td>\n",
       "      <td>HOU</td>\n",
       "      <td>VCE</td>\n",
       "      <td>1.0</td>\n",
       "      <td>2.0</td>\n",
       "      <td>HOU</td>\n",
       "      <td>...</td>\n",
       "      <td>0</td>\n",
       "      <td>573741</td>\n",
       "      <td>2013-12-04</td>\n",
       "      <td>HOU</td>\n",
       "      <td>VCE</td>\n",
       "      <td>NaN</td>\n",
       "      <td>NaN</td>\n",
       "      <td>NaN</td>\n",
       "      <td>NaN</td>\n",
       "      <td>0</td>\n",
       "    </tr>\n",
       "    <tr>\n",
       "      <th>441089</th>\n",
       "      <td>2013-07-25</td>\n",
       "      <td>08:10:19</td>\n",
       "      <td>MTP</td>\n",
       "      <td>236cbf458f79dbb9d5e9c9430438c3db</td>\n",
       "      <td>US</td>\n",
       "      <td>JFK</td>\n",
       "      <td>ODS</td>\n",
       "      <td>1.0</td>\n",
       "      <td>2.0</td>\n",
       "      <td>JFK</td>\n",
       "      <td>...</td>\n",
       "      <td>HPN</td>\n",
       "      <td>441089</td>\n",
       "      <td>2013-07-25</td>\n",
       "      <td>JFK</td>\n",
       "      <td>ODS</td>\n",
       "      <td>NaN</td>\n",
       "      <td>NaN</td>\n",
       "      <td>NaN</td>\n",
       "      <td>NaN</td>\n",
       "      <td>0</td>\n",
       "    </tr>\n",
       "    <tr>\n",
       "      <th>444566</th>\n",
       "      <td>2013-07-28</td>\n",
       "      <td>08:15:55</td>\n",
       "      <td>MPT</td>\n",
       "      <td>d71b3b9af23c9a47a13cf43cb0269475</td>\n",
       "      <td>IN</td>\n",
       "      <td>BLR</td>\n",
       "      <td>JAI</td>\n",
       "      <td>0.0</td>\n",
       "      <td>1.0</td>\n",
       "      <td>BLR</td>\n",
       "      <td>...</td>\n",
       "      <td>0</td>\n",
       "      <td>444566</td>\n",
       "      <td>2013-07-28</td>\n",
       "      <td>BLR</td>\n",
       "      <td>JAI</td>\n",
       "      <td>NaN</td>\n",
       "      <td>NaN</td>\n",
       "      <td>NaN</td>\n",
       "      <td>NaN</td>\n",
       "      <td>0</td>\n",
       "    </tr>\n",
       "    <tr>\n",
       "      <th>536899</th>\n",
       "      <td>2013-10-28</td>\n",
       "      <td>08:26:00</td>\n",
       "      <td>FXP</td>\n",
       "      <td>89cb784ea70ecefa2304a5ec69fefd64</td>\n",
       "      <td>HK</td>\n",
       "      <td>HKG</td>\n",
       "      <td>SIN</td>\n",
       "      <td>0.0</td>\n",
       "      <td>2.0</td>\n",
       "      <td>HKG</td>\n",
       "      <td>...</td>\n",
       "      <td>0</td>\n",
       "      <td>536899</td>\n",
       "      <td>2013-10-28</td>\n",
       "      <td>HKG</td>\n",
       "      <td>SIN</td>\n",
       "      <td>NaN</td>\n",
       "      <td>NaN</td>\n",
       "      <td>NaN</td>\n",
       "      <td>NaN</td>\n",
       "      <td>0</td>\n",
       "    </tr>\n",
       "    <tr>\n",
       "      <th>136499</th>\n",
       "      <td>2013-05-17</td>\n",
       "      <td>12:30:25</td>\n",
       "      <td>MPC</td>\n",
       "      <td>013a605a30d373393122586dea103ea9</td>\n",
       "      <td>AU</td>\n",
       "      <td>SYD</td>\n",
       "      <td>LAX</td>\n",
       "      <td>1.0</td>\n",
       "      <td>2.0</td>\n",
       "      <td>SYD</td>\n",
       "      <td>...</td>\n",
       "      <td>MEL</td>\n",
       "      <td>136499</td>\n",
       "      <td>2013-05-17</td>\n",
       "      <td>SYD</td>\n",
       "      <td>LAX</td>\n",
       "      <td>NaN</td>\n",
       "      <td>NaN</td>\n",
       "      <td>NaN</td>\n",
       "      <td>NaN</td>\n",
       "      <td>0</td>\n",
       "    </tr>\n",
       "  </tbody>\n",
       "</table>\n",
       "<p>10 rows × 54 columns</p>\n",
       "</div>"
      ],
      "text/plain": [
       "            Date_x      Time TxnCode                          OfficeID  \\\n",
       "220235  2013-08-09  14:35:30     MPT  788e52ddaa551032c69ba37cc316233f   \n",
       "667065  2013-03-14  16:05:30     FXP  a96c517d90528e68f926d2835f6d8251   \n",
       "160705  2013-06-10  05:40:15     MPT  b2f919c3d6a9ba67140ad215791fb7a1   \n",
       "302057  2013-10-30  22:46:06     MPT  d548d9da427441458ba614dc0be9fc6e   \n",
       "309435  2013-11-06  03:39:48     MPT  54df8a79382127fbc8bb62d073774586   \n",
       "573741  2013-12-04  20:29:41     MPT  7dd402d07bb4c7e00388fecc8182cd3b   \n",
       "441089  2013-07-25  08:10:19     MTP  236cbf458f79dbb9d5e9c9430438c3db   \n",
       "444566  2013-07-28  08:15:55     MPT  d71b3b9af23c9a47a13cf43cb0269475   \n",
       "536899  2013-10-28  08:26:00     FXP  89cb784ea70ecefa2304a5ec69fefd64   \n",
       "136499  2013-05-17  12:30:25     MPC  013a605a30d373393122586dea103ea9   \n",
       "\n",
       "       Country Origin_x Destination_x  RoundTrip  NbSegments Seg1Departure  \\\n",
       "220235      FR      ALG           MRS        0.0         1.0           ALG   \n",
       "667065      FI      SVX           HEL        1.0         2.0           SVX   \n",
       "160705      RU      MOW           BQS        0.0         1.0           MOW   \n",
       "302057      FR      PAR           PTP        1.0         2.0           PAR   \n",
       "309435      ES      LIR           SMF        1.0         2.0           LIR   \n",
       "573741      US      HOU           VCE        1.0         2.0           HOU   \n",
       "441089      US      JFK           ODS        1.0         2.0           JFK   \n",
       "444566      IN      BLR           JAI        0.0         1.0           BLR   \n",
       "536899      HK      HKG           SIN        0.0         2.0           HKG   \n",
       "136499      AU      SYD           LAX        1.0         2.0           SYD   \n",
       "\n",
       "        ...   InternetOffice index_x      Date_y Origin_y Destination_y  \\\n",
       "220235  ...                0  220235  2013-08-09      ALG           MRS   \n",
       "667065  ...              HEL  667066  2013-03-14      SVX           HEL   \n",
       "160705  ...              MOW  160705  2013-06-10      MOW           BQS   \n",
       "302057  ...                0  302057  2013-10-30      PAR           PTP   \n",
       "309435  ...                0  309435  2013-11-06      LIR           SMF   \n",
       "573741  ...                0  573741  2013-12-04      HOU           VCE   \n",
       "441089  ...              HPN  441089  2013-07-25      JFK           ODS   \n",
       "444566  ...                0  444566  2013-07-28      BLR           JAI   \n",
       "536899  ...                0  536899  2013-10-28      HKG           SIN   \n",
       "136499  ...              MEL  136499  2013-05-17      SYD           LAX   \n",
       "\n",
       "       dep_port arr_port act_date index_y Booked  \n",
       "220235      NaN      NaN      NaN     NaN      0  \n",
       "667065      NaN      NaN      NaN     NaN      0  \n",
       "160705      NaN      NaN      NaN     NaN      0  \n",
       "302057      NaN      NaN      NaN     NaN      0  \n",
       "309435      NaN      NaN      NaN     NaN      0  \n",
       "573741      NaN      NaN      NaN     NaN      0  \n",
       "441089      NaN      NaN      NaN     NaN      0  \n",
       "444566      NaN      NaN      NaN     NaN      0  \n",
       "536899      NaN      NaN      NaN     NaN      0  \n",
       "136499      NaN      NaN      NaN     NaN      0  \n",
       "\n",
       "[10 rows x 54 columns]"
      ]
     },
     "execution_count": 68,
     "metadata": {},
     "output_type": "execute_result"
    }
   ],
   "source": [
    "result.sample(10)"
   ]
  },
  {
   "cell_type": "code",
   "execution_count": null,
   "metadata": {
    "collapsed": true,
    "deletable": true,
    "editable": true
   },
   "outputs": [],
   "source": [
    "s_b.result(['index_x', 'Date_y', 'Origin_y', 'Destination_y', 'dep_port', 'arr_port', 'act_date','index_y'],axis=1, inplace=True)"
   ]
  },
  {
   "cell_type": "markdown",
   "metadata": {
    "collapsed": false,
    "deletable": true,
    "editable": true
   },
   "source": [
    "### Now we have to put 1 to all the booking with Num of Bookings>1 in the clean file"
   ]
  },
  {
   "cell_type": "code",
   "execution_count": null,
   "metadata": {
    "collapsed": true,
    "deletable": true,
    "editable": true
   },
   "outputs": [],
   "source": []
  },
  {
   "cell_type": "code",
   "execution_count": null,
   "metadata": {
    "collapsed": true,
    "deletable": true,
    "editable": true
   },
   "outputs": [],
   "source": []
  },
  {
   "cell_type": "code",
   "execution_count": null,
   "metadata": {
    "collapsed": true,
    "deletable": true,
    "editable": true
   },
   "outputs": [],
   "source": []
  },
  {
   "cell_type": "code",
   "execution_count": null,
   "metadata": {
    "collapsed": true,
    "deletable": true,
    "editable": true
   },
   "outputs": [],
   "source": []
  },
  {
   "cell_type": "code",
   "execution_count": null,
   "metadata": {
    "collapsed": true,
    "deletable": true,
    "editable": true
   },
   "outputs": [],
   "source": []
  },
  {
   "cell_type": "code",
   "execution_count": null,
   "metadata": {
    "collapsed": true,
    "deletable": true,
    "editable": true
   },
   "outputs": [],
   "source": []
  },
  {
   "cell_type": "code",
   "execution_count": null,
   "metadata": {
    "collapsed": true,
    "deletable": true,
    "editable": true
   },
   "outputs": [],
   "source": []
  }
 ],
 "metadata": {
  "kernelspec": {
   "display_name": "Python 2",
   "language": "python",
   "name": "python2"
  },
  "language_info": {
   "codemirror_mode": {
    "name": "ipython",
    "version": 2
   },
   "file_extension": ".py",
   "mimetype": "text/x-python",
   "name": "python",
   "nbconvert_exporter": "python",
   "pygments_lexer": "ipython2",
   "version": "2.7.13"
  }
 },
 "nbformat": 4,
 "nbformat_minor": 0
}
