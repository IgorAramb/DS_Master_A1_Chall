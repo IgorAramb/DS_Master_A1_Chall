{
 "cells": [
  {
   "cell_type": "markdown",
   "metadata": {
    "deletable": true,
    "editable": true
   },
   "source": [
    "## Match searches with bookings\n",
    "\n",
    "- For every search in the searches file, find out whether the search ended up in a booking or not (using the info in the bookings file). For instance, search and booking origin and destination should match. \n",
    "\n",
    "- For the bookings file, origin and destination are the columns dep_port and arr_port, respectively. \n",
    "\n",
    "- Generate a CSV file with the search data, and an additional field, containing 1 if the search ended up in a booking, and 0 otherwise.\n",
    "\n"
   ]
  },
  {
   "cell_type": "raw",
   "metadata": {
    "deletable": true,
    "editable": true
   },
   "source": [
    "1) Get familiar with data\n",
    "2) Prepare the data for processing\n",
    "\n",
    "3) Make action plan\n",
    "4) Develop the code that works with a sample\n",
    "\n",
    "5) Adjust the code to work with Big data\n",
    "6) Test big data approach on a sample\n",
    "\n",
    "7) Run program with big data"
   ]
  },
  {
   "cell_type": "markdown",
   "metadata": {
    "deletable": true,
    "editable": true
   },
   "source": [
    "## Prepare the data for processing"
   ]
  },
  {
   "cell_type": "markdown",
   "metadata": {
    "deletable": true,
    "editable": true
   },
   "source": [
    "### Booking"
   ]
  },
  {
   "cell_type": "markdown",
   "metadata": {
    "deletable": true,
    "editable": true
   },
   "source": [
    "#### We didn't check for duplicates so far... What if the file is has duplicated lines?"
   ]
  },
  {
   "cell_type": "raw",
   "metadata": {
    "deletable": true,
    "editable": true
   },
   "source": [
    "# pd.set_option('display.max_columns', None)"
   ]
  },
  {
   "cell_type": "code",
   "execution_count": 1,
   "metadata": {
    "collapsed": false,
    "deletable": true,
    "editable": true
   },
   "outputs": [
    {
     "name": "stdout",
     "output_type": "stream",
     "text": [
      "Chunk 0... size 300000\n",
      "Chunk 1... size 600000\n",
      "Chunk 2... size 900000\n",
      "Chunk 3... size 1000000\n",
      "Chunk 4... size 1000000\n",
      "Chunk 5... size 1000000\n",
      "Chunk 6... size 1000000\n",
      "Chunk 7... size 1000000\n",
      "Chunk 8... size 1000000\n",
      "Chunk 9... size 1000000\n",
      "Chunk 10... size 1000000\n",
      "Chunk 11... size 1000000\n",
      "Chunk 12... size 1000000\n",
      "Chunk 13... size 1000000\n",
      "Chunk 14... size 1000000\n",
      "Chunk 15... size 1000000\n"
     ]
    },
    {
     "name": "stderr",
     "output_type": "stream",
     "text": [
      "/home/dsc/anaconda2/lib/python2.7/site-packages/IPython/core/magic.py:193: DtypeWarning: Columns (7,8,27) have mixed types. Specify dtype option on import or set low_memory=False.\n",
      "  call = lambda f, *a, **k: f(*a, **k)\n"
     ]
    },
    {
     "name": "stdout",
     "output_type": "stream",
     "text": [
      "Chunk 16... size 1016377\n",
      "Chunk 17... size 1016377\n",
      "Chunk 18... size 1016377\n",
      "Chunk 19... size 1016377\n",
      "Chunk 20... size 1016377\n",
      "Chunk 21... size 1016377\n",
      "Chunk 22... size 1016377\n",
      "Chunk 23... size 1016377\n",
      "Chunk 24... size 1016377\n",
      "Chunk 25... size 1016377\n",
      "Chunk 26... size 1016377\n",
      "Chunk 27... size 1016377\n",
      "Chunk 28... size 1016377\n",
      "Chunk 29... size 1016377\n",
      "Chunk 30... size 1016377\n",
      "Chunk 31... size 1016377\n",
      "Chunk 32... size 1016377\n",
      "Chunk 33... size 1016377\n",
      "CPU times: user 13min 18s, sys: 53.3 s, total: 14min 11s\n",
      "Wall time: 14min 13s\n"
     ]
    }
   ],
   "source": [
    "%%time\n",
    "import pandas as pd\n",
    "bc=pd.read_csv('./bookings.csv.bz2', sep='^', chunksize=300000)\n",
    "all_chunks=pd.DataFrame()\n",
    "for i, chunks in enumerate(bc):\n",
    "    all_chunks=all_chunks.append(chunks)\n",
    "    all_chunks=all_chunks.drop_duplicates()\n",
    "    print \"Chunk %d... size %d\"%(i,len(all_chunks))"
   ]
  },
  {
   "cell_type": "code",
   "execution_count": 3,
   "metadata": {
    "collapsed": false,
    "deletable": true,
    "editable": true
   },
   "outputs": [],
   "source": [
    "all_chunks.columns=all_chunks.columns.map(lambda x:str(x).strip())\n",
    "#all_chunks.columns.map(lambda x:str(x).strip())\n"
   ]
  },
  {
   "cell_type": "code",
   "execution_count": 6,
   "metadata": {
    "collapsed": false,
    "deletable": true,
    "editable": true
   },
   "outputs": [
    {
     "data": {
      "text/plain": [
       "['ZRH     ', 'SAL     ', 'SAL     ', 'AKL     ', 'AKL     ']"
      ]
     },
     "execution_count": 6,
     "metadata": {},
     "output_type": "execute_result"
    }
   ],
   "source": [
    "all_chunks['dep_port'].head().tolist()"
   ]
  },
  {
   "cell_type": "code",
   "execution_count": 7,
   "metadata": {
    "collapsed": false,
    "deletable": true,
    "editable": true
   },
   "outputs": [
    {
     "data": {
      "text/plain": [
       "['LHR     ', 'CLT     ', 'CLT     ', 'SVO     ', 'SVO     ']"
      ]
     },
     "execution_count": 7,
     "metadata": {},
     "output_type": "execute_result"
    }
   ],
   "source": [
    "all_chunks['arr_port'].head().tolist()"
   ]
  },
  {
   "cell_type": "code",
   "execution_count": 10,
   "metadata": {
    "collapsed": true,
    "deletable": true,
    "editable": true
   },
   "outputs": [],
   "source": [
    "all_chunks['dep_port']=all_chunks['dep_port'].map(lambda x:str(x).strip())\n",
    "all_chunks['arr_port']=all_chunks['arr_port'].map(lambda x:str(x).strip())"
   ]
  },
  {
   "cell_type": "code",
   "execution_count": 11,
   "metadata": {
    "collapsed": false,
    "deletable": true,
    "editable": true
   },
   "outputs": [
    {
     "data": {
      "text/plain": [
       "['LHR', 'CLT', 'CLT', 'SVO', 'SVO']"
      ]
     },
     "execution_count": 11,
     "metadata": {},
     "output_type": "execute_result"
    }
   ],
   "source": [
    "all_chunks['arr_port'].head().tolist()"
   ]
  },
  {
   "cell_type": "code",
   "execution_count": 12,
   "metadata": {
    "collapsed": true,
    "deletable": true,
    "editable": true
   },
   "outputs": [],
   "source": [
    "all_chunks.to_csv('./bookings_nodp.csv', sep='^', index=False)"
   ]
  },
  {
   "cell_type": "code",
   "execution_count": 13,
   "metadata": {
    "collapsed": true,
    "deletable": true,
    "editable": true
   },
   "outputs": [
    {
     "name": "stdout",
     "output_type": "stream",
     "text": [
      "total 1434400\r\n",
      "-rw-rw-r--. 1 dsc dsc 554970628 Jan  4  2016 bookings.csv.bz2\r\n",
      "-rw-rw-r--. 1 dsc dsc 427361292 Dec  3 13:19 bookings_nodp.csv\r\n",
      "-rw-rw-r--. 1 dsc dsc     54834 Dec  2 17:13 bookings.sample.csv.bz2\r\n",
      "-rw-rw-r--. 1 dsc dsc    425006 Dec  2 17:23 bookings.sample.csv.csv\r\n",
      "-rw-rw-r--. 1 dsc dsc     11743 Dec  2 19:38 ch_01.ipynb\r\n",
      "-rw-rw-r--. 1 dsc dsc    102440 Dec  2 21:29 ch_02.ipynb\r\n",
      "-rw-rw-r--. 1 dsc dsc    178730 Dec  3 12:46 ch_03.ipynb\r\n",
      "-rw-rw-r--. 1 dsc dsc     12121 Dec  3 13:18 ch_04.ipynb\r\n",
      "-rw-rw-r--. 1 dsc dsc     12165 Dec  2 21:44 ch_05b.ipynb\r\n",
      "-rw-rw-r--. 1 dsc dsc      3442 Dec  2 21:47 ch_05.ipynb\r\n",
      "-rw-rw-r--. 1 dsc dsc 483188920 Jan  4  2016 searches.csv.bz2\r\n",
      "-rw-rw-r--. 1 dsc dsc   2432065 Dec  3 11:58 searches.sample.csv.bz2\r\n",
      "-rw-rw-r--. 1 dsc dsc     33984 Dec  2 20:54 top_airports.csv\r\n"
     ]
    }
   ],
   "source": [
    "! ls -l "
   ]
  },
  {
   "cell_type": "code",
   "execution_count": 14,
   "metadata": {
    "collapsed": false,
    "deletable": true,
    "editable": true
   },
   "outputs": [
    {
     "name": "stdout",
     "output_type": "stream",
     "text": [
      "1016378 bookings_nodp.csv\r\n"
     ]
    }
   ],
   "source": [
    "! wc -l bookings_nodp.csv"
   ]
  },
  {
   "cell_type": "code",
   "execution_count": 15,
   "metadata": {
    "collapsed": false,
    "deletable": true,
    "editable": true
   },
   "outputs": [
    {
     "name": "stdout",
     "output_type": "stream",
     "text": [
      "Once deleted, variables cannot be recovered. Proceed (y/[n])? y\n"
     ]
    }
   ],
   "source": [
    "%reset"
   ]
  },
  {
   "cell_type": "code",
   "execution_count": 17,
   "metadata": {
    "collapsed": false,
    "deletable": true,
    "editable": true
   },
   "outputs": [
    {
     "name": "stdout",
     "output_type": "stream",
     "text": [
      "Chunk 0... size 299999\n",
      "Chunk 1... size 358999\n",
      "Chunk 2... size 358999\n",
      "Chunk 3... size 358999\n",
      "Chunk 4... size 658992\n",
      "Chunk 5... size 718002\n",
      "Chunk 6... size 718002\n",
      "Chunk 7... size 718002\n",
      "Chunk 8... size 718002\n",
      "Chunk 9... size 718002\n",
      "Chunk 10... size 718002\n",
      "Chunk 11... size 718002\n",
      "Chunk 12... size 718002\n",
      "Chunk 13... size 718002\n",
      "Chunk 14... size 718002\n",
      "Chunk 15... size 718002\n",
      "Chunk 16... size 718002\n",
      "Chunk 17... size 718002\n",
      "Chunk 18... size 718002\n",
      "Chunk 19... size 718002\n",
      "Chunk 20... size 718002\n",
      "Chunk 21... size 718002\n",
      "Chunk 22... size 718002\n",
      "Chunk 23... size 718002\n",
      "Chunk 24... size 718002\n",
      "Chunk 25... size 718002\n",
      "Chunk 26... size 718002\n",
      "Chunk 27... size 718002\n",
      "Chunk 28... size 718002\n",
      "Chunk 29... size 718002\n",
      "Chunk 30... size 718002\n",
      "Chunk 31... size 718002\n",
      "Chunk 32... size 718002\n",
      "Chunk 33... size 718002\n",
      "Chunk 34... size 718002\n",
      "Chunk 35... size 718002\n",
      "Chunk 36... size 718002\n",
      "Chunk 37... size 718002\n",
      "Chunk 38... size 718002\n",
      "Chunk 39... size 718002\n",
      "Chunk 40... size 718002\n",
      "Chunk 41... size 718002\n",
      "Chunk 42... size 718002\n",
      "Chunk 43... size 718002\n",
      "Chunk 44... size 718002\n",
      "Chunk 45... size 718002\n",
      "Chunk 46... size 718002\n",
      "Chunk 47... size 718002\n",
      "Chunk 48... size 718002\n",
      "Chunk 49... size 718002\n",
      "Chunk 50... size 718002\n",
      "Chunk 51... size 718002\n",
      "Chunk 52... size 718002\n",
      "Chunk 53... size 718002\n",
      "Chunk 54... size 718002\n",
      "Chunk 55... size 718002\n",
      "Chunk 56... size 718002\n",
      "Chunk 57... size 718002\n",
      "Chunk 58... size 718002\n",
      "Chunk 59... size 718002\n",
      "Chunk 60... size 718002\n",
      "Chunk 61... size 718002\n",
      "Chunk 62... size 718002\n",
      "Chunk 63... size 718002\n",
      "Chunk 64... size 718002\n",
      "Chunk 65... size 718002\n",
      "Chunk 66... size 718002\n",
      "Chunk 67... size 718003\n",
      "CPU times: user 16min 51s, sys: 1min 53s, total: 18min 44s\n",
      "Wall time: 18min 49s\n"
     ]
    }
   ],
   "source": [
    "%%time\n",
    "import pandas as pd\n",
    "bc=pd.read_csv('./searches.csv.bz2', sep='^', chunksize=300000, low_memory=False)\n",
    "#without low memory False the column type is set with respect to first N rows\n",
    "\n",
    "all_chunks=pd.DataFrame()\n",
    "for i, chunks in enumerate(bc):\n",
    "    all_chunks=all_chunks.append(chunks)\n",
    "    all_chunks=all_chunks.drop_duplicates()\n",
    "    print \"Chunk %d... size %d\"%(i,len(all_chunks))"
   ]
  },
  {
   "cell_type": "code",
   "execution_count": 20,
   "metadata": {
    "collapsed": false,
    "deletable": true,
    "editable": true
   },
   "outputs": [
    {
     "data": {
      "text/plain": [
       "['TXL', 'ATH', 'ICT', 'RNB', 'OSL']"
      ]
     },
     "execution_count": 20,
     "metadata": {},
     "output_type": "execute_result"
    }
   ],
   "source": [
    "all_chunks['Origin'].head().tolist()"
   ]
  },
  {
   "cell_type": "code",
   "execution_count": 21,
   "metadata": {
    "collapsed": true,
    "deletable": true,
    "editable": true
   },
   "outputs": [],
   "source": [
    "all_chunks.to_csv('./searches_nodp.csv', sep='^', index=False)"
   ]
  },
  {
   "cell_type": "markdown",
   "metadata": {
    "deletable": true,
    "editable": true
   },
   "source": [
    "## Action Plan"
   ]
  },
  {
   "cell_type": "raw",
   "metadata": {
    "collapsed": true,
    "deletable": true,
    "editable": true
   },
   "source": [
    "1) get search_date, origin destination from search\n",
    "2) get act_date, dep_port and arr_port from bookins\n",
    "3) eleminate duplicates from bookings \n",
    "4) left join [search_date, origin, destination] on [act_date, dep_port,arr_port]\n",
    "5) add 0/1 depending of Nan/Something"
   ]
  },
  {
   "cell_type": "code",
   "execution_count": 1,
   "metadata": {
    "collapsed": false,
    "deletable": true,
    "editable": true
   },
   "outputs": [],
   "source": [
    "import pandas as pd\n",
    "s=pd.read_csv('./searches_nodp.csv', sep='^',usecols=['Date','Origin', 'Destination'])\n",
    "b=pd.read_csv('./bookings_nodp.csv', sep='^',usecols=['act_date','dep_port', 'arr_port'])"
   ]
  },
  {
   "cell_type": "markdown",
   "metadata": {
    "deletable": true,
    "editable": true
   },
   "source": [
    "### NaN and prepare dates"
   ]
  },
  {
   "cell_type": "code",
   "execution_count": 2,
   "metadata": {
    "collapsed": false,
    "deletable": true,
    "editable": true
   },
   "outputs": [
    {
     "name": "stdout",
     "output_type": "stream",
     "text": [
      "size of Book:\t1016377 \n",
      "size of Search:\t718003 \n"
     ]
    }
   ],
   "source": [
    "print \"size of Book:\\t%d \\nsize of Search:\\t%d \" % (len(b), len(s))"
   ]
  },
  {
   "cell_type": "code",
   "execution_count": 3,
   "metadata": {
    "collapsed": true,
    "deletable": true,
    "editable": true
   },
   "outputs": [],
   "source": [
    "b=b.dropna()\n",
    "s=s.dropna()"
   ]
  },
  {
   "cell_type": "code",
   "execution_count": 4,
   "metadata": {
    "collapsed": false,
    "deletable": true,
    "editable": true
   },
   "outputs": [
    {
     "name": "stdout",
     "output_type": "stream",
     "text": [
      "size of Book:\t1016377 \n",
      "size of Search:\t718002 \n"
     ]
    }
   ],
   "source": [
    "print \"size of Book:\\t%d \\nsize of Search:\\t%d \" % (len(b), len(s))"
   ]
  },
  {
   "cell_type": "code",
   "execution_count": 5,
   "metadata": {
    "collapsed": true,
    "deletable": true,
    "editable": true
   },
   "outputs": [],
   "source": [
    "b['act_date']=pd.to_datetime(b['act_date'],errors='raise')"
   ]
  },
  {
   "cell_type": "code",
   "execution_count": 7,
   "metadata": {
    "collapsed": false,
    "deletable": true,
    "editable": true
   },
   "outputs": [],
   "source": [
    "s['Date'] = pd.to_datetime(s['Date'],errors='raise')"
   ]
  },
  {
   "cell_type": "raw",
   "metadata": {
    "collapsed": true,
    "deletable": true,
    "editable": true
   },
   "source": [
    "Search-Booking Model\n",
    "if there is one booking for a given O&D done at the same day as the search (for the same O&D), all searches of the day (for a given 0&D) might have resulted from the same source and will be set with 1\n",
    "\n",
    "1) Group by bookings on [Activity_date, O&D] so that we dont have duplicates \n",
    "    (and we can have number of bookings for the day)\n",
    "    or we can just drop the duplicates\n",
    "2) search left join bookings "
   ]
  },
  {
   "cell_type": "raw",
   "metadata": {
    "deletable": true,
    "editable": true
   },
   "source": [
    "what do we have?"
   ]
  },
  {
   "cell_type": "code",
   "execution_count": 21,
   "metadata": {
    "collapsed": false,
    "deletable": true,
    "editable": true
   },
   "outputs": [],
   "source": [
    "import pandas as pd\n",
    "s=pd.read_csv('./searches_nodp.csv', sep='^',usecols=['Date','Origin', 'Destination'])\n",
    "b=pd.read_csv('./bookings_nodp.csv', sep='^',usecols=['act_date','dep_port', 'arr_port'])\n",
    "b=b.dropna()\n",
    "b['act_date']=pd.to_datetime(b['act_date'],errors='raise')\n",
    "\n",
    "s.reset_index(inplace=True) #before dropping NAN values we should save the index \n",
    "# so that we know how to merge 1/0 values to the csv file\n",
    "s=s.dropna()\n",
    "s['Date'] = pd.to_datetime(s['Date'],errors='raise')"
   ]
  },
  {
   "cell_type": "code",
   "execution_count": 22,
   "metadata": {
    "collapsed": false,
    "deletable": true,
    "editable": true
   },
   "outputs": [
    {
     "data": {
      "text/html": [
       "<div>\n",
       "<table border=\"1\" class=\"dataframe\">\n",
       "  <thead>\n",
       "    <tr style=\"text-align: right;\">\n",
       "      <th></th>\n",
       "      <th>dep_port</th>\n",
       "      <th>arr_port</th>\n",
       "      <th>act_date</th>\n",
       "      <th>0</th>\n",
       "    </tr>\n",
       "  </thead>\n",
       "  <tbody>\n",
       "    <tr>\n",
       "      <th>0</th>\n",
       "      <td>AAB</td>\n",
       "      <td>ROV</td>\n",
       "      <td>2013-05-29</td>\n",
       "      <td>2</td>\n",
       "    </tr>\n",
       "    <tr>\n",
       "      <th>1</th>\n",
       "      <td>AAB</td>\n",
       "      <td>ROV</td>\n",
       "      <td>2013-08-24</td>\n",
       "      <td>2</td>\n",
       "    </tr>\n",
       "    <tr>\n",
       "      <th>2</th>\n",
       "      <td>AAE</td>\n",
       "      <td>ALG</td>\n",
       "      <td>2013-01-07</td>\n",
       "      <td>1</td>\n",
       "    </tr>\n",
       "    <tr>\n",
       "      <th>3</th>\n",
       "      <td>AAE</td>\n",
       "      <td>ALG</td>\n",
       "      <td>2013-01-08</td>\n",
       "      <td>2</td>\n",
       "    </tr>\n",
       "    <tr>\n",
       "      <th>4</th>\n",
       "      <td>AAE</td>\n",
       "      <td>ALG</td>\n",
       "      <td>2013-01-09</td>\n",
       "      <td>4</td>\n",
       "    </tr>\n",
       "  </tbody>\n",
       "</table>\n",
       "</div>"
      ],
      "text/plain": [
       "  dep_port arr_port   act_date  0\n",
       "0      AAB      ROV 2013-05-29  2\n",
       "1      AAB      ROV 2013-08-24  2\n",
       "2      AAE      ALG 2013-01-07  1\n",
       "3      AAE      ALG 2013-01-08  2\n",
       "4      AAE      ALG 2013-01-09  4"
      ]
     },
     "execution_count": 22,
     "metadata": {},
     "output_type": "execute_result"
    }
   ],
   "source": [
    "b_gr=b.groupby(['dep_port','arr_port', 'act_date']).size().reset_index()\n",
    "b_gr.head()"
   ]
  },
  {
   "cell_type": "code",
   "execution_count": 23,
   "metadata": {
    "collapsed": false,
    "deletable": true,
    "editable": true
   },
   "outputs": [
    {
     "name": "stdout",
     "output_type": "stream",
     "text": [
      "466228\n"
     ]
    },
    {
     "data": {
      "text/html": [
       "<div>\n",
       "<table border=\"1\" class=\"dataframe\">\n",
       "  <thead>\n",
       "    <tr style=\"text-align: right;\">\n",
       "      <th></th>\n",
       "      <th>dep_port</th>\n",
       "      <th>arr_port</th>\n",
       "      <th>act_date</th>\n",
       "      <th>Num of Bookings</th>\n",
       "    </tr>\n",
       "  </thead>\n",
       "  <tbody>\n",
       "    <tr>\n",
       "      <th>0</th>\n",
       "      <td>AAB</td>\n",
       "      <td>ROV</td>\n",
       "      <td>2013-05-29</td>\n",
       "      <td>2</td>\n",
       "    </tr>\n",
       "    <tr>\n",
       "      <th>1</th>\n",
       "      <td>AAB</td>\n",
       "      <td>ROV</td>\n",
       "      <td>2013-08-24</td>\n",
       "      <td>2</td>\n",
       "    </tr>\n",
       "    <tr>\n",
       "      <th>2</th>\n",
       "      <td>AAE</td>\n",
       "      <td>ALG</td>\n",
       "      <td>2013-01-07</td>\n",
       "      <td>1</td>\n",
       "    </tr>\n",
       "    <tr>\n",
       "      <th>3</th>\n",
       "      <td>AAE</td>\n",
       "      <td>ALG</td>\n",
       "      <td>2013-01-08</td>\n",
       "      <td>2</td>\n",
       "    </tr>\n",
       "    <tr>\n",
       "      <th>4</th>\n",
       "      <td>AAE</td>\n",
       "      <td>ALG</td>\n",
       "      <td>2013-01-09</td>\n",
       "      <td>4</td>\n",
       "    </tr>\n",
       "  </tbody>\n",
       "</table>\n",
       "</div>"
      ],
      "text/plain": [
       "  dep_port arr_port   act_date  Num of Bookings\n",
       "0      AAB      ROV 2013-05-29                2\n",
       "1      AAB      ROV 2013-08-24                2\n",
       "2      AAE      ALG 2013-01-07                1\n",
       "3      AAE      ALG 2013-01-08                2\n",
       "4      AAE      ALG 2013-01-09                4"
      ]
     },
     "execution_count": 23,
     "metadata": {},
     "output_type": "execute_result"
    }
   ],
   "source": [
    "b_gr.rename(columns={0:'Num of Bookings'}, inplace=True)\n",
    "print len(b_gr)\n",
    "b_gr.head()"
   ]
  },
  {
   "cell_type": "code",
   "execution_count": 24,
   "metadata": {
    "collapsed": false,
    "deletable": true,
    "editable": true
   },
   "outputs": [
    {
     "data": {
      "text/html": [
       "<div>\n",
       "<table border=\"1\" class=\"dataframe\">\n",
       "  <thead>\n",
       "    <tr style=\"text-align: right;\">\n",
       "      <th></th>\n",
       "      <th>index</th>\n",
       "      <th>Date</th>\n",
       "      <th>Origin</th>\n",
       "      <th>Destination</th>\n",
       "    </tr>\n",
       "  </thead>\n",
       "  <tbody>\n",
       "    <tr>\n",
       "      <th>0</th>\n",
       "      <td>0</td>\n",
       "      <td>2013-01-01</td>\n",
       "      <td>TXL</td>\n",
       "      <td>AUH</td>\n",
       "    </tr>\n",
       "    <tr>\n",
       "      <th>1</th>\n",
       "      <td>1</td>\n",
       "      <td>2013-01-01</td>\n",
       "      <td>ATH</td>\n",
       "      <td>MIL</td>\n",
       "    </tr>\n",
       "    <tr>\n",
       "      <th>2</th>\n",
       "      <td>2</td>\n",
       "      <td>2013-01-01</td>\n",
       "      <td>ICT</td>\n",
       "      <td>SFO</td>\n",
       "    </tr>\n",
       "    <tr>\n",
       "      <th>3</th>\n",
       "      <td>3</td>\n",
       "      <td>2013-01-01</td>\n",
       "      <td>RNB</td>\n",
       "      <td>ARN</td>\n",
       "    </tr>\n",
       "    <tr>\n",
       "      <th>4</th>\n",
       "      <td>4</td>\n",
       "      <td>2013-01-01</td>\n",
       "      <td>OSL</td>\n",
       "      <td>MAD</td>\n",
       "    </tr>\n",
       "  </tbody>\n",
       "</table>\n",
       "</div>"
      ],
      "text/plain": [
       "   index       Date Origin Destination\n",
       "0      0 2013-01-01    TXL         AUH\n",
       "1      1 2013-01-01    ATH         MIL\n",
       "2      2 2013-01-01    ICT         SFO\n",
       "3      3 2013-01-01    RNB         ARN\n",
       "4      4 2013-01-01    OSL         MAD"
      ]
     },
     "execution_count": 24,
     "metadata": {},
     "output_type": "execute_result"
    }
   ],
   "source": [
    "s.head()"
   ]
  },
  {
   "cell_type": "code",
   "execution_count": null,
   "metadata": {
    "collapsed": true,
    "deletable": true,
    "editable": true
   },
   "outputs": [],
   "source": [
    "pd.merge?"
   ]
  },
  {
   "cell_type": "code",
   "execution_count": 26,
   "metadata": {
    "collapsed": false,
    "deletable": true,
    "editable": true
   },
   "outputs": [
    {
     "data": {
      "text/html": [
       "<div>\n",
       "<table border=\"1\" class=\"dataframe\">\n",
       "  <thead>\n",
       "    <tr style=\"text-align: right;\">\n",
       "      <th></th>\n",
       "      <th>index</th>\n",
       "      <th>Date</th>\n",
       "      <th>Origin</th>\n",
       "      <th>Destination</th>\n",
       "      <th>Num of Bookings</th>\n",
       "    </tr>\n",
       "  </thead>\n",
       "  <tbody>\n",
       "    <tr>\n",
       "      <th>23</th>\n",
       "      <td>23</td>\n",
       "      <td>2013-01-01</td>\n",
       "      <td>DUS</td>\n",
       "      <td>IST</td>\n",
       "      <td>1.0</td>\n",
       "    </tr>\n",
       "    <tr>\n",
       "      <th>27</th>\n",
       "      <td>27</td>\n",
       "      <td>2013-01-01</td>\n",
       "      <td>RUH</td>\n",
       "      <td>JED</td>\n",
       "      <td>13.0</td>\n",
       "    </tr>\n",
       "    <tr>\n",
       "      <th>40</th>\n",
       "      <td>40</td>\n",
       "      <td>2013-01-01</td>\n",
       "      <td>DMM</td>\n",
       "      <td>MNL</td>\n",
       "      <td>1.0</td>\n",
       "    </tr>\n",
       "    <tr>\n",
       "      <th>59</th>\n",
       "      <td>59</td>\n",
       "      <td>2013-01-01</td>\n",
       "      <td>ATL</td>\n",
       "      <td>MIA</td>\n",
       "      <td>2.0</td>\n",
       "    </tr>\n",
       "    <tr>\n",
       "      <th>94</th>\n",
       "      <td>94</td>\n",
       "      <td>2013-01-01</td>\n",
       "      <td>DXB</td>\n",
       "      <td>KUL</td>\n",
       "      <td>1.0</td>\n",
       "    </tr>\n",
       "  </tbody>\n",
       "</table>\n",
       "</div>"
      ],
      "text/plain": [
       "    index       Date Origin Destination  Num of Bookings\n",
       "23     23 2013-01-01    DUS         IST              1.0\n",
       "27     27 2013-01-01    RUH         JED             13.0\n",
       "40     40 2013-01-01    DMM         MNL              1.0\n",
       "59     59 2013-01-01    ATL         MIA              2.0\n",
       "94     94 2013-01-01    DXB         KUL              1.0"
      ]
     },
     "execution_count": 26,
     "metadata": {},
     "output_type": "execute_result"
    }
   ],
   "source": [
    "s_b=s.merge(b_gr, \n",
    "            how='left', \n",
    "            left_on=['Date','Origin','Destination'], \n",
    "            right_on=['act_date', 'dep_port','arr_port'])\n",
    "\n",
    "s_b.drop(['dep_port','arr_port', 'act_date'],axis=1, inplace=True)\n",
    "s_b[s_b['Num of Bookings']>0].head()"
   ]
  },
  {
   "cell_type": "code",
   "execution_count": 27,
   "metadata": {
    "collapsed": false,
    "deletable": true,
    "editable": true
   },
   "outputs": [
    {
     "data": {
      "text/plain": [
       "(718002, 718002)"
      ]
     },
     "execution_count": 27,
     "metadata": {},
     "output_type": "execute_result"
    }
   ],
   "source": [
    "#check that left joint went well wrt size\n",
    "len(s_b), len(s)"
   ]
  },
  {
   "cell_type": "markdown",
   "metadata": {
    "deletable": true,
    "editable": true
   },
   "source": [
    "### Now we have to put 1 to all the booking with Num of Bookings>1 in the clean file"
   ]
  },
  {
   "cell_type": "code",
   "execution_count": 28,
   "metadata": {
    "collapsed": false,
    "deletable": true,
    "editable": true
   },
   "outputs": [
    {
     "data": {
      "text/html": [
       "<div>\n",
       "<table border=\"1\" class=\"dataframe\">\n",
       "  <thead>\n",
       "    <tr style=\"text-align: right;\">\n",
       "      <th></th>\n",
       "      <th>index</th>\n",
       "      <th>Date</th>\n",
       "      <th>Origin</th>\n",
       "      <th>Destination</th>\n",
       "      <th>Num of Bookings</th>\n",
       "    </tr>\n",
       "  </thead>\n",
       "  <tbody>\n",
       "    <tr>\n",
       "      <th>23</th>\n",
       "      <td>23</td>\n",
       "      <td>2013-01-01</td>\n",
       "      <td>DUS</td>\n",
       "      <td>IST</td>\n",
       "      <td>1.0</td>\n",
       "    </tr>\n",
       "    <tr>\n",
       "      <th>27</th>\n",
       "      <td>27</td>\n",
       "      <td>2013-01-01</td>\n",
       "      <td>RUH</td>\n",
       "      <td>JED</td>\n",
       "      <td>13.0</td>\n",
       "    </tr>\n",
       "    <tr>\n",
       "      <th>40</th>\n",
       "      <td>40</td>\n",
       "      <td>2013-01-01</td>\n",
       "      <td>DMM</td>\n",
       "      <td>MNL</td>\n",
       "      <td>1.0</td>\n",
       "    </tr>\n",
       "    <tr>\n",
       "      <th>59</th>\n",
       "      <td>59</td>\n",
       "      <td>2013-01-01</td>\n",
       "      <td>ATL</td>\n",
       "      <td>MIA</td>\n",
       "      <td>2.0</td>\n",
       "    </tr>\n",
       "    <tr>\n",
       "      <th>94</th>\n",
       "      <td>94</td>\n",
       "      <td>2013-01-01</td>\n",
       "      <td>DXB</td>\n",
       "      <td>KUL</td>\n",
       "      <td>1.0</td>\n",
       "    </tr>\n",
       "  </tbody>\n",
       "</table>\n",
       "</div>"
      ],
      "text/plain": [
       "    index       Date Origin Destination  Num of Bookings\n",
       "23     23 2013-01-01    DUS         IST              1.0\n",
       "27     27 2013-01-01    RUH         JED             13.0\n",
       "40     40 2013-01-01    DMM         MNL              1.0\n",
       "59     59 2013-01-01    ATL         MIA              2.0\n",
       "94     94 2013-01-01    DXB         KUL              1.0"
      ]
     },
     "execution_count": 28,
     "metadata": {},
     "output_type": "execute_result"
    }
   ],
   "source": [
    "s_b[s_b['Num of Bookings']>0].head()"
   ]
  },
  {
   "cell_type": "code",
   "execution_count": 29,
   "metadata": {
    "collapsed": false,
    "deletable": true,
    "editable": true
   },
   "outputs": [
    {
     "data": {
      "text/plain": [
       "(718003, 718002)"
      ]
     },
     "execution_count": 29,
     "metadata": {},
     "output_type": "execute_result"
    }
   ],
   "source": [
    "#This has one more line than s\n",
    "s_all=pd.read_csv('./searches_nodp.csv',sep='^', low_memory=False)\n",
    "\n",
    "len(s_all),len(s_b)"
   ]
  },
  {
   "cell_type": "code",
   "execution_count": 30,
   "metadata": {
    "collapsed": false,
    "deletable": true,
    "editable": true
   },
   "outputs": [],
   "source": [
    "result=s_all.merge(s_b, \n",
    "            how='left', \n",
    "            left_index=True,\n",
    "            right_on='index')"
   ]
  },
  {
   "cell_type": "code",
   "execution_count": 31,
   "metadata": {
    "collapsed": false,
    "deletable": true,
    "editable": true
   },
   "outputs": [
    {
     "data": {
      "text/html": [
       "<div>\n",
       "<table border=\"1\" class=\"dataframe\">\n",
       "  <thead>\n",
       "    <tr style=\"text-align: right;\">\n",
       "      <th></th>\n",
       "      <th>Date_x</th>\n",
       "      <th>Time</th>\n",
       "      <th>TxnCode</th>\n",
       "      <th>OfficeID</th>\n",
       "      <th>Country</th>\n",
       "      <th>Origin_x</th>\n",
       "      <th>Destination_x</th>\n",
       "      <th>RoundTrip</th>\n",
       "      <th>NbSegments</th>\n",
       "      <th>Seg1Departure</th>\n",
       "      <th>...</th>\n",
       "      <th>IsPublishedForNeg</th>\n",
       "      <th>IsFromInternet</th>\n",
       "      <th>IsFromVista</th>\n",
       "      <th>TerminalID</th>\n",
       "      <th>InternetOffice</th>\n",
       "      <th>index</th>\n",
       "      <th>Date_y</th>\n",
       "      <th>Origin_y</th>\n",
       "      <th>Destination_y</th>\n",
       "      <th>Num of Bookings</th>\n",
       "    </tr>\n",
       "  </thead>\n",
       "  <tbody>\n",
       "    <tr>\n",
       "      <th>717831</th>\n",
       "      <td>2013-05-03</td>\n",
       "      <td>01:33:05</td>\n",
       "      <td>MPT</td>\n",
       "      <td>8b4fa4e121637f583bfa86ef0fa26c9e</td>\n",
       "      <td>US</td>\n",
       "      <td>LAX</td>\n",
       "      <td>LAS</td>\n",
       "      <td>1.0</td>\n",
       "      <td>2.0</td>\n",
       "      <td>LAX</td>\n",
       "      <td>...</td>\n",
       "      <td>0</td>\n",
       "      <td>0</td>\n",
       "      <td>0</td>\n",
       "      <td>d41d8cd98f00b204e9800998ecf8427e</td>\n",
       "      <td>LAS</td>\n",
       "      <td>717832.0</td>\n",
       "      <td>2013-05-03</td>\n",
       "      <td>LAX</td>\n",
       "      <td>LAS</td>\n",
       "      <td>2.0</td>\n",
       "    </tr>\n",
       "    <tr>\n",
       "      <th>717856</th>\n",
       "      <td>2013-05-03</td>\n",
       "      <td>13:59:20</td>\n",
       "      <td>MPT</td>\n",
       "      <td>440642a9bdaeb6287f826cefd73255e8</td>\n",
       "      <td>US</td>\n",
       "      <td>KCH</td>\n",
       "      <td>KUL</td>\n",
       "      <td>1.0</td>\n",
       "      <td>2.0</td>\n",
       "      <td>KCH</td>\n",
       "      <td>...</td>\n",
       "      <td>0</td>\n",
       "      <td>0</td>\n",
       "      <td>0</td>\n",
       "      <td>d41d8cd98f00b204e9800998ecf8427e</td>\n",
       "      <td>HPN</td>\n",
       "      <td>717857.0</td>\n",
       "      <td>2013-05-03</td>\n",
       "      <td>KCH</td>\n",
       "      <td>KUL</td>\n",
       "      <td>2.0</td>\n",
       "    </tr>\n",
       "    <tr>\n",
       "      <th>717859</th>\n",
       "      <td>2013-05-03</td>\n",
       "      <td>21:04:28</td>\n",
       "      <td>MPT</td>\n",
       "      <td>f976842f00052a55080c5ea015cd728c</td>\n",
       "      <td>US</td>\n",
       "      <td>JFK</td>\n",
       "      <td>SDQ</td>\n",
       "      <td>1.0</td>\n",
       "      <td>2.0</td>\n",
       "      <td>JFK</td>\n",
       "      <td>...</td>\n",
       "      <td>0</td>\n",
       "      <td>0</td>\n",
       "      <td>0</td>\n",
       "      <td>d41d8cd98f00b204e9800998ecf8427e</td>\n",
       "      <td>SFO</td>\n",
       "      <td>717860.0</td>\n",
       "      <td>2013-05-03</td>\n",
       "      <td>JFK</td>\n",
       "      <td>SDQ</td>\n",
       "      <td>2.0</td>\n",
       "    </tr>\n",
       "    <tr>\n",
       "      <th>717885</th>\n",
       "      <td>2013-05-03</td>\n",
       "      <td>11:45:21</td>\n",
       "      <td>MPT</td>\n",
       "      <td>cf4ae41b25a075c3a8fee145e1919199</td>\n",
       "      <td>NL</td>\n",
       "      <td>AMS</td>\n",
       "      <td>CDG</td>\n",
       "      <td>1.0</td>\n",
       "      <td>2.0</td>\n",
       "      <td>AMS</td>\n",
       "      <td>...</td>\n",
       "      <td>0</td>\n",
       "      <td>0</td>\n",
       "      <td>0</td>\n",
       "      <td>d41d8cd98f00b204e9800998ecf8427e</td>\n",
       "      <td>AMS</td>\n",
       "      <td>717886.0</td>\n",
       "      <td>2013-05-03</td>\n",
       "      <td>AMS</td>\n",
       "      <td>CDG</td>\n",
       "      <td>2.0</td>\n",
       "    </tr>\n",
       "    <tr>\n",
       "      <th>717892</th>\n",
       "      <td>2013-05-03</td>\n",
       "      <td>17:17:18</td>\n",
       "      <td>FXX</td>\n",
       "      <td>1722290df1e162d326280c5d4a82657b</td>\n",
       "      <td>CO</td>\n",
       "      <td>BAQ</td>\n",
       "      <td>BOG</td>\n",
       "      <td>0.0</td>\n",
       "      <td>1.0</td>\n",
       "      <td>BAQ</td>\n",
       "      <td>...</td>\n",
       "      <td>0</td>\n",
       "      <td>0</td>\n",
       "      <td>0</td>\n",
       "      <td>c01f2026c4c0064e4a406973f52e1375</td>\n",
       "      <td>BOG</td>\n",
       "      <td>717893.0</td>\n",
       "      <td>2013-05-03</td>\n",
       "      <td>BAQ</td>\n",
       "      <td>BOG</td>\n",
       "      <td>2.0</td>\n",
       "    </tr>\n",
       "    <tr>\n",
       "      <th>717914</th>\n",
       "      <td>2013-05-03</td>\n",
       "      <td>16:00:14</td>\n",
       "      <td>FXL</td>\n",
       "      <td>9c7e0c8dd5b434e375f293130d54aa98</td>\n",
       "      <td>CO</td>\n",
       "      <td>MDE</td>\n",
       "      <td>BOG</td>\n",
       "      <td>1.0</td>\n",
       "      <td>2.0</td>\n",
       "      <td>MDE</td>\n",
       "      <td>...</td>\n",
       "      <td>0</td>\n",
       "      <td>0</td>\n",
       "      <td>0</td>\n",
       "      <td>40b17e34908fcd5f252369ea4aa546c7</td>\n",
       "      <td>CLO</td>\n",
       "      <td>717915.0</td>\n",
       "      <td>2013-05-03</td>\n",
       "      <td>MDE</td>\n",
       "      <td>BOG</td>\n",
       "      <td>4.0</td>\n",
       "    </tr>\n",
       "    <tr>\n",
       "      <th>717926</th>\n",
       "      <td>2013-05-03</td>\n",
       "      <td>14:34:47</td>\n",
       "      <td>MPT</td>\n",
       "      <td>d1b80a3dca253a3816073469f2cfe6be</td>\n",
       "      <td>GB</td>\n",
       "      <td>LHR</td>\n",
       "      <td>MIA</td>\n",
       "      <td>1.0</td>\n",
       "      <td>2.0</td>\n",
       "      <td>LHR</td>\n",
       "      <td>...</td>\n",
       "      <td>0</td>\n",
       "      <td>0</td>\n",
       "      <td>0</td>\n",
       "      <td>d41d8cd98f00b204e9800998ecf8427e</td>\n",
       "      <td>LON</td>\n",
       "      <td>717927.0</td>\n",
       "      <td>2013-05-03</td>\n",
       "      <td>LHR</td>\n",
       "      <td>MIA</td>\n",
       "      <td>2.0</td>\n",
       "    </tr>\n",
       "    <tr>\n",
       "      <th>717943</th>\n",
       "      <td>2013-05-03</td>\n",
       "      <td>15:46:07</td>\n",
       "      <td>MTC</td>\n",
       "      <td>7f756d89441bf77ca6cfc2c69e358aa8</td>\n",
       "      <td>ES</td>\n",
       "      <td>MAD</td>\n",
       "      <td>SFO</td>\n",
       "      <td>0.0</td>\n",
       "      <td>1.0</td>\n",
       "      <td>MAD</td>\n",
       "      <td>...</td>\n",
       "      <td>0</td>\n",
       "      <td>0</td>\n",
       "      <td>0</td>\n",
       "      <td>d41d8cd98f00b204e9800998ecf8427e</td>\n",
       "      <td>MAD</td>\n",
       "      <td>717944.0</td>\n",
       "      <td>2013-05-03</td>\n",
       "      <td>MAD</td>\n",
       "      <td>SFO</td>\n",
       "      <td>2.0</td>\n",
       "    </tr>\n",
       "    <tr>\n",
       "      <th>717964</th>\n",
       "      <td>2013-05-03</td>\n",
       "      <td>04:37:54</td>\n",
       "      <td>AWT</td>\n",
       "      <td>ccb20b39ccfeccfe2cf6ee59fe243093</td>\n",
       "      <td>FR</td>\n",
       "      <td>CDG</td>\n",
       "      <td>LAX</td>\n",
       "      <td>0.0</td>\n",
       "      <td>1.0</td>\n",
       "      <td>CDG</td>\n",
       "      <td>...</td>\n",
       "      <td>0</td>\n",
       "      <td>0</td>\n",
       "      <td>0</td>\n",
       "      <td>d41d8cd98f00b204e9800998ecf8427e</td>\n",
       "      <td>CDG</td>\n",
       "      <td>717965.0</td>\n",
       "      <td>2013-05-03</td>\n",
       "      <td>CDG</td>\n",
       "      <td>LAX</td>\n",
       "      <td>2.0</td>\n",
       "    </tr>\n",
       "    <tr>\n",
       "      <th>717966</th>\n",
       "      <td>2013-05-03</td>\n",
       "      <td>18:59:04</td>\n",
       "      <td>CAL</td>\n",
       "      <td>c500a9ba3f7a21c286fdefc5c8c2ff99</td>\n",
       "      <td>BG</td>\n",
       "      <td>SOF</td>\n",
       "      <td>PMI</td>\n",
       "      <td>1.0</td>\n",
       "      <td>2.0</td>\n",
       "      <td>SOF</td>\n",
       "      <td>...</td>\n",
       "      <td>0</td>\n",
       "      <td>0</td>\n",
       "      <td>0</td>\n",
       "      <td>d41d8cd98f00b204e9800998ecf8427e</td>\n",
       "      <td>SOF</td>\n",
       "      <td>717967.0</td>\n",
       "      <td>2013-05-03</td>\n",
       "      <td>SOF</td>\n",
       "      <td>PMI</td>\n",
       "      <td>2.0</td>\n",
       "    </tr>\n",
       "  </tbody>\n",
       "</table>\n",
       "<p>10 rows × 50 columns</p>\n",
       "</div>"
      ],
      "text/plain": [
       "            Date_x      Time TxnCode                          OfficeID  \\\n",
       "717831  2013-05-03  01:33:05     MPT  8b4fa4e121637f583bfa86ef0fa26c9e   \n",
       "717856  2013-05-03  13:59:20     MPT  440642a9bdaeb6287f826cefd73255e8   \n",
       "717859  2013-05-03  21:04:28     MPT  f976842f00052a55080c5ea015cd728c   \n",
       "717885  2013-05-03  11:45:21     MPT  cf4ae41b25a075c3a8fee145e1919199   \n",
       "717892  2013-05-03  17:17:18     FXX  1722290df1e162d326280c5d4a82657b   \n",
       "717914  2013-05-03  16:00:14     FXL  9c7e0c8dd5b434e375f293130d54aa98   \n",
       "717926  2013-05-03  14:34:47     MPT  d1b80a3dca253a3816073469f2cfe6be   \n",
       "717943  2013-05-03  15:46:07     MTC  7f756d89441bf77ca6cfc2c69e358aa8   \n",
       "717964  2013-05-03  04:37:54     AWT  ccb20b39ccfeccfe2cf6ee59fe243093   \n",
       "717966  2013-05-03  18:59:04     CAL  c500a9ba3f7a21c286fdefc5c8c2ff99   \n",
       "\n",
       "       Country Origin_x Destination_x  RoundTrip  NbSegments Seg1Departure  \\\n",
       "717831      US      LAX           LAS        1.0         2.0           LAX   \n",
       "717856      US      KCH           KUL        1.0         2.0           KCH   \n",
       "717859      US      JFK           SDQ        1.0         2.0           JFK   \n",
       "717885      NL      AMS           CDG        1.0         2.0           AMS   \n",
       "717892      CO      BAQ           BOG        0.0         1.0           BAQ   \n",
       "717914      CO      MDE           BOG        1.0         2.0           MDE   \n",
       "717926      GB      LHR           MIA        1.0         2.0           LHR   \n",
       "717943      ES      MAD           SFO        0.0         1.0           MAD   \n",
       "717964      FR      CDG           LAX        0.0         1.0           CDG   \n",
       "717966      BG      SOF           PMI        1.0         2.0           SOF   \n",
       "\n",
       "             ...       IsPublishedForNeg IsFromInternet IsFromVista  \\\n",
       "717831       ...                       0              0           0   \n",
       "717856       ...                       0              0           0   \n",
       "717859       ...                       0              0           0   \n",
       "717885       ...                       0              0           0   \n",
       "717892       ...                       0              0           0   \n",
       "717914       ...                       0              0           0   \n",
       "717926       ...                       0              0           0   \n",
       "717943       ...                       0              0           0   \n",
       "717964       ...                       0              0           0   \n",
       "717966       ...                       0              0           0   \n",
       "\n",
       "                              TerminalID InternetOffice     index     Date_y  \\\n",
       "717831  d41d8cd98f00b204e9800998ecf8427e            LAS  717832.0 2013-05-03   \n",
       "717856  d41d8cd98f00b204e9800998ecf8427e            HPN  717857.0 2013-05-03   \n",
       "717859  d41d8cd98f00b204e9800998ecf8427e            SFO  717860.0 2013-05-03   \n",
       "717885  d41d8cd98f00b204e9800998ecf8427e            AMS  717886.0 2013-05-03   \n",
       "717892  c01f2026c4c0064e4a406973f52e1375            BOG  717893.0 2013-05-03   \n",
       "717914  40b17e34908fcd5f252369ea4aa546c7            CLO  717915.0 2013-05-03   \n",
       "717926  d41d8cd98f00b204e9800998ecf8427e            LON  717927.0 2013-05-03   \n",
       "717943  d41d8cd98f00b204e9800998ecf8427e            MAD  717944.0 2013-05-03   \n",
       "717964  d41d8cd98f00b204e9800998ecf8427e            CDG  717965.0 2013-05-03   \n",
       "717966  d41d8cd98f00b204e9800998ecf8427e            SOF  717967.0 2013-05-03   \n",
       "\n",
       "       Origin_y Destination_y Num of Bookings  \n",
       "717831      LAX           LAS             2.0  \n",
       "717856      KCH           KUL             2.0  \n",
       "717859      JFK           SDQ             2.0  \n",
       "717885      AMS           CDG             2.0  \n",
       "717892      BAQ           BOG             2.0  \n",
       "717914      MDE           BOG             4.0  \n",
       "717926      LHR           MIA             2.0  \n",
       "717943      MAD           SFO             2.0  \n",
       "717964      CDG           LAX             2.0  \n",
       "717966      SOF           PMI             2.0  \n",
       "\n",
       "[10 rows x 50 columns]"
      ]
     },
     "execution_count": 31,
     "metadata": {},
     "output_type": "execute_result"
    }
   ],
   "source": [
    "result[result['Num of Bookings']>1].tail(10)"
   ]
  },
  {
   "cell_type": "code",
   "execution_count": 32,
   "metadata": {
    "collapsed": true,
    "deletable": true,
    "editable": true
   },
   "outputs": [],
   "source": [
    "result.drop(['Date_y','Origin_y','Destination_y'], axis=1, inplace=True)\n",
    "result.rename(columns={'Date_x':'Date','Num of Bookings':'Booked'}, inplace=True)\n",
    "result['Booked']=result['Booked'].fillna(0).map(lambda x: 1 if x>0 else 0)"
   ]
  },
  {
   "cell_type": "code",
   "execution_count": 33,
   "metadata": {
    "collapsed": true,
    "deletable": true,
    "editable": true
   },
   "outputs": [],
   "source": [
    "result.to_csv('searches_bookings.csv',sep='^', index=False)"
   ]
  },
  {
   "cell_type": "code",
   "execution_count": 34,
   "metadata": {
    "collapsed": false,
    "deletable": true,
    "editable": true
   },
   "outputs": [
    {
     "data": {
      "text/html": [
       "<div>\n",
       "<table border=\"1\" class=\"dataframe\">\n",
       "  <thead>\n",
       "    <tr style=\"text-align: right;\">\n",
       "      <th></th>\n",
       "      <th>Date</th>\n",
       "      <th>Time</th>\n",
       "      <th>TxnCode</th>\n",
       "      <th>OfficeID</th>\n",
       "      <th>Country</th>\n",
       "      <th>Origin_x</th>\n",
       "      <th>Destination_x</th>\n",
       "      <th>RoundTrip</th>\n",
       "      <th>NbSegments</th>\n",
       "      <th>Seg1Departure</th>\n",
       "      <th>...</th>\n",
       "      <th>Seg6Carrier</th>\n",
       "      <th>Seg6BookingCode</th>\n",
       "      <th>From</th>\n",
       "      <th>IsPublishedForNeg</th>\n",
       "      <th>IsFromInternet</th>\n",
       "      <th>IsFromVista</th>\n",
       "      <th>TerminalID</th>\n",
       "      <th>InternetOffice</th>\n",
       "      <th>index</th>\n",
       "      <th>Booked</th>\n",
       "    </tr>\n",
       "  </thead>\n",
       "  <tbody>\n",
       "    <tr>\n",
       "      <th>0</th>\n",
       "      <td>2013-01-01</td>\n",
       "      <td>20:25:57</td>\n",
       "      <td>MPT</td>\n",
       "      <td>624d8c3ac0b3a7ca03e3c167e0f48327</td>\n",
       "      <td>DE</td>\n",
       "      <td>TXL</td>\n",
       "      <td>AUH</td>\n",
       "      <td>1.0</td>\n",
       "      <td>2.0</td>\n",
       "      <td>TXL</td>\n",
       "      <td>...</td>\n",
       "      <td>NaN</td>\n",
       "      <td>NaN</td>\n",
       "      <td>1ASIWS</td>\n",
       "      <td>0</td>\n",
       "      <td>0</td>\n",
       "      <td>0</td>\n",
       "      <td>d41d8cd98f00b204e9800998ecf8427e</td>\n",
       "      <td>FRA</td>\n",
       "      <td>0.0</td>\n",
       "      <td>0</td>\n",
       "    </tr>\n",
       "    <tr>\n",
       "      <th>1</th>\n",
       "      <td>2013-01-01</td>\n",
       "      <td>10:15:33</td>\n",
       "      <td>MPT</td>\n",
       "      <td>b0af35b31588dc4ab06d5cf2986e8e02</td>\n",
       "      <td>MD</td>\n",
       "      <td>ATH</td>\n",
       "      <td>MIL</td>\n",
       "      <td>0.0</td>\n",
       "      <td>1.0</td>\n",
       "      <td>ATH</td>\n",
       "      <td>...</td>\n",
       "      <td>NaN</td>\n",
       "      <td>NaN</td>\n",
       "      <td>1ASIWS</td>\n",
       "      <td>0</td>\n",
       "      <td>0</td>\n",
       "      <td>0</td>\n",
       "      <td>d41d8cd98f00b204e9800998ecf8427e</td>\n",
       "      <td>KIV</td>\n",
       "      <td>1.0</td>\n",
       "      <td>0</td>\n",
       "    </tr>\n",
       "    <tr>\n",
       "      <th>2</th>\n",
       "      <td>2013-01-01</td>\n",
       "      <td>18:04:49</td>\n",
       "      <td>MPT</td>\n",
       "      <td>3561a60621de06ab1badc8ca55699ef3</td>\n",
       "      <td>US</td>\n",
       "      <td>ICT</td>\n",
       "      <td>SFO</td>\n",
       "      <td>1.0</td>\n",
       "      <td>2.0</td>\n",
       "      <td>ICT</td>\n",
       "      <td>...</td>\n",
       "      <td>NaN</td>\n",
       "      <td>NaN</td>\n",
       "      <td>1ASIWS</td>\n",
       "      <td>0</td>\n",
       "      <td>0</td>\n",
       "      <td>0</td>\n",
       "      <td>d41d8cd98f00b204e9800998ecf8427e</td>\n",
       "      <td>NYC</td>\n",
       "      <td>2.0</td>\n",
       "      <td>0</td>\n",
       "    </tr>\n",
       "  </tbody>\n",
       "</table>\n",
       "<p>3 rows × 47 columns</p>\n",
       "</div>"
      ],
      "text/plain": [
       "         Date      Time TxnCode                          OfficeID Country  \\\n",
       "0  2013-01-01  20:25:57     MPT  624d8c3ac0b3a7ca03e3c167e0f48327      DE   \n",
       "1  2013-01-01  10:15:33     MPT  b0af35b31588dc4ab06d5cf2986e8e02      MD   \n",
       "2  2013-01-01  18:04:49     MPT  3561a60621de06ab1badc8ca55699ef3      US   \n",
       "\n",
       "  Origin_x Destination_x  RoundTrip  NbSegments Seg1Departure  ...    \\\n",
       "0      TXL           AUH        1.0         2.0           TXL  ...     \n",
       "1      ATH           MIL        0.0         1.0           ATH  ...     \n",
       "2      ICT           SFO        1.0         2.0           ICT  ...     \n",
       "\n",
       "  Seg6Carrier Seg6BookingCode    From IsPublishedForNeg IsFromInternet  \\\n",
       "0         NaN             NaN  1ASIWS                 0              0   \n",
       "1         NaN             NaN  1ASIWS                 0              0   \n",
       "2         NaN             NaN  1ASIWS                 0              0   \n",
       "\n",
       "  IsFromVista                        TerminalID InternetOffice index Booked  \n",
       "0           0  d41d8cd98f00b204e9800998ecf8427e            FRA   0.0      0  \n",
       "1           0  d41d8cd98f00b204e9800998ecf8427e            KIV   1.0      0  \n",
       "2           0  d41d8cd98f00b204e9800998ecf8427e            NYC   2.0      0  \n",
       "\n",
       "[3 rows x 47 columns]"
      ]
     },
     "execution_count": 34,
     "metadata": {},
     "output_type": "execute_result"
    }
   ],
   "source": [
    "result.head(3)"
   ]
  },
  {
   "cell_type": "code",
   "execution_count": null,
   "metadata": {
    "collapsed": true,
    "deletable": true,
    "editable": true
   },
   "outputs": [],
   "source": []
  },
  {
   "cell_type": "code",
   "execution_count": null,
   "metadata": {
    "collapsed": true,
    "deletable": true,
    "editable": true
   },
   "outputs": [],
   "source": []
  },
  {
   "cell_type": "code",
   "execution_count": null,
   "metadata": {
    "collapsed": true,
    "deletable": true,
    "editable": true
   },
   "outputs": [],
   "source": []
  }
 ],
 "metadata": {
  "kernelspec": {
   "display_name": "Python 2",
   "language": "python",
   "name": "python2"
  },
  "language_info": {
   "codemirror_mode": {
    "name": "ipython",
    "version": 2
   },
   "file_extension": ".py",
   "mimetype": "text/x-python",
   "name": "python",
   "nbconvert_exporter": "python",
   "pygments_lexer": "ipython2",
   "version": "2.7.13"
  }
 },
 "nbformat": 4,
 "nbformat_minor": 0
}
