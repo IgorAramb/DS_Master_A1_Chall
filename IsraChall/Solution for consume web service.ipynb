{
 "cells": [
  {
   "cell_type": "code",
   "execution_count": 1,
   "metadata": {
    "collapsed": true
   },
   "outputs": [],
   "source": [
    "import pandas as pd"
   ]
  },
  {
   "cell_type": "code",
   "execution_count": 2,
   "metadata": {
    "collapsed": true
   },
   "outputs": [],
   "source": [
    "r = pd.read_json('http://127.0.0.1:5000/top/15?cabin=C')"
   ]
  },
  {
   "cell_type": "code",
   "execution_count": 3,
   "metadata": {
    "collapsed": false
   },
   "outputs": [
    {
     "data": {
      "text/html": [
       "<div>\n",
       "<table border=\"1\" class=\"dataframe\">\n",
       "  <thead>\n",
       "    <tr style=\"text-align: right;\">\n",
       "      <th></th>\n",
       "      <th>arr_port</th>\n",
       "      <th>pax</th>\n",
       "    </tr>\n",
       "  </thead>\n",
       "  <tbody>\n",
       "    <tr>\n",
       "      <th>0</th>\n",
       "      <td>LHR</td>\n",
       "      <td>151</td>\n",
       "    </tr>\n",
       "    <tr>\n",
       "      <th>1</th>\n",
       "      <td>JFK</td>\n",
       "      <td>128</td>\n",
       "    </tr>\n",
       "    <tr>\n",
       "      <th>10</th>\n",
       "      <td>FRA</td>\n",
       "      <td>45</td>\n",
       "    </tr>\n",
       "    <tr>\n",
       "      <th>11</th>\n",
       "      <td>NRT</td>\n",
       "      <td>43</td>\n",
       "    </tr>\n",
       "    <tr>\n",
       "      <th>12</th>\n",
       "      <td>AMS</td>\n",
       "      <td>36</td>\n",
       "    </tr>\n",
       "    <tr>\n",
       "      <th>13</th>\n",
       "      <td>LAX</td>\n",
       "      <td>35</td>\n",
       "    </tr>\n",
       "    <tr>\n",
       "      <th>14</th>\n",
       "      <td>FCO</td>\n",
       "      <td>35</td>\n",
       "    </tr>\n",
       "    <tr>\n",
       "      <th>2</th>\n",
       "      <td>SIN</td>\n",
       "      <td>87</td>\n",
       "    </tr>\n",
       "    <tr>\n",
       "      <th>3</th>\n",
       "      <td>BKK</td>\n",
       "      <td>62</td>\n",
       "    </tr>\n",
       "    <tr>\n",
       "      <th>4</th>\n",
       "      <td>CDG</td>\n",
       "      <td>61</td>\n",
       "    </tr>\n",
       "    <tr>\n",
       "      <th>5</th>\n",
       "      <td>DXB</td>\n",
       "      <td>54</td>\n",
       "    </tr>\n",
       "    <tr>\n",
       "      <th>6</th>\n",
       "      <td>MCO</td>\n",
       "      <td>50</td>\n",
       "    </tr>\n",
       "    <tr>\n",
       "      <th>7</th>\n",
       "      <td>BOM</td>\n",
       "      <td>48</td>\n",
       "    </tr>\n",
       "    <tr>\n",
       "      <th>8</th>\n",
       "      <td>IST</td>\n",
       "      <td>48</td>\n",
       "    </tr>\n",
       "    <tr>\n",
       "      <th>9</th>\n",
       "      <td>HKG</td>\n",
       "      <td>46</td>\n",
       "    </tr>\n",
       "  </tbody>\n",
       "</table>\n",
       "</div>"
      ],
      "text/plain": [
       "    arr_port  pax\n",
       "0   LHR       151\n",
       "1   JFK       128\n",
       "10  FRA        45\n",
       "11  NRT        43\n",
       "12  AMS        36\n",
       "13  LAX        35\n",
       "14  FCO        35\n",
       "2   SIN        87\n",
       "3   BKK        62\n",
       "4   CDG        61\n",
       "5   DXB        54\n",
       "6   MCO        50\n",
       "7   BOM        48\n",
       "8   IST        48\n",
       "9   HKG        46"
      ]
     },
     "execution_count": 3,
     "metadata": {},
     "output_type": "execute_result"
    }
   ],
   "source": [
    "r"
   ]
  },
  {
   "cell_type": "code",
   "execution_count": 4,
   "metadata": {
    "collapsed": true
   },
   "outputs": [],
   "source": [
    "b = pd.read_json('https://api.sandbox.amadeus.com/v1.2/travel-intelligence/top-destinations?apikey=JjI53BvDAZiNVp5GTAxWR9RryKCfM0Ty&period=2015-09&origin=BOS')"
   ]
  },
  {
   "cell_type": "code",
   "execution_count": 5,
   "metadata": {
    "collapsed": false
   },
   "outputs": [
    {
     "data": {
      "text/html": [
       "<div>\n",
       "<table border=\"1\" class=\"dataframe\">\n",
       "  <thead>\n",
       "    <tr style=\"text-align: right;\">\n",
       "      <th></th>\n",
       "      <th>origin</th>\n",
       "      <th>period</th>\n",
       "      <th>results</th>\n",
       "    </tr>\n",
       "  </thead>\n",
       "  <tbody>\n",
       "    <tr>\n",
       "      <th>0</th>\n",
       "      <td>BOS</td>\n",
       "      <td>2015-09</td>\n",
       "      <td>{u'travelers': 64905, u'flights': 1913, u'dest...</td>\n",
       "    </tr>\n",
       "    <tr>\n",
       "      <th>1</th>\n",
       "      <td>BOS</td>\n",
       "      <td>2015-09</td>\n",
       "      <td>{u'travelers': 59824, u'flights': 1242, u'dest...</td>\n",
       "    </tr>\n",
       "    <tr>\n",
       "      <th>2</th>\n",
       "      <td>BOS</td>\n",
       "      <td>2015-09</td>\n",
       "      <td>{u'travelers': 56155, u'flights': 1727, u'dest...</td>\n",
       "    </tr>\n",
       "    <tr>\n",
       "      <th>3</th>\n",
       "      <td>BOS</td>\n",
       "      <td>2015-09</td>\n",
       "      <td>{u'travelers': 49134, u'flights': 1572, u'dest...</td>\n",
       "    </tr>\n",
       "    <tr>\n",
       "      <th>4</th>\n",
       "      <td>BOS</td>\n",
       "      <td>2015-09</td>\n",
       "      <td>{u'travelers': 44710, u'flights': 1678, u'dest...</td>\n",
       "    </tr>\n",
       "    <tr>\n",
       "      <th>5</th>\n",
       "      <td>BOS</td>\n",
       "      <td>2015-09</td>\n",
       "      <td>{u'travelers': 36551, u'flights': 1016, u'dest...</td>\n",
       "    </tr>\n",
       "    <tr>\n",
       "      <th>6</th>\n",
       "      <td>BOS</td>\n",
       "      <td>2015-09</td>\n",
       "      <td>{u'travelers': 32303, u'flights': 1187, u'dest...</td>\n",
       "    </tr>\n",
       "    <tr>\n",
       "      <th>7</th>\n",
       "      <td>BOS</td>\n",
       "      <td>2015-09</td>\n",
       "      <td>{u'travelers': 31062, u'flights': 472, u'desti...</td>\n",
       "    </tr>\n",
       "    <tr>\n",
       "      <th>8</th>\n",
       "      <td>BOS</td>\n",
       "      <td>2015-09</td>\n",
       "      <td>{u'travelers': 27534, u'flights': 845, u'desti...</td>\n",
       "    </tr>\n",
       "    <tr>\n",
       "      <th>9</th>\n",
       "      <td>BOS</td>\n",
       "      <td>2015-09</td>\n",
       "      <td>{u'travelers': 24750, u'flights': 807, u'desti...</td>\n",
       "    </tr>\n",
       "  </tbody>\n",
       "</table>\n",
       "</div>"
      ],
      "text/plain": [
       "  origin   period                                            results\n",
       "0    BOS  2015-09  {u'travelers': 64905, u'flights': 1913, u'dest...\n",
       "1    BOS  2015-09  {u'travelers': 59824, u'flights': 1242, u'dest...\n",
       "2    BOS  2015-09  {u'travelers': 56155, u'flights': 1727, u'dest...\n",
       "3    BOS  2015-09  {u'travelers': 49134, u'flights': 1572, u'dest...\n",
       "4    BOS  2015-09  {u'travelers': 44710, u'flights': 1678, u'dest...\n",
       "5    BOS  2015-09  {u'travelers': 36551, u'flights': 1016, u'dest...\n",
       "6    BOS  2015-09  {u'travelers': 32303, u'flights': 1187, u'dest...\n",
       "7    BOS  2015-09  {u'travelers': 31062, u'flights': 472, u'desti...\n",
       "8    BOS  2015-09  {u'travelers': 27534, u'flights': 845, u'desti...\n",
       "9    BOS  2015-09  {u'travelers': 24750, u'flights': 807, u'desti..."
      ]
     },
     "execution_count": 5,
     "metadata": {},
     "output_type": "execute_result"
    }
   ],
   "source": [
    "b"
   ]
  },
  {
   "cell_type": "code",
   "execution_count": 6,
   "metadata": {
    "collapsed": false
   },
   "outputs": [
    {
     "ename": "ValueError",
     "evalue": "arrays must all be same length",
     "output_type": "error",
     "traceback": [
      "\u001b[1;31m---------------------------------------------------------------------------\u001b[0m",
      "\u001b[1;31mValueError\u001b[0m                                Traceback (most recent call last)",
      "\u001b[1;32m<ipython-input-6-78a2e15bf2e1>\u001b[0m in \u001b[0;36m<module>\u001b[1;34m()\u001b[0m\n\u001b[1;32m----> 1\u001b[1;33m \u001b[0mp\u001b[0m \u001b[1;33m=\u001b[0m \u001b[0mpd\u001b[0m\u001b[1;33m.\u001b[0m\u001b[0mread_json\u001b[0m\u001b[1;33m(\u001b[0m\u001b[1;34m\"https://api.sandbox.amadeus.com/v1.2/travel-record/4JL7PU?apikey=JjI53BvDAZiNVp5GTAxWR9RryKCfM0Ty&last_name=HERRAIZ&env=PRODUCTION\"\u001b[0m\u001b[1;33m)\u001b[0m\u001b[1;33m\u001b[0m\u001b[0m\n\u001b[0m",
      "\u001b[1;32m/usr/lib64/python2.7/site-packages/pandas/io/json.pyc\u001b[0m in \u001b[0;36mread_json\u001b[1;34m(path_or_buf, orient, typ, dtype, convert_axes, convert_dates, keep_default_dates, numpy, precise_float, date_unit)\u001b[0m\n\u001b[0;32m    197\u001b[0m         obj = FrameParser(json, orient, dtype, convert_axes, convert_dates,\n\u001b[0;32m    198\u001b[0m                           \u001b[0mkeep_default_dates\u001b[0m\u001b[1;33m,\u001b[0m \u001b[0mnumpy\u001b[0m\u001b[1;33m,\u001b[0m \u001b[0mprecise_float\u001b[0m\u001b[1;33m,\u001b[0m\u001b[1;33m\u001b[0m\u001b[0m\n\u001b[1;32m--> 199\u001b[1;33m                           date_unit).parse()\n\u001b[0m\u001b[0;32m    200\u001b[0m \u001b[1;33m\u001b[0m\u001b[0m\n\u001b[0;32m    201\u001b[0m     \u001b[1;32mif\u001b[0m \u001b[0mtyp\u001b[0m \u001b[1;33m==\u001b[0m \u001b[1;34m'series'\u001b[0m \u001b[1;32mor\u001b[0m \u001b[0mobj\u001b[0m \u001b[1;32mis\u001b[0m \u001b[0mNone\u001b[0m\u001b[1;33m:\u001b[0m\u001b[1;33m\u001b[0m\u001b[0m\n",
      "\u001b[1;32m/usr/lib64/python2.7/site-packages/pandas/io/json.pyc\u001b[0m in \u001b[0;36mparse\u001b[1;34m(self)\u001b[0m\n\u001b[0;32m    265\u001b[0m \u001b[1;33m\u001b[0m\u001b[0m\n\u001b[0;32m    266\u001b[0m         \u001b[1;32melse\u001b[0m\u001b[1;33m:\u001b[0m\u001b[1;33m\u001b[0m\u001b[0m\n\u001b[1;32m--> 267\u001b[1;33m             \u001b[0mself\u001b[0m\u001b[1;33m.\u001b[0m\u001b[0m_parse_no_numpy\u001b[0m\u001b[1;33m(\u001b[0m\u001b[1;33m)\u001b[0m\u001b[1;33m\u001b[0m\u001b[0m\n\u001b[0m\u001b[0;32m    268\u001b[0m \u001b[1;33m\u001b[0m\u001b[0m\n\u001b[0;32m    269\u001b[0m         \u001b[1;32mif\u001b[0m \u001b[0mself\u001b[0m\u001b[1;33m.\u001b[0m\u001b[0mobj\u001b[0m \u001b[1;32mis\u001b[0m \u001b[0mNone\u001b[0m\u001b[1;33m:\u001b[0m\u001b[1;33m\u001b[0m\u001b[0m\n",
      "\u001b[1;32m/usr/lib64/python2.7/site-packages/pandas/io/json.pyc\u001b[0m in \u001b[0;36m_parse_no_numpy\u001b[1;34m(self)\u001b[0m\n\u001b[0;32m    482\u001b[0m         \u001b[1;32mif\u001b[0m \u001b[0morient\u001b[0m \u001b[1;33m==\u001b[0m \u001b[1;34m\"columns\"\u001b[0m\u001b[1;33m:\u001b[0m\u001b[1;33m\u001b[0m\u001b[0m\n\u001b[0;32m    483\u001b[0m             self.obj = DataFrame(\n\u001b[1;32m--> 484\u001b[1;33m                 loads(json, precise_float=self.precise_float), dtype=None)\n\u001b[0m\u001b[0;32m    485\u001b[0m         \u001b[1;32melif\u001b[0m \u001b[0morient\u001b[0m \u001b[1;33m==\u001b[0m \u001b[1;34m\"split\"\u001b[0m\u001b[1;33m:\u001b[0m\u001b[1;33m\u001b[0m\u001b[0m\n\u001b[0;32m    486\u001b[0m             decoded = dict((str(k), v)\n",
      "\u001b[1;32m/usr/lib64/python2.7/site-packages/pandas/core/frame.pyc\u001b[0m in \u001b[0;36m__init__\u001b[1;34m(self, data, index, columns, dtype, copy)\u001b[0m\n\u001b[0;32m    212\u001b[0m                                  dtype=dtype, copy=copy)\n\u001b[0;32m    213\u001b[0m         \u001b[1;32melif\u001b[0m \u001b[0misinstance\u001b[0m\u001b[1;33m(\u001b[0m\u001b[0mdata\u001b[0m\u001b[1;33m,\u001b[0m \u001b[0mdict\u001b[0m\u001b[1;33m)\u001b[0m\u001b[1;33m:\u001b[0m\u001b[1;33m\u001b[0m\u001b[0m\n\u001b[1;32m--> 214\u001b[1;33m             \u001b[0mmgr\u001b[0m \u001b[1;33m=\u001b[0m \u001b[0mself\u001b[0m\u001b[1;33m.\u001b[0m\u001b[0m_init_dict\u001b[0m\u001b[1;33m(\u001b[0m\u001b[0mdata\u001b[0m\u001b[1;33m,\u001b[0m \u001b[0mindex\u001b[0m\u001b[1;33m,\u001b[0m \u001b[0mcolumns\u001b[0m\u001b[1;33m,\u001b[0m \u001b[0mdtype\u001b[0m\u001b[1;33m=\u001b[0m\u001b[0mdtype\u001b[0m\u001b[1;33m)\u001b[0m\u001b[1;33m\u001b[0m\u001b[0m\n\u001b[0m\u001b[0;32m    215\u001b[0m         \u001b[1;32melif\u001b[0m \u001b[0misinstance\u001b[0m\u001b[1;33m(\u001b[0m\u001b[0mdata\u001b[0m\u001b[1;33m,\u001b[0m \u001b[0mma\u001b[0m\u001b[1;33m.\u001b[0m\u001b[0mMaskedArray\u001b[0m\u001b[1;33m)\u001b[0m\u001b[1;33m:\u001b[0m\u001b[1;33m\u001b[0m\u001b[0m\n\u001b[0;32m    216\u001b[0m             \u001b[1;32mimport\u001b[0m \u001b[0mnumpy\u001b[0m\u001b[1;33m.\u001b[0m\u001b[0mma\u001b[0m\u001b[1;33m.\u001b[0m\u001b[0mmrecords\u001b[0m \u001b[1;32mas\u001b[0m \u001b[0mmrecords\u001b[0m\u001b[1;33m\u001b[0m\u001b[0m\n",
      "\u001b[1;32m/usr/lib64/python2.7/site-packages/pandas/core/frame.pyc\u001b[0m in \u001b[0;36m_init_dict\u001b[1;34m(self, data, index, columns, dtype)\u001b[0m\n\u001b[0;32m    339\u001b[0m \u001b[1;33m\u001b[0m\u001b[0m\n\u001b[0;32m    340\u001b[0m         return _arrays_to_mgr(arrays, data_names, index, columns,\n\u001b[1;32m--> 341\u001b[1;33m                               dtype=dtype)\n\u001b[0m\u001b[0;32m    342\u001b[0m \u001b[1;33m\u001b[0m\u001b[0m\n\u001b[0;32m    343\u001b[0m     def _init_ndarray(self, values, index, columns, dtype=None,\n",
      "\u001b[1;32m/usr/lib64/python2.7/site-packages/pandas/core/frame.pyc\u001b[0m in \u001b[0;36m_arrays_to_mgr\u001b[1;34m(arrays, arr_names, index, columns, dtype)\u001b[0m\n\u001b[0;32m   4796\u001b[0m     \u001b[1;31m# figure out the index, if necessary\u001b[0m\u001b[1;33m\u001b[0m\u001b[1;33m\u001b[0m\u001b[0m\n\u001b[0;32m   4797\u001b[0m     \u001b[1;32mif\u001b[0m \u001b[0mindex\u001b[0m \u001b[1;32mis\u001b[0m \u001b[0mNone\u001b[0m\u001b[1;33m:\u001b[0m\u001b[1;33m\u001b[0m\u001b[0m\n\u001b[1;32m-> 4798\u001b[1;33m         \u001b[0mindex\u001b[0m \u001b[1;33m=\u001b[0m \u001b[0mextract_index\u001b[0m\u001b[1;33m(\u001b[0m\u001b[0marrays\u001b[0m\u001b[1;33m)\u001b[0m\u001b[1;33m\u001b[0m\u001b[0m\n\u001b[0m\u001b[0;32m   4799\u001b[0m     \u001b[1;32melse\u001b[0m\u001b[1;33m:\u001b[0m\u001b[1;33m\u001b[0m\u001b[0m\n\u001b[0;32m   4800\u001b[0m         \u001b[0mindex\u001b[0m \u001b[1;33m=\u001b[0m \u001b[0m_ensure_index\u001b[0m\u001b[1;33m(\u001b[0m\u001b[0mindex\u001b[0m\u001b[1;33m)\u001b[0m\u001b[1;33m\u001b[0m\u001b[0m\n",
      "\u001b[1;32m/usr/lib64/python2.7/site-packages/pandas/core/frame.pyc\u001b[0m in \u001b[0;36mextract_index\u001b[1;34m(data)\u001b[0m\n\u001b[0;32m   4844\u001b[0m             \u001b[0mlengths\u001b[0m \u001b[1;33m=\u001b[0m \u001b[0mlist\u001b[0m\u001b[1;33m(\u001b[0m\u001b[0mset\u001b[0m\u001b[1;33m(\u001b[0m\u001b[0mraw_lengths\u001b[0m\u001b[1;33m)\u001b[0m\u001b[1;33m)\u001b[0m\u001b[1;33m\u001b[0m\u001b[0m\n\u001b[0;32m   4845\u001b[0m             \u001b[1;32mif\u001b[0m \u001b[0mlen\u001b[0m\u001b[1;33m(\u001b[0m\u001b[0mlengths\u001b[0m\u001b[1;33m)\u001b[0m \u001b[1;33m>\u001b[0m \u001b[1;36m1\u001b[0m\u001b[1;33m:\u001b[0m\u001b[1;33m\u001b[0m\u001b[0m\n\u001b[1;32m-> 4846\u001b[1;33m                 \u001b[1;32mraise\u001b[0m \u001b[0mValueError\u001b[0m\u001b[1;33m(\u001b[0m\u001b[1;34m'arrays must all be same length'\u001b[0m\u001b[1;33m)\u001b[0m\u001b[1;33m\u001b[0m\u001b[0m\n\u001b[0m\u001b[0;32m   4847\u001b[0m \u001b[1;33m\u001b[0m\u001b[0m\n\u001b[0;32m   4848\u001b[0m             \u001b[1;32mif\u001b[0m \u001b[0mhave_dicts\u001b[0m\u001b[1;33m:\u001b[0m\u001b[1;33m\u001b[0m\u001b[0m\n",
      "\u001b[1;31mValueError\u001b[0m: arrays must all be same length"
     ]
    }
   ],
   "source": [
    "p = pd.read_json(\"https://api.sandbox.amadeus.com/v1.2/travel-record/4JL7PU?apikey=JjI53BvDAZiNVp5GTAxWR9RryKCfM0Ty&last_name=HERRAIZ&env=PRODUCTION\")"
   ]
  },
  {
   "cell_type": "code",
   "execution_count": 8,
   "metadata": {
    "collapsed": true
   },
   "outputs": [],
   "source": [
    "import json\n",
    "import urllib"
   ]
  },
  {
   "cell_type": "code",
   "execution_count": 39,
   "metadata": {
    "collapsed": true
   },
   "outputs": [],
   "source": [
    "j = urllib.urlopen(\"https://api.sandbox.amadeus.com/v1.2/travel-record/3INCSR?apikey=JjI53BvDAZiNVp5GTAxWR9RryKCfM0Ty&last_name=HERRAIZ&env=PRODUCTION\")"
   ]
  },
  {
   "cell_type": "code",
   "execution_count": 40,
   "metadata": {
    "collapsed": true
   },
   "outputs": [],
   "source": [
    "t = j.read()"
   ]
  },
  {
   "cell_type": "code",
   "execution_count": 41,
   "metadata": {
    "collapsed": false
   },
   "outputs": [
    {
     "data": {
      "text/plain": [
       "'{\\n  \"record_locator\" : \"3INCSR\",\\n  \"header\" : {\\n    \"creation_office_id\" : \"MADAX28AB\",\\n    \"owner_office_id\" : \"MADAX28AC\"\\n  },\\n  \"messages\" : [ ],\\n  \"travelers\" : [ {\\n    \"id\" : \"PT2\",\\n    \"last_name\" : \"HERRAIZ\",\\n    \"first_name\" : \"ISRAEL\",\\n    \"type\" : \"ADULT\",\\n    \"contacts\" : [ {\\n      \"type\" : \"PHONE\",\\n      \"purpose\" : \"BUSINESS\",\\n      \"detail\" : \"+34911771154\"\\n    }, {\\n      \"type\" : \"PHONE\",\\n      \"purpose\" : \"MOBILE\",\\n      \"detail\" : \"+34616873844\"\\n    }, {\\n      \"type\" : \"PHONE\",\\n      \"purpose\" : \"EMERGENCY\",\\n      \"detail\" : \"+34687939482\"\\n    }, {\\n      \"type\" : \"PHONE\",\\n      \"detail\" : \"TRAVELLER PHONE NUMBER:+34911771154\"\\n    }, {\\n      \"type\" : \"PHONE\",\\n      \"detail\" : \"AMADEUS MADRID - SPAIN ONLINE\"\\n    }, {\\n      \"type\" : \"PHONE\",\\n      \"detail\" : \"-AMADEUS-ONLINE\"\\n    }, {\\n      \"type\" : \"PHONE\",\\n      \"detail\" : \"***PLEASE NOTE - INSTANT TICKETING***\"\\n    }, {\\n      \"type\" : \"PHONE\",\\n      \"detail\" : \"* * * ALWAYS QUEUE MODIFIED AND CANCELLED PNR TO: ..OPHOUAX2101/20C3/PRETRIP\"\\n    }, {\\n      \"type\" : \"EMAIL\",\\n      \"detail\" : \"ISRAEL.HERRAIZ@AMADEUS.COM\"\\n    }, {\\n      \"type\" : \"EMAIL\",\\n      \"detail\" : \"ISRA@HERRAIZ.ORG\"\\n    }, {\\n      \"type\" : \"EMAIL\",\\n      \"detail\" : \"ISRAEL.HERRAIZ@AMADEUS.COM,/-T\"\\n    } ],\\n    \"frequent_traveler_cards\" : [ {\\n      \"issuer_type\" : \"AIRLINE\",\\n      \"company_code\" : \"IB\",\\n      \"card_number\" : \"64319155\"\\n    } ]\\n  } ],\\n  \"reservation\" : {\\n    \"flight_tickets\" : [ {\\n      \"id\" : \"TST2\",\\n      \"price\" : {\\n        \"amount\" : \"447.55\",\\n        \"currency\" : \"EUR\"\\n      },\\n      \"traveler_ids\" : [ \"PT2\" ],\\n      \"flight_bounds\" : [ {\\n        \"flights\" : [ {\\n          \"id\" : \"ST1\",\\n          \"departs_at\" : \"2015-10-05T15:50+02:00\",\\n          \"arrives_at\" : \"2015-10-05T17:45+02:00\",\\n          \"origin\" : {\\n            \"airport\" : \"MAD\",\\n            \"terminal\" : \"4\"\\n          },\\n          \"destination\" : {\\n            \"airport\" : \"NCE\"\\n          },\\n          \"marketing_airline\" : \"IB\",\\n          \"flight_number\" : \"3630\",\\n          \"booking_info\" : {\\n            \"booking_code\" : \"S\",\\n            \"travel_class\" : \"ECONOMY\",\\n            \"airline_record_locator\" : \"KZRVW\",\\n            \"status\" : \"CONFIRMED\"\\n          },\\n          \"traveler_ids\" : [ \"PT2\" ],\\n          \"operating_airline\" : \"IB\"\\n        } ]\\n      }, {\\n        \"flights\" : [ {\\n          \"id\" : \"ST2\",\\n          \"departs_at\" : \"2015-10-07T12:30+02:00\",\\n          \"arrives_at\" : \"2015-10-07T14:25+02:00\",\\n          \"origin\" : {\\n            \"airport\" : \"NCE\",\\n            \"terminal\" : \"1\"\\n          },\\n          \"destination\" : {\\n            \"airport\" : \"MAD\",\\n            \"terminal\" : \"4\"\\n          },\\n          \"marketing_airline\" : \"IB\",\\n          \"flight_number\" : \"8751\",\\n          \"booking_info\" : {\\n            \"booking_code\" : \"A\",\\n            \"travel_class\" : \"ECONOMY\",\\n            \"airline_record_locator\" : \"KZRVW\",\\n            \"status\" : \"CONFIRMED\"\\n          },\\n          \"traveler_ids\" : [ \"PT2\" ],\\n          \"operating_airline\" : \"IB\"\\n        } ]\\n      } ]\\n    } ],\\n    \"unticketed_flights\" : [ ],\\n    \"trains\" : [ ],\\n    \"cars\" : [ ],\\n    \"hotels\" : [ {\\n      \"check_in\" : \"2015-10-05\",\\n      \"check_out\" : \"2015-10-07\",\\n      \"property_code\" : \"RTSXDSOP\",\\n      \"property_name\" : \"ACCOR HOTELS IBIS ANTIBES SOPHIA ANTIPOLIS\",\\n      \"total_price\" : {\\n        \"amount\" : \"182.00\",\\n        \"currency\" : \"EUR\"\\n      },\\n      \"booking_info\" : {\\n        \"reservation_code\" : \"0711PJ4510\",\\n        \"status\" : \"CONFIRMED\"\\n      },\\n      \"traveler_ids\" : [ \"PT2\" ],\\n      \"id\" : \"ST3\"\\n    } ],\\n    \"others\" : [ {\\n      \"id\" : \"ST4\",\\n      \"date\" : \"2016-03-01\",\\n      \"location\" : \"ZZZ\",\\n      \"description\" : \"THANK YOU FOR CALLING AMERICAN EXPRESS\",\\n      \"booking_info\" : {\\n        \"status\" : \"CONFIRMED\"\\n      },\\n      \"traveler_ids\" : [ \"PT2\" ]\\n    }, {\\n      \"id\" : \"ST5\",\\n      \"date\" : \"2016-08-02\",\\n      \"location\" : \"NCE\",\\n      \"description\" : \"THANK YOU FOR USING AMERICAN EXPRESS GLOBAL BUSINESS TRAVEL\",\\n      \"booking_info\" : {\\n        \"status\" : \"CONFIRMED\"\\n      },\\n      \"traveler_ids\" : [ \"PT2\" ]\\n    } ]\\n  }\\n}'"
      ]
     },
     "execution_count": 41,
     "metadata": {},
     "output_type": "execute_result"
    }
   ],
   "source": [
    "t"
   ]
  },
  {
   "cell_type": "code",
   "execution_count": 42,
   "metadata": {
    "collapsed": false
   },
   "outputs": [],
   "source": [
    "d = json.loads(t)"
   ]
  },
  {
   "cell_type": "code",
   "execution_count": 43,
   "metadata": {
    "collapsed": false
   },
   "outputs": [
    {
     "data": {
      "text/plain": [
       "[u'reservation', u'header', u'record_locator', u'messages', u'travelers']"
      ]
     },
     "execution_count": 43,
     "metadata": {},
     "output_type": "execute_result"
    }
   ],
   "source": [
    "d.keys()"
   ]
  },
  {
   "cell_type": "code",
   "execution_count": 52,
   "metadata": {
    "collapsed": false
   },
   "outputs": [
    {
     "data": {
      "text/plain": [
       "u'182.00'"
      ]
     },
     "execution_count": 52,
     "metadata": {},
     "output_type": "execute_result"
    }
   ],
   "source": [
    "d['reservation']['hotels'][0]['total_price']['amount']"
   ]
  },
  {
   "cell_type": "code",
   "execution_count": null,
   "metadata": {
    "collapsed": true
   },
   "outputs": [],
   "source": []
  }
 ],
 "metadata": {
  "kernelspec": {
   "display_name": "Python 2",
   "language": "python",
   "name": "python2"
  },
  "language_info": {
   "codemirror_mode": {
    "name": "ipython",
    "version": 2
   },
   "file_extension": ".py",
   "mimetype": "text/x-python",
   "name": "python",
   "nbconvert_exporter": "python",
   "pygments_lexer": "ipython2",
   "version": "2.7.11"
  }
 },
 "nbformat": 4,
 "nbformat_minor": 0
}
