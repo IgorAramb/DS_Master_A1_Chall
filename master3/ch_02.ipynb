{
 "cells": [
  {
   "cell_type": "markdown",
   "metadata": {
    "collapsed": true,
    "deletable": true,
    "editable": true
   },
   "source": [
    "## Top 10 arrival airports in the world in 2013 (using the bookings file)\n",
    "\n",
    "Arrival airport is the column arr_port. It is the IATA code for the airport\n",
    "\n",
    "To get the total number of passengers for an airport, you can sum the column pax, grouping by arr_port.\n",
    "\n",
    "Note that there is negative pax. That corresponds to cancelations. So to get the total number of passengers that have actually booked, you should sum including the negatives (that will remove the canceled bookings).\n",
    "\n",
    "Print the top 10 arrival airports in the standard output, including the number of passengers.\n",
    "\n",
    "Bonus point: Get the name of the city or airport corresponding to that airport (programatically, we suggest to have a look at GeoBases in Github)\n",
    "\n",
    "Bonus point: Solve this problem using pandas (instead of any other approach)\n"
   ]
  },
  {
   "cell_type": "raw",
   "metadata": {
    "deletable": true,
    "editable": true
   },
   "source": [
    "Prepare data sample\n",
    "Get familiar with data\n",
    "Select the columns of interest\n",
    "What to do with NaN?\n",
    "\n",
    "Make action plan\n",
    "Develop the code that works with a sample\n",
    "\n",
    "Adjust the code to work with Big data\n",
    "Test big data approach on a sample\n",
    "\n",
    "Run program with big data\n",
    "\n",
    "(Bonus Point)"
   ]
  },
  {
   "cell_type": "raw",
   "metadata": {
    "collapsed": false,
    "deletable": true,
    "editable": true
   },
   "source": [
    "we already have the booking Sample prepared from the ch_01"
   ]
  },
  {
   "cell_type": "code",
   "execution_count": 2,
   "metadata": {
    "collapsed": false
   },
   "outputs": [],
   "source": [
    "!cd /home/dsc/Data/challenge"
   ]
  },
  {
   "cell_type": "code",
   "execution_count": 3,
   "metadata": {
    "collapsed": false,
    "deletable": true,
    "editable": true
   },
   "outputs": [
    {
     "name": "stdout",
     "output_type": "stream",
     "text": [
      "/home/dsc/Data/challenge\r\n"
     ]
    }
   ],
   "source": [
    "!pwd"
   ]
  },
  {
   "cell_type": "code",
   "execution_count": 4,
   "metadata": {
    "collapsed": false,
    "deletable": true,
    "editable": true
   },
   "outputs": [
    {
     "name": "stdout",
     "output_type": "stream",
     "text": [
      "total 1014320\r\n",
      "-rw-rw-r--. 1 dsc dsc 554970628 Jan  4  2016 bookings.csv.bz2\r\n",
      "-rw-rw-r--  1 dsc dsc     54834 May  9 22:50 bookings.sample.csv.bz2\r\n",
      "-rw-rw-r--  1 dsc dsc    425006 May  9 22:51 bookings.sample.csv.csv\r\n",
      "-rw-rw-r--. 1 dsc dsc 483188920 Jan  4  2016 searches.csv.bz2\r\n"
     ]
    }
   ],
   "source": [
    "!ls -l"
   ]
  },
  {
   "cell_type": "markdown",
   "metadata": {
    "deletable": true,
    "editable": true
   },
   "source": [
    "## 1) Get familiar with data"
   ]
  },
  {
   "cell_type": "code",
   "execution_count": 5,
   "metadata": {
    "collapsed": false,
    "deletable": true,
    "editable": true
   },
   "outputs": [],
   "source": [
    "import pandas as pd"
   ]
  },
  {
   "cell_type": "code",
   "execution_count": 22,
   "metadata": {
    "collapsed": false,
    "deletable": true,
    "editable": true
   },
   "outputs": [],
   "source": [
    "#DON'T DO THIS!!!\n",
    "b = pd.read_csv('bookings.sample.csv.bz2',sep='^')"
   ]
  },
  {
   "cell_type": "markdown",
   "metadata": {
    "deletable": true,
    "editable": true
   },
   "source": [
    "### What if we dont want to read the whole file?"
   ]
  },
  {
   "cell_type": "raw",
   "metadata": {
    "deletable": true,
    "editable": true
   },
   "source": [
    "Options:\n",
    "1) prepare the sample and works with sample (recommended approach since we will use it to test chunks later)\n",
    "2) read_csv with nrows option"
   ]
  },
  {
   "cell_type": "code",
   "execution_count": 6,
   "metadata": {
    "collapsed": true,
    "deletable": true,
    "editable": true
   },
   "outputs": [],
   "source": [
    "b=pd.read_csv('./bookings.sample.csv.bz2', sep='^')"
   ]
  },
  {
   "cell_type": "code",
   "execution_count": 7,
   "metadata": {
    "collapsed": false,
    "deletable": true,
    "editable": true
   },
   "outputs": [],
   "source": [
    "#read just the first nrows from the file\n",
    "b=pd.read_csv('./bookings.csv.bz2', sep='^', nrows=1000)"
   ]
  },
  {
   "cell_type": "raw",
   "metadata": {
    "deletable": true,
    "editable": true
   },
   "source": [
    "Commands for obtaining data info:\n",
    "    b.info()\n",
    "    b.sample()\n",
    "    b.head() -function\n",
    "    #pd.set_option('display.max_columns', 100)\n",
    "    pd.set_option('display.max_columns', None)\n",
    "    \n",
    "    b.shape  - object \n",
    "    b.describe()\n",
    "    b.describe(include='all')\n",
    "    df.dtypes\n",
    "    \n",
    "    b.isnull().sum()\n",
    "    non_null_counts = b.count()\n",
    "    \n",
    "    b.columns\n",
    "    b.columns.to_list()\n",
    "    list(b.columns)"
   ]
  },
  {
   "cell_type": "code",
   "execution_count": 8,
   "metadata": {
    "collapsed": false,
    "deletable": true,
    "editable": true
   },
   "outputs": [
    {
     "data": {
      "text/html": [
       "<div>\n",
       "<table border=\"1\" class=\"dataframe\">\n",
       "  <thead>\n",
       "    <tr style=\"text-align: right;\">\n",
       "      <th></th>\n",
       "      <th>act_date</th>\n",
       "      <th>source</th>\n",
       "      <th>pos_ctry</th>\n",
       "      <th>pos_iata</th>\n",
       "      <th>pos_oid</th>\n",
       "      <th>rloc</th>\n",
       "      <th>cre_date</th>\n",
       "      <th>duration</th>\n",
       "      <th>distance</th>\n",
       "      <th>dep_port</th>\n",
       "      <th>...</th>\n",
       "      <th>route</th>\n",
       "      <th>carrier</th>\n",
       "      <th>bkg_class</th>\n",
       "      <th>cab_class</th>\n",
       "      <th>brd_time</th>\n",
       "      <th>off_time</th>\n",
       "      <th>pax</th>\n",
       "      <th>year</th>\n",
       "      <th>month</th>\n",
       "      <th>oid</th>\n",
       "    </tr>\n",
       "  </thead>\n",
       "  <tbody>\n",
       "    <tr>\n",
       "      <th>0</th>\n",
       "      <td>2013-03-05 00:00:00</td>\n",
       "      <td>1A</td>\n",
       "      <td>DE</td>\n",
       "      <td>a68dd7ae953c8acfb187a1af2dcbe123</td>\n",
       "      <td>1a11ae49fcbf545fd2afc1a24d88d2b7</td>\n",
       "      <td>ea65900e72d71f4626378e2ebd298267</td>\n",
       "      <td>2013-02-22 00:00:00</td>\n",
       "      <td>1708</td>\n",
       "      <td>0</td>\n",
       "      <td>ZRH</td>\n",
       "      <td>...</td>\n",
       "      <td>LHRZRH</td>\n",
       "      <td>VI</td>\n",
       "      <td>T</td>\n",
       "      <td>Y</td>\n",
       "      <td>2013-03-07 08:50:00</td>\n",
       "      <td>2013-03-07 11:33:37</td>\n",
       "      <td>-1</td>\n",
       "      <td>2013</td>\n",
       "      <td>3</td>\n",
       "      <td>NULL</td>\n",
       "    </tr>\n",
       "    <tr>\n",
       "      <th>1</th>\n",
       "      <td>2013-03-26 00:00:00</td>\n",
       "      <td>1A</td>\n",
       "      <td>US</td>\n",
       "      <td>e612b9eeeee6f17f42d9b0d3b79e75ca</td>\n",
       "      <td>7437560d8f276d6d05eeb806d9e7edee</td>\n",
       "      <td>737295a86982c941f1c2da9a46a14043</td>\n",
       "      <td>2013-03-26 00:00:00</td>\n",
       "      <td>135270</td>\n",
       "      <td>0</td>\n",
       "      <td>SAL</td>\n",
       "      <td>...</td>\n",
       "      <td>SALATLCLT</td>\n",
       "      <td>NV</td>\n",
       "      <td>L</td>\n",
       "      <td>Y</td>\n",
       "      <td>2013-04-12 13:04:00</td>\n",
       "      <td>2013-04-12 22:05:40</td>\n",
       "      <td>1</td>\n",
       "      <td>2013</td>\n",
       "      <td>3</td>\n",
       "      <td>NULL</td>\n",
       "    </tr>\n",
       "    <tr>\n",
       "      <th>2</th>\n",
       "      <td>2013-03-26 00:00:00</td>\n",
       "      <td>1A</td>\n",
       "      <td>US</td>\n",
       "      <td>e612b9eeeee6f17f42d9b0d3b79e75ca</td>\n",
       "      <td>7437560d8f276d6d05eeb806d9e7edee</td>\n",
       "      <td>737295a86982c941f1c2da9a46a14043</td>\n",
       "      <td>2013-03-26 00:00:00</td>\n",
       "      <td>135270</td>\n",
       "      <td>0</td>\n",
       "      <td>SAL</td>\n",
       "      <td>...</td>\n",
       "      <td>CLTATLSAL</td>\n",
       "      <td>NV</td>\n",
       "      <td>U</td>\n",
       "      <td>Y</td>\n",
       "      <td>2013-07-15 07:00:00</td>\n",
       "      <td>2013-07-15 11:34:51</td>\n",
       "      <td>1</td>\n",
       "      <td>2013</td>\n",
       "      <td>3</td>\n",
       "      <td>NULL</td>\n",
       "    </tr>\n",
       "    <tr>\n",
       "      <th>3</th>\n",
       "      <td>2013-03-26 00:00:00</td>\n",
       "      <td>1A</td>\n",
       "      <td>AU</td>\n",
       "      <td>0f984b3bb6bd06661c95529bbd6193bc</td>\n",
       "      <td>36472c6dbaf7afec9136ac40364e2794</td>\n",
       "      <td>5ecf00fdcbcec761c43dc7285253d0c1</td>\n",
       "      <td>2013-03-26 00:00:00</td>\n",
       "      <td>30885</td>\n",
       "      <td>0</td>\n",
       "      <td>AKL</td>\n",
       "      <td>...</td>\n",
       "      <td>AKLHKGSVO</td>\n",
       "      <td>XK</td>\n",
       "      <td>G</td>\n",
       "      <td>Y</td>\n",
       "      <td>2013-04-24 23:59:00</td>\n",
       "      <td>2013-04-25 16:06:31</td>\n",
       "      <td>1</td>\n",
       "      <td>2013</td>\n",
       "      <td>3</td>\n",
       "      <td>SYDA82546</td>\n",
       "    </tr>\n",
       "    <tr>\n",
       "      <th>4</th>\n",
       "      <td>2013-03-26 00:00:00</td>\n",
       "      <td>1A</td>\n",
       "      <td>AU</td>\n",
       "      <td>0f984b3bb6bd06661c95529bbd6193bc</td>\n",
       "      <td>36472c6dbaf7afec9136ac40364e2794</td>\n",
       "      <td>5ecf00fdcbcec761c43dc7285253d0c1</td>\n",
       "      <td>2013-03-26 00:00:00</td>\n",
       "      <td>30885</td>\n",
       "      <td>0</td>\n",
       "      <td>AKL</td>\n",
       "      <td>...</td>\n",
       "      <td>SVOHKGAKL</td>\n",
       "      <td>XK</td>\n",
       "      <td>G</td>\n",
       "      <td>Y</td>\n",
       "      <td>2013-05-14 20:15:00</td>\n",
       "      <td>2013-05-16 10:44:50</td>\n",
       "      <td>1</td>\n",
       "      <td>2013</td>\n",
       "      <td>3</td>\n",
       "      <td>SYDA82546</td>\n",
       "    </tr>\n",
       "  </tbody>\n",
       "</table>\n",
       "<p>5 rows × 38 columns</p>\n",
       "</div>"
      ],
      "text/plain": [
       "   act_date             source  pos_ctry                          pos_iata  \\\n",
       "0  2013-03-05 00:00:00  1A      DE        a68dd7ae953c8acfb187a1af2dcbe123   \n",
       "1  2013-03-26 00:00:00  1A      US        e612b9eeeee6f17f42d9b0d3b79e75ca   \n",
       "2  2013-03-26 00:00:00  1A      US        e612b9eeeee6f17f42d9b0d3b79e75ca   \n",
       "3  2013-03-26 00:00:00  1A      AU        0f984b3bb6bd06661c95529bbd6193bc   \n",
       "4  2013-03-26 00:00:00  1A      AU        0f984b3bb6bd06661c95529bbd6193bc   \n",
       "\n",
       "                          pos_oid                      rloc            \\\n",
       "0  1a11ae49fcbf545fd2afc1a24d88d2b7  ea65900e72d71f4626378e2ebd298267   \n",
       "1  7437560d8f276d6d05eeb806d9e7edee  737295a86982c941f1c2da9a46a14043   \n",
       "2  7437560d8f276d6d05eeb806d9e7edee  737295a86982c941f1c2da9a46a14043   \n",
       "3  36472c6dbaf7afec9136ac40364e2794  5ecf00fdcbcec761c43dc7285253d0c1   \n",
       "4  36472c6dbaf7afec9136ac40364e2794  5ecf00fdcbcec761c43dc7285253d0c1   \n",
       "\n",
       "   cre_date             duration  distance  dep_port    ...      \\\n",
       "0  2013-02-22 00:00:00      1708         0  ZRH         ...       \n",
       "1  2013-03-26 00:00:00    135270         0  SAL         ...       \n",
       "2  2013-03-26 00:00:00    135270         0  SAL         ...       \n",
       "3  2013-03-26 00:00:00     30885         0  AKL         ...       \n",
       "4  2013-03-26 00:00:00     30885         0  AKL         ...       \n",
       "\n",
       "   route           carrier  bkg_class  cab_class  brd_time             \\\n",
       "0  LHRZRH               VI  T          Y          2013-03-07 08:50:00   \n",
       "1  SALATLCLT            NV  L          Y          2013-04-12 13:04:00   \n",
       "2  CLTATLSAL            NV  U          Y          2013-07-15 07:00:00   \n",
       "3  AKLHKGSVO            XK  G          Y          2013-04-24 23:59:00   \n",
       "4  SVOHKGAKL            XK  G          Y          2013-05-14 20:15:00   \n",
       "\n",
       "   off_time            pax  year month  oid        \n",
       "0  2013-03-07 11:33:37  -1  2013     3  NULL       \n",
       "1  2013-04-12 22:05:40   1  2013     3  NULL       \n",
       "2  2013-07-15 11:34:51   1  2013     3  NULL       \n",
       "3  2013-04-25 16:06:31   1  2013     3  SYDA82546  \n",
       "4  2013-05-16 10:44:50   1  2013     3  SYDA82546  \n",
       "\n",
       "[5 rows x 38 columns]"
      ]
     },
     "execution_count": 8,
     "metadata": {},
     "output_type": "execute_result"
    }
   ],
   "source": [
    "b.head()"
   ]
  },
  {
   "cell_type": "code",
   "execution_count": 9,
   "metadata": {
    "collapsed": true,
    "deletable": true,
    "editable": true
   },
   "outputs": [],
   "source": [
    "#by default we don't see all the colums so we remove the contraints on displaying the number of columns\n",
    "pd.set_option('display.max_columns',None)\n",
    "#pd.set_option('display.max_columns',5) #with this we would see only 5 columns when using head/tail/sample"
   ]
  },
  {
   "cell_type": "code",
   "execution_count": 10,
   "metadata": {
    "collapsed": false,
    "deletable": true,
    "editable": true
   },
   "outputs": [
    {
     "data": {
      "text/html": [
       "<div>\n",
       "<table border=\"1\" class=\"dataframe\">\n",
       "  <thead>\n",
       "    <tr style=\"text-align: right;\">\n",
       "      <th></th>\n",
       "      <th>act_date</th>\n",
       "      <th>source</th>\n",
       "      <th>pos_ctry</th>\n",
       "      <th>pos_iata</th>\n",
       "      <th>pos_oid</th>\n",
       "      <th>rloc</th>\n",
       "      <th>cre_date</th>\n",
       "      <th>duration</th>\n",
       "      <th>distance</th>\n",
       "      <th>dep_port</th>\n",
       "      <th>dep_city</th>\n",
       "      <th>dep_ctry</th>\n",
       "      <th>arr_port</th>\n",
       "      <th>arr_city</th>\n",
       "      <th>arr_ctry</th>\n",
       "      <th>lst_port</th>\n",
       "      <th>lst_city</th>\n",
       "      <th>lst_ctry</th>\n",
       "      <th>brd_port</th>\n",
       "      <th>brd_city</th>\n",
       "      <th>brd_ctry</th>\n",
       "      <th>off_port</th>\n",
       "      <th>off_city</th>\n",
       "      <th>off_ctry</th>\n",
       "      <th>mkt_port</th>\n",
       "      <th>mkt_city</th>\n",
       "      <th>mkt_ctry</th>\n",
       "      <th>intl</th>\n",
       "      <th>route</th>\n",
       "      <th>carrier</th>\n",
       "      <th>bkg_class</th>\n",
       "      <th>cab_class</th>\n",
       "      <th>brd_time</th>\n",
       "      <th>off_time</th>\n",
       "      <th>pax</th>\n",
       "      <th>year</th>\n",
       "      <th>month</th>\n",
       "      <th>oid</th>\n",
       "    </tr>\n",
       "  </thead>\n",
       "  <tbody>\n",
       "    <tr>\n",
       "      <th>0</th>\n",
       "      <td>2013-03-05 00:00:00</td>\n",
       "      <td>1A</td>\n",
       "      <td>DE</td>\n",
       "      <td>a68dd7ae953c8acfb187a1af2dcbe123</td>\n",
       "      <td>1a11ae49fcbf545fd2afc1a24d88d2b7</td>\n",
       "      <td>ea65900e72d71f4626378e2ebd298267</td>\n",
       "      <td>2013-02-22 00:00:00</td>\n",
       "      <td>1708</td>\n",
       "      <td>0</td>\n",
       "      <td>ZRH</td>\n",
       "      <td>ZRH</td>\n",
       "      <td>CH</td>\n",
       "      <td>LHR</td>\n",
       "      <td>LON</td>\n",
       "      <td>GB</td>\n",
       "      <td>ZRH</td>\n",
       "      <td>ZRH</td>\n",
       "      <td>CH</td>\n",
       "      <td>LHR</td>\n",
       "      <td>LON</td>\n",
       "      <td>GB</td>\n",
       "      <td>ZRH</td>\n",
       "      <td>ZRH</td>\n",
       "      <td>CH</td>\n",
       "      <td>LHRZRH</td>\n",
       "      <td>LONZRH</td>\n",
       "      <td>CHGB</td>\n",
       "      <td>1</td>\n",
       "      <td>LHRZRH</td>\n",
       "      <td>VI</td>\n",
       "      <td>T</td>\n",
       "      <td>Y</td>\n",
       "      <td>2013-03-07 08:50:00</td>\n",
       "      <td>2013-03-07 11:33:37</td>\n",
       "      <td>-1</td>\n",
       "      <td>2013</td>\n",
       "      <td>3</td>\n",
       "      <td>NULL</td>\n",
       "    </tr>\n",
       "    <tr>\n",
       "      <th>1</th>\n",
       "      <td>2013-03-26 00:00:00</td>\n",
       "      <td>1A</td>\n",
       "      <td>US</td>\n",
       "      <td>e612b9eeeee6f17f42d9b0d3b79e75ca</td>\n",
       "      <td>7437560d8f276d6d05eeb806d9e7edee</td>\n",
       "      <td>737295a86982c941f1c2da9a46a14043</td>\n",
       "      <td>2013-03-26 00:00:00</td>\n",
       "      <td>135270</td>\n",
       "      <td>0</td>\n",
       "      <td>SAL</td>\n",
       "      <td>SAL</td>\n",
       "      <td>SV</td>\n",
       "      <td>CLT</td>\n",
       "      <td>CLT</td>\n",
       "      <td>US</td>\n",
       "      <td>SAL</td>\n",
       "      <td>SAL</td>\n",
       "      <td>SV</td>\n",
       "      <td>SAL</td>\n",
       "      <td>SAL</td>\n",
       "      <td>SV</td>\n",
       "      <td>CLT</td>\n",
       "      <td>CLT</td>\n",
       "      <td>US</td>\n",
       "      <td>CLTSAL</td>\n",
       "      <td>CLTSAL</td>\n",
       "      <td>SVUS</td>\n",
       "      <td>1</td>\n",
       "      <td>SALATLCLT</td>\n",
       "      <td>NV</td>\n",
       "      <td>L</td>\n",
       "      <td>Y</td>\n",
       "      <td>2013-04-12 13:04:00</td>\n",
       "      <td>2013-04-12 22:05:40</td>\n",
       "      <td>1</td>\n",
       "      <td>2013</td>\n",
       "      <td>3</td>\n",
       "      <td>NULL</td>\n",
       "    </tr>\n",
       "    <tr>\n",
       "      <th>2</th>\n",
       "      <td>2013-03-26 00:00:00</td>\n",
       "      <td>1A</td>\n",
       "      <td>US</td>\n",
       "      <td>e612b9eeeee6f17f42d9b0d3b79e75ca</td>\n",
       "      <td>7437560d8f276d6d05eeb806d9e7edee</td>\n",
       "      <td>737295a86982c941f1c2da9a46a14043</td>\n",
       "      <td>2013-03-26 00:00:00</td>\n",
       "      <td>135270</td>\n",
       "      <td>0</td>\n",
       "      <td>SAL</td>\n",
       "      <td>SAL</td>\n",
       "      <td>SV</td>\n",
       "      <td>CLT</td>\n",
       "      <td>CLT</td>\n",
       "      <td>US</td>\n",
       "      <td>SAL</td>\n",
       "      <td>SAL</td>\n",
       "      <td>SV</td>\n",
       "      <td>CLT</td>\n",
       "      <td>CLT</td>\n",
       "      <td>US</td>\n",
       "      <td>SAL</td>\n",
       "      <td>SAL</td>\n",
       "      <td>SV</td>\n",
       "      <td>CLTSAL</td>\n",
       "      <td>CLTSAL</td>\n",
       "      <td>SVUS</td>\n",
       "      <td>1</td>\n",
       "      <td>CLTATLSAL</td>\n",
       "      <td>NV</td>\n",
       "      <td>U</td>\n",
       "      <td>Y</td>\n",
       "      <td>2013-07-15 07:00:00</td>\n",
       "      <td>2013-07-15 11:34:51</td>\n",
       "      <td>1</td>\n",
       "      <td>2013</td>\n",
       "      <td>3</td>\n",
       "      <td>NULL</td>\n",
       "    </tr>\n",
       "    <tr>\n",
       "      <th>3</th>\n",
       "      <td>2013-03-26 00:00:00</td>\n",
       "      <td>1A</td>\n",
       "      <td>AU</td>\n",
       "      <td>0f984b3bb6bd06661c95529bbd6193bc</td>\n",
       "      <td>36472c6dbaf7afec9136ac40364e2794</td>\n",
       "      <td>5ecf00fdcbcec761c43dc7285253d0c1</td>\n",
       "      <td>2013-03-26 00:00:00</td>\n",
       "      <td>30885</td>\n",
       "      <td>0</td>\n",
       "      <td>AKL</td>\n",
       "      <td>AKL</td>\n",
       "      <td>NZ</td>\n",
       "      <td>SVO</td>\n",
       "      <td>MOW</td>\n",
       "      <td>RU</td>\n",
       "      <td>AKL</td>\n",
       "      <td>AKL</td>\n",
       "      <td>NZ</td>\n",
       "      <td>AKL</td>\n",
       "      <td>AKL</td>\n",
       "      <td>NZ</td>\n",
       "      <td>SVO</td>\n",
       "      <td>MOW</td>\n",
       "      <td>RU</td>\n",
       "      <td>AKLSVO</td>\n",
       "      <td>AKLMOW</td>\n",
       "      <td>NZRU</td>\n",
       "      <td>1</td>\n",
       "      <td>AKLHKGSVO</td>\n",
       "      <td>XK</td>\n",
       "      <td>G</td>\n",
       "      <td>Y</td>\n",
       "      <td>2013-04-24 23:59:00</td>\n",
       "      <td>2013-04-25 16:06:31</td>\n",
       "      <td>1</td>\n",
       "      <td>2013</td>\n",
       "      <td>3</td>\n",
       "      <td>SYDA82546</td>\n",
       "    </tr>\n",
       "    <tr>\n",
       "      <th>4</th>\n",
       "      <td>2013-03-26 00:00:00</td>\n",
       "      <td>1A</td>\n",
       "      <td>AU</td>\n",
       "      <td>0f984b3bb6bd06661c95529bbd6193bc</td>\n",
       "      <td>36472c6dbaf7afec9136ac40364e2794</td>\n",
       "      <td>5ecf00fdcbcec761c43dc7285253d0c1</td>\n",
       "      <td>2013-03-26 00:00:00</td>\n",
       "      <td>30885</td>\n",
       "      <td>0</td>\n",
       "      <td>AKL</td>\n",
       "      <td>AKL</td>\n",
       "      <td>NZ</td>\n",
       "      <td>SVO</td>\n",
       "      <td>MOW</td>\n",
       "      <td>RU</td>\n",
       "      <td>AKL</td>\n",
       "      <td>AKL</td>\n",
       "      <td>NZ</td>\n",
       "      <td>SVO</td>\n",
       "      <td>MOW</td>\n",
       "      <td>RU</td>\n",
       "      <td>AKL</td>\n",
       "      <td>AKL</td>\n",
       "      <td>NZ</td>\n",
       "      <td>AKLSVO</td>\n",
       "      <td>AKLMOW</td>\n",
       "      <td>NZRU</td>\n",
       "      <td>1</td>\n",
       "      <td>SVOHKGAKL</td>\n",
       "      <td>XK</td>\n",
       "      <td>G</td>\n",
       "      <td>Y</td>\n",
       "      <td>2013-05-14 20:15:00</td>\n",
       "      <td>2013-05-16 10:44:50</td>\n",
       "      <td>1</td>\n",
       "      <td>2013</td>\n",
       "      <td>3</td>\n",
       "      <td>SYDA82546</td>\n",
       "    </tr>\n",
       "  </tbody>\n",
       "</table>\n",
       "</div>"
      ],
      "text/plain": [
       "   act_date             source  pos_ctry                          pos_iata  \\\n",
       "0  2013-03-05 00:00:00  1A      DE        a68dd7ae953c8acfb187a1af2dcbe123   \n",
       "1  2013-03-26 00:00:00  1A      US        e612b9eeeee6f17f42d9b0d3b79e75ca   \n",
       "2  2013-03-26 00:00:00  1A      US        e612b9eeeee6f17f42d9b0d3b79e75ca   \n",
       "3  2013-03-26 00:00:00  1A      AU        0f984b3bb6bd06661c95529bbd6193bc   \n",
       "4  2013-03-26 00:00:00  1A      AU        0f984b3bb6bd06661c95529bbd6193bc   \n",
       "\n",
       "                          pos_oid                      rloc            \\\n",
       "0  1a11ae49fcbf545fd2afc1a24d88d2b7  ea65900e72d71f4626378e2ebd298267   \n",
       "1  7437560d8f276d6d05eeb806d9e7edee  737295a86982c941f1c2da9a46a14043   \n",
       "2  7437560d8f276d6d05eeb806d9e7edee  737295a86982c941f1c2da9a46a14043   \n",
       "3  36472c6dbaf7afec9136ac40364e2794  5ecf00fdcbcec761c43dc7285253d0c1   \n",
       "4  36472c6dbaf7afec9136ac40364e2794  5ecf00fdcbcec761c43dc7285253d0c1   \n",
       "\n",
       "   cre_date             duration  distance  dep_port  dep_city  dep_ctry  \\\n",
       "0  2013-02-22 00:00:00      1708         0  ZRH       ZRH       CH         \n",
       "1  2013-03-26 00:00:00    135270         0  SAL       SAL       SV         \n",
       "2  2013-03-26 00:00:00    135270         0  SAL       SAL       SV         \n",
       "3  2013-03-26 00:00:00     30885         0  AKL       AKL       NZ         \n",
       "4  2013-03-26 00:00:00     30885         0  AKL       AKL       NZ         \n",
       "\n",
       "   arr_port  arr_city  arr_ctry  lst_port  lst_city  lst_ctry  brd_port  \\\n",
       "0  LHR       LON       GB        ZRH       ZRH       CH        LHR        \n",
       "1  CLT       CLT       US        SAL       SAL       SV        SAL        \n",
       "2  CLT       CLT       US        SAL       SAL       SV        CLT        \n",
       "3  SVO       MOW       RU        AKL       AKL       NZ        AKL        \n",
       "4  SVO       MOW       RU        AKL       AKL       NZ        SVO        \n",
       "\n",
       "   brd_city  brd_ctry  off_port  off_city  off_ctry  mkt_port  mkt_city  \\\n",
       "0  LON       GB        ZRH       ZRH       CH        LHRZRH    LONZRH     \n",
       "1  SAL       SV        CLT       CLT       US        CLTSAL    CLTSAL     \n",
       "2  CLT       US        SAL       SAL       SV        CLTSAL    CLTSAL     \n",
       "3  AKL       NZ        SVO       MOW       RU        AKLSVO    AKLMOW     \n",
       "4  MOW       RU        AKL       AKL       NZ        AKLSVO    AKLMOW     \n",
       "\n",
       "   mkt_ctry  intl  route           carrier  bkg_class  cab_class  \\\n",
       "0  CHGB         1  LHRZRH               VI  T          Y           \n",
       "1  SVUS         1  SALATLCLT            NV  L          Y           \n",
       "2  SVUS         1  CLTATLSAL            NV  U          Y           \n",
       "3  NZRU         1  AKLHKGSVO            XK  G          Y           \n",
       "4  NZRU         1  SVOHKGAKL            XK  G          Y           \n",
       "\n",
       "   brd_time             off_time             pax  year  month  oid        \n",
       "0  2013-03-07 08:50:00  2013-03-07 11:33:37   -1  2013      3  NULL       \n",
       "1  2013-04-12 13:04:00  2013-04-12 22:05:40    1  2013      3  NULL       \n",
       "2  2013-07-15 07:00:00  2013-07-15 11:34:51    1  2013      3  NULL       \n",
       "3  2013-04-24 23:59:00  2013-04-25 16:06:31    1  2013      3  SYDA82546  \n",
       "4  2013-05-14 20:15:00  2013-05-16 10:44:50    1  2013      3  SYDA82546  "
      ]
     },
     "execution_count": 10,
     "metadata": {},
     "output_type": "execute_result"
    }
   ],
   "source": [
    "b.head()"
   ]
  },
  {
   "cell_type": "code",
   "execution_count": 11,
   "metadata": {
    "collapsed": false,
    "deletable": true,
    "editable": true
   },
   "outputs": [
    {
     "data": {
      "text/html": [
       "<div>\n",
       "<table border=\"1\" class=\"dataframe\">\n",
       "  <thead>\n",
       "    <tr style=\"text-align: right;\">\n",
       "      <th></th>\n",
       "      <th>duration</th>\n",
       "      <th>distance</th>\n",
       "      <th>intl</th>\n",
       "      <th>pax</th>\n",
       "      <th>year</th>\n",
       "      <th>month</th>\n",
       "    </tr>\n",
       "  </thead>\n",
       "  <tbody>\n",
       "    <tr>\n",
       "      <th>count</th>\n",
       "      <td>1000.000000</td>\n",
       "      <td>1000.000000</td>\n",
       "      <td>1000.000000</td>\n",
       "      <td>1000.000000</td>\n",
       "      <td>1000.0</td>\n",
       "      <td>1000.0</td>\n",
       "    </tr>\n",
       "    <tr>\n",
       "      <th>mean</th>\n",
       "      <td>23935.433000</td>\n",
       "      <td>407.569000</td>\n",
       "      <td>0.643000</td>\n",
       "      <td>0.532000</td>\n",
       "      <td>2013.0</td>\n",
       "      <td>3.0</td>\n",
       "    </tr>\n",
       "    <tr>\n",
       "      <th>std</th>\n",
       "      <td>54459.101785</td>\n",
       "      <td>1490.087967</td>\n",
       "      <td>0.479355</td>\n",
       "      <td>1.976077</td>\n",
       "      <td>0.0</td>\n",
       "      <td>0.0</td>\n",
       "    </tr>\n",
       "    <tr>\n",
       "      <th>min</th>\n",
       "      <td>61.000000</td>\n",
       "      <td>0.000000</td>\n",
       "      <td>0.000000</td>\n",
       "      <td>-8.000000</td>\n",
       "      <td>2013.0</td>\n",
       "      <td>3.0</td>\n",
       "    </tr>\n",
       "    <tr>\n",
       "      <th>25%</th>\n",
       "      <td>3493.000000</td>\n",
       "      <td>0.000000</td>\n",
       "      <td>0.000000</td>\n",
       "      <td>-1.000000</td>\n",
       "      <td>2013.0</td>\n",
       "      <td>3.0</td>\n",
       "    </tr>\n",
       "    <tr>\n",
       "      <th>50%</th>\n",
       "      <td>6891.000000</td>\n",
       "      <td>0.000000</td>\n",
       "      <td>1.000000</td>\n",
       "      <td>1.000000</td>\n",
       "      <td>2013.0</td>\n",
       "      <td>3.0</td>\n",
       "    </tr>\n",
       "    <tr>\n",
       "      <th>75%</th>\n",
       "      <td>17940.000000</td>\n",
       "      <td>0.000000</td>\n",
       "      <td>1.000000</td>\n",
       "      <td>1.000000</td>\n",
       "      <td>2013.0</td>\n",
       "      <td>3.0</td>\n",
       "    </tr>\n",
       "    <tr>\n",
       "      <th>max</th>\n",
       "      <td>482174.000000</td>\n",
       "      <td>10995.000000</td>\n",
       "      <td>1.000000</td>\n",
       "      <td>21.000000</td>\n",
       "      <td>2013.0</td>\n",
       "      <td>3.0</td>\n",
       "    </tr>\n",
       "  </tbody>\n",
       "</table>\n",
       "</div>"
      ],
      "text/plain": [
       "            duration      distance         intl          pax    year   month\n",
       "count    1000.000000   1000.000000  1000.000000  1000.000000  1000.0  1000.0\n",
       "mean    23935.433000    407.569000     0.643000     0.532000  2013.0     3.0\n",
       "std     54459.101785   1490.087967     0.479355     1.976077     0.0     0.0\n",
       "min        61.000000      0.000000     0.000000    -8.000000  2013.0     3.0\n",
       "25%      3493.000000      0.000000     0.000000    -1.000000  2013.0     3.0\n",
       "50%      6891.000000      0.000000     1.000000     1.000000  2013.0     3.0\n",
       "75%     17940.000000      0.000000     1.000000     1.000000  2013.0     3.0\n",
       "max    482174.000000  10995.000000     1.000000    21.000000  2013.0     3.0"
      ]
     },
     "execution_count": 11,
     "metadata": {},
     "output_type": "execute_result"
    }
   ],
   "source": [
    "b.describe()"
   ]
  },
  {
   "cell_type": "code",
   "execution_count": 12,
   "metadata": {
    "collapsed": false,
    "deletable": true,
    "editable": true
   },
   "outputs": [
    {
     "data": {
      "text/plain": [
       "act_date               object\n",
       "source                 object\n",
       "pos_ctry               object\n",
       "pos_iata               object\n",
       "pos_oid                object\n",
       "rloc                   object\n",
       "cre_date               object\n",
       "duration                int64\n",
       "distance                int64\n",
       "dep_port               object\n",
       "dep_city               object\n",
       "dep_ctry               object\n",
       "arr_port               object\n",
       "arr_city               object\n",
       "arr_ctry               object\n",
       "lst_port               object\n",
       "lst_city               object\n",
       "lst_ctry               object\n",
       "brd_port               object\n",
       "brd_city               object\n",
       "brd_ctry               object\n",
       "off_port               object\n",
       "off_city               object\n",
       "off_ctry               object\n",
       "mkt_port               object\n",
       "mkt_city               object\n",
       "mkt_ctry               object\n",
       "intl                    int64\n",
       "route                  object\n",
       "carrier                object\n",
       "bkg_class              object\n",
       "cab_class              object\n",
       "brd_time               object\n",
       "off_time               object\n",
       "pax                     int64\n",
       "year                    int64\n",
       "month                   int64\n",
       "oid                    object\n",
       "dtype: object"
      ]
     },
     "execution_count": 12,
     "metadata": {},
     "output_type": "execute_result"
    }
   ],
   "source": [
    "b.dtypes"
   ]
  },
  {
   "cell_type": "code",
   "execution_count": 13,
   "metadata": {
    "collapsed": false,
    "deletable": true,
    "editable": true
   },
   "outputs": [
    {
     "data": {
      "text/plain": [
       "act_date               0\n",
       "source                 0\n",
       "pos_ctry               0\n",
       "pos_iata               0\n",
       "pos_oid                0\n",
       "rloc                   0\n",
       "cre_date               0\n",
       "duration               0\n",
       "distance               0\n",
       "dep_port               0\n",
       "dep_city               0\n",
       "dep_ctry               0\n",
       "arr_port               0\n",
       "arr_city               0\n",
       "arr_ctry               0\n",
       "lst_port               0\n",
       "lst_city               0\n",
       "lst_ctry               0\n",
       "brd_port               0\n",
       "brd_city               0\n",
       "brd_ctry               0\n",
       "off_port               0\n",
       "off_city               0\n",
       "off_ctry               0\n",
       "mkt_port               0\n",
       "mkt_city               0\n",
       "mkt_ctry               0\n",
       "intl                   0\n",
       "route                  0\n",
       "carrier                0\n",
       "bkg_class              0\n",
       "cab_class              0\n",
       "brd_time               0\n",
       "off_time               0\n",
       "pax                    0\n",
       "year                   0\n",
       "month                  0\n",
       "oid                    0\n",
       "dtype: int64"
      ]
     },
     "execution_count": 13,
     "metadata": {},
     "output_type": "execute_result"
    }
   ],
   "source": [
    "b.isnull().sum()"
   ]
  },
  {
   "cell_type": "code",
   "execution_count": 14,
   "metadata": {
    "collapsed": false,
    "deletable": true,
    "editable": true
   },
   "outputs": [
    {
     "data": {
      "text/plain": [
       "act_date               1000\n",
       "source                 1000\n",
       "pos_ctry               1000\n",
       "pos_iata               1000\n",
       "pos_oid                1000\n",
       "rloc                   1000\n",
       "cre_date               1000\n",
       "duration               1000\n",
       "distance               1000\n",
       "dep_port               1000\n",
       "dep_city               1000\n",
       "dep_ctry               1000\n",
       "arr_port               1000\n",
       "arr_city               1000\n",
       "arr_ctry               1000\n",
       "lst_port               1000\n",
       "lst_city               1000\n",
       "lst_ctry               1000\n",
       "brd_port               1000\n",
       "brd_city               1000\n",
       "brd_ctry               1000\n",
       "off_port               1000\n",
       "off_city               1000\n",
       "off_ctry               1000\n",
       "mkt_port               1000\n",
       "mkt_city               1000\n",
       "mkt_ctry               1000\n",
       "intl                   1000\n",
       "route                  1000\n",
       "carrier                1000\n",
       "bkg_class              1000\n",
       "cab_class              1000\n",
       "brd_time               1000\n",
       "off_time               1000\n",
       "pax                    1000\n",
       "year                   1000\n",
       "month                  1000\n",
       "oid                    1000\n",
       "dtype: int64"
      ]
     },
     "execution_count": 14,
     "metadata": {},
     "output_type": "execute_result"
    }
   ],
   "source": [
    "b.count()"
   ]
  },
  {
   "cell_type": "code",
   "execution_count": 15,
   "metadata": {
    "collapsed": false,
    "deletable": true,
    "editable": true
   },
   "outputs": [
    {
     "data": {
      "text/html": [
       "<div>\n",
       "<table border=\"1\" class=\"dataframe\">\n",
       "  <thead>\n",
       "    <tr style=\"text-align: right;\">\n",
       "      <th></th>\n",
       "      <th>act_date</th>\n",
       "      <th>source</th>\n",
       "      <th>pos_ctry</th>\n",
       "      <th>pos_iata</th>\n",
       "      <th>pos_oid</th>\n",
       "      <th>rloc</th>\n",
       "      <th>cre_date</th>\n",
       "      <th>duration</th>\n",
       "      <th>distance</th>\n",
       "      <th>dep_port</th>\n",
       "      <th>dep_city</th>\n",
       "      <th>dep_ctry</th>\n",
       "      <th>arr_port</th>\n",
       "      <th>arr_city</th>\n",
       "      <th>arr_ctry</th>\n",
       "      <th>lst_port</th>\n",
       "      <th>lst_city</th>\n",
       "      <th>lst_ctry</th>\n",
       "      <th>brd_port</th>\n",
       "      <th>brd_city</th>\n",
       "      <th>brd_ctry</th>\n",
       "      <th>off_port</th>\n",
       "      <th>off_city</th>\n",
       "      <th>off_ctry</th>\n",
       "      <th>mkt_port</th>\n",
       "      <th>mkt_city</th>\n",
       "      <th>mkt_ctry</th>\n",
       "      <th>intl</th>\n",
       "      <th>route</th>\n",
       "      <th>carrier</th>\n",
       "      <th>bkg_class</th>\n",
       "      <th>cab_class</th>\n",
       "      <th>brd_time</th>\n",
       "      <th>off_time</th>\n",
       "      <th>pax</th>\n",
       "      <th>year</th>\n",
       "      <th>month</th>\n",
       "      <th>oid</th>\n",
       "    </tr>\n",
       "  </thead>\n",
       "  <tbody>\n",
       "    <tr>\n",
       "      <th>995</th>\n",
       "      <td>2013-03-23 00:00:00</td>\n",
       "      <td>1P</td>\n",
       "      <td>US</td>\n",
       "      <td>bfafedb1505531ad8e70e176941a7ad0</td>\n",
       "      <td>804deeaddf16e6a93d36e5d046040d60</td>\n",
       "      <td>be83fd657625d53f58c5d3070cdb41b8</td>\n",
       "      <td>2013-03-06 00:00:00</td>\n",
       "      <td>5570</td>\n",
       "      <td>0</td>\n",
       "      <td>SLC</td>\n",
       "      <td>SLC</td>\n",
       "      <td>US</td>\n",
       "      <td>MSN</td>\n",
       "      <td>MSN</td>\n",
       "      <td>US</td>\n",
       "      <td>SLC</td>\n",
       "      <td>SLC</td>\n",
       "      <td>US</td>\n",
       "      <td>SLC</td>\n",
       "      <td>SLC</td>\n",
       "      <td>US</td>\n",
       "      <td>MSN</td>\n",
       "      <td>MSN</td>\n",
       "      <td>US</td>\n",
       "      <td>MSNSLC</td>\n",
       "      <td>MSNSLC</td>\n",
       "      <td>USUS</td>\n",
       "      <td>0</td>\n",
       "      <td>SLCMSN</td>\n",
       "      <td>NV</td>\n",
       "      <td>K</td>\n",
       "      <td>Y</td>\n",
       "      <td>2013-05-20 14:00:00</td>\n",
       "      <td>2013-05-20 18:00:55</td>\n",
       "      <td>1</td>\n",
       "      <td>2013</td>\n",
       "      <td>3</td>\n",
       "      <td>NULL</td>\n",
       "    </tr>\n",
       "    <tr>\n",
       "      <th>996</th>\n",
       "      <td>2013-03-06 00:00:00</td>\n",
       "      <td>1P</td>\n",
       "      <td>US</td>\n",
       "      <td>83ccf07a55606976f78e63fcc805f58c</td>\n",
       "      <td>1490c3c5f95f04fa076fe15c775a80a9</td>\n",
       "      <td>691f15622668e671f51ba033ea904398</td>\n",
       "      <td>2013-03-06 00:00:00</td>\n",
       "      <td>4664</td>\n",
       "      <td>0</td>\n",
       "      <td>SNA</td>\n",
       "      <td>SNA</td>\n",
       "      <td>US</td>\n",
       "      <td>SFO</td>\n",
       "      <td>SFO</td>\n",
       "      <td>US</td>\n",
       "      <td>SNA</td>\n",
       "      <td>SNA</td>\n",
       "      <td>US</td>\n",
       "      <td>SNA</td>\n",
       "      <td>SNA</td>\n",
       "      <td>US</td>\n",
       "      <td>SFO</td>\n",
       "      <td>SFO</td>\n",
       "      <td>US</td>\n",
       "      <td>SFOSNA</td>\n",
       "      <td>SFOSNA</td>\n",
       "      <td>USUS</td>\n",
       "      <td>0</td>\n",
       "      <td>SNASFO</td>\n",
       "      <td>FK</td>\n",
       "      <td>V</td>\n",
       "      <td>Y</td>\n",
       "      <td>2013-03-17 13:31:00</td>\n",
       "      <td>2013-03-17 15:01:12</td>\n",
       "      <td>1</td>\n",
       "      <td>2013</td>\n",
       "      <td>3</td>\n",
       "      <td>NULL</td>\n",
       "    </tr>\n",
       "    <tr>\n",
       "      <th>997</th>\n",
       "      <td>2013-03-06 00:00:00</td>\n",
       "      <td>1P</td>\n",
       "      <td>US</td>\n",
       "      <td>83ccf07a55606976f78e63fcc805f58c</td>\n",
       "      <td>1490c3c5f95f04fa076fe15c775a80a9</td>\n",
       "      <td>691f15622668e671f51ba033ea904398</td>\n",
       "      <td>2013-03-06 00:00:00</td>\n",
       "      <td>4664</td>\n",
       "      <td>0</td>\n",
       "      <td>SNA</td>\n",
       "      <td>SNA</td>\n",
       "      <td>US</td>\n",
       "      <td>SFO</td>\n",
       "      <td>SFO</td>\n",
       "      <td>US</td>\n",
       "      <td>SNA</td>\n",
       "      <td>SNA</td>\n",
       "      <td>US</td>\n",
       "      <td>SFO</td>\n",
       "      <td>SFO</td>\n",
       "      <td>US</td>\n",
       "      <td>SNA</td>\n",
       "      <td>SNA</td>\n",
       "      <td>US</td>\n",
       "      <td>SFOSNA</td>\n",
       "      <td>SFOSNA</td>\n",
       "      <td>USUS</td>\n",
       "      <td>0</td>\n",
       "      <td>SFOSNA</td>\n",
       "      <td>FK</td>\n",
       "      <td>W</td>\n",
       "      <td>Y</td>\n",
       "      <td>2013-03-20 17:45:00</td>\n",
       "      <td>2013-03-20 19:15:12</td>\n",
       "      <td>1</td>\n",
       "      <td>2013</td>\n",
       "      <td>3</td>\n",
       "      <td>NULL</td>\n",
       "    </tr>\n",
       "    <tr>\n",
       "      <th>998</th>\n",
       "      <td>2013-03-06 00:00:00</td>\n",
       "      <td>1P</td>\n",
       "      <td>US</td>\n",
       "      <td>0deb0937d0f143f79505297b235eaeeb</td>\n",
       "      <td>f4ae494f0ebec1d84f6e01750d61747d</td>\n",
       "      <td>bed521f09feee94fcb87f705267b0327</td>\n",
       "      <td>2013-03-06 00:00:00</td>\n",
       "      <td>331</td>\n",
       "      <td>2598</td>\n",
       "      <td>LAX</td>\n",
       "      <td>LAX</td>\n",
       "      <td>US</td>\n",
       "      <td>MEM</td>\n",
       "      <td>MEM</td>\n",
       "      <td>US</td>\n",
       "      <td>MEM</td>\n",
       "      <td>MEM</td>\n",
       "      <td>US</td>\n",
       "      <td>LAX</td>\n",
       "      <td>LAX</td>\n",
       "      <td>US</td>\n",
       "      <td>MEM</td>\n",
       "      <td>MEM</td>\n",
       "      <td>US</td>\n",
       "      <td>LAXMEM</td>\n",
       "      <td>LAXMEM</td>\n",
       "      <td>USUS</td>\n",
       "      <td>0</td>\n",
       "      <td>LAXDFWMEM</td>\n",
       "      <td>KK</td>\n",
       "      <td>Y</td>\n",
       "      <td>Y</td>\n",
       "      <td>2013-03-09 07:30:00</td>\n",
       "      <td>2013-03-09 15:01:52</td>\n",
       "      <td>1</td>\n",
       "      <td>2013</td>\n",
       "      <td>3</td>\n",
       "      <td>NULL</td>\n",
       "    </tr>\n",
       "    <tr>\n",
       "      <th>999</th>\n",
       "      <td>2013-03-07 00:00:00</td>\n",
       "      <td>1P</td>\n",
       "      <td>US</td>\n",
       "      <td>0deb0937d0f143f79505297b235eaeeb</td>\n",
       "      <td>f4ae494f0ebec1d84f6e01750d61747d</td>\n",
       "      <td>bed521f09feee94fcb87f705267b0327</td>\n",
       "      <td>2013-03-06 00:00:00</td>\n",
       "      <td>331</td>\n",
       "      <td>2598</td>\n",
       "      <td>LAX</td>\n",
       "      <td>LAX</td>\n",
       "      <td>US</td>\n",
       "      <td>MEM</td>\n",
       "      <td>MEM</td>\n",
       "      <td>US</td>\n",
       "      <td>MEM</td>\n",
       "      <td>MEM</td>\n",
       "      <td>US</td>\n",
       "      <td>LAX</td>\n",
       "      <td>LAX</td>\n",
       "      <td>US</td>\n",
       "      <td>MEM</td>\n",
       "      <td>MEM</td>\n",
       "      <td>US</td>\n",
       "      <td>LAXMEM</td>\n",
       "      <td>LAXMEM</td>\n",
       "      <td>USUS</td>\n",
       "      <td>0</td>\n",
       "      <td>LAXDFWMEM</td>\n",
       "      <td>KK</td>\n",
       "      <td>Y</td>\n",
       "      <td>Y</td>\n",
       "      <td>2013-03-09 07:30:00</td>\n",
       "      <td>2013-03-09 15:01:52</td>\n",
       "      <td>-1</td>\n",
       "      <td>2013</td>\n",
       "      <td>3</td>\n",
       "      <td>NULL</td>\n",
       "    </tr>\n",
       "  </tbody>\n",
       "</table>\n",
       "</div>"
      ],
      "text/plain": [
       "     act_date             source  pos_ctry                          pos_iata  \\\n",
       "995  2013-03-23 00:00:00  1P      US        bfafedb1505531ad8e70e176941a7ad0   \n",
       "996  2013-03-06 00:00:00  1P      US        83ccf07a55606976f78e63fcc805f58c   \n",
       "997  2013-03-06 00:00:00  1P      US        83ccf07a55606976f78e63fcc805f58c   \n",
       "998  2013-03-06 00:00:00  1P      US        0deb0937d0f143f79505297b235eaeeb   \n",
       "999  2013-03-07 00:00:00  1P      US        0deb0937d0f143f79505297b235eaeeb   \n",
       "\n",
       "                            pos_oid                      rloc            \\\n",
       "995  804deeaddf16e6a93d36e5d046040d60  be83fd657625d53f58c5d3070cdb41b8   \n",
       "996  1490c3c5f95f04fa076fe15c775a80a9  691f15622668e671f51ba033ea904398   \n",
       "997  1490c3c5f95f04fa076fe15c775a80a9  691f15622668e671f51ba033ea904398   \n",
       "998  f4ae494f0ebec1d84f6e01750d61747d  bed521f09feee94fcb87f705267b0327   \n",
       "999  f4ae494f0ebec1d84f6e01750d61747d  bed521f09feee94fcb87f705267b0327   \n",
       "\n",
       "     cre_date             duration  distance  dep_port  dep_city  dep_ctry  \\\n",
       "995  2013-03-06 00:00:00      5570         0  SLC       SLC       US         \n",
       "996  2013-03-06 00:00:00      4664         0  SNA       SNA       US         \n",
       "997  2013-03-06 00:00:00      4664         0  SNA       SNA       US         \n",
       "998  2013-03-06 00:00:00       331      2598  LAX       LAX       US         \n",
       "999  2013-03-06 00:00:00       331      2598  LAX       LAX       US         \n",
       "\n",
       "     arr_port  arr_city  arr_ctry  lst_port  lst_city  lst_ctry  brd_port  \\\n",
       "995  MSN       MSN       US        SLC       SLC       US        SLC        \n",
       "996  SFO       SFO       US        SNA       SNA       US        SNA        \n",
       "997  SFO       SFO       US        SNA       SNA       US        SFO        \n",
       "998  MEM       MEM       US        MEM       MEM       US        LAX        \n",
       "999  MEM       MEM       US        MEM       MEM       US        LAX        \n",
       "\n",
       "     brd_city  brd_ctry  off_port  off_city  off_ctry  mkt_port  mkt_city  \\\n",
       "995  SLC       US        MSN       MSN       US        MSNSLC    MSNSLC     \n",
       "996  SNA       US        SFO       SFO       US        SFOSNA    SFOSNA     \n",
       "997  SFO       US        SNA       SNA       US        SFOSNA    SFOSNA     \n",
       "998  LAX       US        MEM       MEM       US        LAXMEM    LAXMEM     \n",
       "999  LAX       US        MEM       MEM       US        LAXMEM    LAXMEM     \n",
       "\n",
       "     mkt_ctry  intl  route           carrier  bkg_class  cab_class  \\\n",
       "995  USUS         0  SLCMSN               NV  K          Y           \n",
       "996  USUS         0  SNASFO               FK  V          Y           \n",
       "997  USUS         0  SFOSNA               FK  W          Y           \n",
       "998  USUS         0  LAXDFWMEM            KK  Y          Y           \n",
       "999  USUS         0  LAXDFWMEM            KK  Y          Y           \n",
       "\n",
       "     brd_time             off_time             pax  year  month  oid        \n",
       "995  2013-05-20 14:00:00  2013-05-20 18:00:55    1  2013      3  NULL       \n",
       "996  2013-03-17 13:31:00  2013-03-17 15:01:12    1  2013      3  NULL       \n",
       "997  2013-03-20 17:45:00  2013-03-20 19:15:12    1  2013      3  NULL       \n",
       "998  2013-03-09 07:30:00  2013-03-09 15:01:52    1  2013      3  NULL       \n",
       "999  2013-03-09 07:30:00  2013-03-09 15:01:52   -1  2013      3  NULL       "
      ]
     },
     "execution_count": 15,
     "metadata": {},
     "output_type": "execute_result"
    }
   ],
   "source": [
    "b.tail()"
   ]
  },
  {
   "cell_type": "code",
   "execution_count": 16,
   "metadata": {
    "collapsed": false,
    "deletable": true,
    "editable": true
   },
   "outputs": [
    {
     "data": {
      "text/plain": [
       "Index([u'act_date           ', u'source', u'pos_ctry', u'pos_iata',\n",
       "       u'pos_oid  ', u'rloc          ', u'cre_date           ', u'duration',\n",
       "       u'distance', u'dep_port', u'dep_city', u'dep_ctry', u'arr_port',\n",
       "       u'arr_city', u'arr_ctry', u'lst_port', u'lst_city', u'lst_ctry',\n",
       "       u'brd_port', u'brd_city', u'brd_ctry', u'off_port', u'off_city',\n",
       "       u'off_ctry', u'mkt_port', u'mkt_city', u'mkt_ctry', u'intl',\n",
       "       u'route          ', u'carrier', u'bkg_class', u'cab_class',\n",
       "       u'brd_time           ', u'off_time           ', u'pax', u'year',\n",
       "       u'month', u'oid      '],\n",
       "      dtype='object')"
      ]
     },
     "execution_count": 16,
     "metadata": {},
     "output_type": "execute_result"
    }
   ],
   "source": [
    "b.columns"
   ]
  },
  {
   "cell_type": "code",
   "execution_count": 17,
   "metadata": {
    "collapsed": false,
    "deletable": true,
    "editable": true
   },
   "outputs": [
    {
     "data": {
      "text/plain": [
       "['act_date           ',\n",
       " 'source',\n",
       " 'pos_ctry',\n",
       " 'pos_iata',\n",
       " 'pos_oid  ',\n",
       " 'rloc          ',\n",
       " 'cre_date           ',\n",
       " 'duration',\n",
       " 'distance',\n",
       " 'dep_port',\n",
       " 'dep_city',\n",
       " 'dep_ctry',\n",
       " 'arr_port',\n",
       " 'arr_city',\n",
       " 'arr_ctry',\n",
       " 'lst_port',\n",
       " 'lst_city',\n",
       " 'lst_ctry',\n",
       " 'brd_port',\n",
       " 'brd_city',\n",
       " 'brd_ctry',\n",
       " 'off_port',\n",
       " 'off_city',\n",
       " 'off_ctry',\n",
       " 'mkt_port',\n",
       " 'mkt_city',\n",
       " 'mkt_ctry',\n",
       " 'intl',\n",
       " 'route          ',\n",
       " 'carrier',\n",
       " 'bkg_class',\n",
       " 'cab_class',\n",
       " 'brd_time           ',\n",
       " 'off_time           ',\n",
       " 'pax',\n",
       " 'year',\n",
       " 'month',\n",
       " 'oid      ']"
      ]
     },
     "execution_count": 17,
     "metadata": {},
     "output_type": "execute_result"
    }
   ],
   "source": [
    "b.columns.tolist()"
   ]
  },
  {
   "cell_type": "code",
   "execution_count": 18,
   "metadata": {
    "collapsed": true,
    "deletable": true,
    "editable": true
   },
   "outputs": [],
   "source": [
    "b.columns=b.columns.str.strip()"
   ]
  },
  {
   "cell_type": "code",
   "execution_count": 19,
   "metadata": {
    "collapsed": false,
    "deletable": true,
    "editable": true
   },
   "outputs": [
    {
     "data": {
      "text/plain": [
       "Index([u'act_date', u'source', u'pos_ctry', u'pos_iata', u'pos_oid', u'rloc',\n",
       "       u'cre_date', u'duration', u'distance', u'dep_port', u'dep_city',\n",
       "       u'dep_ctry', u'arr_port', u'arr_city', u'arr_ctry', u'lst_port',\n",
       "       u'lst_city', u'lst_ctry', u'brd_port', u'brd_city', u'brd_ctry',\n",
       "       u'off_port', u'off_city', u'off_ctry', u'mkt_port', u'mkt_city',\n",
       "       u'mkt_ctry', u'intl', u'route', u'carrier', u'bkg_class', u'cab_class',\n",
       "       u'brd_time', u'off_time', u'pax', u'year', u'month', u'oid'],\n",
       "      dtype='object')"
      ]
     },
     "execution_count": 19,
     "metadata": {},
     "output_type": "execute_result"
    }
   ],
   "source": [
    "b.columns"
   ]
  },
  {
   "cell_type": "markdown",
   "metadata": {
    "deletable": true,
    "editable": true
   },
   "source": [
    "## 2) Select the columns of interest "
   ]
  },
  {
   "cell_type": "code",
   "execution_count": 20,
   "metadata": {
    "collapsed": true,
    "deletable": true,
    "editable": true
   },
   "outputs": [],
   "source": [
    "b=pd.read_csv('bookings.sample.csv.bz2', sep='^', usecols=['arr_port','pax','year'])"
   ]
  },
  {
   "cell_type": "code",
   "execution_count": 21,
   "metadata": {
    "collapsed": false,
    "deletable": true,
    "editable": true
   },
   "outputs": [
    {
     "data": {
      "text/html": [
       "<div>\n",
       "<table border=\"1\" class=\"dataframe\">\n",
       "  <thead>\n",
       "    <tr style=\"text-align: right;\">\n",
       "      <th></th>\n",
       "      <th>arr_port</th>\n",
       "      <th>pax</th>\n",
       "      <th>year</th>\n",
       "    </tr>\n",
       "  </thead>\n",
       "  <tbody>\n",
       "    <tr>\n",
       "      <th>0</th>\n",
       "      <td>LHR</td>\n",
       "      <td>-1</td>\n",
       "      <td>2013</td>\n",
       "    </tr>\n",
       "    <tr>\n",
       "      <th>1</th>\n",
       "      <td>CLT</td>\n",
       "      <td>1</td>\n",
       "      <td>2013</td>\n",
       "    </tr>\n",
       "    <tr>\n",
       "      <th>2</th>\n",
       "      <td>CLT</td>\n",
       "      <td>1</td>\n",
       "      <td>2013</td>\n",
       "    </tr>\n",
       "    <tr>\n",
       "      <th>3</th>\n",
       "      <td>SVO</td>\n",
       "      <td>1</td>\n",
       "      <td>2013</td>\n",
       "    </tr>\n",
       "    <tr>\n",
       "      <th>4</th>\n",
       "      <td>SVO</td>\n",
       "      <td>1</td>\n",
       "      <td>2013</td>\n",
       "    </tr>\n",
       "  </tbody>\n",
       "</table>\n",
       "</div>"
      ],
      "text/plain": [
       "   arr_port  pax  year\n",
       "0  LHR        -1  2013\n",
       "1  CLT         1  2013\n",
       "2  CLT         1  2013\n",
       "3  SVO         1  2013\n",
       "4  SVO         1  2013"
      ]
     },
     "execution_count": 21,
     "metadata": {},
     "output_type": "execute_result"
    }
   ],
   "source": [
    "b.head()"
   ]
  },
  {
   "cell_type": "markdown",
   "metadata": {
    "deletable": true,
    "editable": true
   },
   "source": [
    "## 3) What to do with NaN?\n",
    "\n"
   ]
  },
  {
   "cell_type": "raw",
   "metadata": {
    "deletable": true,
    "editable": true
   },
   "source": [
    "in the sample everything might be ok, but we should prepare fot NaN case"
   ]
  },
  {
   "cell_type": "code",
   "execution_count": 22,
   "metadata": {
    "collapsed": false,
    "deletable": true,
    "editable": true
   },
   "outputs": [
    {
     "data": {
      "text/plain": [
       "arr_port    0\n",
       "pax         0\n",
       "year        0\n",
       "dtype: int64"
      ]
     },
     "execution_count": 22,
     "metadata": {},
     "output_type": "execute_result"
    }
   ],
   "source": [
    "b.isnull().sum()"
   ]
  },
  {
   "cell_type": "code",
   "execution_count": 23,
   "metadata": {
    "collapsed": true,
    "deletable": true,
    "editable": true
   },
   "outputs": [],
   "source": [
    "b=b.dropna()"
   ]
  },
  {
   "cell_type": "markdown",
   "metadata": {
    "deletable": true,
    "editable": true
   },
   "source": [
    "#### What does df.dropna() do?"
   ]
  },
  {
   "cell_type": "code",
   "execution_count": 24,
   "metadata": {
    "collapsed": false,
    "deletable": true,
    "editable": true
   },
   "outputs": [
    {
     "data": {
      "text/html": [
       "<div>\n",
       "<table border=\"1\" class=\"dataframe\">\n",
       "  <thead>\n",
       "    <tr style=\"text-align: right;\">\n",
       "      <th></th>\n",
       "      <th>one</th>\n",
       "      <th>two</th>\n",
       "    </tr>\n",
       "  </thead>\n",
       "  <tbody>\n",
       "    <tr>\n",
       "      <th>0</th>\n",
       "      <td>1.016081</td>\n",
       "      <td>0.272905</td>\n",
       "    </tr>\n",
       "    <tr>\n",
       "      <th>1</th>\n",
       "      <td>-1.133663</td>\n",
       "      <td>0.538976</td>\n",
       "    </tr>\n",
       "    <tr>\n",
       "      <th>2</th>\n",
       "      <td>0.427253</td>\n",
       "      <td>-2.180686</td>\n",
       "    </tr>\n",
       "    <tr>\n",
       "      <th>3</th>\n",
       "      <td>0.788693</td>\n",
       "      <td>-1.097824</td>\n",
       "    </tr>\n",
       "    <tr>\n",
       "      <th>4</th>\n",
       "      <td>-0.162133</td>\n",
       "      <td>-1.669835</td>\n",
       "    </tr>\n",
       "  </tbody>\n",
       "</table>\n",
       "</div>"
      ],
      "text/plain": [
       "        one       two\n",
       "0  1.016081  0.272905\n",
       "1 -1.133663  0.538976\n",
       "2  0.427253 -2.180686\n",
       "3  0.788693 -1.097824\n",
       "4 -0.162133 -1.669835"
      ]
     },
     "execution_count": 24,
     "metadata": {},
     "output_type": "execute_result"
    }
   ],
   "source": [
    "import numpy as np\n",
    "import pandas as pd\n",
    "data=np.random.randn(5,2)\n",
    "df=pd.DataFrame(data, columns=['one','two'])\n",
    "df"
   ]
  },
  {
   "cell_type": "code",
   "execution_count": 25,
   "metadata": {
    "collapsed": true,
    "deletable": true,
    "editable": true
   },
   "outputs": [],
   "source": [
    "df['three']=[None, None, 1, 2, None]"
   ]
  },
  {
   "cell_type": "code",
   "execution_count": 26,
   "metadata": {
    "collapsed": false,
    "deletable": true,
    "editable": true
   },
   "outputs": [
    {
     "data": {
      "text/html": [
       "<div>\n",
       "<table border=\"1\" class=\"dataframe\">\n",
       "  <thead>\n",
       "    <tr style=\"text-align: right;\">\n",
       "      <th></th>\n",
       "      <th>one</th>\n",
       "      <th>two</th>\n",
       "      <th>three</th>\n",
       "    </tr>\n",
       "  </thead>\n",
       "  <tbody>\n",
       "    <tr>\n",
       "      <th>0</th>\n",
       "      <td>1.016081</td>\n",
       "      <td>0.272905</td>\n",
       "      <td>NaN</td>\n",
       "    </tr>\n",
       "    <tr>\n",
       "      <th>1</th>\n",
       "      <td>-1.133663</td>\n",
       "      <td>0.538976</td>\n",
       "      <td>NaN</td>\n",
       "    </tr>\n",
       "    <tr>\n",
       "      <th>2</th>\n",
       "      <td>0.427253</td>\n",
       "      <td>-2.180686</td>\n",
       "      <td>1.0</td>\n",
       "    </tr>\n",
       "    <tr>\n",
       "      <th>3</th>\n",
       "      <td>0.788693</td>\n",
       "      <td>-1.097824</td>\n",
       "      <td>2.0</td>\n",
       "    </tr>\n",
       "    <tr>\n",
       "      <th>4</th>\n",
       "      <td>-0.162133</td>\n",
       "      <td>-1.669835</td>\n",
       "      <td>NaN</td>\n",
       "    </tr>\n",
       "  </tbody>\n",
       "</table>\n",
       "</div>"
      ],
      "text/plain": [
       "        one       two  three\n",
       "0  1.016081  0.272905    NaN\n",
       "1 -1.133663  0.538976    NaN\n",
       "2  0.427253 -2.180686    1.0\n",
       "3  0.788693 -1.097824    2.0\n",
       "4 -0.162133 -1.669835    NaN"
      ]
     },
     "execution_count": 26,
     "metadata": {},
     "output_type": "execute_result"
    }
   ],
   "source": [
    "df"
   ]
  },
  {
   "cell_type": "code",
   "execution_count": 27,
   "metadata": {
    "collapsed": false,
    "deletable": true,
    "editable": true
   },
   "outputs": [
    {
     "data": {
      "text/html": [
       "<div>\n",
       "<table border=\"1\" class=\"dataframe\">\n",
       "  <thead>\n",
       "    <tr style=\"text-align: right;\">\n",
       "      <th></th>\n",
       "      <th>one</th>\n",
       "      <th>two</th>\n",
       "      <th>three</th>\n",
       "    </tr>\n",
       "  </thead>\n",
       "  <tbody>\n",
       "    <tr>\n",
       "      <th>2</th>\n",
       "      <td>0.427253</td>\n",
       "      <td>-2.180686</td>\n",
       "      <td>1.0</td>\n",
       "    </tr>\n",
       "    <tr>\n",
       "      <th>3</th>\n",
       "      <td>0.788693</td>\n",
       "      <td>-1.097824</td>\n",
       "      <td>2.0</td>\n",
       "    </tr>\n",
       "  </tbody>\n",
       "</table>\n",
       "</div>"
      ],
      "text/plain": [
       "        one       two  three\n",
       "2  0.427253 -2.180686    1.0\n",
       "3  0.788693 -1.097824    2.0"
      ]
     },
     "execution_count": 27,
     "metadata": {},
     "output_type": "execute_result"
    }
   ],
   "source": [
    "df.dropna()"
   ]
  },
  {
   "cell_type": "code",
   "execution_count": 28,
   "metadata": {
    "collapsed": false,
    "deletable": true,
    "editable": true
   },
   "outputs": [
    {
     "data": {
      "text/html": [
       "<div>\n",
       "<table border=\"1\" class=\"dataframe\">\n",
       "  <thead>\n",
       "    <tr style=\"text-align: right;\">\n",
       "      <th></th>\n",
       "      <th>one</th>\n",
       "      <th>two</th>\n",
       "      <th>three</th>\n",
       "    </tr>\n",
       "  </thead>\n",
       "  <tbody>\n",
       "    <tr>\n",
       "      <th>0</th>\n",
       "      <td>1.016081</td>\n",
       "      <td>0.272905</td>\n",
       "      <td>NaN</td>\n",
       "    </tr>\n",
       "    <tr>\n",
       "      <th>1</th>\n",
       "      <td>-1.133663</td>\n",
       "      <td>0.538976</td>\n",
       "      <td>NaN</td>\n",
       "    </tr>\n",
       "    <tr>\n",
       "      <th>2</th>\n",
       "      <td>0.427253</td>\n",
       "      <td>-2.180686</td>\n",
       "      <td>1.0</td>\n",
       "    </tr>\n",
       "    <tr>\n",
       "      <th>3</th>\n",
       "      <td>0.788693</td>\n",
       "      <td>-1.097824</td>\n",
       "      <td>2.0</td>\n",
       "    </tr>\n",
       "    <tr>\n",
       "      <th>4</th>\n",
       "      <td>-0.162133</td>\n",
       "      <td>-1.669835</td>\n",
       "      <td>NaN</td>\n",
       "    </tr>\n",
       "  </tbody>\n",
       "</table>\n",
       "</div>"
      ],
      "text/plain": [
       "        one       two  three\n",
       "0  1.016081  0.272905    NaN\n",
       "1 -1.133663  0.538976    NaN\n",
       "2  0.427253 -2.180686    1.0\n",
       "3  0.788693 -1.097824    2.0\n",
       "4 -0.162133 -1.669835    NaN"
      ]
     },
     "execution_count": 28,
     "metadata": {},
     "output_type": "execute_result"
    }
   ],
   "source": [
    "df.dropna(how='all')"
   ]
  },
  {
   "cell_type": "code",
   "execution_count": 29,
   "metadata": {
    "collapsed": false,
    "deletable": true,
    "editable": true
   },
   "outputs": [
    {
     "data": {
      "text/html": [
       "<div>\n",
       "<table border=\"1\" class=\"dataframe\">\n",
       "  <thead>\n",
       "    <tr style=\"text-align: right;\">\n",
       "      <th></th>\n",
       "      <th>one</th>\n",
       "      <th>two</th>\n",
       "    </tr>\n",
       "  </thead>\n",
       "  <tbody>\n",
       "    <tr>\n",
       "      <th>0</th>\n",
       "      <td>1.016081</td>\n",
       "      <td>0.272905</td>\n",
       "    </tr>\n",
       "    <tr>\n",
       "      <th>1</th>\n",
       "      <td>-1.133663</td>\n",
       "      <td>0.538976</td>\n",
       "    </tr>\n",
       "    <tr>\n",
       "      <th>2</th>\n",
       "      <td>0.427253</td>\n",
       "      <td>-2.180686</td>\n",
       "    </tr>\n",
       "    <tr>\n",
       "      <th>3</th>\n",
       "      <td>0.788693</td>\n",
       "      <td>-1.097824</td>\n",
       "    </tr>\n",
       "    <tr>\n",
       "      <th>4</th>\n",
       "      <td>-0.162133</td>\n",
       "      <td>-1.669835</td>\n",
       "    </tr>\n",
       "  </tbody>\n",
       "</table>\n",
       "</div>"
      ],
      "text/plain": [
       "        one       two\n",
       "0  1.016081  0.272905\n",
       "1 -1.133663  0.538976\n",
       "2  0.427253 -2.180686\n",
       "3  0.788693 -1.097824\n",
       "4 -0.162133 -1.669835"
      ]
     },
     "execution_count": 29,
     "metadata": {},
     "output_type": "execute_result"
    }
   ],
   "source": [
    "df.dropna(how='any', axis=1)"
   ]
  },
  {
   "cell_type": "markdown",
   "metadata": {
    "deletable": true,
    "editable": true
   },
   "source": [
    "#### What if we want to drop just based on second column NaN?"
   ]
  },
  {
   "cell_type": "code",
   "execution_count": 30,
   "metadata": {
    "collapsed": false,
    "deletable": true,
    "editable": true
   },
   "outputs": [
    {
     "data": {
      "text/plain": [
       "0    False\n",
       "1     True\n",
       "2    False\n",
       "3    False\n",
       "4    False\n",
       "Name: two, dtype: bool"
      ]
     },
     "execution_count": 30,
     "metadata": {},
     "output_type": "execute_result"
    }
   ],
   "source": [
    "df['three']=[None, None, 1, 2, None]\n",
    "df['two'][1]=None\n",
    "df['two'].isnull()"
   ]
  },
  {
   "cell_type": "code",
   "execution_count": 31,
   "metadata": {
    "collapsed": false,
    "deletable": true,
    "editable": true
   },
   "outputs": [
    {
     "data": {
      "text/plain": [
       "0     True\n",
       "1    False\n",
       "2     True\n",
       "3     True\n",
       "4     True\n",
       "Name: two, dtype: bool"
      ]
     },
     "execution_count": 31,
     "metadata": {},
     "output_type": "execute_result"
    }
   ],
   "source": [
    "~df['two'].isnull()"
   ]
  },
  {
   "cell_type": "code",
   "execution_count": 32,
   "metadata": {
    "collapsed": false,
    "deletable": true,
    "editable": true
   },
   "outputs": [
    {
     "data": {
      "text/html": [
       "<div>\n",
       "<table border=\"1\" class=\"dataframe\">\n",
       "  <thead>\n",
       "    <tr style=\"text-align: right;\">\n",
       "      <th></th>\n",
       "      <th>one</th>\n",
       "      <th>two</th>\n",
       "      <th>three</th>\n",
       "    </tr>\n",
       "  </thead>\n",
       "  <tbody>\n",
       "    <tr>\n",
       "      <th>0</th>\n",
       "      <td>1.016081</td>\n",
       "      <td>0.272905</td>\n",
       "      <td>NaN</td>\n",
       "    </tr>\n",
       "    <tr>\n",
       "      <th>2</th>\n",
       "      <td>0.427253</td>\n",
       "      <td>-2.180686</td>\n",
       "      <td>1.0</td>\n",
       "    </tr>\n",
       "    <tr>\n",
       "      <th>3</th>\n",
       "      <td>0.788693</td>\n",
       "      <td>-1.097824</td>\n",
       "      <td>2.0</td>\n",
       "    </tr>\n",
       "    <tr>\n",
       "      <th>4</th>\n",
       "      <td>-0.162133</td>\n",
       "      <td>-1.669835</td>\n",
       "      <td>NaN</td>\n",
       "    </tr>\n",
       "  </tbody>\n",
       "</table>\n",
       "</div>"
      ],
      "text/plain": [
       "        one       two  three\n",
       "0  1.016081  0.272905    NaN\n",
       "2  0.427253 -2.180686    1.0\n",
       "3  0.788693 -1.097824    2.0\n",
       "4 -0.162133 -1.669835    NaN"
      ]
     },
     "execution_count": 32,
     "metadata": {},
     "output_type": "execute_result"
    }
   ],
   "source": [
    "df[~(df['two'].isnull())]"
   ]
  },
  {
   "cell_type": "code",
   "execution_count": null,
   "metadata": {
    "collapsed": true,
    "deletable": true,
    "editable": true
   },
   "outputs": [],
   "source": []
  },
  {
   "cell_type": "markdown",
   "metadata": {
    "deletable": true,
    "editable": true
   },
   "source": [
    "### What do we have so far?"
   ]
  },
  {
   "cell_type": "code",
   "execution_count": 33,
   "metadata": {
    "collapsed": false,
    "deletable": true,
    "editable": true
   },
   "outputs": [
    {
     "data": {
      "text/html": [
       "<div>\n",
       "<table border=\"1\" class=\"dataframe\">\n",
       "  <thead>\n",
       "    <tr style=\"text-align: right;\">\n",
       "      <th></th>\n",
       "      <th>arr_port</th>\n",
       "      <th>pax</th>\n",
       "      <th>year</th>\n",
       "    </tr>\n",
       "  </thead>\n",
       "  <tbody>\n",
       "    <tr>\n",
       "      <th>0</th>\n",
       "      <td>LHR</td>\n",
       "      <td>-1</td>\n",
       "      <td>2013</td>\n",
       "    </tr>\n",
       "    <tr>\n",
       "      <th>1</th>\n",
       "      <td>CLT</td>\n",
       "      <td>1</td>\n",
       "      <td>2013</td>\n",
       "    </tr>\n",
       "    <tr>\n",
       "      <th>2</th>\n",
       "      <td>CLT</td>\n",
       "      <td>1</td>\n",
       "      <td>2013</td>\n",
       "    </tr>\n",
       "    <tr>\n",
       "      <th>3</th>\n",
       "      <td>SVO</td>\n",
       "      <td>1</td>\n",
       "      <td>2013</td>\n",
       "    </tr>\n",
       "    <tr>\n",
       "      <th>4</th>\n",
       "      <td>SVO</td>\n",
       "      <td>1</td>\n",
       "      <td>2013</td>\n",
       "    </tr>\n",
       "  </tbody>\n",
       "</table>\n",
       "</div>"
      ],
      "text/plain": [
       "   arr_port  pax  year\n",
       "0  LHR        -1  2013\n",
       "1  CLT         1  2013\n",
       "2  CLT         1  2013\n",
       "3  SVO         1  2013\n",
       "4  SVO         1  2013"
      ]
     },
     "execution_count": 33,
     "metadata": {},
     "output_type": "execute_result"
    }
   ],
   "source": [
    "import pandas as pd\n",
    "b=pd.read_csv('bookings.sample.csv.bz2', sep='^', usecols=['arr_port','pax','year'])\n",
    "b=b.dropna()\n",
    "b.head()"
   ]
  },
  {
   "cell_type": "code",
   "execution_count": null,
   "metadata": {
    "collapsed": true,
    "deletable": true,
    "editable": true
   },
   "outputs": [],
   "source": []
  },
  {
   "cell_type": "markdown",
   "metadata": {
    "deletable": true,
    "editable": true
   },
   "source": [
    "## 4) make action plan\n"
   ]
  },
  {
   "cell_type": "raw",
   "metadata": {
    "collapsed": true,
    "deletable": true,
    "editable": true
   },
   "source": [
    "1) bookings 2013\n",
    "2) groupby airport\n",
    "3) sum pax\n",
    "4) sort\n",
    "5) top 10"
   ]
  },
  {
   "cell_type": "code",
   "execution_count": 34,
   "metadata": {
    "collapsed": false,
    "deletable": true,
    "editable": true
   },
   "outputs": [
    {
     "name": "stdout",
     "output_type": "stream",
     "text": [
      "999\n",
      "999\n"
     ]
    }
   ],
   "source": [
    "b2 = b[b['year']==2013]\n",
    "print len(b)\n",
    "print len(b2)"
   ]
  },
  {
   "cell_type": "code",
   "execution_count": 35,
   "metadata": {
    "collapsed": false,
    "deletable": true,
    "editable": true
   },
   "outputs": [
    {
     "data": {
      "text/html": [
       "<div>\n",
       "<table border=\"1\" class=\"dataframe\">\n",
       "  <thead>\n",
       "    <tr style=\"text-align: right;\">\n",
       "      <th></th>\n",
       "      <th>arr_port</th>\n",
       "      <th>pax</th>\n",
       "    </tr>\n",
       "  </thead>\n",
       "  <tbody>\n",
       "    <tr>\n",
       "      <th>0</th>\n",
       "      <td>LHR</td>\n",
       "      <td>-1</td>\n",
       "    </tr>\n",
       "    <tr>\n",
       "      <th>1</th>\n",
       "      <td>CLT</td>\n",
       "      <td>1</td>\n",
       "    </tr>\n",
       "    <tr>\n",
       "      <th>2</th>\n",
       "      <td>CLT</td>\n",
       "      <td>1</td>\n",
       "    </tr>\n",
       "    <tr>\n",
       "      <th>3</th>\n",
       "      <td>SVO</td>\n",
       "      <td>1</td>\n",
       "    </tr>\n",
       "    <tr>\n",
       "      <th>4</th>\n",
       "      <td>SVO</td>\n",
       "      <td>1</td>\n",
       "    </tr>\n",
       "  </tbody>\n",
       "</table>\n",
       "</div>"
      ],
      "text/plain": [
       "   arr_port  pax\n",
       "0  LHR        -1\n",
       "1  CLT         1\n",
       "2  CLT         1\n",
       "3  SVO         1\n",
       "4  SVO         1"
      ]
     },
     "execution_count": 35,
     "metadata": {},
     "output_type": "execute_result"
    }
   ],
   "source": [
    "b = b[b['year']==2013]\n",
    "b.drop('year',axis=1, inplace=True)\n",
    "b.head()"
   ]
  },
  {
   "cell_type": "code",
   "execution_count": 36,
   "metadata": {
    "collapsed": false,
    "deletable": true,
    "editable": true
   },
   "outputs": [
    {
     "data": {
      "text/plain": [
       "<pandas.core.groupby.DataFrameGroupBy object at 0x7f5f02566950>"
      ]
     },
     "execution_count": 36,
     "metadata": {},
     "output_type": "execute_result"
    }
   ],
   "source": [
    "arr_ports=b.groupby('arr_port')\n",
    "type(arr_ports)\n",
    "arr_ports"
   ]
  },
  {
   "cell_type": "code",
   "execution_count": 37,
   "metadata": {
    "collapsed": false,
    "deletable": true,
    "editable": true
   },
   "outputs": [
    {
     "name": "stdout",
     "output_type": "stream",
     "text": [
      "ACC     \n",
      "6\n",
      "ADD     \n",
      "2\n"
     ]
    }
   ],
   "source": [
    "for k, (airport, val) in enumerate(arr_ports):\n",
    "    print '%s' %(airport)\n",
    "    print val['pax'].sum()\n",
    "    if k==1:\n",
    "        break"
   ]
  },
  {
   "cell_type": "code",
   "execution_count": 38,
   "metadata": {
    "collapsed": false,
    "deletable": true,
    "editable": true
   },
   "outputs": [
    {
     "data": {
      "text/html": [
       "<div>\n",
       "<table border=\"1\" class=\"dataframe\">\n",
       "  <thead>\n",
       "    <tr style=\"text-align: right;\">\n",
       "      <th></th>\n",
       "      <th>arr_port</th>\n",
       "      <th>pax</th>\n",
       "    </tr>\n",
       "  </thead>\n",
       "  <tbody>\n",
       "    <tr>\n",
       "      <th>118</th>\n",
       "      <td>ACC</td>\n",
       "      <td>3</td>\n",
       "    </tr>\n",
       "    <tr>\n",
       "      <th>119</th>\n",
       "      <td>ACC</td>\n",
       "      <td>3</td>\n",
       "    </tr>\n",
       "  </tbody>\n",
       "</table>\n",
       "</div>"
      ],
      "text/plain": [
       "     arr_port  pax\n",
       "118  ACC         3\n",
       "119  ACC         3"
      ]
     },
     "execution_count": 38,
     "metadata": {},
     "output_type": "execute_result"
    }
   ],
   "source": [
    "arr_ports.get_group('ACC     ')"
   ]
  },
  {
   "cell_type": "code",
   "execution_count": 39,
   "metadata": {
    "collapsed": false,
    "deletable": true,
    "editable": true
   },
   "outputs": [
    {
     "data": {
      "text/plain": [
       "{'ACC     ': Int64Index([118, 119], dtype='int64'),\n",
       " 'ADD     ': Int64Index([207, 208, 301, 302], dtype='int64'),\n",
       " 'AGP     ': Int64Index([397, 398], dtype='int64'),\n",
       " 'ALA     ': Int64Index([76, 77], dtype='int64'),\n",
       " 'ALC     ': Int64Index([909, 910], dtype='int64'),\n",
       " 'ALG     ': Int64Index([34, 35, 36, 37, 558, 559], dtype='int64'),\n",
       " 'AMD     ': Int64Index([732], dtype='int64'),\n",
       " 'AMS     ': Int64Index([494, 888, 889, 890, 891], dtype='int64'),\n",
       " 'ANC     ': Int64Index([432, 433], dtype='int64'),\n",
       " 'ASU     ': Int64Index([548, 549, 550, 551, 724, 725], dtype='int64'),\n",
       " 'ATH     ': Int64Index([313, 314, 739, 748], dtype='int64'),\n",
       " 'ATL     ': Int64Index([147, 404, 908], dtype='int64'),\n",
       " 'ATQ     ': Int64Index([801, 802, 803], dtype='int64'),\n",
       " 'AUH     ': Int64Index([733, 734], dtype='int64'),\n",
       " 'AUS     ': Int64Index([380, 381], dtype='int64'),\n",
       " 'AYT     ': Int64Index([81, 82, 83, 500], dtype='int64'),\n",
       " 'BBI     ': Int64Index([151, 152], dtype='int64'),\n",
       " 'BCN     ': Int64Index([320, 321, 979], dtype='int64'),\n",
       " 'BEY     ': Int64Index([415, 416, 509, 510], dtype='int64'),\n",
       " 'BHM     ': Int64Index([497, 498, 499], dtype='int64'),\n",
       " 'BJV     ': Int64Index([695, 696], dtype='int64'),\n",
       " 'BJX     ': Int64Index([983, 984], dtype='int64'),\n",
       " 'BKK     ': Int64Index([100, 101], dtype='int64'),\n",
       " 'BLQ     ': Int64Index([718, 719], dtype='int64'),\n",
       " 'BLR     ': Int64Index([49, 50, 51, 308], dtype='int64'),\n",
       " 'BNA     ': Int64Index([372, 373, 374, 375, 376, 377, 774, 775, 776, 777], dtype='int64'),\n",
       " 'BNE     ': Int64Index([335, 336, 337, 338, 795, 796], dtype='int64'),\n",
       " 'BOG     ': Int64Index([602, 603, 604, 605, 606, 607, 608, 609], dtype='int64'),\n",
       " 'BOI     ': Int64Index([143, 144, 567], dtype='int64'),\n",
       " 'BOM     ': Int64Index([576, 577, 622, 623, 624], dtype='int64'),\n",
       " 'BOS     ': Int64Index([182, 183, 221, 222, 463, 586, 587, 588, 589], dtype='int64'),\n",
       " 'BRD     ': Int64Index([455, 456], dtype='int64'),\n",
       " 'BRU     ': Int64Index([262, 263, 264, 265, 735, 736], dtype='int64'),\n",
       " 'BUD     ': Int64Index([957, 958, 959, 960], dtype='int64'),\n",
       " 'BUF     ': Int64Index([358, 359], dtype='int64'),\n",
       " 'BWI     ': Int64Index([52, 53, 102, 103], dtype='int64'),\n",
       " 'CAG     ': Int64Index([164, 165, 166, 167], dtype='int64'),\n",
       " 'CAI     ': Int64Index([126, 127, 554, 555], dtype='int64'),\n",
       " 'CAN     ': Int64Index([728, 729, 730, 731], dtype='int64'),\n",
       " 'CBR     ': Int64Index([656, 657, 658, 659], dtype='int64'),\n",
       " 'CCJ     ': Int64Index([324, 325, 326, 327, 477, 478, 479, 480, 481, 482, 483], dtype='int64'),\n",
       " 'CCS     ': Int64Index([354, 355], dtype='int64'),\n",
       " 'CDG     ': Int64Index([ 93,  94, 124, 125, 244, 255, 758, 759, 760, 761, 762, 763, 764,\n",
       "             765, 766, 767, 808, 809, 810, 811],\n",
       "            dtype='int64'),\n",
       " 'CGK     ': Int64Index([328, 329, 330, 331, 360, 361, 362, 363], dtype='int64'),\n",
       " 'CHQ     ': Int64Index([594, 595], dtype='int64'),\n",
       " 'CLT     ': Int64Index([1, 2, 501, 502, 503, 504, 688, 689, 714, 715, 716, 717, 794], dtype='int64'),\n",
       " 'CMB     ': Int64Index([740, 741, 742, 743], dtype='int64'),\n",
       " 'COK     ': Int64Index([332, 552, 553], dtype='int64'),\n",
       " 'COS     ': Int64Index([170, 171], dtype='int64'),\n",
       " 'CTA     ': Int64Index([20, 21], dtype='int64'),\n",
       " 'CUN     ': Int64Index([570, 571, 631, 632, 633, 634], dtype='int64'),\n",
       " 'CUR     ': Int64Index([421, 422, 423, 424], dtype='int64'),\n",
       " 'CUZ     ': Int64Index([572, 573, 574, 575], dtype='int64'),\n",
       " 'CVG     ': Int64Index([85, 86, 87, 88, 89, 90, 662, 663, 664, 665], dtype='int64'),\n",
       " 'CZM     ': Int64Index([368, 369], dtype='int64'),\n",
       " 'DAB     ': Int64Index([797], dtype='int64'),\n",
       " 'DAC     ': Int64Index([652, 653], dtype='int64'),\n",
       " 'DAY     ': Int64Index([176, 177], dtype='int64'),\n",
       " 'DCA     ': Int64Index([168, 169, 223, 224, 399, 400, 772, 773, 790, 791, 792, 793], dtype='int64'),\n",
       " 'DEL     ': Int64Index([54, 55, 56, 57, 192, 282, 283, 284, 285, 846, 847, 864, 967, 968], dtype='int64'),\n",
       " 'DEN     ': Int64Index([434, 435, 580, 581, 786, 787], dtype='int64'),\n",
       " 'DFW     ': Int64Index([193, 194, 195, 196, 619, 620, 746, 747], dtype='int64'),\n",
       " 'DMM     ': Int64Index([38, 39, 40, 41, 42, 43], dtype='int64'),\n",
       " 'DOH     ': Int64Index([315, 737, 738], dtype='int64'),\n",
       " 'DTW     ': Int64Index([109, 110, 382, 971, 972, 973, 974], dtype='int64'),\n",
       " 'DXB     ': Int64Index([342, 343, 344, 345, 346, 347, 348, 349, 484, 485, 486, 487, 488,\n",
       "             489, 505, 506, 507, 508, 744, 745],\n",
       "            dtype='int64'),\n",
       " 'ELP     ': Int64Index([132, 133, 134, 135, 136, 137, 138, 139], dtype='int64'),\n",
       " 'EWR     ': Int64Index([106, 107, 225, 226, 616, 617], dtype='int64'),\n",
       " 'EZE     ': Int64Index([816, 817, 818, 819], dtype='int64'),\n",
       " 'FAI     ': Int64Index([274, 275], dtype='int64'),\n",
       " 'FAO     ': Int64Index([322, 323], dtype='int64'),\n",
       " 'FCO     ': Int64Index([78, 79, 80, 865, 866, 867, 868], dtype='int64'),\n",
       " 'FLL     ': Int64Index([691, 913, 914, 931, 932], dtype='int64'),\n",
       " 'FRA     ': Int64Index([162, 163, 297, 298], dtype='int64'),\n",
       " 'FUE     ': Int64Index([646, 647, 648, 649], dtype='int64'),\n",
       " 'GAU     ': Int64Index([271, 272, 273], dtype='int64'),\n",
       " 'GIZ     ': Int64Index([880, 881, 882, 883], dtype='int64'),\n",
       " 'GRU     ': Int64Index([565, 566, 933, 934, 935, 936, 937, 938], dtype='int64'),\n",
       " 'GUM     ': Int64Index([339, 692], dtype='int64'),\n",
       " 'HAV     ': Int64Index([95, 96, 97, 98], dtype='int64'),\n",
       " 'HER     ': Int64Index([900, 901], dtype='int64'),\n",
       " 'HKG     ': Int64Index([233, 234, 473, 474], dtype='int64'),\n",
       " 'HMO     ': Int64Index([140], dtype='int64'),\n",
       " 'HNL     ': Int64Index([441, 442, 443, 444], dtype='int64'),\n",
       " 'ICN     ': Int64Index([517, 518, 519, 520], dtype='int64'),\n",
       " 'IND     ': Int64Index([750, 751, 752], dtype='int64'),\n",
       " 'ISB     ': Int64Index([153, 154, 155, 156], dtype='int64'),\n",
       " 'IST     ': Int64Index([148, 235, 236, 650, 651, 955, 956], dtype='int64'),\n",
       " 'ISU     ': Int64Index([635, 636, 637, 638, 639, 640], dtype='int64'),\n",
       " 'IXE     ': Int64Index([256, 257, 258, 259, 260, 261], dtype='int64'),\n",
       " 'JAC     ': Int64Index([307, 395, 396, 436], dtype='int64'),\n",
       " 'JAX     ': Int64Index([975, 976, 977, 978], dtype='int64'),\n",
       " 'JED     ': Int64Index([268, 269, 309, 310, 311, 312, 707, 896, 897, 898, 899], dtype='int64'),\n",
       " 'JFK     ': Int64Index([597, 598, 712, 713, 871, 872, 873, 874, 875, 876, 877, 878, 911,\n",
       "             912, 919, 920],\n",
       "            dtype='int64'),\n",
       " 'JNB     ': Int64Index([965, 966], dtype='int64'),\n",
       " 'KHI     ': Int64Index([850, 851], dtype='int64'),\n",
       " 'KIV     ': Int64Index([364, 365, 366, 367], dtype='int64'),\n",
       " 'KUL     ': Int64Index([451, 452, 453, 454, 610, 611], dtype='int64'),\n",
       " 'LAO     ': Int64Index([641], dtype='int64'),\n",
       " 'LAS     ': Int64Index([141, 142, 445, 446, 590, 591, 768, 769, 806, 807, 991], dtype='int64'),\n",
       " 'LAX     ': Int64Index([197, 198, 199, 200, 201, 202, 203, 204, 205, 206, 291, 292, 293,\n",
       "             294, 511],\n",
       "            dtype='int64'),\n",
       " 'LCA     ': Int64Index([157], dtype='int64'),\n",
       " 'LCY     ': Int64Index([187, 188], dtype='int64'),\n",
       " 'LED     ': Int64Index([44, 316, 317, 318, 319], dtype='int64'),\n",
       " 'LGA     ': Int64Index([5, 6, 122, 123, 191, 431, 464, 465, 469, 470, 987, 988, 989, 990], dtype='int64'),\n",
       " 'LHR     ': Int64Index([0, 158, 159, 160, 161, 350, 351, 844, 845, 869, 870, 944, 945, 946,\n",
       "             947],\n",
       "            dtype='int64'),\n",
       " 'LIM     ': Int64Index([525, 526, 560, 561, 562, 563, 852, 853, 854, 855, 856, 857, 858,\n",
       "             859],\n",
       "            dtype='int64'),\n",
       " 'LIN     ': Int64Index([654, 655], dtype='int64'),\n",
       " 'LIR     ': Int64Index([211, 788, 789], dtype='int64'),\n",
       " 'LIS     ': Int64Index([45, 46, 47, 48, 270, 916, 917], dtype='int64'),\n",
       " 'LIT     ': Int64Index([295, 296], dtype='int64'),\n",
       " 'LOS     ': Int64Index([753, 754, 755], dtype='int64'),\n",
       " 'LYR     ': Int64Index([245, 246, 247, 248], dtype='int64'),\n",
       " 'MAA     ': Int64Index([703, 704, 705, 706], dtype='int64'),\n",
       " 'MAD     ': Int64Index([462], dtype='int64'),\n",
       " 'MAN     ': Int64Index([535, 536], dtype='int64'),\n",
       " 'MCI     ': Int64Index([215, 216, 834, 835], dtype='int64'),\n",
       " 'MCO     ': Int64Index([180, 181, 495, 496, 537, 538, 539, 540, 541, 542, 680, 681, 682,\n",
       "             683],\n",
       "            dtype='int64'),\n",
       " 'MCT     ': Int64Index([848, 849], dtype='int64'),\n",
       " 'MDZ     ': Int64Index([627, 820, 821, 822], dtype='int64'),\n",
       " 'MED     ': Int64Index([556, 557], dtype='int64'),\n",
       " 'MEL     ': Int64Index([492, 493, 592, 593], dtype='int64'),\n",
       " 'MEM     ': Int64Index([998], dtype='int64'),\n",
       " 'MEX     ': Int64Index([104, 276, 277, 612, 613, 614, 615, 840, 841, 842, 843], dtype='int64'),\n",
       " 'MGW     ': Int64Index([823, 824, 825, 826, 827, 828], dtype='int64'),\n",
       " 'MIA     ': Int64Index([213, 214, 596, 673, 674, 812, 813, 814, 815, 830, 831, 832, 833,\n",
       "             904, 905, 906, 907, 941, 942],\n",
       "            dtype='int64'),\n",
       " 'MLX     ': Int64Index([628, 629, 630], dtype='int64'),\n",
       " 'MNL     ': Int64Index([ 59,  60,  61,  62,  63,  64, 642, 643, 701, 702, 921, 922, 923,\n",
       "             924, 925, 926, 927, 928, 929, 930],\n",
       "            dtype='int64'),\n",
       " 'MQN     ': Int64Index([266, 267], dtype='int64'),\n",
       " 'MRS     ': Int64Index([249, 250, 251, 252, 253, 254, 918, 939, 940], dtype='int64'),\n",
       " 'MSN     ': Int64Index([992, 993, 994, 995], dtype='int64'),\n",
       " 'MSO     ': Int64Index([578, 579], dtype='int64'),\n",
       " 'MSY     ': Int64Index([475, 476], dtype='int64'),\n",
       " 'MUC     ': Int64Index([290, 708, 709], dtype='int64'),\n",
       " 'MVD     ': Int64Index([84], dtype='int64'),\n",
       " 'NAS     ': Int64Index([466, 467, 660, 661, 710, 711, 860, 861, 862, 863], dtype='int64'),\n",
       " 'NBO     ': Int64Index([545, 546, 547], dtype='int64'),\n",
       " 'NRT     ': Int64Index([99, 953, 954], dtype='int64'),\n",
       " 'OAK     ': Int64Index([798, 799], dtype='int64'),\n",
       " 'OGG     ': Int64Index([231, 232, 693, 694], dtype='int64'),\n",
       " 'OMA     ': Int64Index([111, 112, 113, 114, 115], dtype='int64'),\n",
       " 'ORD     ': Int64Index([401, 402, 403, 471, 472, 532, 533, 534, 666, 667, 668, 690, 800], dtype='int64'),\n",
       " 'ORY     ': Int64Index([407, 408, 409, 410, 411, 412], dtype='int64'),\n",
       " 'OTP     ': Int64Index([91, 92, 149, 150, 490, 491, 902, 903], dtype='int64'),\n",
       " 'PBI     ': Int64Index([425, 426], dtype='int64'),\n",
       " 'PDX     ': Int64Index([299, 300, 669, 670, 915, 980], dtype='int64'),\n",
       " 'PHL     ': Int64Index([599, 600], dtype='int64'),\n",
       " 'PHX     ': Int64Index([209, 210, 227, 228, 229, 230, 671, 672, 684, 685, 686, 687], dtype='int64'),\n",
       " 'PVG     ': Int64Index([30, 31, 32, 172, 173, 174, 178, 179, 352, 353, 447, 448, 449, 450], dtype='int64'),\n",
       " 'PVR     ': Int64Index([981, 982], dtype='int64'),\n",
       " 'RAK     ': Int64Index([948, 949, 950, 951], dtype='int64'),\n",
       " 'REN     ': Int64Index([527, 528], dtype='int64'),\n",
       " 'RUH     ': Int64Index([356, 357], dtype='int64'),\n",
       " 'SAN     ': Int64Index([582, 583], dtype='int64'),\n",
       " 'SAT     ': Int64Index([625, 626], dtype='int64'),\n",
       " 'SAV     ': Int64Index([105], dtype='int64'),\n",
       " 'SDF     ': Int64Index([120, 121, 618], dtype='int64'),\n",
       " 'SDQ     ': Int64Index([943], dtype='int64'),\n",
       " 'SDU     ': Int64Index([427, 428, 429, 430], dtype='int64'),\n",
       " 'SFO     ': Int64Index([108, 370, 371, 584, 585, 601, 697, 698, 699, 700, 829, 996, 997], dtype='int64'),\n",
       " 'SGC     ': Int64Index([33], dtype='int64'),\n",
       " 'SGN     ': Int64Index([378, 379, 383, 384, 385, 386, 387, 388, 389, 390, 720, 721, 722,\n",
       "             723],\n",
       "            dtype='int64'),\n",
       " 'SHA     ': Int64Index([175], dtype='int64'),\n",
       " 'SHV     ': Int64Index([892, 893, 894, 895], dtype='int64'),\n",
       " 'SIN     ': Int64Index([7, 8, 9, 10, 11, 12, 13, 14, 15, 16, 17, 18, 340, 341], dtype='int64'),\n",
       " 'SJD     ': Int64Index([189, 190], dtype='int64'),\n",
       " 'SJO     ': Int64Index([985, 986], dtype='int64'),\n",
       " 'SJU     ': Int64Index([278, 279, 280, 281, 405, 406], dtype='int64'),\n",
       " 'SKG     ': Int64Index([186], dtype='int64'),\n",
       " 'SMI     ': Int64Index([749], dtype='int64'),\n",
       " 'SNA     ': Int64Index([413, 414, 568, 569], dtype='int64'),\n",
       " 'SOF     ': Int64Index([512, 513, 514, 515, 516, 770, 771, 778, 779, 780, 781, 782, 783,\n",
       "             784, 785],\n",
       "            dtype='int64'),\n",
       " 'SSA     ': Int64Index([644, 645], dtype='int64'),\n",
       " 'STL     ': Int64Index([219, 220], dtype='int64'),\n",
       " 'SVO     ': Int64Index([3, 4, 457, 458, 459, 460, 461, 969, 970], dtype='int64'),\n",
       " 'SVQ     ': Int64Index([529], dtype='int64'),\n",
       " 'SXM     ': Int64Index([303, 304, 305, 306], dtype='int64'),\n",
       " 'SYD     ': Int64Index([212, 530, 531, 756, 757], dtype='int64'),\n",
       " 'TIA     ': Int64Index([184, 185], dtype='int64'),\n",
       " 'TLS     ': Int64Index([543, 544, 836, 837, 838, 839], dtype='int64'),\n",
       " 'TLV     ': Int64Index([128, 129, 130, 131, 952], dtype='int64'),\n",
       " 'TPA     ': Int64Index([58], dtype='int64'),\n",
       " 'TUS     ': Int64Index([19, 468], dtype='int64'),\n",
       " 'TXL     ': Int64Index([237, 238, 239, 240], dtype='int64'),\n",
       " 'TYR     ': Int64Index([145, 146], dtype='int64'),\n",
       " 'ULN     ': Int64Index([65, 66], dtype='int64'),\n",
       " 'UVF     ': Int64Index([437, 438, 439, 440], dtype='int64'),\n",
       " 'VPS     ': Int64Index([417, 418, 419, 420], dtype='int64'),\n",
       " 'VVI     ': Int64Index([726, 727], dtype='int64'),\n",
       " 'WAW     ': Int64Index([241, 242, 243, 564], dtype='int64'),\n",
       " 'WDH     ': Int64Index([521, 522, 523, 524], dtype='int64'),\n",
       " 'WRO     ': Int64Index([879], dtype='int64'),\n",
       " 'YHZ     ': Int64Index([217, 218], dtype='int64'),\n",
       " 'YNB     ': Int64Index([884, 885, 886, 887], dtype='int64'),\n",
       " 'YUL     ': Int64Index([333, 334], dtype='int64'),\n",
       " 'YVR     ': Int64Index([116, 117, 675, 676, 677, 804, 805], dtype='int64'),\n",
       " 'YWG     ': Int64Index([22, 23, 24, 25, 26, 27, 28, 29, 391, 392, 393, 394], dtype='int64'),\n",
       " 'YXE     ': Int64Index([621], dtype='int64'),\n",
       " 'YYC     ': Int64Index([961, 962, 963, 964], dtype='int64'),\n",
       " 'YYZ     ': Int64Index([678, 679], dtype='int64'),\n",
       " 'ZRH     ': Int64Index([67, 68, 69, 70, 71, 72, 73, 74, 75, 286, 287, 288, 289], dtype='int64')}"
      ]
     },
     "execution_count": 39,
     "metadata": {},
     "output_type": "execute_result"
    }
   ],
   "source": [
    "arr_ports.groups"
   ]
  },
  {
   "cell_type": "code",
   "execution_count": 40,
   "metadata": {
    "collapsed": false,
    "deletable": true,
    "editable": true
   },
   "outputs": [
    {
     "data": {
      "text/plain": [
       "pandas.core.frame.DataFrame"
      ]
     },
     "execution_count": 40,
     "metadata": {},
     "output_type": "execute_result"
    }
   ],
   "source": [
    "arr_ports=b.groupby('arr_port')\n",
    "arr_ports.sum().head()\n",
    "type(arr_ports.sum().head())"
   ]
  },
  {
   "cell_type": "code",
   "execution_count": 41,
   "metadata": {
    "collapsed": false,
    "deletable": true,
    "editable": true
   },
   "outputs": [
    {
     "data": {
      "text/html": [
       "<div>\n",
       "<table border=\"1\" class=\"dataframe\">\n",
       "  <thead>\n",
       "    <tr style=\"text-align: right;\">\n",
       "      <th></th>\n",
       "      <th>pax</th>\n",
       "    </tr>\n",
       "    <tr>\n",
       "      <th>arr_port</th>\n",
       "      <th></th>\n",
       "    </tr>\n",
       "  </thead>\n",
       "  <tbody>\n",
       "    <tr>\n",
       "      <th>DCA</th>\n",
       "      <td>50</td>\n",
       "    </tr>\n",
       "    <tr>\n",
       "      <th>JFK</th>\n",
       "      <td>14</td>\n",
       "    </tr>\n",
       "    <tr>\n",
       "      <th>FLL</th>\n",
       "      <td>13</td>\n",
       "    </tr>\n",
       "    <tr>\n",
       "      <th>PVG</th>\n",
       "      <td>13</td>\n",
       "    </tr>\n",
       "    <tr>\n",
       "      <th>CGK</th>\n",
       "      <td>12</td>\n",
       "    </tr>\n",
       "    <tr>\n",
       "      <th>LGA</th>\n",
       "      <td>12</td>\n",
       "    </tr>\n",
       "    <tr>\n",
       "      <th>SVO</th>\n",
       "      <td>12</td>\n",
       "    </tr>\n",
       "    <tr>\n",
       "      <th>LAS</th>\n",
       "      <td>11</td>\n",
       "    </tr>\n",
       "    <tr>\n",
       "      <th>BOS</th>\n",
       "      <td>11</td>\n",
       "    </tr>\n",
       "    <tr>\n",
       "      <th>MIA</th>\n",
       "      <td>11</td>\n",
       "    </tr>\n",
       "  </tbody>\n",
       "</table>\n",
       "</div>"
      ],
      "text/plain": [
       "          pax\n",
       "arr_port     \n",
       "DCA        50\n",
       "JFK        14\n",
       "FLL        13\n",
       "PVG        13\n",
       "CGK        12\n",
       "LGA        12\n",
       "SVO        12\n",
       "LAS        11\n",
       "BOS        11\n",
       "MIA        11"
      ]
     },
     "execution_count": 41,
     "metadata": {},
     "output_type": "execute_result"
    }
   ],
   "source": [
    "arr_ports.sum().sort_values('pax', ascending=False).head(10)"
   ]
  },
  {
   "cell_type": "markdown",
   "metadata": {
    "deletable": true,
    "editable": true
   },
   "source": [
    "## 5) Adjust the code to work with Big data"
   ]
  },
  {
   "cell_type": "raw",
   "metadata": {
    "deletable": true,
    "editable": true
   },
   "source": [
    "What do we have so far?"
   ]
  },
  {
   "cell_type": "code",
   "execution_count": 42,
   "metadata": {
    "collapsed": false,
    "deletable": true,
    "editable": true
   },
   "outputs": [
    {
     "data": {
      "text/html": [
       "<div>\n",
       "<table border=\"1\" class=\"dataframe\">\n",
       "  <thead>\n",
       "    <tr style=\"text-align: right;\">\n",
       "      <th></th>\n",
       "      <th>pax</th>\n",
       "    </tr>\n",
       "    <tr>\n",
       "      <th>arr_port</th>\n",
       "      <th></th>\n",
       "    </tr>\n",
       "  </thead>\n",
       "  <tbody>\n",
       "    <tr>\n",
       "      <th>DCA</th>\n",
       "      <td>50</td>\n",
       "    </tr>\n",
       "    <tr>\n",
       "      <th>JFK</th>\n",
       "      <td>14</td>\n",
       "    </tr>\n",
       "    <tr>\n",
       "      <th>FLL</th>\n",
       "      <td>13</td>\n",
       "    </tr>\n",
       "    <tr>\n",
       "      <th>PVG</th>\n",
       "      <td>13</td>\n",
       "    </tr>\n",
       "    <tr>\n",
       "      <th>CGK</th>\n",
       "      <td>12</td>\n",
       "    </tr>\n",
       "    <tr>\n",
       "      <th>LGA</th>\n",
       "      <td>12</td>\n",
       "    </tr>\n",
       "    <tr>\n",
       "      <th>SVO</th>\n",
       "      <td>12</td>\n",
       "    </tr>\n",
       "    <tr>\n",
       "      <th>LAS</th>\n",
       "      <td>11</td>\n",
       "    </tr>\n",
       "    <tr>\n",
       "      <th>BOS</th>\n",
       "      <td>11</td>\n",
       "    </tr>\n",
       "    <tr>\n",
       "      <th>MIA</th>\n",
       "      <td>11</td>\n",
       "    </tr>\n",
       "  </tbody>\n",
       "</table>\n",
       "</div>"
      ],
      "text/plain": [
       "          pax\n",
       "arr_port     \n",
       "DCA        50\n",
       "JFK        14\n",
       "FLL        13\n",
       "PVG        13\n",
       "CGK        12\n",
       "LGA        12\n",
       "SVO        12\n",
       "LAS        11\n",
       "BOS        11\n",
       "MIA        11"
      ]
     },
     "execution_count": 42,
     "metadata": {},
     "output_type": "execute_result"
    }
   ],
   "source": [
    "import pandas as pd\n",
    "b=pd.read_csv('bookings.sample.csv.bz2', sep='^', usecols=['arr_port','pax','year'])\n",
    "b=b.dropna()\n",
    "b = b[b['year']==2013]\n",
    "b.drop('year',axis=1, inplace=True)\n",
    "b.groupby('arr_port').sum().sort_values('pax', ascending=False).head(10)\n"
   ]
  },
  {
   "cell_type": "markdown",
   "metadata": {
    "deletable": true,
    "editable": true
   },
   "source": [
    "#### use chunks to reat the whole file\n"
   ]
  },
  {
   "cell_type": "raw",
   "metadata": {
    "deletable": true,
    "editable": true
   },
   "source": [
    "Option for reading the file:\n",
    "    1) iterator=true and get_chunk\n",
    "    2) define chunk_size"
   ]
  },
  {
   "cell_type": "markdown",
   "metadata": {
    "deletable": true,
    "editable": true
   },
   "source": [
    "#### How do we get the all the results of all chunks at one place?\n"
   ]
  },
  {
   "cell_type": "raw",
   "metadata": {
    "collapsed": true,
    "deletable": true,
    "editable": true
   },
   "source": [
    "Options:\n",
    "    1) df.append()\n",
    "    2) df.concat()\n",
    "    \n",
    "    3) list of small DF and then concatenate them in one DF\n",
    "    4) dictionary\n",
    "    5) ?"
   ]
  },
  {
   "cell_type": "markdown",
   "metadata": {
    "deletable": true,
    "editable": true
   },
   "source": [
    "#### 1) iterator=true and get_chunk"
   ]
  },
  {
   "cell_type": "code",
   "execution_count": 43,
   "metadata": {
    "collapsed": false,
    "deletable": true,
    "editable": true
   },
   "outputs": [
    {
     "name": "stdout",
     "output_type": "stream",
     "text": [
      "<class 'pandas.core.frame.DataFrame'>\n",
      "<class 'pandas.io.parsers.TextFileReader'>\n"
     ]
    }
   ],
   "source": [
    "b=pd.read_csv('bookings.sample.csv.bz2', sep='^', \\\n",
    "              usecols=['arr_port','pax','year'])\n",
    "print type(b)\n",
    "\n",
    "b=pd.read_csv('bookings.sample.csv.bz2', sep='^', \\\n",
    "              usecols=['arr_port','pax','year'], iterator=True)\n",
    "print type(b)"
   ]
  },
  {
   "cell_type": "code",
   "execution_count": 44,
   "metadata": {
    "collapsed": true,
    "deletable": true,
    "editable": true
   },
   "outputs": [],
   "source": [
    "b0=b.get_chunk(600)"
   ]
  },
  {
   "cell_type": "code",
   "execution_count": 45,
   "metadata": {
    "collapsed": false,
    "deletable": true,
    "editable": true
   },
   "outputs": [
    {
     "data": {
      "text/plain": [
       "600"
      ]
     },
     "execution_count": 45,
     "metadata": {},
     "output_type": "execute_result"
    }
   ],
   "source": [
    "len(b0)"
   ]
  },
  {
   "cell_type": "code",
   "execution_count": 46,
   "metadata": {
    "collapsed": false,
    "deletable": true,
    "editable": true
   },
   "outputs": [],
   "source": [
    "b1=b.get_chunk(300)"
   ]
  },
  {
   "cell_type": "code",
   "execution_count": 47,
   "metadata": {
    "collapsed": false,
    "deletable": true,
    "editable": true
   },
   "outputs": [
    {
     "data": {
      "text/plain": [
       "300"
      ]
     },
     "execution_count": 47,
     "metadata": {},
     "output_type": "execute_result"
    }
   ],
   "source": [
    "len (b1)"
   ]
  },
  {
   "cell_type": "code",
   "execution_count": 48,
   "metadata": {
    "collapsed": false,
    "deletable": true,
    "editable": true
   },
   "outputs": [],
   "source": [
    "b2=b.get_chunk(300)"
   ]
  },
  {
   "cell_type": "code",
   "execution_count": 49,
   "metadata": {
    "collapsed": false,
    "deletable": true,
    "editable": true
   },
   "outputs": [
    {
     "data": {
      "text/plain": [
       "99"
      ]
     },
     "execution_count": 49,
     "metadata": {},
     "output_type": "execute_result"
    }
   ],
   "source": [
    "len(b2)"
   ]
  },
  {
   "cell_type": "markdown",
   "metadata": {
    "deletable": true,
    "editable": true
   },
   "source": [
    "#### 2) define chunk size"
   ]
  },
  {
   "cell_type": "code",
   "execution_count": 50,
   "metadata": {
    "collapsed": false,
    "deletable": true,
    "editable": true
   },
   "outputs": [
    {
     "name": "stdout",
     "output_type": "stream",
     "text": [
      "<class 'pandas.io.parsers.TextFileReader'>\n"
     ]
    }
   ],
   "source": [
    "bc=pd.read_csv('bookings.sample.csv.bz2', sep='^', \\\n",
    "              usecols=['arr_port','pax','year'], chunksize=600)\n",
    "print type(bc)"
   ]
  },
  {
   "cell_type": "code",
   "execution_count": 51,
   "metadata": {
    "collapsed": false,
    "deletable": true,
    "editable": true
   },
   "outputs": [
    {
     "name": "stdout",
     "output_type": "stream",
     "text": [
      "Chunk number: 0\n",
      "Chunk size 600\n",
      "   arr_port  pax  year\n",
      "0  LHR        -1  2013\n",
      "1  CLT         1  2013\n",
      "2  CLT         1  2013\n",
      "3  SVO         1  2013\n",
      "4  SVO         1  2013\n",
      "Chunk number: 1\n",
      "Chunk size 399\n",
      "     arr_port  pax  year\n",
      "600  PHL         1  2013\n",
      "601  SFO         1  2013\n",
      "602  BOG         1  2013\n",
      "603  BOG         1  2013\n",
      "604  BOG        -1  2013\n"
     ]
    }
   ],
   "source": [
    "for i, chunk in enumerate(bc):\n",
    "    print \"Chunk number: %d\"%i\n",
    "    print \"Chunk size %d\"%len(chunk)\n",
    "    print chunk.head()\n",
    "    "
   ]
  },
  {
   "cell_type": "code",
   "execution_count": 52,
   "metadata": {
    "collapsed": false,
    "deletable": true,
    "editable": true
   },
   "outputs": [],
   "source": [
    "for data_frame_of_chunk in bc:\n",
    "    print \"Chunk size %d\"%len(data_frame_of_chunk)\n",
    "    print data_frame_of_chunk.head()\n",
    "    print type(data_frame_of_chunk)"
   ]
  },
  {
   "cell_type": "code",
   "execution_count": 53,
   "metadata": {
    "collapsed": false,
    "deletable": true,
    "editable": true
   },
   "outputs": [
    {
     "name": "stdout",
     "output_type": "stream",
     "text": [
      "Chunk Num 0\n",
      "Chunk Num 1\n",
      "Chunk Num 2\n"
     ]
    },
    {
     "data": {
      "text/html": [
       "<div>\n",
       "<table border=\"1\" class=\"dataframe\">\n",
       "  <thead>\n",
       "    <tr style=\"text-align: right;\">\n",
       "      <th></th>\n",
       "      <th>arr_port</th>\n",
       "      <th>pax</th>\n",
       "    </tr>\n",
       "  </thead>\n",
       "  <tbody>\n",
       "    <tr>\n",
       "      <th>0</th>\n",
       "      <td>DCA</td>\n",
       "      <td>50</td>\n",
       "    </tr>\n",
       "    <tr>\n",
       "      <th>1</th>\n",
       "      <td>JFK</td>\n",
       "      <td>14</td>\n",
       "    </tr>\n",
       "    <tr>\n",
       "      <th>2</th>\n",
       "      <td>FLL</td>\n",
       "      <td>13</td>\n",
       "    </tr>\n",
       "    <tr>\n",
       "      <th>3</th>\n",
       "      <td>PVG</td>\n",
       "      <td>13</td>\n",
       "    </tr>\n",
       "    <tr>\n",
       "      <th>4</th>\n",
       "      <td>CGK</td>\n",
       "      <td>12</td>\n",
       "    </tr>\n",
       "    <tr>\n",
       "      <th>5</th>\n",
       "      <td>LGA</td>\n",
       "      <td>12</td>\n",
       "    </tr>\n",
       "    <tr>\n",
       "      <th>6</th>\n",
       "      <td>SVO</td>\n",
       "      <td>12</td>\n",
       "    </tr>\n",
       "    <tr>\n",
       "      <th>7</th>\n",
       "      <td>LAS</td>\n",
       "      <td>11</td>\n",
       "    </tr>\n",
       "    <tr>\n",
       "      <th>8</th>\n",
       "      <td>BOS</td>\n",
       "      <td>11</td>\n",
       "    </tr>\n",
       "    <tr>\n",
       "      <th>9</th>\n",
       "      <td>MIA</td>\n",
       "      <td>11</td>\n",
       "    </tr>\n",
       "  </tbody>\n",
       "</table>\n",
       "</div>"
      ],
      "text/plain": [
       "   arr_port  pax\n",
       "0  DCA        50\n",
       "1  JFK        14\n",
       "2  FLL        13\n",
       "3  PVG        13\n",
       "4  CGK        12\n",
       "5  LGA        12\n",
       "6  SVO        12\n",
       "7  LAS        11\n",
       "8  BOS        11\n",
       "9  MIA        11"
      ]
     },
     "execution_count": 53,
     "metadata": {},
     "output_type": "execute_result"
    }
   ],
   "source": [
    "#make it work with the sample before running the code over the original file!!!\n",
    "import pandas as pd\n",
    "bc=pd.read_csv('bookings.sample.csv.bz2', \\\n",
    "              sep='^', usecols=['arr_port','pax','year'], chunksize=400)\n",
    "\n",
    "all_chunk_results=pd.DataFrame()\n",
    "for (i, chunk) in enumerate(bc):\n",
    "    print \"Chunk Num %d\"%i\n",
    "    chunk=chunk.dropna()\n",
    "    chunk = chunk[chunk['year']==2013]\n",
    "    chunk.drop('year',axis=1, inplace=True)\n",
    "    chunk_result=chunk.groupby('arr_port').sum()\n",
    "    #.sort_values('pax', ascending=False)\n",
    "    all_chunk_results=all_chunk_results.append(chunk_result)\n",
    "\n",
    "topirports=all_chunk_results.reset_index().groupby('arr_port').sum()\\\n",
    ".sort_values('pax', ascending=False).reset_index().head(10)\n",
    "topirports"
   ]
  },
  {
   "cell_type": "code",
   "execution_count": 54,
   "metadata": {
    "collapsed": false,
    "deletable": true,
    "editable": true
   },
   "outputs": [
    {
     "name": "stdout",
     "output_type": "stream",
     "text": [
      "Chunk Num 0\n",
      "Chunk Num 1\n",
      "Chunk Num 2\n",
      "Chunk Num 3\n",
      "Chunk Num 4\n",
      "Chunk Num 5\n",
      "Chunk Num 6\n",
      "Chunk Num 7\n",
      "Chunk Num 8\n",
      "Chunk Num 9\n",
      "Chunk Num 10\n",
      "CPU times: user 3min 43s, sys: 2.63 s, total: 3min 46s\n",
      "Wall time: 3min 52s\n"
     ]
    }
   ],
   "source": [
    "%%time\n",
    "import pandas as pd\n",
    "bc=pd.read_csv('bookings.csv.bz2', \\\n",
    "              sep='^', usecols=['arr_port','pax','year'], chunksize=1000000)\n",
    "\n",
    "all_chunk_results=pd.DataFrame()\n",
    "for (i, chunk) in enumerate(bc):\n",
    "    print \"Chunk Num %d\"%i\n",
    "    chunk=chunk.dropna()\n",
    "    chunk = chunk[chunk['year']==2013]\n",
    "    chunk.drop('year',axis=1, inplace=True)\n",
    "    chunk_result=chunk.groupby('arr_port').sum()\n",
    "    #.sort_values('pax', ascending=False)\n",
    "    all_chunk_results=all_chunk_results.append(chunk_result)\n",
    "\n",
    "topirports=all_chunk_results.groupby(all_chunk_results.index).sum()\\\n",
    ".sort_values('pax', ascending=False).reset_index()\n",
    "topirports"
   ]
  },
  {
   "cell_type": "code",
   "execution_count": 55,
   "metadata": {
    "collapsed": false,
    "deletable": true,
    "editable": true
   },
   "outputs": [
    {
     "data": {
      "text/plain": [
       "(2274, 2)"
      ]
     },
     "execution_count": 55,
     "metadata": {},
     "output_type": "execute_result"
    }
   ],
   "source": [
    "topirports.shape"
   ]
  },
  {
   "cell_type": "code",
   "execution_count": 56,
   "metadata": {
    "collapsed": false,
    "deletable": true,
    "editable": true
   },
   "outputs": [
    {
     "data": {
      "text/html": [
       "<div>\n",
       "<table border=\"1\" class=\"dataframe\">\n",
       "  <thead>\n",
       "    <tr style=\"text-align: right;\">\n",
       "      <th></th>\n",
       "      <th>arr_port</th>\n",
       "      <th>pax</th>\n",
       "    </tr>\n",
       "  </thead>\n",
       "  <tbody>\n",
       "    <tr>\n",
       "      <th>0</th>\n",
       "      <td>LHR</td>\n",
       "      <td>88809.0</td>\n",
       "    </tr>\n",
       "    <tr>\n",
       "      <th>1</th>\n",
       "      <td>MCO</td>\n",
       "      <td>70930.0</td>\n",
       "    </tr>\n",
       "    <tr>\n",
       "      <th>2</th>\n",
       "      <td>LAX</td>\n",
       "      <td>70530.0</td>\n",
       "    </tr>\n",
       "    <tr>\n",
       "      <th>3</th>\n",
       "      <td>LAS</td>\n",
       "      <td>69630.0</td>\n",
       "    </tr>\n",
       "    <tr>\n",
       "      <th>4</th>\n",
       "      <td>JFK</td>\n",
       "      <td>66270.0</td>\n",
       "    </tr>\n",
       "  </tbody>\n",
       "</table>\n",
       "</div>"
      ],
      "text/plain": [
       "   arr_port      pax\n",
       "0  LHR       88809.0\n",
       "1  MCO       70930.0\n",
       "2  LAX       70530.0\n",
       "3  LAS       69630.0\n",
       "4  JFK       66270.0"
      ]
     },
     "execution_count": 56,
     "metadata": {},
     "output_type": "execute_result"
    }
   ],
   "source": [
    "topirports.head()"
   ]
  },
  {
   "cell_type": "code",
   "execution_count": 58,
   "metadata": {
    "collapsed": true,
    "deletable": true,
    "editable": true
   },
   "outputs": [],
   "source": [
    "#Save the results to file\n",
    "topirports.to_csv('top_airports.csv', sep='^', index=False)"
   ]
  },
  {
   "cell_type": "code",
   "execution_count": 59,
   "metadata": {
    "collapsed": false,
    "deletable": true,
    "editable": true
   },
   "outputs": [
    {
     "name": "stdout",
     "output_type": "stream",
     "text": [
      "total 1014356\r\n",
      "-rw-rw-r--. 1 dsc dsc 554970628 Jan  4  2016 bookings.csv.bz2\r\n",
      "-rw-rw-r--  1 dsc dsc     54834 May  9 22:50 bookings.sample.csv.bz2\r\n",
      "-rw-rw-r--  1 dsc dsc    425006 May  9 22:51 bookings.sample.csv.csv\r\n",
      "-rw-rw-r--. 1 dsc dsc 483188920 Jan  4  2016 searches.csv.bz2\r\n",
      "-rw-rw-r--  1 dsc dsc     33984 May  9 23:00 top_airports.csv\r\n"
     ]
    }
   ],
   "source": [
    "!ls -l"
   ]
  },
  {
   "cell_type": "code",
   "execution_count": 60,
   "metadata": {
    "collapsed": false,
    "deletable": true,
    "editable": true
   },
   "outputs": [],
   "source": [
    "#test importing the data from the file... just in case:)\n",
    "top=pd.read_csv('top_airports.csv', sep='^')"
   ]
  },
  {
   "cell_type": "code",
   "execution_count": 61,
   "metadata": {
    "collapsed": false,
    "deletable": true,
    "editable": true
   },
   "outputs": [
    {
     "data": {
      "text/html": [
       "<div>\n",
       "<table border=\"1\" class=\"dataframe\">\n",
       "  <thead>\n",
       "    <tr style=\"text-align: right;\">\n",
       "      <th></th>\n",
       "      <th>arr_port</th>\n",
       "      <th>pax</th>\n",
       "    </tr>\n",
       "  </thead>\n",
       "  <tbody>\n",
       "    <tr>\n",
       "      <th>0</th>\n",
       "      <td>LHR</td>\n",
       "      <td>88809.0</td>\n",
       "    </tr>\n",
       "    <tr>\n",
       "      <th>1</th>\n",
       "      <td>MCO</td>\n",
       "      <td>70930.0</td>\n",
       "    </tr>\n",
       "    <tr>\n",
       "      <th>2</th>\n",
       "      <td>LAX</td>\n",
       "      <td>70530.0</td>\n",
       "    </tr>\n",
       "    <tr>\n",
       "      <th>3</th>\n",
       "      <td>LAS</td>\n",
       "      <td>69630.0</td>\n",
       "    </tr>\n",
       "    <tr>\n",
       "      <th>4</th>\n",
       "      <td>JFK</td>\n",
       "      <td>66270.0</td>\n",
       "    </tr>\n",
       "  </tbody>\n",
       "</table>\n",
       "</div>"
      ],
      "text/plain": [
       "   arr_port      pax\n",
       "0  LHR       88809.0\n",
       "1  MCO       70930.0\n",
       "2  LAX       70530.0\n",
       "3  LAS       69630.0\n",
       "4  JFK       66270.0"
      ]
     },
     "execution_count": 61,
     "metadata": {},
     "output_type": "execute_result"
    }
   ],
   "source": [
    "top.head()"
   ]
  },
  {
   "cell_type": "code",
   "execution_count": null,
   "metadata": {
    "collapsed": true,
    "deletable": true,
    "editable": true
   },
   "outputs": [],
   "source": []
  },
  {
   "cell_type": "markdown",
   "metadata": {
    "deletable": true,
    "editable": true
   },
   "source": [
    "### Now we've got top airports"
   ]
  },
  {
   "cell_type": "markdown",
   "metadata": {
    "deletable": true,
    "editable": true
   },
   "source": [
    "lets do the bonus solution"
   ]
  },
  {
   "cell_type": "raw",
   "metadata": {
    "deletable": true,
    "editable": true
   },
   "source": [
    "we have to install geobases\n",
    "go to shell and write:\n",
    "pip install GeoBases"
   ]
  },
  {
   "cell_type": "code",
   "execution_count": 63,
   "metadata": {
    "collapsed": false,
    "deletable": true,
    "editable": true
   },
   "outputs": [],
   "source": [
    "from GeoBases import GeoBase"
   ]
  },
  {
   "cell_type": "code",
   "execution_count": 64,
   "metadata": {
    "collapsed": true,
    "deletable": true,
    "editable": true
   },
   "outputs": [],
   "source": [
    "geoDict = GeoBase(data='ori_por', verbose=False)\n",
    "#geoDict = GeoBase(data='ori_por')"
   ]
  },
  {
   "cell_type": "code",
   "execution_count": 65,
   "metadata": {
    "collapsed": false,
    "deletable": true,
    "editable": true
   },
   "outputs": [
    {
     "data": {
      "text/plain": [
       "GeoBases.GeoBaseModule.GeoBase"
      ]
     },
     "execution_count": 65,
     "metadata": {},
     "output_type": "execute_result"
    }
   ],
   "source": [
    "type(geoDict)"
   ]
  },
  {
   "cell_type": "code",
   "execution_count": 66,
   "metadata": {
    "collapsed": false,
    "deletable": true,
    "editable": true
   },
   "outputs": [
    {
     "data": {
      "text/plain": [
       "['MLC',\n",
       " 'XMZ',\n",
       " 'XQP@1',\n",
       " 'JED@1',\n",
       " 'MFI@1',\n",
       " 'JGO@1',\n",
       " 'YAL@1',\n",
       " 'NDP',\n",
       " 'GEG@1',\n",
       " 'NDS']"
      ]
     },
     "execution_count": 66,
     "metadata": {},
     "output_type": "execute_result"
    }
   ],
   "source": [
    "geoDict.keys()[:10]"
   ]
  },
  {
   "cell_type": "code",
   "execution_count": 67,
   "metadata": {
    "collapsed": false,
    "deletable": true,
    "editable": true
   },
   "outputs": [
    {
     "data": {
      "text/plain": [
       "['__key__',\n",
       " '__dup__',\n",
       " '__par__',\n",
       " '__lno__',\n",
       " 'iata_code',\n",
       " 'icao_code',\n",
       " 'faa_code',\n",
       " 'is_geonames',\n",
       " 'geoname_id',\n",
       " 'valid_id',\n",
       " 'name',\n",
       " 'asciiname',\n",
       " 'lat',\n",
       " 'lng',\n",
       " 'fclass',\n",
       " 'fcode',\n",
       " 'page_rank',\n",
       " 'date_from',\n",
       " 'date_until',\n",
       " 'comment',\n",
       " 'country_code',\n",
       " 'cc2',\n",
       " 'country_name',\n",
       " 'continent_name',\n",
       " 'adm1_code',\n",
       " 'adm1_name_utf',\n",
       " 'adm1_name_ascii',\n",
       " 'adm2_code',\n",
       " 'adm2_name_utf',\n",
       " 'adm2_name_ascii',\n",
       " 'adm3_code',\n",
       " 'adm4_code',\n",
       " 'population',\n",
       " 'elevation',\n",
       " 'gtopo30',\n",
       " 'timezone',\n",
       " 'gmt_offset',\n",
       " 'dst_offset',\n",
       " 'raw_offset',\n",
       " 'moddate',\n",
       " 'city_code',\n",
       " 'city_name_utf',\n",
       " 'city_name_ascii',\n",
       " 'tvl_por_list@raw',\n",
       " 'tvl_por_list',\n",
       " 'state_code',\n",
       " 'location_type@raw',\n",
       " 'location_type',\n",
       " 'wiki_link',\n",
       " 'alt_name_section@raw',\n",
       " 'alt_name_section',\n",
       " '__gar__']"
      ]
     },
     "execution_count": 67,
     "metadata": {},
     "output_type": "execute_result"
    }
   ],
   "source": [
    "geoDict.fields"
   ]
  },
  {
   "cell_type": "code",
   "execution_count": 68,
   "metadata": {
    "collapsed": true,
    "deletable": true,
    "editable": true
   },
   "outputs": [],
   "source": [
    "geoDict.get?"
   ]
  },
  {
   "cell_type": "code",
   "execution_count": 69,
   "metadata": {
    "collapsed": false,
    "deletable": true,
    "editable": true
   },
   "outputs": [
    {
     "data": {
      "text/plain": [
       "'London'"
      ]
     },
     "execution_count": 69,
     "metadata": {},
     "output_type": "execute_result"
    }
   ],
   "source": [
    "geoDict.get('LHR','city_name_utf')"
   ]
  },
  {
   "cell_type": "code",
   "execution_count": 70,
   "metadata": {
    "collapsed": false,
    "deletable": true,
    "editable": true
   },
   "outputs": [
    {
     "data": {
      "text/plain": [
       "'London Heathrow Airport'"
      ]
     },
     "execution_count": 70,
     "metadata": {},
     "output_type": "execute_result"
    }
   ],
   "source": [
    "geoDict.get('LHR')['name']"
   ]
  },
  {
   "cell_type": "code",
   "execution_count": 71,
   "metadata": {
    "collapsed": false,
    "deletable": true,
    "editable": true
   },
   "outputs": [
    {
     "data": {
      "text/plain": [
       "'LHR     '"
      ]
     },
     "execution_count": 71,
     "metadata": {},
     "output_type": "execute_result"
    }
   ],
   "source": [
    "import pandas as pd \n",
    "top=pd.read_csv('top_airports.csv', sep='^')\n",
    "top.arr_port[0]"
   ]
  },
  {
   "cell_type": "markdown",
   "metadata": {
    "deletable": true,
    "editable": true
   },
   "source": [
    "#### we need to remove white spaces"
   ]
  },
  {
   "cell_type": "code",
   "execution_count": 72,
   "metadata": {
    "collapsed": false,
    "deletable": true,
    "editable": true
   },
   "outputs": [
    {
     "data": {
      "text/plain": [
       "0                 London Heathrow Airport\n",
       "1           Orlando International Airport\n",
       "2       Los Angeles International Airport\n",
       "3         Mc Carran International Airport\n",
       "4    John F Kennedy International Airport\n",
       "5               Paris - Charles-de-Gaulle\n",
       "6                            Suvarnabhumi\n",
       "7             Miami International Airport\n",
       "8     San Francisco International Airport\n",
       "9             Dubai International Airport\n",
       "Name: arr_port, dtype: object"
      ]
     },
     "execution_count": 72,
     "metadata": {},
     "output_type": "execute_result"
    }
   ],
   "source": [
    "top['arr_port'].map(lambda x: geoDict.get(x.strip())['name'])[:10]"
   ]
  },
  {
   "cell_type": "code",
   "execution_count": 73,
   "metadata": {
    "collapsed": false,
    "deletable": true,
    "editable": true
   },
   "outputs": [
    {
     "data": {
      "text/html": [
       "<div>\n",
       "<table border=\"1\" class=\"dataframe\">\n",
       "  <thead>\n",
       "    <tr style=\"text-align: right;\">\n",
       "      <th></th>\n",
       "      <th>arr_port</th>\n",
       "      <th>pax</th>\n",
       "      <th>Airport Name</th>\n",
       "    </tr>\n",
       "  </thead>\n",
       "  <tbody>\n",
       "    <tr>\n",
       "      <th>0</th>\n",
       "      <td>LHR</td>\n",
       "      <td>88809.0</td>\n",
       "      <td>London Heathrow Airport</td>\n",
       "    </tr>\n",
       "    <tr>\n",
       "      <th>1</th>\n",
       "      <td>MCO</td>\n",
       "      <td>70930.0</td>\n",
       "      <td>Orlando International Airport</td>\n",
       "    </tr>\n",
       "    <tr>\n",
       "      <th>2</th>\n",
       "      <td>LAX</td>\n",
       "      <td>70530.0</td>\n",
       "      <td>Los Angeles International Airport</td>\n",
       "    </tr>\n",
       "    <tr>\n",
       "      <th>3</th>\n",
       "      <td>LAS</td>\n",
       "      <td>69630.0</td>\n",
       "      <td>Mc Carran International Airport</td>\n",
       "    </tr>\n",
       "    <tr>\n",
       "      <th>4</th>\n",
       "      <td>JFK</td>\n",
       "      <td>66270.0</td>\n",
       "      <td>John F Kennedy International Airport</td>\n",
       "    </tr>\n",
       "  </tbody>\n",
       "</table>\n",
       "</div>"
      ],
      "text/plain": [
       "   arr_port      pax                          Airport Name\n",
       "0  LHR       88809.0               London Heathrow Airport\n",
       "1  MCO       70930.0         Orlando International Airport\n",
       "2  LAX       70530.0     Los Angeles International Airport\n",
       "3  LAS       69630.0       Mc Carran International Airport\n",
       "4  JFK       66270.0  John F Kennedy International Airport"
      ]
     },
     "execution_count": 73,
     "metadata": {},
     "output_type": "execute_result"
    }
   ],
   "source": [
    "top['Airport Name']=top['arr_port'].map(lambda x: geoDict.get(x.strip())['name'])\n",
    "top.head()"
   ]
  },
  {
   "cell_type": "code",
   "execution_count": null,
   "metadata": {
    "collapsed": true
   },
   "outputs": [],
   "source": []
  }
 ],
 "metadata": {
  "kernelspec": {
   "display_name": "Python 2",
   "language": "python",
   "name": "python2"
  },
  "language_info": {
   "codemirror_mode": {
    "name": "ipython",
    "version": 2
   },
   "file_extension": ".py",
   "mimetype": "text/x-python",
   "name": "python",
   "nbconvert_exporter": "python",
   "pygments_lexer": "ipython2",
   "version": "2.7.13"
  }
 },
 "nbformat": 4,
 "nbformat_minor": 0
}
