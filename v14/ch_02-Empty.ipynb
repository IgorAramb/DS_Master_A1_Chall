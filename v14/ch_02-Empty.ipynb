{
 "cells": [
  {
   "cell_type": "markdown",
   "metadata": {
    "collapsed": true
   },
   "source": [
    "## Top 10 arrival airports in the world in 2013 (using the bookings file)\n",
    "\n",
    "Arrival airport is the column arr_port. It is the IATA code for the airport\n",
    "\n",
    "To get the total number of passengers for an airport, you can sum the column pax, grouping by arr_port.\n",
    "\n",
    "Note that there is negative pax. That corresponds to cancelations. So to get the total number of passengers that have actually booked, you should sum including the negatives (that will remove the canceled bookings).\n",
    "\n",
    "Print the top 10 arrival airports in the standard output, including the number of passengers.\n",
    "\n",
    "Bonus point: Get the name of the city or airport corresponding to that airport (programatically, we suggest to have a look at GeoBases in Github)\n",
    "\n",
    "Bonus point: Solve this problem using pandas (instead of any other approach)\n"
   ]
  },
  {
   "cell_type": "raw",
   "metadata": {},
   "source": [
    "Get familiar with data\n",
    "Select the columns of interest\n",
    "What to do with NaN?\n",
    "\n",
    "Make action plan\n",
    "Develop the code that works with a sample\n",
    "\n",
    "Adjust the code to work with Big data\n",
    "Test big data approach on a sample\n",
    "\n",
    "Run program with big data\n",
    "\n",
    "(Bonus Point)"
   ]
  },
  {
   "cell_type": "markdown",
   "metadata": {},
   "source": [
    "## 0) Prepare booking Sample (we might need this for later)"
   ]
  },
  {
   "cell_type": "code",
   "execution_count": null,
   "metadata": {
    "collapsed": true
   },
   "outputs": [],
   "source": [
    "#done in ch_01"
   ]
  },
  {
   "cell_type": "markdown",
   "metadata": {},
   "source": [
    "## 1) Get familiar with data"
   ]
  },
  {
   "cell_type": "markdown",
   "metadata": {},
   "source": [
    "### What if we dont want to read the whole file?"
   ]
  },
  {
   "cell_type": "raw",
   "metadata": {},
   "source": [
    "Options:\n",
    "1) prepare the sample\n",
    "2) read_csv with nrows option"
   ]
  },
  {
   "cell_type": "code",
   "execution_count": 4,
   "metadata": {},
   "outputs": [],
   "source": [
    "import pandas as pd"
   ]
  },
  {
   "cell_type": "code",
   "execution_count": 22,
   "metadata": {},
   "outputs": [],
   "source": [
    "#DON'T DO THIS!!!\n",
    "b = pd.read_csv('bookings.csv.bz2',sep='^')"
   ]
  },
  {
   "cell_type": "code",
   "execution_count": 5,
   "metadata": {},
   "outputs": [
    {
     "name": "stdout",
     "output_type": "stream",
     "text": [
      "/home/dsc/Data/challenge\n"
     ]
    }
   ],
   "source": [
    "cd ~/Data/challenge"
   ]
  },
  {
   "cell_type": "code",
   "execution_count": 9,
   "metadata": {},
   "outputs": [],
   "source": [
    "b = pd.read_csv('bookings.sample.csv.bz2',sep='^')"
   ]
  },
  {
   "cell_type": "code",
   "execution_count": 8,
   "metadata": {},
   "outputs": [],
   "source": [
    "#We can do it with nrows also\n",
    "b = pd.read_csv('bookings.csv.bz2',sep='^', nrows=10000)"
   ]
  },
  {
   "cell_type": "markdown",
   "metadata": {},
   "source": [
    "## Commands for obtaining data info:\n",
    "   "
   ]
  },
  {
   "cell_type": "markdown",
   "metadata": {
    "collapsed": true
   },
   "source": [
    "Commands for obtaining data info:\n",
    "    b.shape  - object \n",
    "    b.info()\n",
    "\n",
    "    b.columns\n",
    "    b.columns.to_list()\n",
    "    list(b.columns)\n",
    "    \n",
    "    b.head() -function\n",
    "    b.sample()\n",
    "    \n",
    "    #pd.set_option('display.max_columns', 100)\n",
    "    pd.set_option('display.max_columns', None)\n",
    "    \n",
    "    b.describe()\n",
    "    b.describe(include='all')\n",
    "    df.dtypes\n",
    "    \n",
    "    b.isnull().sum()\n",
    "    non_null_counts = b.count()\n",
    "    "
   ]
  },
  {
   "cell_type": "code",
   "execution_count": 11,
   "metadata": {},
   "outputs": [
    {
     "data": {
      "text/html": [
       "<div>\n",
       "<style scoped>\n",
       "    .dataframe tbody tr th:only-of-type {\n",
       "        vertical-align: middle;\n",
       "    }\n",
       "\n",
       "    .dataframe tbody tr th {\n",
       "        vertical-align: top;\n",
       "    }\n",
       "\n",
       "    .dataframe thead th {\n",
       "        text-align: right;\n",
       "    }\n",
       "</style>\n",
       "<table border=\"1\" class=\"dataframe\">\n",
       "  <thead>\n",
       "    <tr style=\"text-align: right;\">\n",
       "      <th></th>\n",
       "      <th>act_date</th>\n",
       "      <th>source</th>\n",
       "      <th>pos_ctry</th>\n",
       "      <th>pos_iata</th>\n",
       "      <th>pos_oid</th>\n",
       "      <th>rloc</th>\n",
       "      <th>cre_date</th>\n",
       "      <th>duration</th>\n",
       "      <th>distance</th>\n",
       "      <th>dep_port</th>\n",
       "      <th>...</th>\n",
       "      <th>route</th>\n",
       "      <th>carrier</th>\n",
       "      <th>bkg_class</th>\n",
       "      <th>cab_class</th>\n",
       "      <th>brd_time</th>\n",
       "      <th>off_time</th>\n",
       "      <th>pax</th>\n",
       "      <th>year</th>\n",
       "      <th>month</th>\n",
       "      <th>oid</th>\n",
       "    </tr>\n",
       "  </thead>\n",
       "  <tbody>\n",
       "    <tr>\n",
       "      <th>9845</th>\n",
       "      <td>2013-03-24 00:00:00</td>\n",
       "      <td>1V</td>\n",
       "      <td>CA</td>\n",
       "      <td>a6275f6fc9a6e1d7e58fa222b3f56c09</td>\n",
       "      <td>a4ad0c23a05a1117442fbf85a3f35ce8</td>\n",
       "      <td>a04d981e74ae0d69895a256f94afbe81</td>\n",
       "      <td>2012-11-21 00:00:00</td>\n",
       "      <td>24440</td>\n",
       "      <td>0</td>\n",
       "      <td>YYZ</td>\n",
       "      <td>...</td>\n",
       "      <td>LHRYYZ</td>\n",
       "      <td>LK</td>\n",
       "      <td>O</td>\n",
       "      <td>Y</td>\n",
       "      <td>2013-04-14 16:20:00</td>\n",
       "      <td>2013-04-14 18:50:34</td>\n",
       "      <td>-2</td>\n",
       "      <td>2013</td>\n",
       "      <td>3</td>\n",
       "      <td>NULL</td>\n",
       "    </tr>\n",
       "    <tr>\n",
       "      <th>1172</th>\n",
       "      <td>2013-03-06 00:00:00</td>\n",
       "      <td>1P</td>\n",
       "      <td>US</td>\n",
       "      <td>4804033f441ee30d92980c8b2207e8ae</td>\n",
       "      <td>4868da7a1666bbbc5fe33d377690f8eb</td>\n",
       "      <td>0eae498bb0bccdd1b46083e14b8927a7</td>\n",
       "      <td>2013-03-06 00:00:00</td>\n",
       "      <td>57699</td>\n",
       "      <td>0</td>\n",
       "      <td>JFK</td>\n",
       "      <td>...</td>\n",
       "      <td>JFKCDGATH</td>\n",
       "      <td>NV</td>\n",
       "      <td>T</td>\n",
       "      <td>Y</td>\n",
       "      <td>2013-04-18 19:10:00</td>\n",
       "      <td>2013-04-19 14:06:45</td>\n",
       "      <td>1</td>\n",
       "      <td>2013</td>\n",
       "      <td>3</td>\n",
       "      <td>NULL</td>\n",
       "    </tr>\n",
       "    <tr>\n",
       "      <th>1144</th>\n",
       "      <td>2013-03-18 00:00:00</td>\n",
       "      <td>1A</td>\n",
       "      <td>FR</td>\n",
       "      <td>4f1abfcca038fe7440b7ed6d1a853ae0</td>\n",
       "      <td>2f77e0895d7ef7381e677d44ee8cf27c</td>\n",
       "      <td>71fc9d7c609a1d0114fedcaff7c372ee</td>\n",
       "      <td>2013-03-12 00:00:00</td>\n",
       "      <td>14813</td>\n",
       "      <td>1191</td>\n",
       "      <td>GVA</td>\n",
       "      <td>...</td>\n",
       "      <td>CDGDUB</td>\n",
       "      <td>KP</td>\n",
       "      <td>W</td>\n",
       "      <td>Y</td>\n",
       "      <td>2013-04-30 15:40:00</td>\n",
       "      <td>2013-04-30 16:23:22</td>\n",
       "      <td>-1</td>\n",
       "      <td>2013</td>\n",
       "      <td>3</td>\n",
       "      <td>NULL</td>\n",
       "    </tr>\n",
       "    <tr>\n",
       "      <th>4568</th>\n",
       "      <td>2013-03-11 00:00:00</td>\n",
       "      <td>1A</td>\n",
       "      <td>FR</td>\n",
       "      <td>0518bcfa23df6fac8ccb13622f9eb070</td>\n",
       "      <td>7b02b710596f17e08624cac52b2ca4a4</td>\n",
       "      <td>425f249051d1801291cc1b4e23d7f8c6</td>\n",
       "      <td>2013-03-11 00:00:00</td>\n",
       "      <td>4357</td>\n",
       "      <td>0</td>\n",
       "      <td>MRS</td>\n",
       "      <td>...</td>\n",
       "      <td>ORYMRS</td>\n",
       "      <td>KP</td>\n",
       "      <td>A</td>\n",
       "      <td>F</td>\n",
       "      <td>2013-03-27 17:05:00</td>\n",
       "      <td>2013-03-27 18:37:17</td>\n",
       "      <td>1</td>\n",
       "      <td>2013</td>\n",
       "      <td>3</td>\n",
       "      <td>NULL</td>\n",
       "    </tr>\n",
       "    <tr>\n",
       "      <th>8457</th>\n",
       "      <td>2013-03-19 00:00:00</td>\n",
       "      <td>1V</td>\n",
       "      <td>CA</td>\n",
       "      <td>abc786fb31252b055357e232c1320e15</td>\n",
       "      <td>4789ba87da711de7c53fe2099e550d57</td>\n",
       "      <td>4106248403ce1a66792437982807db32</td>\n",
       "      <td>2013-03-19 00:00:00</td>\n",
       "      <td>3207</td>\n",
       "      <td>0</td>\n",
       "      <td>YYC</td>\n",
       "      <td>...</td>\n",
       "      <td>YYZYYC</td>\n",
       "      <td>HD</td>\n",
       "      <td>M</td>\n",
       "      <td>Y</td>\n",
       "      <td>2013-04-04 21:45:00</td>\n",
       "      <td>2013-04-04 23:42:42</td>\n",
       "      <td>2</td>\n",
       "      <td>2013</td>\n",
       "      <td>3</td>\n",
       "      <td>NULL</td>\n",
       "    </tr>\n",
       "  </tbody>\n",
       "</table>\n",
       "<p>5 rows × 38 columns</p>\n",
       "</div>"
      ],
      "text/plain": [
       "      act_date             source  pos_ctry                          pos_iata  \\\n",
       "9845  2013-03-24 00:00:00  1V      CA        a6275f6fc9a6e1d7e58fa222b3f56c09   \n",
       "1172  2013-03-06 00:00:00  1P      US        4804033f441ee30d92980c8b2207e8ae   \n",
       "1144  2013-03-18 00:00:00  1A      FR        4f1abfcca038fe7440b7ed6d1a853ae0   \n",
       "4568  2013-03-11 00:00:00  1A      FR        0518bcfa23df6fac8ccb13622f9eb070   \n",
       "8457  2013-03-19 00:00:00  1V      CA        abc786fb31252b055357e232c1320e15   \n",
       "\n",
       "                             pos_oid                      rloc            \\\n",
       "9845  a4ad0c23a05a1117442fbf85a3f35ce8  a04d981e74ae0d69895a256f94afbe81   \n",
       "1172  4868da7a1666bbbc5fe33d377690f8eb  0eae498bb0bccdd1b46083e14b8927a7   \n",
       "1144  2f77e0895d7ef7381e677d44ee8cf27c  71fc9d7c609a1d0114fedcaff7c372ee   \n",
       "4568  7b02b710596f17e08624cac52b2ca4a4  425f249051d1801291cc1b4e23d7f8c6   \n",
       "8457  4789ba87da711de7c53fe2099e550d57  4106248403ce1a66792437982807db32   \n",
       "\n",
       "      cre_date             duration  distance  dep_port    ...      \\\n",
       "9845  2012-11-21 00:00:00     24440         0  YYZ         ...       \n",
       "1172  2013-03-06 00:00:00     57699         0  JFK         ...       \n",
       "1144  2013-03-12 00:00:00     14813      1191  GVA         ...       \n",
       "4568  2013-03-11 00:00:00      4357         0  MRS         ...       \n",
       "8457  2013-03-19 00:00:00      3207         0  YYC         ...       \n",
       "\n",
       "      route           carrier  bkg_class  cab_class  brd_time             \\\n",
       "9845     LHRYYZ            LK  O          Y          2013-04-14 16:20:00   \n",
       "1172  JFKCDGATH            NV  T          Y          2013-04-18 19:10:00   \n",
       "1144  CDGDUB               KP  W          Y          2013-04-30 15:40:00   \n",
       "4568  ORYMRS               KP  A          F          2013-03-27 17:05:00   \n",
       "8457  YYZYYC               HD  M          Y          2013-04-04 21:45:00   \n",
       "\n",
       "      off_time            pax  year month  oid        \n",
       "9845  2013-04-14 18:50:34  -2  2013     3  NULL       \n",
       "1172  2013-04-19 14:06:45   1  2013     3  NULL       \n",
       "1144  2013-04-30 16:23:22  -1  2013     3  NULL       \n",
       "4568  2013-03-27 18:37:17   1  2013     3  NULL       \n",
       "8457  2013-04-04 23:42:42   2  2013     3  NULL       \n",
       "\n",
       "[5 rows x 38 columns]"
      ]
     },
     "execution_count": 11,
     "metadata": {},
     "output_type": "execute_result"
    }
   ],
   "source": [
    "b.sample(5)"
   ]
  },
  {
   "cell_type": "code",
   "execution_count": 14,
   "metadata": {},
   "outputs": [],
   "source": [
    "#pd.set_opti`on('display.max_columns', 100)\n",
    "pd.set_option('display.max_columns', None)"
   ]
  },
  {
   "cell_type": "code",
   "execution_count": 16,
   "metadata": {},
   "outputs": [
    {
     "data": {
      "text/html": [
       "<div>\n",
       "<style scoped>\n",
       "    .dataframe tbody tr th:only-of-type {\n",
       "        vertical-align: middle;\n",
       "    }\n",
       "\n",
       "    .dataframe tbody tr th {\n",
       "        vertical-align: top;\n",
       "    }\n",
       "\n",
       "    .dataframe thead th {\n",
       "        text-align: right;\n",
       "    }\n",
       "</style>\n",
       "<table border=\"1\" class=\"dataframe\">\n",
       "  <thead>\n",
       "    <tr style=\"text-align: right;\">\n",
       "      <th></th>\n",
       "      <th>act_date</th>\n",
       "      <th>source</th>\n",
       "      <th>pos_ctry</th>\n",
       "      <th>pos_iata</th>\n",
       "      <th>pos_oid</th>\n",
       "      <th>rloc</th>\n",
       "      <th>cre_date</th>\n",
       "      <th>duration</th>\n",
       "      <th>distance</th>\n",
       "      <th>dep_port</th>\n",
       "      <th>dep_city</th>\n",
       "      <th>dep_ctry</th>\n",
       "      <th>arr_port</th>\n",
       "      <th>arr_city</th>\n",
       "      <th>arr_ctry</th>\n",
       "      <th>lst_port</th>\n",
       "      <th>lst_city</th>\n",
       "      <th>lst_ctry</th>\n",
       "      <th>brd_port</th>\n",
       "      <th>brd_city</th>\n",
       "      <th>brd_ctry</th>\n",
       "      <th>off_port</th>\n",
       "      <th>off_city</th>\n",
       "      <th>off_ctry</th>\n",
       "      <th>mkt_port</th>\n",
       "      <th>mkt_city</th>\n",
       "      <th>mkt_ctry</th>\n",
       "      <th>intl</th>\n",
       "      <th>route</th>\n",
       "      <th>carrier</th>\n",
       "      <th>bkg_class</th>\n",
       "      <th>cab_class</th>\n",
       "      <th>brd_time</th>\n",
       "      <th>off_time</th>\n",
       "      <th>pax</th>\n",
       "      <th>year</th>\n",
       "      <th>month</th>\n",
       "      <th>oid</th>\n",
       "    </tr>\n",
       "  </thead>\n",
       "  <tbody>\n",
       "    <tr>\n",
       "      <th>106</th>\n",
       "      <td>2013-03-22 00:00:00</td>\n",
       "      <td>1P</td>\n",
       "      <td>US</td>\n",
       "      <td>83ccf07a55606976f78e63fcc805f58c</td>\n",
       "      <td>1490c3c5f95f04fa076fe15c775a80a9</td>\n",
       "      <td>8536b468b31a161141c397efaa8bad31</td>\n",
       "      <td>2013-03-22 00:00:00</td>\n",
       "      <td>4410</td>\n",
       "      <td>0</td>\n",
       "      <td>BOS</td>\n",
       "      <td>BOS</td>\n",
       "      <td>US</td>\n",
       "      <td>EWR</td>\n",
       "      <td>NYC</td>\n",
       "      <td>US</td>\n",
       "      <td>BOS</td>\n",
       "      <td>BOS</td>\n",
       "      <td>US</td>\n",
       "      <td>BOS</td>\n",
       "      <td>BOS</td>\n",
       "      <td>US</td>\n",
       "      <td>EWR</td>\n",
       "      <td>NYC</td>\n",
       "      <td>US</td>\n",
       "      <td>BOSEWR</td>\n",
       "      <td>BOSNYC</td>\n",
       "      <td>USUS</td>\n",
       "      <td>0</td>\n",
       "      <td>BOSEWR</td>\n",
       "      <td>FK</td>\n",
       "      <td>S</td>\n",
       "      <td>Y</td>\n",
       "      <td>2013-04-11 20:32:00</td>\n",
       "      <td>2013-04-11 21:42:47</td>\n",
       "      <td>1</td>\n",
       "      <td>2013</td>\n",
       "      <td>3</td>\n",
       "      <td>NULL</td>\n",
       "    </tr>\n",
       "    <tr>\n",
       "      <th>6084</th>\n",
       "      <td>2013-03-27 00:00:00</td>\n",
       "      <td>1V</td>\n",
       "      <td>US</td>\n",
       "      <td>75ad6fea47c9fd4ba9fb7a9aef158288</td>\n",
       "      <td>bfc7420e0ee050da4cb9aea6e8bbf8f8</td>\n",
       "      <td>860598506e233778dc6ddfe72f5c1a58</td>\n",
       "      <td>2013-03-20 00:00:00</td>\n",
       "      <td>2816</td>\n",
       "      <td>5727</td>\n",
       "      <td>LHR</td>\n",
       "      <td>LON</td>\n",
       "      <td>GB</td>\n",
       "      <td>KBL</td>\n",
       "      <td>KBL</td>\n",
       "      <td>AF</td>\n",
       "      <td>KBL</td>\n",
       "      <td>KBL</td>\n",
       "      <td>AF</td>\n",
       "      <td>LHR</td>\n",
       "      <td>LON</td>\n",
       "      <td>GB</td>\n",
       "      <td>ZRH</td>\n",
       "      <td>ZRH</td>\n",
       "      <td>CH</td>\n",
       "      <td>LHRZRH</td>\n",
       "      <td>LONZRH</td>\n",
       "      <td>CHGB</td>\n",
       "      <td>1</td>\n",
       "      <td>LHRZRH</td>\n",
       "      <td>LK</td>\n",
       "      <td>Y</td>\n",
       "      <td>Y</td>\n",
       "      <td>2013-08-14 07:10:00</td>\n",
       "      <td>2013-08-14 09:53:37</td>\n",
       "      <td>-1</td>\n",
       "      <td>2013</td>\n",
       "      <td>3</td>\n",
       "      <td>NULL</td>\n",
       "    </tr>\n",
       "    <tr>\n",
       "      <th>5353</th>\n",
       "      <td>2013-03-26 00:00:00</td>\n",
       "      <td>1P</td>\n",
       "      <td>LB</td>\n",
       "      <td>84a4aa8da388b27562ff92023f33b055</td>\n",
       "      <td>aca9cb4e20d6e92629e35dc524f9ef6d</td>\n",
       "      <td>5009f31e5f222ac555665908850fbce9</td>\n",
       "      <td>2013-03-25 00:00:00</td>\n",
       "      <td>87328</td>\n",
       "      <td>0</td>\n",
       "      <td>BEY</td>\n",
       "      <td>BEY</td>\n",
       "      <td>LB</td>\n",
       "      <td>JFK</td>\n",
       "      <td>NYC</td>\n",
       "      <td>US</td>\n",
       "      <td>BEY</td>\n",
       "      <td>BEY</td>\n",
       "      <td>LB</td>\n",
       "      <td>BEY</td>\n",
       "      <td>BEY</td>\n",
       "      <td>LB</td>\n",
       "      <td>JFK</td>\n",
       "      <td>NYC</td>\n",
       "      <td>US</td>\n",
       "      <td>BEYJFK</td>\n",
       "      <td>BEYNYC</td>\n",
       "      <td>LBUS</td>\n",
       "      <td>1</td>\n",
       "      <td>BEYLHRJFK</td>\n",
       "      <td>LK</td>\n",
       "      <td>N</td>\n",
       "      <td>Y</td>\n",
       "      <td>2013-04-24 06:15:00</td>\n",
       "      <td>2013-04-24 17:33:46</td>\n",
       "      <td>-2</td>\n",
       "      <td>2013</td>\n",
       "      <td>3</td>\n",
       "      <td>NULL</td>\n",
       "    </tr>\n",
       "    <tr>\n",
       "      <th>3799</th>\n",
       "      <td>2013-03-02 00:00:00</td>\n",
       "      <td>1S</td>\n",
       "      <td>IT</td>\n",
       "      <td>7b7dbb6f049f0691ca645b45932c89e4</td>\n",
       "      <td>4b355d4f966fcecd80b6df7a46924356</td>\n",
       "      <td>58287365967d183987ca9288caf621e1</td>\n",
       "      <td>2013-02-22 00:00:00</td>\n",
       "      <td>22782</td>\n",
       "      <td>0</td>\n",
       "      <td>FCO</td>\n",
       "      <td>ROM</td>\n",
       "      <td>IT</td>\n",
       "      <td>LAX</td>\n",
       "      <td>LAX</td>\n",
       "      <td>US</td>\n",
       "      <td>FCO</td>\n",
       "      <td>ROM</td>\n",
       "      <td>IT</td>\n",
       "      <td>FCO</td>\n",
       "      <td>ROM</td>\n",
       "      <td>IT</td>\n",
       "      <td>JFK</td>\n",
       "      <td>NYC</td>\n",
       "      <td>US</td>\n",
       "      <td>FCOJFK</td>\n",
       "      <td>NYCROM</td>\n",
       "      <td>ITUS</td>\n",
       "      <td>1</td>\n",
       "      <td>FCOMADJFK</td>\n",
       "      <td>KK</td>\n",
       "      <td>S</td>\n",
       "      <td>Y</td>\n",
       "      <td>2013-05-27 12:00:00</td>\n",
       "      <td>2013-05-27 18:24:23</td>\n",
       "      <td>-2</td>\n",
       "      <td>2013</td>\n",
       "      <td>3</td>\n",
       "      <td>NULL</td>\n",
       "    </tr>\n",
       "    <tr>\n",
       "      <th>302</th>\n",
       "      <td>2013-03-25 00:00:00</td>\n",
       "      <td>1P</td>\n",
       "      <td>LB</td>\n",
       "      <td>0b6690865ffb85eeafdf7ddf64678965</td>\n",
       "      <td>12d2c9b80ae7ae5713becd90938acbd4</td>\n",
       "      <td>bbb1867b7df2e79026d4ac474a332a83</td>\n",
       "      <td>2013-03-21 00:00:00</td>\n",
       "      <td>653</td>\n",
       "      <td>2781</td>\n",
       "      <td>BEY</td>\n",
       "      <td>BEY</td>\n",
       "      <td>LB</td>\n",
       "      <td>ADD</td>\n",
       "      <td>ADD</td>\n",
       "      <td>ET</td>\n",
       "      <td>ADD</td>\n",
       "      <td>ADD</td>\n",
       "      <td>ET</td>\n",
       "      <td>BEY</td>\n",
       "      <td>BEY</td>\n",
       "      <td>LB</td>\n",
       "      <td>ADD</td>\n",
       "      <td>ADD</td>\n",
       "      <td>ET</td>\n",
       "      <td>ADDBEY</td>\n",
       "      <td>ADDBEY</td>\n",
       "      <td>ETLB</td>\n",
       "      <td>1</td>\n",
       "      <td>BEYSAHADD</td>\n",
       "      <td>SJ</td>\n",
       "      <td>L</td>\n",
       "      <td>Y</td>\n",
       "      <td>2013-03-26 16:00:00</td>\n",
       "      <td>2013-03-27 03:53:44</td>\n",
       "      <td>-1</td>\n",
       "      <td>2013</td>\n",
       "      <td>3</td>\n",
       "      <td>NULL</td>\n",
       "    </tr>\n",
       "  </tbody>\n",
       "</table>\n",
       "</div>"
      ],
      "text/plain": [
       "      act_date             source  pos_ctry                          pos_iata  \\\n",
       "106   2013-03-22 00:00:00  1P      US        83ccf07a55606976f78e63fcc805f58c   \n",
       "6084  2013-03-27 00:00:00  1V      US        75ad6fea47c9fd4ba9fb7a9aef158288   \n",
       "5353  2013-03-26 00:00:00  1P      LB        84a4aa8da388b27562ff92023f33b055   \n",
       "3799  2013-03-02 00:00:00  1S      IT        7b7dbb6f049f0691ca645b45932c89e4   \n",
       "302   2013-03-25 00:00:00  1P      LB        0b6690865ffb85eeafdf7ddf64678965   \n",
       "\n",
       "                             pos_oid                      rloc            \\\n",
       "106   1490c3c5f95f04fa076fe15c775a80a9  8536b468b31a161141c397efaa8bad31   \n",
       "6084  bfc7420e0ee050da4cb9aea6e8bbf8f8  860598506e233778dc6ddfe72f5c1a58   \n",
       "5353  aca9cb4e20d6e92629e35dc524f9ef6d  5009f31e5f222ac555665908850fbce9   \n",
       "3799  4b355d4f966fcecd80b6df7a46924356  58287365967d183987ca9288caf621e1   \n",
       "302   12d2c9b80ae7ae5713becd90938acbd4  bbb1867b7df2e79026d4ac474a332a83   \n",
       "\n",
       "      cre_date             duration  distance  dep_port  dep_city  dep_ctry  \\\n",
       "106   2013-03-22 00:00:00      4410         0  BOS       BOS       US         \n",
       "6084  2013-03-20 00:00:00      2816      5727  LHR       LON       GB         \n",
       "5353  2013-03-25 00:00:00     87328         0  BEY       BEY       LB         \n",
       "3799  2013-02-22 00:00:00     22782         0  FCO       ROM       IT         \n",
       "302   2013-03-21 00:00:00       653      2781  BEY       BEY       LB         \n",
       "\n",
       "      arr_port  arr_city  arr_ctry  lst_port  lst_city  lst_ctry  brd_port  \\\n",
       "106   EWR       NYC       US        BOS       BOS       US        BOS        \n",
       "6084  KBL       KBL       AF        KBL       KBL       AF        LHR        \n",
       "5353  JFK       NYC       US        BEY       BEY       LB        BEY        \n",
       "3799  LAX       LAX       US        FCO       ROM       IT        FCO        \n",
       "302   ADD       ADD       ET        ADD       ADD       ET        BEY        \n",
       "\n",
       "      brd_city  brd_ctry  off_port  off_city  off_ctry  mkt_port  mkt_city  \\\n",
       "106   BOS       US        EWR       NYC       US        BOSEWR    BOSNYC     \n",
       "6084  LON       GB        ZRH       ZRH       CH        LHRZRH    LONZRH     \n",
       "5353  BEY       LB        JFK       NYC       US        BEYJFK    BEYNYC     \n",
       "3799  ROM       IT        JFK       NYC       US        FCOJFK    NYCROM     \n",
       "302   BEY       LB        ADD       ADD       ET        ADDBEY    ADDBEY     \n",
       "\n",
       "      mkt_ctry  intl  route           carrier  bkg_class  cab_class  \\\n",
       "106   USUS         0  BOSEWR               FK  S          Y           \n",
       "6084  CHGB         1     LHRZRH            LK  Y          Y           \n",
       "5353  LBUS         1     BEYLHRJFK         LK  N          Y           \n",
       "3799  ITUS         1     FCOMADJFK         KK  S          Y           \n",
       "302   ETLB         1  BEYSAHADD            SJ  L          Y           \n",
       "\n",
       "      brd_time             off_time             pax  year  month  oid        \n",
       "106   2013-04-11 20:32:00  2013-04-11 21:42:47    1  2013      3  NULL       \n",
       "6084  2013-08-14 07:10:00  2013-08-14 09:53:37   -1  2013      3  NULL       \n",
       "5353  2013-04-24 06:15:00  2013-04-24 17:33:46   -2  2013      3  NULL       \n",
       "3799  2013-05-27 12:00:00  2013-05-27 18:24:23   -2  2013      3  NULL       \n",
       "302   2013-03-26 16:00:00  2013-03-27 03:53:44   -1  2013      3  NULL       "
      ]
     },
     "execution_count": 16,
     "metadata": {},
     "output_type": "execute_result"
    }
   ],
   "source": [
    "b.sample(5)"
   ]
  },
  {
   "cell_type": "code",
   "execution_count": 10,
   "metadata": {},
   "outputs": [
    {
     "data": {
      "text/html": [
       "<div>\n",
       "<style scoped>\n",
       "    .dataframe tbody tr th:only-of-type {\n",
       "        vertical-align: middle;\n",
       "    }\n",
       "\n",
       "    .dataframe tbody tr th {\n",
       "        vertical-align: top;\n",
       "    }\n",
       "\n",
       "    .dataframe thead th {\n",
       "        text-align: right;\n",
       "    }\n",
       "</style>\n",
       "<table border=\"1\" class=\"dataframe\">\n",
       "  <thead>\n",
       "    <tr style=\"text-align: right;\">\n",
       "      <th></th>\n",
       "      <th>duration</th>\n",
       "      <th>distance</th>\n",
       "      <th>intl</th>\n",
       "      <th>pax</th>\n",
       "      <th>year</th>\n",
       "      <th>month</th>\n",
       "    </tr>\n",
       "  </thead>\n",
       "  <tbody>\n",
       "    <tr>\n",
       "      <th>count</th>\n",
       "      <td>9999.000000</td>\n",
       "      <td>9999.000000</td>\n",
       "      <td>9999.000000</td>\n",
       "      <td>9999.000000</td>\n",
       "      <td>9999.0</td>\n",
       "      <td>9999.0</td>\n",
       "    </tr>\n",
       "    <tr>\n",
       "      <th>mean</th>\n",
       "      <td>20209.746075</td>\n",
       "      <td>455.608861</td>\n",
       "      <td>0.596260</td>\n",
       "      <td>0.516152</td>\n",
       "      <td>2013.0</td>\n",
       "      <td>3.0</td>\n",
       "    </tr>\n",
       "    <tr>\n",
       "      <th>std</th>\n",
       "      <td>42243.233482</td>\n",
       "      <td>1738.891068</td>\n",
       "      <td>0.490671</td>\n",
       "      <td>1.783970</td>\n",
       "      <td>0.0</td>\n",
       "      <td>0.0</td>\n",
       "    </tr>\n",
       "    <tr>\n",
       "      <th>min</th>\n",
       "      <td>59.000000</td>\n",
       "      <td>0.000000</td>\n",
       "      <td>0.000000</td>\n",
       "      <td>-25.000000</td>\n",
       "      <td>2013.0</td>\n",
       "      <td>3.0</td>\n",
       "    </tr>\n",
       "    <tr>\n",
       "      <th>25%</th>\n",
       "      <td>3339.000000</td>\n",
       "      <td>0.000000</td>\n",
       "      <td>0.000000</td>\n",
       "      <td>-1.000000</td>\n",
       "      <td>2013.0</td>\n",
       "      <td>3.0</td>\n",
       "    </tr>\n",
       "    <tr>\n",
       "      <th>50%</th>\n",
       "      <td>7721.000000</td>\n",
       "      <td>0.000000</td>\n",
       "      <td>1.000000</td>\n",
       "      <td>1.000000</td>\n",
       "      <td>2013.0</td>\n",
       "      <td>3.0</td>\n",
       "    </tr>\n",
       "    <tr>\n",
       "      <th>75%</th>\n",
       "      <td>19077.000000</td>\n",
       "      <td>0.000000</td>\n",
       "      <td>1.000000</td>\n",
       "      <td>1.000000</td>\n",
       "      <td>2013.0</td>\n",
       "      <td>3.0</td>\n",
       "    </tr>\n",
       "    <tr>\n",
       "      <th>max</th>\n",
       "      <td>488131.000000</td>\n",
       "      <td>18481.000000</td>\n",
       "      <td>1.000000</td>\n",
       "      <td>25.000000</td>\n",
       "      <td>2013.0</td>\n",
       "      <td>3.0</td>\n",
       "    </tr>\n",
       "  </tbody>\n",
       "</table>\n",
       "</div>"
      ],
      "text/plain": [
       "            duration      distance         intl          pax    year   month\n",
       "count    9999.000000   9999.000000  9999.000000  9999.000000  9999.0  9999.0\n",
       "mean    20209.746075    455.608861     0.596260     0.516152  2013.0     3.0\n",
       "std     42243.233482   1738.891068     0.490671     1.783970     0.0     0.0\n",
       "min        59.000000      0.000000     0.000000   -25.000000  2013.0     3.0\n",
       "25%      3339.000000      0.000000     0.000000    -1.000000  2013.0     3.0\n",
       "50%      7721.000000      0.000000     1.000000     1.000000  2013.0     3.0\n",
       "75%     19077.000000      0.000000     1.000000     1.000000  2013.0     3.0\n",
       "max    488131.000000  18481.000000     1.000000    25.000000  2013.0     3.0"
      ]
     },
     "execution_count": 10,
     "metadata": {},
     "output_type": "execute_result"
    }
   ],
   "source": [
    "b.describe()"
   ]
  },
  {
   "cell_type": "code",
   "execution_count": 17,
   "metadata": {},
   "outputs": [
    {
     "data": {
      "text/plain": [
       "(9999, 38)"
      ]
     },
     "execution_count": 17,
     "metadata": {},
     "output_type": "execute_result"
    }
   ],
   "source": [
    "b.shape"
   ]
  },
  {
   "cell_type": "code",
   "execution_count": 19,
   "metadata": {},
   "outputs": [
    {
     "name": "stdout",
     "output_type": "stream",
     "text": [
      "<class 'pandas.core.frame.DataFrame'>\n",
      "RangeIndex: 9999 entries, 0 to 9998\n",
      "Data columns (total 38 columns):\n",
      "act_date               9999 non-null object\n",
      "source                 9999 non-null object\n",
      "pos_ctry               9999 non-null object\n",
      "pos_iata               9999 non-null object\n",
      "pos_oid                9999 non-null object\n",
      "rloc                   9999 non-null object\n",
      "cre_date               9999 non-null object\n",
      "duration               9999 non-null int64\n",
      "distance               9999 non-null int64\n",
      "dep_port               9999 non-null object\n",
      "dep_city               9999 non-null object\n",
      "dep_ctry               9999 non-null object\n",
      "arr_port               9999 non-null object\n",
      "arr_city               9999 non-null object\n",
      "arr_ctry               9999 non-null object\n",
      "lst_port               9999 non-null object\n",
      "lst_city               9999 non-null object\n",
      "lst_ctry               9999 non-null object\n",
      "brd_port               9999 non-null object\n",
      "brd_city               9999 non-null object\n",
      "brd_ctry               9999 non-null object\n",
      "off_port               9999 non-null object\n",
      "off_city               9999 non-null object\n",
      "off_ctry               9999 non-null object\n",
      "mkt_port               9999 non-null object\n",
      "mkt_city               9999 non-null object\n",
      "mkt_ctry               9999 non-null object\n",
      "intl                   9999 non-null int64\n",
      "route                  9999 non-null object\n",
      "carrier                9999 non-null object\n",
      "bkg_class              9999 non-null object\n",
      "cab_class              9999 non-null object\n",
      "brd_time               9999 non-null object\n",
      "off_time               9999 non-null object\n",
      "pax                    9999 non-null int64\n",
      "year                   9999 non-null int64\n",
      "month                  9999 non-null int64\n",
      "oid                    9999 non-null object\n",
      "dtypes: int64(6), object(32)\n",
      "memory usage: 2.9+ MB\n"
     ]
    }
   ],
   "source": [
    "b.info()"
   ]
  },
  {
   "cell_type": "code",
   "execution_count": 20,
   "metadata": {},
   "outputs": [
    {
     "data": {
      "text/plain": [
       "Index(['act_date           ', 'source', 'pos_ctry', 'pos_iata', 'pos_oid  ',\n",
       "       'rloc          ', 'cre_date           ', 'duration', 'distance',\n",
       "       'dep_port', 'dep_city', 'dep_ctry', 'arr_port', 'arr_city', 'arr_ctry',\n",
       "       'lst_port', 'lst_city', 'lst_ctry', 'brd_port', 'brd_city', 'brd_ctry',\n",
       "       'off_port', 'off_city', 'off_ctry', 'mkt_port', 'mkt_city', 'mkt_ctry',\n",
       "       'intl', 'route          ', 'carrier', 'bkg_class', 'cab_class',\n",
       "       'brd_time           ', 'off_time           ', 'pax', 'year', 'month',\n",
       "       'oid      '],\n",
       "      dtype='object')"
      ]
     },
     "execution_count": 20,
     "metadata": {},
     "output_type": "execute_result"
    }
   ],
   "source": [
    "b.columns"
   ]
  },
  {
   "cell_type": "code",
   "execution_count": 22,
   "metadata": {
    "collapsed": true
   },
   "outputs": [
    {
     "data": {
      "text/plain": [
       "['act_date           ',\n",
       " 'source',\n",
       " 'pos_ctry',\n",
       " 'pos_iata',\n",
       " 'pos_oid  ',\n",
       " 'rloc          ',\n",
       " 'cre_date           ',\n",
       " 'duration',\n",
       " 'distance',\n",
       " 'dep_port',\n",
       " 'dep_city',\n",
       " 'dep_ctry',\n",
       " 'arr_port',\n",
       " 'arr_city',\n",
       " 'arr_ctry',\n",
       " 'lst_port',\n",
       " 'lst_city',\n",
       " 'lst_ctry',\n",
       " 'brd_port',\n",
       " 'brd_city',\n",
       " 'brd_ctry',\n",
       " 'off_port',\n",
       " 'off_city',\n",
       " 'off_ctry',\n",
       " 'mkt_port',\n",
       " 'mkt_city',\n",
       " 'mkt_ctry',\n",
       " 'intl',\n",
       " 'route          ',\n",
       " 'carrier',\n",
       " 'bkg_class',\n",
       " 'cab_class',\n",
       " 'brd_time           ',\n",
       " 'off_time           ',\n",
       " 'pax',\n",
       " 'year',\n",
       " 'month',\n",
       " 'oid      ']"
      ]
     },
     "execution_count": 22,
     "metadata": {},
     "output_type": "execute_result"
    }
   ],
   "source": [
    "#this is to see easily white spaces\n",
    "list(b.columns)"
   ]
  },
  {
   "cell_type": "markdown",
   "metadata": {},
   "source": [
    "## 2) Select the columns of interest "
   ]
  },
  {
   "cell_type": "code",
   "execution_count": null,
   "metadata": {
    "collapsed": true
   },
   "outputs": [],
   "source": [
    "arr_port, pax, year\n",
    "drop NA"
   ]
  },
  {
   "cell_type": "code",
   "execution_count": 23,
   "metadata": {},
   "outputs": [],
   "source": [
    "import pandas as pd\n",
    "b = pd.read_csv('bookings.csv.bz2',sep='^', usecols=['arr_port', 'pax', 'year'], nrows=10000)\n"
   ]
  },
  {
   "cell_type": "code",
   "execution_count": null,
   "metadata": {},
   "outputs": [],
   "source": []
  },
  {
   "cell_type": "markdown",
   "metadata": {},
   "source": [
    "## 3) What to do with NaN?\n",
    "\n"
   ]
  },
  {
   "cell_type": "raw",
   "metadata": {},
   "source": [
    "in the sample everything might be ok, but we should prepare fot NaN case"
   ]
  },
  {
   "cell_type": "code",
   "execution_count": null,
   "metadata": {
    "collapsed": true
   },
   "outputs": [],
   "source": [
    "b=b.dropna()"
   ]
  },
  {
   "cell_type": "code",
   "execution_count": 24,
   "metadata": {},
   "outputs": [],
   "source": [
    "#dropna example\n",
    "import numpy as np\n",
    "data=np.random.rand(5,2)\n",
    "df=pd.DataFrame(data, columns=['one', 'two'])"
   ]
  },
  {
   "cell_type": "code",
   "execution_count": 25,
   "metadata": {},
   "outputs": [
    {
     "data": {
      "text/html": [
       "<div>\n",
       "<style scoped>\n",
       "    .dataframe tbody tr th:only-of-type {\n",
       "        vertical-align: middle;\n",
       "    }\n",
       "\n",
       "    .dataframe tbody tr th {\n",
       "        vertical-align: top;\n",
       "    }\n",
       "\n",
       "    .dataframe thead th {\n",
       "        text-align: right;\n",
       "    }\n",
       "</style>\n",
       "<table border=\"1\" class=\"dataframe\">\n",
       "  <thead>\n",
       "    <tr style=\"text-align: right;\">\n",
       "      <th></th>\n",
       "      <th>one</th>\n",
       "      <th>two</th>\n",
       "    </tr>\n",
       "  </thead>\n",
       "  <tbody>\n",
       "    <tr>\n",
       "      <th>0</th>\n",
       "      <td>0.250353</td>\n",
       "      <td>0.262417</td>\n",
       "    </tr>\n",
       "    <tr>\n",
       "      <th>1</th>\n",
       "      <td>0.680968</td>\n",
       "      <td>0.857296</td>\n",
       "    </tr>\n",
       "    <tr>\n",
       "      <th>2</th>\n",
       "      <td>0.922841</td>\n",
       "      <td>0.816704</td>\n",
       "    </tr>\n",
       "    <tr>\n",
       "      <th>3</th>\n",
       "      <td>0.544632</td>\n",
       "      <td>0.006420</td>\n",
       "    </tr>\n",
       "    <tr>\n",
       "      <th>4</th>\n",
       "      <td>0.722430</td>\n",
       "      <td>0.641729</td>\n",
       "    </tr>\n",
       "  </tbody>\n",
       "</table>\n",
       "</div>"
      ],
      "text/plain": [
       "        one       two\n",
       "0  0.250353  0.262417\n",
       "1  0.680968  0.857296\n",
       "2  0.922841  0.816704\n",
       "3  0.544632  0.006420\n",
       "4  0.722430  0.641729"
      ]
     },
     "execution_count": 25,
     "metadata": {},
     "output_type": "execute_result"
    }
   ],
   "source": [
    "df"
   ]
  },
  {
   "cell_type": "code",
   "execution_count": 26,
   "metadata": {},
   "outputs": [],
   "source": [
    "df['three']=[None, None, 1, 1, None]"
   ]
  },
  {
   "cell_type": "code",
   "execution_count": 27,
   "metadata": {},
   "outputs": [
    {
     "data": {
      "text/html": [
       "<div>\n",
       "<style scoped>\n",
       "    .dataframe tbody tr th:only-of-type {\n",
       "        vertical-align: middle;\n",
       "    }\n",
       "\n",
       "    .dataframe tbody tr th {\n",
       "        vertical-align: top;\n",
       "    }\n",
       "\n",
       "    .dataframe thead th {\n",
       "        text-align: right;\n",
       "    }\n",
       "</style>\n",
       "<table border=\"1\" class=\"dataframe\">\n",
       "  <thead>\n",
       "    <tr style=\"text-align: right;\">\n",
       "      <th></th>\n",
       "      <th>one</th>\n",
       "      <th>two</th>\n",
       "      <th>three</th>\n",
       "    </tr>\n",
       "  </thead>\n",
       "  <tbody>\n",
       "    <tr>\n",
       "      <th>0</th>\n",
       "      <td>0.250353</td>\n",
       "      <td>0.262417</td>\n",
       "      <td>NaN</td>\n",
       "    </tr>\n",
       "    <tr>\n",
       "      <th>1</th>\n",
       "      <td>0.680968</td>\n",
       "      <td>0.857296</td>\n",
       "      <td>NaN</td>\n",
       "    </tr>\n",
       "    <tr>\n",
       "      <th>2</th>\n",
       "      <td>0.922841</td>\n",
       "      <td>0.816704</td>\n",
       "      <td>1.0</td>\n",
       "    </tr>\n",
       "    <tr>\n",
       "      <th>3</th>\n",
       "      <td>0.544632</td>\n",
       "      <td>0.006420</td>\n",
       "      <td>1.0</td>\n",
       "    </tr>\n",
       "    <tr>\n",
       "      <th>4</th>\n",
       "      <td>0.722430</td>\n",
       "      <td>0.641729</td>\n",
       "      <td>NaN</td>\n",
       "    </tr>\n",
       "  </tbody>\n",
       "</table>\n",
       "</div>"
      ],
      "text/plain": [
       "        one       two  three\n",
       "0  0.250353  0.262417    NaN\n",
       "1  0.680968  0.857296    NaN\n",
       "2  0.922841  0.816704    1.0\n",
       "3  0.544632  0.006420    1.0\n",
       "4  0.722430  0.641729    NaN"
      ]
     },
     "execution_count": 27,
     "metadata": {},
     "output_type": "execute_result"
    }
   ],
   "source": [
    "df"
   ]
  },
  {
   "cell_type": "code",
   "execution_count": 133,
   "metadata": {},
   "outputs": [
    {
     "data": {
      "text/html": [
       "<div>\n",
       "<style scoped>\n",
       "    .dataframe tbody tr th:only-of-type {\n",
       "        vertical-align: middle;\n",
       "    }\n",
       "\n",
       "    .dataframe tbody tr th {\n",
       "        vertical-align: top;\n",
       "    }\n",
       "\n",
       "    .dataframe thead th {\n",
       "        text-align: right;\n",
       "    }\n",
       "</style>\n",
       "<table border=\"1\" class=\"dataframe\">\n",
       "  <thead>\n",
       "    <tr style=\"text-align: right;\">\n",
       "      <th></th>\n",
       "      <th>one</th>\n",
       "      <th>two</th>\n",
       "      <th>three</th>\n",
       "    </tr>\n",
       "  </thead>\n",
       "  <tbody>\n",
       "    <tr>\n",
       "      <th>2</th>\n",
       "      <td>0.922841</td>\n",
       "      <td>0.816704</td>\n",
       "      <td>1.0</td>\n",
       "    </tr>\n",
       "    <tr>\n",
       "      <th>3</th>\n",
       "      <td>0.544632</td>\n",
       "      <td>0.006420</td>\n",
       "      <td>1.0</td>\n",
       "    </tr>\n",
       "  </tbody>\n",
       "</table>\n",
       "</div>"
      ],
      "text/plain": [
       "        one       two  three\n",
       "2  0.922841  0.816704    1.0\n",
       "3  0.544632  0.006420    1.0"
      ]
     },
     "execution_count": 133,
     "metadata": {},
     "output_type": "execute_result"
    }
   ],
   "source": [
    "#drop the row if it has at least NaN\n",
    "df.dropna()"
   ]
  },
  {
   "cell_type": "code",
   "execution_count": 134,
   "metadata": {},
   "outputs": [
    {
     "data": {
      "text/html": [
       "<div>\n",
       "<style scoped>\n",
       "    .dataframe tbody tr th:only-of-type {\n",
       "        vertical-align: middle;\n",
       "    }\n",
       "\n",
       "    .dataframe tbody tr th {\n",
       "        vertical-align: top;\n",
       "    }\n",
       "\n",
       "    .dataframe thead th {\n",
       "        text-align: right;\n",
       "    }\n",
       "</style>\n",
       "<table border=\"1\" class=\"dataframe\">\n",
       "  <thead>\n",
       "    <tr style=\"text-align: right;\">\n",
       "      <th></th>\n",
       "      <th>one</th>\n",
       "      <th>two</th>\n",
       "      <th>three</th>\n",
       "    </tr>\n",
       "  </thead>\n",
       "  <tbody>\n",
       "    <tr>\n",
       "      <th>0</th>\n",
       "      <td>0.250353</td>\n",
       "      <td>0.262417</td>\n",
       "      <td>NaN</td>\n",
       "    </tr>\n",
       "    <tr>\n",
       "      <th>1</th>\n",
       "      <td>0.680968</td>\n",
       "      <td>0.857296</td>\n",
       "      <td>NaN</td>\n",
       "    </tr>\n",
       "    <tr>\n",
       "      <th>2</th>\n",
       "      <td>0.922841</td>\n",
       "      <td>0.816704</td>\n",
       "      <td>1.0</td>\n",
       "    </tr>\n",
       "    <tr>\n",
       "      <th>3</th>\n",
       "      <td>0.544632</td>\n",
       "      <td>0.006420</td>\n",
       "      <td>1.0</td>\n",
       "    </tr>\n",
       "    <tr>\n",
       "      <th>4</th>\n",
       "      <td>0.722430</td>\n",
       "      <td>0.641729</td>\n",
       "      <td>NaN</td>\n",
       "    </tr>\n",
       "  </tbody>\n",
       "</table>\n",
       "</div>"
      ],
      "text/plain": [
       "        one       two  three\n",
       "0  0.250353  0.262417    NaN\n",
       "1  0.680968  0.857296    NaN\n",
       "2  0.922841  0.816704    1.0\n",
       "3  0.544632  0.006420    1.0\n",
       "4  0.722430  0.641729    NaN"
      ]
     },
     "execution_count": 134,
     "metadata": {},
     "output_type": "execute_result"
    }
   ],
   "source": [
    "#drop the row if it has at least NaN\n",
    "df.dropna(how='all')"
   ]
  },
  {
   "cell_type": "code",
   "execution_count": 135,
   "metadata": {},
   "outputs": [
    {
     "data": {
      "text/html": [
       "<div>\n",
       "<style scoped>\n",
       "    .dataframe tbody tr th:only-of-type {\n",
       "        vertical-align: middle;\n",
       "    }\n",
       "\n",
       "    .dataframe tbody tr th {\n",
       "        vertical-align: top;\n",
       "    }\n",
       "\n",
       "    .dataframe thead th {\n",
       "        text-align: right;\n",
       "    }\n",
       "</style>\n",
       "<table border=\"1\" class=\"dataframe\">\n",
       "  <thead>\n",
       "    <tr style=\"text-align: right;\">\n",
       "      <th></th>\n",
       "      <th>one</th>\n",
       "      <th>two</th>\n",
       "      <th>three</th>\n",
       "    </tr>\n",
       "  </thead>\n",
       "  <tbody>\n",
       "    <tr>\n",
       "      <th>1</th>\n",
       "      <td>0.680968</td>\n",
       "      <td>0.857296</td>\n",
       "      <td>NaN</td>\n",
       "    </tr>\n",
       "    <tr>\n",
       "      <th>2</th>\n",
       "      <td>0.922841</td>\n",
       "      <td>0.816704</td>\n",
       "      <td>1.0</td>\n",
       "    </tr>\n",
       "    <tr>\n",
       "      <th>3</th>\n",
       "      <td>0.544632</td>\n",
       "      <td>0.006420</td>\n",
       "      <td>1.0</td>\n",
       "    </tr>\n",
       "    <tr>\n",
       "      <th>4</th>\n",
       "      <td>0.722430</td>\n",
       "      <td>0.641729</td>\n",
       "      <td>NaN</td>\n",
       "    </tr>\n",
       "  </tbody>\n",
       "</table>\n",
       "</div>"
      ],
      "text/plain": [
       "        one       two  three\n",
       "1  0.680968  0.857296    NaN\n",
       "2  0.922841  0.816704    1.0\n",
       "3  0.544632  0.006420    1.0\n",
       "4  0.722430  0.641729    NaN"
      ]
     },
     "execution_count": 135,
     "metadata": {},
     "output_type": "execute_result"
    }
   ],
   "source": [
    "df[\"one\"][0]=\"NaN\"\n",
    "df[\"two\"][0]=\"NaN\"\n",
    "df.dropna(how='all')"
   ]
  },
  {
   "cell_type": "code",
   "execution_count": 137,
   "metadata": {},
   "outputs": [
    {
     "name": "stdout",
     "output_type": "stream",
     "text": [
      "        one       two  three\n",
      "0       NaN       NaN    NaN\n",
      "1  0.680968  0.857296    NaN\n",
      "2  0.922841  0.816704    1.0\n",
      "3  0.544632  0.006420    1.0\n",
      "4  0.722430  0.641729    NaN\n"
     ]
    },
    {
     "data": {
      "text/html": [
       "<div>\n",
       "<style scoped>\n",
       "    .dataframe tbody tr th:only-of-type {\n",
       "        vertical-align: middle;\n",
       "    }\n",
       "\n",
       "    .dataframe tbody tr th {\n",
       "        vertical-align: top;\n",
       "    }\n",
       "\n",
       "    .dataframe thead th {\n",
       "        text-align: right;\n",
       "    }\n",
       "</style>\n",
       "<table border=\"1\" class=\"dataframe\">\n",
       "  <thead>\n",
       "    <tr style=\"text-align: right;\">\n",
       "      <th></th>\n",
       "      <th>one</th>\n",
       "      <th>two</th>\n",
       "      <th>three</th>\n",
       "    </tr>\n",
       "  </thead>\n",
       "  <tbody>\n",
       "    <tr>\n",
       "      <th>2</th>\n",
       "      <td>0.922841</td>\n",
       "      <td>0.816704</td>\n",
       "      <td>1.0</td>\n",
       "    </tr>\n",
       "    <tr>\n",
       "      <th>3</th>\n",
       "      <td>0.544632</td>\n",
       "      <td>0.006420</td>\n",
       "      <td>1.0</td>\n",
       "    </tr>\n",
       "  </tbody>\n",
       "</table>\n",
       "</div>"
      ],
      "text/plain": [
       "        one       two  three\n",
       "2  0.922841  0.816704    1.0\n",
       "3  0.544632  0.006420    1.0"
      ]
     },
     "execution_count": 137,
     "metadata": {},
     "output_type": "execute_result"
    }
   ],
   "source": [
    "print (df)\n",
    "df.dropna(how='any',axis=0)"
   ]
  },
  {
   "cell_type": "code",
   "execution_count": 139,
   "metadata": {},
   "outputs": [
    {
     "name": "stdout",
     "output_type": "stream",
     "text": [
      "        one       two  three\n",
      "0       NaN       NaN    NaN\n",
      "1  0.680968  0.857296    NaN\n",
      "2  0.922841  0.816704    1.0\n",
      "3  0.544632  0.006420    1.0\n",
      "4  0.722430  0.641729    NaN\n"
     ]
    },
    {
     "data": {
      "text/html": [
       "<div>\n",
       "<style scoped>\n",
       "    .dataframe tbody tr th:only-of-type {\n",
       "        vertical-align: middle;\n",
       "    }\n",
       "\n",
       "    .dataframe tbody tr th {\n",
       "        vertical-align: top;\n",
       "    }\n",
       "\n",
       "    .dataframe thead th {\n",
       "        text-align: right;\n",
       "    }\n",
       "</style>\n",
       "<table border=\"1\" class=\"dataframe\">\n",
       "  <thead>\n",
       "    <tr style=\"text-align: right;\">\n",
       "      <th></th>\n",
       "    </tr>\n",
       "  </thead>\n",
       "  <tbody>\n",
       "    <tr>\n",
       "      <th>0</th>\n",
       "    </tr>\n",
       "    <tr>\n",
       "      <th>1</th>\n",
       "    </tr>\n",
       "    <tr>\n",
       "      <th>2</th>\n",
       "    </tr>\n",
       "    <tr>\n",
       "      <th>3</th>\n",
       "    </tr>\n",
       "    <tr>\n",
       "      <th>4</th>\n",
       "    </tr>\n",
       "  </tbody>\n",
       "</table>\n",
       "</div>"
      ],
      "text/plain": [
       "Empty DataFrame\n",
       "Columns: []\n",
       "Index: [0, 1, 2, 3, 4]"
      ]
     },
     "execution_count": 139,
     "metadata": {},
     "output_type": "execute_result"
    }
   ],
   "source": [
    "print (df)\n",
    "df.dropna(how='any',axis=1)"
   ]
  },
  {
   "cell_type": "markdown",
   "metadata": {},
   "source": [
    "#### What if we want to drop just based on second column NaN?"
   ]
  },
  {
   "cell_type": "code",
   "execution_count": 140,
   "metadata": {},
   "outputs": [
    {
     "data": {
      "text/html": [
       "<div>\n",
       "<style scoped>\n",
       "    .dataframe tbody tr th:only-of-type {\n",
       "        vertical-align: middle;\n",
       "    }\n",
       "\n",
       "    .dataframe tbody tr th {\n",
       "        vertical-align: top;\n",
       "    }\n",
       "\n",
       "    .dataframe thead th {\n",
       "        text-align: right;\n",
       "    }\n",
       "</style>\n",
       "<table border=\"1\" class=\"dataframe\">\n",
       "  <thead>\n",
       "    <tr style=\"text-align: right;\">\n",
       "      <th></th>\n",
       "      <th>one</th>\n",
       "      <th>two</th>\n",
       "      <th>three</th>\n",
       "    </tr>\n",
       "  </thead>\n",
       "  <tbody>\n",
       "    <tr>\n",
       "      <th>0</th>\n",
       "      <td>NaN</td>\n",
       "      <td>NaN</td>\n",
       "      <td>NaN</td>\n",
       "    </tr>\n",
       "    <tr>\n",
       "      <th>1</th>\n",
       "      <td>0.680968</td>\n",
       "      <td>0.857296</td>\n",
       "      <td>NaN</td>\n",
       "    </tr>\n",
       "    <tr>\n",
       "      <th>2</th>\n",
       "      <td>0.922841</td>\n",
       "      <td>0.816704</td>\n",
       "      <td>1.0</td>\n",
       "    </tr>\n",
       "    <tr>\n",
       "      <th>3</th>\n",
       "      <td>0.544632</td>\n",
       "      <td>0.006420</td>\n",
       "      <td>1.0</td>\n",
       "    </tr>\n",
       "    <tr>\n",
       "      <th>4</th>\n",
       "      <td>0.722430</td>\n",
       "      <td>0.641729</td>\n",
       "      <td>NaN</td>\n",
       "    </tr>\n",
       "  </tbody>\n",
       "</table>\n",
       "</div>"
      ],
      "text/plain": [
       "        one       two  three\n",
       "0       NaN       NaN    NaN\n",
       "1  0.680968  0.857296    NaN\n",
       "2  0.922841  0.816704    1.0\n",
       "3  0.544632  0.006420    1.0\n",
       "4  0.722430  0.641729    NaN"
      ]
     },
     "execution_count": 140,
     "metadata": {},
     "output_type": "execute_result"
    }
   ],
   "source": [
    "df"
   ]
  },
  {
   "cell_type": "code",
   "execution_count": 141,
   "metadata": {},
   "outputs": [
    {
     "data": {
      "text/plain": [
       "0     True\n",
       "1    False\n",
       "2    False\n",
       "3    False\n",
       "4    False\n",
       "Name: two, dtype: bool"
      ]
     },
     "execution_count": 141,
     "metadata": {},
     "output_type": "execute_result"
    }
   ],
   "source": [
    "df['two'].isnull()"
   ]
  },
  {
   "cell_type": "code",
   "execution_count": 142,
   "metadata": {},
   "outputs": [
    {
     "data": {
      "text/plain": [
       "0    False\n",
       "1     True\n",
       "2     True\n",
       "3     True\n",
       "4     True\n",
       "Name: two, dtype: bool"
      ]
     },
     "execution_count": 142,
     "metadata": {},
     "output_type": "execute_result"
    }
   ],
   "source": [
    "~df['two'].isnull()"
   ]
  },
  {
   "cell_type": "code",
   "execution_count": 143,
   "metadata": {},
   "outputs": [
    {
     "data": {
      "text/html": [
       "<div>\n",
       "<style scoped>\n",
       "    .dataframe tbody tr th:only-of-type {\n",
       "        vertical-align: middle;\n",
       "    }\n",
       "\n",
       "    .dataframe tbody tr th {\n",
       "        vertical-align: top;\n",
       "    }\n",
       "\n",
       "    .dataframe thead th {\n",
       "        text-align: right;\n",
       "    }\n",
       "</style>\n",
       "<table border=\"1\" class=\"dataframe\">\n",
       "  <thead>\n",
       "    <tr style=\"text-align: right;\">\n",
       "      <th></th>\n",
       "      <th>one</th>\n",
       "      <th>two</th>\n",
       "      <th>three</th>\n",
       "    </tr>\n",
       "  </thead>\n",
       "  <tbody>\n",
       "    <tr>\n",
       "      <th>1</th>\n",
       "      <td>0.680968</td>\n",
       "      <td>0.857296</td>\n",
       "      <td>NaN</td>\n",
       "    </tr>\n",
       "    <tr>\n",
       "      <th>2</th>\n",
       "      <td>0.922841</td>\n",
       "      <td>0.816704</td>\n",
       "      <td>1.0</td>\n",
       "    </tr>\n",
       "    <tr>\n",
       "      <th>3</th>\n",
       "      <td>0.544632</td>\n",
       "      <td>0.006420</td>\n",
       "      <td>1.0</td>\n",
       "    </tr>\n",
       "    <tr>\n",
       "      <th>4</th>\n",
       "      <td>0.722430</td>\n",
       "      <td>0.641729</td>\n",
       "      <td>NaN</td>\n",
       "    </tr>\n",
       "  </tbody>\n",
       "</table>\n",
       "</div>"
      ],
      "text/plain": [
       "        one       two  three\n",
       "1  0.680968  0.857296    NaN\n",
       "2  0.922841  0.816704    1.0\n",
       "3  0.544632  0.006420    1.0\n",
       "4  0.722430  0.641729    NaN"
      ]
     },
     "execution_count": 143,
     "metadata": {},
     "output_type": "execute_result"
    }
   ],
   "source": [
    "df[~(df['two'].isnull())]"
   ]
  },
  {
   "cell_type": "code",
   "execution_count": null,
   "metadata": {
    "collapsed": true
   },
   "outputs": [],
   "source": []
  },
  {
   "cell_type": "markdown",
   "metadata": {},
   "source": [
    "## Ready to code"
   ]
  },
  {
   "cell_type": "markdown",
   "metadata": {},
   "source": [
    "What do we have so far?"
   ]
  },
  {
   "cell_type": "code",
   "execution_count": null,
   "metadata": {
    "collapsed": true
   },
   "outputs": [],
   "source": [
    "import pandas as pd\n",
    "b = pd.read_csv('bookings.csv.bz2',sep='^', usecols=['arr_port', 'pax', 'year'], nrows=10000)\n",
    "b=b.dropna()"
   ]
  },
  {
   "cell_type": "code",
   "execution_count": null,
   "metadata": {
    "collapsed": true
   },
   "outputs": [],
   "source": []
  },
  {
   "cell_type": "markdown",
   "metadata": {},
   "source": [
    "## 4) make action plan\n"
   ]
  },
  {
   "cell_type": "code",
   "execution_count": null,
   "metadata": {},
   "outputs": [],
   "source": [
    "0) filtrar por anho\n",
    "00) optional: drop year\n",
    "\n",
    "1)  group by arr_port\n",
    "2) sum pax\n",
    "3) ordenar y top 10\n"
   ]
  },
  {
   "cell_type": "code",
   "execution_count": 28,
   "metadata": {},
   "outputs": [],
   "source": [
    "import pandas as pd\n",
    "b = pd.read_csv('bookings.csv.bz2',sep='^', usecols=['arr_port', 'pax', 'year'], nrows=10000)\n",
    "b=b.dropna()"
   ]
  },
  {
   "cell_type": "markdown",
   "metadata": {},
   "source": [
    "#### 4.1) Get only the booking from 2013"
   ]
  },
  {
   "cell_type": "code",
   "execution_count": 29,
   "metadata": {},
   "outputs": [],
   "source": [
    "b=b[    b['year']==2013    ]"
   ]
  },
  {
   "cell_type": "code",
   "execution_count": 30,
   "metadata": {},
   "outputs": [],
   "source": [
    "del b['year']"
   ]
  },
  {
   "cell_type": "markdown",
   "metadata": {},
   "source": [
    "#### 4.2) group by arr_port"
   ]
  },
  {
   "cell_type": "code",
   "execution_count": 32,
   "metadata": {},
   "outputs": [],
   "source": [
    "b_gr=b.groupby('arr_port')"
   ]
  },
  {
   "cell_type": "code",
   "execution_count": 39,
   "metadata": {},
   "outputs": [
    {
     "data": {
      "text/html": [
       "<div>\n",
       "<style scoped>\n",
       "    .dataframe tbody tr th:only-of-type {\n",
       "        vertical-align: middle;\n",
       "    }\n",
       "\n",
       "    .dataframe tbody tr th {\n",
       "        vertical-align: top;\n",
       "    }\n",
       "\n",
       "    .dataframe thead th {\n",
       "        text-align: right;\n",
       "    }\n",
       "</style>\n",
       "<table border=\"1\" class=\"dataframe\">\n",
       "  <thead>\n",
       "    <tr style=\"text-align: right;\">\n",
       "      <th></th>\n",
       "      <th>pax</th>\n",
       "    </tr>\n",
       "    <tr>\n",
       "      <th>arr_port</th>\n",
       "      <th></th>\n",
       "    </tr>\n",
       "  </thead>\n",
       "  <tbody>\n",
       "    <tr>\n",
       "      <th>AAL</th>\n",
       "      <td>0</td>\n",
       "    </tr>\n",
       "    <tr>\n",
       "      <th>ABQ</th>\n",
       "      <td>12</td>\n",
       "    </tr>\n",
       "    <tr>\n",
       "      <th>ABV</th>\n",
       "      <td>2</td>\n",
       "    </tr>\n",
       "    <tr>\n",
       "      <th>ABZ</th>\n",
       "      <td>-6</td>\n",
       "    </tr>\n",
       "    <tr>\n",
       "      <th>ACC</th>\n",
       "      <td>4</td>\n",
       "    </tr>\n",
       "    <tr>\n",
       "      <th>ADD</th>\n",
       "      <td>7</td>\n",
       "    </tr>\n",
       "    <tr>\n",
       "      <th>ADZ</th>\n",
       "      <td>2</td>\n",
       "    </tr>\n",
       "    <tr>\n",
       "      <th>AEP</th>\n",
       "      <td>7</td>\n",
       "    </tr>\n",
       "    <tr>\n",
       "      <th>AER</th>\n",
       "      <td>1</td>\n",
       "    </tr>\n",
       "    <tr>\n",
       "      <th>AES</th>\n",
       "      <td>3</td>\n",
       "    </tr>\n",
       "    <tr>\n",
       "      <th>AFA</th>\n",
       "      <td>2</td>\n",
       "    </tr>\n",
       "    <tr>\n",
       "      <th>AGA</th>\n",
       "      <td>0</td>\n",
       "    </tr>\n",
       "    <tr>\n",
       "      <th>AGP</th>\n",
       "      <td>8</td>\n",
       "    </tr>\n",
       "    <tr>\n",
       "      <th>AGU</th>\n",
       "      <td>4</td>\n",
       "    </tr>\n",
       "    <tr>\n",
       "      <th>AGX</th>\n",
       "      <td>2</td>\n",
       "    </tr>\n",
       "    <tr>\n",
       "      <th>AJA</th>\n",
       "      <td>7</td>\n",
       "    </tr>\n",
       "    <tr>\n",
       "      <th>AJF</th>\n",
       "      <td>2</td>\n",
       "    </tr>\n",
       "    <tr>\n",
       "      <th>AKL</th>\n",
       "      <td>2</td>\n",
       "    </tr>\n",
       "    <tr>\n",
       "      <th>ALA</th>\n",
       "      <td>6</td>\n",
       "    </tr>\n",
       "    <tr>\n",
       "      <th>ALB</th>\n",
       "      <td>2</td>\n",
       "    </tr>\n",
       "    <tr>\n",
       "      <th>ALC</th>\n",
       "      <td>9</td>\n",
       "    </tr>\n",
       "    <tr>\n",
       "      <th>ALG</th>\n",
       "      <td>26</td>\n",
       "    </tr>\n",
       "    <tr>\n",
       "      <th>AMD</th>\n",
       "      <td>2</td>\n",
       "    </tr>\n",
       "    <tr>\n",
       "      <th>AMM</th>\n",
       "      <td>16</td>\n",
       "    </tr>\n",
       "    <tr>\n",
       "      <th>AMS</th>\n",
       "      <td>36</td>\n",
       "    </tr>\n",
       "    <tr>\n",
       "      <th>ANC</th>\n",
       "      <td>4</td>\n",
       "    </tr>\n",
       "    <tr>\n",
       "      <th>ANF</th>\n",
       "      <td>2</td>\n",
       "    </tr>\n",
       "    <tr>\n",
       "      <th>ANU</th>\n",
       "      <td>0</td>\n",
       "    </tr>\n",
       "    <tr>\n",
       "      <th>AOE</th>\n",
       "      <td>1</td>\n",
       "    </tr>\n",
       "    <tr>\n",
       "      <th>AOI</th>\n",
       "      <td>0</td>\n",
       "    </tr>\n",
       "    <tr>\n",
       "      <th>...</th>\n",
       "      <td>...</td>\n",
       "    </tr>\n",
       "    <tr>\n",
       "      <th>XNB</th>\n",
       "      <td>2</td>\n",
       "    </tr>\n",
       "    <tr>\n",
       "      <th>XQP</th>\n",
       "      <td>2</td>\n",
       "    </tr>\n",
       "    <tr>\n",
       "      <th>YAY</th>\n",
       "      <td>-2</td>\n",
       "    </tr>\n",
       "    <tr>\n",
       "      <th>YCD</th>\n",
       "      <td>3</td>\n",
       "    </tr>\n",
       "    <tr>\n",
       "      <th>YEG</th>\n",
       "      <td>15</td>\n",
       "    </tr>\n",
       "    <tr>\n",
       "      <th>YHD</th>\n",
       "      <td>-1</td>\n",
       "    </tr>\n",
       "    <tr>\n",
       "      <th>YHZ</th>\n",
       "      <td>4</td>\n",
       "    </tr>\n",
       "    <tr>\n",
       "      <th>YMM</th>\n",
       "      <td>0</td>\n",
       "    </tr>\n",
       "    <tr>\n",
       "      <th>YNB</th>\n",
       "      <td>0</td>\n",
       "    </tr>\n",
       "    <tr>\n",
       "      <th>YOW</th>\n",
       "      <td>0</td>\n",
       "    </tr>\n",
       "    <tr>\n",
       "      <th>YQM</th>\n",
       "      <td>0</td>\n",
       "    </tr>\n",
       "    <tr>\n",
       "      <th>YQQ</th>\n",
       "      <td>2</td>\n",
       "    </tr>\n",
       "    <tr>\n",
       "      <th>YQT</th>\n",
       "      <td>1</td>\n",
       "    </tr>\n",
       "    <tr>\n",
       "      <th>YQU</th>\n",
       "      <td>1</td>\n",
       "    </tr>\n",
       "    <tr>\n",
       "      <th>YTM</th>\n",
       "      <td>4</td>\n",
       "    </tr>\n",
       "    <tr>\n",
       "      <th>YUL</th>\n",
       "      <td>14</td>\n",
       "    </tr>\n",
       "    <tr>\n",
       "      <th>YVO</th>\n",
       "      <td>1</td>\n",
       "    </tr>\n",
       "    <tr>\n",
       "      <th>YVR</th>\n",
       "      <td>17</td>\n",
       "    </tr>\n",
       "    <tr>\n",
       "      <th>YWG</th>\n",
       "      <td>6</td>\n",
       "    </tr>\n",
       "    <tr>\n",
       "      <th>YXE</th>\n",
       "      <td>1</td>\n",
       "    </tr>\n",
       "    <tr>\n",
       "      <th>YXS</th>\n",
       "      <td>2</td>\n",
       "    </tr>\n",
       "    <tr>\n",
       "      <th>YXY</th>\n",
       "      <td>1</td>\n",
       "    </tr>\n",
       "    <tr>\n",
       "      <th>YYC</th>\n",
       "      <td>15</td>\n",
       "    </tr>\n",
       "    <tr>\n",
       "      <th>YYJ</th>\n",
       "      <td>3</td>\n",
       "    </tr>\n",
       "    <tr>\n",
       "      <th>YYZ</th>\n",
       "      <td>34</td>\n",
       "    </tr>\n",
       "    <tr>\n",
       "      <th>YZF</th>\n",
       "      <td>4</td>\n",
       "    </tr>\n",
       "    <tr>\n",
       "      <th>ZAG</th>\n",
       "      <td>-4</td>\n",
       "    </tr>\n",
       "    <tr>\n",
       "      <th>ZNZ</th>\n",
       "      <td>1</td>\n",
       "    </tr>\n",
       "    <tr>\n",
       "      <th>ZRH</th>\n",
       "      <td>16</td>\n",
       "    </tr>\n",
       "    <tr>\n",
       "      <th>ZYL</th>\n",
       "      <td>-1</td>\n",
       "    </tr>\n",
       "  </tbody>\n",
       "</table>\n",
       "<p>663 rows × 1 columns</p>\n",
       "</div>"
      ],
      "text/plain": [
       "          pax\n",
       "arr_port     \n",
       "AAL         0\n",
       "ABQ        12\n",
       "ABV         2\n",
       "ABZ        -6\n",
       "ACC         4\n",
       "ADD         7\n",
       "ADZ         2\n",
       "AEP         7\n",
       "AER         1\n",
       "AES         3\n",
       "AFA         2\n",
       "AGA         0\n",
       "AGP         8\n",
       "AGU         4\n",
       "AGX         2\n",
       "AJA         7\n",
       "AJF         2\n",
       "AKL         2\n",
       "ALA         6\n",
       "ALB         2\n",
       "ALC         9\n",
       "ALG        26\n",
       "AMD         2\n",
       "AMM        16\n",
       "AMS        36\n",
       "ANC         4\n",
       "ANF         2\n",
       "ANU         0\n",
       "AOE         1\n",
       "AOI         0\n",
       "...       ...\n",
       "XNB         2\n",
       "XQP         2\n",
       "YAY        -2\n",
       "YCD         3\n",
       "YEG        15\n",
       "YHD        -1\n",
       "YHZ         4\n",
       "YMM         0\n",
       "YNB         0\n",
       "YOW         0\n",
       "YQM         0\n",
       "YQQ         2\n",
       "YQT         1\n",
       "YQU         1\n",
       "YTM         4\n",
       "YUL        14\n",
       "YVO         1\n",
       "YVR        17\n",
       "YWG         6\n",
       "YXE         1\n",
       "YXS         2\n",
       "YXY         1\n",
       "YYC        15\n",
       "YYJ         3\n",
       "YYZ        34\n",
       "YZF         4\n",
       "ZAG        -4\n",
       "ZNZ         1\n",
       "ZRH        16\n",
       "ZYL        -1\n",
       "\n",
       "[663 rows x 1 columns]"
      ]
     },
     "execution_count": 39,
     "metadata": {},
     "output_type": "execute_result"
    }
   ],
   "source": [
    "b_gr.sum()"
   ]
  },
  {
   "cell_type": "code",
   "execution_count": null,
   "metadata": {},
   "outputs": [],
   "source": [
    "b_gr['pax'].sum() #--> this is Serie"
   ]
  },
  {
   "cell_type": "code",
   "execution_count": 41,
   "metadata": {},
   "outputs": [
    {
     "data": {
      "text/html": [
       "<div>\n",
       "<style scoped>\n",
       "    .dataframe tbody tr th:only-of-type {\n",
       "        vertical-align: middle;\n",
       "    }\n",
       "\n",
       "    .dataframe tbody tr th {\n",
       "        vertical-align: top;\n",
       "    }\n",
       "\n",
       "    .dataframe thead th {\n",
       "        text-align: right;\n",
       "    }\n",
       "</style>\n",
       "<table border=\"1\" class=\"dataframe\">\n",
       "  <thead>\n",
       "    <tr style=\"text-align: right;\">\n",
       "      <th></th>\n",
       "      <th>pax</th>\n",
       "    </tr>\n",
       "    <tr>\n",
       "      <th>arr_port</th>\n",
       "      <th></th>\n",
       "    </tr>\n",
       "  </thead>\n",
       "  <tbody>\n",
       "    <tr>\n",
       "      <th>HKG</th>\n",
       "      <td>112</td>\n",
       "    </tr>\n",
       "    <tr>\n",
       "      <th>LGA</th>\n",
       "      <td>95</td>\n",
       "    </tr>\n",
       "    <tr>\n",
       "      <th>ORD</th>\n",
       "      <td>94</td>\n",
       "    </tr>\n",
       "    <tr>\n",
       "      <th>JFK</th>\n",
       "      <td>92</td>\n",
       "    </tr>\n",
       "    <tr>\n",
       "      <th>LAX</th>\n",
       "      <td>91</td>\n",
       "    </tr>\n",
       "    <tr>\n",
       "      <th>SFO</th>\n",
       "      <td>91</td>\n",
       "    </tr>\n",
       "    <tr>\n",
       "      <th>MCO</th>\n",
       "      <td>90</td>\n",
       "    </tr>\n",
       "    <tr>\n",
       "      <th>DCA</th>\n",
       "      <td>82</td>\n",
       "    </tr>\n",
       "    <tr>\n",
       "      <th>DEN</th>\n",
       "      <td>79</td>\n",
       "    </tr>\n",
       "    <tr>\n",
       "      <th>LHR</th>\n",
       "      <td>76</td>\n",
       "    </tr>\n",
       "  </tbody>\n",
       "</table>\n",
       "</div>"
      ],
      "text/plain": [
       "          pax\n",
       "arr_port     \n",
       "HKG       112\n",
       "LGA        95\n",
       "ORD        94\n",
       "JFK        92\n",
       "LAX        91\n",
       "SFO        91\n",
       "MCO        90\n",
       "DCA        82\n",
       "DEN        79\n",
       "LHR        76"
      ]
     },
     "execution_count": 41,
     "metadata": {},
     "output_type": "execute_result"
    }
   ],
   "source": [
    "b_gr.sum().sort_values('pax', ascending=False).head(10)"
   ]
  },
  {
   "cell_type": "code",
   "execution_count": 42,
   "metadata": {},
   "outputs": [
    {
     "data": {
      "text/html": [
       "<div>\n",
       "<style scoped>\n",
       "    .dataframe tbody tr th:only-of-type {\n",
       "        vertical-align: middle;\n",
       "    }\n",
       "\n",
       "    .dataframe tbody tr th {\n",
       "        vertical-align: top;\n",
       "    }\n",
       "\n",
       "    .dataframe thead th {\n",
       "        text-align: right;\n",
       "    }\n",
       "</style>\n",
       "<table border=\"1\" class=\"dataframe\">\n",
       "  <thead>\n",
       "    <tr style=\"text-align: right;\">\n",
       "      <th></th>\n",
       "      <th>pax</th>\n",
       "    </tr>\n",
       "    <tr>\n",
       "      <th>arr_port</th>\n",
       "      <th></th>\n",
       "    </tr>\n",
       "  </thead>\n",
       "  <tbody>\n",
       "    <tr>\n",
       "      <th>HKG</th>\n",
       "      <td>112</td>\n",
       "    </tr>\n",
       "    <tr>\n",
       "      <th>LGA</th>\n",
       "      <td>95</td>\n",
       "    </tr>\n",
       "    <tr>\n",
       "      <th>ORD</th>\n",
       "      <td>94</td>\n",
       "    </tr>\n",
       "    <tr>\n",
       "      <th>JFK</th>\n",
       "      <td>92</td>\n",
       "    </tr>\n",
       "    <tr>\n",
       "      <th>LAX</th>\n",
       "      <td>91</td>\n",
       "    </tr>\n",
       "    <tr>\n",
       "      <th>SFO</th>\n",
       "      <td>91</td>\n",
       "    </tr>\n",
       "    <tr>\n",
       "      <th>MCO</th>\n",
       "      <td>90</td>\n",
       "    </tr>\n",
       "    <tr>\n",
       "      <th>DCA</th>\n",
       "      <td>82</td>\n",
       "    </tr>\n",
       "    <tr>\n",
       "      <th>DEN</th>\n",
       "      <td>79</td>\n",
       "    </tr>\n",
       "    <tr>\n",
       "      <th>LHR</th>\n",
       "      <td>76</td>\n",
       "    </tr>\n",
       "  </tbody>\n",
       "</table>\n",
       "</div>"
      ],
      "text/plain": [
       "          pax\n",
       "arr_port     \n",
       "HKG       112\n",
       "LGA        95\n",
       "ORD        94\n",
       "JFK        92\n",
       "LAX        91\n",
       "SFO        91\n",
       "MCO        90\n",
       "DCA        82\n",
       "DEN        79\n",
       "LHR        76"
      ]
     },
     "execution_count": 42,
     "metadata": {},
     "output_type": "execute_result"
    }
   ],
   "source": [
    "b.groupby('arr_port').sum().sort_values('pax', ascending=False).head(10)"
   ]
  },
  {
   "cell_type": "markdown",
   "metadata": {},
   "source": [
    "## 5) Adjust the code to work with Big data"
   ]
  },
  {
   "cell_type": "markdown",
   "metadata": {},
   "source": [
    "What do we have so far?"
   ]
  },
  {
   "cell_type": "code",
   "execution_count": 43,
   "metadata": {},
   "outputs": [],
   "source": [
    "import pandas as pd\n",
    "b = pd.read_csv('bookings.csv.bz2',sep='^', usecols=['arr_port', 'pax', 'year'], nrows=10000)\n",
    "b=b.dropna()\n",
    "b=b[    b['year']==2013    ]\n",
    "del b['year']\n",
    "top_10=b.groupby('arr_port').sum().sort_values('pax', ascending=False).head(10)"
   ]
  },
  {
   "cell_type": "code",
   "execution_count": 44,
   "metadata": {
    "collapsed": true
   },
   "outputs": [
    {
     "data": {
      "text/html": [
       "<div>\n",
       "<style scoped>\n",
       "    .dataframe tbody tr th:only-of-type {\n",
       "        vertical-align: middle;\n",
       "    }\n",
       "\n",
       "    .dataframe tbody tr th {\n",
       "        vertical-align: top;\n",
       "    }\n",
       "\n",
       "    .dataframe thead th {\n",
       "        text-align: right;\n",
       "    }\n",
       "</style>\n",
       "<table border=\"1\" class=\"dataframe\">\n",
       "  <thead>\n",
       "    <tr style=\"text-align: right;\">\n",
       "      <th></th>\n",
       "      <th>pax</th>\n",
       "    </tr>\n",
       "    <tr>\n",
       "      <th>arr_port</th>\n",
       "      <th></th>\n",
       "    </tr>\n",
       "  </thead>\n",
       "  <tbody>\n",
       "    <tr>\n",
       "      <th>HKG</th>\n",
       "      <td>112</td>\n",
       "    </tr>\n",
       "    <tr>\n",
       "      <th>LGA</th>\n",
       "      <td>95</td>\n",
       "    </tr>\n",
       "    <tr>\n",
       "      <th>ORD</th>\n",
       "      <td>94</td>\n",
       "    </tr>\n",
       "    <tr>\n",
       "      <th>JFK</th>\n",
       "      <td>92</td>\n",
       "    </tr>\n",
       "    <tr>\n",
       "      <th>LAX</th>\n",
       "      <td>91</td>\n",
       "    </tr>\n",
       "    <tr>\n",
       "      <th>SFO</th>\n",
       "      <td>91</td>\n",
       "    </tr>\n",
       "    <tr>\n",
       "      <th>MCO</th>\n",
       "      <td>90</td>\n",
       "    </tr>\n",
       "    <tr>\n",
       "      <th>DCA</th>\n",
       "      <td>82</td>\n",
       "    </tr>\n",
       "    <tr>\n",
       "      <th>DEN</th>\n",
       "      <td>79</td>\n",
       "    </tr>\n",
       "    <tr>\n",
       "      <th>LHR</th>\n",
       "      <td>76</td>\n",
       "    </tr>\n",
       "  </tbody>\n",
       "</table>\n",
       "</div>"
      ],
      "text/plain": [
       "          pax\n",
       "arr_port     \n",
       "HKG       112\n",
       "LGA        95\n",
       "ORD        94\n",
       "JFK        92\n",
       "LAX        91\n",
       "SFO        91\n",
       "MCO        90\n",
       "DCA        82\n",
       "DEN        79\n",
       "LHR        76"
      ]
     },
     "execution_count": 44,
     "metadata": {},
     "output_type": "execute_result"
    }
   ],
   "source": [
    "top_10"
   ]
  },
  {
   "cell_type": "code",
   "execution_count": null,
   "metadata": {
    "collapsed": true
   },
   "outputs": [],
   "source": []
  },
  {
   "cell_type": "markdown",
   "metadata": {},
   "source": [
    "#### but... we have to read the whole file... and with nrows we are reading ALWAYS the first N rows...\n"
   ]
  },
  {
   "cell_type": "markdown",
   "metadata": {},
   "source": [
    "Option for reading the file:\n",
    "    1) iterator=true and get_chunk\n",
    "    2) define chunk_size"
   ]
  },
  {
   "cell_type": "markdown",
   "metadata": {},
   "source": [
    "#### 1) iterator=true and get_chunk"
   ]
  },
  {
   "cell_type": "code",
   "execution_count": 45,
   "metadata": {},
   "outputs": [],
   "source": [
    "b = pd.read_csv('bookings.csv.bz2',sep='^', usecols=['arr_port', 'pax', 'year'], nrows=10000)"
   ]
  },
  {
   "cell_type": "code",
   "execution_count": 46,
   "metadata": {},
   "outputs": [
    {
     "data": {
      "text/plain": [
       "pandas.core.frame.DataFrame"
      ]
     },
     "execution_count": 46,
     "metadata": {},
     "output_type": "execute_result"
    }
   ],
   "source": [
    "type(b)"
   ]
  },
  {
   "cell_type": "code",
   "execution_count": 60,
   "metadata": {},
   "outputs": [],
   "source": [
    "bc=pd.read_csv('bookings.csv.bz2',sep='^', usecols=['arr_port', 'pax', 'year'], nrows=10000, iterator=True)"
   ]
  },
  {
   "cell_type": "code",
   "execution_count": 54,
   "metadata": {},
   "outputs": [
    {
     "data": {
      "text/plain": [
       "pandas.io.parsers.TextFileReader"
      ]
     },
     "execution_count": 54,
     "metadata": {},
     "output_type": "execute_result"
    }
   ],
   "source": [
    "type(bc)"
   ]
  },
  {
   "cell_type": "code",
   "execution_count": 61,
   "metadata": {},
   "outputs": [],
   "source": [
    "b0=bc.get_chunk(6000)"
   ]
  },
  {
   "cell_type": "code",
   "execution_count": 62,
   "metadata": {},
   "outputs": [
    {
     "data": {
      "text/plain": [
       "pandas.core.frame.DataFrame"
      ]
     },
     "execution_count": 62,
     "metadata": {},
     "output_type": "execute_result"
    }
   ],
   "source": [
    "type(b0)"
   ]
  },
  {
   "cell_type": "code",
   "execution_count": 57,
   "metadata": {},
   "outputs": [
    {
     "data": {
      "text/plain": [
       "(6000, 3)"
      ]
     },
     "execution_count": 57,
     "metadata": {},
     "output_type": "execute_result"
    }
   ],
   "source": [
    "b0.shape"
   ]
  },
  {
   "cell_type": "code",
   "execution_count": 63,
   "metadata": {},
   "outputs": [],
   "source": [
    "b1=bc.get_chunk(499000000)"
   ]
  },
  {
   "cell_type": "code",
   "execution_count": 64,
   "metadata": {},
   "outputs": [
    {
     "data": {
      "text/plain": [
       "(4000, 3)"
      ]
     },
     "execution_count": 64,
     "metadata": {},
     "output_type": "execute_result"
    }
   ],
   "source": [
    "b1.shape"
   ]
  },
  {
   "cell_type": "code",
   "execution_count": 65,
   "metadata": {},
   "outputs": [
    {
     "ename": "StopIteration",
     "evalue": "",
     "output_type": "error",
     "traceback": [
      "\u001b[0;31m---------------------------------------------------------------------------\u001b[0m",
      "\u001b[0;31mStopIteration\u001b[0m                             Traceback (most recent call last)",
      "\u001b[0;32m<ipython-input-65-304a4591454a>\u001b[0m in \u001b[0;36m<module>\u001b[0;34m()\u001b[0m\n\u001b[0;32m----> 1\u001b[0;31m \u001b[0mb2\u001b[0m\u001b[0;34m=\u001b[0m\u001b[0mbc\u001b[0m\u001b[0;34m.\u001b[0m\u001b[0mget_chunk\u001b[0m\u001b[0;34m(\u001b[0m\u001b[0;36m1\u001b[0m\u001b[0;34m)\u001b[0m\u001b[0;34m\u001b[0m\u001b[0m\n\u001b[0m",
      "\u001b[0;32m~/anaconda3/lib/python3.6/site-packages/pandas/io/parsers.py\u001b[0m in \u001b[0;36mget_chunk\u001b[0;34m(self, size)\u001b[0m\n\u001b[1;32m   1102\u001b[0m         \u001b[0;32mif\u001b[0m \u001b[0mself\u001b[0m\u001b[0;34m.\u001b[0m\u001b[0mnrows\u001b[0m \u001b[0;32mis\u001b[0m \u001b[0;32mnot\u001b[0m \u001b[0;32mNone\u001b[0m\u001b[0;34m:\u001b[0m\u001b[0;34m\u001b[0m\u001b[0m\n\u001b[1;32m   1103\u001b[0m             \u001b[0;32mif\u001b[0m \u001b[0mself\u001b[0m\u001b[0;34m.\u001b[0m\u001b[0m_currow\u001b[0m \u001b[0;34m>=\u001b[0m \u001b[0mself\u001b[0m\u001b[0;34m.\u001b[0m\u001b[0mnrows\u001b[0m\u001b[0;34m:\u001b[0m\u001b[0;34m\u001b[0m\u001b[0m\n\u001b[0;32m-> 1104\u001b[0;31m                 \u001b[0;32mraise\u001b[0m \u001b[0mStopIteration\u001b[0m\u001b[0;34m\u001b[0m\u001b[0m\n\u001b[0m\u001b[1;32m   1105\u001b[0m             \u001b[0msize\u001b[0m \u001b[0;34m=\u001b[0m \u001b[0mmin\u001b[0m\u001b[0;34m(\u001b[0m\u001b[0msize\u001b[0m\u001b[0;34m,\u001b[0m \u001b[0mself\u001b[0m\u001b[0;34m.\u001b[0m\u001b[0mnrows\u001b[0m \u001b[0;34m-\u001b[0m \u001b[0mself\u001b[0m\u001b[0;34m.\u001b[0m\u001b[0m_currow\u001b[0m\u001b[0;34m)\u001b[0m\u001b[0;34m\u001b[0m\u001b[0m\n\u001b[1;32m   1106\u001b[0m         \u001b[0;32mreturn\u001b[0m \u001b[0mself\u001b[0m\u001b[0;34m.\u001b[0m\u001b[0mread\u001b[0m\u001b[0;34m(\u001b[0m\u001b[0mnrows\u001b[0m\u001b[0;34m=\u001b[0m\u001b[0msize\u001b[0m\u001b[0;34m)\u001b[0m\u001b[0;34m\u001b[0m\u001b[0m\n",
      "\u001b[0;31mStopIteration\u001b[0m: "
     ]
    }
   ],
   "source": [
    "#get_chunk fails when it has nothing ti return\n",
    "b2=bc.get_chunk(1)"
   ]
  },
  {
   "cell_type": "markdown",
   "metadata": {},
   "source": [
    "#### 2) define chunk size"
   ]
  },
  {
   "cell_type": "code",
   "execution_count": 78,
   "metadata": {},
   "outputs": [],
   "source": [
    "bc=pd.read_csv('bookings.csv.bz2',sep='^', usecols=['arr_port', 'pax', 'year'], nrows=10000, chunksize=3000)"
   ]
  },
  {
   "cell_type": "code",
   "execution_count": 79,
   "metadata": {},
   "outputs": [],
   "source": [
    "#we can still use get_chunk even though we defined the default chunk size\n",
    "#b0=bc.get_chunk(6000)"
   ]
  },
  {
   "cell_type": "markdown",
   "metadata": {},
   "source": [
    "#### How do we get the all the results of all chunks at one place?\n"
   ]
  },
  {
   "cell_type": "code",
   "execution_count": null,
   "metadata": {
    "collapsed": true
   },
   "outputs": [],
   "source": [
    "Options:\n",
    "    1) df.append()\n",
    "    2) df.concat()\n",
    "    \n",
    "    3) list of small DF and then concatenate them in one DF\n",
    "    4) dictionary of airports\n",
    "    5) ? "
   ]
  },
  {
   "cell_type": "markdown",
   "metadata": {},
   "source": [
    "We will do the append option"
   ]
  },
  {
   "cell_type": "code",
   "execution_count": 88,
   "metadata": {},
   "outputs": [
    {
     "data": {
      "text/html": [
       "<div>\n",
       "<style scoped>\n",
       "    .dataframe tbody tr th:only-of-type {\n",
       "        vertical-align: middle;\n",
       "    }\n",
       "\n",
       "    .dataframe tbody tr th {\n",
       "        vertical-align: top;\n",
       "    }\n",
       "\n",
       "    .dataframe thead th {\n",
       "        text-align: right;\n",
       "    }\n",
       "</style>\n",
       "<table border=\"1\" class=\"dataframe\">\n",
       "  <thead>\n",
       "    <tr style=\"text-align: right;\">\n",
       "      <th></th>\n",
       "      <th>pax</th>\n",
       "    </tr>\n",
       "    <tr>\n",
       "      <th>arr_port</th>\n",
       "      <th></th>\n",
       "    </tr>\n",
       "  </thead>\n",
       "  <tbody>\n",
       "    <tr>\n",
       "      <th>HKG</th>\n",
       "      <td>112</td>\n",
       "    </tr>\n",
       "    <tr>\n",
       "      <th>LGA</th>\n",
       "      <td>95</td>\n",
       "    </tr>\n",
       "    <tr>\n",
       "      <th>ORD</th>\n",
       "      <td>94</td>\n",
       "    </tr>\n",
       "    <tr>\n",
       "      <th>JFK</th>\n",
       "      <td>92</td>\n",
       "    </tr>\n",
       "    <tr>\n",
       "      <th>LAX</th>\n",
       "      <td>91</td>\n",
       "    </tr>\n",
       "    <tr>\n",
       "      <th>SFO</th>\n",
       "      <td>91</td>\n",
       "    </tr>\n",
       "    <tr>\n",
       "      <th>MCO</th>\n",
       "      <td>90</td>\n",
       "    </tr>\n",
       "    <tr>\n",
       "      <th>DCA</th>\n",
       "      <td>82</td>\n",
       "    </tr>\n",
       "    <tr>\n",
       "      <th>DEN</th>\n",
       "      <td>79</td>\n",
       "    </tr>\n",
       "    <tr>\n",
       "      <th>LHR</th>\n",
       "      <td>76</td>\n",
       "    </tr>\n",
       "  </tbody>\n",
       "</table>\n",
       "</div>"
      ],
      "text/plain": [
       "          pax\n",
       "arr_port     \n",
       "HKG       112\n",
       "LGA        95\n",
       "ORD        94\n",
       "JFK        92\n",
       "LAX        91\n",
       "SFO        91\n",
       "MCO        90\n",
       "DCA        82\n",
       "DEN        79\n",
       "LHR        76"
      ]
     },
     "execution_count": 88,
     "metadata": {},
     "output_type": "execute_result"
    }
   ],
   "source": [
    "import pandas as pd\n",
    "\n",
    "bc=pd.read_csv('bookings.csv.bz2',sep='^', usecols=['arr_port', 'pax', 'year'], nrows=10000, chunksize=3000)\n",
    "\n",
    "all_chunks=pd.DataFrame()\n",
    "\n",
    "for i, chunk in enumerate(bc):\n",
    "    b=chunk.dropna()\n",
    "    b=b[    b['year']==2013    ]\n",
    "    del b['year']\n",
    "    small_chunk_result=b.groupby('arr_port').sum()\n",
    "    all_chunks=all_chunks.append(small_chunk_result)\n",
    "    \n",
    "all_chunks.groupby('arr_port').sum().sort_values('pax', ascending=False).head(10) \n"
   ]
  },
  {
   "cell_type": "markdown",
   "metadata": {},
   "source": [
    "## Pre-Bonus Solution"
   ]
  },
  {
   "cell_type": "code",
   "execution_count": 89,
   "metadata": {},
   "outputs": [
    {
     "name": "stdout",
     "output_type": "stream",
     "text": [
      "0\n",
      "1\n",
      "2\n",
      "3\n",
      "4\n",
      "5\n",
      "6\n",
      "7\n",
      "8\n",
      "9\n",
      "10\n",
      "CPU times: user 5min 5s, sys: 1.82 s, total: 5min 7s\n",
      "Wall time: 5min 8s\n"
     ]
    }
   ],
   "source": [
    "%%time\n",
    "import pandas as pd\n",
    "\n",
    "bc=pd.read_csv('bookings.csv.bz2',sep='^', usecols=['arr_port', 'pax', 'year'], chunksize=1000000)\n",
    "\n",
    "all_chunks=pd.DataFrame()\n",
    "\n",
    "for i, chunk in enumerate(bc):\n",
    "    print (i)\n",
    "    b=chunk.dropna()\n",
    "    b=b[    b['year']==2013    ]\n",
    "    del b['year']\n",
    "    small_chunk_result=b.groupby('arr_port').sum()\n",
    "    all_chunks=all_chunks.append(small_chunk_result)\n",
    "    \n",
    "    \n",
    "top_airports=all_chunks.groupby('arr_port').sum().sort_values('pax', ascending=False) \n"
   ]
  },
  {
   "cell_type": "code",
   "execution_count": 90,
   "metadata": {},
   "outputs": [
    {
     "data": {
      "text/html": [
       "<div>\n",
       "<style scoped>\n",
       "    .dataframe tbody tr th:only-of-type {\n",
       "        vertical-align: middle;\n",
       "    }\n",
       "\n",
       "    .dataframe tbody tr th {\n",
       "        vertical-align: top;\n",
       "    }\n",
       "\n",
       "    .dataframe thead th {\n",
       "        text-align: right;\n",
       "    }\n",
       "</style>\n",
       "<table border=\"1\" class=\"dataframe\">\n",
       "  <thead>\n",
       "    <tr style=\"text-align: right;\">\n",
       "      <th></th>\n",
       "      <th>pax</th>\n",
       "    </tr>\n",
       "    <tr>\n",
       "      <th>arr_port</th>\n",
       "      <th></th>\n",
       "    </tr>\n",
       "  </thead>\n",
       "  <tbody>\n",
       "    <tr>\n",
       "      <th>LHR</th>\n",
       "      <td>88809.0</td>\n",
       "    </tr>\n",
       "    <tr>\n",
       "      <th>MCO</th>\n",
       "      <td>70930.0</td>\n",
       "    </tr>\n",
       "    <tr>\n",
       "      <th>LAX</th>\n",
       "      <td>70530.0</td>\n",
       "    </tr>\n",
       "    <tr>\n",
       "      <th>LAS</th>\n",
       "      <td>69630.0</td>\n",
       "    </tr>\n",
       "    <tr>\n",
       "      <th>JFK</th>\n",
       "      <td>66270.0</td>\n",
       "    </tr>\n",
       "  </tbody>\n",
       "</table>\n",
       "</div>"
      ],
      "text/plain": [
       "              pax\n",
       "arr_port         \n",
       "LHR       88809.0\n",
       "MCO       70930.0\n",
       "LAX       70530.0\n",
       "LAS       69630.0\n",
       "JFK       66270.0"
      ]
     },
     "execution_count": 90,
     "metadata": {},
     "output_type": "execute_result"
    }
   ],
   "source": [
    "top_airports.head()"
   ]
  },
  {
   "cell_type": "code",
   "execution_count": null,
   "metadata": {
    "collapsed": true
   },
   "outputs": [],
   "source": []
  },
  {
   "cell_type": "markdown",
   "metadata": {},
   "source": [
    "### Now we've got top airports"
   ]
  },
  {
   "cell_type": "markdown",
   "metadata": {},
   "source": [
    "we have to install geobases\n",
    "pip install GeoBases"
   ]
  },
  {
   "cell_type": "code",
   "execution_count": null,
   "metadata": {},
   "outputs": [],
   "source": [
    "#! pip install Geobases3k"
   ]
  },
  {
   "cell_type": "code",
   "execution_count": 94,
   "metadata": {},
   "outputs": [],
   "source": [
    "from GeoBases import GeoBase"
   ]
  },
  {
   "cell_type": "code",
   "execution_count": 98,
   "metadata": {},
   "outputs": [],
   "source": [
    "geoDict=GeoBase(data='ori_por', verbose=False)"
   ]
  },
  {
   "cell_type": "code",
   "execution_count": 97,
   "metadata": {
    "collapsed": true
   },
   "outputs": [
    {
     "data": {
      "text/plain": [
       "['__key__',\n",
       " '__dup__',\n",
       " '__par__',\n",
       " '__lno__',\n",
       " 'iata_code',\n",
       " 'icao_code',\n",
       " 'faa_code',\n",
       " 'is_geonames',\n",
       " 'geoname_id',\n",
       " 'valid_id',\n",
       " 'name',\n",
       " 'asciiname',\n",
       " 'lat',\n",
       " 'lng',\n",
       " 'fclass',\n",
       " 'fcode',\n",
       " 'page_rank',\n",
       " 'date_from',\n",
       " 'date_until',\n",
       " 'comment',\n",
       " 'country_code',\n",
       " 'cc2',\n",
       " 'country_name',\n",
       " 'continent_name',\n",
       " 'adm1_code',\n",
       " 'adm1_name_utf',\n",
       " 'adm1_name_ascii',\n",
       " 'adm2_code',\n",
       " 'adm2_name_utf',\n",
       " 'adm2_name_ascii',\n",
       " 'adm3_code',\n",
       " 'adm4_code',\n",
       " 'population',\n",
       " 'elevation',\n",
       " 'gtopo30',\n",
       " 'timezone',\n",
       " 'gmt_offset',\n",
       " 'dst_offset',\n",
       " 'raw_offset',\n",
       " 'moddate',\n",
       " 'city_code',\n",
       " 'city_name_utf',\n",
       " 'city_name_ascii',\n",
       " 'tvl_por_list@raw',\n",
       " 'tvl_por_list',\n",
       " 'state_code',\n",
       " 'location_type@raw',\n",
       " 'location_type',\n",
       " 'wiki_link',\n",
       " 'alt_name_section@raw',\n",
       " 'alt_name_section',\n",
       " '__gar__']"
      ]
     },
     "execution_count": 97,
     "metadata": {},
     "output_type": "execute_result"
    }
   ],
   "source": [
    "geoDict.fields"
   ]
  },
  {
   "cell_type": "code",
   "execution_count": 100,
   "metadata": {},
   "outputs": [
    {
     "data": {
      "text/plain": [
       "'London Heathrow Airport'"
      ]
     },
     "execution_count": 100,
     "metadata": {},
     "output_type": "execute_result"
    }
   ],
   "source": [
    "geoDict.get(\"LHR\")['name']"
   ]
  },
  {
   "cell_type": "code",
   "execution_count": 116,
   "metadata": {
    "collapsed": true
   },
   "outputs": [
    {
     "data": {
      "text/plain": [
       "{'__dup__': ['CPQ@1'],\n",
       " '__gar__': [],\n",
       " '__key__': 'CPQ',\n",
       " '__lno__': 2416,\n",
       " '__par__': [],\n",
       " 'adm1_code': '27',\n",
       " 'adm1_name_ascii': 'Sao Paulo',\n",
       " 'adm1_name_utf': 'São Paulo',\n",
       " 'adm2_code': '3509502',\n",
       " 'adm2_name_ascii': 'Campinas',\n",
       " 'adm2_name_utf': 'Campinas',\n",
       " 'adm3_code': '',\n",
       " 'adm4_code': '',\n",
       " 'alt_name_section': (),\n",
       " 'alt_name_section@raw': '',\n",
       " 'asciiname': 'Amarais Airport',\n",
       " 'cc2': '',\n",
       " 'city_code': 'CPQ',\n",
       " 'city_name_ascii': 'Campinas',\n",
       " 'city_name_utf': 'Campinas',\n",
       " 'comment': '',\n",
       " 'continent_name': 'South America',\n",
       " 'country_code': 'BR',\n",
       " 'country_name': 'Brazil',\n",
       " 'date_from': '',\n",
       " 'date_until': '',\n",
       " 'dst_offset': '-3.0',\n",
       " 'elevation': '',\n",
       " 'faa_code': '',\n",
       " 'fclass': 'S',\n",
       " 'fcode': 'AIRP',\n",
       " 'geoname_id': '7730937',\n",
       " 'gmt_offset': '-2.0',\n",
       " 'gtopo30': '607',\n",
       " 'iata_code': 'CPQ',\n",
       " 'icao_code': 'SDAM',\n",
       " 'is_geonames': 'Y',\n",
       " 'lat': '-22.9',\n",
       " 'lng': '-47.1',\n",
       " 'location_type': ('A',),\n",
       " 'location_type@raw': 'A',\n",
       " 'moddate': '2012-08-03',\n",
       " 'name': 'Amarais Airport',\n",
       " 'page_rank': '',\n",
       " 'population': '0',\n",
       " 'raw_offset': '-3.0',\n",
       " 'state_code': 'SP',\n",
       " 'timezone': 'America/Sao_Paulo',\n",
       " 'tvl_por_list': (),\n",
       " 'tvl_por_list@raw': '',\n",
       " 'valid_id': '',\n",
       " 'wiki_link': ''}"
      ]
     },
     "execution_count": 116,
     "metadata": {},
     "output_type": "execute_result"
    }
   ],
   "source": [
    "geoDict.get(\"CPQ\")"
   ]
  },
  {
   "cell_type": "code",
   "execution_count": 108,
   "metadata": {},
   "outputs": [
    {
     "data": {
      "text/html": [
       "<div>\n",
       "<style scoped>\n",
       "    .dataframe tbody tr th:only-of-type {\n",
       "        vertical-align: middle;\n",
       "    }\n",
       "\n",
       "    .dataframe tbody tr th {\n",
       "        vertical-align: top;\n",
       "    }\n",
       "\n",
       "    .dataframe thead th {\n",
       "        text-align: right;\n",
       "    }\n",
       "</style>\n",
       "<table border=\"1\" class=\"dataframe\">\n",
       "  <thead>\n",
       "    <tr style=\"text-align: right;\">\n",
       "      <th></th>\n",
       "      <th>pax</th>\n",
       "    </tr>\n",
       "    <tr>\n",
       "      <th>arr_port</th>\n",
       "      <th></th>\n",
       "    </tr>\n",
       "  </thead>\n",
       "  <tbody>\n",
       "    <tr>\n",
       "      <th>LHR</th>\n",
       "      <td>88809.0</td>\n",
       "    </tr>\n",
       "    <tr>\n",
       "      <th>MCO</th>\n",
       "      <td>70930.0</td>\n",
       "    </tr>\n",
       "    <tr>\n",
       "      <th>LAX</th>\n",
       "      <td>70530.0</td>\n",
       "    </tr>\n",
       "    <tr>\n",
       "      <th>LAS</th>\n",
       "      <td>69630.0</td>\n",
       "    </tr>\n",
       "    <tr>\n",
       "      <th>JFK</th>\n",
       "      <td>66270.0</td>\n",
       "    </tr>\n",
       "  </tbody>\n",
       "</table>\n",
       "</div>"
      ],
      "text/plain": [
       "              pax\n",
       "arr_port         \n",
       "LHR       88809.0\n",
       "MCO       70930.0\n",
       "LAX       70530.0\n",
       "LAS       69630.0\n",
       "JFK       66270.0"
      ]
     },
     "execution_count": 108,
     "metadata": {},
     "output_type": "execute_result"
    }
   ],
   "source": [
    "top_airports.head()"
   ]
  },
  {
   "cell_type": "code",
   "execution_count": 107,
   "metadata": {},
   "outputs": [
    {
     "data": {
      "text/plain": [
       "'LHR     '"
      ]
     },
     "execution_count": 107,
     "metadata": {},
     "output_type": "execute_result"
    }
   ],
   "source": [
    "top_airports.reset_index()['arr_port'][0]"
   ]
  },
  {
   "cell_type": "markdown",
   "metadata": {},
   "source": [
    "### How do we remove white spaces?"
   ]
  },
  {
   "cell_type": "code",
   "execution_count": 112,
   "metadata": {},
   "outputs": [
    {
     "data": {
      "text/plain": [
       "'jjhgj  kjkjhkhk'"
      ]
     },
     "execution_count": 112,
     "metadata": {},
     "output_type": "execute_result"
    }
   ],
   "source": [
    "'jjhgj  kjkjhkhk       '.strip()"
   ]
  },
  {
   "cell_type": "markdown",
   "metadata": {},
   "source": [
    "### How do we put the name of each airport into the DF?"
   ]
  },
  {
   "cell_type": "code",
   "execution_count": 109,
   "metadata": {},
   "outputs": [],
   "source": [
    "top_airports.reset_index(inplace=True)"
   ]
  },
  {
   "cell_type": "code",
   "execution_count": 111,
   "metadata": {},
   "outputs": [
    {
     "data": {
      "text/html": [
       "<div>\n",
       "<style scoped>\n",
       "    .dataframe tbody tr th:only-of-type {\n",
       "        vertical-align: middle;\n",
       "    }\n",
       "\n",
       "    .dataframe tbody tr th {\n",
       "        vertical-align: top;\n",
       "    }\n",
       "\n",
       "    .dataframe thead th {\n",
       "        text-align: right;\n",
       "    }\n",
       "</style>\n",
       "<table border=\"1\" class=\"dataframe\">\n",
       "  <thead>\n",
       "    <tr style=\"text-align: right;\">\n",
       "      <th></th>\n",
       "      <th>arr_port</th>\n",
       "      <th>pax</th>\n",
       "    </tr>\n",
       "  </thead>\n",
       "  <tbody>\n",
       "    <tr>\n",
       "      <th>0</th>\n",
       "      <td>LHR</td>\n",
       "      <td>88809.0</td>\n",
       "    </tr>\n",
       "    <tr>\n",
       "      <th>1</th>\n",
       "      <td>MCO</td>\n",
       "      <td>70930.0</td>\n",
       "    </tr>\n",
       "    <tr>\n",
       "      <th>2</th>\n",
       "      <td>LAX</td>\n",
       "      <td>70530.0</td>\n",
       "    </tr>\n",
       "    <tr>\n",
       "      <th>3</th>\n",
       "      <td>LAS</td>\n",
       "      <td>69630.0</td>\n",
       "    </tr>\n",
       "    <tr>\n",
       "      <th>4</th>\n",
       "      <td>JFK</td>\n",
       "      <td>66270.0</td>\n",
       "    </tr>\n",
       "  </tbody>\n",
       "</table>\n",
       "</div>"
      ],
      "text/plain": [
       "   arr_port      pax\n",
       "0  LHR       88809.0\n",
       "1  MCO       70930.0\n",
       "2  LAX       70530.0\n",
       "3  LAS       69630.0\n",
       "4  JFK       66270.0"
      ]
     },
     "execution_count": 111,
     "metadata": {},
     "output_type": "execute_result"
    }
   ],
   "source": [
    "top_airports.head()"
   ]
  },
  {
   "cell_type": "code",
   "execution_count": 113,
   "metadata": {},
   "outputs": [],
   "source": [
    "top_airports['Airport Name']=top_airports['arr_port'].map(lambda x: geoDict.get( x.strip() )['name'] )"
   ]
  },
  {
   "cell_type": "code",
   "execution_count": 114,
   "metadata": {},
   "outputs": [
    {
     "data": {
      "text/html": [
       "<div>\n",
       "<style scoped>\n",
       "    .dataframe tbody tr th:only-of-type {\n",
       "        vertical-align: middle;\n",
       "    }\n",
       "\n",
       "    .dataframe tbody tr th {\n",
       "        vertical-align: top;\n",
       "    }\n",
       "\n",
       "    .dataframe thead th {\n",
       "        text-align: right;\n",
       "    }\n",
       "</style>\n",
       "<table border=\"1\" class=\"dataframe\">\n",
       "  <thead>\n",
       "    <tr style=\"text-align: right;\">\n",
       "      <th></th>\n",
       "      <th>arr_port</th>\n",
       "      <th>pax</th>\n",
       "      <th>Airport Name</th>\n",
       "    </tr>\n",
       "  </thead>\n",
       "  <tbody>\n",
       "    <tr>\n",
       "      <th>0</th>\n",
       "      <td>LHR</td>\n",
       "      <td>88809.0</td>\n",
       "      <td>London Heathrow Airport</td>\n",
       "    </tr>\n",
       "    <tr>\n",
       "      <th>1</th>\n",
       "      <td>MCO</td>\n",
       "      <td>70930.0</td>\n",
       "      <td>Orlando International Airport</td>\n",
       "    </tr>\n",
       "    <tr>\n",
       "      <th>2</th>\n",
       "      <td>LAX</td>\n",
       "      <td>70530.0</td>\n",
       "      <td>Los Angeles International Airport</td>\n",
       "    </tr>\n",
       "    <tr>\n",
       "      <th>3</th>\n",
       "      <td>LAS</td>\n",
       "      <td>69630.0</td>\n",
       "      <td>Mc Carran International Airport</td>\n",
       "    </tr>\n",
       "    <tr>\n",
       "      <th>4</th>\n",
       "      <td>JFK</td>\n",
       "      <td>66270.0</td>\n",
       "      <td>John F Kennedy International Airport</td>\n",
       "    </tr>\n",
       "    <tr>\n",
       "      <th>5</th>\n",
       "      <td>CDG</td>\n",
       "      <td>64490.0</td>\n",
       "      <td>Paris - Charles-de-Gaulle</td>\n",
       "    </tr>\n",
       "    <tr>\n",
       "      <th>6</th>\n",
       "      <td>BKK</td>\n",
       "      <td>59460.0</td>\n",
       "      <td>Suvarnabhumi</td>\n",
       "    </tr>\n",
       "    <tr>\n",
       "      <th>7</th>\n",
       "      <td>MIA</td>\n",
       "      <td>58150.0</td>\n",
       "      <td>Miami International Airport</td>\n",
       "    </tr>\n",
       "    <tr>\n",
       "      <th>8</th>\n",
       "      <td>SFO</td>\n",
       "      <td>58000.0</td>\n",
       "      <td>San Francisco International Airport</td>\n",
       "    </tr>\n",
       "    <tr>\n",
       "      <th>9</th>\n",
       "      <td>DXB</td>\n",
       "      <td>55590.0</td>\n",
       "      <td>Dubai International Airport</td>\n",
       "    </tr>\n",
       "  </tbody>\n",
       "</table>\n",
       "</div>"
      ],
      "text/plain": [
       "   arr_port      pax                          Airport Name\n",
       "0  LHR       88809.0               London Heathrow Airport\n",
       "1  MCO       70930.0         Orlando International Airport\n",
       "2  LAX       70530.0     Los Angeles International Airport\n",
       "3  LAS       69630.0       Mc Carran International Airport\n",
       "4  JFK       66270.0  John F Kennedy International Airport\n",
       "5  CDG       64490.0             Paris - Charles-de-Gaulle\n",
       "6  BKK       59460.0                          Suvarnabhumi\n",
       "7  MIA       58150.0           Miami International Airport\n",
       "8  SFO       58000.0   San Francisco International Airport\n",
       "9  DXB       55590.0           Dubai International Airport"
      ]
     },
     "execution_count": 114,
     "metadata": {},
     "output_type": "execute_result"
    }
   ],
   "source": [
    "top_airports.head(10)"
   ]
  },
  {
   "cell_type": "markdown",
   "metadata": {},
   "source": [
    "## Final Solution"
   ]
  },
  {
   "cell_type": "code",
   "execution_count": 117,
   "metadata": {},
   "outputs": [],
   "source": [
    "#removing the white space from arr_port column\n",
    "top_airports['arr_port']=top_airports['arr_port'].map(lambda x: x.strip())"
   ]
  },
  {
   "cell_type": "code",
   "execution_count": 121,
   "metadata": {},
   "outputs": [
    {
     "data": {
      "text/plain": [
       "2273"
      ]
     },
     "execution_count": 121,
     "metadata": {},
     "output_type": "execute_result"
    }
   ],
   "source": [
    "#Some have used Neobase and not Geobase for finding the name of the airport\n",
    "#creating the DF withoug the CPQ airport as this airport code in not present in Neobase \n",
    "top_airports= top_airports[   top_airports['arr_port']!='CPQ'               ]"
   ]
  },
  {
   "cell_type": "code",
   "execution_count": 118,
   "metadata": {
    "collapsed": true
   },
   "outputs": [
    {
     "data": {
      "text/html": [
       "<div>\n",
       "<style scoped>\n",
       "    .dataframe tbody tr th:only-of-type {\n",
       "        vertical-align: middle;\n",
       "    }\n",
       "\n",
       "    .dataframe tbody tr th {\n",
       "        vertical-align: top;\n",
       "    }\n",
       "\n",
       "    .dataframe thead th {\n",
       "        text-align: right;\n",
       "    }\n",
       "</style>\n",
       "<table border=\"1\" class=\"dataframe\">\n",
       "  <thead>\n",
       "    <tr style=\"text-align: right;\">\n",
       "      <th></th>\n",
       "      <th>arr_port</th>\n",
       "      <th>pax</th>\n",
       "      <th>Airport Name</th>\n",
       "    </tr>\n",
       "  </thead>\n",
       "  <tbody>\n",
       "    <tr>\n",
       "      <th>0</th>\n",
       "      <td>LHR</td>\n",
       "      <td>88809.0</td>\n",
       "      <td>London Heathrow Airport</td>\n",
       "    </tr>\n",
       "    <tr>\n",
       "      <th>1</th>\n",
       "      <td>MCO</td>\n",
       "      <td>70930.0</td>\n",
       "      <td>Orlando International Airport</td>\n",
       "    </tr>\n",
       "    <tr>\n",
       "      <th>2</th>\n",
       "      <td>LAX</td>\n",
       "      <td>70530.0</td>\n",
       "      <td>Los Angeles International Airport</td>\n",
       "    </tr>\n",
       "    <tr>\n",
       "      <th>3</th>\n",
       "      <td>LAS</td>\n",
       "      <td>69630.0</td>\n",
       "      <td>Mc Carran International Airport</td>\n",
       "    </tr>\n",
       "    <tr>\n",
       "      <th>4</th>\n",
       "      <td>JFK</td>\n",
       "      <td>66270.0</td>\n",
       "      <td>John F Kennedy International Airport</td>\n",
       "    </tr>\n",
       "    <tr>\n",
       "      <th>5</th>\n",
       "      <td>CDG</td>\n",
       "      <td>64490.0</td>\n",
       "      <td>Paris - Charles-de-Gaulle</td>\n",
       "    </tr>\n",
       "    <tr>\n",
       "      <th>6</th>\n",
       "      <td>BKK</td>\n",
       "      <td>59460.0</td>\n",
       "      <td>Suvarnabhumi</td>\n",
       "    </tr>\n",
       "    <tr>\n",
       "      <th>7</th>\n",
       "      <td>MIA</td>\n",
       "      <td>58150.0</td>\n",
       "      <td>Miami International Airport</td>\n",
       "    </tr>\n",
       "    <tr>\n",
       "      <th>8</th>\n",
       "      <td>SFO</td>\n",
       "      <td>58000.0</td>\n",
       "      <td>San Francisco International Airport</td>\n",
       "    </tr>\n",
       "    <tr>\n",
       "      <th>9</th>\n",
       "      <td>DXB</td>\n",
       "      <td>55590.0</td>\n",
       "      <td>Dubai International Airport</td>\n",
       "    </tr>\n",
       "    <tr>\n",
       "      <th>10</th>\n",
       "      <td>ORD</td>\n",
       "      <td>53200.0</td>\n",
       "      <td>Chicago O'Hare International Airport</td>\n",
       "    </tr>\n",
       "    <tr>\n",
       "      <th>11</th>\n",
       "      <td>FCO</td>\n",
       "      <td>45120.0</td>\n",
       "      <td>Leonardo da Vinci–Fiumicino Airport</td>\n",
       "    </tr>\n",
       "    <tr>\n",
       "      <th>12</th>\n",
       "      <td>IST</td>\n",
       "      <td>43850.0</td>\n",
       "      <td>Istanbul / Ataturk</td>\n",
       "    </tr>\n",
       "    <tr>\n",
       "      <th>13</th>\n",
       "      <td>DFW</td>\n",
       "      <td>42420.0</td>\n",
       "      <td>Dallas/Fort Worth International Airport</td>\n",
       "    </tr>\n",
       "    <tr>\n",
       "      <th>14</th>\n",
       "      <td>CUN</td>\n",
       "      <td>42000.0</td>\n",
       "      <td>Cancún International Airport</td>\n",
       "    </tr>\n",
       "    <tr>\n",
       "      <th>15</th>\n",
       "      <td>MAD</td>\n",
       "      <td>41410.0</td>\n",
       "      <td>Madrid / Barajas</td>\n",
       "    </tr>\n",
       "    <tr>\n",
       "      <th>16</th>\n",
       "      <td>BCN</td>\n",
       "      <td>41200.0</td>\n",
       "      <td>Barcelona–El Prat Airport</td>\n",
       "    </tr>\n",
       "    <tr>\n",
       "      <th>17</th>\n",
       "      <td>LGA</td>\n",
       "      <td>40712.0</td>\n",
       "      <td>La Guardia Airport</td>\n",
       "    </tr>\n",
       "    <tr>\n",
       "      <th>18</th>\n",
       "      <td>ATL</td>\n",
       "      <td>39780.0</td>\n",
       "      <td>Hartsfield - Jackson Atlanta International Air...</td>\n",
       "    </tr>\n",
       "    <tr>\n",
       "      <th>19</th>\n",
       "      <td>EWR</td>\n",
       "      <td>36890.0</td>\n",
       "      <td>Newark International Airport</td>\n",
       "    </tr>\n",
       "    <tr>\n",
       "      <th>20</th>\n",
       "      <td>BOS</td>\n",
       "      <td>35840.0</td>\n",
       "      <td>General Edward Lawrence Logan International Ai...</td>\n",
       "    </tr>\n",
       "    <tr>\n",
       "      <th>21</th>\n",
       "      <td>DEL</td>\n",
       "      <td>35680.0</td>\n",
       "      <td>New Delhi / Palam</td>\n",
       "    </tr>\n",
       "    <tr>\n",
       "      <th>22</th>\n",
       "      <td>SYD</td>\n",
       "      <td>33690.0</td>\n",
       "      <td>Sydney International Airport</td>\n",
       "    </tr>\n",
       "    <tr>\n",
       "      <th>23</th>\n",
       "      <td>BOM</td>\n",
       "      <td>33440.0</td>\n",
       "      <td>Bombay / Santacruz</td>\n",
       "    </tr>\n",
       "    <tr>\n",
       "      <th>24</th>\n",
       "      <td>MUC</td>\n",
       "      <td>33180.0</td>\n",
       "      <td>Munich International Airport</td>\n",
       "    </tr>\n",
       "    <tr>\n",
       "      <th>25</th>\n",
       "      <td>DEN</td>\n",
       "      <td>32630.0</td>\n",
       "      <td>Denver International Airport</td>\n",
       "    </tr>\n",
       "    <tr>\n",
       "      <th>26</th>\n",
       "      <td>MNL</td>\n",
       "      <td>32400.0</td>\n",
       "      <td>Ninoy Aquino Manila International Airport</td>\n",
       "    </tr>\n",
       "    <tr>\n",
       "      <th>27</th>\n",
       "      <td>HKG</td>\n",
       "      <td>32020.0</td>\n",
       "      <td>Hong Kong International Airport</td>\n",
       "    </tr>\n",
       "    <tr>\n",
       "      <th>28</th>\n",
       "      <td>FRA</td>\n",
       "      <td>31970.0</td>\n",
       "      <td>Frankfurt Airport</td>\n",
       "    </tr>\n",
       "    <tr>\n",
       "      <th>29</th>\n",
       "      <td>ORY</td>\n",
       "      <td>31800.0</td>\n",
       "      <td>Paris-Orly</td>\n",
       "    </tr>\n",
       "    <tr>\n",
       "      <th>...</th>\n",
       "      <td>...</td>\n",
       "      <td>...</td>\n",
       "      <td>...</td>\n",
       "    </tr>\n",
       "    <tr>\n",
       "      <th>2244</th>\n",
       "      <td>IFN</td>\n",
       "      <td>-20.0</td>\n",
       "      <td>Esfahan</td>\n",
       "    </tr>\n",
       "    <tr>\n",
       "      <th>2245</th>\n",
       "      <td>LBF</td>\n",
       "      <td>-20.0</td>\n",
       "      <td>North Platte Regional Airport Lee Bird Field</td>\n",
       "    </tr>\n",
       "    <tr>\n",
       "      <th>2246</th>\n",
       "      <td>LEN</td>\n",
       "      <td>-20.0</td>\n",
       "      <td>Leon / Virgen Del Camino</td>\n",
       "    </tr>\n",
       "    <tr>\n",
       "      <th>2247</th>\n",
       "      <td>XUZ</td>\n",
       "      <td>-20.0</td>\n",
       "      <td>Xuzhou Guanyin Airport</td>\n",
       "    </tr>\n",
       "    <tr>\n",
       "      <th>2248</th>\n",
       "      <td>FLA</td>\n",
       "      <td>-20.0</td>\n",
       "      <td>Gustavo Artunduaga Paredes Airport</td>\n",
       "    </tr>\n",
       "    <tr>\n",
       "      <th>2249</th>\n",
       "      <td>YRB</td>\n",
       "      <td>-20.0</td>\n",
       "      <td>Resolute, N. W. T.</td>\n",
       "    </tr>\n",
       "    <tr>\n",
       "      <th>2250</th>\n",
       "      <td>HDG</td>\n",
       "      <td>-20.0</td>\n",
       "      <td>Hebei Handan</td>\n",
       "    </tr>\n",
       "    <tr>\n",
       "      <th>2251</th>\n",
       "      <td>TAG</td>\n",
       "      <td>-20.0</td>\n",
       "      <td>Tagbilaran Airfield</td>\n",
       "    </tr>\n",
       "    <tr>\n",
       "      <th>2252</th>\n",
       "      <td>HRI</td>\n",
       "      <td>-20.0</td>\n",
       "      <td>Hambantota International Airport</td>\n",
       "    </tr>\n",
       "    <tr>\n",
       "      <th>2253</th>\n",
       "      <td>BER</td>\n",
       "      <td>-20.0</td>\n",
       "      <td>Berlin Brandenburg Airport</td>\n",
       "    </tr>\n",
       "    <tr>\n",
       "      <th>2254</th>\n",
       "      <td>RRG</td>\n",
       "      <td>-20.0</td>\n",
       "      <td>Rodrigues</td>\n",
       "    </tr>\n",
       "    <tr>\n",
       "      <th>2255</th>\n",
       "      <td>KSN</td>\n",
       "      <td>-20.0</td>\n",
       "      <td>Kostanay Airport</td>\n",
       "    </tr>\n",
       "    <tr>\n",
       "      <th>2256</th>\n",
       "      <td>VDM</td>\n",
       "      <td>-20.0</td>\n",
       "      <td>Gobernador Edgardo Castello Airport</td>\n",
       "    </tr>\n",
       "    <tr>\n",
       "      <th>2257</th>\n",
       "      <td>CPQ</td>\n",
       "      <td>-20.0</td>\n",
       "      <td>Amarais Airport</td>\n",
       "    </tr>\n",
       "    <tr>\n",
       "      <th>2258</th>\n",
       "      <td>YCU</td>\n",
       "      <td>-20.0</td>\n",
       "      <td>Yuncheng Guangong Airport</td>\n",
       "    </tr>\n",
       "    <tr>\n",
       "      <th>2259</th>\n",
       "      <td>BAV</td>\n",
       "      <td>-20.0</td>\n",
       "      <td>Baotou Erliban Airport</td>\n",
       "    </tr>\n",
       "    <tr>\n",
       "      <th>2260</th>\n",
       "      <td>RXS</td>\n",
       "      <td>-30.0</td>\n",
       "      <td>Roxas</td>\n",
       "    </tr>\n",
       "    <tr>\n",
       "      <th>2261</th>\n",
       "      <td>CGD</td>\n",
       "      <td>-30.0</td>\n",
       "      <td>Changde Airport</td>\n",
       "    </tr>\n",
       "    <tr>\n",
       "      <th>2262</th>\n",
       "      <td>KKJ</td>\n",
       "      <td>-40.0</td>\n",
       "      <td>Kitakyūshū Airport</td>\n",
       "    </tr>\n",
       "    <tr>\n",
       "      <th>2263</th>\n",
       "      <td>XNN</td>\n",
       "      <td>-40.0</td>\n",
       "      <td>Xining Caojiabao Airport</td>\n",
       "    </tr>\n",
       "    <tr>\n",
       "      <th>2264</th>\n",
       "      <td>KUU</td>\n",
       "      <td>-40.0</td>\n",
       "      <td>Kullu Manali Airport</td>\n",
       "    </tr>\n",
       "    <tr>\n",
       "      <th>2265</th>\n",
       "      <td>FLW</td>\n",
       "      <td>-50.0</td>\n",
       "      <td>Flores Acores</td>\n",
       "    </tr>\n",
       "    <tr>\n",
       "      <th>2266</th>\n",
       "      <td>MUA</td>\n",
       "      <td>-60.0</td>\n",
       "      <td>Munda</td>\n",
       "    </tr>\n",
       "    <tr>\n",
       "      <th>2267</th>\n",
       "      <td>CXR</td>\n",
       "      <td>-60.0</td>\n",
       "      <td>Cam Ranh International Airport</td>\n",
       "    </tr>\n",
       "    <tr>\n",
       "      <th>2268</th>\n",
       "      <td>SDJ</td>\n",
       "      <td>-70.0</td>\n",
       "      <td>Sendai Airport</td>\n",
       "    </tr>\n",
       "    <tr>\n",
       "      <th>2269</th>\n",
       "      <td>MYJ</td>\n",
       "      <td>-80.0</td>\n",
       "      <td>Matsuyama Airport</td>\n",
       "    </tr>\n",
       "    <tr>\n",
       "      <th>2270</th>\n",
       "      <td>UPG</td>\n",
       "      <td>-90.0</td>\n",
       "      <td>Ujung Pandang / Hasanuddin</td>\n",
       "    </tr>\n",
       "    <tr>\n",
       "      <th>2271</th>\n",
       "      <td>XWG</td>\n",
       "      <td>-90.0</td>\n",
       "      <td>Strasbourg FR Railway Station</td>\n",
       "    </tr>\n",
       "    <tr>\n",
       "      <th>2272</th>\n",
       "      <td>MZV</td>\n",
       "      <td>-350.0</td>\n",
       "      <td>Mulu Airport</td>\n",
       "    </tr>\n",
       "    <tr>\n",
       "      <th>2273</th>\n",
       "      <td>AYQ</td>\n",
       "      <td>-1270.0</td>\n",
       "      <td>Ayers Rock</td>\n",
       "    </tr>\n",
       "  </tbody>\n",
       "</table>\n",
       "<p>2274 rows × 3 columns</p>\n",
       "</div>"
      ],
      "text/plain": [
       "     arr_port      pax                                       Airport Name\n",
       "0         LHR  88809.0                            London Heathrow Airport\n",
       "1         MCO  70930.0                      Orlando International Airport\n",
       "2         LAX  70530.0                  Los Angeles International Airport\n",
       "3         LAS  69630.0                    Mc Carran International Airport\n",
       "4         JFK  66270.0               John F Kennedy International Airport\n",
       "5         CDG  64490.0                          Paris - Charles-de-Gaulle\n",
       "6         BKK  59460.0                                       Suvarnabhumi\n",
       "7         MIA  58150.0                        Miami International Airport\n",
       "8         SFO  58000.0                San Francisco International Airport\n",
       "9         DXB  55590.0                        Dubai International Airport\n",
       "10        ORD  53200.0               Chicago O'Hare International Airport\n",
       "11        FCO  45120.0                Leonardo da Vinci–Fiumicino Airport\n",
       "12        IST  43850.0                                 Istanbul / Ataturk\n",
       "13        DFW  42420.0            Dallas/Fort Worth International Airport\n",
       "14        CUN  42000.0                       Cancún International Airport\n",
       "15        MAD  41410.0                                   Madrid / Barajas\n",
       "16        BCN  41200.0                          Barcelona–El Prat Airport\n",
       "17        LGA  40712.0                                 La Guardia Airport\n",
       "18        ATL  39780.0  Hartsfield - Jackson Atlanta International Air...\n",
       "19        EWR  36890.0                       Newark International Airport\n",
       "20        BOS  35840.0  General Edward Lawrence Logan International Ai...\n",
       "21        DEL  35680.0                                  New Delhi / Palam\n",
       "22        SYD  33690.0                       Sydney International Airport\n",
       "23        BOM  33440.0                                 Bombay / Santacruz\n",
       "24        MUC  33180.0                       Munich International Airport\n",
       "25        DEN  32630.0                       Denver International Airport\n",
       "26        MNL  32400.0          Ninoy Aquino Manila International Airport\n",
       "27        HKG  32020.0                    Hong Kong International Airport\n",
       "28        FRA  31970.0                                  Frankfurt Airport\n",
       "29        ORY  31800.0                                         Paris-Orly\n",
       "...       ...      ...                                                ...\n",
       "2244      IFN    -20.0                                            Esfahan\n",
       "2245      LBF    -20.0       North Platte Regional Airport Lee Bird Field\n",
       "2246      LEN    -20.0                           Leon / Virgen Del Camino\n",
       "2247      XUZ    -20.0                             Xuzhou Guanyin Airport\n",
       "2248      FLA    -20.0                 Gustavo Artunduaga Paredes Airport\n",
       "2249      YRB    -20.0                                 Resolute, N. W. T.\n",
       "2250      HDG    -20.0                                       Hebei Handan\n",
       "2251      TAG    -20.0                                Tagbilaran Airfield\n",
       "2252      HRI    -20.0                   Hambantota International Airport\n",
       "2253      BER    -20.0                         Berlin Brandenburg Airport\n",
       "2254      RRG    -20.0                                          Rodrigues\n",
       "2255      KSN    -20.0                                   Kostanay Airport\n",
       "2256      VDM    -20.0                Gobernador Edgardo Castello Airport\n",
       "2257      CPQ    -20.0                                    Amarais Airport\n",
       "2258      YCU    -20.0                          Yuncheng Guangong Airport\n",
       "2259      BAV    -20.0                             Baotou Erliban Airport\n",
       "2260      RXS    -30.0                                              Roxas\n",
       "2261      CGD    -30.0                                    Changde Airport\n",
       "2262      KKJ    -40.0                                 Kitakyūshū Airport\n",
       "2263      XNN    -40.0                           Xining Caojiabao Airport\n",
       "2264      KUU    -40.0                               Kullu Manali Airport\n",
       "2265      FLW    -50.0                                      Flores Acores\n",
       "2266      MUA    -60.0                                              Munda\n",
       "2267      CXR    -60.0                     Cam Ranh International Airport\n",
       "2268      SDJ    -70.0                                     Sendai Airport\n",
       "2269      MYJ    -80.0                                  Matsuyama Airport\n",
       "2270      UPG    -90.0                         Ujung Pandang / Hasanuddin\n",
       "2271      XWG    -90.0                      Strasbourg FR Railway Station\n",
       "2272      MZV   -350.0                                       Mulu Airport\n",
       "2273      AYQ  -1270.0                                         Ayers Rock\n",
       "\n",
       "[2274 rows x 3 columns]"
      ]
     },
     "execution_count": 118,
     "metadata": {},
     "output_type": "execute_result"
    }
   ],
   "source": [
    "top_airports"
   ]
  },
  {
   "cell_type": "code",
   "execution_count": 127,
   "metadata": {},
   "outputs": [],
   "source": [
    "#saving the result in file which will be used in 5th exercise\n",
    "top_airports.to_csv('top_airports.csv', sep='^', index=False)"
   ]
  },
  {
   "cell_type": "code",
   "execution_count": 128,
   "metadata": {},
   "outputs": [
    {
     "name": "stdout",
     "output_type": "stream",
     "text": [
      "total 1014676\r\n",
      "-rwxr-x--- 1 dsc 554970628 mar 13  2018 \u001b[0m\u001b[01;32mbookings.csv.bz2\u001b[0m*\r\n",
      "-rw-r--r-- 1 dsc    535893 feb  1 17:25 \u001b[01;31mbookings.sample.csv.bz2\u001b[0m\r\n",
      "-rwxr-x--- 1 dsc 483188920 mar 13  2018 \u001b[01;32msearches.csv.bz2\u001b[0m*\r\n",
      "-rw-r--r-- 1 dsc    244720 feb  1 17:32 \u001b[01;31msearches.sample.csv.bz2\u001b[0m\r\n",
      "-rw-r--r-- 1 dsc     73326 feb  1 21:40 top_airports.csv\r\n"
     ]
    }
   ],
   "source": [
    "ll"
   ]
  },
  {
   "cell_type": "code",
   "execution_count": 129,
   "metadata": {},
   "outputs": [
    {
     "name": "stdout",
     "output_type": "stream",
     "text": [
      "arr_port^pax^Airport Name\r\n",
      "LHR^88809.0^London Heathrow Airport\r\n",
      "MCO^70930.0^Orlando International Airport\r\n",
      "LAX^70530.0^Los Angeles International Airport\r\n",
      "LAS^69630.0^Mc Carran International Airport\r\n",
      "JFK^66270.0^John F Kennedy International Airport\r\n",
      "CDG^64490.0^Paris - Charles-de-Gaulle\r\n",
      "BKK^59460.0^Suvarnabhumi\r\n",
      "MIA^58150.0^Miami International Airport\r\n",
      "SFO^58000.0^San Francisco International Airport\r\n"
     ]
    }
   ],
   "source": [
    "! head top_airports.csv"
   ]
  },
  {
   "cell_type": "code",
   "execution_count": 130,
   "metadata": {},
   "outputs": [],
   "source": [
    "#transforming pax type from float to integer so that we dont have .0 in the csv\n",
    "top_airports=top_airports.astype({'pax':int})"
   ]
  },
  {
   "cell_type": "code",
   "execution_count": 131,
   "metadata": {},
   "outputs": [],
   "source": [
    "top_airports.to_csv('top_airports.csv', sep='^', index=False)"
   ]
  },
  {
   "cell_type": "code",
   "execution_count": 132,
   "metadata": {},
   "outputs": [
    {
     "name": "stdout",
     "output_type": "stream",
     "text": [
      "arr_port^pax^Airport Name\r\n",
      "LHR^88809^London Heathrow Airport\r\n",
      "MCO^70930^Orlando International Airport\r\n",
      "LAX^70530^Los Angeles International Airport\r\n",
      "LAS^69630^Mc Carran International Airport\r\n",
      "JFK^66270^John F Kennedy International Airport\r\n",
      "CDG^64490^Paris - Charles-de-Gaulle\r\n",
      "BKK^59460^Suvarnabhumi\r\n",
      "MIA^58150^Miami International Airport\r\n",
      "SFO^58000^San Francisco International Airport\r\n"
     ]
    }
   ],
   "source": [
    "! head top_airports.csv"
   ]
  },
  {
   "cell_type": "code",
   "execution_count": null,
   "metadata": {},
   "outputs": [],
   "source": []
  }
 ],
 "metadata": {
  "kernelspec": {
   "display_name": "Python 3",
   "language": "python",
   "name": "python3"
  },
  "language_info": {
   "codemirror_mode": {
    "name": "ipython",
    "version": 3
   },
   "file_extension": ".py",
   "mimetype": "text/x-python",
   "name": "python",
   "nbconvert_exporter": "python",
   "pygments_lexer": "ipython3",
   "version": "3.6.4"
  }
 },
 "nbformat": 4,
 "nbformat_minor": 1
}
