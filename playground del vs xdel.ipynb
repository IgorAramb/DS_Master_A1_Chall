{
 "cells": [
  {
   "cell_type": "markdown",
   "metadata": {},
   "source": [
    "### Difference del and xdel\n",
    "xdel borra objeto y todas sus referencias\n",
    "\n",
    "del borra solo la variable"
   ]
  },
  {
   "cell_type": "code",
   "execution_count": 143,
   "metadata": {
    "collapsed": true
   },
   "outputs": [
    {
     "name": "stdout",
     "output_type": "stream",
     "text": [
      "Variable      Type           Data/Info\n",
      "--------------------------------------\n",
      "a             int            1\n",
      "agp           list           n=4\n",
      "ax            AxesSubplot    Axes(0.125,0.125;0.775x0.775)\n",
      "bcn           list           n=4\n",
      "fig           Figure         Figure(480x320)\n",
      "g             DataFrame         PlotDate Destination  <...>-04         MAD       147\n",
      "line2         list           n=1\n",
      "line3         list           n=1\n",
      "mad           list           n=4\n",
      "major_ticks   list           n=4\n",
      "minor_ticks   ndarray        8: 8 elems, type `float64`, 64 bytes\n",
      "np            module         <module 'numpy' from '/ho<...>ages/numpy/__init__.pyc'>\n",
      "pd            module         <module 'pandas' from '/h<...>ges/pandas/__init__.pyc'>\n",
      "plotdate      list           n=4\n",
      "plt           module         <module 'matplotlib.pyplo<...>s/matplotlib/pyplot.pyc'>\n",
      "s             DataFrame                  Date Destinat<...>[100000 rows x 2 columns]\n",
      "sFilter       DataFrame                  Date Destinat<...>\\n[3663 rows x 4 columns]\n",
      "y             list           n=4\n"
     ]
    }
   ],
   "source": [
    "a=1\n",
    "b=a\n",
    "del b\n",
    "%whos"
   ]
  },
  {
   "cell_type": "code",
   "execution_count": 141,
   "metadata": {
    "collapsed": true
   },
   "outputs": [
    {
     "name": "stdout",
     "output_type": "stream",
     "text": [
      "Variable      Type           Data/Info\n",
      "--------------------------------------\n",
      "agp           list           n=4\n",
      "ax            AxesSubplot    Axes(0.125,0.125;0.775x0.775)\n",
      "bcn           list           n=4\n",
      "fig           Figure         Figure(480x320)\n",
      "g             DataFrame         PlotDate Destination  <...>-04         MAD       147\n",
      "line2         list           n=1\n",
      "line3         list           n=1\n",
      "mad           list           n=4\n",
      "major_ticks   list           n=4\n",
      "minor_ticks   ndarray        8: 8 elems, type `float64`, 64 bytes\n",
      "np            module         <module 'numpy' from '/ho<...>ages/numpy/__init__.pyc'>\n",
      "pd            module         <module 'pandas' from '/h<...>ges/pandas/__init__.pyc'>\n",
      "plotdate      list           n=4\n",
      "plt           module         <module 'matplotlib.pyplo<...>s/matplotlib/pyplot.pyc'>\n",
      "s             DataFrame                  Date Destinat<...>[100000 rows x 2 columns]\n",
      "sFilter       DataFrame                  Date Destinat<...>\\n[3663 rows x 4 columns]\n",
      "y             list           n=4\n"
     ]
    }
   ],
   "source": [
    "a=1\n",
    "b=a\n",
    "%xdel b\n",
    "%whos"
   ]
  }
 ],
 "metadata": {
  "kernelspec": {
   "display_name": "Python 3",
   "language": "python",
   "name": "python3"
  },
  "language_info": {
   "codemirror_mode": {
    "name": "ipython",
    "version": 3
   },
   "file_extension": ".py",
   "mimetype": "text/x-python",
   "name": "python",
   "nbconvert_exporter": "python",
   "pygments_lexer": "ipython3",
   "version": "3.7.0"
  }
 },
 "nbformat": 4,
 "nbformat_minor": 1
}
