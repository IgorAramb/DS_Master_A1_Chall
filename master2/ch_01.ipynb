{
 "cells": [
  {
   "cell_type": "markdown",
   "metadata": {},
   "source": [
    "# Count the number of lines in Python for each file"
   ]
  },
  {
   "cell_type": "raw",
   "metadata": {},
   "source": [
    "Options:\n",
    "    1) Command line\n",
    "    2) python"
   ]
  },
  {
   "cell_type": "markdown",
   "metadata": {},
   "source": [
    "## 1) Command Line"
   ]
  },
  {
   "cell_type": "code",
   "execution_count": 1,
   "metadata": {
    "collapsed": false
   },
   "outputs": [
    {
     "name": "stdout",
     "output_type": "stream",
     "text": [
      "/home/dsc/Data/challenge\r\n"
     ]
    }
   ],
   "source": [
    "! pwd"
   ]
  },
  {
   "cell_type": "code",
   "execution_count": 2,
   "metadata": {
    "collapsed": false
   },
   "outputs": [
    {
     "name": "stdout",
     "output_type": "stream",
     "text": [
      "total 1013892\r\n",
      "-rw-rw-r--. 1 dsc dsc 554970628 Jan  4  2016 bookings.csv.bz2\r\n",
      "-rw-rw-r--. 1 dsc dsc      5310 Dec  2 17:10 ch_01.ipynb\r\n",
      "-rw-rw-r--. 1 dsc dsc     12930 Dec  2 14:36 ch_02.ipynb\r\n",
      "-rw-rw-r--. 1 dsc dsc     10832 Dec  2 14:36 ch_03.ipynb\r\n",
      "-rw-rw-r--. 1 dsc dsc      8019 Dec  2 14:36 ch_04.ipynb\r\n",
      "-rw-rw-r--. 1 dsc dsc 483188920 Jan  4  2016 searches.csv.bz2\r\n"
     ]
    }
   ],
   "source": [
    "! ls -l"
   ]
  },
  {
   "cell_type": "code",
   "execution_count": 3,
   "metadata": {
    "collapsed": false
   },
   "outputs": [
    {
     "name": "stdout",
     "output_type": "stream",
     "text": [
      "\r\n",
      "bzcat: I/O or other error, bailing out.  Possible reason follows.\r\n",
      "bzcat: Broken pipe\r\n",
      "\tInput file = bookings.csv.bz2, output file = (stdout)\r\n"
     ]
    }
   ],
   "source": [
    "# make a sample\n",
    "! bzcat bookings.csv.bz2 | head -1000 > bookings.sample.csv"
   ]
  },
  {
   "cell_type": "code",
   "execution_count": 4,
   "metadata": {
    "collapsed": false
   },
   "outputs": [
    {
     "name": "stdout",
     "output_type": "stream",
     "text": [
      "total 1014308\r\n",
      "-rw-rw-r--. 1 dsc dsc 554970628 Jan  4  2016 bookings.csv.bz2\r\n",
      "-rw-rw-r--. 1 dsc dsc    425006 Dec  2 17:13 bookings.sample.csv\r\n",
      "-rw-rw-r--. 1 dsc dsc      6610 Dec  2 17:12 ch_01.ipynb\r\n",
      "-rw-rw-r--. 1 dsc dsc     12930 Dec  2 14:36 ch_02.ipynb\r\n",
      "-rw-rw-r--. 1 dsc dsc     10832 Dec  2 14:36 ch_03.ipynb\r\n",
      "-rw-rw-r--. 1 dsc dsc      8019 Dec  2 14:36 ch_04.ipynb\r\n",
      "-rw-rw-r--. 1 dsc dsc 483188920 Jan  4  2016 searches.csv.bz2\r\n"
     ]
    }
   ],
   "source": [
    "! ls -l"
   ]
  },
  {
   "cell_type": "code",
   "execution_count": 5,
   "metadata": {
    "collapsed": true
   },
   "outputs": [],
   "source": [
    "#the sample should be of the same type as origin so we compress it wuth bzip2\n",
    "! bzip2 bookings.sample.csv"
   ]
  },
  {
   "cell_type": "code",
   "execution_count": 7,
   "metadata": {
    "collapsed": false
   },
   "outputs": [
    {
     "name": "stdout",
     "output_type": "stream",
     "text": [
      "1000\r\n"
     ]
    }
   ],
   "source": [
    "!bzcat bookings.sample.csv.bz2 | wc -l"
   ]
  },
  {
   "cell_type": "markdown",
   "metadata": {},
   "source": [
    "## 2) Python:"
   ]
  },
  {
   "cell_type": "raw",
   "metadata": {},
   "source": [
    "Options:\n",
    "    a) without uncompressing\n",
    "    b) using row uncompressed files (so that we can calculate size of not just bz2 files)"
   ]
  },
  {
   "cell_type": "markdown",
   "metadata": {},
   "source": [
    "#### 2a) Python without uncompressing"
   ]
  },
  {
   "cell_type": "code",
   "execution_count": 8,
   "metadata": {
    "collapsed": true
   },
   "outputs": [],
   "source": [
    "import bz2"
   ]
  },
  {
   "cell_type": "code",
   "execution_count": 9,
   "metadata": {
    "collapsed": true
   },
   "outputs": [],
   "source": [
    "fileBz2=bz2.BZ2File('./bookings.sample.csv.bz2')"
   ]
  },
  {
   "cell_type": "code",
   "execution_count": 10,
   "metadata": {
    "collapsed": false
   },
   "outputs": [
    {
     "name": "stdout",
     "output_type": "stream",
     "text": [
      "./bookings.sample.csv.bz2 has 1000 lines.\n"
     ]
    }
   ],
   "source": [
    "k=0\n",
    "for line in fileBz2:\n",
    "    k+=1\n",
    "print \"%s has %d lines.\"%(fileBz2.name,k)"
   ]
  },
  {
   "cell_type": "markdown",
   "metadata": {},
   "source": [
    "#### 2b) Python on row uncompressed file"
   ]
  },
  {
   "cell_type": "code",
   "execution_count": 11,
   "metadata": {
    "collapsed": true
   },
   "outputs": [],
   "source": [
    "! cp ./bookings.sample.csv.bz2 ./bookings.sample.csv.csv.bz2"
   ]
  },
  {
   "cell_type": "code",
   "execution_count": 12,
   "metadata": {
    "collapsed": true
   },
   "outputs": [],
   "source": [
    "! bunzip2 ./bookings.sample.csv.csv.bz2"
   ]
  },
  {
   "cell_type": "code",
   "execution_count": 13,
   "metadata": {
    "collapsed": false
   },
   "outputs": [
    {
     "name": "stdout",
     "output_type": "stream",
     "text": [
      "total 1014368\r\n",
      "-rw-rw-r--. 1 dsc dsc 554970628 Jan  4  2016 bookings.csv.bz2\r\n",
      "-rw-rw-r--. 1 dsc dsc     54834 Dec  2 17:13 bookings.sample.csv.bz2\r\n",
      "-rw-rw-r--. 1 dsc dsc    425006 Dec  2 17:23 bookings.sample.csv.csv\r\n",
      "-rw-rw-r--. 1 dsc dsc      8213 Dec  2 17:22 ch_01.ipynb\r\n",
      "-rw-rw-r--. 1 dsc dsc     12930 Dec  2 14:36 ch_02.ipynb\r\n",
      "-rw-rw-r--. 1 dsc dsc     10832 Dec  2 14:36 ch_03.ipynb\r\n",
      "-rw-rw-r--. 1 dsc dsc      8019 Dec  2 14:36 ch_04.ipynb\r\n",
      "-rw-rw-r--. 1 dsc dsc 483188920 Jan  4  2016 searches.csv.bz2\r\n"
     ]
    }
   ],
   "source": [
    "! ls -l"
   ]
  },
  {
   "cell_type": "code",
   "execution_count": 15,
   "metadata": {
    "collapsed": false
   },
   "outputs": [
    {
     "name": "stdout",
     "output_type": "stream",
     "text": [
      "File has 10 lines.\n"
     ]
    }
   ],
   "source": [
    "with open('./bookings.sample.csv.csv') as input_file:\n",
    "    k=0\n",
    "    for like in input_file:\n",
    "        if k==10:\n",
    "            break\n",
    "        k+=1\n",
    "print \"File has %d lines.\"%k"
   ]
  },
  {
   "cell_type": "code",
   "execution_count": 16,
   "metadata": {
    "collapsed": false
   },
   "outputs": [
    {
     "name": "stdout",
     "output_type": "stream",
     "text": [
      "Variable     Type       Data/Info\n",
      "---------------------------------\n",
      "bz2          module     <module 'bz2' from '/home<...>n2.7/lib-dynload/bz2.so'>\n",
      "fileBz2      BZ2File    <bz2.BZ2File object at 0x7ff09c2099f0>\n",
      "input_file   file       <closed file './bookings.<...>de 'r' at 0x7ff09c2b0c90>\n",
      "k            int        10\n",
      "like         str        2013-03-25 00:00:00^1V   <...>3:56^2^2013^3^NULL     \\n\n",
      "line         str        2013-03-06 00:00:00^1P   <...>1:52^1^2013^3^NULL     \\n\n"
     ]
    }
   ],
   "source": [
    "%whos"
   ]
  },
  {
   "cell_type": "code",
   "execution_count": null,
   "metadata": {
    "collapsed": true
   },
   "outputs": [],
   "source": []
  },
  {
   "cell_type": "markdown",
   "metadata": {},
   "source": [
    "## 3) What if the file didnt exist? Use Try-except..."
   ]
  },
  {
   "cell_type": "code",
   "execution_count": 23,
   "metadata": {
    "collapsed": false
   },
   "outputs": [
    {
     "name": "stdout",
     "output_type": "stream",
     "text": [
      "Did not open\n"
     ]
    }
   ],
   "source": [
    "try:\n",
    "    with open('./bookbnings.sample.csv.csv') as input_file:\n",
    "        for k, line in enumerate(input_file):\n",
    "            pass\n",
    "    int ('sadasd')\n",
    "    print \"File has %d lines\" %(k+1)\n",
    "except IOError:\n",
    "    print \"Did not open\"\n",
    "except ValueError:\n",
    "    print \" Could not convert a int\"\n",
    "except:\n",
    "    print \"Unknown error\""
   ]
  },
  {
   "cell_type": "markdown",
   "metadata": {},
   "source": [
    "## 4) Did he mean each csv file? Find file size for all csv files in the path... Use glob library"
   ]
  },
  {
   "cell_type": "markdown",
   "metadata": {},
   "source": [
    "https://docs.python.org/2/library/glob.html"
   ]
  },
  {
   "cell_type": "markdown",
   "metadata": {},
   "source": [
    "The glob module finds all the pathnames matching a specified pattern according to the rules used by the Unix shell, although results are returned in arbitrary order. No tilde expansion is done, but *, ?, and character ranges expressed with [] will be correctly matched. "
   ]
  },
  {
   "cell_type": "code",
   "execution_count": 24,
   "metadata": {
    "collapsed": true
   },
   "outputs": [],
   "source": [
    "import glob"
   ]
  },
  {
   "cell_type": "code",
   "execution_count": 25,
   "metadata": {
    "collapsed": true
   },
   "outputs": [],
   "source": [
    "files_to_read=glob.glob(\"*.ipynb\")"
   ]
  },
  {
   "cell_type": "code",
   "execution_count": 26,
   "metadata": {
    "collapsed": false
   },
   "outputs": [
    {
     "data": {
      "text/plain": [
       "['ch_02.ipynb', 'ch_01.ipynb', 'ch_04.ipynb', 'ch_03.ipynb']"
      ]
     },
     "execution_count": 26,
     "metadata": {},
     "output_type": "execute_result"
    }
   ],
   "source": [
    "files_to_read"
   ]
  },
  {
   "cell_type": "code",
   "execution_count": 27,
   "metadata": {
    "collapsed": false
   },
   "outputs": [
    {
     "name": "stdout",
     "output_type": "stream",
     "text": [
      "total 1014368\r\n",
      "-rw-rw-r--. 1 dsc dsc 554970628 Jan  4  2016 \u001b[0m\u001b[01;31mbookings.csv.bz2\u001b[0m\r\n",
      "-rw-rw-r--. 1 dsc dsc     54834 Dec  2 17:13 \u001b[01;31mbookings.sample.csv.bz2\u001b[0m\r\n",
      "-rw-rw-r--. 1 dsc dsc    425006 Dec  2 17:23 bookings.sample.csv.csv\r\n",
      "-rw-rw-r--. 1 dsc dsc     10649 Dec  2 17:38 ch_01.ipynb\r\n",
      "-rw-rw-r--. 1 dsc dsc     12930 Dec  2 14:36 ch_02.ipynb\r\n",
      "-rw-rw-r--. 1 dsc dsc     10832 Dec  2 14:36 ch_03.ipynb\r\n",
      "-rw-rw-r--. 1 dsc dsc      8019 Dec  2 14:36 ch_04.ipynb\r\n",
      "-rw-rw-r--. 1 dsc dsc 483188920 Jan  4  2016 \u001b[01;31msearches.csv.bz2\u001b[0m\r\n"
     ]
    }
   ],
   "source": [
    "ls -l"
   ]
  },
  {
   "cell_type": "code",
   "execution_count": null,
   "metadata": {
    "collapsed": true
   },
   "outputs": [],
   "source": [
    "def number_of_line_csv(filename):\n",
    "    with open(filename, \"r\") as file_input:\n",
    "        for k, line in enumerate(file_input):\n",
    "            pass\n",
    "    return k+1"
   ]
  },
  {
   "cell_type": "code",
   "execution_count": null,
   "metadata": {
    "collapsed": true
   },
   "outputs": [],
   "source": [
    "import glob\n",
    "files_to_read = glob.glob(\"*.ipynb\")\n",
    "for file_name in files_to_read:\n",
    "    print \"number of lines in %s : %d\"% (file_name, number_of_line_csv(file_name))"
   ]
  },
  {
   "cell_type": "code",
   "execution_count": null,
   "metadata": {
    "collapsed": true
   },
   "outputs": [],
   "source": [
    "import glob\n",
    "print glob.glob(\"\")\n",
    "print glob.glob(\"*\")\n",
    "print glob.glob(\"*.bz2\")"
   ]
  }
 ],
 "metadata": {
  "kernelspec": {
   "display_name": "Python 2",
   "language": "python",
   "name": "python2"
  },
  "language_info": {
   "codemirror_mode": {
    "name": "ipython",
    "version": 2
   },
   "file_extension": ".py",
   "mimetype": "text/x-python",
   "name": "python",
   "nbconvert_exporter": "python",
   "pygments_lexer": "ipython2",
   "version": "2.7.11"
  }
 },
 "nbformat": 4,
 "nbformat_minor": 0
}
