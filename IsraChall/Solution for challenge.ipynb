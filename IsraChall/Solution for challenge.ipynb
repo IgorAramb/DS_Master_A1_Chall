{
 "cells": [
  {
   "cell_type": "code",
   "execution_count": 1,
   "metadata": {
    "collapsed": false
   },
   "outputs": [
    {
     "name": "stdout",
     "output_type": "stream",
     "text": [
      "Populating the interactive namespace from numpy and matplotlib\n"
     ]
    }
   ],
   "source": [
    "import pandas as pd\n",
    "%pylab inline"
   ]
  },
  {
   "cell_type": "code",
   "execution_count": null,
   "metadata": {
    "collapsed": true
   },
   "outputs": [],
   "source": []
  },
  {
   "cell_type": "code",
   "execution_count": 6,
   "metadata": {
    "collapsed": false
   },
   "outputs": [],
   "source": [
    "b = pd.read_csv('bookings.csv.bz2',sep='^',usecols=['arr_port','cab_class','pax'])"
   ]
  },
  {
   "cell_type": "code",
   "execution_count": 14,
   "metadata": {
    "collapsed": false
   },
   "outputs": [
    {
     "data": {
      "text/plain": [
       "0                \n",
       "1                \n",
       "2                \n",
       "3                \n",
       "4       C        \n",
       "5       C        \n",
       "6       C        \n",
       "7       C        \n",
       "8       C        \n",
       "9       C        \n",
       "10      C        \n",
       "11      C        \n",
       "12      C        \n",
       "13      C        \n",
       "14      C        \n",
       "15      C        \n",
       "16      C        \n",
       "17      C        \n",
       "18      C        \n",
       "19      C        \n",
       "20      C        \n",
       "21      C        \n",
       "22      C        \n",
       "23      C        \n",
       "24      C        \n",
       "25      C        \n",
       "26      C        \n",
       "27      C        \n",
       "28      C        \n",
       "29      C        \n",
       "          ...    \n",
       "4453    Y        \n",
       "4454    Y        \n",
       "4455    Y        \n",
       "4456    Y        \n",
       "4457    Y        \n",
       "4458    Y        \n",
       "4459    Y        \n",
       "4460    Y        \n",
       "4461    Y        \n",
       "4462    Y        \n",
       "4463    Y        \n",
       "4464    Y        \n",
       "4465    Y        \n",
       "4466    Y        \n",
       "4467    Y        \n",
       "4468    Y        \n",
       "4469    Y        \n",
       "4470    Y        \n",
       "4471    Y        \n",
       "4472    Y        \n",
       "4473    Y        \n",
       "4474    Y        \n",
       "4475    Y        \n",
       "4476    Y        \n",
       "4477    Y        \n",
       "4478    Y        \n",
       "4479    Y        \n",
       "4480    Y        \n",
       "4481    Y        \n",
       "4482    Y        \n",
       "Name: cab_class, dtype: object"
      ]
     },
     "execution_count": 14,
     "metadata": {},
     "output_type": "execute_result"
    }
   ],
   "source": [
    "topAirports = b.dropna().groupby(['cab_class','arr_port']).sum().reset_index()"
   ]
  },
  {
   "cell_type": "code",
   "execution_count": 16,
   "metadata": {
    "collapsed": false
   },
   "outputs": [],
   "source": [
    "topAirports['cabin'] = topAirports.cab_class.map(lambda c: c.strip())"
   ]
  },
  {
   "cell_type": "code",
   "execution_count": 17,
   "metadata": {
    "collapsed": false
   },
   "outputs": [],
   "source": [
    "topCodesEco = topAirports[topAirports['cabin']=='Y'].sort('pax',ascending=False).head(n=25).reset_index()\n",
    "topCodesBiz = topAirports[topAirports['cabin']!='Y'].sort('pax',ascending=False).head(n=25).reset_index()"
   ]
  },
  {
   "cell_type": "code",
   "execution_count": 18,
   "metadata": {
    "collapsed": false
   },
   "outputs": [],
   "source": [
    "from GeoBases import GeoBase"
   ]
  },
  {
   "cell_type": "code",
   "execution_count": 19,
   "metadata": {
    "collapsed": false
   },
   "outputs": [],
   "source": [
    "geoDict = GeoBase(data='ori_por', verbose=False)"
   ]
  },
  {
   "cell_type": "code",
   "execution_count": 20,
   "metadata": {
    "collapsed": false
   },
   "outputs": [
    {
     "data": {
      "text/plain": [
       "'London'"
      ]
     },
     "execution_count": 20,
     "metadata": {},
     "output_type": "execute_result"
    }
   ],
   "source": [
    "geoDict.get('LHR')['city_name_utf']"
   ]
  },
  {
   "cell_type": "code",
   "execution_count": 22,
   "metadata": {
    "collapsed": false
   },
   "outputs": [],
   "source": [
    "namesEco = topCodesEco.arr_port.map(lambda c: geoDict.get(c.strip())['name'])\n",
    "namesBiz = topCodesBiz.arr_port.map(lambda c: geoDict.get(c.strip())['name'])"
   ]
  },
  {
   "cell_type": "code",
   "execution_count": 23,
   "metadata": {
    "collapsed": true
   },
   "outputs": [],
   "source": [
    "topCodesEco['arr_name'] = namesEco\n",
    "topCodesBiz['arr_name'] = namesBiz"
   ]
  },
  {
   "cell_type": "code",
   "execution_count": 24,
   "metadata": {
    "collapsed": false
   },
   "outputs": [],
   "source": [
    "citiesEco = topCodesEco.arr_port.map(lambda c: geoDict.get(c.strip())['city_name_utf'])\n",
    "citiesBiz = topCodesBiz.arr_port.map(lambda c: geoDict.get(c.strip())['city_name_utf'])"
   ]
  },
  {
   "cell_type": "code",
   "execution_count": 25,
   "metadata": {
    "collapsed": true
   },
   "outputs": [],
   "source": [
    "topCodesEco['arr_city'] = citiesEco\n",
    "topCodesBiz['arr_city'] = citiesBiz"
   ]
  },
  {
   "cell_type": "code",
   "execution_count": 29,
   "metadata": {
    "collapsed": false,
    "scrolled": true
   },
   "outputs": [
    {
     "data": {
      "text/html": [
       "<div>\n",
       "<table border=\"1\" class=\"dataframe\">\n",
       "  <thead>\n",
       "    <tr style=\"text-align: right;\">\n",
       "      <th></th>\n",
       "      <th>index</th>\n",
       "      <th>cab_class</th>\n",
       "      <th>arr_port</th>\n",
       "      <th>pax</th>\n",
       "      <th>cabin</th>\n",
       "      <th>arr_name</th>\n",
       "      <th>arr_city</th>\n",
       "    </tr>\n",
       "  </thead>\n",
       "  <tbody>\n",
       "    <tr>\n",
       "      <th>0</th>\n",
       "      <td>626</td>\n",
       "      <td>C</td>\n",
       "      <td>LHR</td>\n",
       "      <td>10950</td>\n",
       "      <td>C</td>\n",
       "      <td>London Heathrow Airport</td>\n",
       "      <td>London</td>\n",
       "    </tr>\n",
       "    <tr>\n",
       "      <th>1</th>\n",
       "      <td>518</td>\n",
       "      <td>C</td>\n",
       "      <td>JFK</td>\n",
       "      <td>6850</td>\n",
       "      <td>C</td>\n",
       "      <td>John F Kennedy International Airport</td>\n",
       "      <td>New York City</td>\n",
       "    </tr>\n",
       "    <tr>\n",
       "      <th>2</th>\n",
       "      <td>313</td>\n",
       "      <td>C</td>\n",
       "      <td>DXB</td>\n",
       "      <td>5420</td>\n",
       "      <td>C</td>\n",
       "      <td>Dubai International Airport</td>\n",
       "      <td>Dubai</td>\n",
       "    </tr>\n",
       "    <tr>\n",
       "      <th>3</th>\n",
       "      <td>1755</td>\n",
       "      <td>F</td>\n",
       "      <td>MAD</td>\n",
       "      <td>5320</td>\n",
       "      <td>F</td>\n",
       "      <td>Madrid / Barajas</td>\n",
       "      <td>Madrid</td>\n",
       "    </tr>\n",
       "    <tr>\n",
       "      <th>4</th>\n",
       "      <td>195</td>\n",
       "      <td>C</td>\n",
       "      <td>CDG</td>\n",
       "      <td>4880</td>\n",
       "      <td>C</td>\n",
       "      <td>Paris - Charles-de-Gaulle</td>\n",
       "      <td>Paris</td>\n",
       "    </tr>\n",
       "    <tr>\n",
       "      <th>5</th>\n",
       "      <td>988</td>\n",
       "      <td>C</td>\n",
       "      <td>SIN</td>\n",
       "      <td>4700</td>\n",
       "      <td>C</td>\n",
       "      <td>Singapore Changi Airport</td>\n",
       "      <td>Singapore</td>\n",
       "    </tr>\n",
       "    <tr>\n",
       "      <th>6</th>\n",
       "      <td>442</td>\n",
       "      <td>C</td>\n",
       "      <td>HKG</td>\n",
       "      <td>4390</td>\n",
       "      <td>C</td>\n",
       "      <td>Hong Kong International Airport</td>\n",
       "      <td>Hong Kong</td>\n",
       "    </tr>\n",
       "    <tr>\n",
       "      <th>7</th>\n",
       "      <td>131</td>\n",
       "      <td>C</td>\n",
       "      <td>BKK</td>\n",
       "      <td>4260</td>\n",
       "      <td>C</td>\n",
       "      <td>Suvarnabhumi</td>\n",
       "      <td>Bangkok</td>\n",
       "    </tr>\n",
       "    <tr>\n",
       "      <th>8</th>\n",
       "      <td>1637</td>\n",
       "      <td>F</td>\n",
       "      <td>IST</td>\n",
       "      <td>4070</td>\n",
       "      <td>F</td>\n",
       "      <td>Istanbul / Ataturk</td>\n",
       "      <td>İstanbul</td>\n",
       "    </tr>\n",
       "    <tr>\n",
       "      <th>9</th>\n",
       "      <td>602</td>\n",
       "      <td>C</td>\n",
       "      <td>LAX</td>\n",
       "      <td>3900</td>\n",
       "      <td>C</td>\n",
       "      <td>Los Angeles International Airport</td>\n",
       "      <td>Los Angeles</td>\n",
       "    </tr>\n",
       "    <tr>\n",
       "      <th>10</th>\n",
       "      <td>1874</td>\n",
       "      <td>F</td>\n",
       "      <td>ORY</td>\n",
       "      <td>3480</td>\n",
       "      <td>F</td>\n",
       "      <td>Paris-Orly</td>\n",
       "      <td>Paris</td>\n",
       "    </tr>\n",
       "    <tr>\n",
       "      <th>11</th>\n",
       "      <td>699</td>\n",
       "      <td>C</td>\n",
       "      <td>MEX</td>\n",
       "      <td>3320</td>\n",
       "      <td>C</td>\n",
       "      <td>Mexico City International Airport</td>\n",
       "      <td>Mexico City</td>\n",
       "    </tr>\n",
       "    <tr>\n",
       "      <th>12</th>\n",
       "      <td>671</td>\n",
       "      <td>C</td>\n",
       "      <td>MAD</td>\n",
       "      <td>3150</td>\n",
       "      <td>C</td>\n",
       "      <td>Madrid / Barajas</td>\n",
       "      <td>Madrid</td>\n",
       "    </tr>\n",
       "    <tr>\n",
       "      <th>13</th>\n",
       "      <td>887</td>\n",
       "      <td>C</td>\n",
       "      <td>PVG</td>\n",
       "      <td>3110</td>\n",
       "      <td>C</td>\n",
       "      <td>Shanghai Pudong International Airport</td>\n",
       "      <td>Shanghai</td>\n",
       "    </tr>\n",
       "    <tr>\n",
       "      <th>14</th>\n",
       "      <td>685</td>\n",
       "      <td>C</td>\n",
       "      <td>MCO</td>\n",
       "      <td>3080</td>\n",
       "      <td>C</td>\n",
       "      <td>Orlando International Airport</td>\n",
       "      <td>Orlando</td>\n",
       "    </tr>\n",
       "    <tr>\n",
       "      <th>15</th>\n",
       "      <td>96</td>\n",
       "      <td>C</td>\n",
       "      <td>BCN</td>\n",
       "      <td>2910</td>\n",
       "      <td>C</td>\n",
       "      <td>Barcelona–El Prat Airport</td>\n",
       "      <td>Barcelona</td>\n",
       "    </tr>\n",
       "    <tr>\n",
       "      <th>16</th>\n",
       "      <td>349</td>\n",
       "      <td>C</td>\n",
       "      <td>FCO</td>\n",
       "      <td>2850</td>\n",
       "      <td>C</td>\n",
       "      <td>Leonardo da Vinci–Fiumicino Airport</td>\n",
       "      <td>Rome</td>\n",
       "    </tr>\n",
       "    <tr>\n",
       "      <th>17</th>\n",
       "      <td>148</td>\n",
       "      <td>C</td>\n",
       "      <td>BOG</td>\n",
       "      <td>2730</td>\n",
       "      <td>C</td>\n",
       "      <td>El Dorado International Airport</td>\n",
       "      <td>Bogota</td>\n",
       "    </tr>\n",
       "    <tr>\n",
       "      <th>18</th>\n",
       "      <td>783</td>\n",
       "      <td>C</td>\n",
       "      <td>NRT</td>\n",
       "      <td>2680</td>\n",
       "      <td>C</td>\n",
       "      <td>Narita International Airport</td>\n",
       "      <td>Tokyo</td>\n",
       "    </tr>\n",
       "    <tr>\n",
       "      <th>19</th>\n",
       "      <td>1321</td>\n",
       "      <td>F</td>\n",
       "      <td>BCN</td>\n",
       "      <td>2600</td>\n",
       "      <td>F</td>\n",
       "      <td>Barcelona–El Prat Airport</td>\n",
       "      <td>Barcelona</td>\n",
       "    </tr>\n",
       "    <tr>\n",
       "      <th>20</th>\n",
       "      <td>495</td>\n",
       "      <td>C</td>\n",
       "      <td>IST</td>\n",
       "      <td>2560</td>\n",
       "      <td>C</td>\n",
       "      <td>Istanbul / Ataturk</td>\n",
       "      <td>İstanbul</td>\n",
       "    </tr>\n",
       "    <tr>\n",
       "      <th>21</th>\n",
       "      <td>364</td>\n",
       "      <td>C</td>\n",
       "      <td>FRA</td>\n",
       "      <td>2550</td>\n",
       "      <td>C</td>\n",
       "      <td>Frankfurt Airport</td>\n",
       "      <td>Frankfurt am Main</td>\n",
       "    </tr>\n",
       "    <tr>\n",
       "      <th>22</th>\n",
       "      <td>705</td>\n",
       "      <td>C</td>\n",
       "      <td>MIA</td>\n",
       "      <td>2510</td>\n",
       "      <td>C</td>\n",
       "      <td>Miami International Airport</td>\n",
       "      <td>Miami</td>\n",
       "    </tr>\n",
       "    <tr>\n",
       "      <th>23</th>\n",
       "      <td>1362</td>\n",
       "      <td>F</td>\n",
       "      <td>BOG</td>\n",
       "      <td>2480</td>\n",
       "      <td>F</td>\n",
       "      <td>El Dorado International Airport</td>\n",
       "      <td>Bogota</td>\n",
       "    </tr>\n",
       "    <tr>\n",
       "      <th>24</th>\n",
       "      <td>833</td>\n",
       "      <td>C</td>\n",
       "      <td>PEK</td>\n",
       "      <td>2480</td>\n",
       "      <td>C</td>\n",
       "      <td>Beijing Capital International Airport</td>\n",
       "      <td>Beijing</td>\n",
       "    </tr>\n",
       "  </tbody>\n",
       "</table>\n",
       "</div>"
      ],
      "text/plain": [
       "    index  cab_class  arr_port    pax cabin  \\\n",
       "0     626  C          LHR       10950     C   \n",
       "1     518  C          JFK        6850     C   \n",
       "2     313  C          DXB        5420     C   \n",
       "3    1755  F          MAD        5320     F   \n",
       "4     195  C          CDG        4880     C   \n",
       "5     988  C          SIN        4700     C   \n",
       "6     442  C          HKG        4390     C   \n",
       "7     131  C          BKK        4260     C   \n",
       "8    1637  F          IST        4070     F   \n",
       "9     602  C          LAX        3900     C   \n",
       "10   1874  F          ORY        3480     F   \n",
       "11    699  C          MEX        3320     C   \n",
       "12    671  C          MAD        3150     C   \n",
       "13    887  C          PVG        3110     C   \n",
       "14    685  C          MCO        3080     C   \n",
       "15     96  C          BCN        2910     C   \n",
       "16    349  C          FCO        2850     C   \n",
       "17    148  C          BOG        2730     C   \n",
       "18    783  C          NRT        2680     C   \n",
       "19   1321  F          BCN        2600     F   \n",
       "20    495  C          IST        2560     C   \n",
       "21    364  C          FRA        2550     C   \n",
       "22    705  C          MIA        2510     C   \n",
       "23   1362  F          BOG        2480     F   \n",
       "24    833  C          PEK        2480     C   \n",
       "\n",
       "                                 arr_name           arr_city  \n",
       "0                 London Heathrow Airport             London  \n",
       "1    John F Kennedy International Airport      New York City  \n",
       "2             Dubai International Airport              Dubai  \n",
       "3                        Madrid / Barajas             Madrid  \n",
       "4               Paris - Charles-de-Gaulle              Paris  \n",
       "5                Singapore Changi Airport          Singapore  \n",
       "6         Hong Kong International Airport          Hong Kong  \n",
       "7                            Suvarnabhumi            Bangkok  \n",
       "8                      Istanbul / Ataturk           İstanbul  \n",
       "9       Los Angeles International Airport        Los Angeles  \n",
       "10                             Paris-Orly              Paris  \n",
       "11      Mexico City International Airport        Mexico City  \n",
       "12                       Madrid / Barajas             Madrid  \n",
       "13  Shanghai Pudong International Airport           Shanghai  \n",
       "14          Orlando International Airport            Orlando  \n",
       "15              Barcelona–El Prat Airport          Barcelona  \n",
       "16    Leonardo da Vinci–Fiumicino Airport               Rome  \n",
       "17        El Dorado International Airport             Bogota  \n",
       "18           Narita International Airport              Tokyo  \n",
       "19              Barcelona–El Prat Airport          Barcelona  \n",
       "20                     Istanbul / Ataturk           İstanbul  \n",
       "21                      Frankfurt Airport  Frankfurt am Main  \n",
       "22            Miami International Airport              Miami  \n",
       "23        El Dorado International Airport             Bogota  \n",
       "24  Beijing Capital International Airport            Beijing  "
      ]
     },
     "execution_count": 29,
     "metadata": {},
     "output_type": "execute_result"
    }
   ],
   "source": [
    "topCodesBiz"
   ]
  },
  {
   "cell_type": "code",
   "execution_count": null,
   "metadata": {
    "collapsed": true
   },
   "outputs": [],
   "source": [
    "bc = pd.read_csv('bookings.csv.bz2',sep='^',usecols=['arr_port','pax'], chunksize=1e5)"
   ]
  },
  {
   "cell_type": "code",
   "execution_count": null,
   "metadata": {
    "collapsed": false
   },
   "outputs": [],
   "source": [
    "tops = []\n",
    "for b in bc:\n",
    "    tops.append(b.dropna().groupby('arr_port').sum().sort(ascending=False).head(n=10).reset_index())\n",
    "    \n",
    "top = pd.concat(tops)    "
   ]
  },
  {
   "cell_type": "code",
   "execution_count": null,
   "metadata": {
    "collapsed": true
   },
   "outputs": [],
   "source": []
  }
 ],
 "metadata": {
  "kernelspec": {
   "display_name": "Python 2",
   "language": "python",
   "name": "python2"
  },
  "language_info": {
   "codemirror_mode": {
    "name": "ipython",
    "version": 2
   },
   "file_extension": ".py",
   "mimetype": "text/x-python",
   "name": "python",
   "nbconvert_exporter": "python",
   "pygments_lexer": "ipython2",
   "version": "2.7.11"
  }
 },
 "nbformat": 4,
 "nbformat_minor": 0
}
