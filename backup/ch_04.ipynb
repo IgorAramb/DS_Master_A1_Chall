{
 "cells": [
  {
   "cell_type": "markdown",
   "metadata": {},
   "source": [
    "## Match searches with bookings\n",
    "\n",
    "- For every search in the searches file, find out whether the search ended up in a booking or not (using the info in the bookings file). For instance, search and booking origin and destination should match. \n",
    "\n",
    "- For the bookings file, origin and destination are the columns dep_port and arr_port, respectively. \n",
    "\n",
    "- Generate a CSV file with the search data, and an additional field, containing 1 if the search ended up in a booking, and 0 otherwise.\n",
    "\n"
   ]
  },
  {
   "cell_type": "markdown",
   "metadata": {},
   "source": [
    "## Plan\n",
    "\n",
    "most simple:\n",
    "match\n",
    "Search : [search_date, O&D] \n",
    "Booking: [Activity_date, O&D]\n",
    "\n",
    "if there is one booking for a given O&D done at the same day as the search for a given O&D, all searches of the day for a given 0&D might have resulted from the same source and will be set with 1\n",
    "\n",
    "1) create the 2 DF\n",
    "2) search left join booking\n",
    "\n",
    "Questions:\n",
    "1) do we have duplicated lines in searhes/bookings\n",
    "2) any white space "
   ]
  },
  {
   "cell_type": "raw",
   "metadata": {},
   "source": [
    "bzcat searches.csv.bz2 | sort -u | sed 's/\\s*^/^/g' > searches.clean.csv &\n",
    "#bzcat searches.clean.csv.bz2 | sort -u > searches.clean.no_dupl.csv &\n",
    "\n"
   ]
  },
  {
   "cell_type": "markdown",
   "metadata": {},
   "source": [
    "### Booking"
   ]
  },
  {
   "cell_type": "code",
   "execution_count": 13,
   "metadata": {
    "collapsed": false
   },
   "outputs": [
    {
     "name": "stdout",
     "output_type": "stream",
     "text": [
      "(0, 1000000)\n",
      "(1, 1000000)\n",
      "(2, 1000000)\n",
      "(3, 1000000)\n",
      "(4, 1000000)\n",
      "(5, 1999993)\n",
      "(6, 1999993)\n",
      "(7, 1999993)\n",
      "(8, 1999993)\n",
      "(9, 1999993)\n",
      "(10, 1999993)\n"
     ]
    }
   ],
   "source": [
    "all_chunks=pd.DataFrame()\n",
    "bc=pd.read_csv('bookings.csv.bz2',sep='^', chunksize=1000000, low_memory=False)\n",
    "\n",
    "for i,chunk in enumerate(bc):\n",
    "    all_chunks=all_chunks.append(chunk)\n",
    "    all_chunks=all_chunks.drop_duplicates()\n",
    "    print (i, len(all_chunks))"
   ]
  },
  {
   "cell_type": "code",
   "execution_count": 18,
   "metadata": {
    "collapsed": false
   },
   "outputs": [
    {
     "data": {
      "text/plain": [
       "['act_date           ',\n",
       " 'source',\n",
       " 'pos_ctry',\n",
       " 'pos_iata',\n",
       " 'pos_oid  ',\n",
       " 'rloc          ',\n",
       " 'cre_date           ',\n",
       " 'duration',\n",
       " 'distance',\n",
       " 'dep_port',\n",
       " 'dep_city',\n",
       " 'dep_ctry',\n",
       " 'arr_port',\n",
       " 'arr_city',\n",
       " 'arr_ctry',\n",
       " 'lst_port',\n",
       " 'lst_city',\n",
       " 'lst_ctry',\n",
       " 'brd_port',\n",
       " 'brd_city',\n",
       " 'brd_ctry',\n",
       " 'off_port',\n",
       " 'off_city',\n",
       " 'off_ctry',\n",
       " 'mkt_port',\n",
       " 'mkt_city',\n",
       " 'mkt_ctry',\n",
       " 'intl',\n",
       " 'route          ',\n",
       " 'carrier',\n",
       " 'bkg_class',\n",
       " 'cab_class',\n",
       " 'brd_time           ',\n",
       " 'off_time           ',\n",
       " 'pax',\n",
       " 'year',\n",
       " 'month',\n",
       " 'oid      ']"
      ]
     },
     "execution_count": 18,
     "metadata": {},
     "output_type": "execute_result"
    }
   ],
   "source": [
    "all_chunks.columns.tolist()"
   ]
  },
  {
   "cell_type": "code",
   "execution_count": 23,
   "metadata": {
    "collapsed": false
   },
   "outputs": [],
   "source": [
    "all_chunks.columns=all_chunks.columns.map(lambda x:str(x).strip())"
   ]
  },
  {
   "cell_type": "code",
   "execution_count": 28,
   "metadata": {
    "collapsed": true
   },
   "outputs": [],
   "source": [
    "#list(all_chunks.columns)"
   ]
  },
  {
   "cell_type": "code",
   "execution_count": 26,
   "metadata": {
    "collapsed": false
   },
   "outputs": [
    {
     "data": {
      "text/plain": [
       "['act_date',\n",
       " 'source',\n",
       " 'pos_ctry',\n",
       " 'pos_iata',\n",
       " 'pos_oid',\n",
       " 'rloc',\n",
       " 'cre_date',\n",
       " 'duration',\n",
       " 'distance',\n",
       " 'dep_port',\n",
       " 'dep_city',\n",
       " 'dep_ctry',\n",
       " 'arr_port',\n",
       " 'arr_city',\n",
       " 'arr_ctry',\n",
       " 'lst_port',\n",
       " 'lst_city',\n",
       " 'lst_ctry',\n",
       " 'brd_port',\n",
       " 'brd_city',\n",
       " 'brd_ctry',\n",
       " 'off_port',\n",
       " 'off_city',\n",
       " 'off_ctry',\n",
       " 'mkt_port',\n",
       " 'mkt_city',\n",
       " 'mkt_ctry',\n",
       " 'intl',\n",
       " 'route',\n",
       " 'carrier',\n",
       " 'bkg_class',\n",
       " 'cab_class',\n",
       " 'brd_time',\n",
       " 'off_time',\n",
       " 'pax',\n",
       " 'year',\n",
       " 'month',\n",
       " 'oid']"
      ]
     },
     "execution_count": 26,
     "metadata": {},
     "output_type": "execute_result"
    }
   ],
   "source": [
    "all_chunks.columns.tolist()"
   ]
  },
  {
   "cell_type": "code",
   "execution_count": 60,
   "metadata": {
    "collapsed": false
   },
   "outputs": [],
   "source": [
    "b=all_chunks[['cre_date','act_date', 'dep_port', 'arr_port']].copy()\n",
    "#si es un round trip lo vamos a tener 2 veces"
   ]
  },
  {
   "cell_type": "code",
   "execution_count": 61,
   "metadata": {
    "collapsed": false
   },
   "outputs": [
    {
     "data": {
      "text/html": [
       "<div>\n",
       "<table border=\"1\" class=\"dataframe\">\n",
       "  <thead>\n",
       "    <tr style=\"text-align: right;\">\n",
       "      <th></th>\n",
       "      <th>cre_date</th>\n",
       "      <th>act_date</th>\n",
       "      <th>dep_port</th>\n",
       "      <th>arr_port</th>\n",
       "    </tr>\n",
       "  </thead>\n",
       "  <tbody>\n",
       "    <tr>\n",
       "      <th>0</th>\n",
       "      <td>2013-02-22 00:00:00</td>\n",
       "      <td>2013-03-05 00:00:00</td>\n",
       "      <td>ZRH</td>\n",
       "      <td>LHR</td>\n",
       "    </tr>\n",
       "    <tr>\n",
       "      <th>1</th>\n",
       "      <td>2013-03-26 00:00:00</td>\n",
       "      <td>2013-03-26 00:00:00</td>\n",
       "      <td>SAL</td>\n",
       "      <td>CLT</td>\n",
       "    </tr>\n",
       "    <tr>\n",
       "      <th>2</th>\n",
       "      <td>2013-03-26 00:00:00</td>\n",
       "      <td>2013-03-26 00:00:00</td>\n",
       "      <td>SAL</td>\n",
       "      <td>CLT</td>\n",
       "    </tr>\n",
       "    <tr>\n",
       "      <th>3</th>\n",
       "      <td>2013-03-26 00:00:00</td>\n",
       "      <td>2013-03-26 00:00:00</td>\n",
       "      <td>AKL</td>\n",
       "      <td>SVO</td>\n",
       "    </tr>\n",
       "    <tr>\n",
       "      <th>4</th>\n",
       "      <td>2013-03-26 00:00:00</td>\n",
       "      <td>2013-03-26 00:00:00</td>\n",
       "      <td>AKL</td>\n",
       "      <td>SVO</td>\n",
       "    </tr>\n",
       "  </tbody>\n",
       "</table>\n",
       "</div>"
      ],
      "text/plain": [
       "              cre_date             act_date  dep_port  arr_port\n",
       "0  2013-02-22 00:00:00  2013-03-05 00:00:00  ZRH       LHR     \n",
       "1  2013-03-26 00:00:00  2013-03-26 00:00:00  SAL       CLT     \n",
       "2  2013-03-26 00:00:00  2013-03-26 00:00:00  SAL       CLT     \n",
       "3  2013-03-26 00:00:00  2013-03-26 00:00:00  AKL       SVO     \n",
       "4  2013-03-26 00:00:00  2013-03-26 00:00:00  AKL       SVO     "
      ]
     },
     "execution_count": 61,
     "metadata": {},
     "output_type": "execute_result"
    }
   ],
   "source": [
    "b.head()"
   ]
  },
  {
   "cell_type": "markdown",
   "metadata": {},
   "source": [
    "###  Search"
   ]
  },
  {
   "cell_type": "code",
   "execution_count": 150,
   "metadata": {
    "collapsed": false
   },
   "outputs": [
    {
     "name": "stdout",
     "output_type": "stream",
     "text": [
      "(0, 363343)\n",
      "(1, 389521)\n",
      "(2, 399321)\n",
      "(3, 415079)\n",
      "(4, 415079)\n",
      "(5, 415079)\n",
      "(6, 415079)\n",
      "(7, 421663)\n",
      "(8, 421663)\n",
      "(9, 421663)\n",
      "(10, 421871)\n",
      "(11, 421871)\n",
      "(12, 421871)\n",
      "(13, 421871)\n",
      "(14, 421975)\n",
      "(15, 421975)\n",
      "(16, 421975)\n",
      "(17, 422183)\n",
      "(18, 422183)\n",
      "(19, 422183)\n",
      "(20, 422184)\n"
     ]
    }
   ],
   "source": [
    "import pandas as pd\n",
    "all_chunks=pd.DataFrame()\n",
    "bc=pd.read_csv('searches.clean.csv.bz2',sep='^', chunksize=1000000)\n",
    "\n",
    "for i,chunk in enumerate(bc):\n",
    "    all_chunks=all_chunks.append(chunk)\n",
    "    all_chunks=all_chunks.drop_duplicates()\n",
    "    print (i, len(all_chunks))\n",
    "    \n",
    "    \n",
    "    "
   ]
  },
  {
   "cell_type": "raw",
   "metadata": {},
   "source": [
    "http://stackoverflow.com/questions/24251219/pandas-read-csv-low-memory-and-dtype-options"
   ]
  },
  {
   "cell_type": "code",
   "execution_count": 152,
   "metadata": {
    "collapsed": false
   },
   "outputs": [],
   "source": [
    "s=all_chunks[['Date', 'Origin','Destination']]"
   ]
  },
  {
   "cell_type": "code",
   "execution_count": 153,
   "metadata": {
    "collapsed": false
   },
   "outputs": [
    {
     "data": {
      "text/html": [
       "<div>\n",
       "<table border=\"1\" class=\"dataframe\">\n",
       "  <thead>\n",
       "    <tr style=\"text-align: right;\">\n",
       "      <th></th>\n",
       "      <th>Date</th>\n",
       "      <th>Origin</th>\n",
       "      <th>Destination</th>\n",
       "    </tr>\n",
       "  </thead>\n",
       "  <tbody>\n",
       "    <tr>\n",
       "      <th>0</th>\n",
       "      <td>2013-01-01</td>\n",
       "      <td>TXL</td>\n",
       "      <td>AUH</td>\n",
       "    </tr>\n",
       "    <tr>\n",
       "      <th>1</th>\n",
       "      <td>2013-01-01</td>\n",
       "      <td>ATH</td>\n",
       "      <td>MIL</td>\n",
       "    </tr>\n",
       "    <tr>\n",
       "      <th>2</th>\n",
       "      <td>2013-01-01</td>\n",
       "      <td>ICT</td>\n",
       "      <td>SFO</td>\n",
       "    </tr>\n",
       "    <tr>\n",
       "      <th>3</th>\n",
       "      <td>2013-01-01</td>\n",
       "      <td>RNB</td>\n",
       "      <td>ARN</td>\n",
       "    </tr>\n",
       "    <tr>\n",
       "      <th>4</th>\n",
       "      <td>2013-01-01</td>\n",
       "      <td>OSL</td>\n",
       "      <td>MAD</td>\n",
       "    </tr>\n",
       "  </tbody>\n",
       "</table>\n",
       "</div>"
      ],
      "text/plain": [
       "         Date Origin Destination\n",
       "0  2013-01-01    TXL         AUH\n",
       "1  2013-01-01    ATH         MIL\n",
       "2  2013-01-01    ICT         SFO\n",
       "3  2013-01-01    RNB         ARN\n",
       "4  2013-01-01    OSL         MAD"
      ]
     },
     "execution_count": 153,
     "metadata": {},
     "output_type": "execute_result"
    }
   ],
   "source": [
    "s.head()"
   ]
  },
  {
   "cell_type": "markdown",
   "metadata": {},
   "source": [
    "### Modifing the columns"
   ]
  },
  {
   "cell_type": "code",
   "execution_count": 63,
   "metadata": {
    "collapsed": false
   },
   "outputs": [
    {
     "name": "stdout",
     "output_type": "stream",
     "text": [
      "size of Book:\t1999993 \n",
      "size of Search:\t422183 \n"
     ]
    }
   ],
   "source": [
    "print \"size of Book:\\t%d \\nsize of Search:\\t%d \" % (len(b), len(s))"
   ]
  },
  {
   "cell_type": "code",
   "execution_count": 64,
   "metadata": {
    "collapsed": true
   },
   "outputs": [],
   "source": [
    "b=b.dropna()"
   ]
  },
  {
   "cell_type": "code",
   "execution_count": 67,
   "metadata": {
    "collapsed": false
   },
   "outputs": [],
   "source": [
    "b['act_date']=pd.to_datetime(b['act_date'],errors='raise')"
   ]
  },
  {
   "cell_type": "code",
   "execution_count": 68,
   "metadata": {
    "collapsed": false
   },
   "outputs": [
    {
     "name": "stdout",
     "output_type": "stream",
     "text": [
      "<class 'pandas.core.frame.DataFrame'>\n",
      "Int64Index: 1999993 entries, 0 to 999999\n",
      "Data columns (total 4 columns):\n",
      "cre_date    object\n",
      "act_date    datetime64[ns]\n",
      "dep_port    object\n",
      "arr_port    object\n",
      "dtypes: datetime64[ns](1), object(3)\n",
      "memory usage: 76.3+ MB\n"
     ]
    }
   ],
   "source": [
    "b.info()"
   ]
  },
  {
   "cell_type": "code",
   "execution_count": 69,
   "metadata": {
    "collapsed": false
   },
   "outputs": [
    {
     "data": {
      "text/html": [
       "<div>\n",
       "<table border=\"1\" class=\"dataframe\">\n",
       "  <thead>\n",
       "    <tr style=\"text-align: right;\">\n",
       "      <th></th>\n",
       "      <th>act_date</th>\n",
       "      <th>dep_port</th>\n",
       "      <th>arr_port</th>\n",
       "    </tr>\n",
       "  </thead>\n",
       "  <tbody>\n",
       "    <tr>\n",
       "      <th>0</th>\n",
       "      <td>2013-03-05</td>\n",
       "      <td>ZRH</td>\n",
       "      <td>LHR</td>\n",
       "    </tr>\n",
       "    <tr>\n",
       "      <th>1</th>\n",
       "      <td>2013-03-26</td>\n",
       "      <td>SAL</td>\n",
       "      <td>CLT</td>\n",
       "    </tr>\n",
       "    <tr>\n",
       "      <th>2</th>\n",
       "      <td>2013-03-26</td>\n",
       "      <td>SAL</td>\n",
       "      <td>CLT</td>\n",
       "    </tr>\n",
       "    <tr>\n",
       "      <th>3</th>\n",
       "      <td>2013-03-26</td>\n",
       "      <td>AKL</td>\n",
       "      <td>SVO</td>\n",
       "    </tr>\n",
       "    <tr>\n",
       "      <th>4</th>\n",
       "      <td>2013-03-26</td>\n",
       "      <td>AKL</td>\n",
       "      <td>SVO</td>\n",
       "    </tr>\n",
       "  </tbody>\n",
       "</table>\n",
       "</div>"
      ],
      "text/plain": [
       "    act_date  dep_port  arr_port\n",
       "0 2013-03-05  ZRH       LHR     \n",
       "1 2013-03-26  SAL       CLT     \n",
       "2 2013-03-26  SAL       CLT     \n",
       "3 2013-03-26  AKL       SVO     \n",
       "4 2013-03-26  AKL       SVO     "
      ]
     },
     "execution_count": 69,
     "metadata": {},
     "output_type": "execute_result"
    }
   ],
   "source": [
    "b.drop('cre_date', axis=1, inplace=True)\n",
    "b.head()"
   ]
  },
  {
   "cell_type": "code",
   "execution_count": 70,
   "metadata": {
    "collapsed": false
   },
   "outputs": [
    {
     "data": {
      "text/plain": [
       "['ZRH     ', 'SAL     ', 'SAL     ', 'AKL     ', 'AKL     ']"
      ]
     },
     "execution_count": 70,
     "metadata": {},
     "output_type": "execute_result"
    }
   ],
   "source": [
    "list(b.dep_port.head())"
   ]
  },
  {
   "cell_type": "code",
   "execution_count": 71,
   "metadata": {
    "collapsed": true
   },
   "outputs": [],
   "source": [
    "b['dep_port']=b['dep_port'].map(lambda x: x.strip())\n",
    "b['arr_port']=b['arr_port'].map(lambda x: x.strip())"
   ]
  },
  {
   "cell_type": "code",
   "execution_count": 72,
   "metadata": {
    "collapsed": false
   },
   "outputs": [
    {
     "data": {
      "text/plain": [
       "['ZRH', 'SAL', 'SAL', 'AKL', 'AKL']"
      ]
     },
     "execution_count": 72,
     "metadata": {},
     "output_type": "execute_result"
    }
   ],
   "source": [
    "list(b.dep_port.head())"
   ]
  },
  {
   "cell_type": "code",
   "execution_count": 65,
   "metadata": {
    "collapsed": false
   },
   "outputs": [
    {
     "name": "stdout",
     "output_type": "stream",
     "text": [
      "size of Book:\t1999993 \n",
      "size of Search:\t422183 \n"
     ]
    }
   ],
   "source": [
    "print \"size of Book:\\t%d \\nsize of Search:\\t%d \" % (len(b), len(s))"
   ]
  },
  {
   "cell_type": "code",
   "execution_count": 155,
   "metadata": {
    "collapsed": false
   },
   "outputs": [],
   "source": [
    "s=s.dropna()\n",
    "s['Date'] = pd.to_datetime(s['Date'],errors='raise')"
   ]
  },
  {
   "cell_type": "markdown",
   "metadata": {},
   "source": [
    "### The real code starts from here"
   ]
  },
  {
   "cell_type": "code",
   "execution_count": 73,
   "metadata": {
    "collapsed": false
   },
   "outputs": [
    {
     "data": {
      "text/html": [
       "<div>\n",
       "<table border=\"1\" class=\"dataframe\">\n",
       "  <thead>\n",
       "    <tr style=\"text-align: right;\">\n",
       "      <th></th>\n",
       "      <th>index</th>\n",
       "      <th>act_date</th>\n",
       "      <th>dep_port</th>\n",
       "      <th>arr_port</th>\n",
       "    </tr>\n",
       "  </thead>\n",
       "  <tbody>\n",
       "    <tr>\n",
       "      <th>0</th>\n",
       "      <td>0</td>\n",
       "      <td>2013-03-05</td>\n",
       "      <td>ZRH</td>\n",
       "      <td>LHR</td>\n",
       "    </tr>\n",
       "    <tr>\n",
       "      <th>1</th>\n",
       "      <td>1</td>\n",
       "      <td>2013-03-26</td>\n",
       "      <td>SAL</td>\n",
       "      <td>CLT</td>\n",
       "    </tr>\n",
       "    <tr>\n",
       "      <th>2</th>\n",
       "      <td>2</td>\n",
       "      <td>2013-03-26</td>\n",
       "      <td>SAL</td>\n",
       "      <td>CLT</td>\n",
       "    </tr>\n",
       "    <tr>\n",
       "      <th>3</th>\n",
       "      <td>3</td>\n",
       "      <td>2013-03-26</td>\n",
       "      <td>AKL</td>\n",
       "      <td>SVO</td>\n",
       "    </tr>\n",
       "    <tr>\n",
       "      <th>4</th>\n",
       "      <td>4</td>\n",
       "      <td>2013-03-26</td>\n",
       "      <td>AKL</td>\n",
       "      <td>SVO</td>\n",
       "    </tr>\n",
       "  </tbody>\n",
       "</table>\n",
       "</div>"
      ],
      "text/plain": [
       "   index   act_date dep_port arr_port\n",
       "0      0 2013-03-05      ZRH      LHR\n",
       "1      1 2013-03-26      SAL      CLT\n",
       "2      2 2013-03-26      SAL      CLT\n",
       "3      3 2013-03-26      AKL      SVO\n",
       "4      4 2013-03-26      AKL      SVO"
      ]
     },
     "execution_count": 73,
     "metadata": {},
     "output_type": "execute_result"
    }
   ],
   "source": [
    "b=b.reset_index()\n",
    "b.head()"
   ]
  },
  {
   "cell_type": "code",
   "execution_count": 74,
   "metadata": {
    "collapsed": false
   },
   "outputs": [
    {
     "data": {
      "text/html": [
       "<div>\n",
       "<table border=\"1\" class=\"dataframe\">\n",
       "  <thead>\n",
       "    <tr style=\"text-align: right;\">\n",
       "      <th></th>\n",
       "      <th>book ID</th>\n",
       "      <th>act_date</th>\n",
       "      <th>dep_port</th>\n",
       "      <th>arr_port</th>\n",
       "    </tr>\n",
       "  </thead>\n",
       "  <tbody>\n",
       "    <tr>\n",
       "      <th>0</th>\n",
       "      <td>0</td>\n",
       "      <td>2013-03-05</td>\n",
       "      <td>ZRH</td>\n",
       "      <td>LHR</td>\n",
       "    </tr>\n",
       "    <tr>\n",
       "      <th>1</th>\n",
       "      <td>1</td>\n",
       "      <td>2013-03-26</td>\n",
       "      <td>SAL</td>\n",
       "      <td>CLT</td>\n",
       "    </tr>\n",
       "    <tr>\n",
       "      <th>2</th>\n",
       "      <td>2</td>\n",
       "      <td>2013-03-26</td>\n",
       "      <td>SAL</td>\n",
       "      <td>CLT</td>\n",
       "    </tr>\n",
       "    <tr>\n",
       "      <th>3</th>\n",
       "      <td>3</td>\n",
       "      <td>2013-03-26</td>\n",
       "      <td>AKL</td>\n",
       "      <td>SVO</td>\n",
       "    </tr>\n",
       "    <tr>\n",
       "      <th>4</th>\n",
       "      <td>4</td>\n",
       "      <td>2013-03-26</td>\n",
       "      <td>AKL</td>\n",
       "      <td>SVO</td>\n",
       "    </tr>\n",
       "  </tbody>\n",
       "</table>\n",
       "</div>"
      ],
      "text/plain": [
       "   book ID   act_date dep_port arr_port\n",
       "0        0 2013-03-05      ZRH      LHR\n",
       "1        1 2013-03-26      SAL      CLT\n",
       "2        2 2013-03-26      SAL      CLT\n",
       "3        3 2013-03-26      AKL      SVO\n",
       "4        4 2013-03-26      AKL      SVO"
      ]
     },
     "execution_count": 74,
     "metadata": {},
     "output_type": "execute_result"
    }
   ],
   "source": [
    "b.rename(columns={'index':'book ID'}, inplace=True)\n",
    "b.head()"
   ]
  },
  {
   "cell_type": "code",
   "execution_count": 75,
   "metadata": {
    "collapsed": true
   },
   "outputs": [],
   "source": [
    "s=s.reset_index()\n",
    "s.rename(columns={'index':'search ID'}, inplace=True)\n",
    "s.head()"
   ]
  },
  {
   "cell_type": "code",
   "execution_count": 76,
   "metadata": {
    "collapsed": false
   },
   "outputs": [
    {
     "data": {
      "text/html": [
       "<div>\n",
       "<table border=\"1\" class=\"dataframe\">\n",
       "  <thead>\n",
       "    <tr style=\"text-align: right;\">\n",
       "      <th></th>\n",
       "      <th>search ID</th>\n",
       "      <th>Date</th>\n",
       "      <th>Origin</th>\n",
       "      <th>Destination</th>\n",
       "    </tr>\n",
       "  </thead>\n",
       "  <tbody>\n",
       "    <tr>\n",
       "      <th>0</th>\n",
       "      <td>0</td>\n",
       "      <td>2013-01-01</td>\n",
       "      <td>TXL</td>\n",
       "      <td>AUH</td>\n",
       "    </tr>\n",
       "    <tr>\n",
       "      <th>1</th>\n",
       "      <td>1</td>\n",
       "      <td>2013-01-01</td>\n",
       "      <td>ATH</td>\n",
       "      <td>MIL</td>\n",
       "    </tr>\n",
       "    <tr>\n",
       "      <th>2</th>\n",
       "      <td>2</td>\n",
       "      <td>2013-01-01</td>\n",
       "      <td>ICT</td>\n",
       "      <td>SFO</td>\n",
       "    </tr>\n",
       "    <tr>\n",
       "      <th>3</th>\n",
       "      <td>3</td>\n",
       "      <td>2013-01-01</td>\n",
       "      <td>RNB</td>\n",
       "      <td>ARN</td>\n",
       "    </tr>\n",
       "    <tr>\n",
       "      <th>4</th>\n",
       "      <td>4</td>\n",
       "      <td>2013-01-01</td>\n",
       "      <td>OSL</td>\n",
       "      <td>MAD</td>\n",
       "    </tr>\n",
       "  </tbody>\n",
       "</table>\n",
       "</div>"
      ],
      "text/plain": [
       "   search ID       Date Origin Destination\n",
       "0          0 2013-01-01    TXL         AUH\n",
       "1          1 2013-01-01    ATH         MIL\n",
       "2          2 2013-01-01    ICT         SFO\n",
       "3          3 2013-01-01    RNB         ARN\n",
       "4          4 2013-01-01    OSL         MAD"
      ]
     },
     "execution_count": 76,
     "metadata": {},
     "output_type": "execute_result"
    }
   ],
   "source": [
    "s.head()"
   ]
  },
  {
   "cell_type": "code",
   "execution_count": 78,
   "metadata": {
    "collapsed": false
   },
   "outputs": [
    {
     "data": {
      "text/html": [
       "<div>\n",
       "<table border=\"1\" class=\"dataframe\">\n",
       "  <thead>\n",
       "    <tr style=\"text-align: right;\">\n",
       "      <th></th>\n",
       "      <th>search ID</th>\n",
       "      <th>Date</th>\n",
       "      <th>Origin</th>\n",
       "      <th>Destination</th>\n",
       "    </tr>\n",
       "  </thead>\n",
       "  <tbody>\n",
       "    <tr>\n",
       "      <th>317322</th>\n",
       "      <td>317323</td>\n",
       "      <td>2013-11-14</td>\n",
       "      <td>240</td>\n",
       "      <td>INR</td>\n",
       "    </tr>\n",
       "    <tr>\n",
       "      <th>49789</th>\n",
       "      <td>49789</td>\n",
       "      <td>2013-02-19</td>\n",
       "      <td>AAC</td>\n",
       "      <td>CAI</td>\n",
       "    </tr>\n",
       "    <tr>\n",
       "      <th>170497</th>\n",
       "      <td>170497</td>\n",
       "      <td>2013-06-20</td>\n",
       "      <td>AAE</td>\n",
       "      <td>ALG</td>\n",
       "    </tr>\n",
       "    <tr>\n",
       "      <th>141836</th>\n",
       "      <td>141836</td>\n",
       "      <td>2013-05-22</td>\n",
       "      <td>AAE</td>\n",
       "      <td>MRS</td>\n",
       "    </tr>\n",
       "    <tr>\n",
       "      <th>231815</th>\n",
       "      <td>231816</td>\n",
       "      <td>2013-08-20</td>\n",
       "      <td>AAE</td>\n",
       "      <td>NCE</td>\n",
       "    </tr>\n",
       "    <tr>\n",
       "      <th>278500</th>\n",
       "      <td>278501</td>\n",
       "      <td>2013-10-06</td>\n",
       "      <td>AAE</td>\n",
       "      <td>ORY</td>\n",
       "    </tr>\n",
       "    <tr>\n",
       "      <th>181303</th>\n",
       "      <td>181303</td>\n",
       "      <td>2013-07-01</td>\n",
       "      <td>AAE</td>\n",
       "      <td>PAR</td>\n",
       "    </tr>\n",
       "    <tr>\n",
       "      <th>234611</th>\n",
       "      <td>234612</td>\n",
       "      <td>2013-08-23</td>\n",
       "      <td>AAE</td>\n",
       "      <td>PAR</td>\n",
       "    </tr>\n",
       "    <tr>\n",
       "      <th>99103</th>\n",
       "      <td>99103</td>\n",
       "      <td>2013-04-10</td>\n",
       "      <td>AAL</td>\n",
       "      <td>AGP</td>\n",
       "    </tr>\n",
       "    <tr>\n",
       "      <th>169509</th>\n",
       "      <td>169509</td>\n",
       "      <td>2013-06-19</td>\n",
       "      <td>AAL</td>\n",
       "      <td>AGP</td>\n",
       "    </tr>\n",
       "  </tbody>\n",
       "</table>\n",
       "</div>"
      ],
      "text/plain": [
       "        search ID       Date Origin Destination\n",
       "317322     317323 2013-11-14    240         INR\n",
       "49789       49789 2013-02-19    AAC         CAI\n",
       "170497     170497 2013-06-20    AAE         ALG\n",
       "141836     141836 2013-05-22    AAE         MRS\n",
       "231815     231816 2013-08-20    AAE         NCE\n",
       "278500     278501 2013-10-06    AAE         ORY\n",
       "181303     181303 2013-07-01    AAE         PAR\n",
       "234611     234612 2013-08-23    AAE         PAR\n",
       "99103       99103 2013-04-10    AAL         AGP\n",
       "169509     169509 2013-06-19    AAL         AGP"
      ]
     },
     "execution_count": 78,
     "metadata": {},
     "output_type": "execute_result"
    }
   ],
   "source": [
    "s.sort_values(by=['Origin','Destination', 'Date'],inplace=True)\n",
    "s.head(10)"
   ]
  },
  {
   "cell_type": "raw",
   "metadata": {},
   "source": [
    "#jel unutar lambda moze biti if\n",
    "x = lambda y: expression_1 if y < 2 else expression_2"
   ]
  },
  {
   "cell_type": "code",
   "execution_count": 98,
   "metadata": {
    "collapsed": false
   },
   "outputs": [
    {
     "data": {
      "text/plain": [
       "240"
      ]
     },
     "execution_count": 98,
     "metadata": {},
     "output_type": "execute_result"
    }
   ],
   "source": [
    "int(s.ix[317322]['Origin'])"
   ]
  },
  {
   "cell_type": "code",
   "execution_count": 204,
   "metadata": {
    "collapsed": true
   },
   "outputs": [],
   "source": [
    "def check_airports (airport):\n",
    "    try:\n",
    "        int(airport)\n",
    "        print \"%s is not airport\"%(airport)\n",
    "        return False\n",
    "    except:\n",
    "        return True"
   ]
  },
  {
   "cell_type": "code",
   "execution_count": 199,
   "metadata": {
    "collapsed": false
   },
   "outputs": [
    {
     "name": "stdout",
     "output_type": "stream",
     "text": [
      "123 is not airport\n"
     ]
    },
    {
     "data": {
      "text/plain": [
       "False"
      ]
     },
     "execution_count": 199,
     "metadata": {},
     "output_type": "execute_result"
    }
   ],
   "source": [
    "check_airports('123')"
   ]
  },
  {
   "cell_type": "code",
   "execution_count": 205,
   "metadata": {
    "collapsed": false
   },
   "outputs": [
    {
     "data": {
      "text/plain": [
       "0    True\n",
       "1    True\n",
       "2    True\n",
       "3    True\n",
       "4    True\n",
       "Name: Origin, dtype: bool"
      ]
     },
     "execution_count": 205,
     "metadata": {},
     "output_type": "execute_result"
    }
   ],
   "source": [
    "s.head().Origin.map(check_airports)"
   ]
  },
  {
   "cell_type": "code",
   "execution_count": 206,
   "metadata": {
    "collapsed": false
   },
   "outputs": [
    {
     "name": "stdout",
     "output_type": "stream",
     "text": [
      "240 is not airport\n"
     ]
    },
    {
     "data": {
      "text/html": [
       "<div>\n",
       "<table border=\"1\" class=\"dataframe\">\n",
       "  <thead>\n",
       "    <tr style=\"text-align: right;\">\n",
       "      <th></th>\n",
       "      <th>Date</th>\n",
       "      <th>Origin</th>\n",
       "      <th>Destination</th>\n",
       "    </tr>\n",
       "  </thead>\n",
       "  <tbody>\n",
       "    <tr>\n",
       "      <th>0</th>\n",
       "      <td>2013-01-01</td>\n",
       "      <td>TXL</td>\n",
       "      <td>AUH</td>\n",
       "    </tr>\n",
       "    <tr>\n",
       "      <th>1</th>\n",
       "      <td>2013-01-01</td>\n",
       "      <td>ATH</td>\n",
       "      <td>MIL</td>\n",
       "    </tr>\n",
       "    <tr>\n",
       "      <th>2</th>\n",
       "      <td>2013-01-01</td>\n",
       "      <td>ICT</td>\n",
       "      <td>SFO</td>\n",
       "    </tr>\n",
       "    <tr>\n",
       "      <th>3</th>\n",
       "      <td>2013-01-01</td>\n",
       "      <td>RNB</td>\n",
       "      <td>ARN</td>\n",
       "    </tr>\n",
       "    <tr>\n",
       "      <th>4</th>\n",
       "      <td>2013-01-01</td>\n",
       "      <td>OSL</td>\n",
       "      <td>MAD</td>\n",
       "    </tr>\n",
       "    <tr>\n",
       "      <th>5</th>\n",
       "      <td>2013-01-01</td>\n",
       "      <td>IAH</td>\n",
       "      <td>BLR</td>\n",
       "    </tr>\n",
       "    <tr>\n",
       "      <th>6</th>\n",
       "      <td>2013-01-01</td>\n",
       "      <td>CPH</td>\n",
       "      <td>PAR</td>\n",
       "    </tr>\n",
       "    <tr>\n",
       "      <th>7</th>\n",
       "      <td>2013-01-01</td>\n",
       "      <td>PAR</td>\n",
       "      <td>DUB</td>\n",
       "    </tr>\n",
       "    <tr>\n",
       "      <th>8</th>\n",
       "      <td>2013-01-01</td>\n",
       "      <td>DUS</td>\n",
       "      <td>ACE</td>\n",
       "    </tr>\n",
       "    <tr>\n",
       "      <th>9</th>\n",
       "      <td>2013-01-01</td>\n",
       "      <td>FRA</td>\n",
       "      <td>BGW</td>\n",
       "    </tr>\n",
       "    <tr>\n",
       "      <th>10</th>\n",
       "      <td>2013-01-01</td>\n",
       "      <td>PAR</td>\n",
       "      <td>BUD</td>\n",
       "    </tr>\n",
       "    <tr>\n",
       "      <th>11</th>\n",
       "      <td>2013-01-01</td>\n",
       "      <td>RIO</td>\n",
       "      <td>POA</td>\n",
       "    </tr>\n",
       "    <tr>\n",
       "      <th>12</th>\n",
       "      <td>2013-01-01</td>\n",
       "      <td>HKG</td>\n",
       "      <td>MXP</td>\n",
       "    </tr>\n",
       "    <tr>\n",
       "      <th>13</th>\n",
       "      <td>2013-01-01</td>\n",
       "      <td>BCN</td>\n",
       "      <td>LON</td>\n",
       "    </tr>\n",
       "    <tr>\n",
       "      <th>14</th>\n",
       "      <td>2013-01-01</td>\n",
       "      <td>CLE</td>\n",
       "      <td>SNN</td>\n",
       "    </tr>\n",
       "    <tr>\n",
       "      <th>15</th>\n",
       "      <td>2013-01-01</td>\n",
       "      <td>BSB</td>\n",
       "      <td>SLZ</td>\n",
       "    </tr>\n",
       "    <tr>\n",
       "      <th>16</th>\n",
       "      <td>2013-01-01</td>\n",
       "      <td>PEK</td>\n",
       "      <td>PHL</td>\n",
       "    </tr>\n",
       "    <tr>\n",
       "      <th>17</th>\n",
       "      <td>2013-01-01</td>\n",
       "      <td>BOS</td>\n",
       "      <td>GRU</td>\n",
       "    </tr>\n",
       "    <tr>\n",
       "      <th>18</th>\n",
       "      <td>2013-01-01</td>\n",
       "      <td>TBS</td>\n",
       "      <td>IKT</td>\n",
       "    </tr>\n",
       "    <tr>\n",
       "      <th>19</th>\n",
       "      <td>2013-01-01</td>\n",
       "      <td>LON</td>\n",
       "      <td>HKG</td>\n",
       "    </tr>\n",
       "    <tr>\n",
       "      <th>20</th>\n",
       "      <td>2013-01-01</td>\n",
       "      <td>MAD</td>\n",
       "      <td>SEA</td>\n",
       "    </tr>\n",
       "    <tr>\n",
       "      <th>21</th>\n",
       "      <td>2013-01-01</td>\n",
       "      <td>DUS</td>\n",
       "      <td>STN</td>\n",
       "    </tr>\n",
       "    <tr>\n",
       "      <th>22</th>\n",
       "      <td>2013-01-01</td>\n",
       "      <td>PAD</td>\n",
       "      <td>FUE</td>\n",
       "    </tr>\n",
       "    <tr>\n",
       "      <th>23</th>\n",
       "      <td>2013-01-01</td>\n",
       "      <td>DUS</td>\n",
       "      <td>IST</td>\n",
       "    </tr>\n",
       "    <tr>\n",
       "      <th>24</th>\n",
       "      <td>2013-01-01</td>\n",
       "      <td>BHX</td>\n",
       "      <td>VIE</td>\n",
       "    </tr>\n",
       "    <tr>\n",
       "      <th>25</th>\n",
       "      <td>2013-01-01</td>\n",
       "      <td>CGB</td>\n",
       "      <td>SAO</td>\n",
       "    </tr>\n",
       "    <tr>\n",
       "      <th>26</th>\n",
       "      <td>2013-01-01</td>\n",
       "      <td>ZRH</td>\n",
       "      <td>BRI</td>\n",
       "    </tr>\n",
       "    <tr>\n",
       "      <th>27</th>\n",
       "      <td>2013-01-01</td>\n",
       "      <td>RUH</td>\n",
       "      <td>JED</td>\n",
       "    </tr>\n",
       "    <tr>\n",
       "      <th>28</th>\n",
       "      <td>2013-01-01</td>\n",
       "      <td>UME</td>\n",
       "      <td>CPH</td>\n",
       "    </tr>\n",
       "    <tr>\n",
       "      <th>29</th>\n",
       "      <td>2013-01-01</td>\n",
       "      <td>FRA</td>\n",
       "      <td>DRS</td>\n",
       "    </tr>\n",
       "    <tr>\n",
       "      <th>...</th>\n",
       "      <td>...</td>\n",
       "      <td>...</td>\n",
       "      <td>...</td>\n",
       "    </tr>\n",
       "    <tr>\n",
       "      <th>966627</th>\n",
       "      <td>2013-01-17</td>\n",
       "      <td>HPN</td>\n",
       "      <td>AUA</td>\n",
       "    </tr>\n",
       "    <tr>\n",
       "      <th>966628</th>\n",
       "      <td>2013-01-17</td>\n",
       "      <td>FRA</td>\n",
       "      <td>MIL</td>\n",
       "    </tr>\n",
       "    <tr>\n",
       "      <th>966629</th>\n",
       "      <td>2013-01-17</td>\n",
       "      <td>FOR</td>\n",
       "      <td>RIO</td>\n",
       "    </tr>\n",
       "    <tr>\n",
       "      <th>966630</th>\n",
       "      <td>2013-01-17</td>\n",
       "      <td>MUC</td>\n",
       "      <td>DUB</td>\n",
       "    </tr>\n",
       "    <tr>\n",
       "      <th>966631</th>\n",
       "      <td>2013-01-17</td>\n",
       "      <td>BRU</td>\n",
       "      <td>LJU</td>\n",
       "    </tr>\n",
       "    <tr>\n",
       "      <th>966632</th>\n",
       "      <td>2013-01-17</td>\n",
       "      <td>LHR</td>\n",
       "      <td>PER</td>\n",
       "    </tr>\n",
       "    <tr>\n",
       "      <th>966633</th>\n",
       "      <td>2013-01-17</td>\n",
       "      <td>HKG</td>\n",
       "      <td>SYD</td>\n",
       "    </tr>\n",
       "    <tr>\n",
       "      <th>966634</th>\n",
       "      <td>2013-01-17</td>\n",
       "      <td>LYS</td>\n",
       "      <td>ALG</td>\n",
       "    </tr>\n",
       "    <tr>\n",
       "      <th>966635</th>\n",
       "      <td>2013-01-17</td>\n",
       "      <td>FLL</td>\n",
       "      <td>ORL</td>\n",
       "    </tr>\n",
       "    <tr>\n",
       "      <th>966636</th>\n",
       "      <td>2013-01-17</td>\n",
       "      <td>BHZ</td>\n",
       "      <td>MCZ</td>\n",
       "    </tr>\n",
       "    <tr>\n",
       "      <th>966637</th>\n",
       "      <td>2013-01-17</td>\n",
       "      <td>GVA</td>\n",
       "      <td>OSL</td>\n",
       "    </tr>\n",
       "    <tr>\n",
       "      <th>966638</th>\n",
       "      <td>2013-01-17</td>\n",
       "      <td>SZG</td>\n",
       "      <td>IBZ</td>\n",
       "    </tr>\n",
       "    <tr>\n",
       "      <th>966639</th>\n",
       "      <td>2013-01-17</td>\n",
       "      <td>DUB</td>\n",
       "      <td>CPT</td>\n",
       "    </tr>\n",
       "    <tr>\n",
       "      <th>966640</th>\n",
       "      <td>2013-01-17</td>\n",
       "      <td>FRA</td>\n",
       "      <td>MAD</td>\n",
       "    </tr>\n",
       "    <tr>\n",
       "      <th>966641</th>\n",
       "      <td>2013-01-17</td>\n",
       "      <td>CWL</td>\n",
       "      <td>DUB</td>\n",
       "    </tr>\n",
       "    <tr>\n",
       "      <th>966642</th>\n",
       "      <td>2013-01-17</td>\n",
       "      <td>FRA</td>\n",
       "      <td>DJE</td>\n",
       "    </tr>\n",
       "    <tr>\n",
       "      <th>966643</th>\n",
       "      <td>2013-01-17</td>\n",
       "      <td>GRZ</td>\n",
       "      <td>PMI</td>\n",
       "    </tr>\n",
       "    <tr>\n",
       "      <th>966644</th>\n",
       "      <td>2013-01-17</td>\n",
       "      <td>PAR</td>\n",
       "      <td>STO</td>\n",
       "    </tr>\n",
       "    <tr>\n",
       "      <th>966645</th>\n",
       "      <td>2013-01-17</td>\n",
       "      <td>MEL</td>\n",
       "      <td>BKK</td>\n",
       "    </tr>\n",
       "    <tr>\n",
       "      <th>966646</th>\n",
       "      <td>2013-01-17</td>\n",
       "      <td>WAW</td>\n",
       "      <td>STR</td>\n",
       "    </tr>\n",
       "    <tr>\n",
       "      <th>966647</th>\n",
       "      <td>2013-01-17</td>\n",
       "      <td>ABZ</td>\n",
       "      <td>AUS</td>\n",
       "    </tr>\n",
       "    <tr>\n",
       "      <th>966648</th>\n",
       "      <td>2013-01-17</td>\n",
       "      <td>HKT</td>\n",
       "      <td>MOW</td>\n",
       "    </tr>\n",
       "    <tr>\n",
       "      <th>966649</th>\n",
       "      <td>2013-01-17</td>\n",
       "      <td>IAH</td>\n",
       "      <td>LAN</td>\n",
       "    </tr>\n",
       "    <tr>\n",
       "      <th>966650</th>\n",
       "      <td>2013-01-17</td>\n",
       "      <td>FOR</td>\n",
       "      <td>GRU</td>\n",
       "    </tr>\n",
       "    <tr>\n",
       "      <th>966651</th>\n",
       "      <td>2013-01-17</td>\n",
       "      <td>HYD</td>\n",
       "      <td>SIN</td>\n",
       "    </tr>\n",
       "    <tr>\n",
       "      <th>966652</th>\n",
       "      <td>2013-01-17</td>\n",
       "      <td>MIA</td>\n",
       "      <td>PLS</td>\n",
       "    </tr>\n",
       "    <tr>\n",
       "      <th>966653</th>\n",
       "      <td>2013-01-17</td>\n",
       "      <td>ZRH</td>\n",
       "      <td>TLV</td>\n",
       "    </tr>\n",
       "    <tr>\n",
       "      <th>966654</th>\n",
       "      <td>2013-01-17</td>\n",
       "      <td>WAW</td>\n",
       "      <td>ZRH</td>\n",
       "    </tr>\n",
       "    <tr>\n",
       "      <th>966655</th>\n",
       "      <td>2013-01-17</td>\n",
       "      <td>JNB</td>\n",
       "      <td>FCO</td>\n",
       "    </tr>\n",
       "    <tr>\n",
       "      <th>390197</th>\n",
       "      <td>2013-10-13</td>\n",
       "      <td>VIE</td>\n",
       "      <td>HA</td>\n",
       "    </tr>\n",
       "  </tbody>\n",
       "</table>\n",
       "<p>422182 rows × 3 columns</p>\n",
       "</div>"
      ],
      "text/plain": [
       "             Date Origin Destination\n",
       "0      2013-01-01    TXL         AUH\n",
       "1      2013-01-01    ATH         MIL\n",
       "2      2013-01-01    ICT         SFO\n",
       "3      2013-01-01    RNB         ARN\n",
       "4      2013-01-01    OSL         MAD\n",
       "5      2013-01-01    IAH         BLR\n",
       "6      2013-01-01    CPH         PAR\n",
       "7      2013-01-01    PAR         DUB\n",
       "8      2013-01-01    DUS         ACE\n",
       "9      2013-01-01    FRA         BGW\n",
       "10     2013-01-01    PAR         BUD\n",
       "11     2013-01-01    RIO         POA\n",
       "12     2013-01-01    HKG         MXP\n",
       "13     2013-01-01    BCN         LON\n",
       "14     2013-01-01    CLE         SNN\n",
       "15     2013-01-01    BSB         SLZ\n",
       "16     2013-01-01    PEK         PHL\n",
       "17     2013-01-01    BOS         GRU\n",
       "18     2013-01-01    TBS         IKT\n",
       "19     2013-01-01    LON         HKG\n",
       "20     2013-01-01    MAD         SEA\n",
       "21     2013-01-01    DUS         STN\n",
       "22     2013-01-01    PAD         FUE\n",
       "23     2013-01-01    DUS         IST\n",
       "24     2013-01-01    BHX         VIE\n",
       "25     2013-01-01    CGB         SAO\n",
       "26     2013-01-01    ZRH         BRI\n",
       "27     2013-01-01    RUH         JED\n",
       "28     2013-01-01    UME         CPH\n",
       "29     2013-01-01    FRA         DRS\n",
       "...           ...    ...         ...\n",
       "966627 2013-01-17    HPN         AUA\n",
       "966628 2013-01-17    FRA         MIL\n",
       "966629 2013-01-17    FOR         RIO\n",
       "966630 2013-01-17    MUC         DUB\n",
       "966631 2013-01-17    BRU         LJU\n",
       "966632 2013-01-17    LHR         PER\n",
       "966633 2013-01-17    HKG         SYD\n",
       "966634 2013-01-17    LYS         ALG\n",
       "966635 2013-01-17    FLL         ORL\n",
       "966636 2013-01-17    BHZ         MCZ\n",
       "966637 2013-01-17    GVA         OSL\n",
       "966638 2013-01-17    SZG         IBZ\n",
       "966639 2013-01-17    DUB         CPT\n",
       "966640 2013-01-17    FRA         MAD\n",
       "966641 2013-01-17    CWL         DUB\n",
       "966642 2013-01-17    FRA         DJE\n",
       "966643 2013-01-17    GRZ         PMI\n",
       "966644 2013-01-17    PAR         STO\n",
       "966645 2013-01-17    MEL         BKK\n",
       "966646 2013-01-17    WAW         STR\n",
       "966647 2013-01-17    ABZ         AUS\n",
       "966648 2013-01-17    HKT         MOW\n",
       "966649 2013-01-17    IAH         LAN\n",
       "966650 2013-01-17    FOR         GRU\n",
       "966651 2013-01-17    HYD         SIN\n",
       "966652 2013-01-17    MIA         PLS\n",
       "966653 2013-01-17    ZRH         TLV\n",
       "966654 2013-01-17    WAW         ZRH\n",
       "966655 2013-01-17    JNB         FCO\n",
       "390197 2013-10-13    VIE          HA\n",
       "\n",
       "[422182 rows x 3 columns]"
      ]
     },
     "execution_count": 206,
     "metadata": {},
     "output_type": "execute_result"
    }
   ],
   "source": [
    "s_test=s.head()\n",
    "\n",
    "s_test2 = s[s.Origin.map(check_airports)]\n",
    "s_test2"
   ]
  },
  {
   "cell_type": "code",
   "execution_count": 106,
   "metadata": {
    "collapsed": false
   },
   "outputs": [
    {
     "data": {
      "text/plain": [
       "422182"
      ]
     },
     "execution_count": 106,
     "metadata": {},
     "output_type": "execute_result"
    }
   ],
   "source": [
    "s = s[s.Origin.map(check_airports)]\n",
    "s = s[s.Destination.map(check_airports)]\n",
    "len(s)"
   ]
  },
  {
   "cell_type": "markdown",
   "metadata": {},
   "source": [
    "### izbaceni brojevi"
   ]
  },
  {
   "cell_type": "code",
   "execution_count": 111,
   "metadata": {
    "collapsed": false
   },
   "outputs": [],
   "source": [
    "b.sort_values(['dep_port','arr_port', 'act_date'],inplace=True)"
   ]
  },
  {
   "cell_type": "code",
   "execution_count": 112,
   "metadata": {
    "collapsed": false
   },
   "outputs": [
    {
     "name": "stdout",
     "output_type": "stream",
     "text": [
      "        search ID       Date Origin Destination\n",
      "49789       49789 2013-02-19    AAC         CAI\n",
      "170497     170497 2013-06-20    AAE         ALG\n",
      "141836     141836 2013-05-22    AAE         MRS\n",
      "231815     231816 2013-08-20    AAE         NCE\n",
      "278500     278501 2013-10-06    AAE         ORY\n",
      "181303     181303 2013-07-01    AAE         PAR\n",
      "234611     234612 2013-08-23    AAE         PAR\n",
      "99103       99103 2013-04-10    AAL         AGP\n",
      "169509     169509 2013-06-19    AAL         AGP\n",
      "184042     184042 2013-07-04    AAL         AGP\n",
      "         book ID   act_date dep_port arr_port\n",
      "387078    387078 2013-05-29      AAB      ROV\n",
      "387079    387079 2013-05-29      AAB      ROV\n",
      "1387081   387088 2013-05-29      AAB      ROV\n",
      "1387082   387089 2013-05-29      AAB      ROV\n",
      "572522    572522 2013-08-24      AAB      ROV\n",
      "572523    572523 2013-08-24      AAB      ROV\n",
      "1572525   572532 2013-08-24      AAB      ROV\n",
      "1572526   572533 2013-08-24      AAB      ROV\n",
      "165186    165186 2013-01-07      AAE      ALG\n",
      "1165189   165196 2013-01-07      AAE      ALG\n"
     ]
    }
   ],
   "source": [
    "print s.head(10)\n",
    "print b.head(10)"
   ]
  },
  {
   "cell_type": "raw",
   "metadata": {},
   "source": [
    "1) Group by bookings so that we dont have duplicates, and we can have number of bookings\n",
    "2) simply drop duplicates"
   ]
  },
  {
   "cell_type": "code",
   "execution_count": 195,
   "metadata": {
    "collapsed": false
   },
   "outputs": [],
   "source": [
    "b_gr=b.groupby(['dep_port','arr_port', 'act_date']).count() .reset_index().sort_values(\n",
    "    ['dep_port','arr_port', 'act_date'])"
   ]
  },
  {
   "cell_type": "code",
   "execution_count": 129,
   "metadata": {
    "collapsed": false
   },
   "outputs": [
    {
     "name": "stdout",
     "output_type": "stream",
     "text": [
      "466228\n"
     ]
    },
    {
     "data": {
      "text/html": [
       "<div>\n",
       "<table border=\"1\" class=\"dataframe\">\n",
       "  <thead>\n",
       "    <tr style=\"text-align: right;\">\n",
       "      <th></th>\n",
       "      <th>dep_port</th>\n",
       "      <th>arr_port</th>\n",
       "      <th>act_date</th>\n",
       "      <th>Num of Bookings</th>\n",
       "    </tr>\n",
       "  </thead>\n",
       "  <tbody>\n",
       "    <tr>\n",
       "      <th>0</th>\n",
       "      <td>AAB</td>\n",
       "      <td>ROV</td>\n",
       "      <td>2013-05-29</td>\n",
       "      <td>4</td>\n",
       "    </tr>\n",
       "    <tr>\n",
       "      <th>1</th>\n",
       "      <td>AAB</td>\n",
       "      <td>ROV</td>\n",
       "      <td>2013-08-24</td>\n",
       "      <td>4</td>\n",
       "    </tr>\n",
       "    <tr>\n",
       "      <th>2</th>\n",
       "      <td>AAE</td>\n",
       "      <td>ALG</td>\n",
       "      <td>2013-01-07</td>\n",
       "      <td>2</td>\n",
       "    </tr>\n",
       "    <tr>\n",
       "      <th>3</th>\n",
       "      <td>AAE</td>\n",
       "      <td>ALG</td>\n",
       "      <td>2013-01-08</td>\n",
       "      <td>4</td>\n",
       "    </tr>\n",
       "    <tr>\n",
       "      <th>4</th>\n",
       "      <td>AAE</td>\n",
       "      <td>ALG</td>\n",
       "      <td>2013-01-09</td>\n",
       "      <td>8</td>\n",
       "    </tr>\n",
       "  </tbody>\n",
       "</table>\n",
       "</div>"
      ],
      "text/plain": [
       "  dep_port arr_port   act_date  Num of Bookings\n",
       "0      AAB      ROV 2013-05-29                4\n",
       "1      AAB      ROV 2013-08-24                4\n",
       "2      AAE      ALG 2013-01-07                2\n",
       "3      AAE      ALG 2013-01-08                4\n",
       "4      AAE      ALG 2013-01-09                8"
      ]
     },
     "execution_count": 129,
     "metadata": {},
     "output_type": "execute_result"
    }
   ],
   "source": [
    "b_gr.rename(columns={'book ID':'Num of Bookings'}, inplace=True)\n",
    "print len(b_gr)\n",
    "b_gr.head()"
   ]
  },
  {
   "cell_type": "code",
   "execution_count": 128,
   "metadata": {
    "collapsed": false
   },
   "outputs": [
    {
     "data": {
      "text/html": [
       "<div>\n",
       "<table border=\"1\" class=\"dataframe\">\n",
       "  <thead>\n",
       "    <tr style=\"text-align: right;\">\n",
       "      <th></th>\n",
       "      <th>search ID</th>\n",
       "      <th>Date</th>\n",
       "      <th>Origin</th>\n",
       "      <th>Destination</th>\n",
       "    </tr>\n",
       "  </thead>\n",
       "  <tbody>\n",
       "    <tr>\n",
       "      <th>49789</th>\n",
       "      <td>49789</td>\n",
       "      <td>2013-02-19</td>\n",
       "      <td>AAC</td>\n",
       "      <td>CAI</td>\n",
       "    </tr>\n",
       "    <tr>\n",
       "      <th>170497</th>\n",
       "      <td>170497</td>\n",
       "      <td>2013-06-20</td>\n",
       "      <td>AAE</td>\n",
       "      <td>ALG</td>\n",
       "    </tr>\n",
       "    <tr>\n",
       "      <th>141836</th>\n",
       "      <td>141836</td>\n",
       "      <td>2013-05-22</td>\n",
       "      <td>AAE</td>\n",
       "      <td>MRS</td>\n",
       "    </tr>\n",
       "    <tr>\n",
       "      <th>231815</th>\n",
       "      <td>231816</td>\n",
       "      <td>2013-08-20</td>\n",
       "      <td>AAE</td>\n",
       "      <td>NCE</td>\n",
       "    </tr>\n",
       "    <tr>\n",
       "      <th>278500</th>\n",
       "      <td>278501</td>\n",
       "      <td>2013-10-06</td>\n",
       "      <td>AAE</td>\n",
       "      <td>ORY</td>\n",
       "    </tr>\n",
       "  </tbody>\n",
       "</table>\n",
       "</div>"
      ],
      "text/plain": [
       "        search ID       Date Origin Destination\n",
       "49789       49789 2013-02-19    AAC         CAI\n",
       "170497     170497 2013-06-20    AAE         ALG\n",
       "141836     141836 2013-05-22    AAE         MRS\n",
       "231815     231816 2013-08-20    AAE         NCE\n",
       "278500     278501 2013-10-06    AAE         ORY"
      ]
     },
     "execution_count": 128,
     "metadata": {},
     "output_type": "execute_result"
    }
   ],
   "source": [
    "s.head()"
   ]
  },
  {
   "cell_type": "code",
   "execution_count": 130,
   "metadata": {
    "collapsed": true
   },
   "outputs": [],
   "source": [
    "pd.merge?"
   ]
  },
  {
   "cell_type": "code",
   "execution_count": 156,
   "metadata": {
    "collapsed": false
   },
   "outputs": [],
   "source": [
    "s_b=s.merge(b_gr, \n",
    "            how='left', \n",
    "            left_on=['Date','Origin','Destination'], \n",
    "            right_on=['act_date', 'dep_port','arr_port'])"
   ]
  },
  {
   "cell_type": "code",
   "execution_count": 157,
   "metadata": {
    "collapsed": false
   },
   "outputs": [
    {
     "data": {
      "text/html": [
       "<div>\n",
       "<table border=\"1\" class=\"dataframe\">\n",
       "  <thead>\n",
       "    <tr style=\"text-align: right;\">\n",
       "      <th></th>\n",
       "      <th>Date</th>\n",
       "      <th>Origin</th>\n",
       "      <th>Destination</th>\n",
       "      <th>dep_port</th>\n",
       "      <th>arr_port</th>\n",
       "      <th>act_date</th>\n",
       "      <th>Num of Bookings</th>\n",
       "    </tr>\n",
       "  </thead>\n",
       "  <tbody>\n",
       "    <tr>\n",
       "      <th>23</th>\n",
       "      <td>2013-01-01</td>\n",
       "      <td>DUS</td>\n",
       "      <td>IST</td>\n",
       "      <td>DUS</td>\n",
       "      <td>IST</td>\n",
       "      <td>2013-01-01</td>\n",
       "      <td>2</td>\n",
       "    </tr>\n",
       "    <tr>\n",
       "      <th>27</th>\n",
       "      <td>2013-01-01</td>\n",
       "      <td>RUH</td>\n",
       "      <td>JED</td>\n",
       "      <td>RUH</td>\n",
       "      <td>JED</td>\n",
       "      <td>2013-01-01</td>\n",
       "      <td>26</td>\n",
       "    </tr>\n",
       "    <tr>\n",
       "      <th>40</th>\n",
       "      <td>2013-01-01</td>\n",
       "      <td>DMM</td>\n",
       "      <td>MNL</td>\n",
       "      <td>DMM</td>\n",
       "      <td>MNL</td>\n",
       "      <td>2013-01-01</td>\n",
       "      <td>2</td>\n",
       "    </tr>\n",
       "    <tr>\n",
       "      <th>59</th>\n",
       "      <td>2013-01-01</td>\n",
       "      <td>ATL</td>\n",
       "      <td>MIA</td>\n",
       "      <td>ATL</td>\n",
       "      <td>MIA</td>\n",
       "      <td>2013-01-01</td>\n",
       "      <td>4</td>\n",
       "    </tr>\n",
       "    <tr>\n",
       "      <th>94</th>\n",
       "      <td>2013-01-01</td>\n",
       "      <td>DXB</td>\n",
       "      <td>KUL</td>\n",
       "      <td>DXB</td>\n",
       "      <td>KUL</td>\n",
       "      <td>2013-01-01</td>\n",
       "      <td>2</td>\n",
       "    </tr>\n",
       "  </tbody>\n",
       "</table>\n",
       "</div>"
      ],
      "text/plain": [
       "         Date Origin Destination dep_port arr_port   act_date  Num of Bookings\n",
       "23 2013-01-01    DUS         IST      DUS      IST 2013-01-01                2\n",
       "27 2013-01-01    RUH         JED      RUH      JED 2013-01-01               26\n",
       "40 2013-01-01    DMM         MNL      DMM      MNL 2013-01-01                2\n",
       "59 2013-01-01    ATL         MIA      ATL      MIA 2013-01-01                4\n",
       "94 2013-01-01    DXB         KUL      DXB      KUL 2013-01-01                2"
      ]
     },
     "execution_count": 157,
     "metadata": {},
     "output_type": "execute_result"
    }
   ],
   "source": [
    "s_b[s_b['Num of Bookings']>0].head()"
   ]
  },
  {
   "cell_type": "code",
   "execution_count": 158,
   "metadata": {
    "collapsed": false
   },
   "outputs": [
    {
     "data": {
      "text/plain": [
       "422183"
      ]
     },
     "execution_count": 158,
     "metadata": {},
     "output_type": "execute_result"
    }
   ],
   "source": [
    "len(s_b)"
   ]
  },
  {
   "cell_type": "code",
   "execution_count": 142,
   "metadata": {
    "collapsed": false
   },
   "outputs": [
    {
     "data": {
      "text/html": [
       "<div>\n",
       "<table border=\"1\" class=\"dataframe\">\n",
       "  <thead>\n",
       "    <tr style=\"text-align: right;\">\n",
       "      <th></th>\n",
       "      <th>search ID</th>\n",
       "      <th>Date</th>\n",
       "      <th>Origin</th>\n",
       "      <th>Destination</th>\n",
       "    </tr>\n",
       "  </thead>\n",
       "  <tbody>\n",
       "    <tr>\n",
       "      <th>49789</th>\n",
       "      <td>49789</td>\n",
       "      <td>2013-02-19</td>\n",
       "      <td>AAC</td>\n",
       "      <td>CAI</td>\n",
       "    </tr>\n",
       "    <tr>\n",
       "      <th>170497</th>\n",
       "      <td>170497</td>\n",
       "      <td>2013-06-20</td>\n",
       "      <td>AAE</td>\n",
       "      <td>ALG</td>\n",
       "    </tr>\n",
       "    <tr>\n",
       "      <th>141836</th>\n",
       "      <td>141836</td>\n",
       "      <td>2013-05-22</td>\n",
       "      <td>AAE</td>\n",
       "      <td>MRS</td>\n",
       "    </tr>\n",
       "    <tr>\n",
       "      <th>231815</th>\n",
       "      <td>231816</td>\n",
       "      <td>2013-08-20</td>\n",
       "      <td>AAE</td>\n",
       "      <td>NCE</td>\n",
       "    </tr>\n",
       "    <tr>\n",
       "      <th>278500</th>\n",
       "      <td>278501</td>\n",
       "      <td>2013-10-06</td>\n",
       "      <td>AAE</td>\n",
       "      <td>ORY</td>\n",
       "    </tr>\n",
       "  </tbody>\n",
       "</table>\n",
       "</div>"
      ],
      "text/plain": [
       "        search ID       Date Origin Destination\n",
       "49789       49789 2013-02-19    AAC         CAI\n",
       "170497     170497 2013-06-20    AAE         ALG\n",
       "141836     141836 2013-05-22    AAE         MRS\n",
       "231815     231816 2013-08-20    AAE         NCE\n",
       "278500     278501 2013-10-06    AAE         ORY"
      ]
     },
     "execution_count": 142,
     "metadata": {},
     "output_type": "execute_result"
    }
   ],
   "source": [
    "s.head()"
   ]
  },
  {
   "cell_type": "code",
   "execution_count": 159,
   "metadata": {
    "collapsed": false
   },
   "outputs": [
    {
     "data": {
      "text/html": [
       "<div>\n",
       "<table border=\"1\" class=\"dataframe\">\n",
       "  <thead>\n",
       "    <tr style=\"text-align: right;\">\n",
       "      <th></th>\n",
       "      <th>Date</th>\n",
       "      <th>Time</th>\n",
       "      <th>TxnCode</th>\n",
       "      <th>OfficeID</th>\n",
       "      <th>Country</th>\n",
       "      <th>Origin</th>\n",
       "      <th>Destination</th>\n",
       "      <th>RoundTrip</th>\n",
       "      <th>NbSegments</th>\n",
       "      <th>Seg1Departure</th>\n",
       "      <th>...</th>\n",
       "      <th>Seg6Arrival</th>\n",
       "      <th>Seg6Date</th>\n",
       "      <th>Seg6Carrier</th>\n",
       "      <th>Seg6BookingCode</th>\n",
       "      <th>From</th>\n",
       "      <th>IsPublishedForNeg</th>\n",
       "      <th>IsFromInternet</th>\n",
       "      <th>IsFromVista</th>\n",
       "      <th>TerminalID</th>\n",
       "      <th>InternetOffice</th>\n",
       "    </tr>\n",
       "  </thead>\n",
       "  <tbody>\n",
       "    <tr>\n",
       "      <th>0</th>\n",
       "      <td>2013-01-01</td>\n",
       "      <td>20:25:57</td>\n",
       "      <td>MPT</td>\n",
       "      <td>624d8c3ac0b3a7ca03e3c167e0f48327</td>\n",
       "      <td>DE</td>\n",
       "      <td>TXL</td>\n",
       "      <td>AUH</td>\n",
       "      <td>1</td>\n",
       "      <td>2</td>\n",
       "      <td>TXL</td>\n",
       "      <td>...</td>\n",
       "      <td>NaN</td>\n",
       "      <td>NaN</td>\n",
       "      <td>NaN</td>\n",
       "      <td>NaN</td>\n",
       "      <td>1ASIWS</td>\n",
       "      <td>0</td>\n",
       "      <td>0</td>\n",
       "      <td>0</td>\n",
       "      <td>d41d8cd98f00b204e9800998ecf8427e</td>\n",
       "      <td>FRA</td>\n",
       "    </tr>\n",
       "    <tr>\n",
       "      <th>1</th>\n",
       "      <td>2013-01-01</td>\n",
       "      <td>10:15:33</td>\n",
       "      <td>MPT</td>\n",
       "      <td>b0af35b31588dc4ab06d5cf2986e8e02</td>\n",
       "      <td>MD</td>\n",
       "      <td>ATH</td>\n",
       "      <td>MIL</td>\n",
       "      <td>0</td>\n",
       "      <td>1</td>\n",
       "      <td>ATH</td>\n",
       "      <td>...</td>\n",
       "      <td>NaN</td>\n",
       "      <td>NaN</td>\n",
       "      <td>NaN</td>\n",
       "      <td>NaN</td>\n",
       "      <td>1ASIWS</td>\n",
       "      <td>0</td>\n",
       "      <td>0</td>\n",
       "      <td>0</td>\n",
       "      <td>d41d8cd98f00b204e9800998ecf8427e</td>\n",
       "      <td>KIV</td>\n",
       "    </tr>\n",
       "    <tr>\n",
       "      <th>2</th>\n",
       "      <td>2013-01-01</td>\n",
       "      <td>18:04:49</td>\n",
       "      <td>MPT</td>\n",
       "      <td>3561a60621de06ab1badc8ca55699ef3</td>\n",
       "      <td>US</td>\n",
       "      <td>ICT</td>\n",
       "      <td>SFO</td>\n",
       "      <td>1</td>\n",
       "      <td>2</td>\n",
       "      <td>ICT</td>\n",
       "      <td>...</td>\n",
       "      <td>NaN</td>\n",
       "      <td>NaN</td>\n",
       "      <td>NaN</td>\n",
       "      <td>NaN</td>\n",
       "      <td>1ASIWS</td>\n",
       "      <td>0</td>\n",
       "      <td>0</td>\n",
       "      <td>0</td>\n",
       "      <td>d41d8cd98f00b204e9800998ecf8427e</td>\n",
       "      <td>NYC</td>\n",
       "    </tr>\n",
       "    <tr>\n",
       "      <th>3</th>\n",
       "      <td>2013-01-01</td>\n",
       "      <td>17:42:40</td>\n",
       "      <td>FXP</td>\n",
       "      <td>1864e5e8013d9414150e91d26b6a558b</td>\n",
       "      <td>SE</td>\n",
       "      <td>RNB</td>\n",
       "      <td>ARN</td>\n",
       "      <td>0</td>\n",
       "      <td>1</td>\n",
       "      <td>RNB</td>\n",
       "      <td>...</td>\n",
       "      <td>NaN</td>\n",
       "      <td>NaN</td>\n",
       "      <td>NaN</td>\n",
       "      <td>NaN</td>\n",
       "      <td>1ASI</td>\n",
       "      <td>0</td>\n",
       "      <td>0</td>\n",
       "      <td>0</td>\n",
       "      <td>d41d8cd98f00b204e9800998ecf8427e</td>\n",
       "      <td>STO</td>\n",
       "    </tr>\n",
       "    <tr>\n",
       "      <th>4</th>\n",
       "      <td>2013-01-01</td>\n",
       "      <td>17:48:29</td>\n",
       "      <td>MPT</td>\n",
       "      <td>1ec336348f44207d2e0027dc3a68c118</td>\n",
       "      <td>NO</td>\n",
       "      <td>OSL</td>\n",
       "      <td>MAD</td>\n",
       "      <td>1</td>\n",
       "      <td>2</td>\n",
       "      <td>OSL</td>\n",
       "      <td>...</td>\n",
       "      <td>NaN</td>\n",
       "      <td>NaN</td>\n",
       "      <td>NaN</td>\n",
       "      <td>NaN</td>\n",
       "      <td>1ASIWS</td>\n",
       "      <td>0</td>\n",
       "      <td>0</td>\n",
       "      <td>0</td>\n",
       "      <td>d41d8cd98f00b204e9800998ecf8427e</td>\n",
       "      <td>OSL</td>\n",
       "    </tr>\n",
       "  </tbody>\n",
       "</table>\n",
       "<p>5 rows × 45 columns</p>\n",
       "</div>"
      ],
      "text/plain": [
       "         Date      Time TxnCode                          OfficeID Country  \\\n",
       "0  2013-01-01  20:25:57     MPT  624d8c3ac0b3a7ca03e3c167e0f48327      DE   \n",
       "1  2013-01-01  10:15:33     MPT  b0af35b31588dc4ab06d5cf2986e8e02      MD   \n",
       "2  2013-01-01  18:04:49     MPT  3561a60621de06ab1badc8ca55699ef3      US   \n",
       "3  2013-01-01  17:42:40     FXP  1864e5e8013d9414150e91d26b6a558b      SE   \n",
       "4  2013-01-01  17:48:29     MPT  1ec336348f44207d2e0027dc3a68c118      NO   \n",
       "\n",
       "  Origin Destination  RoundTrip  NbSegments Seg1Departure      ...        \\\n",
       "0    TXL         AUH          1           2           TXL      ...         \n",
       "1    ATH         MIL          0           1           ATH      ...         \n",
       "2    ICT         SFO          1           2           ICT      ...         \n",
       "3    RNB         ARN          0           1           RNB      ...         \n",
       "4    OSL         MAD          1           2           OSL      ...         \n",
       "\n",
       "  Seg6Arrival Seg6Date Seg6Carrier Seg6BookingCode    From IsPublishedForNeg  \\\n",
       "0         NaN      NaN         NaN             NaN  1ASIWS                 0   \n",
       "1         NaN      NaN         NaN             NaN  1ASIWS                 0   \n",
       "2         NaN      NaN         NaN             NaN  1ASIWS                 0   \n",
       "3         NaN      NaN         NaN             NaN    1ASI                 0   \n",
       "4         NaN      NaN         NaN             NaN  1ASIWS                 0   \n",
       "\n",
       "  IsFromInternet IsFromVista                        TerminalID InternetOffice  \n",
       "0              0           0  d41d8cd98f00b204e9800998ecf8427e            FRA  \n",
       "1              0           0  d41d8cd98f00b204e9800998ecf8427e            KIV  \n",
       "2              0           0  d41d8cd98f00b204e9800998ecf8427e            NYC  \n",
       "3              0           0  d41d8cd98f00b204e9800998ecf8427e            STO  \n",
       "4              0           0  d41d8cd98f00b204e9800998ecf8427e            OSL  \n",
       "\n",
       "[5 rows x 45 columns]"
      ]
     },
     "execution_count": 159,
     "metadata": {},
     "output_type": "execute_result"
    }
   ],
   "source": [
    "all_chunks.head()\n"
   ]
  },
  {
   "cell_type": "code",
   "execution_count": 160,
   "metadata": {
    "collapsed": false
   },
   "outputs": [
    {
     "data": {
      "text/plain": [
       "422184"
      ]
     },
     "execution_count": 160,
     "metadata": {},
     "output_type": "execute_result"
    }
   ],
   "source": [
    "len(all_chunks)"
   ]
  },
  {
   "cell_type": "raw",
   "metadata": {},
   "source": [
    "http://pandas.pydata.org/pandas-docs/stable/merging.html"
   ]
  },
  {
   "cell_type": "code",
   "execution_count": 190,
   "metadata": {
    "collapsed": false
   },
   "outputs": [
    {
     "data": {
      "text/html": [
       "<div>\n",
       "<table border=\"1\" class=\"dataframe\">\n",
       "  <thead>\n",
       "    <tr style=\"text-align: right;\">\n",
       "      <th></th>\n",
       "      <th>Booked</th>\n",
       "      <th>Country</th>\n",
       "      <th>Date</th>\n",
       "      <th>Destination</th>\n",
       "      <th>From</th>\n",
       "      <th>InternetOffice</th>\n",
       "      <th>IsFromInternet</th>\n",
       "      <th>IsFromVista</th>\n",
       "      <th>IsPublishedForNeg</th>\n",
       "      <th>NbSegments</th>\n",
       "      <th>...</th>\n",
       "      <th>Seg5Date</th>\n",
       "      <th>Seg5Departure</th>\n",
       "      <th>Seg6Arrival</th>\n",
       "      <th>Seg6BookingCode</th>\n",
       "      <th>Seg6Carrier</th>\n",
       "      <th>Seg6Date</th>\n",
       "      <th>Seg6Departure</th>\n",
       "      <th>TerminalID</th>\n",
       "      <th>Time</th>\n",
       "      <th>TxnCode</th>\n",
       "    </tr>\n",
       "  </thead>\n",
       "  <tbody>\n",
       "    <tr>\n",
       "      <th>0</th>\n",
       "      <td>NaN</td>\n",
       "      <td>DE</td>\n",
       "      <td>2013-01-01</td>\n",
       "      <td>AUH</td>\n",
       "      <td>1ASIWS</td>\n",
       "      <td>FRA</td>\n",
       "      <td>0</td>\n",
       "      <td>0</td>\n",
       "      <td>0</td>\n",
       "      <td>2</td>\n",
       "      <td>...</td>\n",
       "      <td>NaN</td>\n",
       "      <td>NaN</td>\n",
       "      <td>NaN</td>\n",
       "      <td>NaN</td>\n",
       "      <td>NaN</td>\n",
       "      <td>NaN</td>\n",
       "      <td>NaN</td>\n",
       "      <td>d41d8cd98f00b204e9800998ecf8427e</td>\n",
       "      <td>20:25:57</td>\n",
       "      <td>MPT</td>\n",
       "    </tr>\n",
       "    <tr>\n",
       "      <th>1</th>\n",
       "      <td>NaN</td>\n",
       "      <td>MD</td>\n",
       "      <td>2013-01-01</td>\n",
       "      <td>MIL</td>\n",
       "      <td>1ASIWS</td>\n",
       "      <td>KIV</td>\n",
       "      <td>0</td>\n",
       "      <td>0</td>\n",
       "      <td>0</td>\n",
       "      <td>1</td>\n",
       "      <td>...</td>\n",
       "      <td>NaN</td>\n",
       "      <td>NaN</td>\n",
       "      <td>NaN</td>\n",
       "      <td>NaN</td>\n",
       "      <td>NaN</td>\n",
       "      <td>NaN</td>\n",
       "      <td>NaN</td>\n",
       "      <td>d41d8cd98f00b204e9800998ecf8427e</td>\n",
       "      <td>10:15:33</td>\n",
       "      <td>MPT</td>\n",
       "    </tr>\n",
       "    <tr>\n",
       "      <th>2</th>\n",
       "      <td>NaN</td>\n",
       "      <td>US</td>\n",
       "      <td>2013-01-01</td>\n",
       "      <td>SFO</td>\n",
       "      <td>1ASIWS</td>\n",
       "      <td>NYC</td>\n",
       "      <td>0</td>\n",
       "      <td>0</td>\n",
       "      <td>0</td>\n",
       "      <td>2</td>\n",
       "      <td>...</td>\n",
       "      <td>NaN</td>\n",
       "      <td>NaN</td>\n",
       "      <td>NaN</td>\n",
       "      <td>NaN</td>\n",
       "      <td>NaN</td>\n",
       "      <td>NaN</td>\n",
       "      <td>NaN</td>\n",
       "      <td>d41d8cd98f00b204e9800998ecf8427e</td>\n",
       "      <td>18:04:49</td>\n",
       "      <td>MPT</td>\n",
       "    </tr>\n",
       "    <tr>\n",
       "      <th>3</th>\n",
       "      <td>NaN</td>\n",
       "      <td>SE</td>\n",
       "      <td>2013-01-01</td>\n",
       "      <td>ARN</td>\n",
       "      <td>1ASI</td>\n",
       "      <td>STO</td>\n",
       "      <td>0</td>\n",
       "      <td>0</td>\n",
       "      <td>0</td>\n",
       "      <td>1</td>\n",
       "      <td>...</td>\n",
       "      <td>NaN</td>\n",
       "      <td>NaN</td>\n",
       "      <td>NaN</td>\n",
       "      <td>NaN</td>\n",
       "      <td>NaN</td>\n",
       "      <td>NaN</td>\n",
       "      <td>NaN</td>\n",
       "      <td>d41d8cd98f00b204e9800998ecf8427e</td>\n",
       "      <td>17:42:40</td>\n",
       "      <td>FXP</td>\n",
       "    </tr>\n",
       "    <tr>\n",
       "      <th>4</th>\n",
       "      <td>NaN</td>\n",
       "      <td>NO</td>\n",
       "      <td>2013-01-01</td>\n",
       "      <td>MAD</td>\n",
       "      <td>1ASIWS</td>\n",
       "      <td>OSL</td>\n",
       "      <td>0</td>\n",
       "      <td>0</td>\n",
       "      <td>0</td>\n",
       "      <td>2</td>\n",
       "      <td>...</td>\n",
       "      <td>NaN</td>\n",
       "      <td>NaN</td>\n",
       "      <td>NaN</td>\n",
       "      <td>NaN</td>\n",
       "      <td>NaN</td>\n",
       "      <td>NaN</td>\n",
       "      <td>NaN</td>\n",
       "      <td>d41d8cd98f00b204e9800998ecf8427e</td>\n",
       "      <td>17:48:29</td>\n",
       "      <td>MPT</td>\n",
       "    </tr>\n",
       "  </tbody>\n",
       "</table>\n",
       "<p>5 rows × 46 columns</p>\n",
       "</div>"
      ],
      "text/plain": [
       "   Booked Country        Date Destination    From InternetOffice  \\\n",
       "0     NaN      DE  2013-01-01         AUH  1ASIWS            FRA   \n",
       "1     NaN      MD  2013-01-01         MIL  1ASIWS            KIV   \n",
       "2     NaN      US  2013-01-01         SFO  1ASIWS            NYC   \n",
       "3     NaN      SE  2013-01-01         ARN    1ASI            STO   \n",
       "4     NaN      NO  2013-01-01         MAD  1ASIWS            OSL   \n",
       "\n",
       "  IsFromInternet IsFromVista IsPublishedForNeg  NbSegments   ...   Seg5Date  \\\n",
       "0              0           0                 0           2   ...        NaN   \n",
       "1              0           0                 0           1   ...        NaN   \n",
       "2              0           0                 0           2   ...        NaN   \n",
       "3              0           0                 0           1   ...        NaN   \n",
       "4              0           0                 0           2   ...        NaN   \n",
       "\n",
       "  Seg5Departure  Seg6Arrival Seg6BookingCode Seg6Carrier Seg6Date  \\\n",
       "0           NaN          NaN             NaN         NaN      NaN   \n",
       "1           NaN          NaN             NaN         NaN      NaN   \n",
       "2           NaN          NaN             NaN         NaN      NaN   \n",
       "3           NaN          NaN             NaN         NaN      NaN   \n",
       "4           NaN          NaN             NaN         NaN      NaN   \n",
       "\n",
       "  Seg6Departure                        TerminalID      Time TxnCode  \n",
       "0           NaN  d41d8cd98f00b204e9800998ecf8427e  20:25:57     MPT  \n",
       "1           NaN  d41d8cd98f00b204e9800998ecf8427e  10:15:33     MPT  \n",
       "2           NaN  d41d8cd98f00b204e9800998ecf8427e  18:04:49     MPT  \n",
       "3           NaN  d41d8cd98f00b204e9800998ecf8427e  17:42:40     FXP  \n",
       "4           NaN  d41d8cd98f00b204e9800998ecf8427e  17:48:29     MPT  \n",
       "\n",
       "[5 rows x 46 columns]"
      ]
     },
     "execution_count": 190,
     "metadata": {},
     "output_type": "execute_result"
    }
   ],
   "source": [
    "result=pd.concat([all_chunks, s_b['Num of Bookings']])\n",
    "result.rename(columns={0:'Booked'}, inplace=True)\n",
    "result.head()"
   ]
  },
  {
   "cell_type": "code",
   "execution_count": 193,
   "metadata": {
    "collapsed": false
   },
   "outputs": [
    {
     "data": {
      "text/html": [
       "<div>\n",
       "<table border=\"1\" class=\"dataframe\">\n",
       "  <thead>\n",
       "    <tr style=\"text-align: right;\">\n",
       "      <th></th>\n",
       "      <th>Booked</th>\n",
       "      <th>Country</th>\n",
       "      <th>Date</th>\n",
       "      <th>Destination</th>\n",
       "      <th>From</th>\n",
       "      <th>InternetOffice</th>\n",
       "      <th>IsFromInternet</th>\n",
       "      <th>IsFromVista</th>\n",
       "      <th>IsPublishedForNeg</th>\n",
       "      <th>NbSegments</th>\n",
       "      <th>...</th>\n",
       "      <th>Seg5Date</th>\n",
       "      <th>Seg5Departure</th>\n",
       "      <th>Seg6Arrival</th>\n",
       "      <th>Seg6BookingCode</th>\n",
       "      <th>Seg6Carrier</th>\n",
       "      <th>Seg6Date</th>\n",
       "      <th>Seg6Departure</th>\n",
       "      <th>TerminalID</th>\n",
       "      <th>Time</th>\n",
       "      <th>TxnCode</th>\n",
       "    </tr>\n",
       "  </thead>\n",
       "  <tbody>\n",
       "    <tr>\n",
       "      <th>0</th>\n",
       "      <td>0</td>\n",
       "      <td>DE</td>\n",
       "      <td>2013-01-01</td>\n",
       "      <td>AUH</td>\n",
       "      <td>1ASIWS</td>\n",
       "      <td>FRA</td>\n",
       "      <td>0</td>\n",
       "      <td>0</td>\n",
       "      <td>0</td>\n",
       "      <td>2</td>\n",
       "      <td>...</td>\n",
       "      <td>NaN</td>\n",
       "      <td>NaN</td>\n",
       "      <td>NaN</td>\n",
       "      <td>NaN</td>\n",
       "      <td>NaN</td>\n",
       "      <td>NaN</td>\n",
       "      <td>NaN</td>\n",
       "      <td>d41d8cd98f00b204e9800998ecf8427e</td>\n",
       "      <td>20:25:57</td>\n",
       "      <td>MPT</td>\n",
       "    </tr>\n",
       "    <tr>\n",
       "      <th>1</th>\n",
       "      <td>0</td>\n",
       "      <td>MD</td>\n",
       "      <td>2013-01-01</td>\n",
       "      <td>MIL</td>\n",
       "      <td>1ASIWS</td>\n",
       "      <td>KIV</td>\n",
       "      <td>0</td>\n",
       "      <td>0</td>\n",
       "      <td>0</td>\n",
       "      <td>1</td>\n",
       "      <td>...</td>\n",
       "      <td>NaN</td>\n",
       "      <td>NaN</td>\n",
       "      <td>NaN</td>\n",
       "      <td>NaN</td>\n",
       "      <td>NaN</td>\n",
       "      <td>NaN</td>\n",
       "      <td>NaN</td>\n",
       "      <td>d41d8cd98f00b204e9800998ecf8427e</td>\n",
       "      <td>10:15:33</td>\n",
       "      <td>MPT</td>\n",
       "    </tr>\n",
       "    <tr>\n",
       "      <th>2</th>\n",
       "      <td>0</td>\n",
       "      <td>US</td>\n",
       "      <td>2013-01-01</td>\n",
       "      <td>SFO</td>\n",
       "      <td>1ASIWS</td>\n",
       "      <td>NYC</td>\n",
       "      <td>0</td>\n",
       "      <td>0</td>\n",
       "      <td>0</td>\n",
       "      <td>2</td>\n",
       "      <td>...</td>\n",
       "      <td>NaN</td>\n",
       "      <td>NaN</td>\n",
       "      <td>NaN</td>\n",
       "      <td>NaN</td>\n",
       "      <td>NaN</td>\n",
       "      <td>NaN</td>\n",
       "      <td>NaN</td>\n",
       "      <td>d41d8cd98f00b204e9800998ecf8427e</td>\n",
       "      <td>18:04:49</td>\n",
       "      <td>MPT</td>\n",
       "    </tr>\n",
       "    <tr>\n",
       "      <th>3</th>\n",
       "      <td>0</td>\n",
       "      <td>SE</td>\n",
       "      <td>2013-01-01</td>\n",
       "      <td>ARN</td>\n",
       "      <td>1ASI</td>\n",
       "      <td>STO</td>\n",
       "      <td>0</td>\n",
       "      <td>0</td>\n",
       "      <td>0</td>\n",
       "      <td>1</td>\n",
       "      <td>...</td>\n",
       "      <td>NaN</td>\n",
       "      <td>NaN</td>\n",
       "      <td>NaN</td>\n",
       "      <td>NaN</td>\n",
       "      <td>NaN</td>\n",
       "      <td>NaN</td>\n",
       "      <td>NaN</td>\n",
       "      <td>d41d8cd98f00b204e9800998ecf8427e</td>\n",
       "      <td>17:42:40</td>\n",
       "      <td>FXP</td>\n",
       "    </tr>\n",
       "    <tr>\n",
       "      <th>4</th>\n",
       "      <td>0</td>\n",
       "      <td>NO</td>\n",
       "      <td>2013-01-01</td>\n",
       "      <td>MAD</td>\n",
       "      <td>1ASIWS</td>\n",
       "      <td>OSL</td>\n",
       "      <td>0</td>\n",
       "      <td>0</td>\n",
       "      <td>0</td>\n",
       "      <td>2</td>\n",
       "      <td>...</td>\n",
       "      <td>NaN</td>\n",
       "      <td>NaN</td>\n",
       "      <td>NaN</td>\n",
       "      <td>NaN</td>\n",
       "      <td>NaN</td>\n",
       "      <td>NaN</td>\n",
       "      <td>NaN</td>\n",
       "      <td>d41d8cd98f00b204e9800998ecf8427e</td>\n",
       "      <td>17:48:29</td>\n",
       "      <td>MPT</td>\n",
       "    </tr>\n",
       "  </tbody>\n",
       "</table>\n",
       "<p>5 rows × 46 columns</p>\n",
       "</div>"
      ],
      "text/plain": [
       "   Booked Country        Date Destination    From InternetOffice  \\\n",
       "0       0      DE  2013-01-01         AUH  1ASIWS            FRA   \n",
       "1       0      MD  2013-01-01         MIL  1ASIWS            KIV   \n",
       "2       0      US  2013-01-01         SFO  1ASIWS            NYC   \n",
       "3       0      SE  2013-01-01         ARN    1ASI            STO   \n",
       "4       0      NO  2013-01-01         MAD  1ASIWS            OSL   \n",
       "\n",
       "  IsFromInternet IsFromVista IsPublishedForNeg  NbSegments   ...   Seg5Date  \\\n",
       "0              0           0                 0           2   ...        NaN   \n",
       "1              0           0                 0           1   ...        NaN   \n",
       "2              0           0                 0           2   ...        NaN   \n",
       "3              0           0                 0           1   ...        NaN   \n",
       "4              0           0                 0           2   ...        NaN   \n",
       "\n",
       "  Seg5Departure  Seg6Arrival Seg6BookingCode Seg6Carrier Seg6Date  \\\n",
       "0           NaN          NaN             NaN         NaN      NaN   \n",
       "1           NaN          NaN             NaN         NaN      NaN   \n",
       "2           NaN          NaN             NaN         NaN      NaN   \n",
       "3           NaN          NaN             NaN         NaN      NaN   \n",
       "4           NaN          NaN             NaN         NaN      NaN   \n",
       "\n",
       "  Seg6Departure                        TerminalID      Time TxnCode  \n",
       "0           NaN  d41d8cd98f00b204e9800998ecf8427e  20:25:57     MPT  \n",
       "1           NaN  d41d8cd98f00b204e9800998ecf8427e  10:15:33     MPT  \n",
       "2           NaN  d41d8cd98f00b204e9800998ecf8427e  18:04:49     MPT  \n",
       "3           NaN  d41d8cd98f00b204e9800998ecf8427e  17:42:40     FXP  \n",
       "4           NaN  d41d8cd98f00b204e9800998ecf8427e  17:48:29     MPT  \n",
       "\n",
       "[5 rows x 46 columns]"
      ]
     },
     "execution_count": 193,
     "metadata": {},
     "output_type": "execute_result"
    }
   ],
   "source": [
    "result.Booked.fillna(value=0, inplace=True)\n",
    "result.head()"
   ]
  },
  {
   "cell_type": "code",
   "execution_count": null,
   "metadata": {
    "collapsed": true
   },
   "outputs": [],
   "source": []
  }
 ],
 "metadata": {
  "kernelspec": {
   "display_name": "Python 2",
   "language": "python",
   "name": "python2"
  },
  "language_info": {
   "codemirror_mode": {
    "name": "ipython",
    "version": 2
   },
   "file_extension": ".py",
   "mimetype": "text/x-python",
   "name": "python",
   "nbconvert_exporter": "python",
   "pygments_lexer": "ipython2",
   "version": "2.7.11"
  }
 },
 "nbformat": 4,
 "nbformat_minor": 0
}
