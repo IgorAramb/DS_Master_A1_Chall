{
 "cells": [
  {
   "cell_type": "markdown",
   "metadata": {},
   "source": [
    "## Write a Web Service\n",
    "\n",
    "Wrap the output of the second exercise in a web service that returns the data in JSON format (instead of printing to the standard output).\n",
    "\n",
    "The web service should accept a parameter n>0. For the top 10 airports, n is 10. For the X top airports, n is X \n"
   ]
  },
  {
   "cell_type": "code",
   "execution_count": 1,
   "metadata": {
    "collapsed": true,
    "deletable": true,
    "editable": true
   },
   "outputs": [],
   "source": [
    "from flask import Flask"
   ]
  },
  {
   "cell_type": "code",
   "execution_count": 2,
   "metadata": {
    "collapsed": true,
    "deletable": true,
    "editable": true
   },
   "outputs": [],
   "source": [
    "app = Flask (\"First web service\")\n",
    "\n",
    "@app.route('/hello', methods=['GET'])\n",
    "\n",
    "def get_hello():\n",
    "    return \"Hello from the service!\""
   ]
  },
  {
   "cell_type": "code",
   "execution_count": 3,
   "metadata": {
    "collapsed": false,
    "deletable": true,
    "editable": true
   },
   "outputs": [
    {
     "name": "stderr",
     "output_type": "stream",
     "text": [
      " * Running on http://127.0.0.1:5000/ (Press CTRL+C to quit)\n",
      "127.0.0.1 - - [19/May/2017 21:02:56] \"\u001b[33mGET / HTTP/1.1\u001b[0m\" 404 -\n",
      "127.0.0.1 - - [19/May/2017 21:02:56] \"\u001b[33mGET /favicon.ico HTTP/1.1\u001b[0m\" 404 -\n",
      "127.0.0.1 - - [19/May/2017 21:02:56] \"\u001b[33mGET /favicon.ico HTTP/1.1\u001b[0m\" 404 -\n",
      "127.0.0.1 - - [19/May/2017 21:03:02] \"\u001b[37mGET /hello HTTP/1.1\u001b[0m\" 200 -\n",
      "127.0.0.1 - - [19/May/2017 21:04:36] \"\u001b[37mGET /hello HTTP/1.1\u001b[0m\" 200 -\n"
     ]
    }
   ],
   "source": [
    "app.run()"
   ]
  },
  {
   "cell_type": "code",
   "execution_count": 4,
   "metadata": {
    "collapsed": true,
    "deletable": true,
    "editable": true
   },
   "outputs": [],
   "source": [
    "app = Flask (\"Second web service\")\n",
    "\n",
    "@app.route('/ret_number/<int:n>', methods=['GET'])\n",
    "\n",
    "def get_hello(n):\n",
    "    return \"The number is: %d\" %n"
   ]
  },
  {
   "cell_type": "code",
   "execution_count": 6,
   "metadata": {
    "collapsed": false,
    "deletable": true,
    "editable": true
   },
   "outputs": [
    {
     "name": "stderr",
     "output_type": "stream",
     "text": [
      " * Running on http://127.0.0.1:5000/ (Press CTRL+C to quit)\n",
      "127.0.0.1 - - [19/May/2017 21:11:56] \"\u001b[37mGET /ret_number/50 HTTP/1.1\u001b[0m\" 200 -\n",
      "127.0.0.1 - - [19/May/2017 21:12:01] \"\u001b[33mGET /retnumber/50 HTTP/1.1\u001b[0m\" 404 -\n",
      "127.0.0.1 - - [19/May/2017 21:12:16] \"\u001b[33mGET /ret_number/-10 HTTP/1.1\u001b[0m\" 404 -\n",
      "127.0.0.1 - - [19/May/2017 21:12:23] \"\u001b[37mGET /ret_number/0 HTTP/1.1\u001b[0m\" 200 -\n",
      "127.0.0.1 - - [19/May/2017 21:12:27] \"\u001b[33mGET /ret_number/dsfsdfsdf HTTP/1.1\u001b[0m\" 404 -\n"
     ]
    }
   ],
   "source": [
    "app.run()"
   ]
  },
  {
   "cell_type": "code",
   "execution_count": 20,
   "metadata": {
    "collapsed": false,
    "deletable": true,
    "editable": true
   },
   "outputs": [
    {
     "name": "stdout",
     "output_type": "stream",
     "text": [
      "/home/dsc/Python/DS_Master_A1_Chall/master4\r\n"
     ]
    }
   ],
   "source": [
    "!pwd"
   ]
  },
  {
   "cell_type": "code",
   "execution_count": 21,
   "metadata": {
    "collapsed": false,
    "deletable": true,
    "editable": true
   },
   "outputs": [
    {
     "name": "stdout",
     "output_type": "stream",
     "text": [
      "/home/dsc/Data/challenge\n"
     ]
    }
   ],
   "source": [
    "cd ~/Data/challenge/"
   ]
  },
  {
   "cell_type": "code",
   "execution_count": 22,
   "metadata": {
    "collapsed": true,
    "deletable": true,
    "editable": true
   },
   "outputs": [],
   "source": [
    "import pandas as pd"
   ]
  },
  {
   "cell_type": "code",
   "execution_count": 23,
   "metadata": {
    "collapsed": true,
    "deletable": true,
    "editable": true
   },
   "outputs": [],
   "source": [
    "top=pd.read_csv('./top_airports.csv', sep='^')"
   ]
  },
  {
   "cell_type": "code",
   "execution_count": 25,
   "metadata": {
    "collapsed": true,
    "deletable": true,
    "editable": true
   },
   "outputs": [
    {
     "data": {
      "text/html": [
       "<div>\n",
       "<table border=\"1\" class=\"dataframe\">\n",
       "  <thead>\n",
       "    <tr style=\"text-align: right;\">\n",
       "      <th></th>\n",
       "      <th>arr_port</th>\n",
       "      <th>pax</th>\n",
       "      <th>Airport Name</th>\n",
       "    </tr>\n",
       "  </thead>\n",
       "  <tbody>\n",
       "    <tr>\n",
       "      <th>0</th>\n",
       "      <td>LHR</td>\n",
       "      <td>88809.0</td>\n",
       "      <td>London Heathrow Airport</td>\n",
       "    </tr>\n",
       "    <tr>\n",
       "      <th>1</th>\n",
       "      <td>MCO</td>\n",
       "      <td>70930.0</td>\n",
       "      <td>Orlando International Airport</td>\n",
       "    </tr>\n",
       "    <tr>\n",
       "      <th>2</th>\n",
       "      <td>LAX</td>\n",
       "      <td>70530.0</td>\n",
       "      <td>Los Angeles International Airport</td>\n",
       "    </tr>\n",
       "    <tr>\n",
       "      <th>3</th>\n",
       "      <td>LAS</td>\n",
       "      <td>69630.0</td>\n",
       "      <td>Mc Carran International Airport</td>\n",
       "    </tr>\n",
       "    <tr>\n",
       "      <th>4</th>\n",
       "      <td>JFK</td>\n",
       "      <td>66270.0</td>\n",
       "      <td>John F Kennedy International Airport</td>\n",
       "    </tr>\n",
       "  </tbody>\n",
       "</table>\n",
       "</div>"
      ],
      "text/plain": [
       "   arr_port      pax                          Airport Name\n",
       "0  LHR       88809.0               London Heathrow Airport\n",
       "1  MCO       70930.0         Orlando International Airport\n",
       "2  LAX       70530.0     Los Angeles International Airport\n",
       "3  LAS       69630.0       Mc Carran International Airport\n",
       "4  JFK       66270.0  John F Kennedy International Airport"
      ]
     },
     "execution_count": 25,
     "metadata": {},
     "output_type": "execute_result"
    }
   ],
   "source": [
    "top.head()"
   ]
  },
  {
   "cell_type": "code",
   "execution_count": 28,
   "metadata": {
    "collapsed": false,
    "deletable": true,
    "editable": true
   },
   "outputs": [
    {
     "data": {
      "text/plain": [
       "'{\"arr_port\":{\"0\":\"LHR     \",\"1\":\"MCO     \"},\"pax\":{\"0\":88809.0,\"1\":70930.0},\"Airport Name\":{\"0\":\"London Heathrow Airport\",\"1\":\"Orlando International Airport\"}}'"
      ]
     },
     "execution_count": 28,
     "metadata": {},
     "output_type": "execute_result"
    }
   ],
   "source": [
    "top.head(2).to_json()"
   ]
  },
  {
   "cell_type": "markdown",
   "metadata": {},
   "source": [
    "http://jsonprettyprint.com/\n",
    "https://jsonformatter.curiousconcept.com/"
   ]
  },
  {
   "cell_type": "code",
   "execution_count": 29,
   "metadata": {
    "collapsed": true,
    "deletable": true,
    "editable": true
   },
   "outputs": [],
   "source": [
    "app = Flask (\"Second web service\")\n",
    "\n",
    "@app.route('/ret_number/<n>', methods=['GET'])\n",
    "\n",
    "def get_hello(n):\n",
    "    try:\n",
    "        numb=int(n)\n",
    "        if numb> 0:\n",
    "            return top.head(numb).to_json()\n",
    "        else:\n",
    "            return \"The number is negative\"\n",
    "    except:\n",
    "        return \"Could not find a number\"\n",
    "\n",
    "@app.route('/', methods=['GET'])\n",
    "def default_page():\n",
    "    return \"Thanks for stopping by\""
   ]
  },
  {
   "cell_type": "code",
   "execution_count": null,
   "metadata": {
    "collapsed": false,
    "deletable": true,
    "editable": true
   },
   "outputs": [
    {
     "name": "stderr",
     "output_type": "stream",
     "text": [
      " * Running on http://127.0.0.1:5000/ (Press CTRL+C to quit)\n",
      "127.0.0.1 - - [19/May/2017 21:44:44] \"\u001b[37mGET /ret_number/100 HTTP/1.1\u001b[0m\" 200 -\n",
      "127.0.0.1 - - [19/May/2017 21:44:52] \"\u001b[37mGET /ret_number/10 HTTP/1.1\u001b[0m\" 200 -\n",
      "127.0.0.1 - - [19/May/2017 21:47:54] \"\u001b[37mGET /ret_number/10 HTTP/1.1\u001b[0m\" 200 -\n",
      "127.0.0.1 - - [19/May/2017 21:48:07] \"\u001b[37mGET /ret_number/100 HTTP/1.1\u001b[0m\" 200 -\n"
     ]
    }
   ],
   "source": [
    "app.run()"
   ]
  },
  {
   "cell_type": "code",
   "execution_count": null,
   "metadata": {
    "collapsed": true,
    "deletable": true,
    "editable": true
   },
   "outputs": [],
   "source": []
  }
 ],
 "metadata": {
  "kernelspec": {
   "display_name": "Python 2",
   "language": "python",
   "name": "python2"
  },
  "language_info": {
   "codemirror_mode": {
    "name": "ipython",
    "version": 2
   },
   "file_extension": ".py",
   "mimetype": "text/x-python",
   "name": "python",
   "nbconvert_exporter": "python",
   "pygments_lexer": "ipython2",
   "version": "2.7.13"
  }
 },
 "nbformat": 4,
 "nbformat_minor": 2
}
