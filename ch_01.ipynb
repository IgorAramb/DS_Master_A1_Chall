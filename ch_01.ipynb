{
 "cells": [
  {
   "cell_type": "markdown",
   "metadata": {},
   "source": [
    "# Count the number of lines in Python for each file"
   ]
  },
  {
   "cell_type": "raw",
   "metadata": {},
   "source": [
    "1. first make a sample\n",
    "bzcat bookings.csv.bz2 | head -10000 > bookings.sample.csv\n",
    "bzip2 bookings.sample.csv\n",
    "\n",
    "Options:\n",
    "    1) Command line\n",
    "    2) python"
   ]
  },
  {
   "cell_type": "markdown",
   "metadata": {},
   "source": [
    "## 1) Command Line"
   ]
  },
  {
   "cell_type": "code",
   "execution_count": 7,
   "metadata": {},
   "outputs": [
    {
     "name": "stdout",
     "output_type": "stream",
     "text": [
      "\n",
      "Automagic is ON, % prefix IS NOT needed for line magics.\n"
     ]
    }
   ],
   "source": [
    "%automagic"
   ]
  },
  {
   "cell_type": "code",
   "execution_count": 1,
   "metadata": {},
   "outputs": [
    {
     "data": {
      "text/plain": [
       "'/Users/igor.arambasic/dev/master/DS_Master_A1_Chall'"
      ]
     },
     "execution_count": 1,
     "metadata": {},
     "output_type": "execute_result"
    }
   ],
   "source": [
    "pwd"
   ]
  },
  {
   "cell_type": "code",
   "execution_count": 2,
   "metadata": {},
   "outputs": [
    {
     "name": "stdout",
     "output_type": "stream",
     "text": [
      "/Users/igor.arambasic/dev/master/data\n"
     ]
    }
   ],
   "source": [
    "cd ../data"
   ]
  },
  {
   "cell_type": "code",
   "execution_count": 10,
   "metadata": {},
   "outputs": [
    {
     "name": "stdout",
     "output_type": "stream",
     "text": [
      "bookings.csv\r\n",
      "bookings.csv.bz2\r\n",
      "searches.csv\r\n",
      "searches.csv.bz2\r\n"
     ]
    }
   ],
   "source": [
    "! ls -1"
   ]
  },
  {
   "cell_type": "code",
   "execution_count": 12,
   "metadata": {},
   "outputs": [],
   "source": [
    "%%bash\n",
    "bzcat bookings.csv.bz2 | head -10000 > bookings.sample.csv\n",
    "bzip2 bookings.sample.csv"
   ]
  },
  {
   "cell_type": "code",
   "execution_count": 13,
   "metadata": {},
   "outputs": [
    {
     "name": "stdout",
     "output_type": "stream",
     "text": [
      "bookings.csv\r\n",
      "bookings.csv.bz2\r\n",
      "bookings.sample.csv.bz2\r\n",
      "searches.csv\r\n",
      "searches.csv.bz2\r\n"
     ]
    }
   ],
   "source": [
    "! ls -1"
   ]
  },
  {
   "cell_type": "code",
   "execution_count": 14,
   "metadata": {},
   "outputs": [
    {
     "name": "stdout",
     "output_type": "stream",
     "text": [
      "   10000\r\n"
     ]
    }
   ],
   "source": [
    "!bzcat ./bookings.sample.csv.bz2 | wc -l"
   ]
  },
  {
   "cell_type": "markdown",
   "metadata": {},
   "source": [
    "## 2) Python:"
   ]
  },
  {
   "cell_type": "raw",
   "metadata": {},
   "source": [
    "Options:\n",
    "    a) without uncompressing\n",
    "    b) using row uncompressed files (so that we can calculate size of not just bz2 files)"
   ]
  },
  {
   "cell_type": "markdown",
   "metadata": {},
   "source": [
    "#### 2a) Python without uncompressing"
   ]
  },
  {
   "cell_type": "code",
   "execution_count": 17,
   "metadata": {},
   "outputs": [],
   "source": [
    "import bz2"
   ]
  },
  {
   "cell_type": "code",
   "execution_count": 4,
   "metadata": {},
   "outputs": [
    {
     "name": "stdout",
     "output_type": "stream",
     "text": [
      "/Users/igor.arambasic/dev/master/data\r\n"
     ]
    }
   ],
   "source": [
    "!pwd"
   ]
  },
  {
   "cell_type": "code",
   "execution_count": 5,
   "metadata": {},
   "outputs": [
    {
     "name": "stdout",
     "output_type": "stream",
     "text": [
      "./bookings.sample.csv.bz2\r\n"
     ]
    }
   ],
   "source": [
    "#!ls ~/Data/challenge/bookings.sample.csv.bz2\n",
    "!ls ./bookings.sample.csv.bz2"
   ]
  },
  {
   "cell_type": "code",
   "execution_count": 18,
   "metadata": {},
   "outputs": [],
   "source": [
    "filename=\"./bookings.sample.csv.bz2\"\n",
    "#fileBz2=bz2.BZ2File('~/Data/challenge/bookings.sample.csv.bz2') # ne radi \" ~ \"  path\n",
    "\n",
    "#fileBz2=bz2.BZ2File(\"/home/dsc/Data/challenge/bookings.sample.csv.bz2\")\n",
    "#fileBz2=bz2.BZ2File(\"../../Data/challenge/bookings.sample.csv.bz2\")\n",
    "fileBz2=bz2.BZ2File(filename)\n"
   ]
  },
  {
   "cell_type": "code",
   "execution_count": 8,
   "metadata": {},
   "outputs": [
    {
     "data": {
      "text/plain": [
       "bz2.BZ2File"
      ]
     },
     "execution_count": 8,
     "metadata": {},
     "output_type": "execute_result"
    }
   ],
   "source": [
    "type(fileBz2)"
   ]
  },
  {
   "cell_type": "code",
   "execution_count": 9,
   "metadata": {},
   "outputs": [
    {
     "name": "stdout",
     "output_type": "stream",
     "text": [
      "./bookings.sample.csv.bz2 has 10000 lines.\n"
     ]
    }
   ],
   "source": [
    "k=0\n",
    "for line in fileBz2:\n",
    "    k+=1\n",
    "print(\"%s has %s lines.\"%(filename,k))"
   ]
  },
  {
   "cell_type": "code",
   "execution_count": 30,
   "metadata": {},
   "outputs": [
    {
     "ename": "NameError",
     "evalue": "name 'bz2' is not defined",
     "output_type": "error",
     "traceback": [
      "\u001b[0;31m---------------------------------------------------------------------------\u001b[0m",
      "\u001b[0;31mNameError\u001b[0m                                 Traceback (most recent call last)",
      "\u001b[0;32m<ipython-input-30-ff182addca04>\u001b[0m in \u001b[0;36m<module>\u001b[0;34m()\u001b[0m\n\u001b[1;32m      1\u001b[0m \u001b[0mfilename\u001b[0m\u001b[0;34m=\u001b[0m\u001b[0;34m\"./bookings.sample.csv.bz2\"\u001b[0m\u001b[0;34m\u001b[0m\u001b[0m\n\u001b[0;32m----> 2\u001b[0;31m \u001b[0mfileBz2\u001b[0m\u001b[0;34m=\u001b[0m\u001b[0mbz2\u001b[0m\u001b[0;34m.\u001b[0m\u001b[0mBZ2File\u001b[0m\u001b[0;34m(\u001b[0m\u001b[0mfilename\u001b[0m\u001b[0;34m)\u001b[0m\u001b[0;34m\u001b[0m\u001b[0m\n\u001b[0m\u001b[1;32m      3\u001b[0m \u001b[0;34m\u001b[0m\u001b[0m\n\u001b[1;32m      4\u001b[0m \u001b[0mk\u001b[0m\u001b[0;34m=\u001b[0m\u001b[0;36m0\u001b[0m\u001b[0;34m\u001b[0m\u001b[0m\n\u001b[1;32m      5\u001b[0m \u001b[0;32mfor\u001b[0m \u001b[0mline\u001b[0m \u001b[0;32min\u001b[0m \u001b[0mfileBz2\u001b[0m\u001b[0;34m:\u001b[0m\u001b[0;34m\u001b[0m\u001b[0m\n",
      "\u001b[0;31mNameError\u001b[0m: name 'bz2' is not defined"
     ]
    }
   ],
   "source": [
    "filename=\"./bookings.sample.csv.bz2\"\n",
    "fileBz2=bz2.BZ2File(filename)\n",
    "\n",
    "k=0\n",
    "for line in fileBz2:\n",
    "    k+=1\n",
    "print(\"%s has %s lines.\"%(filename,k))\n",
    "%whos\n",
    "fileBz2.closed\n"
   ]
  },
  {
   "cell_type": "code",
   "execution_count": 21,
   "metadata": {
    "collapsed": true
   },
   "outputs": [
    {
     "name": "stdout",
     "output_type": "stream",
     "text": [
      "./bookings.sample.csv.bz2 has 10 lines.\n",
      "Variable     Type             Data/Info\n",
      "---------------------------------------\n",
      "FileName     str              bookings.sample.csv\n",
      "bz2          module           <module 'bz2' from '/User<...>a3/lib/python3.7/bz2.py'>\n",
      "f            TextIOWrapper    <_io.TextIOWrapper name='<...>ode='r' encoding='UTF-8'>\n",
      "fileBz2      BZ2File          <bz2.BZ2File object at 0x110ca86d8>\n",
      "file_input   BZ2File          <bz2.BZ2File object at 0x110ca8898>\n",
      "filename     str              ./bookings.sample.csv.bz2\n",
      "k            int              10\n",
      "line         bytes            b'2013-03-25 00:00:00^1V <...>:29^2^2013^3^NULL     \\n'\n"
     ]
    },
    {
     "data": {
      "text/plain": [
       "False"
      ]
     },
     "execution_count": 21,
     "metadata": {},
     "output_type": "execute_result"
    }
   ],
   "source": [
    "filename=\"./bookings.sample.csv.bz2\"\n",
    "with bz2.BZ2File(filename) as file_input:\n",
    "    k=0\n",
    "    for line in file_input:\n",
    "        k+=1\n",
    "        if k==10:\n",
    "            break\n",
    "print (\"%s has %s lines.\"%(filename,k))\n",
    "\n",
    "%whos\n",
    "fileBz2.closed\n"
   ]
  },
  {
   "cell_type": "code",
   "execution_count": 22,
   "metadata": {},
   "outputs": [],
   "source": [
    "fileBz2.close()"
   ]
  },
  {
   "cell_type": "code",
   "execution_count": 23,
   "metadata": {},
   "outputs": [
    {
     "data": {
      "text/plain": [
       "True"
      ]
     },
     "execution_count": 23,
     "metadata": {},
     "output_type": "execute_result"
    }
   ],
   "source": [
    "fileBz2.closed"
   ]
  },
  {
   "cell_type": "markdown",
   "metadata": {},
   "source": [
    "#### 2b) Python on row uncompressed file"
   ]
  },
  {
   "cell_type": "code",
   "execution_count": 26,
   "metadata": {
    "collapsed": true
   },
   "outputs": [],
   "source": [
    "FileName='./data/bookings.sample.csv.csv'\n",
    "path='/home/dsc/Data/challenge'\n",
    "file_name='bookings.sample.csv.bz2'\n",
    "#file_name='bookings.csv.bz2'\n",
    "FileName=path+'/'+file_name"
   ]
  },
  {
   "cell_type": "code",
   "execution_count": 24,
   "metadata": {},
   "outputs": [],
   "source": [
    "FileName='bookings.sample.csv'\n",
    "#path='/home/dsc/Data/challenge'\n",
    "#file_name='bookings.sample.csv.bz2'\n",
    "#file_name='bookings.csv.bz2'\n",
    "#FileName=path+'/'+file_name"
   ]
  },
  {
   "cell_type": "code",
   "execution_count": 37,
   "metadata": {},
   "outputs": [
    {
     "name": "stdout",
     "output_type": "stream",
     "text": [
      "Once deleted, variables cannot be recovered. Proceed (y/[n])? y\n"
     ]
    }
   ],
   "source": [
    "reset"
   ]
  },
  {
   "cell_type": "code",
   "execution_count": 31,
   "metadata": {},
   "outputs": [
    {
     "name": "stdout",
     "output_type": "stream",
     "text": [
      "bookings.sample.csv has 10 lines.\n",
      "bookings.sample.csv has 100 lines.\n"
     ]
    }
   ],
   "source": [
    "f=open(FileName, \"r\")\n",
    "#%whos\n",
    "\n",
    "k=0\n",
    "for line in f:\n",
    "    k+=1\n",
    "    if k==10:\n",
    "        break\n",
    "print (\"%s has %s lines.\"%(FileName,k))\n",
    "\n",
    "\n",
    "for line in f:\n",
    "    k+=1\n",
    "    if k==100:\n",
    "        break\n",
    "print (\"%s has %s lines.\"%(FileName,k))\n",
    "\n"
   ]
  },
  {
   "cell_type": "markdown",
   "metadata": {},
   "source": [
    "## Did we close the file (not important for now)\n"
   ]
  },
  {
   "cell_type": "code",
   "execution_count": 32,
   "metadata": {},
   "outputs": [
    {
     "name": "stdout",
     "output_type": "stream",
     "text": [
      "bookings.sample.csv has 10 lines.\n"
     ]
    },
    {
     "data": {
      "text/plain": [
       "True"
      ]
     },
     "execution_count": 32,
     "metadata": {},
     "output_type": "execute_result"
    }
   ],
   "source": [
    "FileName='bookings.sample.csv'\n",
    "\n",
    "with open(FileName, \"r\") as file_input:\n",
    "    k=0\n",
    "    for line in file_input:\n",
    "        k+=1\n",
    "        if k==10:\n",
    "            break\n",
    "print (\"%s has %s lines.\"%(FileName,k))\n",
    "#%whos\n",
    "file_input.closed\n",
    "\n",
    "#for line in file_input:\n",
    "#    k+=1\n",
    "#    if k==100:\n",
    "#        break\n",
    "#print (\"%s has %s lines.\"%(FileName,k))"
   ]
  },
  {
   "cell_type": "code",
   "execution_count": 15,
   "metadata": {},
   "outputs": [
    {
     "data": {
      "text/plain": [
       "False"
      ]
     },
     "execution_count": 15,
     "metadata": {},
     "output_type": "execute_result"
    }
   ],
   "source": [
    "f.closed"
   ]
  },
  {
   "cell_type": "markdown",
   "metadata": {},
   "source": [
    "https://stackoverflow.com/questions/25070854/why-should-i-close-files-in-python\n",
    "https://www.quora.com/Why-is-it-so-important-to-close-files-that-have-been-opened-in-Python\n"
   ]
  },
  {
   "cell_type": "code",
   "execution_count": 70,
   "metadata": {},
   "outputs": [
    {
     "name": "stdout",
     "output_type": "stream",
     "text": [
      "bookings.sample.csv has 10000 lines.\n"
     ]
    }
   ],
   "source": [
    "with open(FileName, \"r\") as file_input:\n",
    "    for k, line in enumerate(file_input):\n",
    "        pass\n",
    "print (\"%s has %s lines.\"%(FileName,k+1))"
   ]
  },
  {
   "cell_type": "code",
   "execution_count": 40,
   "metadata": {},
   "outputs": [
    {
     "name": "stdout",
     "output_type": "stream",
     "text": [
      "(0, 'igor')\n",
      "(1, 'ivana')\n",
      "(2, 'jurica')\n"
     ]
    }
   ],
   "source": [
    "moja_lista=[\"igor\",'ivana','jurica']\n",
    "for k in enumerate(moja_lista):\n",
    "    print (k)"
   ]
  },
  {
   "cell_type": "code",
   "execution_count": 41,
   "metadata": {},
   "outputs": [
    {
     "name": "stdout",
     "output_type": "stream",
     "text": [
      "0 igor\n",
      "1 ivana\n",
      "2 jurica\n"
     ]
    }
   ],
   "source": [
    "moja_lista=[\"igor\",'ivana','jurica']\n",
    "for i, k in enumerate(moja_lista):\n",
    "    print (i,k)"
   ]
  },
  {
   "cell_type": "code",
   "execution_count": 17,
   "metadata": {},
   "outputs": [
    {
     "name": "stdout",
     "output_type": "stream",
     "text": [
      "./data/bookings.sample.csv.csv has 10000 lines.\n"
     ]
    }
   ],
   "source": [
    "with open(FileName, \"r\") as file_input:\n",
    "    row_count = sum([1 for row in file_input])\n",
    "print \"%s has %s lines.\"%(FileName,row_count)"
   ]
  },
  {
   "cell_type": "code",
   "execution_count": 115,
   "metadata": {},
   "outputs": [
    {
     "data": {
      "text/plain": [
       "10000"
      ]
     },
     "execution_count": 115,
     "metadata": {},
     "output_type": "execute_result"
    }
   ],
   "source": [
    "num_lines1 = sum(1 for line in open('Bookings.sample.csv'))\n",
    "num_lines1"
   ]
  },
  {
   "cell_type": "code",
   "execution_count": 32,
   "metadata": {},
   "outputs": [
    {
     "data": {
      "text/plain": [
       "[1, 1, 1, 1]"
      ]
     },
     "execution_count": 32,
     "metadata": {},
     "output_type": "execute_result"
    }
   ],
   "source": [
    "[1 for letters in list(\"abcd\")]"
   ]
  },
  {
   "cell_type": "code",
   "execution_count": 78,
   "metadata": {},
   "outputs": [
    {
     "data": {
      "text/plain": [
       "[1, 1, 1, 1]"
      ]
     },
     "execution_count": 78,
     "metadata": {},
     "output_type": "execute_result"
    }
   ],
   "source": [
    "my_list=[]\n",
    "for element in list(\"abcd\"):\n",
    "    my_list.append(1)\n",
    "my_list"
   ]
  },
  {
   "cell_type": "code",
   "execution_count": 77,
   "metadata": {},
   "outputs": [
    {
     "data": {
      "text/plain": [
       "4"
      ]
     },
     "execution_count": 77,
     "metadata": {},
     "output_type": "execute_result"
    }
   ],
   "source": [
    "sum([1 for letters in list(\"abcd\")])"
   ]
  },
  {
   "cell_type": "markdown",
   "metadata": {},
   "source": [
    "## 3) What if the file didnt exist? Use Try-except..."
   ]
  },
  {
   "cell_type": "code",
   "execution_count": 83,
   "metadata": {},
   "outputs": [],
   "source": [
    "FileName='ch_df01.ipynb'\n",
    "#FileName='bookings.sample.csv'\n",
    "\n",
    "#FileName=\"/home/dsc/Data/challenge/bookings.sample.csv.bz2\""
   ]
  },
  {
   "cell_type": "code",
   "execution_count": 84,
   "metadata": {},
   "outputs": [
    {
     "name": "stdout",
     "output_type": "stream",
     "text": [
      "No pude convertir el dato a un entero.\n"
     ]
    }
   ],
   "source": [
    "try:\n",
    "    with open(FileName, \"r\") as file_input:\n",
    "        for k, line in enumerate(file_input):\n",
    "            pass\n",
    "    #k=int('asdasd')\n",
    "    print (\"%s has %s lines.\"%(FileName,k+1))\n",
    "except IOError:\n",
    "    print (\"Error! File %s did not open!\" %(FileName))\n",
    "except ValueError:\n",
    "    print(\"No pude convertir el dato a un entero.\")\n",
    "except:\n",
    "    print (\"unexpected error\")\n",
    "        "
   ]
  },
  {
   "cell_type": "markdown",
   "metadata": {},
   "source": [
    "### 3) Did he mean each csv file? Find file size for all csv files in the path... Use glob library"
   ]
  },
  {
   "cell_type": "code",
   "execution_count": 87,
   "metadata": {},
   "outputs": [],
   "source": [
    "def number_of_line_csv(filename):\n",
    "    with open(filename, \"r\") as file_input:\n",
    "        for k, line in enumerate(file_input):\n",
    "            pass\n",
    "    return k+1"
   ]
  },
  {
   "cell_type": "code",
   "execution_count": 94,
   "metadata": {},
   "outputs": [
    {
     "name": "stdout",
     "output_type": "stream",
     "text": [
      "['bookings.sample.csv']\n",
      "number of lines in bookings.sample.csv : 10000\n"
     ]
    }
   ],
   "source": [
    "import glob\n",
    "files_to_read = glob.glob(\"*.sample.csv\")\n",
    "print(files_to_read)\n",
    "for file_name in files_to_read:\n",
    "    print (\"number of lines in %s : %d\"% (file_name, number_of_line_csv(file_name)))"
   ]
  },
  {
   "cell_type": "code",
   "execution_count": 95,
   "metadata": {},
   "outputs": [
    {
     "name": "stdout",
     "output_type": "stream",
     "text": [
      "[]\n",
      "['bookings.csv', 'bookings.csv.bz2', 'bookings.sample.csv', 'bookings.sample.csv.bz2', 'searches.csv', 'searches.csv.bz2']\n",
      "['bookings.csv.bz2', 'bookings.sample.csv.bz2', 'searches.csv.bz2']\n"
     ]
    }
   ],
   "source": [
    "import glob\n",
    "print (glob.glob(\"\"))\n",
    "print( glob.glob(\"*\"))\n",
    "print (glob.glob(\"*.bz2\"))"
   ]
  },
  {
   "cell_type": "markdown",
   "metadata": {},
   "source": [
    "https://docs.python.org/2/library/glob.html"
   ]
  },
  {
   "cell_type": "markdown",
   "metadata": {},
   "source": [
    "The glob module finds all the pathnames matching a specified pattern according to the rules used by the Unix shell, although results are returned in arbitrary order. No tilde expansion is done, but *, ?, and character ranges expressed with [] will be correctly matched. \n",
    "\n",
    "For a literal match, wrap the meta-characters in brackets. For example, '[?]' matches the character '?'.\n",
    "\n",
    "glob.glob(pathname)\n",
    "Return a possibly-empty list of path names that match pathname, which must be a string containing a path specification. pathname can be either absolute (like /usr/src/Python-1.5/Makefile) or relative (like ../../Tools/*/*.gif), and can contain shell-style wildcards. Broken symlinks are included in the results (as in the shell).\n",
    "\n",
    "glob.iglob(pathname)\n",
    "Return an iterator which yields the same values as glob() without actually storing them all simultaneously."
   ]
  },
  {
   "cell_type": "code",
   "execution_count": 9,
   "metadata": {},
   "outputs": [
    {
     "data": {
      "text/plain": [
       "[]"
      ]
     },
     "execution_count": 9,
     "metadata": {},
     "output_type": "execute_result"
    }
   ],
   "source": [
    "glob.glob(\"*.bz2\")"
   ]
  },
  {
   "cell_type": "code",
   "execution_count": 10,
   "metadata": {},
   "outputs": [
    {
     "data": {
      "text/plain": [
       "<generator object iglob at 0x7f3144558aa0>"
      ]
     },
     "execution_count": 10,
     "metadata": {},
     "output_type": "execute_result"
    }
   ],
   "source": [
    "glob.iglob(\"*.bz2\")"
   ]
  },
  {
   "cell_type": "code",
   "execution_count": 98,
   "metadata": {},
   "outputs": [
    {
     "name": "stdout",
     "output_type": "stream",
     "text": [
      "bookings.csv.bz2\n",
      "bookings.sample.csv.bz2\n",
      "searches.csv.bz2\n"
     ]
    }
   ],
   "source": [
    "for file in glob.iglob(\"*.bz2\"):\n",
    "    print (file)"
   ]
  },
  {
   "cell_type": "code",
   "execution_count": 12,
   "metadata": {},
   "outputs": [],
   "source": [
    "for file in glob.glob(\"*.bz2\"):\n",
    "    print file"
   ]
  },
  {
   "cell_type": "code",
   "execution_count": 107,
   "metadata": {},
   "outputs": [],
   "source": [
    "a=glob.glob(\"*.bz2\");\n",
    "i=glob.iglob(\"*.bz2\")"
   ]
  },
  {
   "cell_type": "code",
   "execution_count": 108,
   "metadata": {},
   "outputs": [
    {
     "data": {
      "text/plain": [
       "['bookings.csv.bz2', 'bookings.sample.csv.bz2', 'searches.csv.bz2']"
      ]
     },
     "execution_count": 108,
     "metadata": {},
     "output_type": "execute_result"
    }
   ],
   "source": [
    "a"
   ]
  },
  {
   "cell_type": "code",
   "execution_count": 103,
   "metadata": {},
   "outputs": [
    {
     "data": {
      "text/plain": [
       "<generator object _iglob at 0x109e635e8>"
      ]
     },
     "execution_count": 103,
     "metadata": {},
     "output_type": "execute_result"
    }
   ],
   "source": [
    "i"
   ]
  },
  {
   "cell_type": "markdown",
   "metadata": {},
   "source": [
    "Generator functions allow you to declare a function that behaves like an iterator, i.e. it can be used in a for loop.\n",
    "\n"
   ]
  },
  {
   "cell_type": "code",
   "execution_count": 105,
   "metadata": {},
   "outputs": [
    {
     "name": "stdout",
     "output_type": "stream",
     "text": [
      "bookings.csv.bz2\n",
      "bookings.sample.csv.bz2\n",
      "searches.csv.bz2\n"
     ]
    }
   ],
   "source": [
    "for file_name in i:\n",
    "    print(file_name)"
   ]
  },
  {
   "cell_type": "code",
   "execution_count": 109,
   "metadata": {},
   "outputs": [
    {
     "data": {
      "text/plain": [
       "'bookings.csv.bz2'"
      ]
     },
     "execution_count": 109,
     "metadata": {},
     "output_type": "execute_result"
    }
   ],
   "source": [
    "next(i)"
   ]
  },
  {
   "cell_type": "markdown",
   "metadata": {},
   "source": [
    "A Python iterator returns us an iterator object- one value at a time. Let’s take an example of an iterator in python.\n",
    "\n",
    "https://data-flair.training/blogs/python-generator-vs-iterator/"
   ]
  },
  {
   "cell_type": "markdown",
   "metadata": {},
   "source": [
    "iterator\n",
    "\n",
    "An object representing a stream of data. Repeated calls to the iterator’s next() method return successive items in the stream. When no more data are available a StopIteration exception is raised instead. At this point, the iterator object is exhausted and any further calls to its next() method just raise StopIteration again."
   ]
  },
  {
   "cell_type": "markdown",
   "metadata": {},
   "source": [
    "a. A python generator is an iterator\n",
    "Generator in python is a subclass of Iterator.\n",
    "Every generator is an iterator in Python, not every python iterator is a generator"
   ]
  },
  {
   "cell_type": "code",
   "execution_count": 111,
   "metadata": {},
   "outputs": [],
   "source": [
    "iter_test=iter(\"abcd\")"
   ]
  },
  {
   "cell_type": "code",
   "execution_count": 112,
   "metadata": {},
   "outputs": [
    {
     "data": {
      "text/plain": [
       "str_iterator"
      ]
     },
     "execution_count": 112,
     "metadata": {},
     "output_type": "execute_result"
    }
   ],
   "source": [
    "type(iter_test)"
   ]
  },
  {
   "cell_type": "code",
   "execution_count": 39,
   "metadata": {},
   "outputs": [
    {
     "data": {
      "text/plain": [
       "4"
      ]
     },
     "execution_count": 39,
     "metadata": {},
     "output_type": "execute_result"
    }
   ],
   "source": [
    "sum([1,3])"
   ]
  },
  {
   "cell_type": "code",
   "execution_count": 42,
   "metadata": {},
   "outputs": [
    {
     "name": "stdout",
     "output_type": "stream",
     "text": [
      "1\n",
      "1\n"
     ]
    }
   ],
   "source": [
    "for row in a:\n",
    "    print 1"
   ]
  },
  {
   "cell_type": "code",
   "execution_count": 77,
   "metadata": {},
   "outputs": [
    {
     "data": {
      "text/plain": [
       "[1, 1, 1, 1, 1, 1, 1, 1, 1, 1]"
      ]
     },
     "execution_count": 77,
     "metadata": {},
     "output_type": "execute_result"
    }
   ],
   "source": [
    "a=[]\n",
    "for i in xrange(10):\n",
    "    a.append(1) \n",
    "a"
   ]
  },
  {
   "cell_type": "code",
   "execution_count": 82,
   "metadata": {},
   "outputs": [
    {
     "data": {
      "text/plain": [
       "[1, 1, 1, 1, 1, 1, 1, 1, 1, 1]"
      ]
     },
     "execution_count": 82,
     "metadata": {},
     "output_type": "execute_result"
    }
   ],
   "source": [
    "[1 for i in range(10)]    "
   ]
  },
  {
   "cell_type": "code",
   "execution_count": 113,
   "metadata": {},
   "outputs": [],
   "source": [
    "num_lines1 = sum(1 for line in open('Bookings.sample.csv'))\n",
    "num_lines1"
   ]
  },
  {
   "cell_type": "code",
   "execution_count": 114,
   "metadata": {},
   "outputs": [
    {
     "data": {
      "text/plain": [
       "10000"
      ]
     },
     "execution_count": 114,
     "metadata": {},
     "output_type": "execute_result"
    }
   ],
   "source": [
    "num_lines1"
   ]
  },
  {
   "cell_type": "code",
   "execution_count": null,
   "metadata": {},
   "outputs": [],
   "source": []
  }
 ],
 "metadata": {
  "kernelspec": {
   "display_name": "Python 3",
   "language": "python",
   "name": "python3"
  },
  "language_info": {
   "codemirror_mode": {
    "name": "ipython",
    "version": 3
   },
   "file_extension": ".py",
   "mimetype": "text/x-python",
   "name": "python",
   "nbconvert_exporter": "python",
   "pygments_lexer": "ipython3",
   "version": "3.6.4"
  }
 },
 "nbformat": 4,
 "nbformat_minor": 1
}
