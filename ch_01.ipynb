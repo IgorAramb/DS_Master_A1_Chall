{
 "cells": [
  {
   "cell_type": "markdown",
   "metadata": {
    "deletable": true,
    "editable": true
   },
   "source": [
    "# Count the number of lines in Python for each file"
   ]
  },
  {
   "cell_type": "raw",
   "metadata": {
    "deletable": true,
    "editable": true
   },
   "source": [
    "1. first make a sample\n",
    "! bzcat bookings.sample.csv.bz2 | head -10000 > bookings.sample.csv.csv\n",
    "bzip2\n",
    "\n",
    "Options:\n",
    "    1) Command line\n",
    "    2) python"
   ]
  },
  {
   "cell_type": "markdown",
   "metadata": {
    "deletable": true,
    "editable": true
   },
   "source": [
    "## 1) Command Line"
   ]
  },
  {
   "cell_type": "code",
   "execution_count": 2,
   "metadata": {
    "collapsed": false,
    "deletable": true,
    "editable": true
   },
   "outputs": [
    {
     "name": "stdout",
     "output_type": "stream",
     "text": [
      "bad_date.csv\r\n",
      "bookings.csv.bz2\r\n",
      "bookings.sample.csv.bz2\r\n",
      "bookings.sample.csv.csv\r\n",
      "new_sample.bookings.csv\r\n",
      "new_sample.bookings.csv.bz2\r\n",
      "searches.clean.csv.bz2\r\n",
      "searches.clean.no_dupl.csv\r\n",
      "searches.csv.bz2\r\n",
      "searches.sample.csv.bz2\r\n",
      "searches.sample.csv.csv\r\n",
      "top_airports2.csv\r\n",
      "top_airports.csv\r\n"
     ]
    }
   ],
   "source": [
    "! ls -1 data"
   ]
  },
  {
   "cell_type": "code",
   "execution_count": 4,
   "metadata": {
    "collapsed": false,
    "deletable": true,
    "editable": true
   },
   "outputs": [
    {
     "name": "stdout",
     "output_type": "stream",
     "text": [
      "10000\r\n"
     ]
    }
   ],
   "source": [
    "!bzcat ./data/bookings.sample.csv.bz2 | wc -l"
   ]
  },
  {
   "cell_type": "markdown",
   "metadata": {
    "deletable": true,
    "editable": true
   },
   "source": [
    "## 2) Python:"
   ]
  },
  {
   "cell_type": "raw",
   "metadata": {
    "deletable": true,
    "editable": true
   },
   "source": [
    "Options:\n",
    "    a) without uncompressing\n",
    "    b) using row uncompressed files (so that we can calculate size of not just bz2 files)"
   ]
  },
  {
   "cell_type": "markdown",
   "metadata": {
    "deletable": true,
    "editable": true
   },
   "source": [
    "#### 2a) Python without uncompressing"
   ]
  },
  {
   "cell_type": "code",
   "execution_count": 6,
   "metadata": {
    "collapsed": false,
    "deletable": true,
    "editable": true
   },
   "outputs": [],
   "source": [
    "import bz2"
   ]
  },
  {
   "cell_type": "code",
   "execution_count": 8,
   "metadata": {
    "collapsed": false,
    "deletable": true,
    "editable": true
   },
   "outputs": [
    {
     "name": "stdout",
     "output_type": "stream",
     "text": [
      "/home/dsc/Python/DS_Master_A1_Chall\r\n"
     ]
    }
   ],
   "source": [
    "!pwd"
   ]
  },
  {
   "cell_type": "code",
   "execution_count": 10,
   "metadata": {
    "collapsed": false,
    "deletable": true,
    "editable": true
   },
   "outputs": [
    {
     "name": "stdout",
     "output_type": "stream",
     "text": [
      "/home/dsc/Data/challenge/bookings.sample.csv.bz2\r\n"
     ]
    }
   ],
   "source": [
    "!ls ~/Data/challenge/bookings.sample.csv.bz2"
   ]
  },
  {
   "cell_type": "code",
   "execution_count": 16,
   "metadata": {
    "collapsed": false,
    "deletable": true,
    "editable": true
   },
   "outputs": [],
   "source": [
    "fileBz2=bz2.BZ2File(\"/home/dsc/Data/challenge/bookings.sample.csv.bz2\")\n"
   ]
  },
  {
   "cell_type": "code",
   "execution_count": 23,
   "metadata": {
    "collapsed": false,
    "deletable": true,
    "editable": true
   },
   "outputs": [],
   "source": [
    "fileBz2=bz2.BZ2File(\"../../Data/challenge/bookings.sample.csv.bz2\")\n",
    "#fileBz2=bz2.BZ2File('~/Data/challenge/bookings.sample.csv.bz2') ne radi \" ~ \"  path"
   ]
  },
  {
   "cell_type": "code",
   "execution_count": 49,
   "metadata": {
    "collapsed": false
   },
   "outputs": [
    {
     "data": {
      "text/plain": [
       "'/home/dsc'"
      ]
     },
     "execution_count": 49,
     "metadata": {},
     "output_type": "execute_result"
    }
   ],
   "source": [
    "import os\n",
    "os.getenv(\"HOME\")\n",
    "#this does not work on Windows"
   ]
  },
  {
   "cell_type": "code",
   "execution_count": 47,
   "metadata": {
    "collapsed": false
   },
   "outputs": [
    {
     "name": "stdout",
     "output_type": "stream",
     "text": [
      "/home/dsc\n"
     ]
    }
   ],
   "source": [
    "#the correct cross-platform\n",
    "from os.path import expanduser\n",
    "home = expanduser(\"~\")\n",
    "print home\n",
    "f=open(home+\"/Data/challenge/bookings.sample.csv.bz2\")"
   ]
  },
  {
   "cell_type": "code",
   "execution_count": 24,
   "metadata": {
    "collapsed": false,
    "deletable": true,
    "editable": true
   },
   "outputs": [
    {
     "name": "stdout",
     "output_type": "stream",
     "text": [
      "../../Data/challenge/bookings.sample.csv.bz2 has 1000 lines.\n"
     ]
    }
   ],
   "source": [
    "k=0\n",
    "for line in fileBz2:\n",
    "    k+=1\n",
    "print \"%s has %s lines.\"%(fileBz2.name,k)"
   ]
  },
  {
   "cell_type": "markdown",
   "metadata": {
    "deletable": true,
    "editable": true
   },
   "source": [
    "#### 2b) Python on row uncompressed file"
   ]
  },
  {
   "cell_type": "code",
   "execution_count": 26,
   "metadata": {
    "collapsed": true,
    "deletable": true,
    "editable": true
   },
   "outputs": [],
   "source": [
    "FileName='./data/bookings.sample.csv.csv'\n",
    "path='/home/dsc/Data/challenge'\n",
    "file_name='bookings.sample.csv.bz2'\n",
    "#file_name='bookings.csv.bz2'\n",
    "FileName=path+'/'+file_name"
   ]
  },
  {
   "cell_type": "code",
   "execution_count": 27,
   "metadata": {
    "collapsed": false,
    "deletable": true,
    "editable": true
   },
   "outputs": [
    {
     "name": "stdout",
     "output_type": "stream",
     "text": [
      "/home/dsc/Data/challenge/bookings.sample.csv.bz2 has 10 lines.\n",
      "Variable     Type       Data/Info\n",
      "---------------------------------\n",
      "FileName     str        /home/dsc/Data/challenge/bookings.sample.csv.bz2\n",
      "bz2          module     <module 'bz2' from '/home<...>n2.7/lib-dynload/bz2.so'>\n",
      "fileBz2      BZ2File    <bz2.BZ2File object at 0x7f66d913f648>\n",
      "file_input   file       <closed file '/home/dsc/D<...>de 'r' at 0x7f66d9348ae0>\n",
      "file_name    str        bookings.sample.csv.bz2\n",
      "k            int        10\n",
      "line         str        �\u0013:P�PCY�/;�=F@;�,�|�س/f<...>j�\u00055�����\u001b!�<X�X6R�Y�<R\\n\n",
      "path         str        /home/dsc/Data/challenge\n"
     ]
    },
    {
     "data": {
      "text/plain": [
       "True"
      ]
     },
     "execution_count": 27,
     "metadata": {},
     "output_type": "execute_result"
    }
   ],
   "source": [
    "with open(FileName, \"r\") as file_input:\n",
    "    k=0\n",
    "    for line in file_input:\n",
    "        k+=1\n",
    "        if k==10:\n",
    "            break\n",
    "print \"%s has %s lines.\"%(FileName,k)\n",
    "%whos\n",
    "file_input.closed"
   ]
  },
  {
   "cell_type": "code",
   "execution_count": 30,
   "metadata": {
    "collapsed": false,
    "deletable": true,
    "editable": true
   },
   "outputs": [
    {
     "name": "stdout",
     "output_type": "stream",
     "text": [
      "Variable     Type       Data/Info\n",
      "---------------------------------\n",
      "FileName     str        /home/dsc/Data/challenge/bookings.sample.csv.bz2\n",
      "bz2          module     <module 'bz2' from '/home<...>n2.7/lib-dynload/bz2.so'>\n",
      "f            file       <open file '/home/dsc/Dat<...>de 'r' at 0x7f66d9348d20>\n",
      "fileBz2      BZ2File    <bz2.BZ2File object at 0x7f66d913f648>\n",
      "file_input   file       <closed file '/home/dsc/D<...>de 'r' at 0x7f66d9348ae0>\n",
      "file_name    str        bookings.sample.csv.bz2\n",
      "k            int        10\n",
      "line         str        �\u0013:P�PCY�/;�=F@;�,�|�س/f<...>j�\u00055�����\u001b!�<X�X6R�Y�<R\\n\n",
      "path         str        /home/dsc/Data/challenge\n"
     ]
    }
   ],
   "source": [
    "f=open(FileName, \"r\")\n",
    "%whos"
   ]
  },
  {
   "cell_type": "code",
   "execution_count": 16,
   "metadata": {
    "collapsed": false,
    "deletable": true,
    "editable": true
   },
   "outputs": [
    {
     "name": "stdout",
     "output_type": "stream",
     "text": [
      "./data/bookings.sample.csv.csv has 10000 lines.\n"
     ]
    }
   ],
   "source": [
    "with open(FileName, \"r\") as file_input:\n",
    "    for k, line in enumerate(file_input):\n",
    "        pass\n",
    "print \"%s has %s lines.\"%(FileName,k+1)"
   ]
  },
  {
   "cell_type": "code",
   "execution_count": 17,
   "metadata": {
    "collapsed": false,
    "deletable": true,
    "editable": true
   },
   "outputs": [
    {
     "name": "stdout",
     "output_type": "stream",
     "text": [
      "./data/bookings.sample.csv.csv has 10000 lines.\n"
     ]
    }
   ],
   "source": [
    "with open(FileName, \"r\") as file_input:\n",
    "    row_count = sum([1 for row in file_input])\n",
    "print \"%s has %s lines.\"%(FileName,row_count)"
   ]
  },
  {
   "cell_type": "code",
   "execution_count": 32,
   "metadata": {
    "collapsed": false,
    "deletable": true,
    "editable": true
   },
   "outputs": [
    {
     "data": {
      "text/plain": [
       "[1, 1, 1, 1]"
      ]
     },
     "execution_count": 32,
     "metadata": {},
     "output_type": "execute_result"
    }
   ],
   "source": [
    "[1 for letters in list(\"abcd\")]"
   ]
  },
  {
   "cell_type": "markdown",
   "metadata": {
    "deletable": true,
    "editable": true
   },
   "source": [
    "## 3) What if the file didnt exist? Use Try-except..."
   ]
  },
  {
   "cell_type": "code",
   "execution_count": 40,
   "metadata": {
    "collapsed": true,
    "deletable": true,
    "editable": true
   },
   "outputs": [],
   "source": [
    "FileName='ch_df01.ipynb'\n",
    "#FileName=\"/home/dsc/Data/challenge/bookings.sample.csv.bz2\""
   ]
  },
  {
   "cell_type": "code",
   "execution_count": 41,
   "metadata": {
    "collapsed": false,
    "deletable": true,
    "editable": true
   },
   "outputs": [
    {
     "name": "stdout",
     "output_type": "stream",
     "text": [
      "No pude convertir el dato a un entero.\n"
     ]
    }
   ],
   "source": [
    "try:\n",
    "    with open(FileName, \"r\") as file_input:\n",
    "        for k, line in enumerate(file_input):\n",
    "            pass\n",
    "    #k=int('asdasd')\n",
    "    print \"%s has %s lines.\"%(FileName,k+1)\n",
    "except IOError:\n",
    "    print \"Error! File %s did not open!\" %(FileName)\n",
    "except ValueError:\n",
    "    print(\"No pude convertir el dato a un entero.\")\n",
    "except:\n",
    "    print \"unexpected error\"\n",
    "        "
   ]
  },
  {
   "cell_type": "markdown",
   "metadata": {
    "deletable": true,
    "editable": true
   },
   "source": [
    "### 3) Did he mean each csv file? Find file size for all csv files in the path... Use glob library"
   ]
  },
  {
   "cell_type": "code",
   "execution_count": 4,
   "metadata": {
    "collapsed": true,
    "deletable": true,
    "editable": true
   },
   "outputs": [],
   "source": [
    "def number_of_line_csv(filename):\n",
    "    with open(filename, \"r\") as file_input:\n",
    "        for k, line in enumerate(file_input):\n",
    "            pass\n",
    "    return k+1"
   ]
  },
  {
   "cell_type": "code",
   "execution_count": 6,
   "metadata": {
    "collapsed": false,
    "deletable": true,
    "editable": true
   },
   "outputs": [
    {
     "name": "stdout",
     "output_type": "stream",
     "text": [
      "number of lines in ch_02.ipynb : 8097\n",
      "number of lines in ch_01-Empty.ipynb : 306\n",
      "number of lines in ch_04-Empty.ipynb : 467\n",
      "number of lines in ch_03-Empty.ipynb : 634\n",
      "number of lines in ch_02-Empty.ipynb : 741\n",
      "number of lines in ch_01.ipynb : 733\n",
      "number of lines in playground.ipynb : 855\n",
      "number of lines in ch_04.ipynb : 4031\n",
      "number of lines in ch_03.ipynb : 5298\n",
      "number of lines in ch_05_b.ipynb : 433\n",
      "number of lines in ch_05.ipynb : 966\n"
     ]
    }
   ],
   "source": [
    "import glob\n",
    "files_to_read = glob.glob(\"*.ipynb\")\n",
    "for file_name in files_to_read:\n",
    "    print \"number of lines in %s : %d\"% (file_name, number_of_line_csv(file_name))"
   ]
  },
  {
   "cell_type": "code",
   "execution_count": 8,
   "metadata": {
    "collapsed": false,
    "deletable": true,
    "editable": true
   },
   "outputs": [
    {
     "name": "stdout",
     "output_type": "stream",
     "text": [
      "[]\n",
      "['salabahter.txt', 'ch_02.ipynb', 'ch_01-Empty.ipynb', 'DaniPythonClass', 'backup', 'DaniPythonClassWorking', 'ch_04-Empty.ipynb', 'ch_03-Empty.ipynb', 'ch_02-Empty.ipynb', 'ch_01.ipynb', 'playground.ipynb', 'all_airports.csv', 'ch_04.ipynb', 'ch_03.ipynb', 'IsraChall', 'README.md', 'master2', 'ch_05_b.ipynb', 'ch_05.ipynb']\n",
      "[]\n"
     ]
    }
   ],
   "source": [
    "import glob\n",
    "print glob.glob(\"\")\n",
    "print glob.glob(\"*\")\n",
    "print glob.glob(\"*.bz2\")"
   ]
  },
  {
   "cell_type": "markdown",
   "metadata": {
    "deletable": true,
    "editable": true
   },
   "source": [
    "https://docs.python.org/2/library/glob.html"
   ]
  },
  {
   "cell_type": "markdown",
   "metadata": {
    "deletable": true,
    "editable": true
   },
   "source": [
    "The glob module finds all the pathnames matching a specified pattern according to the rules used by the Unix shell, although results are returned in arbitrary order. No tilde expansion is done, but *, ?, and character ranges expressed with [] will be correctly matched. \n",
    "\n",
    "For a literal match, wrap the meta-characters in brackets. For example, '[?]' matches the character '?'.\n",
    "\n",
    "glob.glob(pathname)\n",
    "Return a possibly-empty list of path names that match pathname, which must be a string containing a path specification. pathname can be either absolute (like /usr/src/Python-1.5/Makefile) or relative (like ../../Tools/*/*.gif), and can contain shell-style wildcards. Broken symlinks are included in the results (as in the shell).\n",
    "\n",
    "glob.iglob(pathname)\n",
    "Return an iterator which yields the same values as glob() without actually storing them all simultaneously."
   ]
  },
  {
   "cell_type": "code",
   "execution_count": 9,
   "metadata": {
    "collapsed": false,
    "deletable": true,
    "editable": true
   },
   "outputs": [
    {
     "data": {
      "text/plain": [
       "[]"
      ]
     },
     "execution_count": 9,
     "metadata": {},
     "output_type": "execute_result"
    }
   ],
   "source": [
    "glob.glob(\"*.bz2\")"
   ]
  },
  {
   "cell_type": "code",
   "execution_count": 10,
   "metadata": {
    "collapsed": false,
    "deletable": true,
    "editable": true
   },
   "outputs": [
    {
     "data": {
      "text/plain": [
       "<generator object iglob at 0x7f3144558aa0>"
      ]
     },
     "execution_count": 10,
     "metadata": {},
     "output_type": "execute_result"
    }
   ],
   "source": [
    "glob.iglob(\"*.bz2\")"
   ]
  },
  {
   "cell_type": "code",
   "execution_count": 11,
   "metadata": {
    "collapsed": false,
    "deletable": true,
    "editable": true
   },
   "outputs": [],
   "source": [
    "for file in glob.iglob(\"*.bz2\"):\n",
    "    print file"
   ]
  },
  {
   "cell_type": "code",
   "execution_count": 12,
   "metadata": {
    "collapsed": false,
    "deletable": true,
    "editable": true
   },
   "outputs": [],
   "source": [
    "for file in glob.glob(\"*.bz2\"):\n",
    "    print file"
   ]
  },
  {
   "cell_type": "code",
   "execution_count": 13,
   "metadata": {
    "collapsed": true,
    "deletable": true,
    "editable": true
   },
   "outputs": [],
   "source": [
    "a=glob.glob(\"*.bz2\");\n",
    "i=glob.iglob(\"*.bz2\")"
   ]
  },
  {
   "cell_type": "code",
   "execution_count": 14,
   "metadata": {
    "collapsed": false,
    "deletable": true,
    "editable": true
   },
   "outputs": [
    {
     "data": {
      "text/plain": [
       "[]"
      ]
     },
     "execution_count": 14,
     "metadata": {},
     "output_type": "execute_result"
    }
   ],
   "source": [
    "a"
   ]
  },
  {
   "cell_type": "code",
   "execution_count": 15,
   "metadata": {
    "collapsed": false,
    "deletable": true,
    "editable": true
   },
   "outputs": [
    {
     "ename": "StopIteration",
     "evalue": "",
     "output_type": "error",
     "traceback": [
      "\u001b[1;31m---------------------------------------------------------------------------\u001b[0m",
      "\u001b[1;31mStopIteration\u001b[0m                             Traceback (most recent call last)",
      "\u001b[1;32m<ipython-input-15-e590fe0d22f8>\u001b[0m in \u001b[0;36m<module>\u001b[1;34m()\u001b[0m\n\u001b[1;32m----> 1\u001b[1;33m \u001b[0mi\u001b[0m\u001b[1;33m.\u001b[0m\u001b[0mnext\u001b[0m\u001b[1;33m(\u001b[0m\u001b[1;33m)\u001b[0m\u001b[1;33m\u001b[0m\u001b[0m\n\u001b[0m",
      "\u001b[1;31mStopIteration\u001b[0m: "
     ]
    }
   ],
   "source": [
    "i.next()"
   ]
  },
  {
   "cell_type": "code",
   "execution_count": 17,
   "metadata": {
    "collapsed": false,
    "deletable": true,
    "editable": true
   },
   "outputs": [
    {
     "data": {
      "text/plain": [
       "'bookings.csv.bz2'"
      ]
     },
     "execution_count": 17,
     "metadata": {},
     "output_type": "execute_result"
    }
   ],
   "source": [
    "i.next()"
   ]
  },
  {
   "cell_type": "code",
   "execution_count": 18,
   "metadata": {
    "collapsed": false,
    "deletable": true,
    "editable": true
   },
   "outputs": [
    {
     "ename": "StopIteration",
     "evalue": "",
     "output_type": "error",
     "traceback": [
      "\u001b[1;31m---------------------------------------------------------------------------\u001b[0m",
      "\u001b[1;31mStopIteration\u001b[0m                             Traceback (most recent call last)",
      "\u001b[1;32m<ipython-input-18-e590fe0d22f8>\u001b[0m in \u001b[0;36m<module>\u001b[1;34m()\u001b[0m\n\u001b[1;32m----> 1\u001b[1;33m \u001b[0mi\u001b[0m\u001b[1;33m.\u001b[0m\u001b[0mnext\u001b[0m\u001b[1;33m(\u001b[0m\u001b[1;33m)\u001b[0m\u001b[1;33m\u001b[0m\u001b[0m\n\u001b[0m",
      "\u001b[1;31mStopIteration\u001b[0m: "
     ]
    }
   ],
   "source": [
    "i.next()"
   ]
  },
  {
   "cell_type": "markdown",
   "metadata": {
    "deletable": true,
    "editable": true
   },
   "source": [
    "iterator\n",
    "\n",
    "An object representing a stream of data. Repeated calls to the iterator’s next() method return successive items in the stream. When no more data are available a StopIteration exception is raised instead. At this point, the iterator object is exhausted and any further calls to its next() method just raise StopIteration again."
   ]
  },
  {
   "cell_type": "code",
   "execution_count": null,
   "metadata": {
    "collapsed": true,
    "deletable": true,
    "editable": true
   },
   "outputs": [],
   "source": []
  },
  {
   "cell_type": "code",
   "execution_count": 39,
   "metadata": {
    "collapsed": false,
    "deletable": true,
    "editable": true
   },
   "outputs": [
    {
     "data": {
      "text/plain": [
       "4"
      ]
     },
     "execution_count": 39,
     "metadata": {},
     "output_type": "execute_result"
    }
   ],
   "source": [
    "sum([1,3])"
   ]
  },
  {
   "cell_type": "code",
   "execution_count": 42,
   "metadata": {
    "collapsed": false,
    "deletable": true,
    "editable": true
   },
   "outputs": [
    {
     "name": "stdout",
     "output_type": "stream",
     "text": [
      "1\n",
      "1\n"
     ]
    }
   ],
   "source": [
    "for row in a:\n",
    "    print 1"
   ]
  },
  {
   "cell_type": "code",
   "execution_count": 77,
   "metadata": {
    "collapsed": false,
    "deletable": true,
    "editable": true
   },
   "outputs": [
    {
     "data": {
      "text/plain": [
       "[1, 1, 1, 1, 1, 1, 1, 1, 1, 1]"
      ]
     },
     "execution_count": 77,
     "metadata": {},
     "output_type": "execute_result"
    }
   ],
   "source": [
    "a=[]\n",
    "for i in xrange(10):\n",
    "    a.append(1) \n",
    "a"
   ]
  },
  {
   "cell_type": "code",
   "execution_count": 82,
   "metadata": {
    "collapsed": false,
    "deletable": true,
    "editable": true
   },
   "outputs": [
    {
     "data": {
      "text/plain": [
       "[1, 1, 1, 1, 1, 1, 1, 1, 1, 1]"
      ]
     },
     "execution_count": 82,
     "metadata": {},
     "output_type": "execute_result"
    }
   ],
   "source": [
    "[1 for i in range(10)]    "
   ]
  },
  {
   "cell_type": "code",
   "execution_count": null,
   "metadata": {
    "collapsed": true,
    "deletable": true,
    "editable": true
   },
   "outputs": [],
   "source": [
    "num_lines1 = sum(1 for line in open('Bookings.csv'))"
   ]
  }
 ],
 "metadata": {
  "kernelspec": {
   "display_name": "Python 2",
   "language": "python",
   "name": "python2"
  },
  "language_info": {
   "codemirror_mode": {
    "name": "ipython",
    "version": 2
   },
   "file_extension": ".py",
   "mimetype": "text/x-python",
   "name": "python",
   "nbconvert_exporter": "python",
   "pygments_lexer": "ipython2",
   "version": "2.7.13"
  }
 },
 "nbformat": 4,
 "nbformat_minor": 0
}
