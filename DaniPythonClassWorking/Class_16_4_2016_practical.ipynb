{
 "cells": [
  {
   "cell_type": "code",
   "execution_count": 6,
   "metadata": {
    "collapsed": false
   },
   "outputs": [],
   "source": [
    "path =   '../data/us_dot/otp/'"
   ]
  },
  {
   "cell_type": "code",
   "execution_count": 1,
   "metadata": {
    "collapsed": true
   },
   "outputs": [],
   "source": [
    "path = '/home/dsc/Data/us_dot/otp/'"
   ]
  },
  {
   "cell_type": "code",
   "execution_count": 2,
   "metadata": {
    "collapsed": false
   },
   "outputs": [
    {
     "name": "stdout",
     "output_type": "stream",
     "text": [
      "On_Time_On_Time_Performance_2015_1.zip\tOn_Time_On_Time_Performance_2015_5.zip\r\n",
      "On_Time_On_Time_Performance_2015_2.zip\tOn_Time_On_Time_Performance_2015_6.zip\r\n",
      "On_Time_On_Time_Performance_2015_3.zip\tOn_Time_On_Time_Performance_2015_7.zip\r\n",
      "On_Time_On_Time_Performance_2015_4.zip\tOn_Time_On_Time_Performance_2015_8.zip\r\n"
     ]
    }
   ],
   "source": [
    "! ls {path}"
   ]
  },
  {
   "cell_type": "code",
   "execution_count": 3,
   "metadata": {
    "collapsed": true
   },
   "outputs": [],
   "source": [
    "files = !ls {path}"
   ]
  },
  {
   "cell_type": "code",
   "execution_count": 4,
   "metadata": {
    "collapsed": true
   },
   "outputs": [],
   "source": [
    "first_file = files[0]"
   ]
  },
  {
   "cell_type": "code",
   "execution_count": 5,
   "metadata": {
    "collapsed": false
   },
   "outputs": [
    {
     "data": {
      "text/plain": [
       "'On_Time_On_Time_Performance_2015_1.zip'"
      ]
     },
     "execution_count": 5,
     "metadata": {},
     "output_type": "execute_result"
    }
   ],
   "source": [
    "first_file"
   ]
  },
  {
   "cell_type": "code",
   "execution_count": 6,
   "metadata": {
    "collapsed": false
   },
   "outputs": [
    {
     "name": "stdout",
     "output_type": "stream",
     "text": [
      "Archive:  /home/dsc/Data/us_dot/otp/On_Time_On_Time_Performance_2015_1.zip\r\n",
      "  Length      Date    Time    Name\r\n",
      "---------  ---------- -----   ----\r\n",
      "211633432  04-16-2015 20:02   On_Time_On_Time_Performance_2015_1.csv\r\n",
      "    12054  04-16-2015 20:02   readme.html\r\n",
      "---------                     -------\r\n",
      "211645486                     2 files\r\n"
     ]
    }
   ],
   "source": [
    "!unzip -l {path + first_file}"
   ]
  },
  {
   "cell_type": "code",
   "execution_count": 7,
   "metadata": {
    "collapsed": false
   },
   "outputs": [
    {
     "name": "stdout",
     "output_type": "stream",
     "text": [
      "Archive:  /home/dsc/Data/us_dot/otp/On_Time_On_Time_Performance_2015_1.zip\r\n",
      "  inflating: /home/dsc/Documents/DS_Master_A1_Chall/DaniPythonClassWorking/readme.html  \r\n"
     ]
    }
   ],
   "source": [
    "!unzip -o {path + first_file} readme.html -d $(pwd)"
   ]
  },
  {
   "cell_type": "code",
   "execution_count": 8,
   "metadata": {
    "collapsed": true
   },
   "outputs": [],
   "source": [
    "from IPython.display import IFrame"
   ]
  },
  {
   "cell_type": "code",
   "execution_count": 9,
   "metadata": {
    "collapsed": false
   },
   "outputs": [
    {
     "data": {
      "text/html": [
       "\n",
       "        <iframe\n",
       "            width=\"700\"\n",
       "            height=\"350\"\n",
       "            src=\"readme.html\"\n",
       "            frameborder=\"0\"\n",
       "            allowfullscreen\n",
       "        ></iframe>\n",
       "        "
      ],
      "text/plain": [
       "<IPython.lib.display.IFrame at 0x7f84f40f9410>"
      ]
     },
     "execution_count": 9,
     "metadata": {},
     "output_type": "execute_result"
    }
   ],
   "source": [
    "IFrame('readme.html', width=700, height=350)"
   ]
  },
  {
   "cell_type": "code",
   "execution_count": 10,
   "metadata": {
    "collapsed": false
   },
   "outputs": [
    {
     "data": {
      "text/html": [
       "\n",
       "        <iframe\n",
       "            width=\"700\"\n",
       "            height=\"350\"\n",
       "            src=\"http://www.elpais.com\"\n",
       "            frameborder=\"0\"\n",
       "            allowfullscreen\n",
       "        ></iframe>\n",
       "        "
      ],
      "text/plain": [
       "<IPython.lib.display.IFrame at 0x7f84f40f94d0>"
      ]
     },
     "execution_count": 10,
     "metadata": {},
     "output_type": "execute_result"
    }
   ],
   "source": [
    "IFrame('http://www.elpais.com', width=700, height=350)"
   ]
  },
  {
   "cell_type": "code",
   "execution_count": 11,
   "metadata": {
    "collapsed": true
   },
   "outputs": [],
   "source": [
    "import os\n",
    "import zipfile"
   ]
  },
  {
   "cell_type": "code",
   "execution_count": 12,
   "metadata": {
    "collapsed": true
   },
   "outputs": [],
   "source": [
    "filenames = os.listdir(path)"
   ]
  },
  {
   "cell_type": "code",
   "execution_count": 13,
   "metadata": {
    "collapsed": false
   },
   "outputs": [
    {
     "data": {
      "text/plain": [
       "['On_Time_On_Time_Performance_2015_6.zip',\n",
       " 'On_Time_On_Time_Performance_2015_8.zip',\n",
       " 'On_Time_On_Time_Performance_2015_1.zip',\n",
       " 'On_Time_On_Time_Performance_2015_5.zip',\n",
       " 'On_Time_On_Time_Performance_2015_2.zip',\n",
       " 'On_Time_On_Time_Performance_2015_7.zip',\n",
       " 'On_Time_On_Time_Performance_2015_4.zip',\n",
       " 'On_Time_On_Time_Performance_2015_3.zip']"
      ]
     },
     "execution_count": 13,
     "metadata": {},
     "output_type": "execute_result"
    }
   ],
   "source": [
    "filenames"
   ]
  },
  {
   "cell_type": "code",
   "execution_count": 14,
   "metadata": {
    "collapsed": true
   },
   "outputs": [],
   "source": [
    "zip_file = zipfile.ZipFile(path + filenames[0])"
   ]
  },
  {
   "cell_type": "code",
   "execution_count": 15,
   "metadata": {
    "collapsed": false
   },
   "outputs": [
    {
     "data": {
      "text/plain": [
       "zipfile.ZipFile"
      ]
     },
     "execution_count": 15,
     "metadata": {},
     "output_type": "execute_result"
    }
   ],
   "source": [
    "type(zip_file)"
   ]
  },
  {
   "cell_type": "code",
   "execution_count": 20,
   "metadata": {
    "collapsed": true
   },
   "outputs": [],
   "source": [
    "import pandas as pd"
   ]
  },
  {
   "cell_type": "code",
   "execution_count": 16,
   "metadata": {
    "collapsed": false
   },
   "outputs": [
    {
     "data": {
      "text/plain": [
       "'On_Time_On_Time_Performance_2015_6.zip'"
      ]
     },
     "execution_count": 16,
     "metadata": {},
     "output_type": "execute_result"
    }
   ],
   "source": [
    "filenames[0]"
   ]
  },
  {
   "cell_type": "code",
   "execution_count": 17,
   "metadata": {
    "collapsed": true
   },
   "outputs": [],
   "source": [
    "csv_file = zip_file.open(filenames[0].split('.')[0] + '.csv')"
   ]
  },
  {
   "cell_type": "code",
   "execution_count": 18,
   "metadata": {
    "collapsed": false
   },
   "outputs": [
    {
     "data": {
      "text/plain": [
       "zipfile.ZipExtFile"
      ]
     },
     "execution_count": 18,
     "metadata": {},
     "output_type": "execute_result"
    }
   ],
   "source": [
    "type(csv_file)"
   ]
  },
  {
   "cell_type": "code",
   "execution_count": 21,
   "metadata": {
    "collapsed": false
   },
   "outputs": [
    {
     "name": "stderr",
     "output_type": "stream",
     "text": [
      "/home/dsc/anaconda2/lib/python2.7/site-packages/IPython/core/interactiveshell.py:2902: DtypeWarning: Columns (48,77,84) have mixed types. Specify dtype option on import or set low_memory=False.\n",
      "  interactivity=interactivity, compiler=compiler, result=result)\n"
     ]
    }
   ],
   "source": [
    "df = pd.read_csv(csv_file, header=0)"
   ]
  },
  {
   "cell_type": "code",
   "execution_count": 22,
   "metadata": {
    "collapsed": false
   },
   "outputs": [
    {
     "data": {
      "text/html": [
       "<div>\n",
       "<table border=\"1\" class=\"dataframe\">\n",
       "  <thead>\n",
       "    <tr style=\"text-align: right;\">\n",
       "      <th></th>\n",
       "      <th>Year</th>\n",
       "      <th>Quarter</th>\n",
       "      <th>Month</th>\n",
       "      <th>DayofMonth</th>\n",
       "      <th>DayOfWeek</th>\n",
       "      <th>FlightDate</th>\n",
       "      <th>UniqueCarrier</th>\n",
       "      <th>AirlineID</th>\n",
       "      <th>Carrier</th>\n",
       "      <th>TailNum</th>\n",
       "      <th>...</th>\n",
       "      <th>Div4TailNum</th>\n",
       "      <th>Div5Airport</th>\n",
       "      <th>Div5AirportID</th>\n",
       "      <th>Div5AirportSeqID</th>\n",
       "      <th>Div5WheelsOn</th>\n",
       "      <th>Div5TotalGTime</th>\n",
       "      <th>Div5LongestGTime</th>\n",
       "      <th>Div5WheelsOff</th>\n",
       "      <th>Div5TailNum</th>\n",
       "      <th>Unnamed: 109</th>\n",
       "    </tr>\n",
       "  </thead>\n",
       "  <tbody>\n",
       "    <tr>\n",
       "      <th>0</th>\n",
       "      <td>2015</td>\n",
       "      <td>2</td>\n",
       "      <td>6</td>\n",
       "      <td>1</td>\n",
       "      <td>1</td>\n",
       "      <td>2015-06-01</td>\n",
       "      <td>AA</td>\n",
       "      <td>19805</td>\n",
       "      <td>AA</td>\n",
       "      <td>N798AA</td>\n",
       "      <td>...</td>\n",
       "      <td>NaN</td>\n",
       "      <td>NaN</td>\n",
       "      <td>NaN</td>\n",
       "      <td>NaN</td>\n",
       "      <td>NaN</td>\n",
       "      <td>NaN</td>\n",
       "      <td>NaN</td>\n",
       "      <td>NaN</td>\n",
       "      <td>NaN</td>\n",
       "      <td>NaN</td>\n",
       "    </tr>\n",
       "    <tr>\n",
       "      <th>1</th>\n",
       "      <td>2015</td>\n",
       "      <td>2</td>\n",
       "      <td>6</td>\n",
       "      <td>2</td>\n",
       "      <td>2</td>\n",
       "      <td>2015-06-02</td>\n",
       "      <td>AA</td>\n",
       "      <td>19805</td>\n",
       "      <td>AA</td>\n",
       "      <td>N788AA</td>\n",
       "      <td>...</td>\n",
       "      <td>NaN</td>\n",
       "      <td>NaN</td>\n",
       "      <td>NaN</td>\n",
       "      <td>NaN</td>\n",
       "      <td>NaN</td>\n",
       "      <td>NaN</td>\n",
       "      <td>NaN</td>\n",
       "      <td>NaN</td>\n",
       "      <td>NaN</td>\n",
       "      <td>NaN</td>\n",
       "    </tr>\n",
       "    <tr>\n",
       "      <th>2</th>\n",
       "      <td>2015</td>\n",
       "      <td>2</td>\n",
       "      <td>6</td>\n",
       "      <td>3</td>\n",
       "      <td>3</td>\n",
       "      <td>2015-06-03</td>\n",
       "      <td>AA</td>\n",
       "      <td>19805</td>\n",
       "      <td>AA</td>\n",
       "      <td>N790AA</td>\n",
       "      <td>...</td>\n",
       "      <td>NaN</td>\n",
       "      <td>NaN</td>\n",
       "      <td>NaN</td>\n",
       "      <td>NaN</td>\n",
       "      <td>NaN</td>\n",
       "      <td>NaN</td>\n",
       "      <td>NaN</td>\n",
       "      <td>NaN</td>\n",
       "      <td>NaN</td>\n",
       "      <td>NaN</td>\n",
       "    </tr>\n",
       "    <tr>\n",
       "      <th>3</th>\n",
       "      <td>2015</td>\n",
       "      <td>2</td>\n",
       "      <td>6</td>\n",
       "      <td>4</td>\n",
       "      <td>4</td>\n",
       "      <td>2015-06-04</td>\n",
       "      <td>AA</td>\n",
       "      <td>19805</td>\n",
       "      <td>AA</td>\n",
       "      <td>N789AA</td>\n",
       "      <td>...</td>\n",
       "      <td>NaN</td>\n",
       "      <td>NaN</td>\n",
       "      <td>NaN</td>\n",
       "      <td>NaN</td>\n",
       "      <td>NaN</td>\n",
       "      <td>NaN</td>\n",
       "      <td>NaN</td>\n",
       "      <td>NaN</td>\n",
       "      <td>NaN</td>\n",
       "      <td>NaN</td>\n",
       "    </tr>\n",
       "    <tr>\n",
       "      <th>4</th>\n",
       "      <td>2015</td>\n",
       "      <td>2</td>\n",
       "      <td>6</td>\n",
       "      <td>5</td>\n",
       "      <td>5</td>\n",
       "      <td>2015-06-05</td>\n",
       "      <td>AA</td>\n",
       "      <td>19805</td>\n",
       "      <td>AA</td>\n",
       "      <td>N797AA</td>\n",
       "      <td>...</td>\n",
       "      <td>NaN</td>\n",
       "      <td>NaN</td>\n",
       "      <td>NaN</td>\n",
       "      <td>NaN</td>\n",
       "      <td>NaN</td>\n",
       "      <td>NaN</td>\n",
       "      <td>NaN</td>\n",
       "      <td>NaN</td>\n",
       "      <td>NaN</td>\n",
       "      <td>NaN</td>\n",
       "    </tr>\n",
       "  </tbody>\n",
       "</table>\n",
       "<p>5 rows × 110 columns</p>\n",
       "</div>"
      ],
      "text/plain": [
       "   Year  Quarter  Month  DayofMonth  DayOfWeek  FlightDate UniqueCarrier  \\\n",
       "0  2015        2      6           1          1  2015-06-01            AA   \n",
       "1  2015        2      6           2          2  2015-06-02            AA   \n",
       "2  2015        2      6           3          3  2015-06-03            AA   \n",
       "3  2015        2      6           4          4  2015-06-04            AA   \n",
       "4  2015        2      6           5          5  2015-06-05            AA   \n",
       "\n",
       "   AirlineID Carrier TailNum      ...       Div4TailNum  Div5Airport  \\\n",
       "0      19805      AA  N798AA      ...               NaN          NaN   \n",
       "1      19805      AA  N788AA      ...               NaN          NaN   \n",
       "2      19805      AA  N790AA      ...               NaN          NaN   \n",
       "3      19805      AA  N789AA      ...               NaN          NaN   \n",
       "4      19805      AA  N797AA      ...               NaN          NaN   \n",
       "\n",
       "   Div5AirportID  Div5AirportSeqID Div5WheelsOn Div5TotalGTime  \\\n",
       "0            NaN               NaN          NaN            NaN   \n",
       "1            NaN               NaN          NaN            NaN   \n",
       "2            NaN               NaN          NaN            NaN   \n",
       "3            NaN               NaN          NaN            NaN   \n",
       "4            NaN               NaN          NaN            NaN   \n",
       "\n",
       "  Div5LongestGTime  Div5WheelsOff Div5TailNum  Unnamed: 109  \n",
       "0              NaN            NaN         NaN           NaN  \n",
       "1              NaN            NaN         NaN           NaN  \n",
       "2              NaN            NaN         NaN           NaN  \n",
       "3              NaN            NaN         NaN           NaN  \n",
       "4              NaN            NaN         NaN           NaN  \n",
       "\n",
       "[5 rows x 110 columns]"
      ]
     },
     "execution_count": 22,
     "metadata": {},
     "output_type": "execute_result"
    }
   ],
   "source": [
    "df.head()"
   ]
  },
  {
   "cell_type": "code",
   "execution_count": 23,
   "metadata": {
    "collapsed": false
   },
   "outputs": [
    {
     "data": {
      "text/plain": [
       "110"
      ]
     },
     "execution_count": 23,
     "metadata": {},
     "output_type": "execute_result"
    }
   ],
   "source": [
    "len(df.columns)"
   ]
  },
  {
   "cell_type": "code",
   "execution_count": 24,
   "metadata": {
    "collapsed": false
   },
   "outputs": [
    {
     "data": {
      "text/plain": [
       "(503897, 110)"
      ]
     },
     "execution_count": 24,
     "metadata": {},
     "output_type": "execute_result"
    }
   ],
   "source": [
    "df.shape"
   ]
  },
  {
   "cell_type": "code",
   "execution_count": 25,
   "metadata": {
    "collapsed": false
   },
   "outputs": [
    {
     "data": {
      "text/plain": [
       "503897"
      ]
     },
     "execution_count": 25,
     "metadata": {},
     "output_type": "execute_result"
    }
   ],
   "source": [
    "len(df)"
   ]
  },
  {
   "cell_type": "code",
   "execution_count": 26,
   "metadata": {
    "collapsed": false
   },
   "outputs": [],
   "source": [
    "description = df.describe()"
   ]
  },
  {
   "cell_type": "code",
   "execution_count": 27,
   "metadata": {
    "collapsed": false
   },
   "outputs": [
    {
     "data": {
      "text/plain": [
       "pandas.core.frame.DataFrame"
      ]
     },
     "execution_count": 27,
     "metadata": {},
     "output_type": "execute_result"
    }
   ],
   "source": [
    "type(description)"
   ]
  },
  {
   "cell_type": "code",
   "execution_count": 28,
   "metadata": {
    "collapsed": false
   },
   "outputs": [
    {
     "data": {
      "text/html": [
       "<div>\n",
       "<table border=\"1\" class=\"dataframe\">\n",
       "  <thead>\n",
       "    <tr style=\"text-align: right;\">\n",
       "      <th></th>\n",
       "      <th>Year</th>\n",
       "      <th>Quarter</th>\n",
       "      <th>Month</th>\n",
       "      <th>DayofMonth</th>\n",
       "      <th>DayOfWeek</th>\n",
       "      <th>AirlineID</th>\n",
       "      <th>FlightNum</th>\n",
       "      <th>OriginAirportID</th>\n",
       "      <th>OriginAirportSeqID</th>\n",
       "      <th>OriginCityMarketID</th>\n",
       "      <th>...</th>\n",
       "      <th>Div4TailNum</th>\n",
       "      <th>Div5Airport</th>\n",
       "      <th>Div5AirportID</th>\n",
       "      <th>Div5AirportSeqID</th>\n",
       "      <th>Div5WheelsOn</th>\n",
       "      <th>Div5TotalGTime</th>\n",
       "      <th>Div5LongestGTime</th>\n",
       "      <th>Div5WheelsOff</th>\n",
       "      <th>Div5TailNum</th>\n",
       "      <th>Unnamed: 109</th>\n",
       "    </tr>\n",
       "  </thead>\n",
       "  <tbody>\n",
       "    <tr>\n",
       "      <th>count</th>\n",
       "      <td>503897</td>\n",
       "      <td>503897</td>\n",
       "      <td>503897</td>\n",
       "      <td>503897.000000</td>\n",
       "      <td>503897.000000</td>\n",
       "      <td>503897.000000</td>\n",
       "      <td>503897.000000</td>\n",
       "      <td>503897.000000</td>\n",
       "      <td>503897.000000</td>\n",
       "      <td>503897.000000</td>\n",
       "      <td>...</td>\n",
       "      <td>0</td>\n",
       "      <td>0</td>\n",
       "      <td>0</td>\n",
       "      <td>0</td>\n",
       "      <td>0</td>\n",
       "      <td>0</td>\n",
       "      <td>0</td>\n",
       "      <td>0</td>\n",
       "      <td>0</td>\n",
       "      <td>0</td>\n",
       "    </tr>\n",
       "    <tr>\n",
       "      <th>mean</th>\n",
       "      <td>2015</td>\n",
       "      <td>2</td>\n",
       "      <td>6</td>\n",
       "      <td>15.501208</td>\n",
       "      <td>3.781604</td>\n",
       "      <td>19965.828691</td>\n",
       "      <td>2164.685392</td>\n",
       "      <td>12672.481914</td>\n",
       "      <td>1267250.954255</td>\n",
       "      <td>31696.755452</td>\n",
       "      <td>...</td>\n",
       "      <td>NaN</td>\n",
       "      <td>NaN</td>\n",
       "      <td>NaN</td>\n",
       "      <td>NaN</td>\n",
       "      <td>NaN</td>\n",
       "      <td>NaN</td>\n",
       "      <td>NaN</td>\n",
       "      <td>NaN</td>\n",
       "      <td>NaN</td>\n",
       "      <td>NaN</td>\n",
       "    </tr>\n",
       "    <tr>\n",
       "      <th>std</th>\n",
       "      <td>0</td>\n",
       "      <td>0</td>\n",
       "      <td>0</td>\n",
       "      <td>8.639231</td>\n",
       "      <td>2.023460</td>\n",
       "      <td>397.092158</td>\n",
       "      <td>1758.566546</td>\n",
       "      <td>1524.757841</td>\n",
       "      <td>152475.478482</td>\n",
       "      <td>1281.459962</td>\n",
       "      <td>...</td>\n",
       "      <td>NaN</td>\n",
       "      <td>NaN</td>\n",
       "      <td>NaN</td>\n",
       "      <td>NaN</td>\n",
       "      <td>NaN</td>\n",
       "      <td>NaN</td>\n",
       "      <td>NaN</td>\n",
       "      <td>NaN</td>\n",
       "      <td>NaN</td>\n",
       "      <td>NaN</td>\n",
       "    </tr>\n",
       "    <tr>\n",
       "      <th>min</th>\n",
       "      <td>2015</td>\n",
       "      <td>2</td>\n",
       "      <td>6</td>\n",
       "      <td>1.000000</td>\n",
       "      <td>1.000000</td>\n",
       "      <td>19393.000000</td>\n",
       "      <td>1.000000</td>\n",
       "      <td>10135.000000</td>\n",
       "      <td>1013503.000000</td>\n",
       "      <td>30070.000000</td>\n",
       "      <td>...</td>\n",
       "      <td>NaN</td>\n",
       "      <td>NaN</td>\n",
       "      <td>NaN</td>\n",
       "      <td>NaN</td>\n",
       "      <td>NaN</td>\n",
       "      <td>NaN</td>\n",
       "      <td>NaN</td>\n",
       "      <td>NaN</td>\n",
       "      <td>NaN</td>\n",
       "      <td>NaN</td>\n",
       "    </tr>\n",
       "    <tr>\n",
       "      <th>25%</th>\n",
       "      <td>2015</td>\n",
       "      <td>2</td>\n",
       "      <td>6</td>\n",
       "      <td>8.000000</td>\n",
       "      <td>2.000000</td>\n",
       "      <td>19790.000000</td>\n",
       "      <td>719.000000</td>\n",
       "      <td>11292.000000</td>\n",
       "      <td>1129202.000000</td>\n",
       "      <td>30599.000000</td>\n",
       "      <td>...</td>\n",
       "      <td>NaN</td>\n",
       "      <td>NaN</td>\n",
       "      <td>NaN</td>\n",
       "      <td>NaN</td>\n",
       "      <td>NaN</td>\n",
       "      <td>NaN</td>\n",
       "      <td>NaN</td>\n",
       "      <td>NaN</td>\n",
       "      <td>NaN</td>\n",
       "      <td>NaN</td>\n",
       "    </tr>\n",
       "    <tr>\n",
       "      <th>50%</th>\n",
       "      <td>2015</td>\n",
       "      <td>2</td>\n",
       "      <td>6</td>\n",
       "      <td>16.000000</td>\n",
       "      <td>4.000000</td>\n",
       "      <td>19930.000000</td>\n",
       "      <td>1649.000000</td>\n",
       "      <td>12889.000000</td>\n",
       "      <td>1288903.000000</td>\n",
       "      <td>31453.000000</td>\n",
       "      <td>...</td>\n",
       "      <td>NaN</td>\n",
       "      <td>NaN</td>\n",
       "      <td>NaN</td>\n",
       "      <td>NaN</td>\n",
       "      <td>NaN</td>\n",
       "      <td>NaN</td>\n",
       "      <td>NaN</td>\n",
       "      <td>NaN</td>\n",
       "      <td>NaN</td>\n",
       "      <td>NaN</td>\n",
       "    </tr>\n",
       "    <tr>\n",
       "      <th>75%</th>\n",
       "      <td>2015</td>\n",
       "      <td>2</td>\n",
       "      <td>6</td>\n",
       "      <td>23.000000</td>\n",
       "      <td>5.000000</td>\n",
       "      <td>20355.000000</td>\n",
       "      <td>3309.000000</td>\n",
       "      <td>13930.000000</td>\n",
       "      <td>1393003.000000</td>\n",
       "      <td>32467.000000</td>\n",
       "      <td>...</td>\n",
       "      <td>NaN</td>\n",
       "      <td>NaN</td>\n",
       "      <td>NaN</td>\n",
       "      <td>NaN</td>\n",
       "      <td>NaN</td>\n",
       "      <td>NaN</td>\n",
       "      <td>NaN</td>\n",
       "      <td>NaN</td>\n",
       "      <td>NaN</td>\n",
       "      <td>NaN</td>\n",
       "    </tr>\n",
       "    <tr>\n",
       "      <th>max</th>\n",
       "      <td>2015</td>\n",
       "      <td>2</td>\n",
       "      <td>6</td>\n",
       "      <td>30.000000</td>\n",
       "      <td>7.000000</td>\n",
       "      <td>21171.000000</td>\n",
       "      <td>7438.000000</td>\n",
       "      <td>16218.000000</td>\n",
       "      <td>1621801.000000</td>\n",
       "      <td>35991.000000</td>\n",
       "      <td>...</td>\n",
       "      <td>NaN</td>\n",
       "      <td>NaN</td>\n",
       "      <td>NaN</td>\n",
       "      <td>NaN</td>\n",
       "      <td>NaN</td>\n",
       "      <td>NaN</td>\n",
       "      <td>NaN</td>\n",
       "      <td>NaN</td>\n",
       "      <td>NaN</td>\n",
       "      <td>NaN</td>\n",
       "    </tr>\n",
       "  </tbody>\n",
       "</table>\n",
       "<p>8 rows × 91 columns</p>\n",
       "</div>"
      ],
      "text/plain": [
       "         Year  Quarter   Month     DayofMonth      DayOfWeek      AirlineID  \\\n",
       "count  503897   503897  503897  503897.000000  503897.000000  503897.000000   \n",
       "mean     2015        2       6      15.501208       3.781604   19965.828691   \n",
       "std         0        0       0       8.639231       2.023460     397.092158   \n",
       "min      2015        2       6       1.000000       1.000000   19393.000000   \n",
       "25%      2015        2       6       8.000000       2.000000   19790.000000   \n",
       "50%      2015        2       6      16.000000       4.000000   19930.000000   \n",
       "75%      2015        2       6      23.000000       5.000000   20355.000000   \n",
       "max      2015        2       6      30.000000       7.000000   21171.000000   \n",
       "\n",
       "           FlightNum  OriginAirportID  OriginAirportSeqID  OriginCityMarketID  \\\n",
       "count  503897.000000    503897.000000       503897.000000       503897.000000   \n",
       "mean     2164.685392     12672.481914      1267250.954255        31696.755452   \n",
       "std      1758.566546      1524.757841       152475.478482         1281.459962   \n",
       "min         1.000000     10135.000000      1013503.000000        30070.000000   \n",
       "25%       719.000000     11292.000000      1129202.000000        30599.000000   \n",
       "50%      1649.000000     12889.000000      1288903.000000        31453.000000   \n",
       "75%      3309.000000     13930.000000      1393003.000000        32467.000000   \n",
       "max      7438.000000     16218.000000      1621801.000000        35991.000000   \n",
       "\n",
       "           ...       Div4TailNum  Div5Airport  Div5AirportID  \\\n",
       "count      ...                 0            0              0   \n",
       "mean       ...               NaN          NaN            NaN   \n",
       "std        ...               NaN          NaN            NaN   \n",
       "min        ...               NaN          NaN            NaN   \n",
       "25%        ...               NaN          NaN            NaN   \n",
       "50%        ...               NaN          NaN            NaN   \n",
       "75%        ...               NaN          NaN            NaN   \n",
       "max        ...               NaN          NaN            NaN   \n",
       "\n",
       "       Div5AirportSeqID  Div5WheelsOn  Div5TotalGTime  Div5LongestGTime  \\\n",
       "count                 0             0               0                 0   \n",
       "mean                NaN           NaN             NaN               NaN   \n",
       "std                 NaN           NaN             NaN               NaN   \n",
       "min                 NaN           NaN             NaN               NaN   \n",
       "25%                 NaN           NaN             NaN               NaN   \n",
       "50%                 NaN           NaN             NaN               NaN   \n",
       "75%                 NaN           NaN             NaN               NaN   \n",
       "max                 NaN           NaN             NaN               NaN   \n",
       "\n",
       "       Div5WheelsOff  Div5TailNum  Unnamed: 109  \n",
       "count              0            0             0  \n",
       "mean             NaN          NaN           NaN  \n",
       "std              NaN          NaN           NaN  \n",
       "min              NaN          NaN           NaN  \n",
       "25%              NaN          NaN           NaN  \n",
       "50%              NaN          NaN           NaN  \n",
       "75%              NaN          NaN           NaN  \n",
       "max              NaN          NaN           NaN  \n",
       "\n",
       "[8 rows x 91 columns]"
      ]
     },
     "execution_count": 28,
     "metadata": {},
     "output_type": "execute_result"
    }
   ],
   "source": [
    "description"
   ]
  },
  {
   "cell_type": "code",
   "execution_count": 29,
   "metadata": {
    "collapsed": true
   },
   "outputs": [],
   "source": [
    "non_null_counts = df.count()"
   ]
  },
  {
   "cell_type": "code",
   "execution_count": 30,
   "metadata": {
    "collapsed": false
   },
   "outputs": [
    {
     "data": {
      "text/plain": [
       "pandas.core.series.Series"
      ]
     },
     "execution_count": 30,
     "metadata": {},
     "output_type": "execute_result"
    }
   ],
   "source": [
    "type(non_null_counts)"
   ]
  },
  {
   "cell_type": "code",
   "execution_count": 31,
   "metadata": {
    "collapsed": false
   },
   "outputs": [
    {
     "data": {
      "text/plain": [
       "77"
      ]
     },
     "execution_count": 31,
     "metadata": {},
     "output_type": "execute_result"
    }
   ],
   "source": [
    "len(non_null_counts[non_null_counts > 1000])"
   ]
  },
  {
   "cell_type": "code",
   "execution_count": 32,
   "metadata": {
    "collapsed": false
   },
   "outputs": [
    {
     "data": {
      "text/plain": [
       "Index([u'Div2Airport', u'Div2AirportID', u'Div2AirportSeqID', u'Div2WheelsOn',\n",
       "       u'Div2TotalGTime', u'Div2LongestGTime', u'Div2WheelsOff',\n",
       "       u'Div2TailNum', u'Div3Airport', u'Div3AirportID', u'Div3AirportSeqID',\n",
       "       u'Div3WheelsOn', u'Div3TotalGTime', u'Div3LongestGTime',\n",
       "       u'Div3WheelsOff', u'Div3TailNum', u'Div4Airport', u'Div4AirportID',\n",
       "       u'Div4AirportSeqID', u'Div4WheelsOn', u'Div4TotalGTime',\n",
       "       u'Div4LongestGTime', u'Div4WheelsOff', u'Div4TailNum', u'Div5Airport',\n",
       "       u'Div5AirportID', u'Div5AirportSeqID', u'Div5WheelsOn',\n",
       "       u'Div5TotalGTime', u'Div5LongestGTime', u'Div5WheelsOff',\n",
       "       u'Div5TailNum', u'Unnamed: 109'],\n",
       "      dtype='object')"
      ]
     },
     "execution_count": 32,
     "metadata": {},
     "output_type": "execute_result"
    }
   ],
   "source": [
    "cols_to_drop = non_null_counts[non_null_counts<1000]\n",
    "cols_to_drop.index"
   ]
  },
  {
   "cell_type": "code",
   "execution_count": 33,
   "metadata": {
    "collapsed": true
   },
   "outputs": [],
   "source": [
    "df2 = df.drop(cols_to_drop.index, axis=1)"
   ]
  },
  {
   "cell_type": "code",
   "execution_count": 34,
   "metadata": {
    "collapsed": false
   },
   "outputs": [
    {
     "data": {
      "text/plain": [
       "(503897, 77)"
      ]
     },
     "execution_count": 34,
     "metadata": {},
     "output_type": "execute_result"
    }
   ],
   "source": [
    "df2.shape"
   ]
  },
  {
   "cell_type": "code",
   "execution_count": 35,
   "metadata": {
    "collapsed": false
   },
   "outputs": [
    {
     "data": {
      "text/plain": [
       "0    14\n",
       "1     0\n",
       "2    15\n",
       "3     0\n",
       "4    12\n",
       "Name: ArrDelayMinutes, dtype: float64"
      ]
     },
     "execution_count": 35,
     "metadata": {},
     "output_type": "execute_result"
    }
   ],
   "source": [
    "df2.ArrDelayMinutes.head()"
   ]
  },
  {
   "cell_type": "code",
   "execution_count": 36,
   "metadata": {
    "collapsed": false
   },
   "outputs": [
    {
     "data": {
      "text/plain": [
       "0     9\n",
       "1    -5\n",
       "2    10\n",
       "3    -5\n",
       "4     7\n",
       "Name: ArrDelayMinutes, dtype: float64"
      ]
     },
     "execution_count": 36,
     "metadata": {},
     "output_type": "execute_result"
    }
   ],
   "source": [
    "(df2['ArrDelayMinutes']-5).head()"
   ]
  },
  {
   "cell_type": "code",
   "execution_count": 37,
   "metadata": {
    "collapsed": false
   },
   "outputs": [
    {
     "data": {
      "text/plain": [
       "0    JFK\n",
       "1    JFK\n",
       "2    JFK\n",
       "3    JFK\n",
       "4    JFK\n",
       "Name: Origin, dtype: object"
      ]
     },
     "execution_count": 37,
     "metadata": {},
     "output_type": "execute_result"
    }
   ],
   "source": [
    "df2['Origin'].head()"
   ]
  },
  {
   "cell_type": "code",
   "execution_count": 38,
   "metadata": {
    "collapsed": false
   },
   "outputs": [
    {
     "data": {
      "text/plain": [
       "0         JFK_airport\n",
       "1         JFK_airport\n",
       "2         JFK_airport\n",
       "3         JFK_airport\n",
       "4         JFK_airport\n",
       "5         JFK_airport\n",
       "6         JFK_airport\n",
       "7         JFK_airport\n",
       "8         JFK_airport\n",
       "9         JFK_airport\n",
       "10        JFK_airport\n",
       "11        JFK_airport\n",
       "12        JFK_airport\n",
       "13        JFK_airport\n",
       "14        JFK_airport\n",
       "15        JFK_airport\n",
       "16        JFK_airport\n",
       "17        JFK_airport\n",
       "18        JFK_airport\n",
       "19        JFK_airport\n",
       "20        JFK_airport\n",
       "21        JFK_airport\n",
       "22        JFK_airport\n",
       "23        JFK_airport\n",
       "24        JFK_airport\n",
       "25        JFK_airport\n",
       "26        LAX_airport\n",
       "27        LAX_airport\n",
       "28        LAX_airport\n",
       "29        LAX_airport\n",
       "             ...     \n",
       "503867    BOS_airport\n",
       "503868    CLT_airport\n",
       "503869    EWR_airport\n",
       "503870    PHX_airport\n",
       "503871    BOS_airport\n",
       "503872    PHX_airport\n",
       "503873    CLT_airport\n",
       "503874    ORD_airport\n",
       "503875    PHX_airport\n",
       "503876    PHX_airport\n",
       "503877    SAN_airport\n",
       "503878    LAX_airport\n",
       "503879    PHX_airport\n",
       "503880    IAH_airport\n",
       "503881    PHX_airport\n",
       "503882    PHX_airport\n",
       "503883    DFW_airport\n",
       "503884    PHX_airport\n",
       "503885    SAN_airport\n",
       "503886    PHX_airport\n",
       "503887    SLC_airport\n",
       "503888    PHX_airport\n",
       "503889    SJC_airport\n",
       "503890    ATL_airport\n",
       "503891    CLT_airport\n",
       "503892    PHX_airport\n",
       "503893    CLT_airport\n",
       "503894    PHX_airport\n",
       "503895    TPA_airport\n",
       "503896    PHX_airport\n",
       "Name: Origin, dtype: object"
      ]
     },
     "execution_count": 38,
     "metadata": {},
     "output_type": "execute_result"
    }
   ],
   "source": [
    "df2['Origin'] + '_airport'"
   ]
  },
  {
   "cell_type": "code",
   "execution_count": 40,
   "metadata": {
    "collapsed": false
   },
   "outputs": [],
   "source": [
    "origin_cols = df2.columns[df2.columns.str.contains('Ori')]"
   ]
  },
  {
   "cell_type": "code",
   "execution_count": 41,
   "metadata": {
    "collapsed": false
   },
   "outputs": [
    {
     "data": {
      "text/html": [
       "<div>\n",
       "<table border=\"1\" class=\"dataframe\">\n",
       "  <thead>\n",
       "    <tr style=\"text-align: right;\">\n",
       "      <th></th>\n",
       "      <th>OriginAirportID</th>\n",
       "      <th>OriginAirportSeqID</th>\n",
       "      <th>OriginCityMarketID</th>\n",
       "      <th>Origin</th>\n",
       "      <th>OriginCityName</th>\n",
       "      <th>OriginState</th>\n",
       "      <th>OriginStateFips</th>\n",
       "      <th>OriginStateName</th>\n",
       "      <th>OriginWac</th>\n",
       "    </tr>\n",
       "  </thead>\n",
       "  <tbody>\n",
       "    <tr>\n",
       "      <th>0</th>\n",
       "      <td>12478</td>\n",
       "      <td>1247802</td>\n",
       "      <td>31703</td>\n",
       "      <td>JFK</td>\n",
       "      <td>New York, NY</td>\n",
       "      <td>NY</td>\n",
       "      <td>36</td>\n",
       "      <td>New York</td>\n",
       "      <td>22</td>\n",
       "    </tr>\n",
       "    <tr>\n",
       "      <th>1</th>\n",
       "      <td>12478</td>\n",
       "      <td>1247802</td>\n",
       "      <td>31703</td>\n",
       "      <td>JFK</td>\n",
       "      <td>New York, NY</td>\n",
       "      <td>NY</td>\n",
       "      <td>36</td>\n",
       "      <td>New York</td>\n",
       "      <td>22</td>\n",
       "    </tr>\n",
       "    <tr>\n",
       "      <th>2</th>\n",
       "      <td>12478</td>\n",
       "      <td>1247802</td>\n",
       "      <td>31703</td>\n",
       "      <td>JFK</td>\n",
       "      <td>New York, NY</td>\n",
       "      <td>NY</td>\n",
       "      <td>36</td>\n",
       "      <td>New York</td>\n",
       "      <td>22</td>\n",
       "    </tr>\n",
       "    <tr>\n",
       "      <th>3</th>\n",
       "      <td>12478</td>\n",
       "      <td>1247802</td>\n",
       "      <td>31703</td>\n",
       "      <td>JFK</td>\n",
       "      <td>New York, NY</td>\n",
       "      <td>NY</td>\n",
       "      <td>36</td>\n",
       "      <td>New York</td>\n",
       "      <td>22</td>\n",
       "    </tr>\n",
       "    <tr>\n",
       "      <th>4</th>\n",
       "      <td>12478</td>\n",
       "      <td>1247802</td>\n",
       "      <td>31703</td>\n",
       "      <td>JFK</td>\n",
       "      <td>New York, NY</td>\n",
       "      <td>NY</td>\n",
       "      <td>36</td>\n",
       "      <td>New York</td>\n",
       "      <td>22</td>\n",
       "    </tr>\n",
       "  </tbody>\n",
       "</table>\n",
       "</div>"
      ],
      "text/plain": [
       "   OriginAirportID  OriginAirportSeqID  OriginCityMarketID Origin  \\\n",
       "0            12478             1247802               31703    JFK   \n",
       "1            12478             1247802               31703    JFK   \n",
       "2            12478             1247802               31703    JFK   \n",
       "3            12478             1247802               31703    JFK   \n",
       "4            12478             1247802               31703    JFK   \n",
       "\n",
       "  OriginCityName OriginState  OriginStateFips OriginStateName  OriginWac  \n",
       "0   New York, NY          NY               36        New York         22  \n",
       "1   New York, NY          NY               36        New York         22  \n",
       "2   New York, NY          NY               36        New York         22  \n",
       "3   New York, NY          NY               36        New York         22  \n",
       "4   New York, NY          NY               36        New York         22  "
      ]
     },
     "execution_count": 41,
     "metadata": {},
     "output_type": "execute_result"
    }
   ],
   "source": [
    "df2[origin_cols].head()"
   ]
  },
  {
   "cell_type": "code",
   "execution_count": 43,
   "metadata": {
    "collapsed": false
   },
   "outputs": [
    {
     "data": {
      "text/plain": [
       "Index([u'Origin', u'OriginCityName', u'OriginStateName', u'Dest',\n",
       "       u'DestCityName', u'DestStateName'],\n",
       "      dtype='object')"
      ]
     },
     "execution_count": 43,
     "metadata": {},
     "output_type": "execute_result"
    }
   ],
   "source": [
    "cols_of_interest = pd.Index(['Origin', 'OriginCityName',\n",
    "                             'OriginStateName','Dest',\n",
    "                             'DestCityName', 'DestStateName'])\n",
    "cols_of_interest"
   ]
  },
  {
   "cell_type": "code",
   "execution_count": 48,
   "metadata": {
    "collapsed": false
   },
   "outputs": [
    {
     "data": {
      "text/plain": [
       "Index([u'OriginAirportID'], dtype='object')"
      ]
     },
     "execution_count": 48,
     "metadata": {},
     "output_type": "execute_result"
    }
   ],
   "source": [
    "pd.Index(['OriginAirportID'])"
   ]
  },
  {
   "cell_type": "code",
   "execution_count": 50,
   "metadata": {
    "collapsed": true
   },
   "outputs": [],
   "source": [
    "destination_cols = df2.columns[df2.columns.str.contains('Dest')]"
   ]
  },
  {
   "cell_type": "code",
   "execution_count": 51,
   "metadata": {
    "collapsed": false
   },
   "outputs": [
    {
     "data": {
      "text/plain": [
       "Index([u'DestAirportID', u'DestAirportSeqID', u'DestCityMarketID', u'Dest',\n",
       "       u'DestCityName', u'DestState', u'DestStateFips', u'DestStateName',\n",
       "       u'DestWac', u'DivReachedDest'],\n",
       "      dtype='object')"
      ]
     },
     "execution_count": 51,
     "metadata": {},
     "output_type": "execute_result"
    }
   ],
   "source": [
    "destination_cols"
   ]
  },
  {
   "cell_type": "code",
   "execution_count": 52,
   "metadata": {
    "collapsed": false
   },
   "outputs": [],
   "source": [
    "place_cols = origin_cols | destination_cols"
   ]
  },
  {
   "cell_type": "code",
   "execution_count": 53,
   "metadata": {
    "collapsed": false
   },
   "outputs": [
    {
     "data": {
      "text/plain": [
       "Index([u'Dest', u'DestAirportID', u'DestAirportSeqID', u'DestCityMarketID',\n",
       "       u'DestCityName', u'DestState', u'DestStateFips', u'DestStateName',\n",
       "       u'DestWac', u'DivReachedDest', u'Origin', u'OriginAirportID',\n",
       "       u'OriginAirportSeqID', u'OriginCityMarketID', u'OriginCityName',\n",
       "       u'OriginState', u'OriginStateFips', u'OriginStateName', u'OriginWac'],\n",
       "      dtype='object')"
      ]
     },
     "execution_count": 53,
     "metadata": {},
     "output_type": "execute_result"
    }
   ],
   "source": [
    "place_cols"
   ]
  },
  {
   "cell_type": "code",
   "execution_count": 87,
   "metadata": {
    "collapsed": false
   },
   "outputs": [],
   "source": [
    "cols_to_drop = place_cols.difference(cols_of_interest)"
   ]
  },
  {
   "cell_type": "code",
   "execution_count": 54,
   "metadata": {
    "collapsed": false
   },
   "outputs": [
    {
     "data": {
      "text/plain": [
       "0          Year\n",
       "1         Month\n",
       "2       Quarter\n",
       "3    DayofMonth\n",
       "dtype: object"
      ]
     },
     "execution_count": 54,
     "metadata": {},
     "output_type": "execute_result"
    }
   ],
   "source": [
    "time_cols_todrop = pd.Series(['Year', 'Month', \n",
    "                              'Quarter', 'DayofMonth'])\n",
    "time_cols_todrop"
   ]
  },
  {
   "cell_type": "code",
   "execution_count": 55,
   "metadata": {
    "collapsed": true
   },
   "outputs": [],
   "source": [
    "cols_to_drop = cols_to_drop | time_cols_todrop"
   ]
  },
  {
   "cell_type": "code",
   "execution_count": 56,
   "metadata": {
    "collapsed": false,
    "scrolled": true
   },
   "outputs": [
    {
     "data": {
      "text/plain": [
       "Div2Airport          True\n",
       "Div2AirportID        True\n",
       "Div2AirportSeqID     True\n",
       "Div2WheelsOn         True\n",
       "Div2TotalGTime       True\n",
       "Div2LongestGTime     True\n",
       "Div2WheelsOff        True\n",
       "Div2TailNum          True\n",
       "Div3Airport         False\n",
       "Div3AirportID       False\n",
       "Div3AirportSeqID    False\n",
       "Div3WheelsOn        False\n",
       "Div3TotalGTime      False\n",
       "Div3LongestGTime    False\n",
       "Div3WheelsOff       False\n",
       "Div3TailNum         False\n",
       "Div4Airport         False\n",
       "Div4AirportID       False\n",
       "Div4AirportSeqID    False\n",
       "Div4WheelsOn        False\n",
       "Div4TotalGTime      False\n",
       "Div4LongestGTime    False\n",
       "Div4WheelsOff       False\n",
       "Div4TailNum         False\n",
       "Div5Airport         False\n",
       "Div5AirportID       False\n",
       "Div5AirportSeqID    False\n",
       "Div5WheelsOn        False\n",
       "Div5TotalGTime      False\n",
       "Div5LongestGTime    False\n",
       "Div5WheelsOff       False\n",
       "Div5TailNum         False\n",
       "Unnamed: 109        False\n",
       "dtype: bool"
      ]
     },
     "execution_count": 56,
     "metadata": {},
     "output_type": "execute_result"
    }
   ],
   "source": [
    "cols_to_drop"
   ]
  },
  {
   "cell_type": "code",
   "execution_count": 91,
   "metadata": {
    "collapsed": true
   },
   "outputs": [],
   "source": [
    "df3 = df2.drop(cols_to_drop, axis=1)"
   ]
  },
  {
   "cell_type": "code",
   "execution_count": 92,
   "metadata": {
    "collapsed": false
   },
   "outputs": [
    {
     "data": {
      "text/plain": [
       "(510536, 60)"
      ]
     },
     "execution_count": 92,
     "metadata": {},
     "output_type": "execute_result"
    }
   ],
   "source": [
    "df3.shape"
   ]
  },
  {
   "cell_type": "code",
   "execution_count": 95,
   "metadata": {
    "collapsed": true
   },
   "outputs": [
    {
     "data": {
      "text/html": [
       "<div>\n",
       "<table border=\"1\" class=\"dataframe\">\n",
       "  <thead>\n",
       "    <tr style=\"text-align: right;\">\n",
       "      <th></th>\n",
       "      <th>DayOfWeek</th>\n",
       "      <th>FlightDate</th>\n",
       "      <th>UniqueCarrier</th>\n",
       "      <th>AirlineID</th>\n",
       "      <th>Carrier</th>\n",
       "      <th>TailNum</th>\n",
       "      <th>FlightNum</th>\n",
       "      <th>Origin</th>\n",
       "      <th>OriginCityName</th>\n",
       "      <th>OriginStateName</th>\n",
       "      <th>...</th>\n",
       "      <th>DivArrDelay</th>\n",
       "      <th>DivDistance</th>\n",
       "      <th>Div1Airport</th>\n",
       "      <th>Div1AirportID</th>\n",
       "      <th>Div1AirportSeqID</th>\n",
       "      <th>Div1WheelsOn</th>\n",
       "      <th>Div1TotalGTime</th>\n",
       "      <th>Div1LongestGTime</th>\n",
       "      <th>Div1WheelsOff</th>\n",
       "      <th>Div1TailNum</th>\n",
       "    </tr>\n",
       "  </thead>\n",
       "  <tbody>\n",
       "    <tr>\n",
       "      <th>0</th>\n",
       "      <td>7</td>\n",
       "      <td>2015-08-02</td>\n",
       "      <td>AA</td>\n",
       "      <td>19805</td>\n",
       "      <td>AA</td>\n",
       "      <td>N790AA</td>\n",
       "      <td>1</td>\n",
       "      <td>JFK</td>\n",
       "      <td>New York, NY</td>\n",
       "      <td>New York</td>\n",
       "      <td>...</td>\n",
       "      <td>NaN</td>\n",
       "      <td>NaN</td>\n",
       "      <td>NaN</td>\n",
       "      <td>NaN</td>\n",
       "      <td>NaN</td>\n",
       "      <td>NaN</td>\n",
       "      <td>NaN</td>\n",
       "      <td>NaN</td>\n",
       "      <td>NaN</td>\n",
       "      <td>NaN</td>\n",
       "    </tr>\n",
       "    <tr>\n",
       "      <th>1</th>\n",
       "      <td>1</td>\n",
       "      <td>2015-08-03</td>\n",
       "      <td>AA</td>\n",
       "      <td>19805</td>\n",
       "      <td>AA</td>\n",
       "      <td>N784AA</td>\n",
       "      <td>1</td>\n",
       "      <td>JFK</td>\n",
       "      <td>New York, NY</td>\n",
       "      <td>New York</td>\n",
       "      <td>...</td>\n",
       "      <td>NaN</td>\n",
       "      <td>NaN</td>\n",
       "      <td>NaN</td>\n",
       "      <td>NaN</td>\n",
       "      <td>NaN</td>\n",
       "      <td>NaN</td>\n",
       "      <td>NaN</td>\n",
       "      <td>NaN</td>\n",
       "      <td>NaN</td>\n",
       "      <td>NaN</td>\n",
       "    </tr>\n",
       "    <tr>\n",
       "      <th>2</th>\n",
       "      <td>2</td>\n",
       "      <td>2015-08-04</td>\n",
       "      <td>AA</td>\n",
       "      <td>19805</td>\n",
       "      <td>AA</td>\n",
       "      <td>N793AA</td>\n",
       "      <td>1</td>\n",
       "      <td>JFK</td>\n",
       "      <td>New York, NY</td>\n",
       "      <td>New York</td>\n",
       "      <td>...</td>\n",
       "      <td>NaN</td>\n",
       "      <td>NaN</td>\n",
       "      <td>NaN</td>\n",
       "      <td>NaN</td>\n",
       "      <td>NaN</td>\n",
       "      <td>NaN</td>\n",
       "      <td>NaN</td>\n",
       "      <td>NaN</td>\n",
       "      <td>NaN</td>\n",
       "      <td>NaN</td>\n",
       "    </tr>\n",
       "    <tr>\n",
       "      <th>3</th>\n",
       "      <td>3</td>\n",
       "      <td>2015-08-05</td>\n",
       "      <td>AA</td>\n",
       "      <td>19805</td>\n",
       "      <td>AA</td>\n",
       "      <td>N787AA</td>\n",
       "      <td>1</td>\n",
       "      <td>JFK</td>\n",
       "      <td>New York, NY</td>\n",
       "      <td>New York</td>\n",
       "      <td>...</td>\n",
       "      <td>NaN</td>\n",
       "      <td>NaN</td>\n",
       "      <td>NaN</td>\n",
       "      <td>NaN</td>\n",
       "      <td>NaN</td>\n",
       "      <td>NaN</td>\n",
       "      <td>NaN</td>\n",
       "      <td>NaN</td>\n",
       "      <td>NaN</td>\n",
       "      <td>NaN</td>\n",
       "    </tr>\n",
       "    <tr>\n",
       "      <th>4</th>\n",
       "      <td>4</td>\n",
       "      <td>2015-08-06</td>\n",
       "      <td>AA</td>\n",
       "      <td>19805</td>\n",
       "      <td>AA</td>\n",
       "      <td>N790AA</td>\n",
       "      <td>1</td>\n",
       "      <td>JFK</td>\n",
       "      <td>New York, NY</td>\n",
       "      <td>New York</td>\n",
       "      <td>...</td>\n",
       "      <td>NaN</td>\n",
       "      <td>NaN</td>\n",
       "      <td>NaN</td>\n",
       "      <td>NaN</td>\n",
       "      <td>NaN</td>\n",
       "      <td>NaN</td>\n",
       "      <td>NaN</td>\n",
       "      <td>NaN</td>\n",
       "      <td>NaN</td>\n",
       "      <td>NaN</td>\n",
       "    </tr>\n",
       "  </tbody>\n",
       "</table>\n",
       "<p>5 rows × 60 columns</p>\n",
       "</div>"
      ],
      "text/plain": [
       "   DayOfWeek  FlightDate UniqueCarrier  AirlineID Carrier TailNum  FlightNum  \\\n",
       "0          7  2015-08-02            AA      19805      AA  N790AA          1   \n",
       "1          1  2015-08-03            AA      19805      AA  N784AA          1   \n",
       "2          2  2015-08-04            AA      19805      AA  N793AA          1   \n",
       "3          3  2015-08-05            AA      19805      AA  N787AA          1   \n",
       "4          4  2015-08-06            AA      19805      AA  N790AA          1   \n",
       "\n",
       "  Origin OriginCityName OriginStateName     ...     DivArrDelay DivDistance  \\\n",
       "0    JFK   New York, NY        New York     ...             NaN         NaN   \n",
       "1    JFK   New York, NY        New York     ...             NaN         NaN   \n",
       "2    JFK   New York, NY        New York     ...             NaN         NaN   \n",
       "3    JFK   New York, NY        New York     ...             NaN         NaN   \n",
       "4    JFK   New York, NY        New York     ...             NaN         NaN   \n",
       "\n",
       "  Div1Airport  Div1AirportID  Div1AirportSeqID  Div1WheelsOn  Div1TotalGTime  \\\n",
       "0         NaN            NaN               NaN           NaN             NaN   \n",
       "1         NaN            NaN               NaN           NaN             NaN   \n",
       "2         NaN            NaN               NaN           NaN             NaN   \n",
       "3         NaN            NaN               NaN           NaN             NaN   \n",
       "4         NaN            NaN               NaN           NaN             NaN   \n",
       "\n",
       "   Div1LongestGTime  Div1WheelsOff Div1TailNum  \n",
       "0               NaN            NaN         NaN  \n",
       "1               NaN            NaN         NaN  \n",
       "2               NaN            NaN         NaN  \n",
       "3               NaN            NaN         NaN  \n",
       "4               NaN            NaN         NaN  \n",
       "\n",
       "[5 rows x 60 columns]"
      ]
     },
     "execution_count": 95,
     "metadata": {},
     "output_type": "execute_result"
    }
   ],
   "source": [
    "df3.head()"
   ]
  },
  {
   "cell_type": "code",
   "execution_count": 102,
   "metadata": {
    "collapsed": false
   },
   "outputs": [
    {
     "data": {
      "text/html": [
       "<div>\n",
       "<table border=\"1\" class=\"dataframe\">\n",
       "  <thead>\n",
       "    <tr style=\"text-align: right;\">\n",
       "      <th></th>\n",
       "      <th>DepDelay</th>\n",
       "      <th>DepDelayMinutes</th>\n",
       "      <th>DepartureDelayGroups</th>\n",
       "      <th>ArrDelay</th>\n",
       "      <th>ArrDelayMinutes</th>\n",
       "      <th>ArrivalDelayGroups</th>\n",
       "      <th>CarrierDelay</th>\n",
       "      <th>WeatherDelay</th>\n",
       "      <th>NASDelay</th>\n",
       "      <th>SecurityDelay</th>\n",
       "      <th>LateAircraftDelay</th>\n",
       "      <th>DivArrDelay</th>\n",
       "    </tr>\n",
       "  </thead>\n",
       "  <tbody>\n",
       "    <tr>\n",
       "      <th>0</th>\n",
       "      <td>-6</td>\n",
       "      <td>0</td>\n",
       "      <td>-1</td>\n",
       "      <td>-26</td>\n",
       "      <td>0</td>\n",
       "      <td>-2</td>\n",
       "      <td>NaN</td>\n",
       "      <td>NaN</td>\n",
       "      <td>NaN</td>\n",
       "      <td>NaN</td>\n",
       "      <td>NaN</td>\n",
       "      <td>NaN</td>\n",
       "    </tr>\n",
       "    <tr>\n",
       "      <th>1</th>\n",
       "      <td>-2</td>\n",
       "      <td>0</td>\n",
       "      <td>-1</td>\n",
       "      <td>5</td>\n",
       "      <td>5</td>\n",
       "      <td>0</td>\n",
       "      <td>NaN</td>\n",
       "      <td>NaN</td>\n",
       "      <td>NaN</td>\n",
       "      <td>NaN</td>\n",
       "      <td>NaN</td>\n",
       "      <td>NaN</td>\n",
       "    </tr>\n",
       "    <tr>\n",
       "      <th>2</th>\n",
       "      <td>2</td>\n",
       "      <td>2</td>\n",
       "      <td>0</td>\n",
       "      <td>6</td>\n",
       "      <td>6</td>\n",
       "      <td>0</td>\n",
       "      <td>NaN</td>\n",
       "      <td>NaN</td>\n",
       "      <td>NaN</td>\n",
       "      <td>NaN</td>\n",
       "      <td>NaN</td>\n",
       "      <td>NaN</td>\n",
       "    </tr>\n",
       "    <tr>\n",
       "      <th>3</th>\n",
       "      <td>-3</td>\n",
       "      <td>0</td>\n",
       "      <td>-1</td>\n",
       "      <td>22</td>\n",
       "      <td>22</td>\n",
       "      <td>1</td>\n",
       "      <td>0</td>\n",
       "      <td>0</td>\n",
       "      <td>22</td>\n",
       "      <td>0</td>\n",
       "      <td>0</td>\n",
       "      <td>NaN</td>\n",
       "    </tr>\n",
       "    <tr>\n",
       "      <th>4</th>\n",
       "      <td>-3</td>\n",
       "      <td>0</td>\n",
       "      <td>-1</td>\n",
       "      <td>10</td>\n",
       "      <td>10</td>\n",
       "      <td>0</td>\n",
       "      <td>NaN</td>\n",
       "      <td>NaN</td>\n",
       "      <td>NaN</td>\n",
       "      <td>NaN</td>\n",
       "      <td>NaN</td>\n",
       "      <td>NaN</td>\n",
       "    </tr>\n",
       "  </tbody>\n",
       "</table>\n",
       "</div>"
      ],
      "text/plain": [
       "   DepDelay  DepDelayMinutes  DepartureDelayGroups  ArrDelay  ArrDelayMinutes  \\\n",
       "0        -6                0                    -1       -26                0   \n",
       "1        -2                0                    -1         5                5   \n",
       "2         2                2                     0         6                6   \n",
       "3        -3                0                    -1        22               22   \n",
       "4        -3                0                    -1        10               10   \n",
       "\n",
       "   ArrivalDelayGroups  CarrierDelay  WeatherDelay  NASDelay  SecurityDelay  \\\n",
       "0                  -2           NaN           NaN       NaN            NaN   \n",
       "1                   0           NaN           NaN       NaN            NaN   \n",
       "2                   0           NaN           NaN       NaN            NaN   \n",
       "3                   1             0             0        22              0   \n",
       "4                   0           NaN           NaN       NaN            NaN   \n",
       "\n",
       "   LateAircraftDelay  DivArrDelay  \n",
       "0                NaN          NaN  \n",
       "1                NaN          NaN  \n",
       "2                NaN          NaN  \n",
       "3                  0          NaN  \n",
       "4                NaN          NaN  "
      ]
     },
     "execution_count": 102,
     "metadata": {},
     "output_type": "execute_result"
    }
   ],
   "source": [
    "df3[df3.columns[df3.columns.str.contains('Delay')]].head()"
   ]
  },
  {
   "cell_type": "code",
   "execution_count": 103,
   "metadata": {
    "collapsed": true
   },
   "outputs": [],
   "source": [
    "cols_to_drop = df3.columns[df3.columns.str\\\n",
    "                              .contains('Delay')]\\\n",
    "                              .difference(pd.Series(['DepDelay']))"
   ]
  },
  {
   "cell_type": "code",
   "execution_count": 104,
   "metadata": {
    "collapsed": false
   },
   "outputs": [
    {
     "data": {
      "text/plain": [
       "11"
      ]
     },
     "execution_count": 104,
     "metadata": {},
     "output_type": "execute_result"
    }
   ],
   "source": [
    "len(cols_to_drop)"
   ]
  },
  {
   "cell_type": "code",
   "execution_count": 109,
   "metadata": {
    "collapsed": true
   },
   "outputs": [],
   "source": [
    "df4 = df3.drop(cols_to_drop, axis=1)"
   ]
  },
  {
   "cell_type": "code",
   "execution_count": 110,
   "metadata": {
    "collapsed": false
   },
   "outputs": [
    {
     "data": {
      "text/plain": [
       "(510536, 49)"
      ]
     },
     "execution_count": 110,
     "metadata": {},
     "output_type": "execute_result"
    }
   ],
   "source": [
    "df4.shape"
   ]
  },
  {
   "cell_type": "code",
   "execution_count": 111,
   "metadata": {
    "collapsed": false
   },
   "outputs": [
    {
     "data": {
      "text/plain": [
       "0    854\n",
       "1    858\n",
       "2    902\n",
       "3    857\n",
       "4    857\n",
       "Name: DepTime, dtype: float64"
      ]
     },
     "execution_count": 111,
     "metadata": {},
     "output_type": "execute_result"
    }
   ],
   "source": [
    "df4['DepTime'].head()"
   ]
  },
  {
   "cell_type": "markdown",
   "metadata": {},
   "source": [
    "902 => \"09:02\""
   ]
  },
  {
   "cell_type": "code",
   "execution_count": 120,
   "metadata": {
    "collapsed": true
   },
   "outputs": [],
   "source": [
    "def format_time(fl):\n",
    "    fl_str = str(int(fl))\n",
    "    if len(fl_str) < 4:\n",
    "        fl_str = \"0\" + fl_str\n",
    "    \n",
    "    result = fl_str[:2] + ':' + fl_str[2:]\n",
    "    return result\n",
    "    "
   ]
  },
  {
   "cell_type": "code",
   "execution_count": 122,
   "metadata": {
    "collapsed": true
   },
   "outputs": [
    {
     "data": {
      "text/plain": [
       "0         08:54\n",
       "1         08:58\n",
       "2         09:02\n",
       "3         08:57\n",
       "4         08:57\n",
       "5         08:54\n",
       "6         08:54\n",
       "7         08:50\n",
       "8         10:23\n",
       "9         08:53\n",
       "10        08:53\n",
       "11        08:53\n",
       "12        08:56\n",
       "13        08:54\n",
       "14        09:08\n",
       "15        08:54\n",
       "16        08:56\n",
       "17        08:55\n",
       "18        08:52\n",
       "19        08:51\n",
       "20        08:52\n",
       "21        08:54\n",
       "22        08:53\n",
       "23        08:53\n",
       "24        08:54\n",
       "25        08:56\n",
       "26        08:51\n",
       "27        08:56\n",
       "28        08:54\n",
       "29        08:59\n",
       "          ...  \n",
       "510506    18:59\n",
       "510507    18:51\n",
       "510508    18:49\n",
       "510509    18:52\n",
       "510510    18:50\n",
       "510511    19:06\n",
       "510512    18:49\n",
       "510513    18:53\n",
       "510514    18:53\n",
       "510515    18:53\n",
       "510516    18:56\n",
       "510517    18:59\n",
       "510518    19:03\n",
       "510519    18:56\n",
       "510520    18:59\n",
       "510521    19:54\n",
       "510522    18:52\n",
       "510523    19:38\n",
       "510524    18:54\n",
       "510525    18:51\n",
       "510526    18:49\n",
       "510527    18:50\n",
       "510528    19:04\n",
       "510529    17:44\n",
       "510530    17:37\n",
       "510531    17:43\n",
       "510532    17:37\n",
       "510533    17:58\n",
       "510534    17:38\n",
       "510535    17:40\n",
       "Name: DepTime, dtype: object"
      ]
     },
     "execution_count": 122,
     "metadata": {},
     "output_type": "execute_result"
    }
   ],
   "source": [
    "df4['DepTime'].fillna(0.0).map(format_time)"
   ]
  },
  {
   "cell_type": "code",
   "execution_count": 128,
   "metadata": {
    "collapsed": true
   },
   "outputs": [],
   "source": [
    "def format_time_f(fl):\n",
    "    hours = int(fl / 100) % 24\n",
    "    minutes = int(fl) % 100\n",
    "    \n",
    "    result = '%02d:%02d' % (hours, minutes)\n",
    "    return result "
   ]
  },
  {
   "cell_type": "code",
   "execution_count": 132,
   "metadata": {
    "collapsed": true
   },
   "outputs": [
    {
     "data": {
      "text/plain": [
       "415       00:\n",
       "417       00:\n",
       "443       00:\n",
       "445       00:\n",
       "752       00:\n",
       "780       00:\n",
       "782       00:\n",
       "919       00:\n",
       "982       00:\n",
       "996       00:\n",
       "1034      00:\n",
       "1040      00:\n",
       "1051      00:\n",
       "1088      00:\n",
       "1153      00:\n",
       "1229      00:\n",
       "1460      00:\n",
       "1581      00:\n",
       "1798      00:\n",
       "1913      00:\n",
       "1918      00:\n",
       "1935      00:\n",
       "2031      00:\n",
       "2428      00:\n",
       "2605      00:\n",
       "3106      00:\n",
       "3174      00:\n",
       "3206      00:\n",
       "3231      00:\n",
       "3241      00:\n",
       "         ... \n",
       "500664    00:\n",
       "500719    00:\n",
       "500727    00:\n",
       "500775    00:\n",
       "500776    00:\n",
       "501824    00:\n",
       "501825    00:\n",
       "502080    00:\n",
       "503131    00:\n",
       "504037    00:\n",
       "504038    00:\n",
       "504314    00:\n",
       "504840    00:\n",
       "505743    00:\n",
       "505832    00:\n",
       "505833    00:\n",
       "506362    00:\n",
       "506363    00:\n",
       "506628    00:\n",
       "506629    00:\n",
       "506630    00:\n",
       "506631    00:\n",
       "506632    00:\n",
       "506633    00:\n",
       "506634    00:\n",
       "506635    00:\n",
       "507521    00:\n",
       "508417    00:\n",
       "508418    00:\n",
       "509750    00:\n",
       "Name: DepTime, dtype: object"
      ]
     },
     "execution_count": 132,
     "metadata": {},
     "output_type": "execute_result"
    }
   ],
   "source": [
    "df4['DepTime'][df4['DepTime'].isnull()]\\\n",
    "    .fillna(0.0).map(format_time_f)"
   ]
  },
  {
   "cell_type": "code",
   "execution_count": 137,
   "metadata": {
    "collapsed": true
   },
   "outputs": [
    {
     "data": {
      "text/plain": [
       "415       00:\n",
       "417       00:\n",
       "443       00:\n",
       "445       00:\n",
       "752       00:\n",
       "780       00:\n",
       "782       00:\n",
       "919       00:\n",
       "982       00:\n",
       "996       00:\n",
       "1034      00:\n",
       "1040      00:\n",
       "1051      00:\n",
       "1088      00:\n",
       "1153      00:\n",
       "1229      00:\n",
       "1460      00:\n",
       "1581      00:\n",
       "1798      00:\n",
       "1913      00:\n",
       "1918      00:\n",
       "1935      00:\n",
       "2031      00:\n",
       "2428      00:\n",
       "2605      00:\n",
       "3106      00:\n",
       "3174      00:\n",
       "3206      00:\n",
       "3231      00:\n",
       "3241      00:\n",
       "         ... \n",
       "500664    00:\n",
       "500719    00:\n",
       "500727    00:\n",
       "500775    00:\n",
       "500776    00:\n",
       "501824    00:\n",
       "501825    00:\n",
       "502080    00:\n",
       "503131    00:\n",
       "504037    00:\n",
       "504038    00:\n",
       "504314    00:\n",
       "504840    00:\n",
       "505743    00:\n",
       "505832    00:\n",
       "505833    00:\n",
       "506362    00:\n",
       "506363    00:\n",
       "506628    00:\n",
       "506629    00:\n",
       "506630    00:\n",
       "506631    00:\n",
       "506632    00:\n",
       "506633    00:\n",
       "506634    00:\n",
       "506635    00:\n",
       "507521    00:\n",
       "508417    00:\n",
       "508418    00:\n",
       "509750    00:\n",
       "Name: DepTime, dtype: object"
      ]
     },
     "execution_count": 137,
     "metadata": {},
     "output_type": "execute_result"
    }
   ],
   "source": [
    "df4['DepTime'][df4['DepTime'].isnull()]\\\n",
    "    .fillna(0.0).map(format_time)"
   ]
  },
  {
   "cell_type": "code",
   "execution_count": 138,
   "metadata": {
    "collapsed": true
   },
   "outputs": [],
   "source": [
    "df4['DepTimeFormatted'] = df4['DepTime']\\\n",
    "    .fillna(0.0).map(format_time_f)"
   ]
  },
  {
   "cell_type": "code",
   "execution_count": 141,
   "metadata": {
    "collapsed": false
   },
   "outputs": [],
   "source": [
    "df4['DepDateTime'] = \\\n",
    "    pd.to_datetime(df4['FlightDate'] + ' ' + \\\n",
    "                   df4['DepTimeFormatted'], \\\n",
    "                   format='%Y-%m-%d %H:%M')"
   ]
  },
  {
   "cell_type": "code",
   "execution_count": 142,
   "metadata": {
    "collapsed": false
   },
   "outputs": [
    {
     "data": {
      "text/plain": [
       "0   2015-08-02 08:54:00\n",
       "1   2015-08-03 08:58:00\n",
       "2   2015-08-04 09:02:00\n",
       "3   2015-08-05 08:57:00\n",
       "4   2015-08-06 08:57:00\n",
       "Name: DepDateTime, dtype: datetime64[ns]"
      ]
     },
     "execution_count": 142,
     "metadata": {},
     "output_type": "execute_result"
    }
   ],
   "source": [
    "df4['DepDateTime'].head()"
   ]
  },
  {
   "cell_type": "code",
   "execution_count": 145,
   "metadata": {
    "collapsed": false
   },
   "outputs": [
    {
     "data": {
      "text/html": [
       "<div>\n",
       "<table border=\"1\" class=\"dataframe\">\n",
       "  <thead>\n",
       "    <tr style=\"text-align: right;\">\n",
       "      <th></th>\n",
       "      <th>DayOfWeek</th>\n",
       "      <th>FlightDate</th>\n",
       "      <th>UniqueCarrier</th>\n",
       "      <th>AirlineID</th>\n",
       "      <th>Carrier</th>\n",
       "      <th>TailNum</th>\n",
       "      <th>FlightNum</th>\n",
       "      <th>Origin</th>\n",
       "      <th>OriginCityName</th>\n",
       "      <th>OriginStateName</th>\n",
       "      <th>...</th>\n",
       "      <th>Div1Airport</th>\n",
       "      <th>Div1AirportID</th>\n",
       "      <th>Div1AirportSeqID</th>\n",
       "      <th>Div1WheelsOn</th>\n",
       "      <th>Div1TotalGTime</th>\n",
       "      <th>Div1LongestGTime</th>\n",
       "      <th>Div1WheelsOff</th>\n",
       "      <th>Div1TailNum</th>\n",
       "      <th>DepTimeFormatted</th>\n",
       "      <th>DepDateTime</th>\n",
       "    </tr>\n",
       "  </thead>\n",
       "  <tbody>\n",
       "    <tr>\n",
       "      <th>0</th>\n",
       "      <td>7</td>\n",
       "      <td>2015-08-02</td>\n",
       "      <td>AA</td>\n",
       "      <td>19805</td>\n",
       "      <td>AA</td>\n",
       "      <td>N790AA</td>\n",
       "      <td>1</td>\n",
       "      <td>JFK</td>\n",
       "      <td>New York, NY</td>\n",
       "      <td>New York</td>\n",
       "      <td>...</td>\n",
       "      <td>NaN</td>\n",
       "      <td>NaN</td>\n",
       "      <td>NaN</td>\n",
       "      <td>NaN</td>\n",
       "      <td>NaN</td>\n",
       "      <td>NaN</td>\n",
       "      <td>NaN</td>\n",
       "      <td>NaN</td>\n",
       "      <td>08:54</td>\n",
       "      <td>2015-08-02 08:54:00</td>\n",
       "    </tr>\n",
       "    <tr>\n",
       "      <th>1</th>\n",
       "      <td>1</td>\n",
       "      <td>2015-08-03</td>\n",
       "      <td>AA</td>\n",
       "      <td>19805</td>\n",
       "      <td>AA</td>\n",
       "      <td>N784AA</td>\n",
       "      <td>1</td>\n",
       "      <td>JFK</td>\n",
       "      <td>New York, NY</td>\n",
       "      <td>New York</td>\n",
       "      <td>...</td>\n",
       "      <td>NaN</td>\n",
       "      <td>NaN</td>\n",
       "      <td>NaN</td>\n",
       "      <td>NaN</td>\n",
       "      <td>NaN</td>\n",
       "      <td>NaN</td>\n",
       "      <td>NaN</td>\n",
       "      <td>NaN</td>\n",
       "      <td>08:58</td>\n",
       "      <td>2015-08-03 08:58:00</td>\n",
       "    </tr>\n",
       "    <tr>\n",
       "      <th>2</th>\n",
       "      <td>2</td>\n",
       "      <td>2015-08-04</td>\n",
       "      <td>AA</td>\n",
       "      <td>19805</td>\n",
       "      <td>AA</td>\n",
       "      <td>N793AA</td>\n",
       "      <td>1</td>\n",
       "      <td>JFK</td>\n",
       "      <td>New York, NY</td>\n",
       "      <td>New York</td>\n",
       "      <td>...</td>\n",
       "      <td>NaN</td>\n",
       "      <td>NaN</td>\n",
       "      <td>NaN</td>\n",
       "      <td>NaN</td>\n",
       "      <td>NaN</td>\n",
       "      <td>NaN</td>\n",
       "      <td>NaN</td>\n",
       "      <td>NaN</td>\n",
       "      <td>09:02</td>\n",
       "      <td>2015-08-04 09:02:00</td>\n",
       "    </tr>\n",
       "    <tr>\n",
       "      <th>3</th>\n",
       "      <td>3</td>\n",
       "      <td>2015-08-05</td>\n",
       "      <td>AA</td>\n",
       "      <td>19805</td>\n",
       "      <td>AA</td>\n",
       "      <td>N787AA</td>\n",
       "      <td>1</td>\n",
       "      <td>JFK</td>\n",
       "      <td>New York, NY</td>\n",
       "      <td>New York</td>\n",
       "      <td>...</td>\n",
       "      <td>NaN</td>\n",
       "      <td>NaN</td>\n",
       "      <td>NaN</td>\n",
       "      <td>NaN</td>\n",
       "      <td>NaN</td>\n",
       "      <td>NaN</td>\n",
       "      <td>NaN</td>\n",
       "      <td>NaN</td>\n",
       "      <td>08:57</td>\n",
       "      <td>2015-08-05 08:57:00</td>\n",
       "    </tr>\n",
       "    <tr>\n",
       "      <th>4</th>\n",
       "      <td>4</td>\n",
       "      <td>2015-08-06</td>\n",
       "      <td>AA</td>\n",
       "      <td>19805</td>\n",
       "      <td>AA</td>\n",
       "      <td>N790AA</td>\n",
       "      <td>1</td>\n",
       "      <td>JFK</td>\n",
       "      <td>New York, NY</td>\n",
       "      <td>New York</td>\n",
       "      <td>...</td>\n",
       "      <td>NaN</td>\n",
       "      <td>NaN</td>\n",
       "      <td>NaN</td>\n",
       "      <td>NaN</td>\n",
       "      <td>NaN</td>\n",
       "      <td>NaN</td>\n",
       "      <td>NaN</td>\n",
       "      <td>NaN</td>\n",
       "      <td>08:57</td>\n",
       "      <td>2015-08-06 08:57:00</td>\n",
       "    </tr>\n",
       "  </tbody>\n",
       "</table>\n",
       "<p>5 rows × 51 columns</p>\n",
       "</div>"
      ],
      "text/plain": [
       "   DayOfWeek  FlightDate UniqueCarrier  AirlineID Carrier TailNum  FlightNum  \\\n",
       "0          7  2015-08-02            AA      19805      AA  N790AA          1   \n",
       "1          1  2015-08-03            AA      19805      AA  N784AA          1   \n",
       "2          2  2015-08-04            AA      19805      AA  N793AA          1   \n",
       "3          3  2015-08-05            AA      19805      AA  N787AA          1   \n",
       "4          4  2015-08-06            AA      19805      AA  N790AA          1   \n",
       "\n",
       "  Origin OriginCityName OriginStateName         ...         Div1Airport  \\\n",
       "0    JFK   New York, NY        New York         ...                 NaN   \n",
       "1    JFK   New York, NY        New York         ...                 NaN   \n",
       "2    JFK   New York, NY        New York         ...                 NaN   \n",
       "3    JFK   New York, NY        New York         ...                 NaN   \n",
       "4    JFK   New York, NY        New York         ...                 NaN   \n",
       "\n",
       "  Div1AirportID Div1AirportSeqID  Div1WheelsOn  Div1TotalGTime  \\\n",
       "0           NaN              NaN           NaN             NaN   \n",
       "1           NaN              NaN           NaN             NaN   \n",
       "2           NaN              NaN           NaN             NaN   \n",
       "3           NaN              NaN           NaN             NaN   \n",
       "4           NaN              NaN           NaN             NaN   \n",
       "\n",
       "   Div1LongestGTime  Div1WheelsOff Div1TailNum  DepTimeFormatted  \\\n",
       "0               NaN            NaN         NaN             08:54   \n",
       "1               NaN            NaN         NaN             08:58   \n",
       "2               NaN            NaN         NaN             09:02   \n",
       "3               NaN            NaN         NaN             08:57   \n",
       "4               NaN            NaN         NaN             08:57   \n",
       "\n",
       "          DepDateTime  \n",
       "0 2015-08-02 08:54:00  \n",
       "1 2015-08-03 08:58:00  \n",
       "2 2015-08-04 09:02:00  \n",
       "3 2015-08-05 08:57:00  \n",
       "4 2015-08-06 08:57:00  \n",
       "\n",
       "[5 rows x 51 columns]"
      ]
     },
     "execution_count": 145,
     "metadata": {},
     "output_type": "execute_result"
    }
   ],
   "source": [
    "df4.head()"
   ]
  },
  {
   "cell_type": "code",
   "execution_count": null,
   "metadata": {
    "collapsed": true
   },
   "outputs": [],
   "source": []
  },
  {
   "cell_type": "code",
   "execution_count": null,
   "metadata": {
    "collapsed": true
   },
   "outputs": [],
   "source": []
  }
 ],
 "metadata": {
  "kernelspec": {
   "display_name": "Python 2",
   "language": "python",
   "name": "python2"
  },
  "language_info": {
   "codemirror_mode": {
    "name": "ipython",
    "version": 2
   },
   "file_extension": ".py",
   "mimetype": "text/x-python",
   "name": "python",
   "nbconvert_exporter": "python",
   "pygments_lexer": "ipython2",
   "version": "2.7.11"
  }
 },
 "nbformat": 4,
 "nbformat_minor": 0
}
