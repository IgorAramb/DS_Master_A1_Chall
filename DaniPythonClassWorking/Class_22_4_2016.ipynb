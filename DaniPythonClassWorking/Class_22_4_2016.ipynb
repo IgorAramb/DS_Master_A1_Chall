{
 "cells": [
  {
   "cell_type": "code",
   "execution_count": 1,
   "metadata": {
    "collapsed": true
   },
   "outputs": [],
   "source": [
    "path = '/home/dsc/Data/us_dot/otp/'"
   ]
  },
  {
   "cell_type": "code",
   "execution_count": 2,
   "metadata": {
    "collapsed": false
   },
   "outputs": [],
   "source": [
    "path =   '../data/us_dot/otp/'"
   ]
  },
  {
   "cell_type": "code",
   "execution_count": 2,
   "metadata": {
    "collapsed": false
   },
   "outputs": [
    {
     "name": "stdout",
     "output_type": "stream",
     "text": [
      "On_Time_On_Time_Performance_2015_1.zip\tOn_Time_On_Time_Performance_2015_5.zip\r\n",
      "On_Time_On_Time_Performance_2015_2.zip\tOn_Time_On_Time_Performance_2015_6.zip\r\n",
      "On_Time_On_Time_Performance_2015_3.zip\tOn_Time_On_Time_Performance_2015_7.zip\r\n",
      "On_Time_On_Time_Performance_2015_4.zip\tOn_Time_On_Time_Performance_2015_8.zip\r\n"
     ]
    }
   ],
   "source": [
    "! ls {path}"
   ]
  },
  {
   "cell_type": "code",
   "execution_count": 3,
   "metadata": {
    "collapsed": true
   },
   "outputs": [],
   "source": [
    "files = !ls {path}"
   ]
  },
  {
   "cell_type": "code",
   "execution_count": 4,
   "metadata": {
    "collapsed": true
   },
   "outputs": [],
   "source": [
    "first_file = files[0]"
   ]
  },
  {
   "cell_type": "code",
   "execution_count": 5,
   "metadata": {
    "collapsed": false
   },
   "outputs": [
    {
     "data": {
      "text/plain": [
       "'On_Time_On_Time_Performance_2015_1.zip'"
      ]
     },
     "execution_count": 5,
     "metadata": {},
     "output_type": "execute_result"
    }
   ],
   "source": [
    "first_file"
   ]
  },
  {
   "cell_type": "code",
   "execution_count": 6,
   "metadata": {
    "collapsed": false
   },
   "outputs": [
    {
     "name": "stdout",
     "output_type": "stream",
     "text": [
      "Archive:  /home/dsc/Data/us_dot/otp/On_Time_On_Time_Performance_2015_1.zip\r\n",
      "  Length      Date    Time    Name\r\n",
      "---------  ---------- -----   ----\r\n",
      "211633432  04-16-2015 20:02   On_Time_On_Time_Performance_2015_1.csv\r\n",
      "    12054  04-16-2015 20:02   readme.html\r\n",
      "---------                     -------\r\n",
      "211645486                     2 files\r\n"
     ]
    }
   ],
   "source": [
    "!unzip -l {path + first_file}"
   ]
  },
  {
   "cell_type": "code",
   "execution_count": 7,
   "metadata": {
    "collapsed": false
   },
   "outputs": [
    {
     "name": "stdout",
     "output_type": "stream",
     "text": [
      "Archive:  /home/dsc/Data/us_dot/otp/On_Time_On_Time_Performance_2015_1.zip\r\n",
      "  inflating: /home/dsc/Documents/DS_Master_A1_Chall/DaniPythonClassWorking/readme.html  \r\n"
     ]
    }
   ],
   "source": [
    "!unzip -o {path + first_file} readme.html -d $(pwd)"
   ]
  },
  {
   "cell_type": "code",
   "execution_count": 8,
   "metadata": {
    "collapsed": true
   },
   "outputs": [],
   "source": [
    "from IPython.display import IFrame"
   ]
  },
  {
   "cell_type": "code",
   "execution_count": 9,
   "metadata": {
    "collapsed": false
   },
   "outputs": [
    {
     "data": {
      "text/html": [
       "\n",
       "        <iframe\n",
       "            width=\"700\"\n",
       "            height=\"350\"\n",
       "            src=\"readme.html\"\n",
       "            frameborder=\"0\"\n",
       "            allowfullscreen\n",
       "        ></iframe>\n",
       "        "
      ],
      "text/plain": [
       "<IPython.lib.display.IFrame at 0x7efe572b5210>"
      ]
     },
     "execution_count": 9,
     "metadata": {},
     "output_type": "execute_result"
    }
   ],
   "source": [
    "IFrame('readme.html', width=700, height=350)"
   ]
  },
  {
   "cell_type": "code",
   "execution_count": 10,
   "metadata": {
    "collapsed": false
   },
   "outputs": [
    {
     "data": {
      "text/html": [
       "\n",
       "        <iframe\n",
       "            width=\"700\"\n",
       "            height=\"350\"\n",
       "            src=\"http://www.elpais.com\"\n",
       "            frameborder=\"0\"\n",
       "            allowfullscreen\n",
       "        ></iframe>\n",
       "        "
      ],
      "text/plain": [
       "<IPython.lib.display.IFrame at 0x7efe572b5490>"
      ]
     },
     "execution_count": 10,
     "metadata": {},
     "output_type": "execute_result"
    }
   ],
   "source": [
    "IFrame('http://www.elpais.com', width=700, height=350)"
   ]
  },
  {
   "cell_type": "code",
   "execution_count": 11,
   "metadata": {
    "collapsed": true
   },
   "outputs": [],
   "source": [
    "import os\n",
    "import zipfile"
   ]
  },
  {
   "cell_type": "code",
   "execution_count": 12,
   "metadata": {
    "collapsed": false
   },
   "outputs": [],
   "source": [
    "filenames = os.listdir(path)"
   ]
  },
  {
   "cell_type": "code",
   "execution_count": 13,
   "metadata": {
    "collapsed": false
   },
   "outputs": [
    {
     "data": {
      "text/plain": [
       "['On_Time_On_Time_Performance_2015_6.zip',\n",
       " 'On_Time_On_Time_Performance_2015_8.zip',\n",
       " 'On_Time_On_Time_Performance_2015_1.zip',\n",
       " 'On_Time_On_Time_Performance_2015_5.zip',\n",
       " 'On_Time_On_Time_Performance_2015_2.zip',\n",
       " 'On_Time_On_Time_Performance_2015_7.zip',\n",
       " 'On_Time_On_Time_Performance_2015_4.zip',\n",
       " 'On_Time_On_Time_Performance_2015_3.zip']"
      ]
     },
     "execution_count": 13,
     "metadata": {},
     "output_type": "execute_result"
    }
   ],
   "source": [
    "filenames"
   ]
  },
  {
   "cell_type": "code",
   "execution_count": 14,
   "metadata": {
    "collapsed": true
   },
   "outputs": [],
   "source": [
    "zip_file = zipfile.ZipFile(path + filenames[0])"
   ]
  },
  {
   "cell_type": "code",
   "execution_count": 15,
   "metadata": {
    "collapsed": false
   },
   "outputs": [
    {
     "data": {
      "text/plain": [
       "zipfile.ZipFile"
      ]
     },
     "execution_count": 15,
     "metadata": {},
     "output_type": "execute_result"
    }
   ],
   "source": [
    "type(zip_file)"
   ]
  },
  {
   "cell_type": "code",
   "execution_count": 16,
   "metadata": {
    "collapsed": true
   },
   "outputs": [],
   "source": [
    "import pandas as pd"
   ]
  },
  {
   "cell_type": "code",
   "execution_count": 17,
   "metadata": {
    "collapsed": true
   },
   "outputs": [],
   "source": [
    "csv_file = zip_file.open(filenames[0].split('.')[0] + '.csv')"
   ]
  },
  {
   "cell_type": "code",
   "execution_count": 18,
   "metadata": {
    "collapsed": false
   },
   "outputs": [
    {
     "data": {
      "text/plain": [
       "zipfile.ZipExtFile"
      ]
     },
     "execution_count": 18,
     "metadata": {},
     "output_type": "execute_result"
    }
   ],
   "source": [
    "type(csv_file)"
   ]
  },
  {
   "cell_type": "code",
   "execution_count": 19,
   "metadata": {
    "collapsed": false
   },
   "outputs": [
    {
     "name": "stderr",
     "output_type": "stream",
     "text": [
      "/home/dsc/anaconda2/lib/python2.7/site-packages/IPython/core/interactiveshell.py:2902: DtypeWarning: Columns (48,77,84) have mixed types. Specify dtype option on import or set low_memory=False.\n",
      "  interactivity=interactivity, compiler=compiler, result=result)\n"
     ]
    }
   ],
   "source": [
    "df = pd.read_csv(csv_file, header=0)"
   ]
  },
  {
   "cell_type": "code",
   "execution_count": 20,
   "metadata": {
    "collapsed": false
   },
   "outputs": [
    {
     "data": {
      "text/html": [
       "<div>\n",
       "<table border=\"1\" class=\"dataframe\">\n",
       "  <thead>\n",
       "    <tr style=\"text-align: right;\">\n",
       "      <th></th>\n",
       "      <th>Year</th>\n",
       "      <th>Quarter</th>\n",
       "      <th>Month</th>\n",
       "      <th>DayofMonth</th>\n",
       "      <th>DayOfWeek</th>\n",
       "      <th>FlightDate</th>\n",
       "      <th>UniqueCarrier</th>\n",
       "      <th>AirlineID</th>\n",
       "      <th>Carrier</th>\n",
       "      <th>TailNum</th>\n",
       "      <th>...</th>\n",
       "      <th>Div4TailNum</th>\n",
       "      <th>Div5Airport</th>\n",
       "      <th>Div5AirportID</th>\n",
       "      <th>Div5AirportSeqID</th>\n",
       "      <th>Div5WheelsOn</th>\n",
       "      <th>Div5TotalGTime</th>\n",
       "      <th>Div5LongestGTime</th>\n",
       "      <th>Div5WheelsOff</th>\n",
       "      <th>Div5TailNum</th>\n",
       "      <th>Unnamed: 109</th>\n",
       "    </tr>\n",
       "  </thead>\n",
       "  <tbody>\n",
       "    <tr>\n",
       "      <th>0</th>\n",
       "      <td>2015</td>\n",
       "      <td>2</td>\n",
       "      <td>6</td>\n",
       "      <td>1</td>\n",
       "      <td>1</td>\n",
       "      <td>2015-06-01</td>\n",
       "      <td>AA</td>\n",
       "      <td>19805</td>\n",
       "      <td>AA</td>\n",
       "      <td>N798AA</td>\n",
       "      <td>...</td>\n",
       "      <td>NaN</td>\n",
       "      <td>NaN</td>\n",
       "      <td>NaN</td>\n",
       "      <td>NaN</td>\n",
       "      <td>NaN</td>\n",
       "      <td>NaN</td>\n",
       "      <td>NaN</td>\n",
       "      <td>NaN</td>\n",
       "      <td>NaN</td>\n",
       "      <td>NaN</td>\n",
       "    </tr>\n",
       "    <tr>\n",
       "      <th>1</th>\n",
       "      <td>2015</td>\n",
       "      <td>2</td>\n",
       "      <td>6</td>\n",
       "      <td>2</td>\n",
       "      <td>2</td>\n",
       "      <td>2015-06-02</td>\n",
       "      <td>AA</td>\n",
       "      <td>19805</td>\n",
       "      <td>AA</td>\n",
       "      <td>N788AA</td>\n",
       "      <td>...</td>\n",
       "      <td>NaN</td>\n",
       "      <td>NaN</td>\n",
       "      <td>NaN</td>\n",
       "      <td>NaN</td>\n",
       "      <td>NaN</td>\n",
       "      <td>NaN</td>\n",
       "      <td>NaN</td>\n",
       "      <td>NaN</td>\n",
       "      <td>NaN</td>\n",
       "      <td>NaN</td>\n",
       "    </tr>\n",
       "    <tr>\n",
       "      <th>2</th>\n",
       "      <td>2015</td>\n",
       "      <td>2</td>\n",
       "      <td>6</td>\n",
       "      <td>3</td>\n",
       "      <td>3</td>\n",
       "      <td>2015-06-03</td>\n",
       "      <td>AA</td>\n",
       "      <td>19805</td>\n",
       "      <td>AA</td>\n",
       "      <td>N790AA</td>\n",
       "      <td>...</td>\n",
       "      <td>NaN</td>\n",
       "      <td>NaN</td>\n",
       "      <td>NaN</td>\n",
       "      <td>NaN</td>\n",
       "      <td>NaN</td>\n",
       "      <td>NaN</td>\n",
       "      <td>NaN</td>\n",
       "      <td>NaN</td>\n",
       "      <td>NaN</td>\n",
       "      <td>NaN</td>\n",
       "    </tr>\n",
       "    <tr>\n",
       "      <th>3</th>\n",
       "      <td>2015</td>\n",
       "      <td>2</td>\n",
       "      <td>6</td>\n",
       "      <td>4</td>\n",
       "      <td>4</td>\n",
       "      <td>2015-06-04</td>\n",
       "      <td>AA</td>\n",
       "      <td>19805</td>\n",
       "      <td>AA</td>\n",
       "      <td>N789AA</td>\n",
       "      <td>...</td>\n",
       "      <td>NaN</td>\n",
       "      <td>NaN</td>\n",
       "      <td>NaN</td>\n",
       "      <td>NaN</td>\n",
       "      <td>NaN</td>\n",
       "      <td>NaN</td>\n",
       "      <td>NaN</td>\n",
       "      <td>NaN</td>\n",
       "      <td>NaN</td>\n",
       "      <td>NaN</td>\n",
       "    </tr>\n",
       "    <tr>\n",
       "      <th>4</th>\n",
       "      <td>2015</td>\n",
       "      <td>2</td>\n",
       "      <td>6</td>\n",
       "      <td>5</td>\n",
       "      <td>5</td>\n",
       "      <td>2015-06-05</td>\n",
       "      <td>AA</td>\n",
       "      <td>19805</td>\n",
       "      <td>AA</td>\n",
       "      <td>N797AA</td>\n",
       "      <td>...</td>\n",
       "      <td>NaN</td>\n",
       "      <td>NaN</td>\n",
       "      <td>NaN</td>\n",
       "      <td>NaN</td>\n",
       "      <td>NaN</td>\n",
       "      <td>NaN</td>\n",
       "      <td>NaN</td>\n",
       "      <td>NaN</td>\n",
       "      <td>NaN</td>\n",
       "      <td>NaN</td>\n",
       "    </tr>\n",
       "  </tbody>\n",
       "</table>\n",
       "<p>5 rows × 110 columns</p>\n",
       "</div>"
      ],
      "text/plain": [
       "   Year  Quarter  Month  DayofMonth  DayOfWeek  FlightDate UniqueCarrier  \\\n",
       "0  2015        2      6           1          1  2015-06-01            AA   \n",
       "1  2015        2      6           2          2  2015-06-02            AA   \n",
       "2  2015        2      6           3          3  2015-06-03            AA   \n",
       "3  2015        2      6           4          4  2015-06-04            AA   \n",
       "4  2015        2      6           5          5  2015-06-05            AA   \n",
       "\n",
       "   AirlineID Carrier TailNum      ...       Div4TailNum  Div5Airport  \\\n",
       "0      19805      AA  N798AA      ...               NaN          NaN   \n",
       "1      19805      AA  N788AA      ...               NaN          NaN   \n",
       "2      19805      AA  N790AA      ...               NaN          NaN   \n",
       "3      19805      AA  N789AA      ...               NaN          NaN   \n",
       "4      19805      AA  N797AA      ...               NaN          NaN   \n",
       "\n",
       "   Div5AirportID  Div5AirportSeqID Div5WheelsOn Div5TotalGTime  \\\n",
       "0            NaN               NaN          NaN            NaN   \n",
       "1            NaN               NaN          NaN            NaN   \n",
       "2            NaN               NaN          NaN            NaN   \n",
       "3            NaN               NaN          NaN            NaN   \n",
       "4            NaN               NaN          NaN            NaN   \n",
       "\n",
       "  Div5LongestGTime  Div5WheelsOff Div5TailNum  Unnamed: 109  \n",
       "0              NaN            NaN         NaN           NaN  \n",
       "1              NaN            NaN         NaN           NaN  \n",
       "2              NaN            NaN         NaN           NaN  \n",
       "3              NaN            NaN         NaN           NaN  \n",
       "4              NaN            NaN         NaN           NaN  \n",
       "\n",
       "[5 rows x 110 columns]"
      ]
     },
     "execution_count": 20,
     "metadata": {},
     "output_type": "execute_result"
    }
   ],
   "source": [
    "df.head()"
   ]
  },
  {
   "cell_type": "code",
   "execution_count": 21,
   "metadata": {
    "collapsed": false
   },
   "outputs": [
    {
     "data": {
      "text/plain": [
       "110"
      ]
     },
     "execution_count": 21,
     "metadata": {},
     "output_type": "execute_result"
    }
   ],
   "source": [
    "len(df.columns)"
   ]
  },
  {
   "cell_type": "code",
   "execution_count": 22,
   "metadata": {
    "collapsed": false
   },
   "outputs": [
    {
     "data": {
      "text/plain": [
       "(503897, 110)"
      ]
     },
     "execution_count": 22,
     "metadata": {},
     "output_type": "execute_result"
    }
   ],
   "source": [
    "df.shape"
   ]
  },
  {
   "cell_type": "code",
   "execution_count": 23,
   "metadata": {
    "collapsed": false
   },
   "outputs": [
    {
     "data": {
      "text/plain": [
       "503897"
      ]
     },
     "execution_count": 23,
     "metadata": {},
     "output_type": "execute_result"
    }
   ],
   "source": [
    "len(df)"
   ]
  },
  {
   "cell_type": "code",
   "execution_count": 24,
   "metadata": {
    "collapsed": false
   },
   "outputs": [],
   "source": [
    "description = df.describe()"
   ]
  },
  {
   "cell_type": "code",
   "execution_count": 25,
   "metadata": {
    "collapsed": false
   },
   "outputs": [
    {
     "data": {
      "text/plain": [
       "pandas.core.frame.DataFrame"
      ]
     },
     "execution_count": 25,
     "metadata": {},
     "output_type": "execute_result"
    }
   ],
   "source": [
    "type(description)"
   ]
  },
  {
   "cell_type": "code",
   "execution_count": 26,
   "metadata": {
    "collapsed": false
   },
   "outputs": [
    {
     "data": {
      "text/html": [
       "<div>\n",
       "<table border=\"1\" class=\"dataframe\">\n",
       "  <thead>\n",
       "    <tr style=\"text-align: right;\">\n",
       "      <th></th>\n",
       "      <th>Year</th>\n",
       "      <th>Quarter</th>\n",
       "      <th>Month</th>\n",
       "      <th>DayofMonth</th>\n",
       "      <th>DayOfWeek</th>\n",
       "      <th>AirlineID</th>\n",
       "      <th>FlightNum</th>\n",
       "      <th>OriginAirportID</th>\n",
       "      <th>OriginAirportSeqID</th>\n",
       "      <th>OriginCityMarketID</th>\n",
       "      <th>...</th>\n",
       "      <th>Div4TailNum</th>\n",
       "      <th>Div5Airport</th>\n",
       "      <th>Div5AirportID</th>\n",
       "      <th>Div5AirportSeqID</th>\n",
       "      <th>Div5WheelsOn</th>\n",
       "      <th>Div5TotalGTime</th>\n",
       "      <th>Div5LongestGTime</th>\n",
       "      <th>Div5WheelsOff</th>\n",
       "      <th>Div5TailNum</th>\n",
       "      <th>Unnamed: 109</th>\n",
       "    </tr>\n",
       "  </thead>\n",
       "  <tbody>\n",
       "    <tr>\n",
       "      <th>count</th>\n",
       "      <td>503897</td>\n",
       "      <td>503897</td>\n",
       "      <td>503897</td>\n",
       "      <td>503897.000000</td>\n",
       "      <td>503897.000000</td>\n",
       "      <td>503897.000000</td>\n",
       "      <td>503897.000000</td>\n",
       "      <td>503897.000000</td>\n",
       "      <td>503897.000000</td>\n",
       "      <td>503897.000000</td>\n",
       "      <td>...</td>\n",
       "      <td>0</td>\n",
       "      <td>0</td>\n",
       "      <td>0</td>\n",
       "      <td>0</td>\n",
       "      <td>0</td>\n",
       "      <td>0</td>\n",
       "      <td>0</td>\n",
       "      <td>0</td>\n",
       "      <td>0</td>\n",
       "      <td>0</td>\n",
       "    </tr>\n",
       "    <tr>\n",
       "      <th>mean</th>\n",
       "      <td>2015</td>\n",
       "      <td>2</td>\n",
       "      <td>6</td>\n",
       "      <td>15.501208</td>\n",
       "      <td>3.781604</td>\n",
       "      <td>19965.828691</td>\n",
       "      <td>2164.685392</td>\n",
       "      <td>12672.481914</td>\n",
       "      <td>1267250.954255</td>\n",
       "      <td>31696.755452</td>\n",
       "      <td>...</td>\n",
       "      <td>NaN</td>\n",
       "      <td>NaN</td>\n",
       "      <td>NaN</td>\n",
       "      <td>NaN</td>\n",
       "      <td>NaN</td>\n",
       "      <td>NaN</td>\n",
       "      <td>NaN</td>\n",
       "      <td>NaN</td>\n",
       "      <td>NaN</td>\n",
       "      <td>NaN</td>\n",
       "    </tr>\n",
       "    <tr>\n",
       "      <th>std</th>\n",
       "      <td>0</td>\n",
       "      <td>0</td>\n",
       "      <td>0</td>\n",
       "      <td>8.639231</td>\n",
       "      <td>2.023460</td>\n",
       "      <td>397.092158</td>\n",
       "      <td>1758.566546</td>\n",
       "      <td>1524.757841</td>\n",
       "      <td>152475.478482</td>\n",
       "      <td>1281.459962</td>\n",
       "      <td>...</td>\n",
       "      <td>NaN</td>\n",
       "      <td>NaN</td>\n",
       "      <td>NaN</td>\n",
       "      <td>NaN</td>\n",
       "      <td>NaN</td>\n",
       "      <td>NaN</td>\n",
       "      <td>NaN</td>\n",
       "      <td>NaN</td>\n",
       "      <td>NaN</td>\n",
       "      <td>NaN</td>\n",
       "    </tr>\n",
       "    <tr>\n",
       "      <th>min</th>\n",
       "      <td>2015</td>\n",
       "      <td>2</td>\n",
       "      <td>6</td>\n",
       "      <td>1.000000</td>\n",
       "      <td>1.000000</td>\n",
       "      <td>19393.000000</td>\n",
       "      <td>1.000000</td>\n",
       "      <td>10135.000000</td>\n",
       "      <td>1013503.000000</td>\n",
       "      <td>30070.000000</td>\n",
       "      <td>...</td>\n",
       "      <td>NaN</td>\n",
       "      <td>NaN</td>\n",
       "      <td>NaN</td>\n",
       "      <td>NaN</td>\n",
       "      <td>NaN</td>\n",
       "      <td>NaN</td>\n",
       "      <td>NaN</td>\n",
       "      <td>NaN</td>\n",
       "      <td>NaN</td>\n",
       "      <td>NaN</td>\n",
       "    </tr>\n",
       "    <tr>\n",
       "      <th>25%</th>\n",
       "      <td>2015</td>\n",
       "      <td>2</td>\n",
       "      <td>6</td>\n",
       "      <td>8.000000</td>\n",
       "      <td>2.000000</td>\n",
       "      <td>19790.000000</td>\n",
       "      <td>719.000000</td>\n",
       "      <td>11292.000000</td>\n",
       "      <td>1129202.000000</td>\n",
       "      <td>30599.000000</td>\n",
       "      <td>...</td>\n",
       "      <td>NaN</td>\n",
       "      <td>NaN</td>\n",
       "      <td>NaN</td>\n",
       "      <td>NaN</td>\n",
       "      <td>NaN</td>\n",
       "      <td>NaN</td>\n",
       "      <td>NaN</td>\n",
       "      <td>NaN</td>\n",
       "      <td>NaN</td>\n",
       "      <td>NaN</td>\n",
       "    </tr>\n",
       "    <tr>\n",
       "      <th>50%</th>\n",
       "      <td>2015</td>\n",
       "      <td>2</td>\n",
       "      <td>6</td>\n",
       "      <td>16.000000</td>\n",
       "      <td>4.000000</td>\n",
       "      <td>19930.000000</td>\n",
       "      <td>1649.000000</td>\n",
       "      <td>12889.000000</td>\n",
       "      <td>1288903.000000</td>\n",
       "      <td>31453.000000</td>\n",
       "      <td>...</td>\n",
       "      <td>NaN</td>\n",
       "      <td>NaN</td>\n",
       "      <td>NaN</td>\n",
       "      <td>NaN</td>\n",
       "      <td>NaN</td>\n",
       "      <td>NaN</td>\n",
       "      <td>NaN</td>\n",
       "      <td>NaN</td>\n",
       "      <td>NaN</td>\n",
       "      <td>NaN</td>\n",
       "    </tr>\n",
       "    <tr>\n",
       "      <th>75%</th>\n",
       "      <td>2015</td>\n",
       "      <td>2</td>\n",
       "      <td>6</td>\n",
       "      <td>23.000000</td>\n",
       "      <td>5.000000</td>\n",
       "      <td>20355.000000</td>\n",
       "      <td>3309.000000</td>\n",
       "      <td>13930.000000</td>\n",
       "      <td>1393003.000000</td>\n",
       "      <td>32467.000000</td>\n",
       "      <td>...</td>\n",
       "      <td>NaN</td>\n",
       "      <td>NaN</td>\n",
       "      <td>NaN</td>\n",
       "      <td>NaN</td>\n",
       "      <td>NaN</td>\n",
       "      <td>NaN</td>\n",
       "      <td>NaN</td>\n",
       "      <td>NaN</td>\n",
       "      <td>NaN</td>\n",
       "      <td>NaN</td>\n",
       "    </tr>\n",
       "    <tr>\n",
       "      <th>max</th>\n",
       "      <td>2015</td>\n",
       "      <td>2</td>\n",
       "      <td>6</td>\n",
       "      <td>30.000000</td>\n",
       "      <td>7.000000</td>\n",
       "      <td>21171.000000</td>\n",
       "      <td>7438.000000</td>\n",
       "      <td>16218.000000</td>\n",
       "      <td>1621801.000000</td>\n",
       "      <td>35991.000000</td>\n",
       "      <td>...</td>\n",
       "      <td>NaN</td>\n",
       "      <td>NaN</td>\n",
       "      <td>NaN</td>\n",
       "      <td>NaN</td>\n",
       "      <td>NaN</td>\n",
       "      <td>NaN</td>\n",
       "      <td>NaN</td>\n",
       "      <td>NaN</td>\n",
       "      <td>NaN</td>\n",
       "      <td>NaN</td>\n",
       "    </tr>\n",
       "  </tbody>\n",
       "</table>\n",
       "<p>8 rows × 91 columns</p>\n",
       "</div>"
      ],
      "text/plain": [
       "         Year  Quarter   Month     DayofMonth      DayOfWeek      AirlineID  \\\n",
       "count  503897   503897  503897  503897.000000  503897.000000  503897.000000   \n",
       "mean     2015        2       6      15.501208       3.781604   19965.828691   \n",
       "std         0        0       0       8.639231       2.023460     397.092158   \n",
       "min      2015        2       6       1.000000       1.000000   19393.000000   \n",
       "25%      2015        2       6       8.000000       2.000000   19790.000000   \n",
       "50%      2015        2       6      16.000000       4.000000   19930.000000   \n",
       "75%      2015        2       6      23.000000       5.000000   20355.000000   \n",
       "max      2015        2       6      30.000000       7.000000   21171.000000   \n",
       "\n",
       "           FlightNum  OriginAirportID  OriginAirportSeqID  OriginCityMarketID  \\\n",
       "count  503897.000000    503897.000000       503897.000000       503897.000000   \n",
       "mean     2164.685392     12672.481914      1267250.954255        31696.755452   \n",
       "std      1758.566546      1524.757841       152475.478482         1281.459962   \n",
       "min         1.000000     10135.000000      1013503.000000        30070.000000   \n",
       "25%       719.000000     11292.000000      1129202.000000        30599.000000   \n",
       "50%      1649.000000     12889.000000      1288903.000000        31453.000000   \n",
       "75%      3309.000000     13930.000000      1393003.000000        32467.000000   \n",
       "max      7438.000000     16218.000000      1621801.000000        35991.000000   \n",
       "\n",
       "           ...       Div4TailNum  Div5Airport  Div5AirportID  \\\n",
       "count      ...                 0            0              0   \n",
       "mean       ...               NaN          NaN            NaN   \n",
       "std        ...               NaN          NaN            NaN   \n",
       "min        ...               NaN          NaN            NaN   \n",
       "25%        ...               NaN          NaN            NaN   \n",
       "50%        ...               NaN          NaN            NaN   \n",
       "75%        ...               NaN          NaN            NaN   \n",
       "max        ...               NaN          NaN            NaN   \n",
       "\n",
       "       Div5AirportSeqID  Div5WheelsOn  Div5TotalGTime  Div5LongestGTime  \\\n",
       "count                 0             0               0                 0   \n",
       "mean                NaN           NaN             NaN               NaN   \n",
       "std                 NaN           NaN             NaN               NaN   \n",
       "min                 NaN           NaN             NaN               NaN   \n",
       "25%                 NaN           NaN             NaN               NaN   \n",
       "50%                 NaN           NaN             NaN               NaN   \n",
       "75%                 NaN           NaN             NaN               NaN   \n",
       "max                 NaN           NaN             NaN               NaN   \n",
       "\n",
       "       Div5WheelsOff  Div5TailNum  Unnamed: 109  \n",
       "count              0            0             0  \n",
       "mean             NaN          NaN           NaN  \n",
       "std              NaN          NaN           NaN  \n",
       "min              NaN          NaN           NaN  \n",
       "25%              NaN          NaN           NaN  \n",
       "50%              NaN          NaN           NaN  \n",
       "75%              NaN          NaN           NaN  \n",
       "max              NaN          NaN           NaN  \n",
       "\n",
       "[8 rows x 91 columns]"
      ]
     },
     "execution_count": 26,
     "metadata": {},
     "output_type": "execute_result"
    }
   ],
   "source": [
    "description"
   ]
  },
  {
   "cell_type": "code",
   "execution_count": 27,
   "metadata": {
    "collapsed": true
   },
   "outputs": [],
   "source": [
    "non_null_counts = df.count()"
   ]
  },
  {
   "cell_type": "code",
   "execution_count": 28,
   "metadata": {
    "collapsed": false
   },
   "outputs": [
    {
     "data": {
      "text/plain": [
       "pandas.core.series.Series"
      ]
     },
     "execution_count": 28,
     "metadata": {},
     "output_type": "execute_result"
    }
   ],
   "source": [
    "type(non_null_counts)"
   ]
  },
  {
   "cell_type": "code",
   "execution_count": 29,
   "metadata": {
    "collapsed": false
   },
   "outputs": [
    {
     "data": {
      "text/plain": [
       "77"
      ]
     },
     "execution_count": 29,
     "metadata": {},
     "output_type": "execute_result"
    }
   ],
   "source": [
    "len(non_null_counts[non_null_counts > 1000])"
   ]
  },
  {
   "cell_type": "code",
   "execution_count": 30,
   "metadata": {
    "collapsed": false
   },
   "outputs": [],
   "source": [
    "cols_to_drop = non_null_counts[non_null_counts<1000]"
   ]
  },
  {
   "cell_type": "code",
   "execution_count": 31,
   "metadata": {
    "collapsed": true
   },
   "outputs": [],
   "source": [
    "df2 = df.drop(cols_to_drop.index, axis=1)"
   ]
  },
  {
   "cell_type": "code",
   "execution_count": 32,
   "metadata": {
    "collapsed": false
   },
   "outputs": [
    {
     "data": {
      "text/plain": [
       "(503897, 77)"
      ]
     },
     "execution_count": 32,
     "metadata": {},
     "output_type": "execute_result"
    }
   ],
   "source": [
    "df2.shape"
   ]
  },
  {
   "cell_type": "code",
   "execution_count": 33,
   "metadata": {
    "collapsed": false
   },
   "outputs": [
    {
     "data": {
      "text/plain": [
       "0    14\n",
       "1     0\n",
       "2    15\n",
       "3     0\n",
       "4    12\n",
       "Name: ArrDelayMinutes, dtype: float64"
      ]
     },
     "execution_count": 33,
     "metadata": {},
     "output_type": "execute_result"
    }
   ],
   "source": [
    "df2.ArrDelayMinutes.head()"
   ]
  },
  {
   "cell_type": "code",
   "execution_count": 34,
   "metadata": {
    "collapsed": false
   },
   "outputs": [
    {
     "data": {
      "text/plain": [
       "0     9\n",
       "1    -5\n",
       "2    10\n",
       "3    -5\n",
       "4     7\n",
       "Name: ArrDelayMinutes, dtype: float64"
      ]
     },
     "execution_count": 34,
     "metadata": {},
     "output_type": "execute_result"
    }
   ],
   "source": [
    "(df2['ArrDelayMinutes']-5).head()"
   ]
  },
  {
   "cell_type": "code",
   "execution_count": 35,
   "metadata": {
    "collapsed": false
   },
   "outputs": [
    {
     "data": {
      "text/plain": [
       "0    JFK\n",
       "1    JFK\n",
       "2    JFK\n",
       "3    JFK\n",
       "4    JFK\n",
       "Name: Origin, dtype: object"
      ]
     },
     "execution_count": 35,
     "metadata": {},
     "output_type": "execute_result"
    }
   ],
   "source": [
    "df2['Origin'].head()"
   ]
  },
  {
   "cell_type": "code",
   "execution_count": 36,
   "metadata": {
    "collapsed": false
   },
   "outputs": [
    {
     "data": {
      "text/plain": [
       "0         JFK_airport\n",
       "1         JFK_airport\n",
       "2         JFK_airport\n",
       "3         JFK_airport\n",
       "4         JFK_airport\n",
       "5         JFK_airport\n",
       "6         JFK_airport\n",
       "7         JFK_airport\n",
       "8         JFK_airport\n",
       "9         JFK_airport\n",
       "10        JFK_airport\n",
       "11        JFK_airport\n",
       "12        JFK_airport\n",
       "13        JFK_airport\n",
       "14        JFK_airport\n",
       "15        JFK_airport\n",
       "16        JFK_airport\n",
       "17        JFK_airport\n",
       "18        JFK_airport\n",
       "19        JFK_airport\n",
       "20        JFK_airport\n",
       "21        JFK_airport\n",
       "22        JFK_airport\n",
       "23        JFK_airport\n",
       "24        JFK_airport\n",
       "25        JFK_airport\n",
       "26        LAX_airport\n",
       "27        LAX_airport\n",
       "28        LAX_airport\n",
       "29        LAX_airport\n",
       "             ...     \n",
       "503867    BOS_airport\n",
       "503868    CLT_airport\n",
       "503869    EWR_airport\n",
       "503870    PHX_airport\n",
       "503871    BOS_airport\n",
       "503872    PHX_airport\n",
       "503873    CLT_airport\n",
       "503874    ORD_airport\n",
       "503875    PHX_airport\n",
       "503876    PHX_airport\n",
       "503877    SAN_airport\n",
       "503878    LAX_airport\n",
       "503879    PHX_airport\n",
       "503880    IAH_airport\n",
       "503881    PHX_airport\n",
       "503882    PHX_airport\n",
       "503883    DFW_airport\n",
       "503884    PHX_airport\n",
       "503885    SAN_airport\n",
       "503886    PHX_airport\n",
       "503887    SLC_airport\n",
       "503888    PHX_airport\n",
       "503889    SJC_airport\n",
       "503890    ATL_airport\n",
       "503891    CLT_airport\n",
       "503892    PHX_airport\n",
       "503893    CLT_airport\n",
       "503894    PHX_airport\n",
       "503895    TPA_airport\n",
       "503896    PHX_airport\n",
       "Name: Origin, dtype: object"
      ]
     },
     "execution_count": 36,
     "metadata": {},
     "output_type": "execute_result"
    }
   ],
   "source": [
    "df2['Origin'] + '_airport'"
   ]
  },
  {
   "cell_type": "code",
   "execution_count": 37,
   "metadata": {
    "collapsed": false
   },
   "outputs": [],
   "source": [
    "origin_cols = df2.columns[df2.columns.str.contains('Ori')]"
   ]
  },
  {
   "cell_type": "code",
   "execution_count": 38,
   "metadata": {
    "collapsed": false
   },
   "outputs": [
    {
     "data": {
      "text/html": [
       "<div>\n",
       "<table border=\"1\" class=\"dataframe\">\n",
       "  <thead>\n",
       "    <tr style=\"text-align: right;\">\n",
       "      <th></th>\n",
       "      <th>OriginAirportID</th>\n",
       "      <th>OriginAirportSeqID</th>\n",
       "      <th>OriginCityMarketID</th>\n",
       "      <th>Origin</th>\n",
       "      <th>OriginCityName</th>\n",
       "      <th>OriginState</th>\n",
       "      <th>OriginStateFips</th>\n",
       "      <th>OriginStateName</th>\n",
       "      <th>OriginWac</th>\n",
       "    </tr>\n",
       "  </thead>\n",
       "  <tbody>\n",
       "    <tr>\n",
       "      <th>0</th>\n",
       "      <td>12478</td>\n",
       "      <td>1247802</td>\n",
       "      <td>31703</td>\n",
       "      <td>JFK</td>\n",
       "      <td>New York, NY</td>\n",
       "      <td>NY</td>\n",
       "      <td>36</td>\n",
       "      <td>New York</td>\n",
       "      <td>22</td>\n",
       "    </tr>\n",
       "    <tr>\n",
       "      <th>1</th>\n",
       "      <td>12478</td>\n",
       "      <td>1247802</td>\n",
       "      <td>31703</td>\n",
       "      <td>JFK</td>\n",
       "      <td>New York, NY</td>\n",
       "      <td>NY</td>\n",
       "      <td>36</td>\n",
       "      <td>New York</td>\n",
       "      <td>22</td>\n",
       "    </tr>\n",
       "    <tr>\n",
       "      <th>2</th>\n",
       "      <td>12478</td>\n",
       "      <td>1247802</td>\n",
       "      <td>31703</td>\n",
       "      <td>JFK</td>\n",
       "      <td>New York, NY</td>\n",
       "      <td>NY</td>\n",
       "      <td>36</td>\n",
       "      <td>New York</td>\n",
       "      <td>22</td>\n",
       "    </tr>\n",
       "    <tr>\n",
       "      <th>3</th>\n",
       "      <td>12478</td>\n",
       "      <td>1247802</td>\n",
       "      <td>31703</td>\n",
       "      <td>JFK</td>\n",
       "      <td>New York, NY</td>\n",
       "      <td>NY</td>\n",
       "      <td>36</td>\n",
       "      <td>New York</td>\n",
       "      <td>22</td>\n",
       "    </tr>\n",
       "    <tr>\n",
       "      <th>4</th>\n",
       "      <td>12478</td>\n",
       "      <td>1247802</td>\n",
       "      <td>31703</td>\n",
       "      <td>JFK</td>\n",
       "      <td>New York, NY</td>\n",
       "      <td>NY</td>\n",
       "      <td>36</td>\n",
       "      <td>New York</td>\n",
       "      <td>22</td>\n",
       "    </tr>\n",
       "  </tbody>\n",
       "</table>\n",
       "</div>"
      ],
      "text/plain": [
       "   OriginAirportID  OriginAirportSeqID  OriginCityMarketID Origin  \\\n",
       "0            12478             1247802               31703    JFK   \n",
       "1            12478             1247802               31703    JFK   \n",
       "2            12478             1247802               31703    JFK   \n",
       "3            12478             1247802               31703    JFK   \n",
       "4            12478             1247802               31703    JFK   \n",
       "\n",
       "  OriginCityName OriginState  OriginStateFips OriginStateName  OriginWac  \n",
       "0   New York, NY          NY               36        New York         22  \n",
       "1   New York, NY          NY               36        New York         22  \n",
       "2   New York, NY          NY               36        New York         22  \n",
       "3   New York, NY          NY               36        New York         22  \n",
       "4   New York, NY          NY               36        New York         22  "
      ]
     },
     "execution_count": 38,
     "metadata": {},
     "output_type": "execute_result"
    }
   ],
   "source": [
    "df2[origin_cols].head()"
   ]
  },
  {
   "cell_type": "code",
   "execution_count": 39,
   "metadata": {
    "collapsed": true
   },
   "outputs": [],
   "source": [
    "cols_of_interest = pd.Index(['Origin', 'OriginCityName',\n",
    "                             'OriginStateName','Dest',\n",
    "                             'DestCityName', 'DestStateName'])"
   ]
  },
  {
   "cell_type": "code",
   "execution_count": 40,
   "metadata": {
    "collapsed": true
   },
   "outputs": [],
   "source": [
    "destination_cols = df2.columns[df2.columns.str.contains('Dest')]"
   ]
  },
  {
   "cell_type": "code",
   "execution_count": 41,
   "metadata": {
    "collapsed": false
   },
   "outputs": [
    {
     "data": {
      "text/plain": [
       "Index([u'DestAirportID', u'DestAirportSeqID', u'DestCityMarketID', u'Dest',\n",
       "       u'DestCityName', u'DestState', u'DestStateFips', u'DestStateName',\n",
       "       u'DestWac', u'DivReachedDest'],\n",
       "      dtype='object')"
      ]
     },
     "execution_count": 41,
     "metadata": {},
     "output_type": "execute_result"
    }
   ],
   "source": [
    "destination_cols"
   ]
  },
  {
   "cell_type": "code",
   "execution_count": 42,
   "metadata": {
    "collapsed": false
   },
   "outputs": [],
   "source": [
    "place_cols = origin_cols | destination_cols"
   ]
  },
  {
   "cell_type": "code",
   "execution_count": 43,
   "metadata": {
    "collapsed": false
   },
   "outputs": [
    {
     "data": {
      "text/plain": [
       "Index([u'Dest', u'DestAirportID', u'DestAirportSeqID', u'DestCityMarketID',\n",
       "       u'DestCityName', u'DestState', u'DestStateFips', u'DestStateName',\n",
       "       u'DestWac', u'DivReachedDest', u'Origin', u'OriginAirportID',\n",
       "       u'OriginAirportSeqID', u'OriginCityMarketID', u'OriginCityName',\n",
       "       u'OriginState', u'OriginStateFips', u'OriginStateName', u'OriginWac'],\n",
       "      dtype='object')"
      ]
     },
     "execution_count": 43,
     "metadata": {},
     "output_type": "execute_result"
    }
   ],
   "source": [
    "place_cols"
   ]
  },
  {
   "cell_type": "code",
   "execution_count": 44,
   "metadata": {
    "collapsed": false
   },
   "outputs": [],
   "source": [
    "cols_to_drop = place_cols.difference(cols_of_interest)"
   ]
  },
  {
   "cell_type": "code",
   "execution_count": 45,
   "metadata": {
    "collapsed": true
   },
   "outputs": [],
   "source": [
    "time_cols_todrop = pd.Series(['Year', 'Month', \n",
    "                              'Quarter', 'DayofMonth'])"
   ]
  },
  {
   "cell_type": "code",
   "execution_count": 46,
   "metadata": {
    "collapsed": true
   },
   "outputs": [],
   "source": [
    "cols_to_drop = cols_to_drop | time_cols_todrop"
   ]
  },
  {
   "cell_type": "code",
   "execution_count": 47,
   "metadata": {
    "collapsed": false,
    "scrolled": true
   },
   "outputs": [
    {
     "data": {
      "text/plain": [
       "Index([u'DayofMonth', u'DestAirportID', u'DestAirportSeqID',\n",
       "       u'DestCityMarketID', u'DestState', u'DestStateFips', u'DestWac',\n",
       "       u'DivReachedDest', u'Month', u'OriginAirportID', u'OriginAirportSeqID',\n",
       "       u'OriginCityMarketID', u'OriginState', u'OriginStateFips', u'OriginWac',\n",
       "       u'Quarter', u'Year'],\n",
       "      dtype='object')"
      ]
     },
     "execution_count": 47,
     "metadata": {},
     "output_type": "execute_result"
    }
   ],
   "source": [
    "cols_to_drop"
   ]
  },
  {
   "cell_type": "code",
   "execution_count": 48,
   "metadata": {
    "collapsed": true
   },
   "outputs": [],
   "source": [
    "df3 = df2.drop(cols_to_drop, axis=1)"
   ]
  },
  {
   "cell_type": "code",
   "execution_count": 49,
   "metadata": {
    "collapsed": false
   },
   "outputs": [
    {
     "data": {
      "text/plain": [
       "(503897, 60)"
      ]
     },
     "execution_count": 49,
     "metadata": {},
     "output_type": "execute_result"
    }
   ],
   "source": [
    "df3.shape"
   ]
  },
  {
   "cell_type": "code",
   "execution_count": 50,
   "metadata": {
    "collapsed": false
   },
   "outputs": [
    {
     "data": {
      "text/html": [
       "<div>\n",
       "<table border=\"1\" class=\"dataframe\">\n",
       "  <thead>\n",
       "    <tr style=\"text-align: right;\">\n",
       "      <th></th>\n",
       "      <th>DayOfWeek</th>\n",
       "      <th>FlightDate</th>\n",
       "      <th>UniqueCarrier</th>\n",
       "      <th>AirlineID</th>\n",
       "      <th>Carrier</th>\n",
       "      <th>TailNum</th>\n",
       "      <th>FlightNum</th>\n",
       "      <th>Origin</th>\n",
       "      <th>OriginCityName</th>\n",
       "      <th>OriginStateName</th>\n",
       "      <th>...</th>\n",
       "      <th>DivArrDelay</th>\n",
       "      <th>DivDistance</th>\n",
       "      <th>Div1Airport</th>\n",
       "      <th>Div1AirportID</th>\n",
       "      <th>Div1AirportSeqID</th>\n",
       "      <th>Div1WheelsOn</th>\n",
       "      <th>Div1TotalGTime</th>\n",
       "      <th>Div1LongestGTime</th>\n",
       "      <th>Div1WheelsOff</th>\n",
       "      <th>Div1TailNum</th>\n",
       "    </tr>\n",
       "  </thead>\n",
       "  <tbody>\n",
       "    <tr>\n",
       "      <th>0</th>\n",
       "      <td>1</td>\n",
       "      <td>2015-06-01</td>\n",
       "      <td>AA</td>\n",
       "      <td>19805</td>\n",
       "      <td>AA</td>\n",
       "      <td>N798AA</td>\n",
       "      <td>1</td>\n",
       "      <td>JFK</td>\n",
       "      <td>New York, NY</td>\n",
       "      <td>New York</td>\n",
       "      <td>...</td>\n",
       "      <td>NaN</td>\n",
       "      <td>NaN</td>\n",
       "      <td>NaN</td>\n",
       "      <td>NaN</td>\n",
       "      <td>NaN</td>\n",
       "      <td>NaN</td>\n",
       "      <td>NaN</td>\n",
       "      <td>NaN</td>\n",
       "      <td>NaN</td>\n",
       "      <td>NaN</td>\n",
       "    </tr>\n",
       "    <tr>\n",
       "      <th>1</th>\n",
       "      <td>2</td>\n",
       "      <td>2015-06-02</td>\n",
       "      <td>AA</td>\n",
       "      <td>19805</td>\n",
       "      <td>AA</td>\n",
       "      <td>N788AA</td>\n",
       "      <td>1</td>\n",
       "      <td>JFK</td>\n",
       "      <td>New York, NY</td>\n",
       "      <td>New York</td>\n",
       "      <td>...</td>\n",
       "      <td>NaN</td>\n",
       "      <td>NaN</td>\n",
       "      <td>NaN</td>\n",
       "      <td>NaN</td>\n",
       "      <td>NaN</td>\n",
       "      <td>NaN</td>\n",
       "      <td>NaN</td>\n",
       "      <td>NaN</td>\n",
       "      <td>NaN</td>\n",
       "      <td>NaN</td>\n",
       "    </tr>\n",
       "    <tr>\n",
       "      <th>2</th>\n",
       "      <td>3</td>\n",
       "      <td>2015-06-03</td>\n",
       "      <td>AA</td>\n",
       "      <td>19805</td>\n",
       "      <td>AA</td>\n",
       "      <td>N790AA</td>\n",
       "      <td>1</td>\n",
       "      <td>JFK</td>\n",
       "      <td>New York, NY</td>\n",
       "      <td>New York</td>\n",
       "      <td>...</td>\n",
       "      <td>NaN</td>\n",
       "      <td>NaN</td>\n",
       "      <td>NaN</td>\n",
       "      <td>NaN</td>\n",
       "      <td>NaN</td>\n",
       "      <td>NaN</td>\n",
       "      <td>NaN</td>\n",
       "      <td>NaN</td>\n",
       "      <td>NaN</td>\n",
       "      <td>NaN</td>\n",
       "    </tr>\n",
       "    <tr>\n",
       "      <th>3</th>\n",
       "      <td>4</td>\n",
       "      <td>2015-06-04</td>\n",
       "      <td>AA</td>\n",
       "      <td>19805</td>\n",
       "      <td>AA</td>\n",
       "      <td>N789AA</td>\n",
       "      <td>1</td>\n",
       "      <td>JFK</td>\n",
       "      <td>New York, NY</td>\n",
       "      <td>New York</td>\n",
       "      <td>...</td>\n",
       "      <td>NaN</td>\n",
       "      <td>NaN</td>\n",
       "      <td>NaN</td>\n",
       "      <td>NaN</td>\n",
       "      <td>NaN</td>\n",
       "      <td>NaN</td>\n",
       "      <td>NaN</td>\n",
       "      <td>NaN</td>\n",
       "      <td>NaN</td>\n",
       "      <td>NaN</td>\n",
       "    </tr>\n",
       "    <tr>\n",
       "      <th>4</th>\n",
       "      <td>5</td>\n",
       "      <td>2015-06-05</td>\n",
       "      <td>AA</td>\n",
       "      <td>19805</td>\n",
       "      <td>AA</td>\n",
       "      <td>N797AA</td>\n",
       "      <td>1</td>\n",
       "      <td>JFK</td>\n",
       "      <td>New York, NY</td>\n",
       "      <td>New York</td>\n",
       "      <td>...</td>\n",
       "      <td>NaN</td>\n",
       "      <td>NaN</td>\n",
       "      <td>NaN</td>\n",
       "      <td>NaN</td>\n",
       "      <td>NaN</td>\n",
       "      <td>NaN</td>\n",
       "      <td>NaN</td>\n",
       "      <td>NaN</td>\n",
       "      <td>NaN</td>\n",
       "      <td>NaN</td>\n",
       "    </tr>\n",
       "  </tbody>\n",
       "</table>\n",
       "<p>5 rows × 60 columns</p>\n",
       "</div>"
      ],
      "text/plain": [
       "   DayOfWeek  FlightDate UniqueCarrier  AirlineID Carrier TailNum  FlightNum  \\\n",
       "0          1  2015-06-01            AA      19805      AA  N798AA          1   \n",
       "1          2  2015-06-02            AA      19805      AA  N788AA          1   \n",
       "2          3  2015-06-03            AA      19805      AA  N790AA          1   \n",
       "3          4  2015-06-04            AA      19805      AA  N789AA          1   \n",
       "4          5  2015-06-05            AA      19805      AA  N797AA          1   \n",
       "\n",
       "  Origin OriginCityName OriginStateName     ...     DivArrDelay DivDistance  \\\n",
       "0    JFK   New York, NY        New York     ...             NaN         NaN   \n",
       "1    JFK   New York, NY        New York     ...             NaN         NaN   \n",
       "2    JFK   New York, NY        New York     ...             NaN         NaN   \n",
       "3    JFK   New York, NY        New York     ...             NaN         NaN   \n",
       "4    JFK   New York, NY        New York     ...             NaN         NaN   \n",
       "\n",
       "  Div1Airport  Div1AirportID  Div1AirportSeqID  Div1WheelsOn  Div1TotalGTime  \\\n",
       "0         NaN            NaN               NaN           NaN             NaN   \n",
       "1         NaN            NaN               NaN           NaN             NaN   \n",
       "2         NaN            NaN               NaN           NaN             NaN   \n",
       "3         NaN            NaN               NaN           NaN             NaN   \n",
       "4         NaN            NaN               NaN           NaN             NaN   \n",
       "\n",
       "   Div1LongestGTime  Div1WheelsOff Div1TailNum  \n",
       "0               NaN            NaN         NaN  \n",
       "1               NaN            NaN         NaN  \n",
       "2               NaN            NaN         NaN  \n",
       "3               NaN            NaN         NaN  \n",
       "4               NaN            NaN         NaN  \n",
       "\n",
       "[5 rows x 60 columns]"
      ]
     },
     "execution_count": 50,
     "metadata": {},
     "output_type": "execute_result"
    }
   ],
   "source": [
    "df3.head()"
   ]
  },
  {
   "cell_type": "code",
   "execution_count": 51,
   "metadata": {
    "collapsed": false
   },
   "outputs": [
    {
     "data": {
      "text/html": [
       "<div>\n",
       "<table border=\"1\" class=\"dataframe\">\n",
       "  <thead>\n",
       "    <tr style=\"text-align: right;\">\n",
       "      <th></th>\n",
       "      <th>DepDelay</th>\n",
       "      <th>DepDelayMinutes</th>\n",
       "      <th>DepartureDelayGroups</th>\n",
       "      <th>ArrDelay</th>\n",
       "      <th>ArrDelayMinutes</th>\n",
       "      <th>ArrivalDelayGroups</th>\n",
       "      <th>CarrierDelay</th>\n",
       "      <th>WeatherDelay</th>\n",
       "      <th>NASDelay</th>\n",
       "      <th>SecurityDelay</th>\n",
       "      <th>LateAircraftDelay</th>\n",
       "      <th>DivArrDelay</th>\n",
       "    </tr>\n",
       "  </thead>\n",
       "  <tbody>\n",
       "    <tr>\n",
       "      <th>0</th>\n",
       "      <td>-2</td>\n",
       "      <td>0</td>\n",
       "      <td>-1</td>\n",
       "      <td>14</td>\n",
       "      <td>14</td>\n",
       "      <td>0</td>\n",
       "      <td>NaN</td>\n",
       "      <td>NaN</td>\n",
       "      <td>NaN</td>\n",
       "      <td>NaN</td>\n",
       "      <td>NaN</td>\n",
       "      <td>NaN</td>\n",
       "    </tr>\n",
       "    <tr>\n",
       "      <th>1</th>\n",
       "      <td>-3</td>\n",
       "      <td>0</td>\n",
       "      <td>-1</td>\n",
       "      <td>-20</td>\n",
       "      <td>0</td>\n",
       "      <td>-2</td>\n",
       "      <td>NaN</td>\n",
       "      <td>NaN</td>\n",
       "      <td>NaN</td>\n",
       "      <td>NaN</td>\n",
       "      <td>NaN</td>\n",
       "      <td>NaN</td>\n",
       "    </tr>\n",
       "    <tr>\n",
       "      <th>2</th>\n",
       "      <td>-8</td>\n",
       "      <td>0</td>\n",
       "      <td>-1</td>\n",
       "      <td>15</td>\n",
       "      <td>15</td>\n",
       "      <td>1</td>\n",
       "      <td>0</td>\n",
       "      <td>0</td>\n",
       "      <td>15</td>\n",
       "      <td>0</td>\n",
       "      <td>0</td>\n",
       "      <td>NaN</td>\n",
       "    </tr>\n",
       "    <tr>\n",
       "      <th>3</th>\n",
       "      <td>-6</td>\n",
       "      <td>0</td>\n",
       "      <td>-1</td>\n",
       "      <td>-26</td>\n",
       "      <td>0</td>\n",
       "      <td>-2</td>\n",
       "      <td>NaN</td>\n",
       "      <td>NaN</td>\n",
       "      <td>NaN</td>\n",
       "      <td>NaN</td>\n",
       "      <td>NaN</td>\n",
       "      <td>NaN</td>\n",
       "    </tr>\n",
       "    <tr>\n",
       "      <th>4</th>\n",
       "      <td>-6</td>\n",
       "      <td>0</td>\n",
       "      <td>-1</td>\n",
       "      <td>12</td>\n",
       "      <td>12</td>\n",
       "      <td>0</td>\n",
       "      <td>NaN</td>\n",
       "      <td>NaN</td>\n",
       "      <td>NaN</td>\n",
       "      <td>NaN</td>\n",
       "      <td>NaN</td>\n",
       "      <td>NaN</td>\n",
       "    </tr>\n",
       "  </tbody>\n",
       "</table>\n",
       "</div>"
      ],
      "text/plain": [
       "   DepDelay  DepDelayMinutes  DepartureDelayGroups  ArrDelay  ArrDelayMinutes  \\\n",
       "0        -2                0                    -1        14               14   \n",
       "1        -3                0                    -1       -20                0   \n",
       "2        -8                0                    -1        15               15   \n",
       "3        -6                0                    -1       -26                0   \n",
       "4        -6                0                    -1        12               12   \n",
       "\n",
       "   ArrivalDelayGroups  CarrierDelay  WeatherDelay  NASDelay  SecurityDelay  \\\n",
       "0                   0           NaN           NaN       NaN            NaN   \n",
       "1                  -2           NaN           NaN       NaN            NaN   \n",
       "2                   1             0             0        15              0   \n",
       "3                  -2           NaN           NaN       NaN            NaN   \n",
       "4                   0           NaN           NaN       NaN            NaN   \n",
       "\n",
       "   LateAircraftDelay  DivArrDelay  \n",
       "0                NaN          NaN  \n",
       "1                NaN          NaN  \n",
       "2                  0          NaN  \n",
       "3                NaN          NaN  \n",
       "4                NaN          NaN  "
      ]
     },
     "execution_count": 51,
     "metadata": {},
     "output_type": "execute_result"
    }
   ],
   "source": [
    "df3[df3.columns[df3.columns.str.contains('Delay')]].head()"
   ]
  },
  {
   "cell_type": "code",
   "execution_count": 52,
   "metadata": {
    "collapsed": true
   },
   "outputs": [],
   "source": [
    "cols_to_drop = df3.columns[df3.columns.str\\\n",
    "                              .contains('Delay')]\\\n",
    "                              .difference(pd.Series(['DepDelay']))"
   ]
  },
  {
   "cell_type": "code",
   "execution_count": 53,
   "metadata": {
    "collapsed": false
   },
   "outputs": [
    {
     "data": {
      "text/plain": [
       "11"
      ]
     },
     "execution_count": 53,
     "metadata": {},
     "output_type": "execute_result"
    }
   ],
   "source": [
    "len(cols_to_drop)"
   ]
  },
  {
   "cell_type": "code",
   "execution_count": 54,
   "metadata": {
    "collapsed": true
   },
   "outputs": [],
   "source": [
    "df4 = df3.drop(cols_to_drop, axis=1)"
   ]
  },
  {
   "cell_type": "code",
   "execution_count": 55,
   "metadata": {
    "collapsed": false
   },
   "outputs": [
    {
     "data": {
      "text/plain": [
       "(503897, 49)"
      ]
     },
     "execution_count": 55,
     "metadata": {},
     "output_type": "execute_result"
    }
   ],
   "source": [
    "df4.shape"
   ]
  },
  {
   "cell_type": "code",
   "execution_count": 56,
   "metadata": {
    "collapsed": false
   },
   "outputs": [
    {
     "data": {
      "text/plain": [
       "0    858\n",
       "1    857\n",
       "2    852\n",
       "3    854\n",
       "4    854\n",
       "Name: DepTime, dtype: float64"
      ]
     },
     "execution_count": 56,
     "metadata": {},
     "output_type": "execute_result"
    }
   ],
   "source": [
    "df4['DepTime'].head()"
   ]
  },
  {
   "cell_type": "markdown",
   "metadata": {},
   "source": [
    "902 => \"09:02\""
   ]
  },
  {
   "cell_type": "code",
   "execution_count": 57,
   "metadata": {
    "collapsed": true
   },
   "outputs": [],
   "source": [
    "def format_time(fl):\n",
    "    fl_str = str(int(fl))\n",
    "    if len(fl_str) < 4:\n",
    "        fl_str = \"0\" + fl_str\n",
    "    \n",
    "    result = fl_str[:2] + ':' + fl_str[2:]\n",
    "    return result\n",
    "    "
   ]
  },
  {
   "cell_type": "code",
   "execution_count": 58,
   "metadata": {
    "collapsed": false
   },
   "outputs": [
    {
     "data": {
      "text/plain": [
       "0         08:58\n",
       "1         08:57\n",
       "2         08:52\n",
       "3         08:54\n",
       "4         08:54\n",
       "5         08:56\n",
       "6         08:56\n",
       "7         08:52\n",
       "8         09:00\n",
       "9         08:53\n",
       "10        08:56\n",
       "11        08:53\n",
       "12        08:55\n",
       "13        08:55\n",
       "14        08:56\n",
       "15        09:04\n",
       "16        08:56\n",
       "17        09:10\n",
       "18        08:50\n",
       "19        08:54\n",
       "20        08:53\n",
       "21        08:53\n",
       "22        08:49\n",
       "23        08:51\n",
       "24        08:59\n",
       "25        09:00\n",
       "26        09:57\n",
       "27        08:58\n",
       "28        08:53\n",
       "29        09:07\n",
       "          ...  \n",
       "503867    10:00\n",
       "503868    13:15\n",
       "503869    16:51\n",
       "503870    20:04\n",
       "503871    10:03\n",
       "503872    13:58\n",
       "503873    18:15\n",
       "503874    05:09\n",
       "503875    07:41\n",
       "503876     02:4\n",
       "503877    21:23\n",
       "503878    17:48\n",
       "503879    20:13\n",
       "503880    05:54\n",
       "503881    07:24\n",
       "503882    16:50\n",
       "503883    08:21\n",
       "503884    10:06\n",
       "503885    06:15\n",
       "503886    08:33\n",
       "503887    08:06\n",
       "503888    09:48\n",
       "503889    06:23\n",
       "503890    06:59\n",
       "503891    09:37\n",
       "503892    02:18\n",
       "503893    20:23\n",
       "503894    22:41\n",
       "503895    17:11\n",
       "503896    21:52\n",
       "Name: DepTime, dtype: object"
      ]
     },
     "execution_count": 58,
     "metadata": {},
     "output_type": "execute_result"
    }
   ],
   "source": [
    "df4['DepTime'].fillna(0.0).map(format_time)"
   ]
  },
  {
   "cell_type": "code",
   "execution_count": 59,
   "metadata": {
    "collapsed": true
   },
   "outputs": [],
   "source": [
    "def format_time_f(fl):\n",
    "    hours = int(fl / 100) % 24\n",
    "    minutes = int(fl) % 100\n",
    "    \n",
    "    result = '%02d:%02d' % (hours, minutes)\n",
    "    return result "
   ]
  },
  {
   "cell_type": "code",
   "execution_count": 60,
   "metadata": {
    "collapsed": false
   },
   "outputs": [
    {
     "data": {
      "text/plain": [
       "152       00:00\n",
       "381       00:00\n",
       "404       00:00\n",
       "699       00:00\n",
       "748       00:00\n",
       "789       00:00\n",
       "923       00:00\n",
       "945       00:00\n",
       "964       00:00\n",
       "1305      00:00\n",
       "1315      00:00\n",
       "1338      00:00\n",
       "1340      00:00\n",
       "1345      00:00\n",
       "1351      00:00\n",
       "1415      00:00\n",
       "1463      00:00\n",
       "1483      00:00\n",
       "1517      00:00\n",
       "1527      00:00\n",
       "1546      00:00\n",
       "1750      00:00\n",
       "1780      00:00\n",
       "1785      00:00\n",
       "1793      00:00\n",
       "1809      00:00\n",
       "1835      00:00\n",
       "1952      00:00\n",
       "2005      00:00\n",
       "2007      00:00\n",
       "          ...  \n",
       "502182    00:00\n",
       "502270    00:00\n",
       "502312    00:00\n",
       "503110    00:00\n",
       "503214    00:00\n",
       "503341    00:00\n",
       "503448    00:00\n",
       "503458    00:00\n",
       "503464    00:00\n",
       "503505    00:00\n",
       "503565    00:00\n",
       "503617    00:00\n",
       "503659    00:00\n",
       "503709    00:00\n",
       "503710    00:00\n",
       "503717    00:00\n",
       "503725    00:00\n",
       "503746    00:00\n",
       "503755    00:00\n",
       "503763    00:00\n",
       "503764    00:00\n",
       "503771    00:00\n",
       "503772    00:00\n",
       "503774    00:00\n",
       "503775    00:00\n",
       "503787    00:00\n",
       "503788    00:00\n",
       "503789    00:00\n",
       "503799    00:00\n",
       "503800    00:00\n",
       "Name: DepTime, dtype: object"
      ]
     },
     "execution_count": 60,
     "metadata": {},
     "output_type": "execute_result"
    }
   ],
   "source": [
    "df4['DepTime'][df4['DepTime'].isnull()]\\\n",
    "    .fillna(0.0).map(format_time_f)"
   ]
  },
  {
   "cell_type": "code",
   "execution_count": 61,
   "metadata": {
    "collapsed": false
   },
   "outputs": [
    {
     "data": {
      "text/plain": [
       "152       00:\n",
       "381       00:\n",
       "404       00:\n",
       "699       00:\n",
       "748       00:\n",
       "789       00:\n",
       "923       00:\n",
       "945       00:\n",
       "964       00:\n",
       "1305      00:\n",
       "1315      00:\n",
       "1338      00:\n",
       "1340      00:\n",
       "1345      00:\n",
       "1351      00:\n",
       "1415      00:\n",
       "1463      00:\n",
       "1483      00:\n",
       "1517      00:\n",
       "1527      00:\n",
       "1546      00:\n",
       "1750      00:\n",
       "1780      00:\n",
       "1785      00:\n",
       "1793      00:\n",
       "1809      00:\n",
       "1835      00:\n",
       "1952      00:\n",
       "2005      00:\n",
       "2007      00:\n",
       "         ... \n",
       "502182    00:\n",
       "502270    00:\n",
       "502312    00:\n",
       "503110    00:\n",
       "503214    00:\n",
       "503341    00:\n",
       "503448    00:\n",
       "503458    00:\n",
       "503464    00:\n",
       "503505    00:\n",
       "503565    00:\n",
       "503617    00:\n",
       "503659    00:\n",
       "503709    00:\n",
       "503710    00:\n",
       "503717    00:\n",
       "503725    00:\n",
       "503746    00:\n",
       "503755    00:\n",
       "503763    00:\n",
       "503764    00:\n",
       "503771    00:\n",
       "503772    00:\n",
       "503774    00:\n",
       "503775    00:\n",
       "503787    00:\n",
       "503788    00:\n",
       "503789    00:\n",
       "503799    00:\n",
       "503800    00:\n",
       "Name: DepTime, dtype: object"
      ]
     },
     "execution_count": 61,
     "metadata": {},
     "output_type": "execute_result"
    }
   ],
   "source": [
    "df4['DepTime'][df4['DepTime'].isnull()]\\\n",
    "    .fillna(0.0).map(format_time)"
   ]
  },
  {
   "cell_type": "code",
   "execution_count": 62,
   "metadata": {
    "collapsed": true
   },
   "outputs": [],
   "source": [
    "df4['DepTimeFormatted'] = df4['DepTime']\\\n",
    "    .fillna(0.0).map(format_time_f)"
   ]
  },
  {
   "cell_type": "code",
   "execution_count": 63,
   "metadata": {
    "collapsed": false
   },
   "outputs": [],
   "source": [
    "df4['DepDateTime'] = \\\n",
    "    pd.to_datetime(df4['FlightDate'] + ' ' + \\\n",
    "                   df4['DepTimeFormatted'], \\\n",
    "                   format='%Y-%m-%d %H:%M')"
   ]
  },
  {
   "cell_type": "code",
   "execution_count": 64,
   "metadata": {
    "collapsed": false
   },
   "outputs": [
    {
     "data": {
      "text/plain": [
       "0   2015-06-01 08:58:00\n",
       "1   2015-06-02 08:57:00\n",
       "2   2015-06-03 08:52:00\n",
       "3   2015-06-04 08:54:00\n",
       "4   2015-06-05 08:54:00\n",
       "Name: DepDateTime, dtype: datetime64[ns]"
      ]
     },
     "execution_count": 64,
     "metadata": {},
     "output_type": "execute_result"
    }
   ],
   "source": [
    "df4['DepDateTime'].head()"
   ]
  },
  {
   "cell_type": "code",
   "execution_count": 65,
   "metadata": {
    "collapsed": false
   },
   "outputs": [
    {
     "data": {
      "text/html": [
       "<div>\n",
       "<table border=\"1\" class=\"dataframe\">\n",
       "  <thead>\n",
       "    <tr style=\"text-align: right;\">\n",
       "      <th></th>\n",
       "      <th>DayOfWeek</th>\n",
       "      <th>FlightDate</th>\n",
       "      <th>UniqueCarrier</th>\n",
       "      <th>AirlineID</th>\n",
       "      <th>Carrier</th>\n",
       "      <th>TailNum</th>\n",
       "      <th>FlightNum</th>\n",
       "      <th>Origin</th>\n",
       "      <th>OriginCityName</th>\n",
       "      <th>OriginStateName</th>\n",
       "      <th>...</th>\n",
       "      <th>Div1Airport</th>\n",
       "      <th>Div1AirportID</th>\n",
       "      <th>Div1AirportSeqID</th>\n",
       "      <th>Div1WheelsOn</th>\n",
       "      <th>Div1TotalGTime</th>\n",
       "      <th>Div1LongestGTime</th>\n",
       "      <th>Div1WheelsOff</th>\n",
       "      <th>Div1TailNum</th>\n",
       "      <th>DepTimeFormatted</th>\n",
       "      <th>DepDateTime</th>\n",
       "    </tr>\n",
       "  </thead>\n",
       "  <tbody>\n",
       "    <tr>\n",
       "      <th>0</th>\n",
       "      <td>1</td>\n",
       "      <td>2015-06-01</td>\n",
       "      <td>AA</td>\n",
       "      <td>19805</td>\n",
       "      <td>AA</td>\n",
       "      <td>N798AA</td>\n",
       "      <td>1</td>\n",
       "      <td>JFK</td>\n",
       "      <td>New York, NY</td>\n",
       "      <td>New York</td>\n",
       "      <td>...</td>\n",
       "      <td>NaN</td>\n",
       "      <td>NaN</td>\n",
       "      <td>NaN</td>\n",
       "      <td>NaN</td>\n",
       "      <td>NaN</td>\n",
       "      <td>NaN</td>\n",
       "      <td>NaN</td>\n",
       "      <td>NaN</td>\n",
       "      <td>08:58</td>\n",
       "      <td>2015-06-01 08:58:00</td>\n",
       "    </tr>\n",
       "    <tr>\n",
       "      <th>1</th>\n",
       "      <td>2</td>\n",
       "      <td>2015-06-02</td>\n",
       "      <td>AA</td>\n",
       "      <td>19805</td>\n",
       "      <td>AA</td>\n",
       "      <td>N788AA</td>\n",
       "      <td>1</td>\n",
       "      <td>JFK</td>\n",
       "      <td>New York, NY</td>\n",
       "      <td>New York</td>\n",
       "      <td>...</td>\n",
       "      <td>NaN</td>\n",
       "      <td>NaN</td>\n",
       "      <td>NaN</td>\n",
       "      <td>NaN</td>\n",
       "      <td>NaN</td>\n",
       "      <td>NaN</td>\n",
       "      <td>NaN</td>\n",
       "      <td>NaN</td>\n",
       "      <td>08:57</td>\n",
       "      <td>2015-06-02 08:57:00</td>\n",
       "    </tr>\n",
       "    <tr>\n",
       "      <th>2</th>\n",
       "      <td>3</td>\n",
       "      <td>2015-06-03</td>\n",
       "      <td>AA</td>\n",
       "      <td>19805</td>\n",
       "      <td>AA</td>\n",
       "      <td>N790AA</td>\n",
       "      <td>1</td>\n",
       "      <td>JFK</td>\n",
       "      <td>New York, NY</td>\n",
       "      <td>New York</td>\n",
       "      <td>...</td>\n",
       "      <td>NaN</td>\n",
       "      <td>NaN</td>\n",
       "      <td>NaN</td>\n",
       "      <td>NaN</td>\n",
       "      <td>NaN</td>\n",
       "      <td>NaN</td>\n",
       "      <td>NaN</td>\n",
       "      <td>NaN</td>\n",
       "      <td>08:52</td>\n",
       "      <td>2015-06-03 08:52:00</td>\n",
       "    </tr>\n",
       "    <tr>\n",
       "      <th>3</th>\n",
       "      <td>4</td>\n",
       "      <td>2015-06-04</td>\n",
       "      <td>AA</td>\n",
       "      <td>19805</td>\n",
       "      <td>AA</td>\n",
       "      <td>N789AA</td>\n",
       "      <td>1</td>\n",
       "      <td>JFK</td>\n",
       "      <td>New York, NY</td>\n",
       "      <td>New York</td>\n",
       "      <td>...</td>\n",
       "      <td>NaN</td>\n",
       "      <td>NaN</td>\n",
       "      <td>NaN</td>\n",
       "      <td>NaN</td>\n",
       "      <td>NaN</td>\n",
       "      <td>NaN</td>\n",
       "      <td>NaN</td>\n",
       "      <td>NaN</td>\n",
       "      <td>08:54</td>\n",
       "      <td>2015-06-04 08:54:00</td>\n",
       "    </tr>\n",
       "    <tr>\n",
       "      <th>4</th>\n",
       "      <td>5</td>\n",
       "      <td>2015-06-05</td>\n",
       "      <td>AA</td>\n",
       "      <td>19805</td>\n",
       "      <td>AA</td>\n",
       "      <td>N797AA</td>\n",
       "      <td>1</td>\n",
       "      <td>JFK</td>\n",
       "      <td>New York, NY</td>\n",
       "      <td>New York</td>\n",
       "      <td>...</td>\n",
       "      <td>NaN</td>\n",
       "      <td>NaN</td>\n",
       "      <td>NaN</td>\n",
       "      <td>NaN</td>\n",
       "      <td>NaN</td>\n",
       "      <td>NaN</td>\n",
       "      <td>NaN</td>\n",
       "      <td>NaN</td>\n",
       "      <td>08:54</td>\n",
       "      <td>2015-06-05 08:54:00</td>\n",
       "    </tr>\n",
       "  </tbody>\n",
       "</table>\n",
       "<p>5 rows × 51 columns</p>\n",
       "</div>"
      ],
      "text/plain": [
       "   DayOfWeek  FlightDate UniqueCarrier  AirlineID Carrier TailNum  FlightNum  \\\n",
       "0          1  2015-06-01            AA      19805      AA  N798AA          1   \n",
       "1          2  2015-06-02            AA      19805      AA  N788AA          1   \n",
       "2          3  2015-06-03            AA      19805      AA  N790AA          1   \n",
       "3          4  2015-06-04            AA      19805      AA  N789AA          1   \n",
       "4          5  2015-06-05            AA      19805      AA  N797AA          1   \n",
       "\n",
       "  Origin OriginCityName OriginStateName         ...         Div1Airport  \\\n",
       "0    JFK   New York, NY        New York         ...                 NaN   \n",
       "1    JFK   New York, NY        New York         ...                 NaN   \n",
       "2    JFK   New York, NY        New York         ...                 NaN   \n",
       "3    JFK   New York, NY        New York         ...                 NaN   \n",
       "4    JFK   New York, NY        New York         ...                 NaN   \n",
       "\n",
       "  Div1AirportID Div1AirportSeqID  Div1WheelsOn  Div1TotalGTime  \\\n",
       "0           NaN              NaN           NaN             NaN   \n",
       "1           NaN              NaN           NaN             NaN   \n",
       "2           NaN              NaN           NaN             NaN   \n",
       "3           NaN              NaN           NaN             NaN   \n",
       "4           NaN              NaN           NaN             NaN   \n",
       "\n",
       "   Div1LongestGTime  Div1WheelsOff Div1TailNum  DepTimeFormatted  \\\n",
       "0               NaN            NaN         NaN             08:58   \n",
       "1               NaN            NaN         NaN             08:57   \n",
       "2               NaN            NaN         NaN             08:52   \n",
       "3               NaN            NaN         NaN             08:54   \n",
       "4               NaN            NaN         NaN             08:54   \n",
       "\n",
       "          DepDateTime  \n",
       "0 2015-06-01 08:58:00  \n",
       "1 2015-06-02 08:57:00  \n",
       "2 2015-06-03 08:52:00  \n",
       "3 2015-06-04 08:54:00  \n",
       "4 2015-06-05 08:54:00  \n",
       "\n",
       "[5 rows x 51 columns]"
      ]
     },
     "execution_count": 65,
     "metadata": {},
     "output_type": "execute_result"
    }
   ],
   "source": [
    "df4.head()"
   ]
  },
  {
   "cell_type": "code",
   "execution_count": 66,
   "metadata": {
    "collapsed": false
   },
   "outputs": [],
   "source": [
    "diversion_cols = df4.columns[df4.columns.str.startswith('Div')]"
   ]
  },
  {
   "cell_type": "code",
   "execution_count": 67,
   "metadata": {
    "collapsed": true
   },
   "outputs": [],
   "source": [
    "df5 = df4.drop(diversion_cols, axis=1)"
   ]
  },
  {
   "cell_type": "code",
   "execution_count": 68,
   "metadata": {
    "collapsed": false
   },
   "outputs": [
    {
     "data": {
      "text/plain": [
       "(503897, 39)"
      ]
     },
     "execution_count": 68,
     "metadata": {},
     "output_type": "execute_result"
    }
   ],
   "source": [
    "df5.shape"
   ]
  },
  {
   "cell_type": "code",
   "execution_count": 69,
   "metadata": {
    "collapsed": false
   },
   "outputs": [
    {
     "data": {
      "text/html": [
       "<div>\n",
       "<table border=\"1\" class=\"dataframe\">\n",
       "  <thead>\n",
       "    <tr style=\"text-align: right;\">\n",
       "      <th></th>\n",
       "      <th>DayOfWeek</th>\n",
       "      <th>FlightDate</th>\n",
       "      <th>UniqueCarrier</th>\n",
       "      <th>AirlineID</th>\n",
       "      <th>Carrier</th>\n",
       "      <th>TailNum</th>\n",
       "      <th>FlightNum</th>\n",
       "      <th>Origin</th>\n",
       "      <th>OriginCityName</th>\n",
       "      <th>OriginStateName</th>\n",
       "      <th>...</th>\n",
       "      <th>ActualElapsedTime</th>\n",
       "      <th>AirTime</th>\n",
       "      <th>Flights</th>\n",
       "      <th>Distance</th>\n",
       "      <th>DistanceGroup</th>\n",
       "      <th>FirstDepTime</th>\n",
       "      <th>TotalAddGTime</th>\n",
       "      <th>LongestAddGTime</th>\n",
       "      <th>DepTimeFormatted</th>\n",
       "      <th>DepDateTime</th>\n",
       "    </tr>\n",
       "  </thead>\n",
       "  <tbody>\n",
       "    <tr>\n",
       "      <th>303292</th>\n",
       "      <td>6</td>\n",
       "      <td>2015-06-13</td>\n",
       "      <td>EV</td>\n",
       "      <td>20366</td>\n",
       "      <td>EV</td>\n",
       "      <td>N16147</td>\n",
       "      <td>4446</td>\n",
       "      <td>MFE</td>\n",
       "      <td>Mission/McAllen/Edinburg, TX</td>\n",
       "      <td>Texas</td>\n",
       "      <td>...</td>\n",
       "      <td>70</td>\n",
       "      <td>53</td>\n",
       "      <td>1</td>\n",
       "      <td>316</td>\n",
       "      <td>2</td>\n",
       "      <td>NaN</td>\n",
       "      <td>NaN</td>\n",
       "      <td>NaN</td>\n",
       "      <td>19:23</td>\n",
       "      <td>2015-06-13 19:23:00</td>\n",
       "    </tr>\n",
       "    <tr>\n",
       "      <th>146432</th>\n",
       "      <td>3</td>\n",
       "      <td>2015-06-03</td>\n",
       "      <td>WN</td>\n",
       "      <td>19393</td>\n",
       "      <td>WN</td>\n",
       "      <td>N380SW</td>\n",
       "      <td>4719</td>\n",
       "      <td>OAK</td>\n",
       "      <td>Oakland, CA</td>\n",
       "      <td>California</td>\n",
       "      <td>...</td>\n",
       "      <td>88</td>\n",
       "      <td>75</td>\n",
       "      <td>1</td>\n",
       "      <td>446</td>\n",
       "      <td>2</td>\n",
       "      <td>NaN</td>\n",
       "      <td>NaN</td>\n",
       "      <td>NaN</td>\n",
       "      <td>18:48</td>\n",
       "      <td>2015-06-03 18:48:00</td>\n",
       "    </tr>\n",
       "    <tr>\n",
       "      <th>307003</th>\n",
       "      <td>2</td>\n",
       "      <td>2015-06-02</td>\n",
       "      <td>EV</td>\n",
       "      <td>20366</td>\n",
       "      <td>EV</td>\n",
       "      <td>N11193</td>\n",
       "      <td>4684</td>\n",
       "      <td>IAH</td>\n",
       "      <td>Houston, TX</td>\n",
       "      <td>Texas</td>\n",
       "      <td>...</td>\n",
       "      <td>51</td>\n",
       "      <td>35</td>\n",
       "      <td>1</td>\n",
       "      <td>201</td>\n",
       "      <td>1</td>\n",
       "      <td>NaN</td>\n",
       "      <td>NaN</td>\n",
       "      <td>NaN</td>\n",
       "      <td>21:04</td>\n",
       "      <td>2015-06-02 21:04:00</td>\n",
       "    </tr>\n",
       "  </tbody>\n",
       "</table>\n",
       "<p>3 rows × 39 columns</p>\n",
       "</div>"
      ],
      "text/plain": [
       "        DayOfWeek  FlightDate UniqueCarrier  AirlineID Carrier TailNum  \\\n",
       "303292          6  2015-06-13            EV      20366      EV  N16147   \n",
       "146432          3  2015-06-03            WN      19393      WN  N380SW   \n",
       "307003          2  2015-06-02            EV      20366      EV  N11193   \n",
       "\n",
       "        FlightNum Origin                OriginCityName OriginStateName  \\\n",
       "303292       4446    MFE  Mission/McAllen/Edinburg, TX           Texas   \n",
       "146432       4719    OAK                   Oakland, CA      California   \n",
       "307003       4684    IAH                   Houston, TX           Texas   \n",
       "\n",
       "               ...         ActualElapsedTime AirTime Flights  Distance  \\\n",
       "303292         ...                        70      53       1       316   \n",
       "146432         ...                        88      75       1       446   \n",
       "307003         ...                        51      35       1       201   \n",
       "\n",
       "        DistanceGroup  FirstDepTime  TotalAddGTime LongestAddGTime  \\\n",
       "303292              2           NaN            NaN             NaN   \n",
       "146432              2           NaN            NaN             NaN   \n",
       "307003              1           NaN            NaN             NaN   \n",
       "\n",
       "        DepTimeFormatted         DepDateTime  \n",
       "303292             19:23 2015-06-13 19:23:00  \n",
       "146432             18:48 2015-06-03 18:48:00  \n",
       "307003             21:04 2015-06-02 21:04:00  \n",
       "\n",
       "[3 rows x 39 columns]"
      ]
     },
     "execution_count": 69,
     "metadata": {},
     "output_type": "execute_result"
    }
   ],
   "source": [
    "df5.sample(3)"
   ]
  },
  {
   "cell_type": "code",
   "execution_count": 70,
   "metadata": {
    "collapsed": false
   },
   "outputs": [
    {
     "ename": "TypeError",
     "evalue": "cannot convert the series to <type 'int'>",
     "output_type": "error",
     "traceback": [
      "\u001b[1;31m---------------------------------------------------------------------------\u001b[0m",
      "\u001b[1;31mTypeError\u001b[0m                                 Traceback (most recent call last)",
      "\u001b[1;32m<ipython-input-70-58affaa8885d>\u001b[0m in \u001b[0;36m<module>\u001b[1;34m()\u001b[0m\n\u001b[1;32m----> 1\u001b[1;33m \u001b[0mdf5\u001b[0m\u001b[1;33m[\u001b[0m\u001b[1;34m'FlightNum'\u001b[0m\u001b[1;33m]\u001b[0m \u001b[1;33m=\u001b[0m \u001b[0mint\u001b[0m\u001b[1;33m(\u001b[0m\u001b[0mdf5\u001b[0m\u001b[1;33m[\u001b[0m\u001b[1;34m'FlightNum'\u001b[0m\u001b[1;33m]\u001b[0m\u001b[1;33m)\u001b[0m\u001b[1;33m\u001b[0m\u001b[0m\n\u001b[0m",
      "\u001b[1;32m/home/dsc/anaconda2/lib/python2.7/site-packages/pandas/core/series.pyc\u001b[0m in \u001b[0;36mwrapper\u001b[1;34m(self)\u001b[0m\n\u001b[0;32m     79\u001b[0m             \u001b[1;32mreturn\u001b[0m \u001b[0mconverter\u001b[0m\u001b[1;33m(\u001b[0m\u001b[0mself\u001b[0m\u001b[1;33m.\u001b[0m\u001b[0miloc\u001b[0m\u001b[1;33m[\u001b[0m\u001b[1;36m0\u001b[0m\u001b[1;33m]\u001b[0m\u001b[1;33m)\u001b[0m\u001b[1;33m\u001b[0m\u001b[0m\n\u001b[0;32m     80\u001b[0m         raise TypeError(\n\u001b[1;32m---> 81\u001b[1;33m             \"cannot convert the series to {0}\".format(str(converter)))\n\u001b[0m\u001b[0;32m     82\u001b[0m     \u001b[1;32mreturn\u001b[0m \u001b[0mwrapper\u001b[0m\u001b[1;33m\u001b[0m\u001b[0m\n\u001b[0;32m     83\u001b[0m \u001b[1;33m\u001b[0m\u001b[0m\n",
      "\u001b[1;31mTypeError\u001b[0m: cannot convert the series to <type 'int'>"
     ]
    }
   ],
   "source": [
    "df5['FlightNum'] = int(df5['FlightNum'])"
   ]
  },
  {
   "cell_type": "code",
   "execution_count": null,
   "metadata": {
    "collapsed": false
   },
   "outputs": [],
   "source": [
    "df5.dtypes"
   ]
  },
  {
   "cell_type": "code",
   "execution_count": 71,
   "metadata": {
    "collapsed": true
   },
   "outputs": [],
   "source": [
    "by_plane = df5.groupby('TailNum')"
   ]
  },
  {
   "cell_type": "code",
   "execution_count": 72,
   "metadata": {
    "collapsed": false
   },
   "outputs": [
    {
     "data": {
      "text/plain": [
       "TailNum\n",
       "N001AA    23.983333\n",
       "N002AA     9.350000\n",
       "N003AA     0.607143\n",
       "N004AA    -1.448980\n",
       "N005AA    14.000000\n",
       "N006AA     4.351351\n",
       "N007AA    16.839286\n",
       "N008AA    13.406250\n",
       "N009AA    17.125000\n",
       "N010AA     9.857143\n",
       "N011AA     5.340000\n",
       "N012AA    14.343284\n",
       "N013AA    12.150000\n",
       "N014AA    11.561404\n",
       "N015AA    11.513158\n",
       "N016AA    10.947368\n",
       "N017AA     7.517241\n",
       "N018AA     5.027778\n",
       "N019AA     6.157895\n",
       "N020AA    17.128205\n",
       "N021AA     1.387097\n",
       "N022AA    17.375000\n",
       "N023AA     4.196429\n",
       "N024AA     6.627119\n",
       "N025AA     0.093750\n",
       "N026AA    10.980769\n",
       "N027AA    17.690909\n",
       "N028AA    26.541667\n",
       "N029AA     3.692308\n",
       "N030AA     7.042254\n",
       "            ...    \n",
       "N985AT    15.464706\n",
       "N985DL    11.466667\n",
       "N986AT    13.660714\n",
       "N986DL    16.227723\n",
       "N986SW    10.241573\n",
       "N987AT    13.972067\n",
       "N987DL     5.652542\n",
       "N988AT     6.682540\n",
       "N988CA     6.994819\n",
       "N988DL    10.645833\n",
       "N989AT    15.664634\n",
       "N989DL    41.439024\n",
       "N990AT    21.756410\n",
       "N990DL    18.945455\n",
       "N991AT     7.218391\n",
       "N991DL     8.410853\n",
       "N992DL    13.508621\n",
       "N993AT    18.666667\n",
       "N993DL    13.512397\n",
       "N994AT    11.011429\n",
       "N994DL    11.578125\n",
       "N995AT    11.405882\n",
       "N995DL     6.867257\n",
       "N996DL     6.607843\n",
       "N997AT    12.666667\n",
       "N997DL     7.268519\n",
       "N998AT     7.971631\n",
       "N998DL     8.073333\n",
       "N999DN    17.891892\n",
       "N9EAMQ    18.782946\n",
       "Name: DepDelay, dtype: float64"
      ]
     },
     "execution_count": 72,
     "metadata": {},
     "output_type": "execute_result"
    }
   ],
   "source": [
    "x = by_plane['DepDelay'].mean()\n",
    "x"
   ]
  },
  {
   "cell_type": "code",
   "execution_count": 73,
   "metadata": {
    "collapsed": false
   },
   "outputs": [
    {
     "data": {
      "text/html": [
       "<div>\n",
       "<table border=\"1\" class=\"dataframe\">\n",
       "  <thead>\n",
       "    <tr style=\"text-align: right;\">\n",
       "      <th></th>\n",
       "      <th>mean</th>\n",
       "      <th>count</th>\n",
       "    </tr>\n",
       "    <tr>\n",
       "      <th>TailNum</th>\n",
       "      <th></th>\n",
       "      <th></th>\n",
       "    </tr>\n",
       "  </thead>\n",
       "  <tbody>\n",
       "    <tr>\n",
       "      <th>N001AA</th>\n",
       "      <td>23.983333</td>\n",
       "      <td>60</td>\n",
       "    </tr>\n",
       "    <tr>\n",
       "      <th>N002AA</th>\n",
       "      <td>9.350000</td>\n",
       "      <td>60</td>\n",
       "    </tr>\n",
       "    <tr>\n",
       "      <th>N003AA</th>\n",
       "      <td>0.607143</td>\n",
       "      <td>56</td>\n",
       "    </tr>\n",
       "    <tr>\n",
       "      <th>N004AA</th>\n",
       "      <td>-1.448980</td>\n",
       "      <td>49</td>\n",
       "    </tr>\n",
       "    <tr>\n",
       "      <th>N005AA</th>\n",
       "      <td>14.000000</td>\n",
       "      <td>45</td>\n",
       "    </tr>\n",
       "    <tr>\n",
       "      <th>N006AA</th>\n",
       "      <td>4.351351</td>\n",
       "      <td>74</td>\n",
       "    </tr>\n",
       "    <tr>\n",
       "      <th>N007AA</th>\n",
       "      <td>16.839286</td>\n",
       "      <td>56</td>\n",
       "    </tr>\n",
       "    <tr>\n",
       "      <th>N008AA</th>\n",
       "      <td>13.406250</td>\n",
       "      <td>64</td>\n",
       "    </tr>\n",
       "    <tr>\n",
       "      <th>N009AA</th>\n",
       "      <td>17.125000</td>\n",
       "      <td>64</td>\n",
       "    </tr>\n",
       "    <tr>\n",
       "      <th>N010AA</th>\n",
       "      <td>9.857143</td>\n",
       "      <td>56</td>\n",
       "    </tr>\n",
       "    <tr>\n",
       "      <th>N011AA</th>\n",
       "      <td>5.340000</td>\n",
       "      <td>50</td>\n",
       "    </tr>\n",
       "    <tr>\n",
       "      <th>N012AA</th>\n",
       "      <td>14.343284</td>\n",
       "      <td>67</td>\n",
       "    </tr>\n",
       "    <tr>\n",
       "      <th>N013AA</th>\n",
       "      <td>12.150000</td>\n",
       "      <td>60</td>\n",
       "    </tr>\n",
       "    <tr>\n",
       "      <th>N014AA</th>\n",
       "      <td>11.561404</td>\n",
       "      <td>57</td>\n",
       "    </tr>\n",
       "    <tr>\n",
       "      <th>N015AA</th>\n",
       "      <td>11.513158</td>\n",
       "      <td>76</td>\n",
       "    </tr>\n",
       "    <tr>\n",
       "      <th>N016AA</th>\n",
       "      <td>10.947368</td>\n",
       "      <td>38</td>\n",
       "    </tr>\n",
       "    <tr>\n",
       "      <th>N017AA</th>\n",
       "      <td>7.517241</td>\n",
       "      <td>58</td>\n",
       "    </tr>\n",
       "    <tr>\n",
       "      <th>N018AA</th>\n",
       "      <td>5.027778</td>\n",
       "      <td>72</td>\n",
       "    </tr>\n",
       "    <tr>\n",
       "      <th>N019AA</th>\n",
       "      <td>6.157895</td>\n",
       "      <td>57</td>\n",
       "    </tr>\n",
       "    <tr>\n",
       "      <th>N020AA</th>\n",
       "      <td>17.128205</td>\n",
       "      <td>78</td>\n",
       "    </tr>\n",
       "    <tr>\n",
       "      <th>N021AA</th>\n",
       "      <td>1.387097</td>\n",
       "      <td>62</td>\n",
       "    </tr>\n",
       "    <tr>\n",
       "      <th>N022AA</th>\n",
       "      <td>17.375000</td>\n",
       "      <td>56</td>\n",
       "    </tr>\n",
       "    <tr>\n",
       "      <th>N023AA</th>\n",
       "      <td>4.196429</td>\n",
       "      <td>56</td>\n",
       "    </tr>\n",
       "    <tr>\n",
       "      <th>N024AA</th>\n",
       "      <td>6.627119</td>\n",
       "      <td>59</td>\n",
       "    </tr>\n",
       "    <tr>\n",
       "      <th>N025AA</th>\n",
       "      <td>0.093750</td>\n",
       "      <td>64</td>\n",
       "    </tr>\n",
       "    <tr>\n",
       "      <th>N026AA</th>\n",
       "      <td>10.980769</td>\n",
       "      <td>52</td>\n",
       "    </tr>\n",
       "    <tr>\n",
       "      <th>N027AA</th>\n",
       "      <td>17.690909</td>\n",
       "      <td>55</td>\n",
       "    </tr>\n",
       "    <tr>\n",
       "      <th>N028AA</th>\n",
       "      <td>26.541667</td>\n",
       "      <td>48</td>\n",
       "    </tr>\n",
       "    <tr>\n",
       "      <th>N029AA</th>\n",
       "      <td>3.692308</td>\n",
       "      <td>52</td>\n",
       "    </tr>\n",
       "    <tr>\n",
       "      <th>N030AA</th>\n",
       "      <td>7.042254</td>\n",
       "      <td>71</td>\n",
       "    </tr>\n",
       "    <tr>\n",
       "      <th>...</th>\n",
       "      <td>...</td>\n",
       "      <td>...</td>\n",
       "    </tr>\n",
       "    <tr>\n",
       "      <th>N985AT</th>\n",
       "      <td>15.464706</td>\n",
       "      <td>170</td>\n",
       "    </tr>\n",
       "    <tr>\n",
       "      <th>N985DL</th>\n",
       "      <td>11.466667</td>\n",
       "      <td>30</td>\n",
       "    </tr>\n",
       "    <tr>\n",
       "      <th>N986AT</th>\n",
       "      <td>13.660714</td>\n",
       "      <td>112</td>\n",
       "    </tr>\n",
       "    <tr>\n",
       "      <th>N986DL</th>\n",
       "      <td>16.227723</td>\n",
       "      <td>101</td>\n",
       "    </tr>\n",
       "    <tr>\n",
       "      <th>N986SW</th>\n",
       "      <td>10.241573</td>\n",
       "      <td>178</td>\n",
       "    </tr>\n",
       "    <tr>\n",
       "      <th>N987AT</th>\n",
       "      <td>13.972067</td>\n",
       "      <td>179</td>\n",
       "    </tr>\n",
       "    <tr>\n",
       "      <th>N987DL</th>\n",
       "      <td>5.652542</td>\n",
       "      <td>118</td>\n",
       "    </tr>\n",
       "    <tr>\n",
       "      <th>N988AT</th>\n",
       "      <td>6.682540</td>\n",
       "      <td>126</td>\n",
       "    </tr>\n",
       "    <tr>\n",
       "      <th>N988CA</th>\n",
       "      <td>6.994819</td>\n",
       "      <td>193</td>\n",
       "    </tr>\n",
       "    <tr>\n",
       "      <th>N988DL</th>\n",
       "      <td>10.645833</td>\n",
       "      <td>96</td>\n",
       "    </tr>\n",
       "    <tr>\n",
       "      <th>N989AT</th>\n",
       "      <td>15.664634</td>\n",
       "      <td>164</td>\n",
       "    </tr>\n",
       "    <tr>\n",
       "      <th>N989DL</th>\n",
       "      <td>41.439024</td>\n",
       "      <td>123</td>\n",
       "    </tr>\n",
       "    <tr>\n",
       "      <th>N990AT</th>\n",
       "      <td>21.756410</td>\n",
       "      <td>156</td>\n",
       "    </tr>\n",
       "    <tr>\n",
       "      <th>N990DL</th>\n",
       "      <td>18.945455</td>\n",
       "      <td>110</td>\n",
       "    </tr>\n",
       "    <tr>\n",
       "      <th>N991AT</th>\n",
       "      <td>7.218391</td>\n",
       "      <td>174</td>\n",
       "    </tr>\n",
       "    <tr>\n",
       "      <th>N991DL</th>\n",
       "      <td>8.410853</td>\n",
       "      <td>129</td>\n",
       "    </tr>\n",
       "    <tr>\n",
       "      <th>N992DL</th>\n",
       "      <td>13.508621</td>\n",
       "      <td>116</td>\n",
       "    </tr>\n",
       "    <tr>\n",
       "      <th>N993AT</th>\n",
       "      <td>18.666667</td>\n",
       "      <td>165</td>\n",
       "    </tr>\n",
       "    <tr>\n",
       "      <th>N993DL</th>\n",
       "      <td>13.512397</td>\n",
       "      <td>121</td>\n",
       "    </tr>\n",
       "    <tr>\n",
       "      <th>N994AT</th>\n",
       "      <td>11.011429</td>\n",
       "      <td>175</td>\n",
       "    </tr>\n",
       "    <tr>\n",
       "      <th>N994DL</th>\n",
       "      <td>11.578125</td>\n",
       "      <td>128</td>\n",
       "    </tr>\n",
       "    <tr>\n",
       "      <th>N995AT</th>\n",
       "      <td>11.405882</td>\n",
       "      <td>170</td>\n",
       "    </tr>\n",
       "    <tr>\n",
       "      <th>N995DL</th>\n",
       "      <td>6.867257</td>\n",
       "      <td>113</td>\n",
       "    </tr>\n",
       "    <tr>\n",
       "      <th>N996DL</th>\n",
       "      <td>6.607843</td>\n",
       "      <td>102</td>\n",
       "    </tr>\n",
       "    <tr>\n",
       "      <th>N997AT</th>\n",
       "      <td>12.666667</td>\n",
       "      <td>93</td>\n",
       "    </tr>\n",
       "    <tr>\n",
       "      <th>N997DL</th>\n",
       "      <td>7.268519</td>\n",
       "      <td>108</td>\n",
       "    </tr>\n",
       "    <tr>\n",
       "      <th>N998AT</th>\n",
       "      <td>7.971631</td>\n",
       "      <td>141</td>\n",
       "    </tr>\n",
       "    <tr>\n",
       "      <th>N998DL</th>\n",
       "      <td>8.073333</td>\n",
       "      <td>150</td>\n",
       "    </tr>\n",
       "    <tr>\n",
       "      <th>N999DN</th>\n",
       "      <td>17.891892</td>\n",
       "      <td>111</td>\n",
       "    </tr>\n",
       "    <tr>\n",
       "      <th>N9EAMQ</th>\n",
       "      <td>18.782946</td>\n",
       "      <td>129</td>\n",
       "    </tr>\n",
       "  </tbody>\n",
       "</table>\n",
       "<p>4346 rows × 2 columns</p>\n",
       "</div>"
      ],
      "text/plain": [
       "              mean  count\n",
       "TailNum                  \n",
       "N001AA   23.983333     60\n",
       "N002AA    9.350000     60\n",
       "N003AA    0.607143     56\n",
       "N004AA   -1.448980     49\n",
       "N005AA   14.000000     45\n",
       "N006AA    4.351351     74\n",
       "N007AA   16.839286     56\n",
       "N008AA   13.406250     64\n",
       "N009AA   17.125000     64\n",
       "N010AA    9.857143     56\n",
       "N011AA    5.340000     50\n",
       "N012AA   14.343284     67\n",
       "N013AA   12.150000     60\n",
       "N014AA   11.561404     57\n",
       "N015AA   11.513158     76\n",
       "N016AA   10.947368     38\n",
       "N017AA    7.517241     58\n",
       "N018AA    5.027778     72\n",
       "N019AA    6.157895     57\n",
       "N020AA   17.128205     78\n",
       "N021AA    1.387097     62\n",
       "N022AA   17.375000     56\n",
       "N023AA    4.196429     56\n",
       "N024AA    6.627119     59\n",
       "N025AA    0.093750     64\n",
       "N026AA   10.980769     52\n",
       "N027AA   17.690909     55\n",
       "N028AA   26.541667     48\n",
       "N029AA    3.692308     52\n",
       "N030AA    7.042254     71\n",
       "...            ...    ...\n",
       "N985AT   15.464706    170\n",
       "N985DL   11.466667     30\n",
       "N986AT   13.660714    112\n",
       "N986DL   16.227723    101\n",
       "N986SW   10.241573    178\n",
       "N987AT   13.972067    179\n",
       "N987DL    5.652542    118\n",
       "N988AT    6.682540    126\n",
       "N988CA    6.994819    193\n",
       "N988DL   10.645833     96\n",
       "N989AT   15.664634    164\n",
       "N989DL   41.439024    123\n",
       "N990AT   21.756410    156\n",
       "N990DL   18.945455    110\n",
       "N991AT    7.218391    174\n",
       "N991DL    8.410853    129\n",
       "N992DL   13.508621    116\n",
       "N993AT   18.666667    165\n",
       "N993DL   13.512397    121\n",
       "N994AT   11.011429    175\n",
       "N994DL   11.578125    128\n",
       "N995AT   11.405882    170\n",
       "N995DL    6.867257    113\n",
       "N996DL    6.607843    102\n",
       "N997AT   12.666667     93\n",
       "N997DL    7.268519    108\n",
       "N998AT    7.971631    141\n",
       "N998DL    8.073333    150\n",
       "N999DN   17.891892    111\n",
       "N9EAMQ   18.782946    129\n",
       "\n",
       "[4346 rows x 2 columns]"
      ]
     },
     "execution_count": 73,
     "metadata": {},
     "output_type": "execute_result"
    }
   ],
   "source": [
    "average_delays = by_plane['DepDelay'].agg(['mean', 'count'])\n",
    "average_delays"
   ]
  },
  {
   "cell_type": "code",
   "execution_count": 74,
   "metadata": {
    "collapsed": false
   },
   "outputs": [
    {
     "data": {
      "text/html": [
       "<div>\n",
       "<table border=\"1\" class=\"dataframe\">\n",
       "  <thead>\n",
       "    <tr style=\"text-align: right;\">\n",
       "      <th></th>\n",
       "      <th>mean</th>\n",
       "      <th>count</th>\n",
       "    </tr>\n",
       "    <tr>\n",
       "      <th>TailNum</th>\n",
       "      <th></th>\n",
       "      <th></th>\n",
       "    </tr>\n",
       "  </thead>\n",
       "  <tbody>\n",
       "    <tr>\n",
       "      <th>N774UA</th>\n",
       "      <td>130.916667</td>\n",
       "      <td>12</td>\n",
       "    </tr>\n",
       "    <tr>\n",
       "      <th>N353AA</th>\n",
       "      <td>119.928571</td>\n",
       "      <td>14</td>\n",
       "    </tr>\n",
       "    <tr>\n",
       "      <th>N643NK</th>\n",
       "      <td>97.300000</td>\n",
       "      <td>60</td>\n",
       "    </tr>\n",
       "    <tr>\n",
       "      <th>N386AA</th>\n",
       "      <td>94.846154</td>\n",
       "      <td>13</td>\n",
       "    </tr>\n",
       "    <tr>\n",
       "      <th>N5FEAA</th>\n",
       "      <td>93.666667</td>\n",
       "      <td>18</td>\n",
       "    </tr>\n",
       "    <tr>\n",
       "      <th>N356AA</th>\n",
       "      <td>82.857143</td>\n",
       "      <td>35</td>\n",
       "    </tr>\n",
       "    <tr>\n",
       "      <th>N215UA</th>\n",
       "      <td>76.692308</td>\n",
       "      <td>39</td>\n",
       "    </tr>\n",
       "    <tr>\n",
       "      <th>N602NK</th>\n",
       "      <td>76.414141</td>\n",
       "      <td>99</td>\n",
       "    </tr>\n",
       "    <tr>\n",
       "      <th>N382AA</th>\n",
       "      <td>75.878049</td>\n",
       "      <td>41</td>\n",
       "    </tr>\n",
       "    <tr>\n",
       "      <th>N623NK</th>\n",
       "      <td>65.705128</td>\n",
       "      <td>156</td>\n",
       "    </tr>\n",
       "    <tr>\n",
       "      <th>N522NK</th>\n",
       "      <td>63.000000</td>\n",
       "      <td>44</td>\n",
       "    </tr>\n",
       "    <tr>\n",
       "      <th>N369AA</th>\n",
       "      <td>59.318182</td>\n",
       "      <td>22</td>\n",
       "    </tr>\n",
       "    <tr>\n",
       "      <th>N7ADAA</th>\n",
       "      <td>58.833333</td>\n",
       "      <td>12</td>\n",
       "    </tr>\n",
       "    <tr>\n",
       "      <th>N376AA</th>\n",
       "      <td>57.315789</td>\n",
       "      <td>19</td>\n",
       "    </tr>\n",
       "    <tr>\n",
       "      <th>N941UW</th>\n",
       "      <td>56.235294</td>\n",
       "      <td>17</td>\n",
       "    </tr>\n",
       "    <tr>\n",
       "      <th>N7818L</th>\n",
       "      <td>55.720930</td>\n",
       "      <td>43</td>\n",
       "    </tr>\n",
       "    <tr>\n",
       "      <th>N521NK</th>\n",
       "      <td>55.317073</td>\n",
       "      <td>123</td>\n",
       "    </tr>\n",
       "    <tr>\n",
       "      <th>N14237</th>\n",
       "      <td>54.958333</td>\n",
       "      <td>96</td>\n",
       "    </tr>\n",
       "    <tr>\n",
       "      <th>N37274</th>\n",
       "      <td>53.891089</td>\n",
       "      <td>101</td>\n",
       "    </tr>\n",
       "    <tr>\n",
       "      <th>N14102</th>\n",
       "      <td>53.300000</td>\n",
       "      <td>20</td>\n",
       "    </tr>\n",
       "    <tr>\n",
       "      <th>N13110</th>\n",
       "      <td>53.000000</td>\n",
       "      <td>20</td>\n",
       "    </tr>\n",
       "    <tr>\n",
       "      <th>N505NK</th>\n",
       "      <td>52.809524</td>\n",
       "      <td>63</td>\n",
       "    </tr>\n",
       "    <tr>\n",
       "      <th>N657SW</th>\n",
       "      <td>51.500000</td>\n",
       "      <td>16</td>\n",
       "    </tr>\n",
       "    <tr>\n",
       "      <th>N938UW</th>\n",
       "      <td>51.485714</td>\n",
       "      <td>35</td>\n",
       "    </tr>\n",
       "    <tr>\n",
       "      <th>N67058</th>\n",
       "      <td>51.272727</td>\n",
       "      <td>11</td>\n",
       "    </tr>\n",
       "    <tr>\n",
       "      <th>N152DL</th>\n",
       "      <td>51.166667</td>\n",
       "      <td>12</td>\n",
       "    </tr>\n",
       "    <tr>\n",
       "      <th>N36447</th>\n",
       "      <td>50.511628</td>\n",
       "      <td>86</td>\n",
       "    </tr>\n",
       "    <tr>\n",
       "      <th>N77530</th>\n",
       "      <td>50.225806</td>\n",
       "      <td>93</td>\n",
       "    </tr>\n",
       "    <tr>\n",
       "      <th>N12114</th>\n",
       "      <td>50.166667</td>\n",
       "      <td>18</td>\n",
       "    </tr>\n",
       "    <tr>\n",
       "      <th>N14107</th>\n",
       "      <td>50.153846</td>\n",
       "      <td>13</td>\n",
       "    </tr>\n",
       "    <tr>\n",
       "      <th>...</th>\n",
       "      <td>...</td>\n",
       "      <td>...</td>\n",
       "    </tr>\n",
       "    <tr>\n",
       "      <th>N483HA</th>\n",
       "      <td>-2.633880</td>\n",
       "      <td>366</td>\n",
       "    </tr>\n",
       "    <tr>\n",
       "      <th>N375HA</th>\n",
       "      <td>-2.705882</td>\n",
       "      <td>34</td>\n",
       "    </tr>\n",
       "    <tr>\n",
       "      <th>N525AS</th>\n",
       "      <td>-2.737705</td>\n",
       "      <td>122</td>\n",
       "    </tr>\n",
       "    <tr>\n",
       "      <th>N8982A</th>\n",
       "      <td>-2.790541</td>\n",
       "      <td>148</td>\n",
       "    </tr>\n",
       "    <tr>\n",
       "      <th>N625AS</th>\n",
       "      <td>-2.814159</td>\n",
       "      <td>113</td>\n",
       "    </tr>\n",
       "    <tr>\n",
       "      <th>N4YCAA</th>\n",
       "      <td>-2.904762</td>\n",
       "      <td>42</td>\n",
       "    </tr>\n",
       "    <tr>\n",
       "      <th>N493HA</th>\n",
       "      <td>-2.934211</td>\n",
       "      <td>304</td>\n",
       "    </tr>\n",
       "    <tr>\n",
       "      <th>N480HA</th>\n",
       "      <td>-2.982659</td>\n",
       "      <td>346</td>\n",
       "    </tr>\n",
       "    <tr>\n",
       "      <th>N519AS</th>\n",
       "      <td>-3.082474</td>\n",
       "      <td>97</td>\n",
       "    </tr>\n",
       "    <tr>\n",
       "      <th>N912EV</th>\n",
       "      <td>-3.110497</td>\n",
       "      <td>181</td>\n",
       "    </tr>\n",
       "    <tr>\n",
       "      <th>N568AS</th>\n",
       "      <td>-3.111111</td>\n",
       "      <td>99</td>\n",
       "    </tr>\n",
       "    <tr>\n",
       "      <th>N477HA</th>\n",
       "      <td>-3.221538</td>\n",
       "      <td>325</td>\n",
       "    </tr>\n",
       "    <tr>\n",
       "      <th>N491HA</th>\n",
       "      <td>-3.268987</td>\n",
       "      <td>316</td>\n",
       "    </tr>\n",
       "    <tr>\n",
       "      <th>N479HA</th>\n",
       "      <td>-3.277311</td>\n",
       "      <td>357</td>\n",
       "    </tr>\n",
       "    <tr>\n",
       "      <th>N373HA</th>\n",
       "      <td>-3.285714</td>\n",
       "      <td>49</td>\n",
       "    </tr>\n",
       "    <tr>\n",
       "      <th>N8933B</th>\n",
       "      <td>-3.366864</td>\n",
       "      <td>169</td>\n",
       "    </tr>\n",
       "    <tr>\n",
       "      <th>N475HA</th>\n",
       "      <td>-3.556548</td>\n",
       "      <td>336</td>\n",
       "    </tr>\n",
       "    <tr>\n",
       "      <th>N481HA</th>\n",
       "      <td>-3.712903</td>\n",
       "      <td>310</td>\n",
       "    </tr>\n",
       "    <tr>\n",
       "      <th>N492HA</th>\n",
       "      <td>-3.776860</td>\n",
       "      <td>121</td>\n",
       "    </tr>\n",
       "    <tr>\n",
       "      <th>N488HA</th>\n",
       "      <td>-3.795527</td>\n",
       "      <td>313</td>\n",
       "    </tr>\n",
       "    <tr>\n",
       "      <th>N614AS</th>\n",
       "      <td>-3.947761</td>\n",
       "      <td>134</td>\n",
       "    </tr>\n",
       "    <tr>\n",
       "      <th>N623MQ</th>\n",
       "      <td>-4.190476</td>\n",
       "      <td>21</td>\n",
       "    </tr>\n",
       "    <tr>\n",
       "      <th>N685BR</th>\n",
       "      <td>-4.450617</td>\n",
       "      <td>162</td>\n",
       "    </tr>\n",
       "    <tr>\n",
       "      <th>N644AS</th>\n",
       "      <td>-4.474453</td>\n",
       "      <td>137</td>\n",
       "    </tr>\n",
       "    <tr>\n",
       "      <th>N5FMAA</th>\n",
       "      <td>-4.562500</td>\n",
       "      <td>16</td>\n",
       "    </tr>\n",
       "    <tr>\n",
       "      <th>N659BR</th>\n",
       "      <td>-4.575540</td>\n",
       "      <td>139</td>\n",
       "    </tr>\n",
       "    <tr>\n",
       "      <th>N453SW</th>\n",
       "      <td>-4.775148</td>\n",
       "      <td>169</td>\n",
       "    </tr>\n",
       "    <tr>\n",
       "      <th>N17524</th>\n",
       "      <td>-4.850000</td>\n",
       "      <td>20</td>\n",
       "    </tr>\n",
       "    <tr>\n",
       "      <th>N613AS</th>\n",
       "      <td>-4.916667</td>\n",
       "      <td>132</td>\n",
       "    </tr>\n",
       "    <tr>\n",
       "      <th>N565AS</th>\n",
       "      <td>-5.477273</td>\n",
       "      <td>88</td>\n",
       "    </tr>\n",
       "  </tbody>\n",
       "</table>\n",
       "<p>4124 rows × 2 columns</p>\n",
       "</div>"
      ],
      "text/plain": [
       "               mean  count\n",
       "TailNum                   \n",
       "N774UA   130.916667     12\n",
       "N353AA   119.928571     14\n",
       "N643NK    97.300000     60\n",
       "N386AA    94.846154     13\n",
       "N5FEAA    93.666667     18\n",
       "N356AA    82.857143     35\n",
       "N215UA    76.692308     39\n",
       "N602NK    76.414141     99\n",
       "N382AA    75.878049     41\n",
       "N623NK    65.705128    156\n",
       "N522NK    63.000000     44\n",
       "N369AA    59.318182     22\n",
       "N7ADAA    58.833333     12\n",
       "N376AA    57.315789     19\n",
       "N941UW    56.235294     17\n",
       "N7818L    55.720930     43\n",
       "N521NK    55.317073    123\n",
       "N14237    54.958333     96\n",
       "N37274    53.891089    101\n",
       "N14102    53.300000     20\n",
       "N13110    53.000000     20\n",
       "N505NK    52.809524     63\n",
       "N657SW    51.500000     16\n",
       "N938UW    51.485714     35\n",
       "N67058    51.272727     11\n",
       "N152DL    51.166667     12\n",
       "N36447    50.511628     86\n",
       "N77530    50.225806     93\n",
       "N12114    50.166667     18\n",
       "N14107    50.153846     13\n",
       "...             ...    ...\n",
       "N483HA    -2.633880    366\n",
       "N375HA    -2.705882     34\n",
       "N525AS    -2.737705    122\n",
       "N8982A    -2.790541    148\n",
       "N625AS    -2.814159    113\n",
       "N4YCAA    -2.904762     42\n",
       "N493HA    -2.934211    304\n",
       "N480HA    -2.982659    346\n",
       "N519AS    -3.082474     97\n",
       "N912EV    -3.110497    181\n",
       "N568AS    -3.111111     99\n",
       "N477HA    -3.221538    325\n",
       "N491HA    -3.268987    316\n",
       "N479HA    -3.277311    357\n",
       "N373HA    -3.285714     49\n",
       "N8933B    -3.366864    169\n",
       "N475HA    -3.556548    336\n",
       "N481HA    -3.712903    310\n",
       "N492HA    -3.776860    121\n",
       "N488HA    -3.795527    313\n",
       "N614AS    -3.947761    134\n",
       "N623MQ    -4.190476     21\n",
       "N685BR    -4.450617    162\n",
       "N644AS    -4.474453    137\n",
       "N5FMAA    -4.562500     16\n",
       "N659BR    -4.575540    139\n",
       "N453SW    -4.775148    169\n",
       "N17524    -4.850000     20\n",
       "N613AS    -4.916667    132\n",
       "N565AS    -5.477273     88\n",
       "\n",
       "[4124 rows x 2 columns]"
      ]
     },
     "execution_count": 74,
     "metadata": {},
     "output_type": "execute_result"
    }
   ],
   "source": [
    "average_delays[average_delays['count']> 10].sort_values('mean', ascending=False )"
   ]
  },
  {
   "cell_type": "code",
   "execution_count": 75,
   "metadata": {
    "collapsed": true
   },
   "outputs": [],
   "source": [
    "import matplotlib.pyplot as plt\n",
    "%matplotlib inline"
   ]
  },
  {
   "cell_type": "code",
   "execution_count": 78,
   "metadata": {
    "collapsed": false
   },
   "outputs": [
    {
     "data": {
      "text/plain": [
       "<matplotlib.collections.PathCollection at 0x7efdd6f1a3d0>"
      ]
     },
     "execution_count": 78,
     "metadata": {},
     "output_type": "execute_result"
    },
    {
     "data": {
      "image/png": "[encoded data removed]",
      "text/plain": [
       "<matplotlib.figure.Figure at 0x7efddc13e910>"
      ]
     },
     "metadata": {},
     "output_type": "display_data"
    }
   ],
   "source": [
    "f, ((ul,ur),(ll,lr)) = plt.subplots(2,2, figsize=(10,5))\n",
    "\n",
    "subset = df5.sample(10000)\n",
    "\n",
    "ul.plot(df5['DepDelay'], df5['Distance'])\n",
    "ur.scatter(df5['DepDelay'], df5['Distance'], alpha=0.1)\n",
    "\n",
    "ll.scatter(subset['DepDelay'], subset['Distance'])\n",
    "lr.set_ylim(0,1000)\n",
    "lr.set_xlim(0,200)\n",
    "lr.scatter(subset['DepDelay'], subset['Distance'], alpha=0.2)"
   ]
  },
  {
   "cell_type": "code",
   "execution_count": 126,
   "metadata": {
    "collapsed": false
   },
   "outputs": [
    {
     "data": {
      "text/plain": [
       "<matplotlib.axes._subplots.AxesSubplot at 0x7faee4e3b3d0>"
      ]
     },
     "execution_count": 126,
     "metadata": {},
     "output_type": "execute_result"
    },
    {
     "data": {
      "image/png": "[encoded data removed]",
      "text/plain": [
       "<matplotlib.figure.Figure at 0x7faee4d44950>"
      ]
     },
     "metadata": {},
     "output_type": "display_data"
    }
   ],
   "source": [
    "f2 = plt.figure()\n",
    "f2.add_subplot(221)\n",
    "f2.add_subplot(224)\n"
   ]
  },
  {
   "cell_type": "code",
   "execution_count": 127,
   "metadata": {
    "collapsed": false
   },
   "outputs": [
    {
     "data": {
      "text/plain": [
       "[<matplotlib.axes._subplots.AxesSubplot at 0x7faee4d44410>,\n",
       " <matplotlib.axes._subplots.AxesSubplot at 0x7faee4e3b3d0>]"
      ]
     },
     "execution_count": 127,
     "metadata": {},
     "output_type": "execute_result"
    }
   ],
   "source": [
    "f2.axes"
   ]
  },
  {
   "cell_type": "code",
   "execution_count": 131,
   "metadata": {
    "collapsed": false
   },
   "outputs": [
    {
     "data": {
      "text/plain": [
       "<matplotlib.axes._subplots.AxesSubplot at 0x7faee2f55b90>"
      ]
     },
     "execution_count": 131,
     "metadata": {},
     "output_type": "execute_result"
    },
    {
     "data": {
      "image/png": "[encoded data removed]",
      "text/plain": [
       "<matplotlib.figure.Figure at 0x7faee2e726d0>"
      ]
     },
     "metadata": {},
     "output_type": "display_data"
    }
   ],
   "source": [
    "f3 = plt.figure()\n",
    "\n",
    "f3.add_subplot(222)\n",
    "f3.add_subplot(224)\n"
   ]
  },
  {
   "cell_type": "markdown",
   "metadata": {},
   "source": [
    "### Una aplicacion mas o menos bonita de Matplotlib"
   ]
  },
  {
   "cell_type": "code",
   "execution_count": 84,
   "metadata": {
    "collapsed": false
   },
   "outputs": [],
   "source": [
    "df5['Hour'] = df5['DepDateTime'].map(lambda dt: dt.hour)"
   ]
  },
  {
   "cell_type": "code",
   "execution_count": 94,
   "metadata": {
    "collapsed": false
   },
   "outputs": [
    {
     "data": {
      "text/plain": [
       "<matplotlib.collections.PathCollection at 0x7efdc4ff48d0>"
      ]
     },
     "execution_count": 94,
     "metadata": {},
     "output_type": "execute_result"
    },
    {
     "data": {
      "image/png": "[encoded data removed]",
      "text/plain": [
       "<matplotlib.figure.Figure at 0x7efdc4ff4910>"
      ]
     },
     "metadata": {},
     "output_type": "display_data"
    }
   ],
   "source": [
    "f, ax = plt.subplots()\n",
    "\n",
    "ax.scatter(df5['Hour'], df['DepDelay'])"
   ]
  },
  {
   "cell_type": "code",
   "execution_count": 79,
   "metadata": {
    "collapsed": true
   },
   "outputs": [],
   "source": [
    "plt.boxplot?"
   ]
  },
  {
   "cell_type": "code",
   "execution_count": 86,
   "metadata": {
    "collapsed": false,
    "scrolled": true
   },
   "outputs": [],
   "source": [
    "by_hour = df5.groupby('Hour')['DepDelay']"
   ]
  },
  {
   "cell_type": "code",
   "execution_count": 87,
   "metadata": {
    "collapsed": false,
    "scrolled": true
   },
   "outputs": [
    {
     "name": "stdout",
     "output_type": "stream",
     "text": [
      "0\n",
      "<class 'pandas.core.series.Series'>\n",
      "1\n",
      "<class 'pandas.core.series.Series'>\n",
      "2\n",
      "<class 'pandas.core.series.Series'>\n",
      "3\n",
      "<class 'pandas.core.series.Series'>\n",
      "4\n",
      "<class 'pandas.core.series.Series'>\n",
      "5\n",
      "<class 'pandas.core.series.Series'>\n",
      "6\n",
      "<class 'pandas.core.series.Series'>\n",
      "7\n",
      "<class 'pandas.core.series.Series'>\n",
      "8\n",
      "<class 'pandas.core.series.Series'>\n",
      "9\n",
      "<class 'pandas.core.series.Series'>\n",
      "10\n",
      "<class 'pandas.core.series.Series'>\n",
      "11\n",
      "<class 'pandas.core.series.Series'>\n",
      "12\n",
      "<class 'pandas.core.series.Series'>\n",
      "13\n",
      "<class 'pandas.core.series.Series'>\n",
      "14\n",
      "<class 'pandas.core.series.Series'>\n",
      "15\n",
      "<class 'pandas.core.series.Series'>\n",
      "16\n",
      "<class 'pandas.core.series.Series'>\n",
      "17\n",
      "<class 'pandas.core.series.Series'>\n",
      "18\n",
      "<class 'pandas.core.series.Series'>\n",
      "19\n",
      "<class 'pandas.core.series.Series'>\n",
      "20\n",
      "<class 'pandas.core.series.Series'>\n",
      "21\n",
      "<class 'pandas.core.series.Series'>\n",
      "22\n",
      "<class 'pandas.core.series.Series'>\n",
      "23\n",
      "<class 'pandas.core.series.Series'>\n"
     ]
    }
   ],
   "source": [
    "for h, g in by_hour:\n",
    "    print(h)\n",
    "    print(type(g))\n"
   ]
  },
  {
   "cell_type": "code",
   "execution_count": 89,
   "metadata": {
    "collapsed": true
   },
   "outputs": [],
   "source": [
    "hours = []\n",
    "groups = []\n",
    "\n",
    "for h, g in by_hour:\n",
    "    \n",
    "    hours.append(h)\n",
    "    groups.append(g)"
   ]
  },
  {
   "cell_type": "code",
   "execution_count": 90,
   "metadata": {
    "collapsed": false
   },
   "outputs": [
    {
     "data": {
      "text/plain": [
       "152    NaN\n",
       "381    NaN\n",
       "404    NaN\n",
       "699    NaN\n",
       "748    NaN\n",
       "789    NaN\n",
       "827     42\n",
       "923    NaN\n",
       "945    NaN\n",
       "948    146\n",
       "Name: DepDelay, dtype: float64"
      ]
     },
     "execution_count": 90,
     "metadata": {},
     "output_type": "execute_result"
    }
   ],
   "source": [
    "groups[0][:10]"
   ]
  },
  {
   "cell_type": "code",
   "execution_count": 161,
   "metadata": {
    "collapsed": true
   },
   "outputs": [],
   "source": [
    "plt.boxplot?"
   ]
  },
  {
   "cell_type": "code",
   "execution_count": 91,
   "metadata": {
    "collapsed": false,
    "scrolled": true
   },
   "outputs": [
    {
     "name": "stderr",
     "output_type": "stream",
     "text": [
      "/home/dsc/anaconda2/lib/python2.7/site-packages/numpy/lib/function_base.py:3403: RuntimeWarning: Invalid value encountered in median\n",
      "  RuntimeWarning)\n"
     ]
    },
    {
     "data": {
      "text/plain": [
       "{'boxes': [<matplotlib.lines.Line2D at 0x7efdd6b0be50>,\n",
       "  <matplotlib.lines.Line2D at 0x7efdd6b2e6d0>,\n",
       "  <matplotlib.lines.Line2D at 0x7efdd6ad1310>,\n",
       "  <matplotlib.lines.Line2D at 0x7efdd6ae9f10>,\n",
       "  <matplotlib.lines.Line2D at 0x7efdd6a83a90>,\n",
       "  <matplotlib.lines.Line2D at 0x7efdd6aa76d0>,\n",
       "  <matplotlib.lines.Line2D at 0x7efdd6a49310>,\n",
       "  <matplotlib.lines.Line2D at 0x7efdd6a61f10>,\n",
       "  <matplotlib.lines.Line2D at 0x7efdd6a06b50>,\n",
       "  <matplotlib.lines.Line2D at 0x7efdd6a2b790>,\n",
       "  <matplotlib.lines.Line2D at 0x7efdd69ce3d0>,\n",
       "  <matplotlib.lines.Line2D at 0x7efdd69e8fd0>,\n",
       "  <matplotlib.lines.Line2D at 0x7efdd698bc10>,\n",
       "  <matplotlib.lines.Line2D at 0x7efdd69b1850>,\n",
       "  <matplotlib.lines.Line2D at 0x7efdd6952490>,\n",
       "  <matplotlib.lines.Line2D at 0x7efdd696bed0>,\n",
       "  <matplotlib.lines.Line2D at 0x7efdd690fcd0>,\n",
       "  <matplotlib.lines.Line2D at 0x7efdd6932910>,\n",
       "  <matplotlib.lines.Line2D at 0x7efdd68d8550>,\n",
       "  <matplotlib.lines.Line2D at 0x7efdd68fd190>,\n",
       "  <matplotlib.lines.Line2D at 0x7efdd6894d90>,\n",
       "  <matplotlib.lines.Line2D at 0x7efdd68b79d0>,\n",
       "  <matplotlib.lines.Line2D at 0x7efdd685c610>,\n",
       "  <matplotlib.lines.Line2D at 0x7efdd67fe250>],\n",
       " 'caps': [<matplotlib.lines.Line2D at 0x7efdd6b14d50>,\n",
       "  <matplotlib.lines.Line2D at 0x7efdd6b1f3d0>,\n",
       "  <matplotlib.lines.Line2D at 0x7efdd6b39990>,\n",
       "  <matplotlib.lines.Line2D at 0x7efdd6b39fd0>,\n",
       "  <matplotlib.lines.Line2D at 0x7efdd6adc5d0>,\n",
       "  <matplotlib.lines.Line2D at 0x7efdd6adcc10>,\n",
       "  <matplotlib.lines.Line2D at 0x7efdd6b67910>,\n",
       "  <matplotlib.lines.Line2D at 0x7efdd6b4de50>,\n",
       "  <matplotlib.lines.Line2D at 0x7efdd6a8dd50>,\n",
       "  <matplotlib.lines.Line2D at 0x7efdd6a9a3d0>,\n",
       "  <matplotlib.lines.Line2D at 0x7efdd6ab3990>,\n",
       "  <matplotlib.lines.Line2D at 0x7efdd6ab3fd0>,\n",
       "  <matplotlib.lines.Line2D at 0x7efdd6a555d0>,\n",
       "  <matplotlib.lines.Line2D at 0x7efdd6a55c10>,\n",
       "  <matplotlib.lines.Line2D at 0x7efdd6a7a210>,\n",
       "  <matplotlib.lines.Line2D at 0x7efdd6a7a850>,\n",
       "  <matplotlib.lines.Line2D at 0x7efdd6a12e10>,\n",
       "  <matplotlib.lines.Line2D at 0x7efdd6a1f490>,\n",
       "  <matplotlib.lines.Line2D at 0x7efdd6a36a50>,\n",
       "  <matplotlib.lines.Line2D at 0x7efdd69c30d0>,\n",
       "  <matplotlib.lines.Line2D at 0x7efdd69db690>,\n",
       "  <matplotlib.lines.Line2D at 0x7efdd69dbcd0>,\n",
       "  <matplotlib.lines.Line2D at 0x7efdd69802d0>,\n",
       "  <matplotlib.lines.Line2D at 0x7efdd6980910>,\n",
       "  <matplotlib.lines.Line2D at 0x7efdd6998ed0>,\n",
       "  <matplotlib.lines.Line2D at 0x7efdd69a3550>,\n",
       "  <matplotlib.lines.Line2D at 0x7efdd69bcb10>,\n",
       "  <matplotlib.lines.Line2D at 0x7efdd6946190>,\n",
       "  <matplotlib.lines.Line2D at 0x7efdd6960750>,\n",
       "  <matplotlib.lines.Line2D at 0x7efdd6960d90>,\n",
       "  <matplotlib.lines.Line2D at 0x7efdd6902390>,\n",
       "  <matplotlib.lines.Line2D at 0x7efdd69029d0>,\n",
       "  <matplotlib.lines.Line2D at 0x7efdd691af90>,\n",
       "  <matplotlib.lines.Line2D at 0x7efdd6928610>,\n",
       "  <matplotlib.lines.Line2D at 0x7efdd68c0bd0>,\n",
       "  <matplotlib.lines.Line2D at 0x7efdd68cc250>,\n",
       "  <matplotlib.lines.Line2D at 0x7efdd68e4810>,\n",
       "  <matplotlib.lines.Line2D at 0x7efdd68e4e50>,\n",
       "  <matplotlib.lines.Line2D at 0x7efdd6888450>,\n",
       "  <matplotlib.lines.Line2D at 0x7efdd6888a90>,\n",
       "  <matplotlib.lines.Line2D at 0x7efdd68ac090>,\n",
       "  <matplotlib.lines.Line2D at 0x7efdd68ac6d0>,\n",
       "  <matplotlib.lines.Line2D at 0x7efdd6844c90>,\n",
       "  <matplotlib.lines.Line2D at 0x7efdd684e310>,\n",
       "  <matplotlib.lines.Line2D at 0x7efdd68688d0>,\n",
       "  <matplotlib.lines.Line2D at 0x7efdd6868f10>,\n",
       "  <matplotlib.lines.Line2D at 0x7efdd680b510>,\n",
       "  <matplotlib.lines.Line2D at 0x7efdd680bb50>],\n",
       " 'fliers': [<matplotlib.lines.Line2D at 0x7efdd6b2e090>,\n",
       "  <matplotlib.lines.Line2D at 0x7efdd6ac4c90>,\n",
       "  <matplotlib.lines.Line2D at 0x7efdd6ae98d0>,\n",
       "  <matplotlib.lines.Line2D at 0x7efdd6a83450>,\n",
       "  <matplotlib.lines.Line2D at 0x7efdd6aa7090>,\n",
       "  <matplotlib.lines.Line2D at 0x7efdd6abdc90>,\n",
       "  <matplotlib.lines.Line2D at 0x7efdd6a618d0>,\n",
       "  <matplotlib.lines.Line2D at 0x7efdd6a06510>,\n",
       "  <matplotlib.lines.Line2D at 0x7efdd6a2b150>,\n",
       "  <matplotlib.lines.Line2D at 0x7efdd69c3d50>,\n",
       "  <matplotlib.lines.Line2D at 0x7efdd69e8990>,\n",
       "  <matplotlib.lines.Line2D at 0x7efdd698b5d0>,\n",
       "  <matplotlib.lines.Line2D at 0x7efdd69b1210>,\n",
       "  <matplotlib.lines.Line2D at 0x7efdd6946e10>,\n",
       "  <matplotlib.lines.Line2D at 0x7efdd696ba50>,\n",
       "  <matplotlib.lines.Line2D at 0x7efdd690f690>,\n",
       "  <matplotlib.lines.Line2D at 0x7efdd69322d0>,\n",
       "  <matplotlib.lines.Line2D at 0x7efdd68cced0>,\n",
       "  <matplotlib.lines.Line2D at 0x7efdd68f0b10>,\n",
       "  <matplotlib.lines.Line2D at 0x7efdd6894750>,\n",
       "  <matplotlib.lines.Line2D at 0x7efdd68b7390>,\n",
       "  <matplotlib.lines.Line2D at 0x7efdd684ef90>,\n",
       "  <matplotlib.lines.Line2D at 0x7efdd6874bd0>,\n",
       "  <matplotlib.lines.Line2D at 0x7efdd6818810>],\n",
       " 'means': [],\n",
       " 'medians': [<matplotlib.lines.Line2D at 0x7efdd6b1fa10>,\n",
       "  <matplotlib.lines.Line2D at 0x7efdd6ac4650>,\n",
       "  <matplotlib.lines.Line2D at 0x7efdd6ae9290>,\n",
       "  <matplotlib.lines.Line2D at 0x7efdd6bf0d90>,\n",
       "  <matplotlib.lines.Line2D at 0x7efdd6a9aa10>,\n",
       "  <matplotlib.lines.Line2D at 0x7efdd6abd650>,\n",
       "  <matplotlib.lines.Line2D at 0x7efdd6a61290>,\n",
       "  <matplotlib.lines.Line2D at 0x7efdd6a7ae90>,\n",
       "  <matplotlib.lines.Line2D at 0x7efdd6a1fad0>,\n",
       "  <matplotlib.lines.Line2D at 0x7efdd69c3710>,\n",
       "  <matplotlib.lines.Line2D at 0x7efdd69e8350>,\n",
       "  <matplotlib.lines.Line2D at 0x7efdd6980f50>,\n",
       "  <matplotlib.lines.Line2D at 0x7efdd69a3b90>,\n",
       "  <matplotlib.lines.Line2D at 0x7efdd69467d0>,\n",
       "  <matplotlib.lines.Line2D at 0x7efdd696b410>,\n",
       "  <matplotlib.lines.Line2D at 0x7efdd690f050>,\n",
       "  <matplotlib.lines.Line2D at 0x7efdd6928c50>,\n",
       "  <matplotlib.lines.Line2D at 0x7efdd68cc890>,\n",
       "  <matplotlib.lines.Line2D at 0x7efdd68f04d0>,\n",
       "  <matplotlib.lines.Line2D at 0x7efdd6894110>,\n",
       "  <matplotlib.lines.Line2D at 0x7efdd68acd10>,\n",
       "  <matplotlib.lines.Line2D at 0x7efdd684e950>,\n",
       "  <matplotlib.lines.Line2D at 0x7efdd6874590>,\n",
       "  <matplotlib.lines.Line2D at 0x7efdd68181d0>],\n",
       " 'whiskers': [<matplotlib.lines.Line2D at 0x7efdd6b14050>,\n",
       "  <matplotlib.lines.Line2D at 0x7efdd6b14710>,\n",
       "  <matplotlib.lines.Line2D at 0x7efdd6b2ecd0>,\n",
       "  <matplotlib.lines.Line2D at 0x7efdd6b39350>,\n",
       "  <matplotlib.lines.Line2D at 0x7efdd6ad1910>,\n",
       "  <matplotlib.lines.Line2D at 0x7efdd6ad1f50>,\n",
       "  <matplotlib.lines.Line2D at 0x7efdd6af5550>,\n",
       "  <matplotlib.lines.Line2D at 0x7efdd6b75110>,\n",
       "  <matplotlib.lines.Line2D at 0x7efdd6a8d0d0>,\n",
       "  <matplotlib.lines.Line2D at 0x7efdd6a8d710>,\n",
       "  <matplotlib.lines.Line2D at 0x7efdd6aa7cd0>,\n",
       "  <matplotlib.lines.Line2D at 0x7efdd6ab3350>,\n",
       "  <matplotlib.lines.Line2D at 0x7efdd6a49910>,\n",
       "  <matplotlib.lines.Line2D at 0x7efdd6a49f50>,\n",
       "  <matplotlib.lines.Line2D at 0x7efdd6a6f550>,\n",
       "  <matplotlib.lines.Line2D at 0x7efdd6a6fb90>,\n",
       "  <matplotlib.lines.Line2D at 0x7efdd6a12190>,\n",
       "  <matplotlib.lines.Line2D at 0x7efdd6a127d0>,\n",
       "  <matplotlib.lines.Line2D at 0x7efdd6a2bd90>,\n",
       "  <matplotlib.lines.Line2D at 0x7efdd6a36410>,\n",
       "  <matplotlib.lines.Line2D at 0x7efdd69ce9d0>,\n",
       "  <matplotlib.lines.Line2D at 0x7efdd69db050>,\n",
       "  <matplotlib.lines.Line2D at 0x7efdd69f3610>,\n",
       "  <matplotlib.lines.Line2D at 0x7efdd69f3c50>,\n",
       "  <matplotlib.lines.Line2D at 0x7efdd6998250>,\n",
       "  <matplotlib.lines.Line2D at 0x7efdd6998890>,\n",
       "  <matplotlib.lines.Line2D at 0x7efdd69b1e50>,\n",
       "  <matplotlib.lines.Line2D at 0x7efdd69bc4d0>,\n",
       "  <matplotlib.lines.Line2D at 0x7efdd6952a90>,\n",
       "  <matplotlib.lines.Line2D at 0x7efdd6960110>,\n",
       "  <matplotlib.lines.Line2D at 0x7efdd69766d0>,\n",
       "  <matplotlib.lines.Line2D at 0x7efdd6976d10>,\n",
       "  <matplotlib.lines.Line2D at 0x7efdd691a310>,\n",
       "  <matplotlib.lines.Line2D at 0x7efdd691a950>,\n",
       "  <matplotlib.lines.Line2D at 0x7efdd6932f10>,\n",
       "  <matplotlib.lines.Line2D at 0x7efdd68c0590>,\n",
       "  <matplotlib.lines.Line2D at 0x7efdd68d8b50>,\n",
       "  <matplotlib.lines.Line2D at 0x7efdd68e41d0>,\n",
       "  <matplotlib.lines.Line2D at 0x7efdd68fd790>,\n",
       "  <matplotlib.lines.Line2D at 0x7efdd68fddd0>,\n",
       "  <matplotlib.lines.Line2D at 0x7efdd68a13d0>,\n",
       "  <matplotlib.lines.Line2D at 0x7efdd68a1a10>,\n",
       "  <matplotlib.lines.Line2D at 0x7efdd68b7fd0>,\n",
       "  <matplotlib.lines.Line2D at 0x7efdd6844650>,\n",
       "  <matplotlib.lines.Line2D at 0x7efdd685cc10>,\n",
       "  <matplotlib.lines.Line2D at 0x7efdd6868290>,\n",
       "  <matplotlib.lines.Line2D at 0x7efdd67fe850>,\n",
       "  <matplotlib.lines.Line2D at 0x7efdd67fee90>]}"
      ]
     },
     "execution_count": 91,
     "metadata": {},
     "output_type": "execute_result"
    },
    {
     "data": {
      "image/png": "[encoded data removed]",
      "text/plain": [
       "<matplotlib.figure.Figure at 0x7efdd6c4c490>"
      ]
     },
     "metadata": {},
     "output_type": "display_data"
    }
   ],
   "source": [
    "plt.boxplot(groups)"
   ]
  },
  {
   "cell_type": "code",
   "execution_count": 165,
   "metadata": {
    "collapsed": false
   },
   "outputs": [
    {
     "data": {
      "image/png": "[encoded data removed]",
      "text/plain": [
       "<matplotlib.figure.Figure at 0x7faee2557d90>"
      ]
     },
     "metadata": {},
     "output_type": "display_data"
    }
   ],
   "source": [
    "f, ax = plt.subplots(figsize=(10,5))\n",
    "ax.set_ylim(-20, 500)\n",
    "labels = plt.setp(ax, xticklabels=hours)\n",
    "bp = plt.boxplot(groups)"
   ]
  },
  {
   "cell_type": "code",
   "execution_count": 167,
   "metadata": {
    "collapsed": false
   },
   "outputs": [
    {
     "data": {
      "image/png": "[encoded data removed]",
      "text/plain": [
       "<matplotlib.figure.Figure at 0x7faed6953d50>"
      ]
     },
     "metadata": {},
     "output_type": "display_data"
    }
   ],
   "source": [
    "f, ax = plt.subplots(figsize=(10,5))\n",
    "ax.set_ylim(-50, 200)\n",
    "ax.set_xlim(9, 12)\n",
    "labels = plt.setp(ax, xticklabels=hours[8:12])\n",
    "bp = plt.boxplot(groups[8:12])"
   ]
  },
  {
   "cell_type": "code",
   "execution_count": 92,
   "metadata": {
    "collapsed": false
   },
   "outputs": [],
   "source": [
    "import seaborn as sns\n"
   ]
  },
  {
   "cell_type": "code",
   "execution_count": 93,
   "metadata": {
    "collapsed": false
   },
   "outputs": [
    {
     "data": {
      "image/png": "[encoded data removed]",
      "text/plain": [
       "<matplotlib.figure.Figure at 0x7efdc4ff4dd0>"
      ]
     },
     "metadata": {},
     "output_type": "display_data"
    }
   ],
   "source": [
    "f, ax = plt.subplots(figsize=(10,5))\n",
    "ax.set_ylim(-20, 500)\n",
    "labels = plt.setp(ax, xticklabels=hours)\n",
    "bp = plt.boxplot(groups)"
   ]
  },
  {
   "cell_type": "markdown",
   "metadata": {},
   "source": [
    "# Here starts the class of 22-04-2016"
   ]
  },
  {
   "cell_type": "markdown",
   "metadata": {},
   "source": [
    "# Seaborn"
   ]
  },
  {
   "cell_type": "markdown",
   "metadata": {},
   "source": [
    "## univariate distribution"
   ]
  },
  {
   "cell_type": "code",
   "execution_count": 172,
   "metadata": {
    "collapsed": false
   },
   "outputs": [],
   "source": [
    "sns.distplot??"
   ]
  },
  {
   "cell_type": "code",
   "execution_count": 173,
   "metadata": {
    "collapsed": true
   },
   "outputs": [],
   "source": [
    "delays = df5['DepDelay']"
   ]
  },
  {
   "cell_type": "code",
   "execution_count": 174,
   "metadata": {
    "collapsed": false
   },
   "outputs": [
    {
     "data": {
      "text/plain": [
       "pandas.core.series.Series"
      ]
     },
     "execution_count": 174,
     "metadata": {},
     "output_type": "execute_result"
    }
   ],
   "source": [
    "type(delays)"
   ]
  },
  {
   "cell_type": "code",
   "execution_count": 181,
   "metadata": {
    "collapsed": false
   },
   "outputs": [
    {
     "data": {
      "text/plain": [
       "(-20, 300)"
      ]
     },
     "execution_count": 181,
     "metadata": {},
     "output_type": "execute_result"
    },
    {
     "data": {
      "image/png": "[encoded data removed]",
      "text/plain": [
       "<matplotlib.figure.Figure at 0x7faeb6606e90>"
      ]
     },
     "metadata": {},
     "output_type": "display_data"
    }
   ],
   "source": [
    "ax = sns.distplot(delays.dropna(), bins=100, kde=True)\n",
    "ax.set_xlim(-20,300)"
   ]
  },
  {
   "cell_type": "code",
   "execution_count": 186,
   "metadata": {
    "collapsed": false
   },
   "outputs": [
    {
     "data": {
      "text/plain": [
       "(-20, 300)"
      ]
     },
     "execution_count": 186,
     "metadata": {},
     "output_type": "execute_result"
    },
    {
     "data": {
      "image/png": "[encoded data removed]",
      "text/plain": [
       "<matplotlib.figure.Figure at 0x7faeb6024b90>"
      ]
     },
     "metadata": {},
     "output_type": "display_data"
    }
   ],
   "source": [
    "ax = sns.kdeplot(delays.dropna(), bw=0.001)\n",
    "ax.set_xlim(-20,300)"
   ]
  },
  {
   "cell_type": "markdown",
   "metadata": {},
   "source": [
    "## Bivariate distributions"
   ]
  },
  {
   "cell_type": "code",
   "execution_count": 184,
   "metadata": {
    "collapsed": true
   },
   "outputs": [],
   "source": [
    "sns.kdeplot??"
   ]
  },
  {
   "cell_type": "code",
   "execution_count": 188,
   "metadata": {
    "collapsed": true
   },
   "outputs": [],
   "source": [
    "data_to_plot = df5[['DepDelay', 'Distance', 'AirTime']]"
   ]
  },
  {
   "cell_type": "code",
   "execution_count": 189,
   "metadata": {
    "collapsed": false
   },
   "outputs": [
    {
     "data": {
      "text/plain": [
       "<seaborn.axisgrid.PairGrid at 0x7faed68a25d0>"
      ]
     },
     "execution_count": 189,
     "metadata": {},
     "output_type": "execute_result"
    },
    {
     "data": {
      "image/png": "[encoded data removed]",
      "text/plain": [
       "<matplotlib.figure.Figure at 0x7faed68a2f10>"
      ]
     },
     "metadata": {},
     "output_type": "display_data"
    }
   ],
   "source": [
    "sns.pairplot(data_to_plot.dropna())"
   ]
  },
  {
   "cell_type": "code",
   "execution_count": 191,
   "metadata": {
    "collapsed": true
   },
   "outputs": [],
   "source": [
    "subset= df5.sample(10000)\n",
    "data_to_plot = subset[['DepDelay', 'Distance', 'AirTime', 'Carrier']].dropna()"
   ]
  },
  {
   "cell_type": "code",
   "execution_count": 192,
   "metadata": {
    "collapsed": false
   },
   "outputs": [
    {
     "data": {
      "text/plain": [
       "<seaborn.axisgrid.PairGrid at 0x7faeb589b650>"
      ]
     },
     "execution_count": 192,
     "metadata": {},
     "output_type": "execute_result"
    },
    {
     "data": {
      "image/png": "[encoded data removed]",
      "text/plain": [
       "<matplotlib.figure.Figure at 0x7faeb58f21d0>"
      ]
     },
     "metadata": {},
     "output_type": "display_data"
    }
   ],
   "source": [
    "sns.pairplot(data_to_plot, hue='Carrier')"
   ]
  },
  {
   "cell_type": "code",
   "execution_count": 193,
   "metadata": {
    "collapsed": true
   },
   "outputs": [],
   "source": [
    "subset= df5.sample(1000)\n",
    "data_to_plot = subset[['DepDelay', 'Distance']].dropna()"
   ]
  },
  {
   "cell_type": "code",
   "execution_count": 195,
   "metadata": {
    "collapsed": false
   },
   "outputs": [
    {
     "data": {
      "text/plain": [
       "<matplotlib.axes._subplots.AxesSubplot at 0x7faeb47486d0>"
      ]
     },
     "execution_count": 195,
     "metadata": {},
     "output_type": "execute_result"
    },
    {
     "data": {
      "image/png": "[encoded data removed]",
      "text/plain": [
       "<matplotlib.figure.Figure at 0x7faeb551cbd0>"
      ]
     },
     "metadata": {},
     "output_type": "display_data"
    }
   ],
   "source": [
    "sns.regplot(data_to_plot['DepDelay'],data_to_plot['Distance'])"
   ]
  },
  {
   "cell_type": "code",
   "execution_count": 196,
   "metadata": {
    "collapsed": true
   },
   "outputs": [],
   "source": [
    "subset= df5.sample(1000)\n",
    "data_to_plot = subset[['AirTime', 'Distance']].dropna()"
   ]
  },
  {
   "cell_type": "code",
   "execution_count": 197,
   "metadata": {
    "collapsed": false
   },
   "outputs": [
    {
     "data": {
      "text/plain": [
       "<matplotlib.axes._subplots.AxesSubplot at 0x7faed68a2e10>"
      ]
     },
     "execution_count": 197,
     "metadata": {},
     "output_type": "execute_result"
    },
    {
     "data": {
      "image/png": "[encoded data removed]",
      "text/plain": [
       "<matplotlib.figure.Figure at 0x7faeb4975d50>"
      ]
     },
     "metadata": {},
     "output_type": "display_data"
    }
   ],
   "source": [
    "sns.regplot(data_to_plot['AirTime'],data_to_plot['Distance'])"
   ]
  },
  {
   "cell_type": "code",
   "execution_count": 198,
   "metadata": {
    "collapsed": true
   },
   "outputs": [],
   "source": [
    "subset= df5.sample(1000)\n",
    "data_to_plot = subset[['AirTime', 'Distance', 'Carrier']].dropna()"
   ]
  },
  {
   "cell_type": "code",
   "execution_count": 201,
   "metadata": {
    "collapsed": true
   },
   "outputs": [
    {
     "ename": "TypeError",
     "evalue": "lmplot() takes at least 3 arguments (3 given)",
     "output_type": "error",
     "traceback": [
      "\u001b[1;31m---------------------------------------------------------------------------\u001b[0m",
      "\u001b[1;31mTypeError\u001b[0m                                 Traceback (most recent call last)",
      "\u001b[1;32m<ipython-input-201-ee90f23f6955>\u001b[0m in \u001b[0;36m<module>\u001b[1;34m()\u001b[0m\n\u001b[1;32m----> 1\u001b[1;33m \u001b[0msns\u001b[0m\u001b[1;33m.\u001b[0m\u001b[0mlmplot\u001b[0m\u001b[1;33m(\u001b[0m\u001b[0mdata_to_plot\u001b[0m\u001b[1;33m[\u001b[0m\u001b[1;34m'AirTime'\u001b[0m\u001b[1;33m]\u001b[0m\u001b[1;33m,\u001b[0m\u001b[0mdata_to_plot\u001b[0m\u001b[1;33m[\u001b[0m\u001b[1;34m'Distance'\u001b[0m\u001b[1;33m]\u001b[0m\u001b[1;33m,\u001b[0m \u001b[0mrow\u001b[0m\u001b[1;33m=\u001b[0m\u001b[1;34m'Carrier'\u001b[0m\u001b[1;33m)\u001b[0m\u001b[1;33m\u001b[0m\u001b[0m\n\u001b[0m",
      "\u001b[1;31mTypeError\u001b[0m: lmplot() takes at least 3 arguments (3 given)"
     ]
    }
   ],
   "source": [
    "sns.lmplot(data_to_plot['AirTime'],data_to_plot['Distance'], row='Carrier')"
   ]
  },
  {
   "cell_type": "code",
   "execution_count": 202,
   "metadata": {
    "collapsed": true
   },
   "outputs": [],
   "source": [
    "sns.regplot??"
   ]
  },
  {
   "cell_type": "code",
   "execution_count": 212,
   "metadata": {
    "collapsed": false
   },
   "outputs": [
    {
     "data": {
      "text/plain": [
       "(-20, 240)"
      ]
     },
     "execution_count": 212,
     "metadata": {},
     "output_type": "execute_result"
    },
    {
     "data": {
      "image/png": "[encoded data removed]",
      "text/plain": [
       "<matplotlib.figure.Figure at 0x7faeb3b93350>"
      ]
     },
     "metadata": {},
     "output_type": "display_data"
    }
   ],
   "source": [
    "ax = sns.boxplot(x='Hour', y='DepDelay', data=df5, order=range(0,24))\n",
    "ax.set_ylim(-20, 240)"
   ]
  },
  {
   "cell_type": "code",
   "execution_count": 208,
   "metadata": {
    "collapsed": true
   },
   "outputs": [],
   "source": [
    "sns.boxplot?"
   ]
  },
  {
   "cell_type": "code",
   "execution_count": 215,
   "metadata": {
    "collapsed": false
   },
   "outputs": [
    {
     "data": {
      "text/plain": [
       "(-20, 50)"
      ]
     },
     "execution_count": 215,
     "metadata": {},
     "output_type": "execute_result"
    },
    {
     "data": {
      "image/png": "[encoded data removed]",
      "text/plain": [
       "<matplotlib.figure.Figure at 0x7faeb3606b10>"
      ]
     },
     "metadata": {},
     "output_type": "display_data"
    }
   ],
   "source": [
    "ax = sns.violinplot(x='Hour', y='DepDelay', data=df5, order=range(0,24))\n",
    "ax.set_ylim(-20, 50)"
   ]
  },
  {
   "cell_type": "code",
   "execution_count": 221,
   "metadata": {
    "collapsed": false
   },
   "outputs": [
    {
     "data": {
      "text/plain": [
       "(-20, 100)"
      ]
     },
     "execution_count": 221,
     "metadata": {},
     "output_type": "execute_result"
    },
    {
     "data": {
      "image/png": "[encoded data removed]",
      "text/plain": [
       "<matplotlib.figure.Figure at 0x7faeb36e8390>"
      ]
     },
     "metadata": {},
     "output_type": "display_data"
    }
   ],
   "source": [
    "ax = sns.pointplot(x='Hour', y='DepDelay', data=df5, \\\n",
    "                   order=range(0,24), hue='Carrier')\n",
    "ax.set_ylim(-20, 100)"
   ]
  },
  {
   "cell_type": "code",
   "execution_count": null,
   "metadata": {
    "collapsed": true
   },
   "outputs": [],
   "source": []
  },
  {
   "cell_type": "code",
   "execution_count": null,
   "metadata": {
    "collapsed": true
   },
   "outputs": [],
   "source": []
  },
  {
   "cell_type": "code",
   "execution_count": null,
   "metadata": {
    "collapsed": true
   },
   "outputs": [],
   "source": []
  }
 ],
 "metadata": {
  "kernelspec": {
   "display_name": "Python 2",
   "language": "python",
   "name": "python2"
  },
  "language_info": {
   "codemirror_mode": {
    "name": "ipython",
    "version": 2
   },
   "file_extension": ".py",
   "mimetype": "text/x-python",
   "name": "python",
   "nbconvert_exporter": "python",
   "pygments_lexer": "ipython2",
   "version": "2.7.11"
  }
 },
 "nbformat": 4,
 "nbformat_minor": 0
}
