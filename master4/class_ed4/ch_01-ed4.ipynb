{
 "cells": [
  {
   "cell_type": "markdown",
   "metadata": {
    "deletable": true,
    "editable": true
   },
   "source": [
    "# Count the number of lines in Python for each file"
   ]
  },
  {
   "cell_type": "markdown",
   "metadata": {
    "deletable": true,
    "editable": true
   },
   "source": [
    "Make a sample first \n",
    "(Command line can be used also for obtaning the number of lines)"
   ]
  },
  {
   "cell_type": "code",
   "execution_count": 2,
   "metadata": {
    "collapsed": false,
    "deletable": true,
    "editable": true
   },
   "outputs": [
    {
     "name": "stdout",
     "output_type": "stream",
     "text": [
      "/home/dsc/Data/challenge\n"
     ]
    }
   ],
   "source": [
    "cd ~/Data/challenge/\n"
   ]
  },
  {
   "cell_type": "code",
   "execution_count": 3,
   "metadata": {
    "collapsed": false,
    "deletable": true,
    "editable": true
   },
   "outputs": [
    {
     "name": "stdout",
     "output_type": "stream",
     "text": [
      "bookings.csv.bz2  searches.csv.bz2\r\n"
     ]
    }
   ],
   "source": [
    "!ls"
   ]
  },
  {
   "cell_type": "code",
   "execution_count": 4,
   "metadata": {
    "collapsed": false,
    "deletable": true,
    "editable": true
   },
   "outputs": [
    {
     "name": "stdout",
     "output_type": "stream",
     "text": [
      "\n",
      "bzcat: I/O or other error, bailing out.  Possible reason follows.\n",
      "bzcat: Broken pipe\n",
      "\tInput file = bookings.csv.bz2, output file = (stdout)\n",
      "10000 bookings.sample.csv\n"
     ]
    }
   ],
   "source": [
    "!bzcat bookings.csv.bz2 | head -10000 > bookings.sample.csv\n",
    "!wc -l bookings.sample.csv"
   ]
  },
  {
   "cell_type": "code",
   "execution_count": 5,
   "metadata": {
    "collapsed": true,
    "deletable": true,
    "editable": true
   },
   "outputs": [],
   "source": [
    "!bzip2 -f bookings.sample.csv"
   ]
  },
  {
   "cell_type": "code",
   "execution_count": 9,
   "metadata": {
    "collapsed": false,
    "deletable": true,
    "editable": true
   },
   "outputs": [
    {
     "name": "stdout",
     "output_type": "stream",
     "text": [
      "\n",
      "bzcat: I/O or other error, bailing out.  Possible reason follows.\n",
      "bzcat: Broken pipe\n",
      "\tInput file = searches.csv.bz2, output file = (stdout)\n",
      "10000 searches.sample.csv\n"
     ]
    }
   ],
   "source": [
    "!bzcat searches.csv.bz2 | head -10000 > searches.sample.csv\n",
    "!wc -l searches.sample.csv\n",
    "!bzip2 -f searches.sample.csv"
   ]
  },
  {
   "cell_type": "code",
   "execution_count": 10,
   "metadata": {
    "collapsed": false,
    "deletable": true,
    "editable": true
   },
   "outputs": [
    {
     "name": "stdout",
     "output_type": "stream",
     "text": [
      "total 1014612\r\n",
      "-rw-rw-r--. 1 dsc dsc 554970628 Jan  4  2016 bookings.csv.bz2\r\n",
      "-rw-rw-r--  1 dsc dsc    535893 May 19 17:15 bookings.sample.csv.bz2\r\n",
      "-rw-rw-r--. 1 dsc dsc 483188920 Jan  4  2016 searches.csv.bz2\r\n",
      "-rw-rw-r--  1 dsc dsc    244720 May 19 17:20 searches.sample.csv.bz2\r\n"
     ]
    }
   ],
   "source": [
    "!ls -l"
   ]
  },
  {
   "cell_type": "markdown",
   "metadata": {
    "deletable": true,
    "editable": true
   },
   "source": [
    "## 2) getting file size in Python:"
   ]
  },
  {
   "cell_type": "raw",
   "metadata": {
    "deletable": true,
    "editable": true
   },
   "source": [
    "Options:\n",
    "    a) without uncompressing\n",
    "    b) using row uncompressed files (so that we can calculate size of not just bz2 files)"
   ]
  },
  {
   "cell_type": "markdown",
   "metadata": {
    "deletable": true,
    "editable": true
   },
   "source": [
    "#### 2a) Python without uncompressing"
   ]
  },
  {
   "cell_type": "code",
   "execution_count": 11,
   "metadata": {
    "collapsed": true,
    "deletable": true,
    "editable": true
   },
   "outputs": [],
   "source": [
    "import bz2"
   ]
  },
  {
   "cell_type": "code",
   "execution_count": 12,
   "metadata": {
    "collapsed": true,
    "deletable": true,
    "editable": true
   },
   "outputs": [],
   "source": [
    "fileBz2=bz2.BZ2File('./bookings.sample.csv.bz2')"
   ]
  },
  {
   "cell_type": "code",
   "execution_count": 13,
   "metadata": {
    "collapsed": false,
    "deletable": true,
    "editable": true
   },
   "outputs": [
    {
     "name": "stdout",
     "output_type": "stream",
     "text": [
      "./bookings.sample.csv.bz2 has 10000 lines\n"
     ]
    }
   ],
   "source": [
    "k=0\n",
    "for line in fileBz2:\n",
    "    k+=1\n",
    "print \"%s has %d lines\" % (fileBz2.name,k)"
   ]
  },
  {
   "cell_type": "markdown",
   "metadata": {
    "deletable": true,
    "editable": true
   },
   "source": [
    "#### 2b) Python on row uncompressed file"
   ]
  },
  {
   "cell_type": "code",
   "execution_count": 14,
   "metadata": {
    "collapsed": true,
    "deletable": true,
    "editable": true
   },
   "outputs": [
    {
     "name": "stdout",
     "output_type": "stream",
     "text": [
      "\n",
      "bzcat: I/O or other error, bailing out.  Possible reason follows.\n",
      "bzcat: Broken pipe\n",
      "\tInput file = bookings.csv.bz2, output file = (stdout)\n",
      "\n",
      "bzcat: I/O or other error, bailing out.  Possible reason follows.\n",
      "bzcat: Broken pipe\n",
      "\tInput file = searches.csv.bz2, output file = (stdout)\n"
     ]
    }
   ],
   "source": [
    "!bzcat bookings.csv.bz2 | head -10000 > bookings.sample.csv.csv\n",
    "!bzcat searches.csv.bz2 | head -10000 > searches.sample.csv.csv"
   ]
  },
  {
   "cell_type": "code",
   "execution_count": 15,
   "metadata": {
    "collapsed": true,
    "deletable": true,
    "editable": true
   },
   "outputs": [
    {
     "name": "stdout",
     "output_type": "stream",
     "text": [
      "total 1020532\r\n",
      "-rw-rw-r--. 1 dsc dsc 554970628 Jan  4  2016 bookings.csv.bz2\r\n",
      "-rw-rw-r--  1 dsc dsc    535893 May 19 17:15 bookings.sample.csv.bz2\r\n",
      "-rw-rw-r--  1 dsc dsc   4232732 May 19 17:39 bookings.sample.csv.csv\r\n",
      "-rw-rw-r--. 1 dsc dsc 483188920 Jan  4  2016 searches.csv.bz2\r\n",
      "-rw-rw-r--  1 dsc dsc    244720 May 19 17:20 searches.sample.csv.bz2\r\n",
      "-rw-rw-r--  1 dsc dsc   1824927 May 19 17:39 searches.sample.csv.csv\r\n"
     ]
    }
   ],
   "source": [
    "!ls -l"
   ]
  },
  {
   "cell_type": "code",
   "execution_count": 17,
   "metadata": {
    "collapsed": false,
    "deletable": true,
    "editable": true
   },
   "outputs": [
    {
     "name": "stdout",
     "output_type": "stream",
     "text": [
      "./bookings.sample.csv.csv has 10000 lines\n"
     ]
    }
   ],
   "source": [
    "fileName='./bookings.sample.csv.csv'\n",
    "fileB=open(fileName)\n",
    "k=0\n",
    "for line in fileB:\n",
    "    k+=1\n",
    "print \"%s has %d lines\" % (fileName,k)"
   ]
  },
  {
   "cell_type": "code",
   "execution_count": 25,
   "metadata": {
    "collapsed": false,
    "deletable": true,
    "editable": true
   },
   "outputs": [
    {
     "name": "stdout",
     "output_type": "stream",
     "text": [
      "./bookings.sample.csv.csv has 10 lines\n"
     ]
    }
   ],
   "source": [
    "fileName='./bookings.sample.csv.csv'\n",
    "with open(fileName) as file_input:\n",
    "    k=0\n",
    "    for line in file_input:\n",
    "        k+=1\n",
    "        if k==10:\n",
    "            break\n",
    "\n",
    "print \"%s has %d lines\" % (fileName,k)"
   ]
  },
  {
   "cell_type": "code",
   "execution_count": 23,
   "metadata": {
    "collapsed": false,
    "deletable": true,
    "editable": true
   },
   "outputs": [
    {
     "name": "stdout",
     "output_type": "stream",
     "text": [
      "Variable     Type       Data/Info\n",
      "---------------------------------\n",
      "bz2          module     <module 'bz2' from '/home<...>n2.7/lib-dynload/bz2.so'>\n",
      "fileB        file       <open file './bookings.sa<...>de 'r' at 0x7f4f3a2dd930>\n",
      "fileBz2      BZ2File    <bz2.BZ2File object at 0x7f4f3a1c6308>\n",
      "fileName     str        ./bookings.sample.csv.csv\n",
      "file_input   file       <closed file './bookings.<...>de 'r' at 0x7f4f3a2ddc00>\n",
      "k            int        10\n",
      "line         str        2013-03-25 00:00:00^1V   <...>5:29^2^2013^3^NULL     \\n\n"
     ]
    }
   ],
   "source": [
    "%whos"
   ]
  },
  {
   "cell_type": "markdown",
   "metadata": {
    "collapsed": true,
    "deletable": true,
    "editable": true
   },
   "source": [
    "If the file is open inside the \"with\" command it is always closed properly. "
   ]
  },
  {
   "cell_type": "code",
   "execution_count": 32,
   "metadata": {
    "collapsed": false,
    "deletable": true,
    "editable": true
   },
   "outputs": [
    {
     "name": "stdout",
     "output_type": "stream",
     "text": [
      "Cannot convert data\n"
     ]
    }
   ],
   "source": [
    "try:\n",
    "    fileName='./bookings.sample.csv.csv'\n",
    "    with open(fileName) as file_input:\n",
    "        k=0\n",
    "        k=int('fdgfdg')\n",
    "        for line in file_input:\n",
    "            k+=1\n",
    "            if k==10:\n",
    "                break\n",
    "\n",
    "    print \"%s has %d lines\" % (fileName,k)\n",
    "except IOError:\n",
    "    print \"File error\"\n",
    "except ValueError:\n",
    "    print \"Cannot convert data\"   \n",
    "except:\n",
    "    print \"unexcepted error\""
   ]
  },
  {
   "cell_type": "code",
   "execution_count": null,
   "metadata": {
    "collapsed": true,
    "deletable": true,
    "editable": true
   },
   "outputs": [],
   "source": []
  },
  {
   "cell_type": "code",
   "execution_count": 31,
   "metadata": {
    "collapsed": false,
    "deletable": true,
    "editable": true
   },
   "outputs": [
    {
     "ename": "IOError",
     "evalue": "[Errno 2] No such file or directory: './bookidfdsngs.sample.csv.csv'",
     "output_type": "error",
     "traceback": [
      "\u001b[0;31m---------------------------------------------------------------------------\u001b[0m",
      "\u001b[0;31mIOError\u001b[0m                                   Traceback (most recent call last)",
      "\u001b[0;32m<ipython-input-31-4f88b411a0bb>\u001b[0m in \u001b[0;36m<module>\u001b[0;34m()\u001b[0m\n\u001b[1;32m      1\u001b[0m \u001b[0mfileName\u001b[0m\u001b[0;34m=\u001b[0m\u001b[0;34m'./bookidfdsngs.sample.csv.csv'\u001b[0m\u001b[0;34m\u001b[0m\u001b[0m\n\u001b[0;32m----> 2\u001b[0;31m \u001b[0;32mwith\u001b[0m \u001b[0mopen\u001b[0m\u001b[0;34m(\u001b[0m\u001b[0mfileName\u001b[0m\u001b[0;34m)\u001b[0m \u001b[0;32mas\u001b[0m \u001b[0mfile_input\u001b[0m\u001b[0;34m:\u001b[0m\u001b[0;34m\u001b[0m\u001b[0m\n\u001b[0m\u001b[1;32m      3\u001b[0m     \u001b[0mk\u001b[0m\u001b[0;34m=\u001b[0m\u001b[0;36m0\u001b[0m\u001b[0;34m\u001b[0m\u001b[0m\n\u001b[1;32m      4\u001b[0m     \u001b[0;32mfor\u001b[0m \u001b[0mline\u001b[0m \u001b[0;32min\u001b[0m \u001b[0mfile_input\u001b[0m\u001b[0;34m:\u001b[0m\u001b[0;34m\u001b[0m\u001b[0m\n\u001b[1;32m      5\u001b[0m         \u001b[0mk\u001b[0m\u001b[0;34m+=\u001b[0m\u001b[0;36m1\u001b[0m\u001b[0;34m\u001b[0m\u001b[0m\n",
      "\u001b[0;31mIOError\u001b[0m: [Errno 2] No such file or directory: './bookidfdsngs.sample.csv.csv'"
     ]
    }
   ],
   "source": [
    "fileName='./bookidfdsngs.sample.csv.csv'\n",
    "with open(fileName) as file_input:\n",
    "    k=0\n",
    "    for line in file_input:\n",
    "        k+=1\n",
    "        if k==10:\n",
    "            break\n",
    "\n",
    "print \"%s has %d lines\" % (fileName,k)"
   ]
  },
  {
   "cell_type": "code",
   "execution_count": 36,
   "metadata": {
    "collapsed": false,
    "deletable": true,
    "editable": true
   },
   "outputs": [
    {
     "name": "stdout",
     "output_type": "stream",
     "text": [
      "./bookings.sample.csv.csv has 10000 lines\n"
     ]
    }
   ],
   "source": [
    "fileName='./bookings.sample.csv.csv'\n",
    "with open(fileName) as file_input:\n",
    "    for k,line in enumerate(file_input):\n",
    "        pass\n",
    "print \"%s has %d lines\" % (fileName,k+1) "
   ]
  },
  {
   "cell_type": "code",
   "execution_count": null,
   "metadata": {
    "collapsed": true,
    "deletable": true,
    "editable": true
   },
   "outputs": [],
   "source": []
  }
 ],
 "metadata": {
  "kernelspec": {
   "display_name": "Python 2",
   "language": "python",
   "name": "python2"
  },
  "language_info": {
   "codemirror_mode": {
    "name": "ipython",
    "version": 2
   },
   "file_extension": ".py",
   "mimetype": "text/x-python",
   "name": "python",
   "nbconvert_exporter": "python",
   "pygments_lexer": "ipython2",
   "version": "2.7.13"
  }
 },
 "nbformat": 4,
 "nbformat_minor": 0
}
